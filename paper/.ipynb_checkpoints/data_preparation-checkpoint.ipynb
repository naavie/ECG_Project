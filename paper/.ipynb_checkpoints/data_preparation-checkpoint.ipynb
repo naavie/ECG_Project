{
 "cells": [
  {
   "cell_type": "code",
   "execution_count": 1,
   "id": "75f4bc4b-a878-44c1-8b6a-5c5e56156a5b",
   "metadata": {},
   "outputs": [],
   "source": [
    "import pandas as pd\n",
    "\n",
    "import lib.iterstrat\n",
    "import lib.datasets\n",
    "import lib.data_preparation"
   ]
  },
  {
   "cell_type": "code",
   "execution_count": 2,
   "id": "d7b22ab5-614f-474b-9241-b63f41a133c0",
   "metadata": {},
   "outputs": [],
   "source": [
    "CLASS_NUM_THRESHOLD = 150\n",
    "DATASETS = ['ptb_xl', 'ningbo', 'georgia', 'sph', 'code15']\n",
    "NUM_SPLITS = 5\n",
    "SEED = 42"
   ]
  },
  {
   "cell_type": "code",
   "execution_count": 3,
   "id": "ee1fdc41-9075-47a0-b2d6-c396f09b9a15",
   "metadata": {},
   "outputs": [
    {
     "ename": "KeyError",
     "evalue": "'class_name'",
     "output_type": "error",
     "traceback": [
      "\u001b[0;31m---------------------------------------------------------------------------\u001b[0m",
      "\u001b[0;31mKeyError\u001b[0m                                  Traceback (most recent call last)",
      "Cell \u001b[0;32mIn[3], line 7\u001b[0m\n\u001b[1;32m      5\u001b[0m train_classes[\u001b[38;5;124m'\u001b[39m\u001b[38;5;124mclass_name\u001b[39m\u001b[38;5;124m'\u001b[39m]\u001b[38;5;241m.\u001b[39mto_csv(\u001b[38;5;124m'\u001b[39m\u001b[38;5;124mdocs/TRAIN_CLASSES.txt\u001b[39m\u001b[38;5;124m'\u001b[39m, index\u001b[38;5;241m=\u001b[39m\u001b[38;5;28;01mFalse\u001b[39;00m, header\u001b[38;5;241m=\u001b[39m\u001b[38;5;28;01mFalse\u001b[39;00m)\n\u001b[1;32m      6\u001b[0m noteval_classes[\u001b[38;5;124m'\u001b[39m\u001b[38;5;124mclass_name\u001b[39m\u001b[38;5;124m'\u001b[39m]\u001b[38;5;241m.\u001b[39mto_csv(\u001b[38;5;124m'\u001b[39m\u001b[38;5;124mdocs/NOTEVAL_CLASSES.txt\u001b[39m\u001b[38;5;124m'\u001b[39m, index\u001b[38;5;241m=\u001b[39m\u001b[38;5;28;01mFalse\u001b[39;00m, header\u001b[38;5;241m=\u001b[39m\u001b[38;5;28;01mFalse\u001b[39;00m)\n\u001b[0;32m----> 7\u001b[0m \u001b[43mclass_fixing_dict\u001b[49m\u001b[43m[\u001b[49m\u001b[38;5;124;43m'\u001b[39;49m\u001b[38;5;124;43mclass_name\u001b[39;49m\u001b[38;5;124;43m'\u001b[39;49m\u001b[43m]\u001b[49m\u001b[38;5;241m.\u001b[39mto_csv(\u001b[38;5;124m'\u001b[39m\u001b[38;5;124mdocs/ZEROSHOT_CLASSES.txt\u001b[39m\u001b[38;5;124m'\u001b[39m, index\u001b[38;5;241m=\u001b[39m\u001b[38;5;28;01mFalse\u001b[39;00m, header\u001b[38;5;241m=\u001b[39m\u001b[38;5;28;01mFalse\u001b[39;00m)\n",
      "\u001b[0;31mKeyError\u001b[0m: 'class_name'"
     ]
    }
   ],
   "source": [
    "class_df = pd.read_csv('docs/experiment_classes.csv')\n",
    "train_classes, noteval_classes, zeroshot_classes, class_fixing_dict = lib.data_preparation.fix_names(class_df, datasets=DATASETS, threshold=CLASS_NUM_THRESHOLD)\n",
    "strat_targets = train_classes['class_name'].to_list() + zeroshot_classes['class_name'].to_list()\n",
    "\n",
    "train_classes['class_name'].to_csv('docs/TRAIN_CLASSES.txt', index=False, header=False)\n",
    "noteval_classes['class_name'].to_csv('docs/NOTEVAL_CLASSES.txt', index=False, header=False)\n",
    "zeroshot_classes['class_name'].to_csv('docs/ZEROSHOT_CLASSES.txt', index=False, header=False)"
   ]
  },
  {
   "cell_type": "code",
   "execution_count": null,
   "id": "1a9626e2-7e5a-4ac2-bf88-895c7e1a9f6a",
   "metadata": {},
   "outputs": [],
   "source": [
    "for ds in DATASETS:\n",
    "    __import__(f'lib.datasets.{ds}')\n",
    "    df = lib.datasets.__dict__[ds].load_df()\n",
    "    df['dataset'] = ds\n",
    "    df['patient_id'] = df['dataset'] + '_' + df['patient_id'].apply(str)\n",
    "    df = lib.data_preparation.prepare_df(df, train_classes, zeroshot_classes, class_fixing_dict)\n",
    "    df['fold'] = lib.iterstrat.short_valid_split(df, strat_targets, SEED, split=NUM_SPLITS)\n",
    "    df[['dataset', 'ecg_file', 'patient_id', 'fold', 'label', 'fixed_label', 'train_label']].to_csv(f'docs/{ds}.csv', index=False)"
   ]
  },
  {
   "cell_type": "code",
   "execution_count": null,
   "id": "247ad7f6-e66f-47ac-8509-0cd09ab6d858",
   "metadata": {},
   "outputs": [],
   "source": []
  },
  {
   "cell_type": "code",
   "execution_count": null,
   "id": "68433b38-d73b-46f6-97e3-38fb7a0e5e65",
   "metadata": {},
   "outputs": [],
   "source": []
  },
  {
   "cell_type": "code",
   "execution_count": null,
   "id": "e6d1de8f-1517-43e5-94ff-a410c49a998b",
   "metadata": {},
   "outputs": [],
   "source": []
  }
 ],
 "metadata": {
  "kernelspec": {
   "display_name": "Python 3 (ipykernel)",
   "language": "python",
   "name": "python3"
  },
  "language_info": {
   "codemirror_mode": {
    "name": "ipython",
    "version": 3
   },
   "file_extension": ".py",
   "mimetype": "text/x-python",
   "name": "python",
   "nbconvert_exporter": "python",
   "pygments_lexer": "ipython3",
   "version": "3.10.11"
  }
 },
 "nbformat": 4,
 "nbformat_minor": 5
}
