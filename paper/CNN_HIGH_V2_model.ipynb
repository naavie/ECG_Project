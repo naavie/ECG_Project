{
 "cells": [
  {
   "cell_type": "code",
   "execution_count": 1,
   "id": "cf4a7031-37ff-4242-b792-fbfd7a0de2b0",
   "metadata": {},
   "outputs": [],
   "source": [
    "import lib.utils\n",
    "import lib.experiments"
   ]
  },
  {
   "cell_type": "code",
   "execution_count": 2,
   "id": "6e091cf2-0c84-47f2-b88b-17e2dad46e87",
   "metadata": {},
   "outputs": [],
   "source": [
    "config = lib.utils.CFG({})\n",
    "config.seed = 43\n",
    "config.cache_path = 'cache'\n",
    "config.logs_path = 'results'\n",
    "config.models_path = 'results'\n",
    "config.test_size = 0.2\n",
    "config.valid_size = 0.25\n",
    "config.min_class_count = 200\n",
    "config.batch_size = 256\n",
    "config.num_workers = 12\n",
    "config.ecg_sr = 128\n",
    "config.window = 1280\n",
    "config.text_embedding_size = 768\n",
    "config.projection_dim = 256\n",
    "config.dropout = 0.15\n",
    "config.pretrained = True\n",
    "config.text_encoder_model = 'emilyalsentzer/Bio_ClinicalBERT'\n",
    "config.text_tokenizer = 'emilyalsentzer/Bio_ClinicalBERT'\n",
    "config.temperature = 10.0\n",
    "config.head_lr = 0.0001\n",
    "config.image_encoder_lr = 0.001\n",
    "config.device = 'cuda:3'\n",
    "config.epochs = 30\n",
    "config.max_length = 200\n",
    "config.ecg_encoder_model = 'ECGConvEncoder_v2'\n",
    "config.ecg_encoder_channels = [64, 64, 128, 128, 256, 256, 512, 512, 512]\n",
    "config.ecg_encoder_kernels = [7, 7, 5, 5, 3, 3, 3, 3, 1]\n",
    "config.ecg_linear_size = 512\n",
    "config.ecg_embedding_size = 512\n",
    "config.ecg_channels = 12\n",
    "config.normal_class = 'normal ecg'\n",
    "config.excluded_classes = []\n",
    "config.zero_shot_classes_size = 0.4\n",
    "config.test_datasets = ['sph', 'code15']"
   ]
  },
  {
   "cell_type": "code",
   "execution_count": 3,
   "id": "35b775fd-43c7-4a80-820d-9721d12ae96e",
   "metadata": {},
   "outputs": [],
   "source": [
    "seeds = [42, 43, 44, 45, 46]\n",
    "datasets = [['ptb_xl'], ['ptb_xl', 'ningbo'], ['ptb_xl', 'ningbo', 'georgia']]"
   ]
  },
  {
   "cell_type": "code",
   "execution_count": null,
   "id": "facc8e68-1839-4c82-9e71-bc982dc74364",
   "metadata": {},
   "outputs": [
    {
     "name": "stdout",
     "output_type": "stream",
     "text": [
      "8ed435a5ecca\n",
      "Train/valid/test classes counts: 22 6 6 5\n"
     ]
    },
    {
     "name": "stderr",
     "output_type": "stream",
     "text": [
      "100%|█████████████████████████████████████████████████████████████████████████████████████████████████████████████████████| 13101/13101 [00:02<00:00, 6462.88it/s]\n",
      "100%|███████████████████████████████████████████████████████████████████████████████████████████████████████████████████████| 4368/4368 [00:00<00:00, 8255.01it/s]\n"
     ]
    },
    {
     "name": "stdout",
     "output_type": "stream",
     "text": [
      "Epoch: 1\n"
     ]
    },
    {
     "name": "stderr",
     "output_type": "stream",
     "text": [
      "100%|██████████████████████████████████████████████████████████████████████████████████████| 52/52 [00:28<00:00,  1.84it/s, train_accuracy=0.351, train_loss=5.16]\n",
      "100%|█████████████████████████████████████████████████████████████████████████████████████████████████████████████████████████████| 52/52 [00:20<00:00,  2.49it/s]\n"
     ]
    },
    {
     "name": "stdout",
     "output_type": "stream",
     "text": [
      "Train: 0.5445038454969637 0.11444742751730597\n"
     ]
    },
    {
     "name": "stderr",
     "output_type": "stream",
     "text": [
      "100%|█████████████████████████████████████████████████████████████████████████████████████████████████████████████████████████████| 18/18 [00:07<00:00,  2.35it/s]\n"
     ]
    },
    {
     "name": "stdout",
     "output_type": "stream",
     "text": [
      "Valid: 0.6448481076187003 0.2905678236685501\n",
      "Epoch: 2\n"
     ]
    },
    {
     "name": "stderr",
     "output_type": "stream",
     "text": [
      "100%|██████████████████████████████████████████████████████████████████████████████████████| 52/52 [00:24<00:00,  2.12it/s, train_accuracy=0.438, train_loss=4.69]\n",
      "100%|█████████████████████████████████████████████████████████████████████████████████████████████████████████████████████████████| 52/52 [00:21<00:00,  2.45it/s]\n"
     ]
    },
    {
     "name": "stdout",
     "output_type": "stream",
     "text": [
      "Train: 0.6921000995581533 0.21346750376783474\n"
     ]
    },
    {
     "name": "stderr",
     "output_type": "stream",
     "text": [
      "100%|█████████████████████████████████████████████████████████████████████████████████████████████████████████████████████████████| 18/18 [00:08<00:00,  2.24it/s]\n"
     ]
    },
    {
     "name": "stdout",
     "output_type": "stream",
     "text": [
      "Valid: 0.823181006850073 0.4870604881480758\n",
      "Epoch: 3\n"
     ]
    },
    {
     "name": "stderr",
     "output_type": "stream",
     "text": [
      "100%|██████████████████████████████████████████████████████████████████████████████████████| 52/52 [00:24<00:00,  2.10it/s, train_accuracy=0.485, train_loss=4.52]\n",
      "100%|█████████████████████████████████████████████████████████████████████████████████████████████████████████████████████████████| 52/52 [00:21<00:00,  2.44it/s]\n"
     ]
    },
    {
     "name": "stdout",
     "output_type": "stream",
     "text": [
      "Train: 0.7134774003380453 0.22555712793275717\n"
     ]
    },
    {
     "name": "stderr",
     "output_type": "stream",
     "text": [
      "100%|█████████████████████████████████████████████████████████████████████████████████████████████████████████████████████████████| 18/18 [00:07<00:00,  2.30it/s]\n"
     ]
    },
    {
     "name": "stdout",
     "output_type": "stream",
     "text": [
      "Valid: 0.833943591712034 0.4930444955638798\n",
      "Epoch: 4\n"
     ]
    },
    {
     "name": "stderr",
     "output_type": "stream",
     "text": [
      "100%|███████████████████████████████████████████████████████████████████████████████████████| 52/52 [00:24<00:00,  2.12it/s, train_accuracy=0.49, train_loss=4.37]\n",
      "100%|█████████████████████████████████████████████████████████████████████████████████████████████████████████████████████████████| 52/52 [00:20<00:00,  2.48it/s]\n"
     ]
    },
    {
     "name": "stdout",
     "output_type": "stream",
     "text": [
      "Train: 0.6836956642555745 0.24021848398787585\n"
     ]
    },
    {
     "name": "stderr",
     "output_type": "stream",
     "text": [
      "100%|█████████████████████████████████████████████████████████████████████████████████████████████████████████████████████████████| 18/18 [00:07<00:00,  2.33it/s]\n"
     ]
    },
    {
     "name": "stdout",
     "output_type": "stream",
     "text": [
      "Valid: 0.8224106628533895 0.5440441707475353\n",
      "Epoch: 5\n"
     ]
    },
    {
     "name": "stderr",
     "output_type": "stream",
     "text": [
      "100%|██████████████████████████████████████████████████████████████████████████████████████| 52/52 [00:25<00:00,  2.04it/s, train_accuracy=0.495, train_loss=4.24]\n",
      "100%|█████████████████████████████████████████████████████████████████████████████████████████████████████████████████████████████| 52/52 [00:21<00:00,  2.37it/s]\n"
     ]
    },
    {
     "name": "stdout",
     "output_type": "stream",
     "text": [
      "Train: 0.584405771001652 0.16801128295650483\n"
     ]
    },
    {
     "name": "stderr",
     "output_type": "stream",
     "text": [
      "100%|█████████████████████████████████████████████████████████████████████████████████████████████████████████████████████████████| 18/18 [00:08<00:00,  2.11it/s]\n"
     ]
    },
    {
     "name": "stdout",
     "output_type": "stream",
     "text": [
      "Valid: 0.6865856892720353 0.33558906538761013\n",
      "Epoch: 6\n"
     ]
    },
    {
     "name": "stderr",
     "output_type": "stream",
     "text": [
      "100%|██████████████████████████████████████████████████████████████████████████████████████| 52/52 [00:25<00:00,  2.00it/s, train_accuracy=0.527, train_loss=4.14]\n",
      "100%|█████████████████████████████████████████████████████████████████████████████████████████████████████████████████████████████| 52/52 [00:21<00:00,  2.40it/s]\n"
     ]
    },
    {
     "name": "stdout",
     "output_type": "stream",
     "text": [
      "Train: 0.6791381388588982 0.2731416878146722\n"
     ]
    },
    {
     "name": "stderr",
     "output_type": "stream",
     "text": [
      "100%|█████████████████████████████████████████████████████████████████████████████████████████████████████████████████████████████| 18/18 [00:08<00:00,  2.10it/s]\n"
     ]
    },
    {
     "name": "stdout",
     "output_type": "stream",
     "text": [
      "Valid: 0.796659090071175 0.5080694139032063\n",
      "Epoch: 7\n"
     ]
    },
    {
     "name": "stderr",
     "output_type": "stream",
     "text": [
      "100%|██████████████████████████████████████████████████████████████████████████████████████| 52/52 [00:24<00:00,  2.14it/s, train_accuracy=0.537, train_loss=4.03]\n",
      "100%|█████████████████████████████████████████████████████████████████████████████████████████████████████████████████████████████| 52/52 [00:19<00:00,  2.60it/s]\n"
     ]
    },
    {
     "name": "stdout",
     "output_type": "stream",
     "text": [
      "Train: 0.6522201017691349 0.25293395449586115\n"
     ]
    },
    {
     "name": "stderr",
     "output_type": "stream",
     "text": [
      "100%|█████████████████████████████████████████████████████████████████████████████████████████████████████████████████████████████| 18/18 [00:06<00:00,  2.89it/s]\n"
     ]
    },
    {
     "name": "stdout",
     "output_type": "stream",
     "text": [
      "Valid: 0.7475208607139535 0.433608269227536\n",
      "Epoch: 8\n"
     ]
    },
    {
     "name": "stderr",
     "output_type": "stream",
     "text": [
      "100%|███████████████████████████████████████████████████████████████████████████████████████| 52/52 [00:22<00:00,  2.30it/s, train_accuracy=0.56, train_loss=3.95]\n",
      " 62%|████████████████████████████████████████████████████████████████████████████▉                                                | 32/52 [00:12<00:06,  2.90it/s]"
     ]
    }
   ],
   "source": [
    "for seed in seeds:\n",
    "    for dataset in datasets:\n",
    "        config.seed = seed\n",
    "        config.train_datasets = dataset\n",
    "        config.name = lib.utils.generate_dict_hash({k:v for k, v in config.__dict__.items() if not k.startswith('__')})\n",
    "        print(config.name)\n",
    "        lib.experiments.run_experiments(config)"
   ]
  },
  {
   "cell_type": "code",
   "execution_count": null,
   "id": "7a0da4a0-2833-4479-a7a1-5cdd6836c61c",
   "metadata": {},
   "outputs": [],
   "source": []
  },
  {
   "cell_type": "code",
   "execution_count": null,
   "id": "e6915600-eebf-41eb-acea-7075eaac3b9f",
   "metadata": {},
   "outputs": [],
   "source": []
  }
 ],
 "metadata": {
  "kernelspec": {
   "display_name": "Python 3 (ipykernel)",
   "language": "python",
   "name": "python3"
  },
  "language_info": {
   "codemirror_mode": {
    "name": "ipython",
    "version": 3
   },
   "file_extension": ".py",
   "mimetype": "text/x-python",
   "name": "python",
   "nbconvert_exporter": "python",
   "pygments_lexer": "ipython3",
   "version": "3.10.11"
  }
 },
 "nbformat": 4,
 "nbformat_minor": 5
}
