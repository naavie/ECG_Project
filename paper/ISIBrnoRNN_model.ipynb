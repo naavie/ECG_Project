{
 "cells": [
  {
   "cell_type": "code",
   "execution_count": 1,
   "id": "cf4a7031-37ff-4242-b792-fbfd7a0de2b0",
   "metadata": {},
   "outputs": [],
   "source": [
    "import pandas as pd\n",
    "\n",
    "import lib.utils\n",
    "import lib.experiments_v2"
   ]
  },
  {
   "cell_type": "code",
   "execution_count": 2,
   "id": "6e091cf2-0c84-47f2-b88b-17e2dad46e87",
   "metadata": {},
   "outputs": [],
   "source": [
    "config = lib.utils.CFG({})\n",
    "config.seed = 42\n",
    "config.cache_path = 'cache'\n",
    "config.logs_path = 'results'\n",
    "config.models_path = 'results'\n",
    "config.batch_size = 256\n",
    "config.num_workers = 12\n",
    "config.ecg_sr = 128\n",
    "config.window = 1280\n",
    "config.text_embedding_size = 768\n",
    "config.projection_dim = 256\n",
    "config.dropout = 0.15\n",
    "config.pretrained = True\n",
    "config.text_encoder_model = 'emilyalsentzer/Bio_ClinicalBERT'\n",
    "config.text_tokenizer = 'emilyalsentzer/Bio_ClinicalBERT'\n",
    "config.temperature = 10.0\n",
    "config.head_lr = 0.0001\n",
    "config.image_encoder_lr = 0.001\n",
    "config.device = 'cuda:3'\n",
    "config.epochs = 50\n",
    "config.max_length = 200\n",
    "config.ecg_encoder_model = 'RNN_model'\n",
    "config.ecg_embedding_size = 512\n",
    "config.ecg_channels = 12\n",
    "config.normal_class = 'normal ecg'\n",
    "config.test_datasets = ['sph', 'code15']\n",
    "config.train_classes = pd.read_csv('docs/TRAIN_CLASSES.txt', header=None)[0].to_list()\n",
    "config.noteval_classes = pd.read_csv('docs/NOTEVAL_CLASSES.txt', header=None)[0].to_list()\n",
    "config.zeroshot_classes = pd.read_csv('docs/ZEROSHOT_CLASSES.txt', header=None)[0].to_list()"
   ]
  },
  {
   "cell_type": "code",
   "execution_count": 3,
   "id": "35b775fd-43c7-4a80-820d-9721d12ae96e",
   "metadata": {},
   "outputs": [],
   "source": [
    "datasets = [['ptb_xl'], ['ptb_xl', 'ningbo'], ['ptb_xl', 'ningbo', 'georgia']]\n",
    "num_folds = 5"
   ]
  },
  {
   "cell_type": "code",
   "execution_count": null,
   "id": "facc8e68-1839-4c82-9e71-bc982dc74364",
   "metadata": {},
   "outputs": [
    {
     "name": "stdout",
     "output_type": "stream",
     "text": [
      "ca878faf631a\n",
      "Train size: 13129. Number of patients: 13129\n",
      "Valid size: 4350. Number of patients: 4350\n",
      "Test size: 4358. Number of patients: 4358\n"
     ]
    },
    {
     "name": "stderr",
     "output_type": "stream",
     "text": [
      "100%|███████████████████████████████████| 13129/13129 [00:02<00:00, 6175.46it/s]\n",
      "100%|█████████████████████████████████████| 4350/4350 [00:00<00:00, 7944.66it/s]\n"
     ]
    },
    {
     "name": "stdout",
     "output_type": "stream",
     "text": [
      "Epoch: 1\n"
     ]
    },
    {
     "name": "stderr",
     "output_type": "stream",
     "text": [
      "100%|████| 52/52 [01:37<00:00,  1.88s/it, train_accuracy=0.101, train_loss=5.21]\n",
      "100%|███████████████████████████████████████████| 52/52 [00:58<00:00,  1.12s/it]\n"
     ]
    },
    {
     "name": "stdout",
     "output_type": "stream",
     "text": [
      "Train: 0.6314026574974589 0.1313951365058364\n"
     ]
    },
    {
     "name": "stderr",
     "output_type": "stream",
     "text": [
      "100%|███████████████████████████████████████████| 17/17 [00:20<00:00,  1.19s/it]\n"
     ]
    },
    {
     "name": "stdout",
     "output_type": "stream",
     "text": [
      "Valid: 0.6368792987841367 0.13248150912449644\n",
      "Epoch: 2\n"
     ]
    },
    {
     "name": "stderr",
     "output_type": "stream",
     "text": [
      "100%|████| 52/52 [01:28<00:00,  1.69s/it, train_accuracy=0.209, train_loss=4.87]\n",
      "100%|███████████████████████████████████████████| 52/52 [00:58<00:00,  1.12s/it]\n"
     ]
    },
    {
     "name": "stdout",
     "output_type": "stream",
     "text": [
      "Train: 0.5669150564991111 0.1143033326643118\n"
     ]
    },
    {
     "name": "stderr",
     "output_type": "stream",
     "text": [
      "100%|███████████████████████████████████████████| 17/17 [00:21<00:00,  1.27s/it]\n"
     ]
    },
    {
     "name": "stdout",
     "output_type": "stream",
     "text": [
      "Valid: 0.576293389048404 0.11409241306637137\n",
      "Epoch: 3\n"
     ]
    },
    {
     "name": "stderr",
     "output_type": "stream",
     "text": [
      "100%|████| 52/52 [01:26<00:00,  1.66s/it, train_accuracy=0.243, train_loss=4.69]\n",
      "100%|███████████████████████████████████████████| 52/52 [00:59<00:00,  1.14s/it]\n"
     ]
    },
    {
     "name": "stdout",
     "output_type": "stream",
     "text": [
      "Train: 0.6322770666731853 0.18544287949491678\n"
     ]
    },
    {
     "name": "stderr",
     "output_type": "stream",
     "text": [
      "100%|███████████████████████████████████████████| 17/17 [00:20<00:00,  1.23s/it]\n"
     ]
    },
    {
     "name": "stdout",
     "output_type": "stream",
     "text": [
      "Valid: 0.6303115177093899 0.1900335864722373\n",
      "Epoch: 4\n"
     ]
    },
    {
     "name": "stderr",
     "output_type": "stream",
     "text": [
      "100%|████| 52/52 [01:26<00:00,  1.67s/it, train_accuracy=0.273, train_loss=4.56]\n",
      "100%|███████████████████████████████████████████| 52/52 [00:59<00:00,  1.15s/it]\n"
     ]
    },
    {
     "name": "stdout",
     "output_type": "stream",
     "text": [
      "Train: 0.6630935144516327 0.2093770762356014\n"
     ]
    },
    {
     "name": "stderr",
     "output_type": "stream",
     "text": [
      "100%|███████████████████████████████████████████| 17/17 [00:21<00:00,  1.25s/it]\n"
     ]
    },
    {
     "name": "stdout",
     "output_type": "stream",
     "text": [
      "Valid: 0.6643527626289137 0.2138868934389813\n",
      "Epoch: 5\n"
     ]
    },
    {
     "name": "stderr",
     "output_type": "stream",
     "text": [
      "100%|████| 52/52 [01:27<00:00,  1.68s/it, train_accuracy=0.303, train_loss=4.45]\n",
      "100%|███████████████████████████████████████████| 52/52 [00:59<00:00,  1.14s/it]\n"
     ]
    },
    {
     "name": "stdout",
     "output_type": "stream",
     "text": [
      "Train: 0.6239597220061228 0.18627296799962073\n"
     ]
    },
    {
     "name": "stderr",
     "output_type": "stream",
     "text": [
      "100%|███████████████████████████████████████████| 17/17 [00:21<00:00,  1.26s/it]\n"
     ]
    },
    {
     "name": "stdout",
     "output_type": "stream",
     "text": [
      "Valid: 0.6255966801423029 0.18950372757302314\n",
      "Epoch: 6\n"
     ]
    },
    {
     "name": "stderr",
     "output_type": "stream",
     "text": [
      "100%|████| 52/52 [01:28<00:00,  1.70s/it, train_accuracy=0.323, train_loss=4.39]\n",
      "100%|███████████████████████████████████████████| 52/52 [00:58<00:00,  1.12s/it]\n"
     ]
    },
    {
     "name": "stdout",
     "output_type": "stream",
     "text": [
      "Train: 0.6616625809558866 0.1974896968330142\n"
     ]
    },
    {
     "name": "stderr",
     "output_type": "stream",
     "text": [
      "100%|███████████████████████████████████████████| 17/17 [00:21<00:00,  1.25s/it]\n"
     ]
    },
    {
     "name": "stdout",
     "output_type": "stream",
     "text": [
      "Valid: 0.6644697946899848 0.19706384678365824\n",
      "Epoch: 7\n"
     ]
    },
    {
     "name": "stderr",
     "output_type": "stream",
     "text": [
      "100%|████| 52/52 [01:26<00:00,  1.67s/it, train_accuracy=0.335, train_loss=4.31]\n",
      "100%|███████████████████████████████████████████| 52/52 [00:58<00:00,  1.13s/it]\n"
     ]
    },
    {
     "name": "stdout",
     "output_type": "stream",
     "text": [
      "Train: 0.6389450904094006 0.18392698216032724\n"
     ]
    },
    {
     "name": "stderr",
     "output_type": "stream",
     "text": [
      "100%|███████████████████████████████████████████| 17/17 [00:20<00:00,  1.23s/it]\n"
     ]
    },
    {
     "name": "stdout",
     "output_type": "stream",
     "text": [
      "Valid: 0.6353044170988457 0.18584996958237116\n",
      "Epoch: 8\n"
     ]
    },
    {
     "name": "stderr",
     "output_type": "stream",
     "text": [
      "100%|████| 52/52 [01:26<00:00,  1.67s/it, train_accuracy=0.355, train_loss=4.26]\n",
      "100%|███████████████████████████████████████████| 52/52 [00:58<00:00,  1.13s/it]\n"
     ]
    },
    {
     "name": "stdout",
     "output_type": "stream",
     "text": [
      "Train: 0.6631745438783476 0.20899622565330625\n"
     ]
    },
    {
     "name": "stderr",
     "output_type": "stream",
     "text": [
      "100%|███████████████████████████████████████████| 17/17 [00:20<00:00,  1.24s/it]\n"
     ]
    },
    {
     "name": "stdout",
     "output_type": "stream",
     "text": [
      "Valid: 0.6553862541352011 0.2070209329737781\n",
      "Epoch: 9\n"
     ]
    },
    {
     "name": "stderr",
     "output_type": "stream",
     "text": [
      "100%|█████| 52/52 [01:28<00:00,  1.70s/it, train_accuracy=0.369, train_loss=4.2]\n",
      "100%|███████████████████████████████████████████| 52/52 [00:56<00:00,  1.10s/it]\n"
     ]
    },
    {
     "name": "stdout",
     "output_type": "stream",
     "text": [
      "Train: 0.6362796386659773 0.19452139787760314\n"
     ]
    },
    {
     "name": "stderr",
     "output_type": "stream",
     "text": [
      "100%|███████████████████████████████████████████| 17/17 [00:21<00:00,  1.28s/it]\n"
     ]
    },
    {
     "name": "stdout",
     "output_type": "stream",
     "text": [
      "Valid: 0.6299681819466321 0.18837561034594028\n",
      "Epoch: 10\n"
     ]
    },
    {
     "name": "stderr",
     "output_type": "stream",
     "text": [
      "100%|████| 52/52 [01:28<00:00,  1.70s/it, train_accuracy=0.372, train_loss=4.16]\n",
      "100%|███████████████████████████████████████████| 52/52 [00:58<00:00,  1.12s/it]\n"
     ]
    },
    {
     "name": "stdout",
     "output_type": "stream",
     "text": [
      "Train: 0.6624317362823828 0.2075701476805298\n"
     ]
    },
    {
     "name": "stderr",
     "output_type": "stream",
     "text": [
      "100%|███████████████████████████████████████████| 17/17 [00:20<00:00,  1.22s/it]\n"
     ]
    },
    {
     "name": "stdout",
     "output_type": "stream",
     "text": [
      "Valid: 0.652074988338095 0.20058898917210313\n",
      "Epoch: 11\n"
     ]
    },
    {
     "name": "stderr",
     "output_type": "stream",
     "text": [
      "100%|████| 52/52 [01:26<00:00,  1.67s/it, train_accuracy=0.379, train_loss=4.13]\n",
      "100%|███████████████████████████████████████████| 52/52 [00:58<00:00,  1.13s/it]\n"
     ]
    },
    {
     "name": "stdout",
     "output_type": "stream",
     "text": [
      "Train: 0.6036916679851932 0.17246169379375165\n"
     ]
    },
    {
     "name": "stderr",
     "output_type": "stream",
     "text": [
      "100%|███████████████████████████████████████████| 17/17 [00:20<00:00,  1.22s/it]\n"
     ]
    },
    {
     "name": "stdout",
     "output_type": "stream",
     "text": [
      "Valid: 0.5940746572627859 0.1622713523013031\n",
      "Epoch: 12\n"
     ]
    },
    {
     "name": "stderr",
     "output_type": "stream",
     "text": [
      "100%|█████| 52/52 [01:26<00:00,  1.66s/it, train_accuracy=0.386, train_loss=4.1]\n",
      "100%|███████████████████████████████████████████| 52/52 [00:58<00:00,  1.13s/it]\n"
     ]
    },
    {
     "name": "stdout",
     "output_type": "stream",
     "text": [
      "Train: 0.6429296115983822 0.19598717119861372\n"
     ]
    },
    {
     "name": "stderr",
     "output_type": "stream",
     "text": [
      "100%|███████████████████████████████████████████| 17/17 [00:21<00:00,  1.26s/it]\n"
     ]
    },
    {
     "name": "stdout",
     "output_type": "stream",
     "text": [
      "Valid: 0.6353725650012843 0.18770763006170132\n",
      "Epoch: 13\n"
     ]
    },
    {
     "name": "stderr",
     "output_type": "stream",
     "text": [
      "100%|████| 52/52 [01:27<00:00,  1.69s/it, train_accuracy=0.399, train_loss=4.03]\n",
      "100%|███████████████████████████████████████████| 52/52 [00:57<00:00,  1.10s/it]\n"
     ]
    },
    {
     "name": "stdout",
     "output_type": "stream",
     "text": [
      "Train: 0.7001234068928551 0.2299252267774895\n"
     ]
    },
    {
     "name": "stderr",
     "output_type": "stream",
     "text": [
      "100%|███████████████████████████████████████████| 17/17 [00:21<00:00,  1.26s/it]\n"
     ]
    },
    {
     "name": "stdout",
     "output_type": "stream",
     "text": [
      "Valid: 0.6884915388031645 0.21831233520085672\n",
      "Epoch: 14\n"
     ]
    },
    {
     "name": "stderr",
     "output_type": "stream",
     "text": [
      "100%|███████| 52/52 [01:28<00:00,  1.70s/it, train_accuracy=0.411, train_loss=4]\n",
      "100%|███████████████████████████████████████████| 52/52 [00:57<00:00,  1.11s/it]\n"
     ]
    },
    {
     "name": "stdout",
     "output_type": "stream",
     "text": [
      "Train: 0.6760227648081675 0.2254487312970129\n"
     ]
    },
    {
     "name": "stderr",
     "output_type": "stream",
     "text": [
      "100%|███████████████████████████████████████████| 17/17 [00:20<00:00,  1.22s/it]\n"
     ]
    },
    {
     "name": "stdout",
     "output_type": "stream",
     "text": [
      "Valid: 0.6611852141197915 0.2058670750336686\n",
      "Epoch: 15\n"
     ]
    },
    {
     "name": "stderr",
     "output_type": "stream",
     "text": [
      "100%|████| 52/52 [01:27<00:00,  1.68s/it, train_accuracy=0.414, train_loss=3.97]\n",
      "100%|███████████████████████████████████████████| 52/52 [00:57<00:00,  1.10s/it]\n"
     ]
    },
    {
     "name": "stdout",
     "output_type": "stream",
     "text": [
      "Train: 0.7382087209426906 0.26068888071101876\n"
     ]
    },
    {
     "name": "stderr",
     "output_type": "stream",
     "text": [
      "100%|███████████████████████████████████████████| 17/17 [00:20<00:00,  1.23s/it]\n"
     ]
    },
    {
     "name": "stdout",
     "output_type": "stream",
     "text": [
      "Valid: 0.723387165487196 0.23788018726094287\n",
      "Epoch: 16\n"
     ]
    },
    {
     "name": "stderr",
     "output_type": "stream",
     "text": [
      "100%|████| 52/52 [01:27<00:00,  1.68s/it, train_accuracy=0.411, train_loss=3.94]\n",
      "100%|███████████████████████████████████████████| 52/52 [00:58<00:00,  1.13s/it]\n"
     ]
    },
    {
     "name": "stdout",
     "output_type": "stream",
     "text": [
      "Train: 0.6766859343758426 0.21721918591708086\n"
     ]
    },
    {
     "name": "stderr",
     "output_type": "stream",
     "text": [
      "100%|███████████████████████████████████████████| 17/17 [00:20<00:00,  1.22s/it]\n"
     ]
    },
    {
     "name": "stdout",
     "output_type": "stream",
     "text": [
      "Valid: 0.6659807108212527 0.19316143913604925\n",
      "Epoch: 17\n"
     ]
    },
    {
     "name": "stderr",
     "output_type": "stream",
     "text": [
      "100%|████| 52/52 [01:28<00:00,  1.70s/it, train_accuracy=0.423, train_loss=3.89]\n",
      "100%|███████████████████████████████████████████| 52/52 [00:57<00:00,  1.10s/it]\n"
     ]
    },
    {
     "name": "stdout",
     "output_type": "stream",
     "text": [
      "Train: 0.6482472094871592 0.20227640131790153\n"
     ]
    },
    {
     "name": "stderr",
     "output_type": "stream",
     "text": [
      "100%|███████████████████████████████████████████| 17/17 [00:21<00:00,  1.27s/it]\n"
     ]
    },
    {
     "name": "stdout",
     "output_type": "stream",
     "text": [
      "Valid: 0.6316428502346537 0.181029170437102\n",
      "Epoch: 18\n"
     ]
    },
    {
     "name": "stderr",
     "output_type": "stream",
     "text": [
      "100%|████| 52/52 [01:26<00:00,  1.67s/it, train_accuracy=0.432, train_loss=3.86]\n",
      "100%|███████████████████████████████████████████| 52/52 [00:57<00:00,  1.11s/it]\n"
     ]
    },
    {
     "name": "stdout",
     "output_type": "stream",
     "text": [
      "Train: 0.6283625320364696 0.20436691455201317\n"
     ]
    },
    {
     "name": "stderr",
     "output_type": "stream",
     "text": [
      "100%|███████████████████████████████████████████| 17/17 [00:21<00:00,  1.28s/it]\n"
     ]
    },
    {
     "name": "stdout",
     "output_type": "stream",
     "text": [
      "Valid: 0.6093557270221486 0.18163071833575406\n",
      "Epoch: 19\n"
     ]
    },
    {
     "name": "stderr",
     "output_type": "stream",
     "text": [
      "100%|████| 52/52 [01:27<00:00,  1.68s/it, train_accuracy=0.427, train_loss=3.83]\n",
      "100%|███████████████████████████████████████████| 52/52 [00:59<00:00,  1.14s/it]\n"
     ]
    },
    {
     "name": "stdout",
     "output_type": "stream",
     "text": [
      "Train: 0.688270849107571 0.24526430738882413\n"
     ]
    },
    {
     "name": "stderr",
     "output_type": "stream",
     "text": [
      "100%|███████████████████████████████████████████| 17/17 [00:21<00:00,  1.26s/it]\n"
     ]
    },
    {
     "name": "stdout",
     "output_type": "stream",
     "text": [
      "Valid: 0.6683546836877212 0.21992580703545753\n",
      "Epoch: 20\n"
     ]
    },
    {
     "name": "stderr",
     "output_type": "stream",
     "text": [
      "100%|████| 52/52 [01:26<00:00,  1.67s/it, train_accuracy=0.435, train_loss=3.83]\n",
      "100%|███████████████████████████████████████████| 52/52 [00:58<00:00,  1.12s/it]\n"
     ]
    },
    {
     "name": "stdout",
     "output_type": "stream",
     "text": [
      "Train: 0.717433263170002 0.26617653104537353\n"
     ]
    },
    {
     "name": "stderr",
     "output_type": "stream",
     "text": [
      "100%|███████████████████████████████████████████| 17/17 [00:21<00:00,  1.25s/it]\n"
     ]
    },
    {
     "name": "stdout",
     "output_type": "stream",
     "text": [
      "Valid: 0.6943527801217968 0.2276606961351952\n",
      "Epoch: 21\n"
     ]
    },
    {
     "name": "stderr",
     "output_type": "stream",
     "text": [
      "100%|████| 52/52 [01:27<00:00,  1.69s/it, train_accuracy=0.437, train_loss=3.76]\n",
      "100%|███████████████████████████████████████████| 52/52 [00:57<00:00,  1.10s/it]\n"
     ]
    },
    {
     "name": "stdout",
     "output_type": "stream",
     "text": [
      "Train: 0.6732304997382235 0.21899271772899614\n"
     ]
    },
    {
     "name": "stderr",
     "output_type": "stream",
     "text": [
      "100%|███████████████████████████████████████████| 17/17 [00:21<00:00,  1.27s/it]\n"
     ]
    },
    {
     "name": "stdout",
     "output_type": "stream",
     "text": [
      "Valid: 0.6468966140416187 0.18763021102526445\n",
      "Epoch: 22\n"
     ]
    },
    {
     "name": "stderr",
     "output_type": "stream",
     "text": [
      "100%|████| 52/52 [01:26<00:00,  1.67s/it, train_accuracy=0.443, train_loss=3.73]\n",
      "100%|███████████████████████████████████████████| 52/52 [00:59<00:00,  1.14s/it]\n"
     ]
    },
    {
     "name": "stdout",
     "output_type": "stream",
     "text": [
      "Train: 0.7214561118440921 0.2814872091367902\n"
     ]
    },
    {
     "name": "stderr",
     "output_type": "stream",
     "text": [
      "100%|███████████████████████████████████████████| 17/17 [00:20<00:00,  1.22s/it]\n"
     ]
    },
    {
     "name": "stdout",
     "output_type": "stream",
     "text": [
      "Valid: 0.6951527068132554 0.239270341191837\n",
      "Epoch: 23\n"
     ]
    },
    {
     "name": "stderr",
     "output_type": "stream",
     "text": [
      "100%|████| 52/52 [01:28<00:00,  1.70s/it, train_accuracy=0.443, train_loss=3.71]\n",
      "100%|███████████████████████████████████████████| 52/52 [00:58<00:00,  1.13s/it]\n"
     ]
    },
    {
     "name": "stdout",
     "output_type": "stream",
     "text": [
      "Train: 0.7670358222730101 0.3018328957258846\n"
     ]
    },
    {
     "name": "stderr",
     "output_type": "stream",
     "text": [
      "100%|███████████████████████████████████████████| 17/17 [00:20<00:00,  1.22s/it]\n"
     ]
    },
    {
     "name": "stdout",
     "output_type": "stream",
     "text": [
      "Valid: 0.7315455294608099 0.25423495887583564\n",
      "Epoch: 24\n"
     ]
    },
    {
     "name": "stderr",
     "output_type": "stream",
     "text": [
      "100%|█████| 52/52 [01:27<00:00,  1.68s/it, train_accuracy=0.45, train_loss=3.67]\n",
      "100%|███████████████████████████████████████████| 52/52 [00:59<00:00,  1.14s/it]\n"
     ]
    },
    {
     "name": "stdout",
     "output_type": "stream",
     "text": [
      "Train: 0.6844759734863785 0.2582762919100077\n"
     ]
    },
    {
     "name": "stderr",
     "output_type": "stream",
     "text": [
      "100%|███████████████████████████████████████████| 17/17 [00:21<00:00,  1.26s/it]\n"
     ]
    },
    {
     "name": "stdout",
     "output_type": "stream",
     "text": [
      "Valid: 0.6536701715906832 0.21130791787329048\n",
      "Epoch: 25\n"
     ]
    },
    {
     "name": "stderr",
     "output_type": "stream",
     "text": [
      "100%|████| 52/52 [01:26<00:00,  1.67s/it, train_accuracy=0.452, train_loss=3.65]\n",
      "100%|███████████████████████████████████████████| 52/52 [00:56<00:00,  1.09s/it]\n"
     ]
    },
    {
     "name": "stdout",
     "output_type": "stream",
     "text": [
      "Train: 0.7340539187932216 0.2851867827488132\n"
     ]
    },
    {
     "name": "stderr",
     "output_type": "stream",
     "text": [
      "100%|███████████████████████████████████████████| 17/17 [00:21<00:00,  1.27s/it]\n"
     ]
    },
    {
     "name": "stdout",
     "output_type": "stream",
     "text": [
      "Valid: 0.6981748112281353 0.23168478279602944\n",
      "Epoch: 26\n"
     ]
    },
    {
     "name": "stderr",
     "output_type": "stream",
     "text": [
      "100%|████| 52/52 [01:25<00:00,  1.65s/it, train_accuracy=0.449, train_loss=3.62]\n",
      "100%|███████████████████████████████████████████| 52/52 [00:58<00:00,  1.13s/it]\n"
     ]
    },
    {
     "name": "stdout",
     "output_type": "stream",
     "text": [
      "Train: 0.6688007589736957 0.24884945431338626\n"
     ]
    },
    {
     "name": "stderr",
     "output_type": "stream",
     "text": [
      "100%|███████████████████████████████████████████| 17/17 [00:20<00:00,  1.21s/it]\n"
     ]
    },
    {
     "name": "stdout",
     "output_type": "stream",
     "text": [
      "Valid: 0.6426366431612577 0.1962153220869208\n",
      "Epoch: 27\n"
     ]
    },
    {
     "name": "stderr",
     "output_type": "stream",
     "text": [
      "100%|████| 52/52 [01:28<00:00,  1.70s/it, train_accuracy=0.457, train_loss=3.57]\n",
      "100%|███████████████████████████████████████████| 52/52 [00:58<00:00,  1.12s/it]\n"
     ]
    },
    {
     "name": "stdout",
     "output_type": "stream",
     "text": [
      "Train: 0.711889383609688 0.2822052311370244\n"
     ]
    },
    {
     "name": "stderr",
     "output_type": "stream",
     "text": [
      "100%|███████████████████████████████████████████| 17/17 [00:21<00:00,  1.26s/it]\n"
     ]
    },
    {
     "name": "stdout",
     "output_type": "stream",
     "text": [
      "Valid: 0.6702870779138715 0.22140814071802045\n",
      "Epoch: 28\n"
     ]
    },
    {
     "name": "stderr",
     "output_type": "stream",
     "text": [
      "100%|████| 52/52 [01:27<00:00,  1.68s/it, train_accuracy=0.463, train_loss=3.53]\n",
      "100%|███████████████████████████████████████████| 52/52 [00:57<00:00,  1.11s/it]\n"
     ]
    },
    {
     "name": "stdout",
     "output_type": "stream",
     "text": [
      "Train: 0.6726345812032795 0.251206269677535\n"
     ]
    },
    {
     "name": "stderr",
     "output_type": "stream",
     "text": [
      "100%|███████████████████████████████████████████| 17/17 [00:20<00:00,  1.23s/it]\n"
     ]
    },
    {
     "name": "stdout",
     "output_type": "stream",
     "text": [
      "Valid: 0.6272510963599337 0.19320978500324545\n",
      "Epoch: 29\n"
     ]
    },
    {
     "name": "stderr",
     "output_type": "stream",
     "text": [
      "100%|█████| 52/52 [01:27<00:00,  1.68s/it, train_accuracy=0.469, train_loss=3.5]\n",
      "100%|███████████████████████████████████████████| 52/52 [00:57<00:00,  1.10s/it]\n"
     ]
    },
    {
     "name": "stdout",
     "output_type": "stream",
     "text": [
      "Train: 0.7499977288805332 0.3075139248671678\n"
     ]
    },
    {
     "name": "stderr",
     "output_type": "stream",
     "text": [
      "100%|███████████████████████████████████████████| 17/17 [00:21<00:00,  1.26s/it]\n"
     ]
    },
    {
     "name": "stdout",
     "output_type": "stream",
     "text": [
      "Valid: 0.7042603833451558 0.2398725729245771\n",
      "Epoch: 30\n"
     ]
    },
    {
     "name": "stderr",
     "output_type": "stream",
     "text": [
      "100%|████| 52/52 [01:28<00:00,  1.70s/it, train_accuracy=0.471, train_loss=3.46]\n",
      "100%|███████████████████████████████████████████| 52/52 [00:58<00:00,  1.12s/it]\n"
     ]
    },
    {
     "name": "stdout",
     "output_type": "stream",
     "text": [
      "Train: 0.6928494433852341 0.287118632213805\n"
     ]
    },
    {
     "name": "stderr",
     "output_type": "stream",
     "text": [
      "100%|███████████████████████████████████████████| 17/17 [00:21<00:00,  1.25s/it]\n"
     ]
    },
    {
     "name": "stdout",
     "output_type": "stream",
     "text": [
      "Valid: 0.6460940841003177 0.21360075785395818\n",
      "Epoch: 31\n"
     ]
    },
    {
     "name": "stderr",
     "output_type": "stream",
     "text": [
      "100%|████| 52/52 [01:28<00:00,  1.71s/it, train_accuracy=0.472, train_loss=3.43]\n",
      "100%|███████████████████████████████████████████| 52/52 [00:57<00:00,  1.11s/it]\n"
     ]
    },
    {
     "name": "stdout",
     "output_type": "stream",
     "text": [
      "Train: 0.7154969451910731 0.3036939683009866\n"
     ]
    },
    {
     "name": "stderr",
     "output_type": "stream",
     "text": [
      "100%|███████████████████████████████████████████| 17/17 [00:20<00:00,  1.23s/it]\n"
     ]
    },
    {
     "name": "stdout",
     "output_type": "stream",
     "text": [
      "Valid: 0.6631718920852515 0.22192057455891281\n",
      "Epoch: 32\n"
     ]
    },
    {
     "name": "stderr",
     "output_type": "stream",
     "text": [
      "100%|████| 52/52 [01:26<00:00,  1.67s/it, train_accuracy=0.479, train_loss=3.38]\n",
      "100%|███████████████████████████████████████████| 52/52 [00:58<00:00,  1.12s/it]\n"
     ]
    },
    {
     "name": "stdout",
     "output_type": "stream",
     "text": [
      "Train: 0.7134137759963922 0.2803955516695015\n"
     ]
    },
    {
     "name": "stderr",
     "output_type": "stream",
     "text": [
      "100%|███████████████████████████████████████████| 17/17 [00:20<00:00,  1.23s/it]\n"
     ]
    },
    {
     "name": "stdout",
     "output_type": "stream",
     "text": [
      "Valid: 0.6554435619505994 0.20975249111562913\n",
      "Epoch: 33\n"
     ]
    },
    {
     "name": "stderr",
     "output_type": "stream",
     "text": [
      "100%|████| 52/52 [01:26<00:00,  1.67s/it, train_accuracy=0.476, train_loss=3.36]\n",
      "100%|███████████████████████████████████████████| 52/52 [00:59<00:00,  1.14s/it]\n"
     ]
    },
    {
     "name": "stdout",
     "output_type": "stream",
     "text": [
      "Train: 0.6648331575029216 0.2368846712935374\n"
     ]
    },
    {
     "name": "stderr",
     "output_type": "stream",
     "text": [
      "100%|███████████████████████████████████████████| 17/17 [00:20<00:00,  1.22s/it]\n"
     ]
    },
    {
     "name": "stdout",
     "output_type": "stream",
     "text": [
      "Valid: 0.6158988882418586 0.18052045137013567\n",
      "Epoch: 34\n"
     ]
    },
    {
     "name": "stderr",
     "output_type": "stream",
     "text": [
      "100%|█████| 52/52 [01:26<00:00,  1.66s/it, train_accuracy=0.483, train_loss=3.3]\n",
      "100%|███████████████████████████████████████████| 52/52 [00:58<00:00,  1.12s/it]\n"
     ]
    },
    {
     "name": "stdout",
     "output_type": "stream",
     "text": [
      "Train: 0.7366075967502325 0.3106408195052951\n"
     ]
    },
    {
     "name": "stderr",
     "output_type": "stream",
     "text": [
      "100%|███████████████████████████████████████████| 17/17 [00:21<00:00,  1.26s/it]\n"
     ]
    },
    {
     "name": "stdout",
     "output_type": "stream",
     "text": [
      "Valid: 0.6824689209113044 0.21524087950537407\n",
      "Epoch: 35\n"
     ]
    },
    {
     "name": "stderr",
     "output_type": "stream",
     "text": [
      "100%|████| 52/52 [01:28<00:00,  1.70s/it, train_accuracy=0.489, train_loss=3.27]\n",
      "100%|███████████████████████████████████████████| 52/52 [00:58<00:00,  1.13s/it]\n"
     ]
    },
    {
     "name": "stdout",
     "output_type": "stream",
     "text": [
      "Train: 0.745138957893645 0.3461659550694878\n"
     ]
    },
    {
     "name": "stderr",
     "output_type": "stream",
     "text": [
      "100%|███████████████████████████████████████████| 17/17 [00:20<00:00,  1.22s/it]\n"
     ]
    },
    {
     "name": "stdout",
     "output_type": "stream",
     "text": [
      "Valid: 0.6855082827127612 0.23705216570578658\n",
      "Epoch: 36\n"
     ]
    },
    {
     "name": "stderr",
     "output_type": "stream",
     "text": [
      "100%|█████| 52/52 [01:28<00:00,  1.70s/it, train_accuracy=0.49, train_loss=3.25]\n",
      "100%|███████████████████████████████████████████| 52/52 [00:57<00:00,  1.11s/it]\n"
     ]
    },
    {
     "name": "stdout",
     "output_type": "stream",
     "text": [
      "Train: 0.7367584752997757 0.32906419161736555\n"
     ]
    },
    {
     "name": "stderr",
     "output_type": "stream",
     "text": [
      "100%|███████████████████████████████████████████| 17/17 [00:21<00:00,  1.26s/it]\n"
     ]
    },
    {
     "name": "stdout",
     "output_type": "stream",
     "text": [
      "Valid: 0.6740183895596175 0.22719949146343732\n",
      "Epoch: 37\n"
     ]
    },
    {
     "name": "stderr",
     "output_type": "stream",
     "text": [
      "100%|██████| 52/52 [01:27<00:00,  1.67s/it, train_accuracy=0.5, train_loss=3.22]\n",
      "100%|███████████████████████████████████████████| 52/52 [00:59<00:00,  1.14s/it]\n"
     ]
    },
    {
     "name": "stdout",
     "output_type": "stream",
     "text": [
      "Train: 0.7453916395778267 0.3451120526686197\n"
     ]
    },
    {
     "name": "stderr",
     "output_type": "stream",
     "text": [
      "100%|███████████████████████████████████████████| 17/17 [00:20<00:00,  1.23s/it]\n"
     ]
    },
    {
     "name": "stdout",
     "output_type": "stream",
     "text": [
      "Valid: 0.6758360086456735 0.22726031783201237\n",
      "Epoch: 38\n"
     ]
    },
    {
     "name": "stderr",
     "output_type": "stream",
     "text": [
      "100%|██████| 52/52 [01:28<00:00,  1.69s/it, train_accuracy=0.5, train_loss=3.15]\n",
      "100%|███████████████████████████████████████████| 52/52 [00:57<00:00,  1.11s/it]\n"
     ]
    },
    {
     "name": "stdout",
     "output_type": "stream",
     "text": [
      "Train: 0.7288407502200895 0.3337963353696058\n"
     ]
    },
    {
     "name": "stderr",
     "output_type": "stream",
     "text": [
      "100%|███████████████████████████████████████████| 17/17 [00:20<00:00,  1.23s/it]\n"
     ]
    },
    {
     "name": "stdout",
     "output_type": "stream",
     "text": [
      "Valid: 0.6657132819590912 0.21830747222531333\n",
      "Epoch: 39\n"
     ]
    },
    {
     "name": "stderr",
     "output_type": "stream",
     "text": [
      "100%|████| 52/52 [01:27<00:00,  1.68s/it, train_accuracy=0.502, train_loss=3.12]\n",
      "100%|███████████████████████████████████████████| 52/52 [00:58<00:00,  1.13s/it]\n"
     ]
    },
    {
     "name": "stdout",
     "output_type": "stream",
     "text": [
      "Train: 0.7046612163618733 0.31790318224638936\n"
     ]
    },
    {
     "name": "stderr",
     "output_type": "stream",
     "text": [
      "100%|███████████████████████████████████████████| 17/17 [00:21<00:00,  1.27s/it]\n"
     ]
    },
    {
     "name": "stdout",
     "output_type": "stream",
     "text": [
      "Valid: 0.6260837226315424 0.19728959322797443\n",
      "Epoch: 40\n"
     ]
    },
    {
     "name": "stderr",
     "output_type": "stream",
     "text": [
      "100%|████| 52/52 [01:26<00:00,  1.67s/it, train_accuracy=0.506, train_loss=3.07]\n",
      "100%|███████████████████████████████████████████| 52/52 [00:59<00:00,  1.15s/it]\n"
     ]
    },
    {
     "name": "stdout",
     "output_type": "stream",
     "text": [
      "Train: 0.695046060882746 0.3101087455025685\n"
     ]
    },
    {
     "name": "stderr",
     "output_type": "stream",
     "text": [
      "100%|███████████████████████████████████████████| 17/17 [00:21<00:00,  1.24s/it]\n"
     ]
    },
    {
     "name": "stdout",
     "output_type": "stream",
     "text": [
      "Valid: 0.623368803959768 0.19344734543788533\n",
      "Epoch: 41\n"
     ]
    },
    {
     "name": "stderr",
     "output_type": "stream",
     "text": [
      "100%|████| 52/52 [01:26<00:00,  1.66s/it, train_accuracy=0.514, train_loss=3.02]\n",
      "100%|███████████████████████████████████████████| 52/52 [00:59<00:00,  1.14s/it]\n"
     ]
    },
    {
     "name": "stdout",
     "output_type": "stream",
     "text": [
      "Train: 0.7383115176603657 0.35589091839885956\n"
     ]
    },
    {
     "name": "stderr",
     "output_type": "stream",
     "text": [
      "100%|███████████████████████████████████████████| 17/17 [00:21<00:00,  1.25s/it]\n"
     ]
    },
    {
     "name": "stdout",
     "output_type": "stream",
     "text": [
      "Valid: 0.6611559963647886 0.2127810655456759\n",
      "Epoch: 42\n"
     ]
    },
    {
     "name": "stderr",
     "output_type": "stream",
     "text": [
      "100%|████| 52/52 [01:26<00:00,  1.66s/it, train_accuracy=0.511, train_loss=2.99]\n",
      "100%|███████████████████████████████████████████| 52/52 [00:58<00:00,  1.13s/it]\n"
     ]
    },
    {
     "name": "stdout",
     "output_type": "stream",
     "text": [
      "Train: 0.7878561019409699 0.4060377987683783\n"
     ]
    },
    {
     "name": "stderr",
     "output_type": "stream",
     "text": [
      "100%|███████████████████████████████████████████| 17/17 [00:21<00:00,  1.26s/it]\n"
     ]
    },
    {
     "name": "stdout",
     "output_type": "stream",
     "text": [
      "Valid: 0.7066898936445356 0.2517628485012859\n",
      "Epoch: 43\n"
     ]
    },
    {
     "name": "stderr",
     "output_type": "stream",
     "text": [
      "100%|████| 52/52 [01:27<00:00,  1.69s/it, train_accuracy=0.522, train_loss=2.96]\n",
      "100%|███████████████████████████████████████████| 52/52 [00:57<00:00,  1.10s/it]\n"
     ]
    },
    {
     "name": "stdout",
     "output_type": "stream",
     "text": [
      "Train: 0.6990817442682379 0.3158900009615013\n"
     ]
    },
    {
     "name": "stderr",
     "output_type": "stream",
     "text": [
      "100%|███████████████████████████████████████████| 17/17 [00:20<00:00,  1.23s/it]\n"
     ]
    },
    {
     "name": "stdout",
     "output_type": "stream",
     "text": [
      "Valid: 0.6219715692987047 0.1881408210842738\n",
      "Epoch: 44\n"
     ]
    },
    {
     "name": "stderr",
     "output_type": "stream",
     "text": [
      "100%|████| 52/52 [01:27<00:00,  1.69s/it, train_accuracy=0.521, train_loss=2.91]\n",
      "100%|███████████████████████████████████████████| 52/52 [00:59<00:00,  1.15s/it]\n"
     ]
    },
    {
     "name": "stdout",
     "output_type": "stream",
     "text": [
      "Train: 0.717069474490939 0.3289923060052631\n"
     ]
    },
    {
     "name": "stderr",
     "output_type": "stream",
     "text": [
      "100%|███████████████████████████████████████████| 17/17 [00:21<00:00,  1.26s/it]\n"
     ]
    },
    {
     "name": "stdout",
     "output_type": "stream",
     "text": [
      "Valid: 0.625601706111212 0.19494646536015148\n",
      "Epoch: 45\n"
     ]
    },
    {
     "name": "stderr",
     "output_type": "stream",
     "text": [
      "100%|████| 52/52 [01:27<00:00,  1.69s/it, train_accuracy=0.527, train_loss=2.87]\n",
      "100%|███████████████████████████████████████████| 52/52 [01:00<00:00,  1.16s/it]\n"
     ]
    },
    {
     "name": "stdout",
     "output_type": "stream",
     "text": [
      "Train: 0.7422255950507594 0.3590208046438224\n"
     ]
    },
    {
     "name": "stderr",
     "output_type": "stream",
     "text": [
      "100%|███████████████████████████████████████████| 17/17 [00:20<00:00,  1.22s/it]\n"
     ]
    },
    {
     "name": "stdout",
     "output_type": "stream",
     "text": [
      "Valid: 0.6499836450566399 0.2027067690531489\n",
      "Epoch: 46\n"
     ]
    },
    {
     "name": "stderr",
     "output_type": "stream",
     "text": [
      "100%|█████| 52/52 [01:26<00:00,  1.67s/it, train_accuracy=0.53, train_loss=2.85]\n",
      "100%|███████████████████████████████████████████| 52/52 [00:58<00:00,  1.12s/it]\n"
     ]
    },
    {
     "name": "stdout",
     "output_type": "stream",
     "text": [
      "Train: 0.7050479341130349 0.3294731847629529\n"
     ]
    },
    {
     "name": "stderr",
     "output_type": "stream",
     "text": [
      "100%|███████████████████████████████████████████| 17/17 [00:21<00:00,  1.26s/it]\n"
     ]
    },
    {
     "name": "stdout",
     "output_type": "stream",
     "text": [
      "Valid: 0.6187271242014405 0.18880996510067832\n",
      "Epoch: 47\n"
     ]
    },
    {
     "name": "stderr",
     "output_type": "stream",
     "text": [
      "100%|████| 52/52 [01:26<00:00,  1.67s/it, train_accuracy=0.525, train_loss=2.81]\n",
      "100%|███████████████████████████████████████████| 52/52 [00:58<00:00,  1.12s/it]\n"
     ]
    },
    {
     "name": "stdout",
     "output_type": "stream",
     "text": [
      "Train: 0.7348748015639911 0.36132818706441083\n"
     ]
    },
    {
     "name": "stderr",
     "output_type": "stream",
     "text": [
      "100%|███████████████████████████████████████████| 17/17 [00:20<00:00,  1.22s/it]\n"
     ]
    },
    {
     "name": "stdout",
     "output_type": "stream",
     "text": [
      "Valid: 0.6475169247898757 0.19919442790689548\n",
      "Epoch: 48\n"
     ]
    },
    {
     "name": "stderr",
     "output_type": "stream",
     "text": [
      "100%|████| 52/52 [01:27<00:00,  1.69s/it, train_accuracy=0.534, train_loss=2.79]\n",
      "100%|███████████████████████████████████████████| 52/52 [00:58<00:00,  1.12s/it]\n"
     ]
    },
    {
     "name": "stdout",
     "output_type": "stream",
     "text": [
      "Train: 0.7300333758180225 0.37835537241708833\n"
     ]
    },
    {
     "name": "stderr",
     "output_type": "stream",
     "text": [
      "100%|███████████████████████████████████████████| 17/17 [00:21<00:00,  1.26s/it]\n"
     ]
    },
    {
     "name": "stdout",
     "output_type": "stream",
     "text": [
      "Valid: 0.6342575572779324 0.20280391640756987\n",
      "Epoch: 49\n"
     ]
    },
    {
     "name": "stderr",
     "output_type": "stream",
     "text": [
      "100%|████| 52/52 [01:27<00:00,  1.67s/it, train_accuracy=0.531, train_loss=2.77]\n",
      "100%|███████████████████████████████████████████| 52/52 [00:59<00:00,  1.14s/it]\n"
     ]
    },
    {
     "name": "stdout",
     "output_type": "stream",
     "text": [
      "Train: 0.7143404757914935 0.35080534531377877\n"
     ]
    },
    {
     "name": "stderr",
     "output_type": "stream",
     "text": [
      "100%|███████████████████████████████████████████| 17/17 [00:20<00:00,  1.21s/it]\n"
     ]
    },
    {
     "name": "stdout",
     "output_type": "stream",
     "text": [
      "Valid: 0.6208177274072969 0.1967868961643364\n",
      "Epoch: 50\n"
     ]
    },
    {
     "name": "stderr",
     "output_type": "stream",
     "text": [
      "100%|████| 52/52 [01:26<00:00,  1.67s/it, train_accuracy=0.539, train_loss=2.72]\n",
      "100%|███████████████████████████████████████████| 52/52 [00:53<00:00,  1.03s/it]\n"
     ]
    },
    {
     "name": "stdout",
     "output_type": "stream",
     "text": [
      "Train: 0.6868752093666458 0.3399800405348773\n"
     ]
    },
    {
     "name": "stderr",
     "output_type": "stream",
     "text": [
      "100%|███████████████████████████████████████████| 17/17 [00:20<00:00,  1.21s/it]\n"
     ]
    },
    {
     "name": "stdout",
     "output_type": "stream",
     "text": [
      "Valid: 0.5966119559685786 0.1751808612898925\n"
     ]
    },
    {
     "name": "stderr",
     "output_type": "stream",
     "text": [
      "100%|█████████████████████████████████████| 4358/4358 [00:00<00:00, 7522.32it/s]\n",
      "100%|███████████████████████████████████████████| 18/18 [00:15<00:00,  1.14it/s]\n",
      "100%|███████████████████████████████████████████| 18/18 [00:12<00:00,  1.43it/s]\n",
      "100%|███████████████████████████████████| 25770/25770 [00:19<00:00, 1342.77it/s]\n",
      "100%|█████████████████████████████████████████| 101/101 [01:06<00:00,  1.52it/s]\n",
      "100%|█████████████████████████████████████████| 101/101 [01:08<00:00,  1.46it/s]\n",
      "/data-lun/large/kyegorov/virenvs/jupenv/lib/python3.10/site-packages/numpy/core/fromnumeric.py:3504: RuntimeWarning: Mean of empty slice.\n",
      "  return _methods._mean(a, axis=axis, dtype=dtype,\n",
      "/data-lun/large/kyegorov/virenvs/jupenv/lib/python3.10/site-packages/numpy/core/_methods.py:129: RuntimeWarning: invalid value encountered in scalar divide\n",
      "  ret = ret.dtype.type(ret / rcount)\n",
      "100%|██████████████████████████████████| 345779/345779 [09:33<00:00, 603.19it/s]\n",
      "100%|███████████████████████████████████████| 1351/1351 [06:11<00:00,  3.64it/s]\n",
      "/data-lun/large/kyegorov/virenvs/jupenv/lib/python3.10/site-packages/numpy/core/fromnumeric.py:3504: RuntimeWarning: Mean of empty slice.\n",
      "  return _methods._mean(a, axis=axis, dtype=dtype,\n",
      "/data-lun/large/kyegorov/virenvs/jupenv/lib/python3.10/site-packages/numpy/core/_methods.py:129: RuntimeWarning: invalid value encountered in scalar divide\n",
      "  ret = ret.dtype.type(ret / rcount)\n",
      "100%|███████████████████████████████████████| 1351/1351 [05:27<00:00,  4.13it/s]\n"
     ]
    },
    {
     "name": "stdout",
     "output_type": "stream",
     "text": [
      "cebc90286b87\n",
      "Train size: 34065. Number of patients: 34065\n",
      "Valid size: 11335. Number of patients: 11335\n",
      "Test size: 11342. Number of patients: 11342\n"
     ]
    },
    {
     "name": "stderr",
     "output_type": "stream",
     "text": [
      "100%|████████████████████████████████████| 34065/34065 [01:58<00:00, 288.35it/s]\n",
      "100%|████████████████████████████████████| 11335/11335 [00:36<00:00, 313.67it/s]\n"
     ]
    },
    {
     "name": "stdout",
     "output_type": "stream",
     "text": [
      "Epoch: 1\n"
     ]
    },
    {
     "name": "stderr",
     "output_type": "stream",
     "text": [
      "100%|██| 134/134 [03:37<00:00,  1.62s/it, train_accuracy=0.132, train_loss=4.99]\n",
      "100%|█████████████████████████████████████████| 134/134 [02:27<00:00,  1.10s/it]\n"
     ]
    },
    {
     "name": "stdout",
     "output_type": "stream",
     "text": [
      "Train: 0.7729603030600679 0.1677895142186033\n"
     ]
    },
    {
     "name": "stderr",
     "output_type": "stream",
     "text": [
      "100%|███████████████████████████████████████████| 45/45 [00:48<00:00,  1.08s/it]\n"
     ]
    },
    {
     "name": "stdout",
     "output_type": "stream",
     "text": [
      "Valid: 0.7694736557487396 0.1669689764550826\n",
      "Epoch: 2\n"
     ]
    },
    {
     "name": "stderr",
     "output_type": "stream",
     "text": [
      "100%|██| 134/134 [03:37<00:00,  1.63s/it, train_accuracy=0.218, train_loss=4.49]\n",
      "100%|█████████████████████████████████████████| 134/134 [02:26<00:00,  1.09s/it]\n"
     ]
    },
    {
     "name": "stdout",
     "output_type": "stream",
     "text": [
      "Train: 0.6809625683342747 0.1728094679318883\n"
     ]
    },
    {
     "name": "stderr",
     "output_type": "stream",
     "text": [
      "100%|███████████████████████████████████████████| 45/45 [00:46<00:00,  1.03s/it]\n"
     ]
    },
    {
     "name": "stdout",
     "output_type": "stream",
     "text": [
      "Valid: 0.6796273307496015 0.17031340285789995\n",
      "Epoch: 3\n"
     ]
    },
    {
     "name": "stderr",
     "output_type": "stream",
     "text": [
      "100%|███| 134/134 [03:35<00:00,  1.61s/it, train_accuracy=0.243, train_loss=4.3]\n",
      "100%|█████████████████████████████████████████| 134/134 [02:21<00:00,  1.06s/it]\n"
     ]
    },
    {
     "name": "stdout",
     "output_type": "stream",
     "text": [
      "Train: 0.7653159809265996 0.2286481426308861\n"
     ]
    },
    {
     "name": "stderr",
     "output_type": "stream",
     "text": [
      "100%|███████████████████████████████████████████| 45/45 [00:42<00:00,  1.05it/s]\n"
     ]
    },
    {
     "name": "stdout",
     "output_type": "stream",
     "text": [
      "Valid: 0.763951541017024 0.2246911690444609\n",
      "Epoch: 4\n"
     ]
    },
    {
     "name": "stderr",
     "output_type": "stream",
     "text": [
      "100%|██| 134/134 [03:22<00:00,  1.51s/it, train_accuracy=0.263, train_loss=4.16]\n",
      "100%|█████████████████████████████████████████| 134/134 [02:27<00:00,  1.10s/it]\n"
     ]
    },
    {
     "name": "stdout",
     "output_type": "stream",
     "text": [
      "Train: 0.5765659801665668 0.13693557449354138\n"
     ]
    },
    {
     "name": "stderr",
     "output_type": "stream",
     "text": [
      "100%|███████████████████████████████████████████| 45/45 [00:41<00:00,  1.09it/s]\n"
     ]
    },
    {
     "name": "stdout",
     "output_type": "stream",
     "text": [
      "Valid: 0.5721458082984701 0.1336106404396329\n",
      "Epoch: 5\n"
     ]
    },
    {
     "name": "stderr",
     "output_type": "stream",
     "text": [
      "100%|██| 134/134 [03:30<00:00,  1.57s/it, train_accuracy=0.277, train_loss=4.08]\n",
      "100%|█████████████████████████████████████████| 134/134 [02:27<00:00,  1.10s/it]\n"
     ]
    },
    {
     "name": "stdout",
     "output_type": "stream",
     "text": [
      "Train: 0.7123813730389422 0.2181226323681186\n"
     ]
    },
    {
     "name": "stderr",
     "output_type": "stream",
     "text": [
      "100%|███████████████████████████████████████████| 45/45 [00:44<00:00,  1.01it/s]\n"
     ]
    },
    {
     "name": "stdout",
     "output_type": "stream",
     "text": [
      "Valid: 0.7056733628609597 0.20882785437502244\n",
      "Epoch: 6\n"
     ]
    },
    {
     "name": "stderr",
     "output_type": "stream",
     "text": [
      " 18%|▌  | 24/134 [00:39<02:02,  1.11s/it, train_accuracy=0.293, train_loss=4.01]"
     ]
    }
   ],
   "source": [
    "for valid_fold in range(1, num_folds):\n",
    "    for dataset in datasets:\n",
    "        config.test_fold = 0\n",
    "        config.valid_fold = valid_fold\n",
    "        config.train_datasets = dataset\n",
    "        config.name = lib.utils.generate_dict_hash({k:v for k, v in config.__dict__.items() if not k.startswith('__')})\n",
    "        print(config.name)\n",
    "        lib.experiments_v2.run_experiments(config)"
   ]
  },
  {
   "cell_type": "code",
   "execution_count": null,
   "id": "98a69c01-8c0c-4761-80e8-e474c7743537",
   "metadata": {},
   "outputs": [],
   "source": []
  }
 ],
 "metadata": {
  "kernelspec": {
   "display_name": "Python 3 (ipykernel)",
   "language": "python",
   "name": "python3"
  },
  "language_info": {
   "codemirror_mode": {
    "name": "ipython",
    "version": 3
   },
   "file_extension": ".py",
   "mimetype": "text/x-python",
   "name": "python",
   "nbconvert_exporter": "python",
   "pygments_lexer": "ipython3",
   "version": "3.10.11"
  }
 },
 "nbformat": 4,
 "nbformat_minor": 5
}
