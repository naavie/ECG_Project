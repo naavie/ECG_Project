{
 "cells": [
  {
   "cell_type": "code",
   "execution_count": 8,
   "id": "2abe120e-201f-412a-80e5-bf2aa4824df3",
   "metadata": {},
   "outputs": [],
   "source": [
    "import json\n",
    "import torch\n",
    "import pandas as pd\n",
    "from sklearn.model_selection import train_test_split\n",
    "\n",
    "from lib.model import CLIPModel\n",
    "from lib import utils, model, dataset, training, codes\n",
    "\n",
    "import os\n",
    "os.environ[\"TOKENIZERS_PARALLELISM\"] = \"false\""
   ]
  },
  {
   "cell_type": "code",
   "execution_count": null,
   "id": "c09a5557-2b85-465e-ab71-6ab387677106",
   "metadata": {},
   "outputs": [],
   "source": []
  },
  {
   "cell_type": "code",
   "execution_count": 2,
   "id": "82c415d1-1e34-4998-9adb-3ba7675f626d",
   "metadata": {},
   "outputs": [
    {
     "name": "stderr",
     "output_type": "stream",
     "text": [
      "100%|███████████████████████████████████████████████████████████████████████████████████████████████████████████████████████████████████████████████████████████████████████████████████████████████████████████████████| 4368/4368 [00:00<00:00, 7723.54it/s]\n",
      "100%|█████████████████████████████████████████████████████████████████████████████████████████████████████████████████████████████████████████████████████████████████████████████████████████████████████████████████████████| 18/18 [00:07<00:00,  2.41it/s]\n"
     ]
    }
   ],
   "source": [
    "class CFG:\n",
    "    def __init__(self, cfg):\n",
    "        for key, val in cfg.items():\n",
    "            self.__dict__[key] = val\n",
    "\n",
    "def open_cfg(file):\n",
    "    with open(file, 'rt') as f:\n",
    "        data = json.loads(f.read())\n",
    "\n",
    "\n",
    "    cfg = CFG(data)\n",
    "    return cfg\n",
    "    \n",
    "def load_model(config_path, weights_path):\n",
    "    config = open_cfg(config_path)\n",
    "    net = CLIPModel(config)\n",
    "    net.load_state_dict(torch.load(weights_path, weights_only=True))\n",
    "    net.to(config.device)\n",
    "\n",
    "\n",
    "    utils.set_seed(config.seed)\n",
    "    df = utils.get_data_cached(config.data_path, codes.DECODE_DICT, config.cache_path + '/df.csv')\n",
    "    train, test = train_test_split(df, test_size=config.test_size, random_state=config.seed)\n",
    "    test_ds = dataset.CLIP_ECG_Dataset(test, config)\n",
    "    test_dl = torch.utils.data.DataLoader(test_ds, batch_size=config.batch_size, num_workers=config.num_workers, shuffle=True)\n",
    "    metrics = training.valid_epoch(net, test_dl, config.test_classes, config) \n",
    "    config.test_metrics = metrics\n",
    "\n",
    "    cfg = {k:v for k, v in config.__dict__.items() if not k.startswith('__')}\n",
    "    with open(config_path, 'w') as fp:\n",
    "        json.dump(cfg, fp)\n",
    "    \n",
    "    return metrics\n",
    "\n",
    "results = load_model('results/0015de3c6198.cfg', 'results/0015de3c6198.pt')"
   ]
  },
  {
   "cell_type": "code",
   "execution_count": 3,
   "id": "0f287fd5-a5b1-48da-9966-db32dd72079b",
   "metadata": {},
   "outputs": [],
   "source": [
    "best_configs = ['7a0ff6b02309', 'c99398b9f189', 'd34730a0aeca']"
   ]
  },
  {
   "cell_type": "code",
   "execution_count": 6,
   "id": "bd2247d3-0891-4e51-9017-dde675e9708a",
   "metadata": {},
   "outputs": [
    {
     "name": "stderr",
     "output_type": "stream",
     "text": [
      "100%|███████████████████████████████████████████████████████████████████████████████████████████████████████████████████████████████████████████████████████████████████████████████████████████████████████████████████| 4368/4368 [00:00<00:00, 8501.93it/s]\n",
      "100%|█████████████████████████████████████████████████████████████████████████████████████████████████████████████████████████████████████████████████████████████████████████████████████████████████████████████████████████| 18/18 [00:06<00:00,  2.82it/s]\n",
      "100%|███████████████████████████████████████████████████████████████████████████████████████████████████████████████████████████████████████████████████████████████████████████████████████████████████████████████████| 4368/4368 [00:00<00:00, 8615.15it/s]\n",
      "100%|█████████████████████████████████████████████████████████████████████████████████████████████████████████████████████████████████████████████████████████████████████████████████████████████████████████████████████████| 18/18 [00:06<00:00,  2.80it/s]\n",
      "100%|███████████████████████████████████████████████████████████████████████████████████████████████████████████████████████████████████████████████████████████████████████████████████████████████████████████████████| 4368/4368 [00:00<00:00, 8664.32it/s]\n",
      "100%|█████████████████████████████████████████████████████████████████████████████████████████████████████████████████████████████████████████████████████████████████████████████████████████████████████████████████████████| 18/18 [00:06<00:00,  2.82it/s]\n"
     ]
    }
   ],
   "source": [
    "metrics = list()\n",
    "for cfg in best_configs:\n",
    "    metrics.append(load_model(f'results/{cfg}.cfg', f'results/{cfg}.pt'))"
   ]
  },
  {
   "cell_type": "code",
   "execution_count": 15,
   "id": "4b8179c7-f511-441d-9763-a6d70f0e0166",
   "metadata": {},
   "outputs": [
    {
     "data": {
      "text/plain": [
       "{'abnormal QRS_rocauc': 0.4058183411490865,\n",
       " 'atrial fibrillation_rocauc': 0.8669222449333563,\n",
       " 'incomplete right bundle branch block_rocauc': 0.8585417279571983,\n",
       " 'left anterior fascicular block_rocauc': 0.9363336735159421,\n",
       " 'left axis deviation_rocauc': 0.7547334357901834,\n",
       " 'left ventricular hypertrophy_rocauc': 0.7268959485168128,\n",
       " 'myocardial infarction_rocauc': 0.8053573071097303,\n",
       " 'myocardial ischemia_rocauc': 0.8599167877523041,\n",
       " 'sinus rhythm_rocauc': 0.8462469537123315,\n",
       " 'st depression_rocauc': 0.6289211109359859,\n",
       " 't wave abnormal_rocauc': 0.8477740452270924,\n",
       " 'ventricular ectopics_rocauc': 0.8972463667943754}"
      ]
     },
     "execution_count": 15,
     "metadata": {},
     "output_type": "execute_result"
    }
   ],
   "source": [
    "{key: val for key, val in pd.DataFrame(metrics).mean().to_dict().items() if key.endswith('_rocauc')}"
   ]
  },
  {
   "cell_type": "code",
   "execution_count": null,
   "id": "8e30cf5f-5c35-4bd9-bc7f-ac03cb9a3ef7",
   "metadata": {},
   "outputs": [],
   "source": []
  },
  {
   "cell_type": "code",
   "execution_count": null,
   "id": "34884ab9-f7b2-45ce-b4e9-60a5142ba004",
   "metadata": {},
   "outputs": [],
   "source": []
  },
  {
   "cell_type": "code",
   "execution_count": null,
   "id": "4137f70a-bb8e-412e-b34b-ae7128e0fe45",
   "metadata": {},
   "outputs": [],
   "source": []
  },
  {
   "cell_type": "code",
   "execution_count": null,
   "id": "212634a5-ed98-44da-a8c1-764ca787dcfc",
   "metadata": {},
   "outputs": [],
   "source": []
  },
  {
   "cell_type": "code",
   "execution_count": null,
   "id": "3b53a4d9-61f9-41e3-844b-73653d0c032a",
   "metadata": {},
   "outputs": [],
   "source": []
  },
  {
   "cell_type": "code",
   "execution_count": null,
   "id": "8058c3a1-94ab-4a6c-9bbd-62341b7356b3",
   "metadata": {},
   "outputs": [],
   "source": []
  },
  {
   "cell_type": "code",
   "execution_count": null,
   "id": "9977f00b-0399-47bc-a3a8-17c97ff19e47",
   "metadata": {},
   "outputs": [],
   "source": []
  },
  {
   "cell_type": "code",
   "execution_count": null,
   "id": "0b9b3de2-6f07-4cf2-b849-7e6020b38fc4",
   "metadata": {},
   "outputs": [],
   "source": []
  },
  {
   "cell_type": "code",
   "execution_count": null,
   "id": "e002d3c5-6a83-402f-aaf2-658901a3c718",
   "metadata": {},
   "outputs": [],
   "source": []
  },
  {
   "cell_type": "code",
   "execution_count": null,
   "id": "2c831d94-ecb6-4f42-a676-b2ca3e028c2e",
   "metadata": {},
   "outputs": [],
   "source": []
  },
  {
   "cell_type": "code",
   "execution_count": null,
   "id": "d9b42e7d-e627-45ee-a420-0d843c0629ad",
   "metadata": {},
   "outputs": [],
   "source": []
  },
  {
   "cell_type": "code",
   "execution_count": null,
   "id": "b0fe293c-f14b-4167-a974-b731232dfe88",
   "metadata": {},
   "outputs": [],
   "source": []
  },
  {
   "cell_type": "code",
   "execution_count": null,
   "id": "6d472145-4907-4c1a-ad2a-dcf041338dac",
   "metadata": {},
   "outputs": [],
   "source": []
  },
  {
   "cell_type": "code",
   "execution_count": null,
   "id": "0c87f6b4-6e9c-4d35-b846-75944b02779d",
   "metadata": {},
   "outputs": [],
   "source": []
  },
  {
   "cell_type": "code",
   "execution_count": null,
   "id": "fabc3984-5c07-42f2-8ada-4334f61d7dc3",
   "metadata": {},
   "outputs": [],
   "source": []
  }
 ],
 "metadata": {
  "kernelspec": {
   "display_name": "Python 3 (ipykernel)",
   "language": "python",
   "name": "python3"
  },
  "language_info": {
   "codemirror_mode": {
    "name": "ipython",
    "version": 3
   },
   "file_extension": ".py",
   "mimetype": "text/x-python",
   "name": "python",
   "nbconvert_exporter": "python",
   "pygments_lexer": "ipython3",
   "version": "3.10.11"
  }
 },
 "nbformat": 4,
 "nbformat_minor": 5
}
