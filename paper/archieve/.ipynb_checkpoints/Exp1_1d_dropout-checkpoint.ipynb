{
 "cells": [
  {
   "cell_type": "code",
   "execution_count": 1,
   "id": "ec372444-8095-421f-90f4-38b86b202db3",
   "metadata": {},
   "outputs": [],
   "source": [
    "from lib.default_params import CFG\n",
    "from lib.exp1_train import exp1_train"
   ]
  },
  {
   "cell_type": "code",
   "execution_count": null,
   "id": "98980517-cc7c-4390-8c7d-681cb8e0ae39",
   "metadata": {},
   "outputs": [],
   "source": []
  },
  {
   "cell_type": "code",
   "execution_count": 2,
   "id": "2f51f4cb-5417-4030-a9b6-4570e3e7755e",
   "metadata": {},
   "outputs": [
    {
     "ename": "NameError",
     "evalue": "name 'projection_dim' is not defined",
     "output_type": "error",
     "traceback": [
      "\u001b[0;31m---------------------------------------------------------------------------\u001b[0m",
      "\u001b[0;31mNameError\u001b[0m                                 Traceback (most recent call last)",
      "Cell \u001b[0;32mIn[2], line 4\u001b[0m\n\u001b[1;32m      2\u001b[0m \u001b[38;5;28;01mfor\u001b[39;00m seed \u001b[38;5;129;01min\u001b[39;00m [\u001b[38;5;241m42\u001b[39m, \u001b[38;5;241m43\u001b[39m, \u001b[38;5;241m44\u001b[39m]:\n\u001b[1;32m      3\u001b[0m     CFG\u001b[38;5;241m.\u001b[39mseed \u001b[38;5;241m=\u001b[39m seed\n\u001b[0;32m----> 4\u001b[0m     CFG\u001b[38;5;241m.\u001b[39mprojection_dim \u001b[38;5;241m=\u001b[39m \u001b[43mprojection_dim\u001b[49m\n\u001b[1;32m      5\u001b[0m     exp1_train(CFG)\n",
      "\u001b[0;31mNameError\u001b[0m: name 'projection_dim' is not defined"
     ]
    }
   ],
   "source": [
    "for dropout in [0.0, 0.25]:\n",
    "    for seed in [42, 43, 44]:\n",
    "        CFG.seed = seed\n",
    "        CFG.dropout = dropout\n",
    "        exp1_train(CFG)"
   ]
  },
  {
   "cell_type": "code",
   "execution_count": null,
   "id": "8da37a16-5949-4d01-88d0-4d766a78e244",
   "metadata": {},
   "outputs": [],
   "source": []
  },
  {
   "cell_type": "code",
   "execution_count": null,
   "id": "0b3db208-d430-45da-9772-d72536f8ae81",
   "metadata": {},
   "outputs": [],
   "source": []
  },
  {
   "cell_type": "code",
   "execution_count": null,
   "id": "6ff4203c-8945-4d50-84e5-f5fbdc7d0bad",
   "metadata": {},
   "outputs": [],
   "source": []
  },
  {
   "cell_type": "code",
   "execution_count": null,
   "id": "cdc744aa-a67d-48ca-99a1-2c8c883d6fc3",
   "metadata": {},
   "outputs": [],
   "source": []
  },
  {
   "cell_type": "code",
   "execution_count": null,
   "id": "487310ae-0b48-4c54-b226-c85d1a2b7742",
   "metadata": {},
   "outputs": [],
   "source": []
  }
 ],
 "metadata": {
  "kernelspec": {
   "display_name": "Python 3 (ipykernel)",
   "language": "python",
   "name": "python3"
  },
  "language_info": {
   "codemirror_mode": {
    "name": "ipython",
    "version": 3
   },
   "file_extension": ".py",
   "mimetype": "text/x-python",
   "name": "python",
   "nbconvert_exporter": "python",
   "pygments_lexer": "ipython3",
   "version": "3.10.11"
  }
 },
 "nbformat": 4,
 "nbformat_minor": 5
}
