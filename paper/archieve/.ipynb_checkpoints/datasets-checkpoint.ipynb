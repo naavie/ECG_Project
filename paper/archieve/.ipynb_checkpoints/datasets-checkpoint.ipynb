{
 "cells": [
  {
   "cell_type": "code",
   "execution_count": 1,
   "id": "e6db1210-b48b-4b50-9ad4-016fa06ea5ae",
   "metadata": {},
   "outputs": [],
   "source": [
    "import lib.datasets "
   ]
  },
  {
   "cell_type": "code",
   "execution_count": 5,
   "id": "6a6f3f9e-349e-4528-8a5c-de726456b111",
   "metadata": {},
   "outputs": [],
   "source": [
    "ds_names = ['code15', 'ptb_xl', 'sph', 'ningbo', 'georgia']"
   ]
  },
  {
   "cell_type": "code",
   "execution_count": 4,
   "id": "dd5e6ea2-e958-435f-8527-248e4f089435",
   "metadata": {},
   "outputs": [
    {
     "name": "stdout",
     "output_type": "stream",
     "text": [
      "code15 (345779, 3) (12, 4000) 400 12\n",
      "1169160<EXAM_ID>/ayb/vol1/datasets/ecg_datasets/code15/exams_part13.hdf5\n",
      "ptb_xl (21837, 3) (12, 5000) 500 12\n",
      "/ayb/vol1/datasets/ecg_datasets/physionet.org/files/challenge-2021/1.0.3/training/ptb-xl/g16/HR15050.hea\n",
      "sph (25770, 3) (12, 5000) 500 12\n",
      "/ayb/vol1/datasets/ecg_datasets/SPH/records/A00001.h5\n"
     ]
    }
   ],
   "source": [
    "for ds in ds_names:\n",
    "    __import__(f'lib.datasets.{ds}')\n",
    "    df = lib.datasets.__dict__[ds].load_df()\n",
    "    ecg, leads, sr = lib.datasets.__dict__[ds].load_ecg(df['ecg_file'].values[0])\n",
    "    print(ds, df.shape, ecg.shape, sr, len(leads))\n",
    "    print(df['ecg_file'].values[0])\n",
    "    print()"
   ]
  },
  {
   "cell_type": "code",
   "execution_count": null,
   "id": "af195620-914b-4216-8aac-1de5fd7ce36d",
   "metadata": {},
   "outputs": [],
   "source": []
  },
  {
   "cell_type": "code",
   "execution_count": null,
   "id": "062c6588-d936-45db-b1e2-0e82ccf2b86f",
   "metadata": {},
   "outputs": [],
   "source": []
  },
  {
   "cell_type": "code",
   "execution_count": null,
   "id": "2b796959-b796-4573-92e7-cf07113d290d",
   "metadata": {},
   "outputs": [],
   "source": []
  },
  {
   "cell_type": "code",
   "execution_count": null,
   "id": "ea7e1f18-4310-44b1-9f16-6604f0a89b2e",
   "metadata": {},
   "outputs": [],
   "source": []
  },
  {
   "cell_type": "code",
   "execution_count": null,
   "id": "73bbfe37-8877-4141-ba24-d0711570aa1b",
   "metadata": {},
   "outputs": [],
   "source": []
  },
  {
   "cell_type": "code",
   "execution_count": null,
   "id": "fad0ce48-355f-4220-b7f6-c1ca9b713cf3",
   "metadata": {},
   "outputs": [],
   "source": []
  },
  {
   "cell_type": "code",
   "execution_count": null,
   "id": "35729a2d-f54d-48df-9af1-ab1d6cf5762a",
   "metadata": {},
   "outputs": [],
   "source": []
  }
 ],
 "metadata": {
  "kernelspec": {
   "display_name": "Python 3 (ipykernel)",
   "language": "python",
   "name": "python3"
  },
  "language_info": {
   "codemirror_mode": {
    "name": "ipython",
    "version": 3
   },
   "file_extension": ".py",
   "mimetype": "text/x-python",
   "name": "python",
   "nbconvert_exporter": "python",
   "pygments_lexer": "ipython3",
   "version": "3.10.11"
  }
 },
 "nbformat": 4,
 "nbformat_minor": 5
}
