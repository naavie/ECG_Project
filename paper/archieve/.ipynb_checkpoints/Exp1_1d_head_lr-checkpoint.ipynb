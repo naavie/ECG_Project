{
 "cells": [
  {
   "cell_type": "code",
   "execution_count": 1,
   "id": "ec372444-8095-421f-90f4-38b86b202db3",
   "metadata": {},
   "outputs": [],
   "source": [
    "from lib.default_params import CFG\n",
    "from lib.exp1_train import exp1_train"
   ]
  },
  {
   "cell_type": "code",
   "execution_count": null,
   "id": "98980517-cc7c-4390-8c7d-681cb8e0ae39",
   "metadata": {},
   "outputs": [],
   "source": []
  },
  {
   "cell_type": "code",
   "execution_count": null,
   "id": "2f51f4cb-5417-4030-a9b6-4570e3e7755e",
   "metadata": {},
   "outputs": [
    {
     "name": "stdout",
     "output_type": "stream",
     "text": [
      "Train/valid/test classes counts: 27 11 12\n"
     ]
    },
    {
     "name": "stderr",
     "output_type": "stream",
     "text": [
      "100%|██████████████████████████████████████████████████████████████████████████████████████████████████████████████████████████████████████████████████████████████████████████████████████████████████████████████████| 13101/13101 [00:13<00:00, 998.80it/s]\n",
      "100%|███████████████████████████████████████████████████████████████████████████████████████████████████████████████████████████████████████████████████████████████████████████████████████████████████████████████████| 4368/4368 [00:03<00:00, 1100.77it/s]\n"
     ]
    },
    {
     "name": "stdout",
     "output_type": "stream",
     "text": [
      "Epoch: 1\n"
     ]
    },
    {
     "name": "stderr",
     "output_type": "stream",
     "text": [
      "100%|██████████████████████████████████████████████████████████████████████████████████████████████████████████████████████████████████████████████████████████████████████████████████| 52/52 [00:58<00:00,  1.12s/it, train_accuracy=0.117, train_loss=8.89]\n",
      " 19%|█████████████████████████████████████████▋                                                                                                                                                                               | 10/52 [00:10<00:33,  1.25it/s]"
     ]
    }
   ],
   "source": [
    "for head_lr in [0.01, 0.0001]:\n",
    "    for seed in [42, 43, 44]:\n",
    "        CFG.seed = seed\n",
    "        CFG.head_lr = head_lr\n",
    "        CFG.device = 'cuda:2'\n",
    "        exp1_train(CFG)"
   ]
  },
  {
   "cell_type": "code",
   "execution_count": null,
   "id": "8da37a16-5949-4d01-88d0-4d766a78e244",
   "metadata": {},
   "outputs": [],
   "source": []
  },
  {
   "cell_type": "code",
   "execution_count": null,
   "id": "0b3db208-d430-45da-9772-d72536f8ae81",
   "metadata": {},
   "outputs": [],
   "source": []
  },
  {
   "cell_type": "code",
   "execution_count": null,
   "id": "6ff4203c-8945-4d50-84e5-f5fbdc7d0bad",
   "metadata": {},
   "outputs": [],
   "source": []
  },
  {
   "cell_type": "code",
   "execution_count": null,
   "id": "cdc744aa-a67d-48ca-99a1-2c8c883d6fc3",
   "metadata": {},
   "outputs": [],
   "source": []
  },
  {
   "cell_type": "code",
   "execution_count": null,
   "id": "487310ae-0b48-4c54-b226-c85d1a2b7742",
   "metadata": {},
   "outputs": [],
   "source": []
  }
 ],
 "metadata": {
  "kernelspec": {
   "display_name": "Python 3 (ipykernel)",
   "language": "python",
   "name": "python3"
  },
  "language_info": {
   "codemirror_mode": {
    "name": "ipython",
    "version": 3
   },
   "file_extension": ".py",
   "mimetype": "text/x-python",
   "name": "python",
   "nbconvert_exporter": "python",
   "pygments_lexer": "ipython3",
   "version": "3.10.11"
  }
 },
 "nbformat": 4,
 "nbformat_minor": 5
}
