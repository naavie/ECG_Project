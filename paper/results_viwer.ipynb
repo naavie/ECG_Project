{
 "cells": [
  {
   "cell_type": "code",
   "execution_count": 1,
   "id": "55c2f6e0-88e3-4e76-a369-0bb01cea1e6a",
   "metadata": {},
   "outputs": [],
   "source": [
    "import pandas as pd\n",
    "import numpy as np\n",
    "import matplotlib.pyplot as plt\n",
    "import json\n",
    "import os\n",
    "from glob import glob"
   ]
  },
  {
   "cell_type": "code",
   "execution_count": 2,
   "id": "7e93de14-3b7a-4899-92e6-0ad244b7b101",
   "metadata": {},
   "outputs": [],
   "source": [
    "def open_cfg(file):\n",
    "    with open(file, 'rt') as f:\n",
    "        data = json.loads(f.read())\n",
    "\n",
    "    for key in list(data.keys()):\n",
    "        if type(data[key]) == list:\n",
    "            data[key] = tuple(data[key])\n",
    "    return data\n"
   ]
  },
  {
   "cell_type": "code",
   "execution_count": null,
   "id": "1c333dac-bd75-4bdb-a40a-8e6aa34feba0",
   "metadata": {},
   "outputs": [],
   "source": []
  },
  {
   "cell_type": "code",
   "execution_count": 3,
   "id": "523a3071-0d96-4959-ab5e-735e1fd087ad",
   "metadata": {},
   "outputs": [
    {
     "name": "stdout",
     "output_type": "stream",
     "text": [
      "36\n",
      "36\n",
      "36\n",
      "32\n"
     ]
    }
   ],
   "source": [
    "results = sorted(glob('results/*.csv'))\n",
    "print(len(results))\n",
    "results = {log: pd.read_csv(log) for log in results}\n",
    "print(len(results))\n",
    "results = {key.removeprefix('results/').removesuffix('.csv'): val for key, val in results.items()}\n",
    "results = {key: {'log': val, 'cfg': open_cfg(f'results/{key}.cfg')} for key, val in results.items() if os.path.isfile(f'results/{key}.cfg')}\n",
    "print(len(results))\n",
    "results = {key: val for key, val in results.items() if not key.endswith('pretrain')}\n",
    "print(len(results))\n",
    "results = {name: cfg['cfg'] for name, cfg in results.items()}\n",
    "results = pd.DataFrame(results).T"
   ]
  },
  {
   "cell_type": "code",
   "execution_count": 4,
   "id": "4ed36562-f80e-4b16-b334-8dfe9b899515",
   "metadata": {},
   "outputs": [],
   "source": [
    "results['name'] = results['name'].apply(lambda x: x.split('_')[0])"
   ]
  },
  {
   "cell_type": "code",
   "execution_count": 5,
   "id": "1f83cd8a-830a-4332-8ae4-77b71abbaf5b",
   "metadata": {},
   "outputs": [],
   "source": [
    "metrics_data = list()\n",
    "metrics_in_question = 'mean_rocaucs'\n",
    "main_cols = ['name', 'valid_fold', 'text_encoder_model', 'ecg_encoder_model', 'train_datasets', 'pretrained']\n",
    "for index, row in results.iterrows():\n",
    "    metrics = dict()\n",
    "    for col in main_cols:\n",
    "        metrics[col] = row[col]\n",
    "\n",
    "    for col in ['test_metrics', 'zero_shot_test_metrics', 'exp2_metrics_trained', 'exp2_metrics_untrained']:\n",
    "        for ds_name, ds_metrics in row[col].items():\n",
    "            for val_name, val in ds_metrics.items():\n",
    "                if val_name == metrics_in_question:\n",
    "                    metrics[f'metrics__{col}__{ds_name}__{val_name}'] = val\n",
    "            \n",
    "    metrics_data.append(metrics)"
   ]
  },
  {
   "cell_type": "code",
   "execution_count": 6,
   "id": "f3068db9-b84a-4b0a-bafd-bc0b29c42a9e",
   "metadata": {},
   "outputs": [],
   "source": [
    "metrics_data = pd.DataFrame(metrics_data)\n",
    "metrics_cols = [col for col in metrics_data.columns if col.startswith('metrics__')]"
   ]
  },
  {
   "cell_type": "code",
   "execution_count": 7,
   "id": "222c9127-b731-47e2-bc7a-d39847e32778",
   "metadata": {},
   "outputs": [],
   "source": [
    "groups = metrics_data.groupby('name')[metrics_cols].agg(['mean', 'std'])"
   ]
  },
  {
   "cell_type": "code",
   "execution_count": 8,
   "id": "25f00cf4-1fb4-4bfc-9c8e-7492eae41b67",
   "metadata": {},
   "outputs": [
    {
     "name": "stdout",
     "output_type": "stream",
     "text": [
      "\n",
      "\n",
      "{'name': '04728b1accd4', 'valid_fold': 1, 'text_encoder_model': 'emilyalsentzer/Bio_ClinicalBERT', 'ecg_encoder_model': 'CNN_model_v3', 'train_datasets': ('ptb_xl', 'ningbo', 'georgia'), 'pretrained': False}\n",
      "\n",
      "test_metrics: ptb_xl Mean ROC-AUCS = 0.737+/-0.028\n",
      "test_metrics: ningbo Mean ROC-AUCS = 0.792+/-0.013\n",
      "test_metrics: georgia Mean ROC-AUCS = 0.704+/-0.008\n",
      "zero_shot_test_metrics: ptb_xl Mean ROC-AUCS = 0.638+/-0.021\n",
      "zero_shot_test_metrics: ningbo Mean ROC-AUCS = 0.661+/-0.012\n",
      "zero_shot_test_metrics: georgia Mean ROC-AUCS = 0.694+/-0.005\n",
      "exp2_metrics_trained: sph Mean ROC-AUCS = 0.817+/-0.024\n",
      "exp2_metrics_trained: code15 Mean ROC-AUCS = nan+/-nan\n",
      "exp2_metrics_untrained: sph Mean ROC-AUCS = 0.682+/-0.029\n",
      "exp2_metrics_untrained: code15 Mean ROC-AUCS = 0.634+/-0.024\n",
      "\n",
      "\n",
      "{'name': '29edb150bba1', 'valid_fold': 1, 'text_encoder_model': 'emilyalsentzer/Bio_ClinicalBERT', 'ecg_encoder_model': 'ISIBrno_model', 'train_datasets': ('ptb_xl', 'ningbo', 'georgia'), 'pretrained': False}\n",
      "\n",
      "test_metrics: ptb_xl Mean ROC-AUCS = 0.731+/-0.010\n",
      "test_metrics: ningbo Mean ROC-AUCS = 0.765+/-0.029\n",
      "test_metrics: georgia Mean ROC-AUCS = 0.696+/-0.006\n",
      "zero_shot_test_metrics: ptb_xl Mean ROC-AUCS = 0.624+/-0.033\n",
      "zero_shot_test_metrics: ningbo Mean ROC-AUCS = 0.623+/-0.024\n",
      "zero_shot_test_metrics: georgia Mean ROC-AUCS = 0.686+/-0.018\n",
      "exp2_metrics_trained: sph Mean ROC-AUCS = 0.799+/-0.017\n",
      "exp2_metrics_trained: code15 Mean ROC-AUCS = nan+/-nan\n",
      "exp2_metrics_untrained: sph Mean ROC-AUCS = 0.679+/-0.015\n",
      "exp2_metrics_untrained: code15 Mean ROC-AUCS = 0.608+/-0.018\n",
      "\n",
      "\n",
      "{'name': '39a0aee494e6', 'valid_fold': 1, 'text_encoder_model': 'dmis-lab/biobert-v1.1', 'ecg_encoder_model': 'ISIBrno_model', 'train_datasets': ('ptb_xl', 'ningbo', 'georgia'), 'pretrained': False}\n",
      "\n",
      "test_metrics: ptb_xl Mean ROC-AUCS = 0.739+/-0.018\n",
      "test_metrics: ningbo Mean ROC-AUCS = 0.751+/-0.008\n",
      "test_metrics: georgia Mean ROC-AUCS = 0.718+/-0.018\n",
      "zero_shot_test_metrics: ptb_xl Mean ROC-AUCS = 0.641+/-0.046\n",
      "zero_shot_test_metrics: ningbo Mean ROC-AUCS = 0.604+/-0.019\n",
      "zero_shot_test_metrics: georgia Mean ROC-AUCS = 0.676+/-0.030\n",
      "exp2_metrics_trained: sph Mean ROC-AUCS = 0.817+/-0.014\n",
      "exp2_metrics_trained: code15 Mean ROC-AUCS = nan+/-nan\n",
      "exp2_metrics_untrained: sph Mean ROC-AUCS = 0.679+/-0.030\n",
      "exp2_metrics_untrained: code15 Mean ROC-AUCS = 0.659+/-0.030\n",
      "\n",
      "\n",
      "{'name': '52e1b29284b3', 'valid_fold': 1, 'text_encoder_model': 'google-bert/bert-base-uncased', 'ecg_encoder_model': 'ISIBrno_model', 'train_datasets': ('ptb_xl', 'ningbo', 'georgia'), 'pretrained': False}\n",
      "\n",
      "test_metrics: ptb_xl Mean ROC-AUCS = 0.743+/-0.016\n",
      "test_metrics: ningbo Mean ROC-AUCS = 0.757+/-0.022\n",
      "test_metrics: georgia Mean ROC-AUCS = 0.681+/-0.023\n",
      "zero_shot_test_metrics: ptb_xl Mean ROC-AUCS = 0.611+/-0.040\n",
      "zero_shot_test_metrics: ningbo Mean ROC-AUCS = 0.570+/-0.011\n",
      "zero_shot_test_metrics: georgia Mean ROC-AUCS = 0.633+/-0.016\n",
      "exp2_metrics_trained: sph Mean ROC-AUCS = 0.812+/-0.017\n",
      "exp2_metrics_trained: code15 Mean ROC-AUCS = nan+/-nan\n",
      "exp2_metrics_untrained: sph Mean ROC-AUCS = 0.619+/-0.020\n",
      "exp2_metrics_untrained: code15 Mean ROC-AUCS = 0.625+/-0.018\n",
      "\n",
      "\n",
      "{'name': '68573c2b98c0', 'valid_fold': 1, 'text_encoder_model': 'emilyalsentzer/Bio_ClinicalBERT', 'ecg_encoder_model': 'RNN_model', 'train_datasets': ('ptb_xl', 'ningbo', 'georgia'), 'pretrained': False}\n",
      "\n",
      "test_metrics: ptb_xl Mean ROC-AUCS = 0.725+/-0.016\n",
      "test_metrics: ningbo Mean ROC-AUCS = 0.760+/-0.013\n",
      "test_metrics: georgia Mean ROC-AUCS = 0.694+/-0.010\n",
      "zero_shot_test_metrics: ptb_xl Mean ROC-AUCS = 0.623+/-0.020\n",
      "zero_shot_test_metrics: ningbo Mean ROC-AUCS = 0.616+/-0.030\n",
      "zero_shot_test_metrics: georgia Mean ROC-AUCS = 0.686+/-0.005\n",
      "exp2_metrics_trained: sph Mean ROC-AUCS = 0.804+/-0.006\n",
      "exp2_metrics_trained: code15 Mean ROC-AUCS = nan+/-nan\n",
      "exp2_metrics_untrained: sph Mean ROC-AUCS = 0.683+/-0.019\n",
      "exp2_metrics_untrained: code15 Mean ROC-AUCS = 0.629+/-0.027\n",
      "\n",
      "\n",
      "{'name': 'cc4eb0111e23', 'valid_fold': 1, 'text_encoder_model': 'emilyalsentzer/Bio_ClinicalBERT', 'ecg_encoder_model': 'ISIBrno_model', 'train_datasets': ('ptb_xl', 'ningbo', 'georgia'), 'pretrained': True}\n",
      "\n",
      "test_metrics: ptb_xl Mean ROC-AUCS = 0.706+/-0.009\n",
      "test_metrics: ningbo Mean ROC-AUCS = 0.711+/-0.024\n",
      "test_metrics: georgia Mean ROC-AUCS = 0.667+/-0.010\n",
      "zero_shot_test_metrics: ptb_xl Mean ROC-AUCS = 0.573+/-0.026\n",
      "zero_shot_test_metrics: ningbo Mean ROC-AUCS = 0.598+/-0.034\n",
      "zero_shot_test_metrics: georgia Mean ROC-AUCS = 0.649+/-0.006\n",
      "exp2_metrics_trained: sph Mean ROC-AUCS = 0.732+/-0.033\n",
      "exp2_metrics_trained: code15 Mean ROC-AUCS = nan+/-nan\n",
      "exp2_metrics_untrained: sph Mean ROC-AUCS = 0.621+/-0.004\n",
      "exp2_metrics_untrained: code15 Mean ROC-AUCS = 0.583+/-0.024\n",
      "\n",
      "\n",
      "{'name': 'd91b15e34ce7', 'valid_fold': 1, 'text_encoder_model': 'emilyalsentzer/Bio_ClinicalBERT', 'ecg_encoder_model': 'CNN_model', 'train_datasets': ('ptb_xl', 'ningbo', 'georgia'), 'pretrained': False}\n",
      "\n",
      "test_metrics: ptb_xl Mean ROC-AUCS = 0.739+/-0.009\n",
      "test_metrics: ningbo Mean ROC-AUCS = 0.785+/-0.025\n",
      "test_metrics: georgia Mean ROC-AUCS = 0.701+/-0.024\n",
      "zero_shot_test_metrics: ptb_xl Mean ROC-AUCS = 0.632+/-0.024\n",
      "zero_shot_test_metrics: ningbo Mean ROC-AUCS = 0.668+/-0.032\n",
      "zero_shot_test_metrics: georgia Mean ROC-AUCS = 0.698+/-0.016\n",
      "exp2_metrics_trained: sph Mean ROC-AUCS = 0.817+/-0.016\n",
      "exp2_metrics_trained: code15 Mean ROC-AUCS = nan+/-nan\n",
      "exp2_metrics_untrained: sph Mean ROC-AUCS = 0.665+/-0.028\n",
      "exp2_metrics_untrained: code15 Mean ROC-AUCS = 0.636+/-0.019\n",
      "\n",
      "\n",
      "{'name': 'f98c24cbc6f4', 'valid_fold': 1, 'text_encoder_model': 'emilyalsentzer/Bio_ClinicalBERT', 'ecg_encoder_model': 'CNN_model_v2', 'train_datasets': ('ptb_xl', 'ningbo', 'georgia'), 'pretrained': False}\n",
      "\n",
      "test_metrics: ptb_xl Mean ROC-AUCS = 0.730+/-0.017\n",
      "test_metrics: ningbo Mean ROC-AUCS = 0.802+/-0.032\n",
      "test_metrics: georgia Mean ROC-AUCS = 0.710+/-0.016\n",
      "zero_shot_test_metrics: ptb_xl Mean ROC-AUCS = 0.615+/-0.035\n",
      "zero_shot_test_metrics: ningbo Mean ROC-AUCS = 0.640+/-0.015\n",
      "zero_shot_test_metrics: georgia Mean ROC-AUCS = 0.698+/-0.009\n",
      "exp2_metrics_trained: sph Mean ROC-AUCS = 0.829+/-0.029\n",
      "exp2_metrics_trained: code15 Mean ROC-AUCS = nan+/-nan\n",
      "exp2_metrics_untrained: sph Mean ROC-AUCS = 0.703+/-0.014\n",
      "exp2_metrics_untrained: code15 Mean ROC-AUCS = 0.637+/-0.028\n"
     ]
    }
   ],
   "source": [
    "for name, row in groups.iterrows():\n",
    "    config = metrics_data.loc[metrics_data['name'] == name, main_cols].iloc[0].to_dict()\n",
    "    print()\n",
    "    print()\n",
    "    print(config)\n",
    "    print()\n",
    "    for name, val in row.items():\n",
    "        if name[1] == 'mean':\n",
    "            mean_val = val\n",
    "        else:\n",
    "            print(f'{name[0].split(\"__\")[1]}: {name[0].split(\"__\")[2]} Mean ROC-AUCS = {mean_val:.3f}+/-{val:.3f}')"
   ]
  },
  {
   "cell_type": "code",
   "execution_count": null,
   "id": "f40b3ba5-759e-4767-9aa6-89792ba6fe11",
   "metadata": {},
   "outputs": [],
   "source": []
  }
 ],
 "metadata": {
  "kernelspec": {
   "display_name": "Python 3 (ipykernel)",
   "language": "python",
   "name": "python3"
  },
  "language_info": {
   "codemirror_mode": {
    "name": "ipython",
    "version": 3
   },
   "file_extension": ".py",
   "mimetype": "text/x-python",
   "name": "python",
   "nbconvert_exporter": "python",
   "pygments_lexer": "ipython3",
   "version": "3.10.11"
  }
 },
 "nbformat": 4,
 "nbformat_minor": 5
}
