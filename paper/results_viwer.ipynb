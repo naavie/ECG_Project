{
 "cells": [
  {
   "cell_type": "code",
   "execution_count": 37,
   "id": "55c2f6e0-88e3-4e76-a369-0bb01cea1e6a",
   "metadata": {},
   "outputs": [],
   "source": [
    "import pandas as pd\n",
    "import numpy as np\n",
    "import matplotlib.pyplot as plt\n",
    "import json\n",
    "import os\n",
    "from glob import glob"
   ]
  },
  {
   "cell_type": "code",
   "execution_count": 38,
   "id": "7e93de14-3b7a-4899-92e6-0ad244b7b101",
   "metadata": {},
   "outputs": [],
   "source": [
    "def open_cfg(file):\n",
    "    with open(file, 'rt') as f:\n",
    "        data = json.loads(f.read())\n",
    "\n",
    "    for key in list(data.keys()):\n",
    "        if type(data[key]) == list:\n",
    "            data[key] = tuple(data[key])\n",
    "    return data\n",
    "\n",
    "def dicts_equal(dict1, dict2):\n",
    "    keys1 = tuple(sorted(list(dict1.keys())))\n",
    "    keys2 = tuple(sorted(list(dict2.keys())))\n",
    "    if keys1 != keys2:\n",
    "        return False\n",
    "    for key in keys1:\n",
    "        if dict1[key] != dict2[key]:\n",
    "            return False\n",
    "    return True"
   ]
  },
  {
   "cell_type": "code",
   "execution_count": 44,
   "id": "1c333dac-bd75-4bdb-a40a-8e6aa34feba0",
   "metadata": {},
   "outputs": [],
   "source": [
    "MODELS = ['ISIBrno_model', 'CNN_model', 'RNN_model', 'ECGConvEncoder', 'CNN_model_v2', 'CNN_model_v3']\n",
    "TEXT_MODELS = ['emilyalsentzer/Bio_ClinicalBERT', 'dmis-lab/biobert-v1.1']\n",
    "TRAIN_DATASETS = [['ptb_xl'], ['ptb_xl', 'ningbo'], ['ptb_xl', 'ningbo', 'georgia']]\n",
    "EXP2_DATASETS = ['sph', 'code15']"
   ]
  },
  {
   "cell_type": "code",
   "execution_count": 50,
   "id": "523a3071-0d96-4959-ab5e-735e1fd087ad",
   "metadata": {},
   "outputs": [
    {
     "name": "stdout",
     "output_type": "stream",
     "text": [
      "76\n",
      "76\n",
      "73\n",
      "73\n",
      "60\n",
      "60\n"
     ]
    }
   ],
   "source": [
    "results = sorted(glob('results/*.csv'))\n",
    "print(len(results))\n",
    "results = {log: pd.read_csv(log) for log in results}\n",
    "print(len(results))\n",
    "results = {key.removeprefix('results/').removesuffix('.csv'): val for key, val in results.items()}\n",
    "results = {key: {'log': val, 'cfg': open_cfg(f'results/{key}.cfg')} for key, val in results.items() if os.path.isfile(f'results/{key}.cfg')}\n",
    "print(len(results))\n",
    "results = {key: val for key, val in results.items() if val['cfg']['ecg_encoder_model'] in MODELS}\n",
    "print(len(results))\n",
    "results = {key: val for key, val in results.items() if not key.endswith('pretrain')}\n",
    "print(len(results))\n",
    "results = {key: val for key, val in results.items() if not key.endswith('pretrained')}\n",
    "print(len(results))"
   ]
  },
  {
   "cell_type": "code",
   "execution_count": 51,
   "id": "16c4d139-4716-47ab-967e-8c8a6ead8813",
   "metadata": {},
   "outputs": [
    {
     "name": "stdout",
     "output_type": "stream",
     "text": [
      "\n",
      "ISIBrno_model\n",
      "Number of results: 12\n",
      "Train datasets: ['ptb_xl']\n",
      "Number of datasets: 4\n",
      "Text model: emilyalsentzer/Bio_ClinicalBERT\n",
      "Number of textmodel_results: 12\n",
      "ptb_xl test metrics: 0.723+/-0.016\n",
      "ptb_xl zero-shot metrics: 0.791+/-0.061\n",
      "sph trained metrics: 0.778+/-0.047\n",
      "code15 trained metrics: nan+/-nan\n",
      "sph zero-shot metrics: nan+/-nan\n",
      "code15 zero-shot metrics: nan+/-nan\n",
      "\n",
      "Text model: dmis-lab/biobert-v1.1\n",
      "Number of textmodel_results: 0\n",
      "Train datasets: ['ptb_xl', 'ningbo']\n",
      "Number of datasets: 4\n",
      "Text model: emilyalsentzer/Bio_ClinicalBERT\n",
      "Number of textmodel_results: 12\n",
      "ptb_xl test metrics: 0.723+/-0.016\n"
     ]
    },
    {
     "ename": "KeyError",
     "evalue": "'ningbo'",
     "output_type": "error",
     "traceback": [
      "\u001b[0;31m---------------------------------------------------------------------------\u001b[0m",
      "\u001b[0;31mKeyError\u001b[0m                                  Traceback (most recent call last)",
      "Cell \u001b[0;32mIn[51], line 26\u001b[0m\n\u001b[1;32m     18\u001b[0m \u001b[38;5;28;01mif\u001b[39;00m \u001b[38;5;28mlen\u001b[39m(txtmdl_results) \u001b[38;5;241m>\u001b[39m \u001b[38;5;241m0\u001b[39m:\n\u001b[1;32m     19\u001b[0m     \u001b[38;5;66;03m# for train_class in val['cfg']['train_classes']:\u001b[39;00m\n\u001b[1;32m     20\u001b[0m     \u001b[38;5;66;03m#     for train_ds in datasets:\u001b[39;00m\n\u001b[1;32m     21\u001b[0m     \u001b[38;5;66;03m#         vals = [res['cfg']['test_metrics'][train_ds][f'{train_class}_rocauc'] for res in ds_results.values()]\u001b[39;00m\n\u001b[1;32m     22\u001b[0m     \u001b[38;5;66;03m#         vals = [val for val in vals if val is not None]\u001b[39;00m\n\u001b[1;32m     23\u001b[0m     \u001b[38;5;66;03m#         print(f'{train_ds} {train_class} metrics: {np.mean(vals):.3f}\\u00b1{np.std(vals):.3f}')\u001b[39;00m\n\u001b[1;32m     25\u001b[0m     \u001b[38;5;28;01mfor\u001b[39;00m train_ds \u001b[38;5;129;01min\u001b[39;00m datasets:\n\u001b[0;32m---> 26\u001b[0m         vals \u001b[38;5;241m=\u001b[39m [res[\u001b[38;5;124m'\u001b[39m\u001b[38;5;124mcfg\u001b[39m\u001b[38;5;124m'\u001b[39m][\u001b[38;5;124m'\u001b[39m\u001b[38;5;124mtest_metrics\u001b[39m\u001b[38;5;124m'\u001b[39m][train_ds][\u001b[38;5;124m'\u001b[39m\u001b[38;5;124mmean_rocaucs\u001b[39m\u001b[38;5;124m'\u001b[39m] \u001b[38;5;28;01mfor\u001b[39;00m res \u001b[38;5;129;01min\u001b[39;00m txtmdl_results\u001b[38;5;241m.\u001b[39mvalues()]\n\u001b[1;32m     27\u001b[0m         \u001b[38;5;28mprint\u001b[39m(\u001b[38;5;124mf\u001b[39m\u001b[38;5;124m'\u001b[39m\u001b[38;5;132;01m{\u001b[39;00mtrain_ds\u001b[38;5;132;01m}\u001b[39;00m\u001b[38;5;124m test metrics: \u001b[39m\u001b[38;5;132;01m{\u001b[39;00mnp\u001b[38;5;241m.\u001b[39mmean(vals)\u001b[38;5;132;01m:\u001b[39;00m\u001b[38;5;124m.3f\u001b[39m\u001b[38;5;132;01m}\u001b[39;00m\u001b[38;5;124m+/-\u001b[39m\u001b[38;5;132;01m{\u001b[39;00mnp\u001b[38;5;241m.\u001b[39mstd(vals)\u001b[38;5;132;01m:\u001b[39;00m\u001b[38;5;124m.3f\u001b[39m\u001b[38;5;132;01m}\u001b[39;00m\u001b[38;5;124m'\u001b[39m)\n\u001b[1;32m     30\u001b[0m     \u001b[38;5;28;01mfor\u001b[39;00m train_ds \u001b[38;5;129;01min\u001b[39;00m datasets:\n",
      "Cell \u001b[0;32mIn[51], line 26\u001b[0m, in \u001b[0;36m<listcomp>\u001b[0;34m(.0)\u001b[0m\n\u001b[1;32m     18\u001b[0m \u001b[38;5;28;01mif\u001b[39;00m \u001b[38;5;28mlen\u001b[39m(txtmdl_results) \u001b[38;5;241m>\u001b[39m \u001b[38;5;241m0\u001b[39m:\n\u001b[1;32m     19\u001b[0m     \u001b[38;5;66;03m# for train_class in val['cfg']['train_classes']:\u001b[39;00m\n\u001b[1;32m     20\u001b[0m     \u001b[38;5;66;03m#     for train_ds in datasets:\u001b[39;00m\n\u001b[1;32m     21\u001b[0m     \u001b[38;5;66;03m#         vals = [res['cfg']['test_metrics'][train_ds][f'{train_class}_rocauc'] for res in ds_results.values()]\u001b[39;00m\n\u001b[1;32m     22\u001b[0m     \u001b[38;5;66;03m#         vals = [val for val in vals if val is not None]\u001b[39;00m\n\u001b[1;32m     23\u001b[0m     \u001b[38;5;66;03m#         print(f'{train_ds} {train_class} metrics: {np.mean(vals):.3f}\\u00b1{np.std(vals):.3f}')\u001b[39;00m\n\u001b[1;32m     25\u001b[0m     \u001b[38;5;28;01mfor\u001b[39;00m train_ds \u001b[38;5;129;01min\u001b[39;00m datasets:\n\u001b[0;32m---> 26\u001b[0m         vals \u001b[38;5;241m=\u001b[39m [\u001b[43mres\u001b[49m\u001b[43m[\u001b[49m\u001b[38;5;124;43m'\u001b[39;49m\u001b[38;5;124;43mcfg\u001b[39;49m\u001b[38;5;124;43m'\u001b[39;49m\u001b[43m]\u001b[49m\u001b[43m[\u001b[49m\u001b[38;5;124;43m'\u001b[39;49m\u001b[38;5;124;43mtest_metrics\u001b[39;49m\u001b[38;5;124;43m'\u001b[39;49m\u001b[43m]\u001b[49m\u001b[43m[\u001b[49m\u001b[43mtrain_ds\u001b[49m\u001b[43m]\u001b[49m[\u001b[38;5;124m'\u001b[39m\u001b[38;5;124mmean_rocaucs\u001b[39m\u001b[38;5;124m'\u001b[39m] \u001b[38;5;28;01mfor\u001b[39;00m res \u001b[38;5;129;01min\u001b[39;00m txtmdl_results\u001b[38;5;241m.\u001b[39mvalues()]\n\u001b[1;32m     27\u001b[0m         \u001b[38;5;28mprint\u001b[39m(\u001b[38;5;124mf\u001b[39m\u001b[38;5;124m'\u001b[39m\u001b[38;5;132;01m{\u001b[39;00mtrain_ds\u001b[38;5;132;01m}\u001b[39;00m\u001b[38;5;124m test metrics: \u001b[39m\u001b[38;5;132;01m{\u001b[39;00mnp\u001b[38;5;241m.\u001b[39mmean(vals)\u001b[38;5;132;01m:\u001b[39;00m\u001b[38;5;124m.3f\u001b[39m\u001b[38;5;132;01m}\u001b[39;00m\u001b[38;5;124m+/-\u001b[39m\u001b[38;5;132;01m{\u001b[39;00mnp\u001b[38;5;241m.\u001b[39mstd(vals)\u001b[38;5;132;01m:\u001b[39;00m\u001b[38;5;124m.3f\u001b[39m\u001b[38;5;132;01m}\u001b[39;00m\u001b[38;5;124m'\u001b[39m)\n\u001b[1;32m     30\u001b[0m     \u001b[38;5;28;01mfor\u001b[39;00m train_ds \u001b[38;5;129;01min\u001b[39;00m datasets:\n",
      "\u001b[0;31mKeyError\u001b[0m: 'ningbo'"
     ]
    }
   ],
   "source": [
    "for model in MODELS:\n",
    "    print()\n",
    "    print(model)\n",
    "    model_results = {key: val for key, val in results.items() if val['cfg']['ecg_encoder_model'] == model}\n",
    "    print('Number of results:', len(model_results))\n",
    "    if len(model_results) > 0:\n",
    "\n",
    "        for datasets in TRAIN_DATASETS:\n",
    "            print('Train datasets:', datasets)\n",
    "            ds_results = {key: val for key, val in model_results.items() if val['cfg']['train_datasets'] == tuple(datasets)}\n",
    "            print('Number of datasets:', len(ds_results))\n",
    "            if len(ds_results) > 0:\n",
    "\n",
    "                for text_model in TEXT_MODELS:\n",
    "                    print('Text model:', text_model)\n",
    "                    txtmdl_results = {key: val for key, val in model_results.items() if val['cfg']['text_encoder_model'] == text_model}\n",
    "                    print('Number of textmodel_results:', len(txtmdl_results))\n",
    "                    if len(txtmdl_results) > 0:\n",
    "                        # for train_class in val['cfg']['train_classes']:\n",
    "                        #     for train_ds in datasets:\n",
    "                        #         vals = [res['cfg']['test_metrics'][train_ds][f'{train_class}_rocauc'] for res in ds_results.values()]\n",
    "                        #         vals = [val for val in vals if val is not None]\n",
    "                        #         print(f'{train_ds} {train_class} metrics: {np.mean(vals):.3f}\\u00b1{np.std(vals):.3f}')\n",
    "            \n",
    "                        for train_ds in datasets:\n",
    "                            vals = [res['cfg']['test_metrics'][train_ds]['mean_rocaucs'] for res in txtmdl_results.values()]\n",
    "                            print(f'{train_ds} test metrics: {np.mean(vals):.3f}+/-{np.std(vals):.3f}')\n",
    "        \n",
    "                        \n",
    "                        for train_ds in datasets:\n",
    "                            vals = [res['cfg']['zero_shot_test_metrics'][train_ds]['mean_rocaucs'] for res in txtmdl_results.values()]\n",
    "                            print(f'{train_ds} zero-shot metrics: {np.mean(vals):.3f}+/-{np.std(vals):.3f}') \n",
    "        \n",
    "                \n",
    "                        for exp2_ds in EXP2_DATASETS:\n",
    "                            vals = [res['cfg']['exp2_metrics_trained'][exp2_ds]['mean_rocaucs'] for res in txtmdl_results.values()]\n",
    "                            print(f'{exp2_ds} trained metrics: {np.mean(vals):.3f}+/-{np.std(vals):.3f}')\n",
    "        \n",
    "                \n",
    "                        for exp2_ds in EXP2_DATASETS:\n",
    "                            vals = [res['cfg']['exp2_metrics_untrained'][exp2_ds]['mean_rocaucs'] for res in txtmdl_results.values()]\n",
    "                            print(f'{exp2_ds} zero-shot metrics: {np.mean(vals):.3f}+/-{np.std(vals):.3f}')\n",
    "                        print()\n",
    "                        \n",
    "                        #plt.figure(figsize=(30, 5))\n",
    "                        #for result in ds_results.values():\n",
    "                        #    plt.plot(result['log']['valid_mean_rocaucs'])\n",
    "                        #plt.grid()\n",
    "                        #plt.show()"
   ]
  },
  {
   "cell_type": "code",
   "execution_count": null,
   "id": "b511b8bd-2c2e-4bd8-b271-0bc58ded19a9",
   "metadata": {
    "scrolled": true
   },
   "outputs": [],
   "source": [
    "for key, val in results.items():\n",
    "    print('*'*80)\n",
    "    print('Train classes:')\n",
    "    print(len(val['cfg']['train_classes']))\n",
    "    print(val['cfg']['train_classes'])\n",
    "    print()\n",
    "    print('Zeroshot classes:')\n",
    "    print(len(val['cfg']['zeroshot_classes']))\n",
    "    print(val['cfg']['zeroshot_classes'])\n",
    "    print()"
   ]
  },
  {
   "cell_type": "code",
   "execution_count": null,
   "id": "5bb7f543-2ab1-483b-9a32-9802b209fa85",
   "metadata": {},
   "outputs": [],
   "source": []
  },
  {
   "cell_type": "code",
   "execution_count": 32,
   "id": "56de55ec-691e-4029-af8f-96f5927258a1",
   "metadata": {},
   "outputs": [
    {
     "ename": "NameError",
     "evalue": "name 'char' is not defined",
     "output_type": "error",
     "traceback": [
      "\u001b[0;31m---------------------------------------------------------------------------\u001b[0m",
      "\u001b[0;31mNameError\u001b[0m                                 Traceback (most recent call last)",
      "Cell \u001b[0;32mIn[32], line 1\u001b[0m\n\u001b[0;32m----> 1\u001b[0m \u001b[43mchar\u001b[49m(\u001b[38;5;124m'\u001b[39m\u001b[38;5;124mU+00B1\u001b[39m\u001b[38;5;124m'\u001b[39m)\n",
      "\u001b[0;31mNameError\u001b[0m: name 'char' is not defined"
     ]
    }
   ],
   "source": [
    "char('U+00B1')"
   ]
  },
  {
   "cell_type": "code",
   "execution_count": 34,
   "id": "60505c54-ccc0-4ced-a4a1-f4bedffafbe7",
   "metadata": {},
   "outputs": [
    {
     "data": {
      "text/plain": [
       "'±'"
      ]
     },
     "execution_count": 34,
     "metadata": {},
     "output_type": "execute_result"
    }
   ],
   "source": [
    "'\\u00b1'"
   ]
  }
 ],
 "metadata": {
  "kernelspec": {
   "display_name": "Python 3 (ipykernel)",
   "language": "python",
   "name": "python3"
  },
  "language_info": {
   "codemirror_mode": {
    "name": "ipython",
    "version": 3
   },
   "file_extension": ".py",
   "mimetype": "text/x-python",
   "name": "python",
   "nbconvert_exporter": "python",
   "pygments_lexer": "ipython3",
   "version": "3.10.11"
  }
 },
 "nbformat": 4,
 "nbformat_minor": 5
}
