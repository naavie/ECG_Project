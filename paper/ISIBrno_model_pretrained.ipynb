{
 "cells": [
  {
   "cell_type": "code",
   "execution_count": 1,
   "id": "cf4a7031-37ff-4242-b792-fbfd7a0de2b0",
   "metadata": {},
   "outputs": [],
   "source": [
    "import pandas as pd\n",
    "\n",
    "import lib.utils\n",
    "import lib.experiments_v2"
   ]
  },
  {
   "cell_type": "code",
   "execution_count": 21,
   "id": "6e091cf2-0c84-47f2-b88b-17e2dad46e87",
   "metadata": {},
   "outputs": [],
   "source": [
    "config = lib.utils.CFG({})\n",
    "config.seed = 42\n",
    "config.cache_path = 'cache'\n",
    "config.logs_path = 'results'\n",
    "config.models_path = 'results'\n",
    "config.batch_size = 256\n",
    "config.num_workers = 12\n",
    "config.ecg_sr = 128\n",
    "config.window = 1280\n",
    "config.text_embedding_size = 768\n",
    "config.projection_dim = 256\n",
    "config.dropout = 0.15\n",
    "config.pretrained = True\n",
    "config.text_encoder_model = 'emilyalsentzer/Bio_ClinicalBERT'\n",
    "config.text_tokenizer = 'emilyalsentzer/Bio_ClinicalBERT'\n",
    "config.temperature = 10.0\n",
    "config.head_lr = 0.0001\n",
    "config.image_encoder_lr = 0.001\n",
    "config.device = 'cuda:0'\n",
    "config.epochs = 50\n",
    "config.max_length = 200\n",
    "config.ecg_encoder_model = 'ISIBrno_model'\n",
    "config.ecg_embedding_size = 512\n",
    "config.ecg_channels = 12\n",
    "config.normal_class = 'normal ecg'\n",
    "config.test_datasets = ['sph', 'code15']\n",
    "config.train_classes = pd.read_csv('docs/TRAIN_CLASSES.txt', header=None)[0].to_list()\n",
    "config.noteval_classes = pd.read_csv('docs/NOTEVAL_CLASSES.txt', header=None)[0].to_list()\n",
    "config.zeroshot_classes = pd.read_csv('docs/ZEROSHOT_CLASSES.txt', header=None)[0].to_list()\n",
    "#config.pretrained = True"
   ]
  },
  {
   "cell_type": "code",
   "execution_count": 3,
   "id": "35b775fd-43c7-4a80-820d-9721d12ae96e",
   "metadata": {},
   "outputs": [],
   "source": [
    "datasets = [['ptb_xl'], ['ptb_xl', 'ningbo'], ['ptb_xl', 'ningbo', 'georgia']]\n",
    "num_folds = 5"
   ]
  },
  {
   "cell_type": "code",
   "execution_count": 4,
   "id": "facc8e68-1839-4c82-9e71-bc982dc74364",
   "metadata": {},
   "outputs": [
    {
     "name": "stdout",
     "output_type": "stream",
     "text": [
      "1552a0fcfc0f_pretrained\n",
      "Train size: 13129. Number of patients: 13129\n",
      "Valid size: 4350. Number of patients: 4350\n",
      "Test size: 4358. Number of patients: 4358\n"
     ]
    },
    {
     "name": "stderr",
     "output_type": "stream",
     "text": [
      "100%|███████████████████████████████████| 13129/13129 [00:02<00:00, 6486.77it/s]\n",
      "100%|█████████████████████████████████████| 4350/4350 [00:00<00:00, 8191.86it/s]\n",
      "\n",
      "KeyboardInterrupt\n",
      "\n"
     ]
    }
   ],
   "source": [
    "for valid_fold in range(1, num_folds):\n",
    "    for dataset in datasets:\n",
    "        config.test_fold = 0\n",
    "        config.valid_fold = valid_fold\n",
    "        config.train_datasets = dataset\n",
    "        config.name = lib.utils.generate_dict_hash({k:v for k, v in config.__dict__.items() if not k.startswith('__')}) + '_pretrained'\n",
    "        print(config.name)\n",
    "        lib.experiments_v2.run_experiments(config)"
   ]
  },
  {
   "cell_type": "code",
   "execution_count": 22,
   "id": "f074b788-0b7f-4f1e-be6d-e5e3789d6a02",
   "metadata": {},
   "outputs": [
    {
     "data": {
      "text/plain": [
       "'75a282833c5a'"
      ]
     },
     "execution_count": 22,
     "metadata": {},
     "output_type": "execute_result"
    }
   ],
   "source": [
    "lib.utils.generate_dict_hash({k:v for k, v in config.__dict__.items() if not k.startswith('__')})"
   ]
  },
  {
   "cell_type": "code",
   "execution_count": null,
   "id": "e8c1d699-60f9-40af-8845-fa74bb757daa",
   "metadata": {},
   "outputs": [],
   "source": []
  }
 ],
 "metadata": {
  "kernelspec": {
   "display_name": "Python 3 (ipykernel)",
   "language": "python",
   "name": "python3"
  },
  "language_info": {
   "codemirror_mode": {
    "name": "ipython",
    "version": 3
   },
   "file_extension": ".py",
   "mimetype": "text/x-python",
   "name": "python",
   "nbconvert_exporter": "python",
   "pygments_lexer": "ipython3",
   "version": "3.10.11"
  }
 },
 "nbformat": 4,
 "nbformat_minor": 5
}
