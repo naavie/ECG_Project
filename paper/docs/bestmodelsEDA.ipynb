{
 "cells": [
  {
   "cell_type": "markdown",
   "metadata": {},
   "source": [
    "# Best Models Exploratory Analysis + Visualization"
   ]
  },
  {
   "cell_type": "markdown",
   "metadata": {},
   "source": [
    "## Exp A"
   ]
  },
  {
   "cell_type": "code",
   "execution_count": 1,
   "metadata": {},
   "outputs": [],
   "source": [
    "import pandas as pd\n",
    "import matplotlib.pyplot as plt"
   ]
  },
  {
   "cell_type": "code",
   "execution_count": 27,
   "metadata": {},
   "outputs": [],
   "source": [
    "df = pd.read_csv(\"C:/Users/navme/Desktop/ECG_Project/paper/docs/ECG CLIP RESULTS - FINAL - ExpA - Best Models.csv\")"
   ]
  },
  {
   "cell_type": "code",
   "execution_count": 28,
   "metadata": {},
   "outputs": [],
   "source": [
    "def extract_mean(value):\n",
    "    return float(value.split('±')[0])"
   ]
  },
  {
   "cell_type": "code",
   "execution_count": 29,
   "metadata": {},
   "outputs": [],
   "source": [
    "df['mean_ptb_xl'] = df['test_metrics__ptb_xl'].apply(extract_mean)\n",
    "df['mean_ningbo'] = df['test_metrics__ningbo'].apply(extract_mean)\n",
    "df['mean_georgia'] = df['test_metrics__georgia'].apply(extract_mean)"
   ]
  },
  {
   "cell_type": "code",
   "execution_count": 30,
   "metadata": {},
   "outputs": [],
   "source": [
    "df['average_performance_seen'] = df[['mean_ptb_xl', 'mean_ningbo', 'mean_georgia']].mean(axis=1)"
   ]
  },
  {
   "cell_type": "code",
   "execution_count": 31,
   "metadata": {},
   "outputs": [
    {
     "name": "stdout",
     "output_type": "stream",
     "text": [
      "Best overall model in Exp A (seen classes):\n",
      "Model UID                                                       23\n",
      "n_configs                                                        4\n",
      "text_encoder_model                 emilyalsentzer/Bio_ClinicalBERT\n",
      "ecg_encoder_model                                     CNN_model_v2\n",
      "train_datasets                     ('ptb_xl', 'ningbo', 'georgia')\n",
      "pretrained                                                   False\n",
      "test_metrics__ptb_xl                                   0.730±0.017\n",
      "test_metrics__ningbo                                   0.802±0.032\n",
      "test_metrics__georgia                                  0.710±0.016\n",
      "zero_shot_test_metrics__ptb_xl                         0.615±0.035\n",
      "zero_shot_test_metrics__ningbo                         0.640±0.015\n",
      "zero_shot_test_metrics__georgia                        0.698±0.009\n",
      "exp2_metrics_trained__sph                              0.829±0.029\n",
      "exp2_metrics_trained__code15                               nan±nan\n",
      "exp2_metrics_untrained__sph                            0.703±0.014\n",
      "exp2_metrics_untrained__code15                         0.637±0.028\n",
      "mean_ptb_xl                                                   0.73\n",
      "mean_ningbo                                                  0.802\n",
      "mean_georgia                                                  0.71\n",
      "average_performance_seen                                  0.747333\n",
      "Name: 1, dtype: object\n"
     ]
    }
   ],
   "source": [
    "best_model_seen = df.loc[df['average_performance_seen'].idxmax()]\n",
    "\n",
    "print(\"Best overall model in Exp A (seen classes):\")\n",
    "print(best_model_seen)"
   ]
  },
  {
   "cell_type": "code",
   "execution_count": 32,
   "metadata": {},
   "outputs": [],
   "source": [
    "df['mean_zero_shot_ptb_xl'] = df['zero_shot_test_metrics__ptb_xl'].apply(extract_mean)\n",
    "df['mean_zero_shot_ningbo'] = df['zero_shot_test_metrics__ningbo'].apply(extract_mean)\n",
    "df['mean_zero_shot_georgia'] = df['zero_shot_test_metrics__georgia'].apply(extract_mean)"
   ]
  },
  {
   "cell_type": "code",
   "execution_count": 33,
   "metadata": {},
   "outputs": [],
   "source": [
    "df['average_performance_unseen'] = df[['mean_zero_shot_ptb_xl', 'mean_zero_shot_ningbo', 'mean_zero_shot_georgia']].mean(axis=1)"
   ]
  },
  {
   "cell_type": "code",
   "execution_count": 37,
   "metadata": {},
   "outputs": [
    {
     "name": "stdout",
     "output_type": "stream",
     "text": [
      "Best overall model for Exp A (unseen):\n",
      "Model UID                                                       20\n",
      "n_configs                                                        4\n",
      "text_encoder_model                 emilyalsentzer/Bio_ClinicalBERT\n",
      "ecg_encoder_model                                        CNN_model\n",
      "train_datasets                     ('ptb_xl', 'ningbo', 'georgia')\n",
      "pretrained                                                   False\n",
      "test_metrics__ptb_xl                                   0.739±0.009\n",
      "test_metrics__ningbo                                   0.785±0.025\n",
      "test_metrics__georgia                                  0.701±0.024\n",
      "zero_shot_test_metrics__ptb_xl                         0.632±0.024\n",
      "zero_shot_test_metrics__ningbo                         0.668±0.032\n",
      "zero_shot_test_metrics__georgia                        0.698±0.016\n",
      "exp2_metrics_trained__sph                              0.817±0.016\n",
      "exp2_metrics_trained__code15                               nan±nan\n",
      "exp2_metrics_untrained__sph                            0.665±0.028\n",
      "exp2_metrics_untrained__code15                         0.636±0.019\n",
      "mean_ptb_xl                                                  0.739\n",
      "mean_ningbo                                                  0.785\n",
      "mean_georgia                                                 0.701\n",
      "average_performance_seen                                  0.741667\n",
      "mean_zero_shot_ptb_xl                                        0.632\n",
      "mean_zero_shot_ningbo                                        0.668\n",
      "mean_zero_shot_georgia                                       0.698\n",
      "average_performance_unseen                                   0.666\n",
      "mean_trained_sph                                             0.817\n",
      "mean_untrained_sph                                           0.665\n",
      "mean_untrained_code15                                        0.636\n",
      "average_performance_expB                                     0.706\n",
      "Name: 0, dtype: object\n"
     ]
    }
   ],
   "source": [
    "best_model_unseen = df.loc[df['average_performance_unseen'].idxmax()]\n",
    "\n",
    "print(\"Best overall model for Exp A (unseen):\")\n",
    "print(best_model_unseen)"
   ]
  },
  {
   "cell_type": "markdown",
   "metadata": {},
   "source": [
    "## Exp B"
   ]
  },
  {
   "cell_type": "code",
   "execution_count": 35,
   "metadata": {},
   "outputs": [],
   "source": [
    "df['mean_trained_sph'] = df['exp2_metrics_trained__sph'].apply(extract_mean)\n",
    "df['mean_untrained_sph'] = df['exp2_metrics_untrained__sph'].apply(extract_mean)\n",
    "df['mean_untrained_code15'] = df['exp2_metrics_untrained__code15'].apply(extract_mean)"
   ]
  },
  {
   "cell_type": "code",
   "execution_count": 38,
   "metadata": {},
   "outputs": [],
   "source": [
    "df['average_performance_expB'] = df[['mean_trained_sph', 'mean_untrained_sph', 'mean_untrained_code15']].mean(axis=1)"
   ]
  },
  {
   "cell_type": "code",
   "execution_count": 39,
   "metadata": {},
   "outputs": [
    {
     "name": "stdout",
     "output_type": "stream",
     "text": [
      "Best overall model for Exp B:\n",
      "Model UID                                                       23\n",
      "n_configs                                                        4\n",
      "text_encoder_model                 emilyalsentzer/Bio_ClinicalBERT\n",
      "ecg_encoder_model                                     CNN_model_v2\n",
      "train_datasets                     ('ptb_xl', 'ningbo', 'georgia')\n",
      "pretrained                                                   False\n",
      "test_metrics__ptb_xl                                   0.730±0.017\n",
      "test_metrics__ningbo                                   0.802±0.032\n",
      "test_metrics__georgia                                  0.710±0.016\n",
      "zero_shot_test_metrics__ptb_xl                         0.615±0.035\n",
      "zero_shot_test_metrics__ningbo                         0.640±0.015\n",
      "zero_shot_test_metrics__georgia                        0.698±0.009\n",
      "exp2_metrics_trained__sph                              0.829±0.029\n",
      "exp2_metrics_trained__code15                               nan±nan\n",
      "exp2_metrics_untrained__sph                            0.703±0.014\n",
      "exp2_metrics_untrained__code15                         0.637±0.028\n",
      "mean_ptb_xl                                                   0.73\n",
      "mean_ningbo                                                  0.802\n",
      "mean_georgia                                                  0.71\n",
      "average_performance_seen                                  0.747333\n",
      "mean_zero_shot_ptb_xl                                        0.615\n",
      "mean_zero_shot_ningbo                                         0.64\n",
      "mean_zero_shot_georgia                                       0.698\n",
      "average_performance_unseen                                   0.651\n",
      "mean_trained_sph                                             0.829\n",
      "mean_untrained_sph                                           0.703\n",
      "mean_untrained_code15                                        0.637\n",
      "average_performance_expB                                     0.723\n",
      "Name: 1, dtype: object\n"
     ]
    }
   ],
   "source": [
    "best_model_expB = df.loc[df['average_performance_expB'].idxmax()]\n",
    "\n",
    "print(\"Best overall model for Exp B:\")\n",
    "print(best_model_expB)"
   ]
  },
  {
   "cell_type": "code",
   "execution_count": 83,
   "metadata": {},
   "outputs": [
    {
     "name": "stderr",
     "output_type": "stream",
     "text": [
      "C:\\Users\\navme\\AppData\\Local\\Temp\\ipykernel_21452\\2395106536.py:13: MatplotlibDeprecationWarning: Passing the emit parameter of set_ylim() positionally is deprecated since Matplotlib 3.6; the parameter will become keyword-only two minor releases later.\n",
      "  plt.ylim(0.6, 0.75, 0.03)\n"
     ]
    },
    {
     "data": {
      "image/png": "[encoded data removed]",
      "text/plain": [
       "<Figure size 1200x600 with 1 Axes>"
      ]
     },
     "metadata": {},
     "output_type": "display_data"
    }
   ],
   "source": [
    "# Find the model with the highest average performance\n",
    "best_model_expB_index = df['average_performance_expB'].idxmax()\n",
    "best_model = df.loc[best_model_expB_index]\n",
    "\n",
    "# Plot the average performance of each model\n",
    "plt.figure(figsize=(12, 6))\n",
    "bars = plt.bar(df['ecg_encoder_model'], df['average_performance_expB'], color='maroon', width=0.7)\n",
    "\n",
    "# Highlight the best performing model\n",
    "bars[best_model_expB_index].set_color('green')\n",
    "\n",
    "# Set y-axis range\n",
    "plt.ylim(0.6, 0.75, 0.03)\n",
    "\n",
    "# Rotate x-axis labels\n",
    "plt.xticks(rotation=0, ha='center')\n",
    "\n",
    "plt.xlabel('Image Encoder Model')\n",
    "plt.ylabel('Mean ROC-AUC')\n",
    "plt.title('Experiment B: Best ')\n",
    "\n",
    "# Adjust layout to reduce white space\n",
    "plt.subplots_adjust(left=0.3, right=0.8, top=0.7, bottom=0.3)\n",
    "\n",
    "plt.show()"
   ]
  }
 ],
 "metadata": {
  "kernelspec": {
   "display_name": "Python 3",
   "language": "python",
   "name": "python3"
  },
  "language_info": {
   "codemirror_mode": {
    "name": "ipython",
    "version": 3
   },
   "file_extension": ".py",
   "mimetype": "text/x-python",
   "name": "python",
   "nbconvert_exporter": "python",
   "pygments_lexer": "ipython3",
   "version": "3.8.1"
  }
 },
 "nbformat": 4,
 "nbformat_minor": 2
}
