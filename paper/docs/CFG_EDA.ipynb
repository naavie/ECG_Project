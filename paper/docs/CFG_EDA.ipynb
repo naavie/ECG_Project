{
 "cells": [
  {
   "cell_type": "markdown",
   "metadata": {},
   "source": [
    "Exploring CFG files from ```results_viewer.ipynb```"
   ]
  },
  {
   "cell_type": "code",
   "execution_count": null,
   "metadata": {},
   "outputs": [],
   "source": [
    "import pandas as pd\n",
    "import json"
   ]
  },
  {
   "cell_type": "code",
   "execution_count": null,
   "metadata": {},
   "outputs": [],
   "source": [
    "CFG_files = [\n",
    "    \"04728b1accd4\", \"133dd7f69cdb\", \"19d8db9da7c9\", \"1daca59f89f0\", \n",
    "    \"1df7bd5e6bc5\", \"29edb150bba1\", \"29efd10cc35b\", \"2b74245b2760\", \n",
    "    \"30771647826f\", \"39a0aee494e6\", \"50cebc3f0fce\", \"52e1b29284b3\", \n",
    "    \"68573c2b98c0\", \"69e4f4215133\", \"7748de44d79e\", \"7c2e8b6061c9\", \n",
    "    \"7ebc188c6d5e\", \"9debdc44efdd\", \"9dfd6477a359\", \"cc4eb0111e23\", \n",
    "    \"d91b15e34ce7\", \"dd9086d44551\", \"f21a8efbe7bb\", \"f98c24cbc6f4\"\n",
    "]"
   ]
  },
  {
   "cell_type": "code",
   "execution_count": 161,
   "metadata": {},
   "outputs": [],
   "source": [
    "for CFG_file in CFG_files:\n",
    "    for fold in folds:\n",
    "        CFG_file_paths.append(PATH + CFG_file + fold + \".cfg\")\n",
    "\n",
    "assert (len(CFG_file_paths) == 24 * 4)"
   ]
  },
  {
   "cell_type": "code",
   "execution_count": 171,
   "metadata": {},
   "outputs": [],
   "source": [
    "def path_to_csv(CFG_file: str):\n",
    "    sheet1_config = [\n",
    "    \"seed\", \"batch_size\", \"ecg_sr\", \"text_embedding_size\", \"projection_dim\", \n",
    "    \"text_encoder_model\", \"ecg_encoder_model\", \"ecg_embedding_size\", \"ecg_channels\",\n",
    "    \"dropout\", \"temperature\", \"head_lr\", \"image_encoder_lr\", \"test_fold\", \"valid_fold\"]\n",
    "\n",
    "    sheet_2_metrics = [\n",
    "        \"train_datasets\", \"test_datasets\", \"normal_class\", \"test_metrics\", \n",
    "        \"zero_shot_test_metrics\", \"exp2_metrics_trained\", \"exp2_metrics_untrained\"]\n",
    "\n",
    "    FILE_PATH = \"C:/Users/navme/Desktop/ECG_Project/paper/results/\"\n",
    "    folds = [\"_fold1\", \"_fold2\", \"_fold3\", \"_fold4\"]\n",
    "    CFG_file_paths = []\n",
    "\n",
    "    output = pd.DataFrame()\n",
    "\n",
    "    for fold in folds:\n",
    "        CFG_file_paths.append(FILE_PATH + CFG_file + fold + \".cfg\")\n",
    "\n",
    "    for i, file in enumerate(CFG_file_paths):\n",
    "        with open(file) as f:\n",
    "            temp = json.load(f)\n",
    "            temp_df = pd.DataFrame.from_dict(temp, orient='index', columns=[f'fold{i+1}'])\n",
    "            output = pd.concat([output, temp_df], axis=1)\n",
    "    \n",
    "    output_sheet1 = output.loc[sheet1_config]\n",
    "    output_sheet2 = output.loc[sheet_2_metrics]\n",
    "\n",
    "    save_to_folder = \"C:/Users/navme/Desktop/ECG_Project/paper/docs/CFG filters\"\n",
    "    output_sheet1_path = f\"{save_to_folder}/{CFG_file}_CONFIG.csv\"\n",
    "    output_sheet2_path = f\"{save_to_folder}/{CFG_file}_METRICS.csv\"\n",
    "\n",
    "    output_sheet1.to_csv(output_sheet1_path, index=True)\n",
    "    output_sheet2.to_csv(output_sheet2_path, index=True)\n",
    "\n",
    "    print(f\"Files saved to {save_to_folder}\")"
   ]
  },
  {
   "cell_type": "code",
   "execution_count": null,
   "metadata": {},
   "outputs": [],
   "source": [
    "for CFG_file in CFG_files:\n",
    "    path_to_csv(CFG_file)"
   ]
  }
 ],
 "metadata": {
  "kernelspec": {
   "display_name": "Python 3",
   "language": "python",
   "name": "python3"
  },
  "language_info": {
   "codemirror_mode": {
    "name": "ipython",
    "version": 3
   },
   "file_extension": ".py",
   "mimetype": "text/x-python",
   "name": "python",
   "nbconvert_exporter": "python",
   "pygments_lexer": "ipython3",
   "version": "3.8.1"
  }
 },
 "nbformat": 4,
 "nbformat_minor": 2
}
