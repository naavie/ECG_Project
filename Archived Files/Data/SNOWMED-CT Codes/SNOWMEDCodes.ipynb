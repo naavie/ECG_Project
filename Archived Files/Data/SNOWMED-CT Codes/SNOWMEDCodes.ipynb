{
 "cells": [
  {
   "cell_type": "code",
   "execution_count": 5,
   "metadata": {},
   "outputs": [],
   "source": [
    "import sys\n",
    "sys.path.append('C:/Users/navme/Desktop/ECG_Project/PyFiles')"
   ]
  },
  {
   "cell_type": "code",
   "execution_count": 6,
   "metadata": {},
   "outputs": [],
   "source": [
    "import pandas as pd\n",
    "import requests\n",
    "import os\n",
    "from helper_functions import convert_to_forward_slashes"
   ]
  },
  {
   "cell_type": "code",
   "execution_count": 21,
   "metadata": {},
   "outputs": [],
   "source": [
    "snowmed_folder_path = r'C:\\Users\\navme\\Desktop\\ECG_Project\\SNOWMED-CT Codes'\n",
    "dx_mapping_scored_url = 'https://raw.githubusercontent.com/physionetchallenges/evaluation-2021/main/dx_mapping_scored.csv'\n",
    "dx_mapping_unscored_url = 'https://raw.githubusercontent.com/physionetchallenges/evaluation-2021/main/dx_mapping_unscored.csv'\n",
    "\n",
    "snowmed_folder_path = convert_to_forward_slashes(snowmed_folder_path)"
   ]
  },
  {
   "cell_type": "code",
   "execution_count": 22,
   "metadata": {},
   "outputs": [],
   "source": [
    "dx_scored_file_path = os.path.join(snowmed_folder_path, 'dx_mapping_scored.csv')\n",
    "dx_unscored_file_path = os.path.join(snowmed_folder_path, 'dx_mapping_unscored.csv')"
   ]
  },
  {
   "cell_type": "code",
   "execution_count": 23,
   "metadata": {},
   "outputs": [],
   "source": [
    "dx_scored_file_path = convert_to_forward_slashes(dx_scored_file_path)\n",
    "dx_unscored_file_path = convert_to_forward_slashes(dx_unscored_file_path)"
   ]
  },
  {
   "cell_type": "code",
   "execution_count": 24,
   "metadata": {},
   "outputs": [],
   "source": [
    "response = requests.get(dx_mapping_scored_url)\n",
    "with open(dx_scored_file_path, 'wb') as f:\n",
    "    f.write(response.content)"
   ]
  },
  {
   "cell_type": "code",
   "execution_count": 25,
   "metadata": {},
   "outputs": [],
   "source": [
    "response = requests.get(dx_mapping_unscored_url)\n",
    "with open(dx_unscored_file_path, 'wb') as f:\n",
    "    f.write(response.content)"
   ]
  },
  {
   "cell_type": "markdown",
   "metadata": {},
   "source": [
    "# Concatenating to one file:"
   ]
  },
  {
   "cell_type": "code",
   "execution_count": 26,
   "metadata": {},
   "outputs": [],
   "source": [
    "scored_mappings = pd.read_csv(dx_scored_file_path)\n",
    "unscored_mappings = pd.read_csv(dx_unscored_file_path)"
   ]
  },
  {
   "cell_type": "code",
   "execution_count": 35,
   "metadata": {},
   "outputs": [
    {
     "data": {
      "text/plain": [
       "(30, 13)"
      ]
     },
     "execution_count": 35,
     "metadata": {},
     "output_type": "execute_result"
    }
   ],
   "source": [
    "scored_mappings.head(3)\n",
    "scored_mappings.shape"
   ]
  },
  {
   "cell_type": "code",
   "execution_count": 36,
   "metadata": {},
   "outputs": [
    {
     "data": {
      "text/plain": [
       "(103, 12)"
      ]
     },
     "execution_count": 36,
     "metadata": {},
     "output_type": "execute_result"
    }
   ],
   "source": [
    "unscored_mappings.head(3)\n",
    "unscored_mappings.shape"
   ]
  },
  {
   "cell_type": "code",
   "execution_count": 29,
   "metadata": {},
   "outputs": [],
   "source": [
    "combined_mappings = pd.concat([scored_mappings, unscored_mappings])"
   ]
  },
  {
   "cell_type": "code",
   "execution_count": 37,
   "metadata": {},
   "outputs": [
    {
     "data": {
      "text/plain": [
       "(133, 13)"
      ]
     },
     "execution_count": 37,
     "metadata": {},
     "output_type": "execute_result"
    }
   ],
   "source": [
    "combined_mappings.head(3)\n",
    "combined_mappings.shape"
   ]
  },
  {
   "cell_type": "code",
   "execution_count": 38,
   "metadata": {},
   "outputs": [],
   "source": [
    "combined_mappings.to_csv(os.path.join(snowmed_folder_path, 'combined_mappings.csv'), index=False)"
   ]
  },
  {
   "cell_type": "code",
   "execution_count": 46,
   "metadata": {},
   "outputs": [
    {
     "data": {
      "text/html": [
       "<div>\n",
       "<style scoped>\n",
       "    .dataframe tbody tr th:only-of-type {\n",
       "        vertical-align: middle;\n",
       "    }\n",
       "\n",
       "    .dataframe tbody tr th {\n",
       "        vertical-align: top;\n",
       "    }\n",
       "\n",
       "    .dataframe thead th {\n",
       "        text-align: right;\n",
       "    }\n",
       "</style>\n",
       "<table border=\"1\" class=\"dataframe\">\n",
       "  <thead>\n",
       "    <tr style=\"text-align: right;\">\n",
       "      <th></th>\n",
       "      <th>Dx</th>\n",
       "      <th>SNOMEDCTCode</th>\n",
       "      <th>Abbreviation</th>\n",
       "      <th>CPSC</th>\n",
       "      <th>CPSC_Extra</th>\n",
       "      <th>StPetersburg</th>\n",
       "      <th>PTB</th>\n",
       "      <th>PTB_XL</th>\n",
       "      <th>Georgia</th>\n",
       "      <th>Chapman_Shaoxing</th>\n",
       "      <th>Ningbo</th>\n",
       "      <th>Total</th>\n",
       "      <th>Notes</th>\n",
       "    </tr>\n",
       "  </thead>\n",
       "  <tbody>\n",
       "    <tr>\n",
       "      <th>0</th>\n",
       "      <td>atrial fibrillation</td>\n",
       "      <td>164889003</td>\n",
       "      <td>AF</td>\n",
       "      <td>1221</td>\n",
       "      <td>153</td>\n",
       "      <td>2</td>\n",
       "      <td>15</td>\n",
       "      <td>1514</td>\n",
       "      <td>570</td>\n",
       "      <td>1780</td>\n",
       "      <td>0</td>\n",
       "      <td>5255</td>\n",
       "      <td>NaN</td>\n",
       "    </tr>\n",
       "    <tr>\n",
       "      <th>1</th>\n",
       "      <td>atrial flutter</td>\n",
       "      <td>164890007</td>\n",
       "      <td>AFL</td>\n",
       "      <td>0</td>\n",
       "      <td>54</td>\n",
       "      <td>0</td>\n",
       "      <td>1</td>\n",
       "      <td>73</td>\n",
       "      <td>186</td>\n",
       "      <td>445</td>\n",
       "      <td>7615</td>\n",
       "      <td>8374</td>\n",
       "      <td>NaN</td>\n",
       "    </tr>\n",
       "    <tr>\n",
       "      <th>2</th>\n",
       "      <td>bundle branch block</td>\n",
       "      <td>6374002</td>\n",
       "      <td>BBB</td>\n",
       "      <td>0</td>\n",
       "      <td>0</td>\n",
       "      <td>1</td>\n",
       "      <td>20</td>\n",
       "      <td>0</td>\n",
       "      <td>116</td>\n",
       "      <td>0</td>\n",
       "      <td>385</td>\n",
       "      <td>522</td>\n",
       "      <td>NaN</td>\n",
       "    </tr>\n",
       "    <tr>\n",
       "      <th>3</th>\n",
       "      <td>bradycardia</td>\n",
       "      <td>426627000</td>\n",
       "      <td>Brady</td>\n",
       "      <td>0</td>\n",
       "      <td>271</td>\n",
       "      <td>11</td>\n",
       "      <td>0</td>\n",
       "      <td>0</td>\n",
       "      <td>6</td>\n",
       "      <td>0</td>\n",
       "      <td>7</td>\n",
       "      <td>295</td>\n",
       "      <td>NaN</td>\n",
       "    </tr>\n",
       "    <tr>\n",
       "      <th>4</th>\n",
       "      <td>complete left bundle branch block</td>\n",
       "      <td>733534002</td>\n",
       "      <td>CLBBB</td>\n",
       "      <td>0</td>\n",
       "      <td>0</td>\n",
       "      <td>0</td>\n",
       "      <td>0</td>\n",
       "      <td>0</td>\n",
       "      <td>0</td>\n",
       "      <td>0</td>\n",
       "      <td>213</td>\n",
       "      <td>213</td>\n",
       "      <td>We score 733534002 and 164909002 as the same d...</td>\n",
       "    </tr>\n",
       "    <tr>\n",
       "      <th>...</th>\n",
       "      <td>...</td>\n",
       "      <td>...</td>\n",
       "      <td>...</td>\n",
       "      <td>...</td>\n",
       "      <td>...</td>\n",
       "      <td>...</td>\n",
       "      <td>...</td>\n",
       "      <td>...</td>\n",
       "      <td>...</td>\n",
       "      <td>...</td>\n",
       "      <td>...</td>\n",
       "      <td>...</td>\n",
       "      <td>...</td>\n",
       "    </tr>\n",
       "    <tr>\n",
       "      <th>98</th>\n",
       "      <td>paired ventricular premature complexes</td>\n",
       "      <td>251182009</td>\n",
       "      <td>VPVC</td>\n",
       "      <td>0</td>\n",
       "      <td>0</td>\n",
       "      <td>23</td>\n",
       "      <td>0</td>\n",
       "      <td>0</td>\n",
       "      <td>0</td>\n",
       "      <td>0</td>\n",
       "      <td>0</td>\n",
       "      <td>23</td>\n",
       "      <td>NaN</td>\n",
       "    </tr>\n",
       "    <tr>\n",
       "      <th>99</th>\n",
       "      <td>ventricular tachycardia</td>\n",
       "      <td>164895002</td>\n",
       "      <td>VTach</td>\n",
       "      <td>0</td>\n",
       "      <td>1</td>\n",
       "      <td>1</td>\n",
       "      <td>10</td>\n",
       "      <td>0</td>\n",
       "      <td>0</td>\n",
       "      <td>0</td>\n",
       "      <td>0</td>\n",
       "      <td>12</td>\n",
       "      <td>NaN</td>\n",
       "    </tr>\n",
       "    <tr>\n",
       "      <th>100</th>\n",
       "      <td>ventricular trigeminy</td>\n",
       "      <td>251180001</td>\n",
       "      <td>VTrig</td>\n",
       "      <td>0</td>\n",
       "      <td>4</td>\n",
       "      <td>4</td>\n",
       "      <td>0</td>\n",
       "      <td>20</td>\n",
       "      <td>1</td>\n",
       "      <td>8</td>\n",
       "      <td>0</td>\n",
       "      <td>37</td>\n",
       "      <td>NaN</td>\n",
       "    </tr>\n",
       "    <tr>\n",
       "      <th>101</th>\n",
       "      <td>wandering atrial pacemaker</td>\n",
       "      <td>195101003</td>\n",
       "      <td>WAP</td>\n",
       "      <td>0</td>\n",
       "      <td>0</td>\n",
       "      <td>0</td>\n",
       "      <td>0</td>\n",
       "      <td>0</td>\n",
       "      <td>7</td>\n",
       "      <td>2</td>\n",
       "      <td>0</td>\n",
       "      <td>9</td>\n",
       "      <td>NaN</td>\n",
       "    </tr>\n",
       "    <tr>\n",
       "      <th>102</th>\n",
       "      <td>wolff parkinson white pattern</td>\n",
       "      <td>74390002</td>\n",
       "      <td>WPW</td>\n",
       "      <td>0</td>\n",
       "      <td>0</td>\n",
       "      <td>4</td>\n",
       "      <td>2</td>\n",
       "      <td>80</td>\n",
       "      <td>2</td>\n",
       "      <td>4</td>\n",
       "      <td>68</td>\n",
       "      <td>160</td>\n",
       "      <td>NaN</td>\n",
       "    </tr>\n",
       "  </tbody>\n",
       "</table>\n",
       "<p>133 rows × 13 columns</p>\n",
       "</div>"
      ],
      "text/plain": [
       "                                         Dx  SNOMEDCTCode Abbreviation  CPSC  \\\n",
       "0                       atrial fibrillation     164889003           AF  1221   \n",
       "1                            atrial flutter     164890007          AFL     0   \n",
       "2                       bundle branch block       6374002          BBB     0   \n",
       "3                               bradycardia     426627000        Brady     0   \n",
       "4         complete left bundle branch block     733534002        CLBBB     0   \n",
       "..                                      ...           ...          ...   ...   \n",
       "98   paired ventricular premature complexes     251182009         VPVC     0   \n",
       "99                  ventricular tachycardia     164895002        VTach     0   \n",
       "100                   ventricular trigeminy     251180001        VTrig     0   \n",
       "101              wandering atrial pacemaker     195101003          WAP     0   \n",
       "102           wolff parkinson white pattern      74390002          WPW     0   \n",
       "\n",
       "     CPSC_Extra  StPetersburg  PTB  PTB_XL  Georgia  Chapman_Shaoxing  Ningbo  \\\n",
       "0           153             2   15    1514      570              1780       0   \n",
       "1            54             0    1      73      186               445    7615   \n",
       "2             0             1   20       0      116                 0     385   \n",
       "3           271            11    0       0        6                 0       7   \n",
       "4             0             0    0       0        0                 0     213   \n",
       "..          ...           ...  ...     ...      ...               ...     ...   \n",
       "98            0            23    0       0        0                 0       0   \n",
       "99            1             1   10       0        0                 0       0   \n",
       "100           4             4    0      20        1                 8       0   \n",
       "101           0             0    0       0        7                 2       0   \n",
       "102           0             4    2      80        2                 4      68   \n",
       "\n",
       "     Total                                              Notes  \n",
       "0     5255                                                NaN  \n",
       "1     8374                                                NaN  \n",
       "2      522                                                NaN  \n",
       "3      295                                                NaN  \n",
       "4      213  We score 733534002 and 164909002 as the same d...  \n",
       "..     ...                                                ...  \n",
       "98      23                                                NaN  \n",
       "99      12                                                NaN  \n",
       "100     37                                                NaN  \n",
       "101      9                                                NaN  \n",
       "102    160                                                NaN  \n",
       "\n",
       "[133 rows x 13 columns]"
      ]
     },
     "execution_count": 46,
     "metadata": {},
     "output_type": "execute_result"
    }
   ],
   "source": [
    "combined_mappings"
   ]
  }
 ],
 "metadata": {
  "kernelspec": {
   "display_name": "Python 3",
   "language": "python",
   "name": "python3"
  },
  "language_info": {
   "codemirror_mode": {
    "name": "ipython",
    "version": 3
   },
   "file_extension": ".py",
   "mimetype": "text/x-python",
   "name": "python",
   "nbconvert_exporter": "python",
   "pygments_lexer": "ipython3",
   "version": "3.8.1"
  }
 },
 "nbformat": 4,
 "nbformat_minor": 2
}
