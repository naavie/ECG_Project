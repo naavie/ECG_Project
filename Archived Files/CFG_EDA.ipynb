{
 "cells": [
  {
   "cell_type": "markdown",
   "metadata": {},
   "source": [
    "Exploring CFG files from ```results_viewer.ipynb```"
   ]
  },
  {
   "cell_type": "code",
   "execution_count": null,
   "metadata": {},
   "outputs": [],
   "source": [
    "import pandas as pd\n",
    "import json"
   ]
  },
  {
   "cell_type": "code",
   "execution_count": null,
   "metadata": {},
   "outputs": [],
   "source": [
    "CFG_files = [\n",
    "    \"04728b1accd4\", \"133dd7f69cdb\", \"19d8db9da7c9\", \"1daca59f89f0\", \n",
    "    \"1df7bd5e6bc5\", \"29edb150bba1\", \"29efd10cc35b\", \"2b74245b2760\", \n",
    "    \"30771647826f\", \"39a0aee494e6\", \"50cebc3f0fce\", \"52e1b29284b3\", \n",
    "    \"68573c2b98c0\", \"69e4f4215133\", \"7748de44d79e\", \"7c2e8b6061c9\", \n",
    "    \"7ebc188c6d5e\", \"9debdc44efdd\", \"9dfd6477a359\", \"cc4eb0111e23\", \n",
    "    \"d91b15e34ce7\", \"dd9086d44551\", \"f21a8efbe7bb\", \"f98c24cbc6f4\"\n",
    "]"
   ]
  },
  {
   "cell_type": "code",
   "execution_count": 161,
   "metadata": {},
   "outputs": [],
   "source": [
    "for CFG_file in CFG_files:\n",
    "    for fold in folds:\n",
    "        CFG_file_paths.append(PATH + CFG_file + fold + \".cfg\")\n",
    "\n",
    "assert (len(CFG_file_paths) == 24 * 4)"
   ]
  },
  {
   "cell_type": "code",
   "execution_count": 188,
   "metadata": {},
   "outputs": [],
   "source": [
    "def path_to_csv(CFG_file: str):\n",
    "    sheet1_config = [\n",
    "    \"seed\", \"batch_size\", \"ecg_sr\", \"text_embedding_size\", \"projection_dim\", \n",
    "    \"text_encoder_model\", \"ecg_encoder_model\", \"ecg_embedding_size\", \"ecg_channels\",\n",
    "    \"dropout\", \"temperature\", \"head_lr\", \"image_encoder_lr\", \"test_fold\", \"valid_fold\"]\n",
    "\n",
    "    sheet_2_metrics = [\n",
    "        \"train_datasets\", \"test_datasets\", \"normal_class\", \"test_metrics\", \n",
    "        \"zero_shot_test_metrics\", \"exp2_metrics_trained\", \"exp2_metrics_untrained\"]\n",
    "\n",
    "    FILE_PATH = \"C:/Users/navme/Desktop/ECG_Project/paper/results/\"\n",
    "    folds = [\"_fold1\", \"_fold2\", \"_fold3\", \"_fold4\"]\n",
    "    CFG_file_paths = []\n",
    "\n",
    "    output = pd.DataFrame()\n",
    "\n",
    "    for fold in folds:\n",
    "        CFG_file_paths.append(FILE_PATH + CFG_file + fold + \".cfg\")\n",
    "\n",
    "    for i, file in enumerate(CFG_file_paths):\n",
    "        with open(file) as f:\n",
    "            temp = json.load(f)\n",
    "            temp_df = pd.DataFrame.from_dict(temp, orient='index', columns=[f'fold{i+1}'])\n",
    "            output = pd.concat([output, temp_df], axis=1)\n",
    "    \n",
    "    output_sheet1 = output.loc[sheet1_config]\n",
    "    output_sheet2 = output.loc[sheet_2_metrics]\n",
    "\n",
    "    save_to_folder = \"C:/Users/navme/Desktop/ECG_Project/paper/docs/CFG filters\"\n",
    "    output_sheet1_path = f\"{save_to_folder}/{CFG_file}_CONFIG.csv\"\n",
    "    output_sheet2_path = f\"{save_to_folder}/{CFG_file}_METRICS.csv\"\n",
    "\n",
    "    output_sheet1.to_csv(output_sheet1_path, index=True)\n",
    "    output_sheet2.to_csv(output_sheet2_path, index=True)\n",
    "\n",
    "    print(f\"Files saved to {save_to_folder}\")"
   ]
  },
  {
   "cell_type": "code",
   "execution_count": null,
   "metadata": {},
   "outputs": [],
   "source": [
    "for CFG_file in CFG_files:\n",
    "    path_to_csv(CFG_file)"
   ]
  },
  {
   "cell_type": "code",
   "execution_count": 190,
   "metadata": {},
   "outputs": [],
   "source": [
    "METRICS_04728b1accd4 = pd.read_csv(\"C:/Users/navme/Desktop/ECG_Project/paper/docs/CFG filters/04728b1accd4_METRICS.csv\")"
   ]
  },
  {
   "cell_type": "code",
   "execution_count": 191,
   "metadata": {},
   "outputs": [
    {
     "data": {
      "text/html": [
       "<div>\n",
       "<style scoped>\n",
       "    .dataframe tbody tr th:only-of-type {\n",
       "        vertical-align: middle;\n",
       "    }\n",
       "\n",
       "    .dataframe tbody tr th {\n",
       "        vertical-align: top;\n",
       "    }\n",
       "\n",
       "    .dataframe thead th {\n",
       "        text-align: right;\n",
       "    }\n",
       "</style>\n",
       "<table border=\"1\" class=\"dataframe\">\n",
       "  <thead>\n",
       "    <tr style=\"text-align: right;\">\n",
       "      <th></th>\n",
       "      <th>Unnamed: 0</th>\n",
       "      <th>fold1</th>\n",
       "      <th>fold2</th>\n",
       "      <th>fold3</th>\n",
       "      <th>fold4</th>\n",
       "    </tr>\n",
       "  </thead>\n",
       "  <tbody>\n",
       "    <tr>\n",
       "      <th>0</th>\n",
       "      <td>train_datasets</td>\n",
       "      <td>['ptb_xl', 'ningbo', 'georgia']</td>\n",
       "      <td>['ptb_xl', 'ningbo', 'georgia']</td>\n",
       "      <td>['ptb_xl', 'ningbo', 'georgia']</td>\n",
       "      <td>['ptb_xl', 'ningbo', 'georgia']</td>\n",
       "    </tr>\n",
       "    <tr>\n",
       "      <th>1</th>\n",
       "      <td>test_datasets</td>\n",
       "      <td>['sph', 'code15']</td>\n",
       "      <td>['sph', 'code15']</td>\n",
       "      <td>['sph', 'code15']</td>\n",
       "      <td>['sph', 'code15']</td>\n",
       "    </tr>\n",
       "    <tr>\n",
       "      <th>2</th>\n",
       "      <td>normal_class</td>\n",
       "      <td>normal ecg</td>\n",
       "      <td>normal ecg</td>\n",
       "      <td>normal ecg</td>\n",
       "      <td>normal ecg</td>\n",
       "    </tr>\n",
       "    <tr>\n",
       "      <th>3</th>\n",
       "      <td>test_metrics</td>\n",
       "      <td>{'ptb_xl': {'accuracy': 0.3510784763653052, 'a...</td>\n",
       "      <td>{'ptb_xl': {'accuracy': 0.37907296925195044, '...</td>\n",
       "      <td>{'ptb_xl': {'accuracy': 0.3822854520422212, 'a...</td>\n",
       "      <td>{'ptb_xl': {'accuracy': 0.3898577329050023, 'a...</td>\n",
       "    </tr>\n",
       "    <tr>\n",
       "      <th>4</th>\n",
       "      <td>zero_shot_test_metrics</td>\n",
       "      <td>{'ptb_xl': {'accuracy': 0.03396053235429096, '...</td>\n",
       "      <td>{'ptb_xl': {'accuracy': 0.03304268012849931, '...</td>\n",
       "      <td>{'ptb_xl': {'accuracy': 0.028453418999541073, ...</td>\n",
       "      <td>{'ptb_xl': {'accuracy': 0.04864616796695732, '...</td>\n",
       "    </tr>\n",
       "    <tr>\n",
       "      <th>5</th>\n",
       "      <td>exp2_metrics_trained</td>\n",
       "      <td>{'sph': {'accuracy': 0.09530461777260381, 'abn...</td>\n",
       "      <td>{'sph': {'accuracy': 0.07213814512999613, 'abn...</td>\n",
       "      <td>{'sph': {'accuracy': 0.06461001164144353, 'abn...</td>\n",
       "      <td>{'sph': {'accuracy': 0.07997671711292201, 'abn...</td>\n",
       "    </tr>\n",
       "    <tr>\n",
       "      <th>6</th>\n",
       "      <td>exp2_metrics_untrained</td>\n",
       "      <td>{'sph': {'accuracy': 0.09057043073341094, '1st...</td>\n",
       "      <td>{'sph': {'accuracy': 0.11874272409778813, '1st...</td>\n",
       "      <td>{'sph': {'accuracy': 0.07306946061311603, '1st...</td>\n",
       "      <td>{'sph': {'accuracy': 0.11098176173845557, '1st...</td>\n",
       "    </tr>\n",
       "  </tbody>\n",
       "</table>\n",
       "</div>"
      ],
      "text/plain": [
       "               Unnamed: 0                                              fold1  \\\n",
       "0          train_datasets                    ['ptb_xl', 'ningbo', 'georgia']   \n",
       "1           test_datasets                                  ['sph', 'code15']   \n",
       "2            normal_class                                         normal ecg   \n",
       "3            test_metrics  {'ptb_xl': {'accuracy': 0.3510784763653052, 'a...   \n",
       "4  zero_shot_test_metrics  {'ptb_xl': {'accuracy': 0.03396053235429096, '...   \n",
       "5    exp2_metrics_trained  {'sph': {'accuracy': 0.09530461777260381, 'abn...   \n",
       "6  exp2_metrics_untrained  {'sph': {'accuracy': 0.09057043073341094, '1st...   \n",
       "\n",
       "                                               fold2  \\\n",
       "0                    ['ptb_xl', 'ningbo', 'georgia']   \n",
       "1                                  ['sph', 'code15']   \n",
       "2                                         normal ecg   \n",
       "3  {'ptb_xl': {'accuracy': 0.37907296925195044, '...   \n",
       "4  {'ptb_xl': {'accuracy': 0.03304268012849931, '...   \n",
       "5  {'sph': {'accuracy': 0.07213814512999613, 'abn...   \n",
       "6  {'sph': {'accuracy': 0.11874272409778813, '1st...   \n",
       "\n",
       "                                               fold3  \\\n",
       "0                    ['ptb_xl', 'ningbo', 'georgia']   \n",
       "1                                  ['sph', 'code15']   \n",
       "2                                         normal ecg   \n",
       "3  {'ptb_xl': {'accuracy': 0.3822854520422212, 'a...   \n",
       "4  {'ptb_xl': {'accuracy': 0.028453418999541073, ...   \n",
       "5  {'sph': {'accuracy': 0.06461001164144353, 'abn...   \n",
       "6  {'sph': {'accuracy': 0.07306946061311603, '1st...   \n",
       "\n",
       "                                               fold4  \n",
       "0                    ['ptb_xl', 'ningbo', 'georgia']  \n",
       "1                                  ['sph', 'code15']  \n",
       "2                                         normal ecg  \n",
       "3  {'ptb_xl': {'accuracy': 0.3898577329050023, 'a...  \n",
       "4  {'ptb_xl': {'accuracy': 0.04864616796695732, '...  \n",
       "5  {'sph': {'accuracy': 0.07997671711292201, 'abn...  \n",
       "6  {'sph': {'accuracy': 0.11098176173845557, '1st...  "
      ]
     },
     "execution_count": 191,
     "metadata": {},
     "output_type": "execute_result"
    }
   ],
   "source": [
    "METRICS_04728b1accd4"
   ]
  },
  {
   "cell_type": "code",
   "execution_count": 197,
   "metadata": {},
   "outputs": [
    {
     "data": {
      "text/plain": [
       "\"{'sph': {'accuracy': 0.09057043073341094, '1st degree av block_trues': 0, '1st degree av block_samples': 25770, '1st degree av block_freq': 0.0, '1st degree av block_rocauc': None, '1st degree av block_prauc': None, 'atrial fibrillation_trues': 675, 'atrial fibrillation_samples': 25770, 'atrial fibrillation_freq': 0.02619324796274738, 'atrial fibrillation_rocauc': 0.95773689609115, 'atrial fibrillation_prauc': 0.7220395277642278, 'atrial premature complexes_trues': 542, 'atrial premature complexes_samples': 25770, 'atrial premature complexes_freq': 0.02103220799379123, 'atrial premature complexes_rocauc': 0.9696983802920319, 'atrial premature complexes_prauc': 0.44221240515997984, 'incomplete right bundle branch block_trues': 1259, 'incomplete right bundle branch block_samples': 25770, 'incomplete right bundle branch block_freq': 0.048855258051998446, 'incomplete right bundle branch block_rocauc': 0.6289264073587554, 'incomplete right bundle branch block_prauc': 0.07358335558746784, 'inferior mi_trues': 120, 'inferior mi_samples': 25770, 'inferior mi_freq': 0.004656577415599534, 'inferior mi_rocauc': 0.7120847953216374, 'inferior mi_prauc': 0.013046662587432863, 'left bundle branch block_trues': 84, 'left bundle branch block_samples': 25770, 'left bundle branch block_freq': 0.003259604190919674, 'left bundle branch block_rocauc': 0.9738974445964635, 'left bundle branch block_prauc': 0.06937732200240382, 'right bundle branch block_trues': 1968, 'right bundle branch block_samples': 25770, 'right bundle branch block_freq': 0.07636786961583236, 'right bundle branch block_rocauc': 0.7778323331270243, 'right bundle branch block_prauc': 0.475585002050827, 'sinus bradycardia_trues': 2711, 'sinus bradycardia_samples': 25770, 'sinus bradycardia_freq': 0.10519984478075281, 'sinus bradycardia_rocauc': 0.42752084052217726, 'sinus bradycardia_prauc': 0.09650407016979681, 'sinus tachycardia_trues': 725, 'sinus tachycardia_samples': 25770, 'sinus tachycardia_freq': 0.02813348855258052, 'sinus tachycardia_rocauc': 0.2687988104171113, 'sinus tachycardia_prauc': 0.0173643558728732, 'st deviation_trues': 2891, 'st deviation_samples': 25770, 'st deviation_freq': 0.11218471090415212, 'st deviation_rocauc': 0.5143621212457717, 'st deviation_prauc': 0.12576252526411857, 'st deviation with t-wave change_trues': 1063, 'st deviation with t-wave change_samples': 25770, 'st deviation with t-wave change_freq': 0.041249514939852544, 'st deviation with t-wave change_rocauc': 0.8208170406267761, 'st deviation with t-wave change_prauc': 0.16440411044644204, 'mean_rocaucs': 0.7051675069598898, 'mean_praucs': 0.21998793369055697}, 'code15': {'accuracy': 0.016762151547664837, '1st degree av block_trues': 5716, '1st degree av block_samples': 345779, '1st degree av block_freq': 0.01653078989759355, '1st degree av block_rocauc': 0.6167917112802218, '1st degree av block_prauc': 0.03279712890515865, 'atrial fibrillation_trues': 7033, 'atrial fibrillation_samples': 345779, 'atrial fibrillation_freq': 0.020339581061892133, 'atrial fibrillation_rocauc': 0.6890887506897045, 'atrial fibrillation_prauc': 0.12505318753641992, 'atrial premature complexes_trues': 0, 'atrial premature complexes_samples': 345779, 'atrial premature complexes_freq': 0.0, 'atrial premature complexes_rocauc': None, 'atrial premature complexes_prauc': None, 'incomplete right bundle branch block_trues': 0, 'incomplete right bundle branch block_samples': 345779, 'incomplete right bundle branch block_freq': 0.0, 'incomplete right bundle branch block_rocauc': None, 'incomplete right bundle branch block_prauc': None, 'inferior mi_trues': 0, 'inferior mi_samples': 345779, 'inferior mi_freq': 0.0, 'inferior mi_rocauc': None, 'inferior mi_prauc': None, 'left bundle branch block_trues': 6026, 'left bundle branch block_samples': 345779, 'left bundle branch block_freq': 0.017427316291619793, 'left bundle branch block_rocauc': 0.9319849101657323, 'left bundle branch block_prauc': 0.17610983376074194, 'right bundle branch block_trues': 9672, 'right bundle branch block_samples': 345779, 'right bundle branch block_freq': 0.027971623493618758, 'right bundle branch block_rocauc': 0.9217415433018085, 'right bundle branch block_prauc': 0.4232914260423286, 'sinus bradycardia_trues': 5605, 'sinus bradycardia_samples': 345779, 'sinus bradycardia_freq': 0.016209775608119637, 'sinus bradycardia_rocauc': 0.3118947829537853, 'sinus bradycardia_prauc': 0.010695932860144025, 'sinus tachycardia_trues': 7584, 'sinus tachycardia_samples': 345779, 'sinus tachycardia_freq': 0.02193308442675813, 'sinus tachycardia_rocauc': 0.4346361024224346, 'sinus tachycardia_prauc': 0.01766253568229103, 'st deviation_trues': 0, 'st deviation_samples': 345779, 'st deviation_freq': 0.0, 'st deviation_rocauc': None, 'st deviation_prauc': None, 'st deviation with t-wave change_trues': 0, 'st deviation with t-wave change_samples': 345779, 'st deviation with t-wave change_freq': 0.0, 'st deviation with t-wave change_rocauc': None, 'st deviation with t-wave change_prauc': None, 'mean_rocaucs': 0.6510229668022812, 'mean_praucs': 0.13093500746451403}}\""
      ]
     },
     "execution_count": 197,
     "metadata": {},
     "output_type": "execute_result"
    }
   ],
   "source": [
    "METRICS_04728b1accd4[\"fold1\"][6]"
   ]
  }
 ],
 "metadata": {
  "kernelspec": {
   "display_name": "Python 3",
   "language": "python",
   "name": "python3"
  },
  "language_info": {
   "codemirror_mode": {
    "name": "ipython",
    "version": 3
   },
   "file_extension": ".py",
   "mimetype": "text/x-python",
   "name": "python",
   "nbconvert_exporter": "python",
   "pygments_lexer": "ipython3",
   "version": "3.8.1"
  }
 },
 "nbformat": 4,
 "nbformat_minor": 2
}
