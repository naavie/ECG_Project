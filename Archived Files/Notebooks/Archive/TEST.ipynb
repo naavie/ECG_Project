{
  "nbformat": 4,
  "nbformat_minor": 0,
  "metadata": {
    "colab": {
      "provenance": [],
      "authorship_tag": "ABX9TyOgg91yHC64JTZ6yQDDH28o",
      "include_colab_link": true
    },
    "kernelspec": {
      "name": "python3",
      "display_name": "Python 3"
    },
    "language_info": {
      "name": "python"
    }
  },
  "cells": [
    {
      "cell_type": "markdown",
      "metadata": {
        "id": "view-in-github",
        "colab_type": "text"
      },
      "source": [
        "<a href=\"https://colab.research.google.com/github/naavie/ECG_Project/blob/main/TEST.ipynb\" target=\"_parent\"><img src=\"https://colab.research.google.com/assets/colab-badge.svg\" alt=\"Open In Colab\"/></a>"
      ]
    },
    {
      "cell_type": "markdown",
      "source": [
        "Adding some content to see how the updates look on Github after pushing the changes."
      ],
      "metadata": {
        "id": "SiKWlJXk43Du"
      }
    },
    {
      "cell_type": "code",
      "source": [
        "print(\"Hello, This is a test!\")"
      ],
      "metadata": {
        "colab": {
          "base_uri": "https://localhost:8080/"
        },
        "id": "CWPgoMH15Ne-",
        "outputId": "193483d9-29f2-431d-bbb5-b98193856f8d"
      },
      "execution_count": null,
      "outputs": [
        {
          "output_type": "stream",
          "name": "stdout",
          "text": [
            "Hello, This is a test!\n"
          ]
        }
      ]
    },
    {
      "cell_type": "code",
      "source": [
        "# MORE UPDATES\n",
        "\n",
        "# Just checking to see how version control looks when Jupyter notebooks from Github are used on Google Colab."
      ],
      "metadata": {
        "id": "zuR8ie0n6I4-"
      },
      "execution_count": null,
      "outputs": []
    },
    {
      "cell_type": "code",
      "source": [
        "\n"
      ],
      "metadata": {
        "id": "hY724hmy6J1V"
      },
      "execution_count": null,
      "outputs": []
    }
  ]
}