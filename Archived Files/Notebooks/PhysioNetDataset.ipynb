{
 "cells": [
  {
   "cell_type": "markdown",
   "metadata": {},
   "source": [
    "# Main Thesis Topic: “Zero-shot classification of ECG signals using CLIP-like model”.\n",
    "\n",
    "**For example: Train on PBT-XL:**\n",
    "\n",
    "- Text Encoder: ClinicalBERT (trained on diagnoses of ECG signal to obtain corresponding embeddings)\n",
    "- Image Encoder: 1D-CNN (used to encode ECG signal to obtain signal embeddings)\n",
    "\n",
    "- Experiment A): Baseline: We can take only the name of the class. For example, take “Myocardial Infarction” as a text. We should exclude some classes from training and after training is completed, the CLIP-like model can be tested on these excluded classes.\n",
    "    - Next, we get embeddings of text from ClinicalBERT and train the ECG encoder with contrastive loss.\n",
    "\n",
    "- Experiment B): Same as Experiment A but instead of testing on the same dataset/classes, we would test on other datasets containing different classes.\n",
    "\n",
    "**Evaluation metrics:**\n",
    "- Main: AUC-ROC, average_precison_score,\n",
    "- Optional: Specificity, Sensitivity, F1-score\n",
    "\n",
    "**Outcome:**\n",
    "- It’s possible to train CLIP-like models with freezed (or unchanged/not fine tuned for downstream tasks) text encoder\n",
    "- Training ECG encoders that are viable for representing different domains (within ECG modality) and previously unseen classes.\n",
    "- Training a CLIP-like model on ECGs has little novelty."
   ]
  },
  {
   "cell_type": "markdown",
   "metadata": {},
   "source": [
    "## Experiment A: PTB & PTB-XL ONLY\n",
    "\n",
    "-  Baseline: We can take only the name of the class. For example, take “Myocardial Infarction” as a text. We should exclude some classes from training and after training is completed, the CLIP-like model can be tested on these excluded classes.\n",
    "- Next, we get embeddings of text from ClinicalBERT and train the ECG encoder with contrastive loss."
   ]
  },
  {
   "cell_type": "code",
   "execution_count": 8,
   "metadata": {},
   "outputs": [],
   "source": [
    "import os\n",
    "import sys\n",
    "import random\n",
    "import ast\n",
    "import pickle\n",
    "\n",
    "import numpy as np\n",
    "import pandas as pd\n",
    "import matplotlib.pyplot as plt\n",
    "from tqdm import tqdm\n",
    "from scipy.signal import resample\n",
    "import scipy.io as sio\n",
    "from scipy import signal\n",
    "from sklearn.metrics import roc_auc_score, average_precision_score, f1_score\n",
    "\n",
    "import torch\n",
    "from torch.utils.data import random_split\n",
    "import torch.nn as nn\n",
    "import torch.optim as optim\n",
    "import torch.nn.functional as F\n",
    "from transformers import AutoTokenizer, AutoModel\n",
    "from torch.nn.functional import cosine_similarity\n",
    "from torch.utils.data import DataLoader\n",
    "from torch.nn.utils.rnn import pad_sequence"
   ]
  },
  {
   "cell_type": "code",
   "execution_count": 3,
   "metadata": {},
   "outputs": [],
   "source": [
    "sys.path.append('C:/Users/navme/Desktop/ECG_Project/PyFiles')"
   ]
  },
  {
   "cell_type": "code",
   "execution_count": 4,
   "metadata": {},
   "outputs": [],
   "source": [
    "from helper_functions import *"
   ]
  },
  {
   "cell_type": "markdown",
   "metadata": {},
   "source": [
    "Using the ```PhysioNet_PATH```, we can create separate datasets for training, testing & validation.\n",
    "\n",
    "# Stage 1: Data Preprocessing\n",
    "\n",
    "- train_set (train & validation data)\n",
    "- test_set (test data)"
   ]
  },
  {
   "cell_type": "markdown",
   "metadata": {},
   "source": [
    "First, let's load the SNOWMED-CT mappings:"
   ]
  },
  {
   "cell_type": "code",
   "execution_count": 5,
   "metadata": {},
   "outputs": [
    {
     "data": {
      "text/html": [
       "<div>\n",
       "<style scoped>\n",
       "    .dataframe tbody tr th:only-of-type {\n",
       "        vertical-align: middle;\n",
       "    }\n",
       "\n",
       "    .dataframe tbody tr th {\n",
       "        vertical-align: top;\n",
       "    }\n",
       "\n",
       "    .dataframe thead th {\n",
       "        text-align: right;\n",
       "    }\n",
       "</style>\n",
       "<table border=\"1\" class=\"dataframe\">\n",
       "  <thead>\n",
       "    <tr style=\"text-align: right;\">\n",
       "      <th></th>\n",
       "      <th>Dx</th>\n",
       "      <th>SNOMEDCTCode</th>\n",
       "      <th>Abbreviation</th>\n",
       "      <th>CPSC</th>\n",
       "      <th>CPSC_Extra</th>\n",
       "      <th>StPetersburg</th>\n",
       "      <th>PTB</th>\n",
       "      <th>PTB_XL</th>\n",
       "      <th>Georgia</th>\n",
       "      <th>Chapman_Shaoxing</th>\n",
       "      <th>Ningbo</th>\n",
       "      <th>Total</th>\n",
       "      <th>Notes</th>\n",
       "    </tr>\n",
       "  </thead>\n",
       "  <tbody>\n",
       "    <tr>\n",
       "      <th>0</th>\n",
       "      <td>atrial fibrillation</td>\n",
       "      <td>164889003</td>\n",
       "      <td>AF</td>\n",
       "      <td>1221</td>\n",
       "      <td>153</td>\n",
       "      <td>2</td>\n",
       "      <td>15</td>\n",
       "      <td>1514</td>\n",
       "      <td>570</td>\n",
       "      <td>1780</td>\n",
       "      <td>0</td>\n",
       "      <td>5255</td>\n",
       "      <td>NaN</td>\n",
       "    </tr>\n",
       "    <tr>\n",
       "      <th>1</th>\n",
       "      <td>atrial flutter</td>\n",
       "      <td>164890007</td>\n",
       "      <td>AFL</td>\n",
       "      <td>0</td>\n",
       "      <td>54</td>\n",
       "      <td>0</td>\n",
       "      <td>1</td>\n",
       "      <td>73</td>\n",
       "      <td>186</td>\n",
       "      <td>445</td>\n",
       "      <td>7615</td>\n",
       "      <td>8374</td>\n",
       "      <td>NaN</td>\n",
       "    </tr>\n",
       "  </tbody>\n",
       "</table>\n",
       "</div>"
      ],
      "text/plain": [
       "                    Dx  SNOMEDCTCode Abbreviation  CPSC  CPSC_Extra  \\\n",
       "0  atrial fibrillation     164889003           AF  1221         153   \n",
       "1       atrial flutter     164890007          AFL     0          54   \n",
       "\n",
       "   StPetersburg  PTB  PTB_XL  Georgia  Chapman_Shaoxing  Ningbo  Total Notes  \n",
       "0             2   15    1514      570              1780       0   5255   NaN  \n",
       "1             0    1      73      186               445    7615   8374   NaN  "
      ]
     },
     "execution_count": 5,
     "metadata": {},
     "output_type": "execute_result"
    }
   ],
   "source": [
    "smowmed_mappings_path = convert_to_forward_slashes(r'C:\\Users\\navme\\Desktop\\ECG_Project\\Data\\SNOWMED-CT Codes\\combined_mappings.csv')\n",
    "\n",
    "# Load the SNOMED-CT mappings\n",
    "smowmed_mappings = pd.read_csv(smowmed_mappings_path)\n",
    "smowmed_mappings.head(2)"
   ]
  },
  {
   "cell_type": "code",
   "execution_count": 6,
   "metadata": {},
   "outputs": [],
   "source": [
    "# Select the 'Dx' and 'SNOMEDCTCode' columns\n",
    "codes = smowmed_mappings[['Dx', 'SNOMEDCTCode']]\n",
    "\n",
    "# Set 'SNOWMEDCTCode' as the index\n",
    "codes.set_index('SNOMEDCTCode', inplace=True)\n",
    "\n",
    "# Convert the DataFrame into a dictionary\n",
    "codes_dict = codes['Dx'].to_dict()"
   ]
  },
  {
   "cell_type": "code",
   "execution_count": 8,
   "metadata": {},
   "outputs": [
    {
     "data": {
      "text/plain": [
       "[(164889003, 'atrial fibrillation'),\n",
       " (164890007, 'atrial flutter'),\n",
       " (6374002, 'bundle branch block'),\n",
       " (426627000, 'bradycardia'),\n",
       " (733534002, 'complete left bundle branch block')]"
      ]
     },
     "execution_count": 8,
     "metadata": {},
     "output_type": "execute_result"
    }
   ],
   "source": [
    "list(codes_dict.items())[:5]"
   ]
  },
  {
   "cell_type": "markdown",
   "metadata": {},
   "source": [
    "# Updated PhysioNetDataset Class \n",
    "\n",
    "- Update the ```PhysioNetDataset``` class such that instead of header_info --> return header_info['Dx']. Then convert the Dx code to string input for TextEncoder(). "
   ]
  },
  {
   "cell_type": "code",
   "execution_count": 7,
   "metadata": {},
   "outputs": [],
   "source": [
    "class PhysioNetDataset(torch.utils.data.Dataset):\n",
    "    def __init__(self, dataset_path, train=False):\n",
    "        self.dataset_path = dataset_path\n",
    "        self.dataset_path = [path for path in self.dataset_path if \"index.html\" not in path]\n",
    "        self.train = train\n",
    "        self.file_list = os.listdir(dataset_path)\n",
    "        self._hea_files = []\n",
    "        self._mat_files = []\n",
    "        self._indices_files = []\n",
    "        self._hea_files_path = []\n",
    "        self._mat_files_path = []\n",
    "\n",
    "        self.file_PATHS = []  # Directory to main database folders\n",
    "        self.data_files = []  # Directory to data files\n",
    "\n",
    "        # Validation Case: PTB Databases only\n",
    "        if self.train == False:\n",
    "            validation_datasets = ['ptb', 'ptb-xl']\n",
    "            for file in os.listdir(dataset_path):\n",
    "                if file in validation_datasets:\n",
    "                    file_path = os.path.join(dataset_path, file)\n",
    "                    file_path = file_path.replace('\\\\', '/')\n",
    "                    self.file_PATHS.append(file_path)\n",
    "\n",
    "        # Training Case: All Databases excluding PTB\n",
    "        else:\n",
    "            validation_datasets = ['ptb', 'ptb-xl']\n",
    "            for file in os.listdir(dataset_path):\n",
    "                if file not in validation_datasets:\n",
    "                    file_path = os.path.join(dataset_path, file)\n",
    "                    file_path = file_path.replace('\\\\', '/')\n",
    "                    self.file_PATHS.append(file_path)\n",
    "\n",
    "        for path in self.file_PATHS:\n",
    "            if os.path.isdir(path):\n",
    "                for sub_folder in os.listdir(path):\n",
    "                    sub_folder_path = os.path.join(path, sub_folder)\n",
    "                    sub_folder_path = sub_folder_path.replace('\\\\', '/')\n",
    "\n",
    "                    # Ignore index.html files\n",
    "                    if sub_folder_path.endswith('index.html'):\n",
    "                        self._indices_files.append(sub_folder_path)\n",
    "                    else:\n",
    "                        if os.path.isdir(sub_folder_path):\n",
    "                            for file in os.listdir(sub_folder_path):\n",
    "                                # Get all .hea files\n",
    "                                if file.endswith('.hea'):\n",
    "                                    file_path = os.path.join(sub_folder_path, file)\n",
    "                                    file_path = file_path.replace('\\\\', '/')\n",
    "                                    self._hea_files.append(file_path)\n",
    "                                    self._hea_files_path.append(file_path)\n",
    "                                # Get all .mat files\n",
    "                                elif file.endswith('.mat'):\n",
    "                                    file_path = os.path.join(sub_folder_path, file)\n",
    "                                    file_path = file_path.replace('\\\\', '/')\n",
    "                                    self._mat_files.append(file_path)\n",
    "                                    self._mat_files_path.append(file_path)\n",
    "\n",
    "    def resample_ecg(self, ecg, new_length=1280):\n",
    "        # Get the current length of the ECG\n",
    "        current_length = ecg.shape[1]\n",
    "\n",
    "        # Resample the ECG\n",
    "        resampled_ecg = resample(ecg, new_length, axis=1)\n",
    "\n",
    "        return resampled_ecg\n",
    "\n",
    "    def __getitem__(self, index):\n",
    "        if isinstance(index, slice):\n",
    "            start, stop, step = index.indices(len(self))\n",
    "            return [self[i] for i in range(start, stop, step)]\n",
    "        # 1. Get .hea file\n",
    "        hea_file_path = self._hea_files[index]\n",
    "        with open(hea_file_path, 'r') as f:\n",
    "            lines = f.readlines()\n",
    "\n",
    "        dx_modalities = None\n",
    "        # Parse header information\n",
    "        for line in lines:\n",
    "            if line.startswith('# Dx:'):\n",
    "                dx_codes = line.split(':')[1].strip().split(',')\n",
    "                dx_modalities = [codes_dict.get(int(code.strip()), code.strip()) for code in dx_codes]\n",
    "\n",
    "        # 2. Get .mat file\n",
    "        twelve_lead_ecg = None\n",
    "        if index < len(self._mat_files):\n",
    "            mat_file_path = self._mat_files[index]\n",
    "            mat_data = sio.loadmat(mat_file_path)\n",
    "\n",
    "            # Extract the ECG data\n",
    "            twelve_lead_ecg = mat_data['val']\n",
    "\n",
    "            # Resample the ECG if it is not None\n",
    "            twelve_lead_ecg = self.resample_ecg(twelve_lead_ecg)\n",
    "            \n",
    "        else:\n",
    "            print(f\"MAT file for index {index} does not exist.\")\n",
    "\n",
    "        # Return list of diagnoses and the np array of the 12-lead ECG\n",
    "        return dx_modalities, twelve_lead_ecg\n",
    "\n",
    "\n",
    "    def plot_record(self, index):\n",
    "        mat_file_path = self._mat_files[index]\n",
    "        data = sio.loadmat(mat_file_path)\n",
    "        fig, axs = plt.subplots(nrows=3, ncols=4, figsize=(20, 15))\n",
    "\n",
    "        for i, ax in enumerate(axs.flat):\n",
    "            ax.plot(data['val'][i], linewidth=0.5)\n",
    "            ax.set_xlabel('Sample')\n",
    "            ax.set_ylabel('Amplitude')\n",
    "            ax.set_title(f'Lead {i+1}')\n",
    "\n",
    "        plt.tight_layout()\n",
    "        plt.show()\n",
    "\n",
    "    def __len__(self):\n",
    "        return len(self._hea_files)"
   ]
  },
  {
   "cell_type": "code",
   "execution_count": 9,
   "metadata": {},
   "outputs": [
    {
     "data": {
      "text/plain": [
       "'C:/Users/navme/Desktop/ECG_Thesis_Local/PhysioNet-2021-Challenge/physionet.org/files/challenge-2021/1.0.3/training'"
      ]
     },
     "execution_count": 9,
     "metadata": {},
     "output_type": "execute_result"
    }
   ],
   "source": [
    "# Path to training folder within PhysioNet dataset\n",
    "PhysioNet_PATH = f'C:/Users/navme/Desktop/ECG_Thesis_Local/PhysioNet-2021-Challenge/physionet.org/files/challenge-2021/1.0.3/training'\n",
    "PhysioNet_PATH"
   ]
  },
  {
   "cell_type": "markdown",
   "metadata": {},
   "source": [
    "We have to set `train = False` to load the `PTB` and `PTB-XL` datasets."
   ]
  },
  {
   "cell_type": "code",
   "execution_count": 10,
   "metadata": {},
   "outputs": [
    {
     "data": {
      "text/plain": [
       "22352"
      ]
     },
     "execution_count": 10,
     "metadata": {},
     "output_type": "execute_result"
    }
   ],
   "source": [
    "expA_dataset = PhysioNetDataset(PhysioNet_PATH, train=False)\n",
    "len(expA_dataset)  # Should be 22353 records in total"
   ]
  },
  {
   "cell_type": "code",
   "execution_count": 11,
   "metadata": {},
   "outputs": [
    {
     "data": {
      "text/plain": [
       "['myocardial infarction']"
      ]
     },
     "execution_count": 11,
     "metadata": {},
     "output_type": "execute_result"
    }
   ],
   "source": [
    "expA_dataset[0][0]"
   ]
  },
  {
   "cell_type": "code",
   "execution_count": 12,
   "metadata": {},
   "outputs": [
    {
     "data": {
      "text/plain": [
       "array([[ -45.93443974, -257.76735841, -204.38884819, ...,  207.06125242,\n",
       "         229.91846005,  241.06771077],\n",
       "       [   2.39774601, -258.27448051, -213.23767774, ...,  236.74978869,\n",
       "         163.10069387,  266.09279668],\n",
       "       [  48.77130997,   -0.55561737,   -8.93666839, ...,   30.38791226,\n",
       "         -66.5753722 ,   25.43929824],\n",
       "       ...,\n",
       "       [   6.93659186,  136.56480991,   83.44371554, ..., -109.00235325,\n",
       "         -82.10284084,  -65.32595022],\n",
       "       [  40.00654719,  231.07221173,  161.53286103, ..., -171.11330299,\n",
       "        -169.96584404, -174.2212556 ],\n",
       "       [  18.56012414,  231.41053703,  158.34203376, ..., -215.72758534,\n",
       "        -208.84775154, -226.52649213]])"
      ]
     },
     "execution_count": 12,
     "metadata": {},
     "output_type": "execute_result"
    }
   ],
   "source": [
    "expA_dataset[0][1]"
   ]
  },
  {
   "cell_type": "markdown",
   "metadata": {},
   "source": [
    "### Step 3: Define the classes to exclude"
   ]
  },
  {
   "cell_type": "code",
   "execution_count": 13,
   "metadata": {},
   "outputs": [],
   "source": [
    "classes_to_exclude = [\n",
    "    'myocardial infarction',\n",
    "    'left bundle branch block',\n",
    "    't wave abnormal',\n",
    "    'sinus bradycardia',\n",
    "    'inferior ischaemia'\n",
    "]"
   ]
  },
  {
   "cell_type": "code",
   "execution_count": 14,
   "metadata": {},
   "outputs": [],
   "source": [
    "# Create functions to exclude/include records containing certain classes\n",
    "def exclude_classes(record, classes_to_exclude):\n",
    "    return not any([cls in record[0] for cls in classes_to_exclude])\n",
    "\n",
    "def include_classes(record, classes_to_exclude):\n",
    "    return any([cls in record[0] for cls in classes_to_exclude])"
   ]
  },
  {
   "cell_type": "code",
   "execution_count": 15,
   "metadata": {},
   "outputs": [
    {
     "name": "stdout",
     "output_type": "stream",
     "text": [
      "MAT file for index 22349 does not exist.\n",
      "MAT file for index 22350 does not exist.\n",
      "MAT file for index 22351 does not exist.\n"
     ]
    }
   ],
   "source": [
    "# Apply the function to the dataset\n",
    "filtered_dataset = [record for record in expA_dataset if exclude_classes(record, classes_to_exclude)]"
   ]
  },
  {
   "cell_type": "code",
   "execution_count": 16,
   "metadata": {},
   "outputs": [
    {
     "data": {
      "text/plain": [
       "['abnormal QRS',\n",
       " 'left axis deviation',\n",
       " 'sinus rhythm',\n",
       " 'supraventricular premature beats']"
      ]
     },
     "execution_count": 16,
     "metadata": {},
     "output_type": "execute_result"
    }
   ],
   "source": [
    "filtered_dataset[1000][0]"
   ]
  },
  {
   "cell_type": "markdown",
   "metadata": {},
   "source": [
    "The ```train_set``` can be split into ```current_train``` (85%) and ```current_val``` (15%)."
   ]
  },
  {
   "cell_type": "code",
   "execution_count": 19,
   "metadata": {},
   "outputs": [],
   "source": [
    "# Set the seed for the random number generator\n",
    "torch.manual_seed(0)\n",
    "\n",
    "# Get the length of the train_set\n",
    "length = len(filtered_dataset)\n",
    "\n",
    "# Calculate the lengths of the splits\n",
    "train_length = int(0.85 * length)\n",
    "val_length = length - train_length\n",
    "\n",
    "# Split the dataset\n",
    "current_train, current_val = random_split(filtered_dataset, [train_length, val_length])"
   ]
  },
  {
   "cell_type": "code",
   "execution_count": 20,
   "metadata": {},
   "outputs": [
    {
     "data": {
      "text/plain": [
       "(11534, 2036)"
      ]
     },
     "execution_count": 20,
     "metadata": {},
     "output_type": "execute_result"
    }
   ],
   "source": [
    "len(current_train), len(current_val)"
   ]
  },
  {
   "cell_type": "code",
   "execution_count": 21,
   "metadata": {},
   "outputs": [],
   "source": [
    "assert len(current_train) + len(current_val) == len(filtered_dataset)"
   ]
  },
  {
   "cell_type": "code",
   "execution_count": 22,
   "metadata": {},
   "outputs": [
    {
     "data": {
      "text/plain": [
       "['sinus rhythm']"
      ]
     },
     "execution_count": 22,
     "metadata": {},
     "output_type": "execute_result"
    }
   ],
   "source": [
    "# Diagnoses\n",
    "current_train[0][0]"
   ]
  },
  {
   "cell_type": "code",
   "execution_count": 23,
   "metadata": {},
   "outputs": [
    {
     "data": {
      "text/plain": [
       "array([[ -12.75095365,    8.26146432,   25.21036212, ...,  -46.78649712,\n",
       "         -42.33615862,  -49.77185234],\n",
       "       [ -36.08955916,  -91.16647942,  -56.88710675, ...,   37.87149406,\n",
       "          30.50770108,   43.76508402],\n",
       "       [ -23.33349795,  -99.43040908,  -82.11161079, ...,   84.65291698,\n",
       "          72.849304  ,   93.53135053],\n",
       "       ...,\n",
       "       [ -78.20672582, -123.04287893, -110.69050357, ...,  -11.37945503,\n",
       "         -20.05333544,   -6.15773454],\n",
       "       [ -70.24501569,  -98.42570387, -102.21803626, ...,  -22.16972905,\n",
       "         -28.9483897 ,  -18.20635664],\n",
       "       [ -60.17367165,  -78.23841155,  -73.83297861, ...,  -33.70700198,\n",
       "         -36.87081883,  -31.60160604]])"
      ]
     },
     "execution_count": 23,
     "metadata": {},
     "output_type": "execute_result"
    }
   ],
   "source": [
    "# 12-lead ECG (np array)\n",
    "current_train[0][1]"
   ]
  },
  {
   "cell_type": "code",
   "execution_count": 24,
   "metadata": {},
   "outputs": [
    {
     "name": "stdout",
     "output_type": "stream",
     "text": [
      "MAT file for index 22349 does not exist.\n",
      "MAT file for index 22350 does not exist.\n",
      "MAT file for index 22351 does not exist.\n"
     ]
    },
    {
     "data": {
      "text/plain": [
       "8782"
      ]
     },
     "execution_count": 24,
     "metadata": {},
     "output_type": "execute_result"
    }
   ],
   "source": [
    "test_dataset = [record for record in expA_dataset if include_classes(record, classes_to_exclude)]\n",
    "len(test_dataset)"
   ]
  },
  {
   "cell_type": "code",
   "execution_count": 25,
   "metadata": {},
   "outputs": [],
   "source": [
    "assert len(test_dataset) == len(expA_dataset) - len(filtered_dataset)"
   ]
  },
  {
   "cell_type": "markdown",
   "metadata": {},
   "source": [
    "# Stage 2: ECG Classification Model Pipeline\n",
    "\n",
    "Now that our data is preprocessed, we can begin working on the Model Pipeline itself. The ECG Classification Model Pipeline will consist of three components:\n",
    "\n",
    "1. `TextEncoder()` class\n",
    "\n",
    "2. `ECGEncoder()` class\n",
    "\n",
    "3. `InstanceSelector()` class\n",
    "\n",
    "4. `CLIPModel()` class\n",
    "\n",
    "An overview and outline of each of these components can be found below in their respective subsections."
   ]
  },
  {
   "cell_type": "code",
   "execution_count": 29,
   "metadata": {},
   "outputs": [],
   "source": [
    "# Check if CUDA is available\n",
    "device = torch.device(\"cuda\" if torch.cuda.is_available() else \"cpu\")"
   ]
  },
  {
   "cell_type": "markdown",
   "metadata": {},
   "source": [
    "## TextEncoder()\n",
    "\n",
    "Create a class, ```TextEncoder()``` that is used to convert the description of the (dx_modality) diagnosis class into embeddings using the ClinicalBERT model.\n",
    "\n",
    "- Input should be a concatenated using comma or blank space string of diagnoses/dx_modality per ECG signal."
   ]
  },
  {
   "cell_type": "code",
   "execution_count": 27,
   "metadata": {},
   "outputs": [],
   "source": [
    "class TextEncoder(nn.Module):\n",
    "    def __init__(self, device):\n",
    "        super().__init__()\n",
    "        self.device = device\n",
    "        self.tokenizer = AutoTokenizer.from_pretrained(\"emilyalsentzer/Bio_ClinicalBERT\")\n",
    "        self.model = AutoModel.from_pretrained(\"emilyalsentzer/Bio_ClinicalBERT\").to(self.device)\n",
    "\n",
    "        self.out_features = 768\n",
    "\n",
    "    def encode(self, text_list):\n",
    "        # Check if text_list is a string representation of a list\n",
    "        if isinstance(text_list, str):\n",
    "            text_list = ast.literal_eval(text_list)\n",
    "        # Convert list of strings to a single string\n",
    "        text = ', '.join(text_list)\n",
    "        # Tokenize text\n",
    "        inputs = self.tokenizer(text, return_tensors=\"pt\", truncation=True, padding=True, max_length=512)\n",
    "        # Move inputs to the correct device\n",
    "        inputs = {name: tensor.to(self.device) for name, tensor in inputs.items()}\n",
    "        # Get embeddings from ClinicalBERT model\n",
    "        with torch.no_grad():\n",
    "            embeddings = self.model(**inputs).last_hidden_state\n",
    "        # Average the embeddings to get single vector per each input\n",
    "        embeddings = torch.mean(embeddings, dim=1)\n",
    "        return embeddings.to(self.device)"
   ]
  },
  {
   "cell_type": "code",
   "execution_count": 30,
   "metadata": {},
   "outputs": [],
   "source": [
    "text_encoder = TextEncoder(device).to(device)\n",
    "# Example\n",
    "embeddings = text_encoder.encode(current_train[0][0])"
   ]
  },
  {
   "cell_type": "code",
   "execution_count": 31,
   "metadata": {},
   "outputs": [
    {
     "name": "stdout",
     "output_type": "stream",
     "text": [
      "torch.Size([1, 768])\n",
      "<class 'torch.Tensor'>\n"
     ]
    }
   ],
   "source": [
    "print(embeddings.size())\n",
    "print(type(embeddings))"
   ]
  },
  {
   "cell_type": "markdown",
   "metadata": {},
   "source": [
    "## ECGEncoder()\n",
    "\n",
    "- Input is ECG signal, output will be embeddings of ECG signal\n",
    "- This is going to be model in model.py\n",
    "- Model weights are updated iteratively\n",
    "- optimizer = torch.optim.Adam(clip_model.ECGEncoder.parameters())\n",
    "\n",
    "**Current Tasks:**\n",
    "\n",
    "- Change number of layers of fully connected layer 2 to 768 out_channels\n",
    "- Alternatively look into getting rid of the second fully connected layer. \n",
    "- Shifting from 128 --> 768 can cause loss of information. \n",
    "- Update all layers after layer 7 as follows:  \n",
    "    - ```self.conv7 = nn.Conv1d(in_channels=512, out_channels=512, kernel_size=3, stride=1, padding=1)```\n",
    "    - ```self.bn7 = nn.BatchNorm1d(512)```\n"
   ]
  },
  {
   "cell_type": "markdown",
   "metadata": {},
   "source": [
    "No. CNN layers: 4\n",
    "No. CNN kernels: [32, 128, 64, 64] (each layer, accordingly)\n",
    "CNN kernel size: [7, 5, 7, 5] (each layer, accordingly)\n",
    "No. dense layers: 2\n",
    "No. dense layer units: [156, 140] (each layer, accordingly)\n",
    "Batch size: 128\n",
    "Learning rate: 0.0092\n",
    "Activation function: [Gelu, Selu, Selu, Selu] (each layer, accordingly)\n",
    "Optimizer: Adam\n",
    "\t"
   ]
  },
  {
   "cell_type": "markdown",
   "metadata": {},
   "source": [
    "I see, you want to extrapolate the parameters for a 4-layer CNN to a 10-layer CNN. Here's how you can do it:\n",
    "\n",
    "First, let's extrapolate the parameters for the CNN layers:\n",
    "\n",
    "- No. CNN layers: 10\n",
    "- No. CNN kernels: [32, 128, 64, 64, 32, 128, 64, 64, 32, 128] (each layer, accordingly)\n",
    "- CNN kernel size: [7, 5, 7, 5, 7, 5, 7, 5, 7, 5] (each layer, accordingly)\n",
    "- Activation function: [Gelu, Selu, Selu, Selu, Gelu, Selu, Selu, Selu, Gelu, Selu] (each layer, accordingly)\n",
    "\n",
    "For the dense layers, you can keep them as they are:\n",
    "\n",
    "- No. dense layers: 2\n",
    "- No. dense layer units: [156, 140] (each layer, accordingly)\n",
    "\n",
    "The batch size, learning rate, and optimizer can also remain the same:\n",
    "\n",
    "- Batch size: 128\n",
    "- Learning rate: 0.0092\n",
    "- Optimizer: Adam"
   ]
  },
  {
   "cell_type": "code",
   "execution_count": 19,
   "metadata": {},
   "outputs": [],
   "source": [
    "class ECGEncoder(nn.Module):\n",
    "    def __init__(self):\n",
    "        super(ECGEncoder, self).__init__()\n",
    "\n",
    "        # Layer 1\n",
    "        self.conv1 = nn.Conv1d(in_channels=12, out_channels=16, kernel_size=3, stride=1, padding=1)\n",
    "        self.bn1 = nn.BatchNorm1d(16)\n",
    "        self.relu1 = nn.ReLU()\n",
    "        self.pool1 = nn.AvgPool1d(kernel_size=2, stride=2)\n",
    "\n",
    "        # Layer 2\n",
    "        self.conv2 = nn.Conv1d(in_channels=16, out_channels=32, kernel_size=3, stride=1, padding=1)\n",
    "        self.bn2 = nn.BatchNorm1d(32)\n",
    "        self.relu2 = nn.ReLU()\n",
    "        self.pool2 = nn.AvgPool1d(kernel_size=2, stride=2)\n",
    "\n",
    "        # Layer 3\n",
    "        self.conv3 = nn.Conv1d(in_channels=32, out_channels=64, kernel_size=3, stride=1, padding=1)\n",
    "        self.bn3 = nn.BatchNorm1d(64)\n",
    "        self.relu3 = nn.ReLU()\n",
    "        self.pool3 = nn.AvgPool1d(kernel_size=2, stride=2)\n",
    "\n",
    "        # Layer 4\n",
    "        self.conv4 = nn.Conv1d(in_channels=64, out_channels=128, kernel_size=3, stride=1, padding=1)\n",
    "        self.bn4 = nn.BatchNorm1d(128)\n",
    "        self.relu4 = nn.ReLU()\n",
    "        self.pool4 = nn.AvgPool1d(kernel_size=2, stride=2)\n",
    "\n",
    "        # Layer 5\n",
    "        self.conv5 = nn.Conv1d(in_channels=128, out_channels=256, kernel_size=3, stride=1, padding=1)\n",
    "        self.bn5 = nn.BatchNorm1d(256)\n",
    "        self.relu5 = nn.ReLU()\n",
    "        self.pool5 = nn.AvgPool1d(kernel_size=2, stride=2)\n",
    "\n",
    "        # Layer 6\n",
    "        self.conv6 = nn.Conv1d(in_channels=256, out_channels=512, kernel_size=3, stride=1, padding=1)\n",
    "        self.bn6 = nn.BatchNorm1d(512)\n",
    "        self.relu6 = nn.ReLU()\n",
    "        self.pool6 = nn.AvgPool1d(kernel_size=2, stride=2)\n",
    "\n",
    "        # Layer 7\n",
    "        self.conv7 = nn.Conv1d(in_channels=512, out_channels=512, kernel_size=3, stride=1, padding=1)\n",
    "        self.bn7 = nn.BatchNorm1d(512)\n",
    "        self.relu7 = nn.ReLU()\n",
    "        self.pool7 = nn.AvgPool1d(kernel_size=2, stride=2)\n",
    "\n",
    "        # Layer 8\n",
    "        self.conv8 = nn.Conv1d(in_channels=512, out_channels=512, kernel_size=3, stride=1, padding=1)\n",
    "        self.bn8 = nn.BatchNorm1d(512)\n",
    "        self.relu8 = nn.ReLU()\n",
    "        self.pool8 = nn.AvgPool1d(kernel_size=2, stride=2)\n",
    "\n",
    "        # Layer 9\n",
    "        self.conv9 = nn.Conv1d(in_channels=512, out_channels=512, kernel_size=3, stride=1, padding=1)\n",
    "        self.bn9 = nn.BatchNorm1d(512)\n",
    "        self.relu9 = nn.ReLU()\n",
    "        self.pool9 = nn.AvgPool1d(kernel_size=2, stride=2)\n",
    "\n",
    "        # Layer 10\n",
    "        self.conv10 = nn.Conv1d(in_channels=512, out_channels=512, kernel_size=3, stride=1, padding=1)\n",
    "        self.bn10 = nn.BatchNorm1d(512)\n",
    "        self.relu10 = nn.ReLU()\n",
    "        self.pool10 = nn.AvgPool1d(kernel_size=2, stride=2)\n",
    "\n",
    "        # Fully Connected Layer 1\n",
    "        # self.fc1 = nn.Linear(512*4, 768)\n",
    "        self.relu11 = nn.ReLU()\n",
    "\n",
    "    def forward(self, x):\n",
    "        # Layer 1\n",
    "        x = self.conv1(x)\n",
    "        x = self.bn1(x)\n",
    "        x = self.relu1(x)\n",
    "        x = self.pool1(x)\n",
    "\n",
    "        # Layer 2\n",
    "        x = self.conv2(x)\n",
    "        x = self.bn2(x)\n",
    "        x = self.relu2(x)\n",
    "        x = self.pool2(x)\n",
    "\n",
    "        # Layer 3\n",
    "        x = self.conv3(x)\n",
    "        x = self.bn3(x)\n",
    "        x = self.relu3(x)\n",
    "        x = self.pool3(x)\n",
    "\n",
    "        # Layer 4\n",
    "        x = self.conv4(x)\n",
    "        x = self.bn4(x)\n",
    "        x = self.relu4(x)\n",
    "        x = self.pool4(x)\n",
    "\n",
    "        # Layer 5\n",
    "        x = self.conv5(x)\n",
    "        x = self.bn5(x)\n",
    "        x = self.relu5(x)\n",
    "        x = self.pool5(x)\n",
    "\n",
    "        # Layer 6\n",
    "        x = self.conv6(x)\n",
    "        x = self.bn6(x)\n",
    "        x = self.relu6(x)\n",
    "        x = self.pool6(x)\n",
    "\n",
    "        # Layer 7\n",
    "        x = self.conv7(x)\n",
    "        x = self.bn7(x)\n",
    "        x = self.relu7(x)\n",
    "        x = self.pool7(x)\n",
    "\n",
    "        # Layer 8\n",
    "        x = self.conv8(x)\n",
    "        x = self.bn8(x)\n",
    "        x = self.relu8(x)\n",
    "        x = self.pool8(x)\n",
    "\n",
    "        # Layer 9\n",
    "        x = self.conv9(x)\n",
    "        x = self.bn9(x)\n",
    "        x = self.relu9(x)\n",
    "        x = self.pool9(x)\n",
    "\n",
    "        # Layer 10\n",
    "        x = self.conv10(x)\n",
    "        x = self.bn10(x)\n",
    "        x = self.relu10(x)\n",
    "        x = self.pool10(x)\n",
    "\n",
    "        # Flatten the output of the convolutional layers\n",
    "        print(x.size())\n",
    "        x = x.view(x.size(0), -1)\n",
    "\n",
    "        # Initialize self.fc1 here, using the size of x\n",
    "        if not hasattr(self, 'fc1'):\n",
    "            self.fc1 = nn.Linear(x.size(1), self.embed_dim).to(x.device)\n",
    "        x = self.fc1(x)\n",
    "        x = self.relu11(x) \n",
    "\n",
    "        return x "
   ]
  },
  {
   "cell_type": "code",
   "execution_count": 40,
   "metadata": {},
   "outputs": [
    {
     "name": "stdout",
     "output_type": "stream",
     "text": [
      "Requirement already satisfied: torch in c:\\users\\navme\\appdata\\local\\programs\\python\\python38\\lib\\site-packages (2.0.1)\n",
      "Collecting torch\n",
      "  Obtaining dependency information for torch from https://files.pythonhosted.org/packages/98/b7/699b44593fa0d7373191226cb0c2ac3182b5aa0fb1fbb26a87589f655585/torch-2.1.1-cp38-cp38-win_amd64.whl.metadata\n",
      "  Downloading torch-2.1.1-cp38-cp38-win_amd64.whl.metadata (26 kB)\n",
      "Requirement already satisfied: filelock in c:\\users\\navme\\appdata\\local\\programs\\python\\python38\\lib\\site-packages (from torch) (3.12.2)\n",
      "Requirement already satisfied: typing-extensions in c:\\users\\navme\\appdata\\local\\programs\\python\\python38\\lib\\site-packages (from torch) (4.7.1)\n",
      "Requirement already satisfied: sympy in c:\\users\\navme\\appdata\\local\\programs\\python\\python38\\lib\\site-packages (from torch) (1.12)\n",
      "Requirement already satisfied: networkx in c:\\users\\navme\\appdata\\local\\programs\\python\\python38\\lib\\site-packages (from torch) (3.1)\n",
      "Requirement already satisfied: jinja2 in c:\\users\\navme\\appdata\\local\\programs\\python\\python38\\lib\\site-packages (from torch) (3.1.2)\n",
      "Requirement already satisfied: fsspec in c:\\users\\navme\\appdata\\local\\programs\\python\\python38\\lib\\site-packages (from torch) (2023.6.0)\n",
      "Requirement already satisfied: MarkupSafe>=2.0 in c:\\users\\navme\\appdata\\local\\programs\\python\\python38\\lib\\site-packages (from jinja2->torch) (2.1.3)\n",
      "Requirement already satisfied: mpmath>=0.19 in c:\\users\\navme\\appdata\\local\\programs\\python\\python38\\lib\\site-packages (from sympy->torch) (1.3.0)\n",
      "Downloading torch-2.1.1-cp38-cp38-win_amd64.whl (192.3 MB)\n",
      "   ---------------------------------------- 0.0/192.3 MB ? eta -:--:--\n",
      "   ---------------------------------------- 0.2/192.3 MB 6.7 MB/s eta 0:00:29\n",
      "   ---------------------------------------- 0.6/192.3 MB 5.9 MB/s eta 0:00:33\n",
      "   ---------------------------------------- 1.5/192.3 MB 12.0 MB/s eta 0:00:16\n",
      "    --------------------------------------- 3.2/192.3 MB 18.6 MB/s eta 0:00:11\n",
      "   - -------------------------------------- 4.9/192.3 MB 20.9 MB/s eta 0:00:09\n",
      "   - -------------------------------------- 6.5/192.3 MB 23.1 MB/s eta 0:00:09\n",
      "   - -------------------------------------- 8.2/192.3 MB 24.9 MB/s eta 0:00:08\n",
      "   -- ------------------------------------- 9.8/192.3 MB 26.2 MB/s eta 0:00:07\n",
      "   -- ------------------------------------- 11.6/192.3 MB 34.4 MB/s eta 0:00:06\n",
      "   -- ------------------------------------- 13.3/192.3 MB 34.4 MB/s eta 0:00:06\n",
      "   --- ------------------------------------ 15.0/192.3 MB 34.4 MB/s eta 0:00:06\n",
      "   --- ------------------------------------ 16.7/192.3 MB 38.6 MB/s eta 0:00:05\n",
      "   --- ------------------------------------ 18.1/192.3 MB 36.4 MB/s eta 0:00:05\n",
      "   ---- ----------------------------------- 19.8/192.3 MB 36.4 MB/s eta 0:00:05\n",
      "   ---- ----------------------------------- 21.5/192.3 MB 36.4 MB/s eta 0:00:05\n",
      "   ---- ----------------------------------- 23.3/192.3 MB 34.6 MB/s eta 0:00:05\n",
      "   ----- ---------------------------------- 24.8/192.3 MB 36.3 MB/s eta 0:00:05\n",
      "   ----- ---------------------------------- 26.4/192.3 MB 34.4 MB/s eta 0:00:05\n",
      "   ----- ---------------------------------- 28.7/192.3 MB 36.4 MB/s eta 0:00:05\n",
      "   ------ --------------------------------- 30.4/192.3 MB 36.4 MB/s eta 0:00:05\n",
      "   ------ --------------------------------- 32.8/192.3 MB 36.4 MB/s eta 0:00:05\n",
      "   ------- -------------------------------- 35.2/192.3 MB 38.5 MB/s eta 0:00:05\n",
      "   ------- -------------------------------- 37.2/192.3 MB 38.6 MB/s eta 0:00:05\n",
      "   -------- ------------------------------- 38.9/192.3 MB 36.4 MB/s eta 0:00:05\n",
      "   -------- ------------------------------- 40.6/192.3 MB 38.6 MB/s eta 0:00:04\n",
      "   -------- ------------------------------- 42.5/192.3 MB 36.4 MB/s eta 0:00:05\n",
      "   --------- ------------------------------ 43.8/192.3 MB 36.4 MB/s eta 0:00:05\n",
      "   --------- ------------------------------ 45.4/192.3 MB 34.4 MB/s eta 0:00:05\n",
      "   --------- ------------------------------ 47.0/192.3 MB 36.3 MB/s eta 0:00:05\n",
      "   ---------- ----------------------------- 48.5/192.3 MB 34.4 MB/s eta 0:00:05\n",
      "   ---------- ----------------------------- 50.0/192.3 MB 34.6 MB/s eta 0:00:05\n",
      "   ---------- ----------------------------- 51.5/192.3 MB 32.8 MB/s eta 0:00:05\n",
      "   ----------- ---------------------------- 53.6/192.3 MB 32.7 MB/s eta 0:00:05\n",
      "   ----------- ---------------------------- 54.8/192.3 MB 31.2 MB/s eta 0:00:05\n",
      "   ----------- ---------------------------- 56.8/192.3 MB 32.7 MB/s eta 0:00:05\n",
      "   ------------ --------------------------- 58.7/192.3 MB 34.6 MB/s eta 0:00:04\n",
      "   ------------ --------------------------- 60.3/192.3 MB 36.4 MB/s eta 0:00:04\n",
      "   ------------ --------------------------- 61.7/192.3 MB 34.4 MB/s eta 0:00:04\n",
      "   ------------- -------------------------- 63.6/192.3 MB 36.4 MB/s eta 0:00:04\n",
      "   ------------- -------------------------- 65.5/192.3 MB 38.5 MB/s eta 0:00:04\n",
      "   -------------- ------------------------- 67.3/192.3 MB 38.5 MB/s eta 0:00:04\n",
      "   -------------- ------------------------- 68.9/192.3 MB 36.3 MB/s eta 0:00:04\n",
      "   -------------- ------------------------- 70.6/192.3 MB 36.3 MB/s eta 0:00:04\n",
      "   --------------- ------------------------ 72.5/192.3 MB 38.6 MB/s eta 0:00:04\n",
      "   --------------- ------------------------ 73.6/192.3 MB 36.4 MB/s eta 0:00:04\n",
      "   --------------- ------------------------ 75.3/192.3 MB 36.4 MB/s eta 0:00:04\n",
      "   ---------------- ----------------------- 77.0/192.3 MB 34.4 MB/s eta 0:00:04\n",
      "   ---------------- ----------------------- 78.6/192.3 MB 34.4 MB/s eta 0:00:04\n",
      "   ---------------- ----------------------- 79.4/192.3 MB 32.7 MB/s eta 0:00:04\n",
      "   ---------------- ----------------------- 81.0/192.3 MB 31.2 MB/s eta 0:00:04\n",
      "   ----------------- ---------------------- 82.7/192.3 MB 31.1 MB/s eta 0:00:04\n",
      "   ----------------- ---------------------- 84.2/192.3 MB 32.8 MB/s eta 0:00:04\n",
      "   ----------------- ---------------------- 85.2/192.3 MB 29.8 MB/s eta 0:00:04\n",
      "   ------------------ --------------------- 86.5/192.3 MB 29.7 MB/s eta 0:00:04\n",
      "   ------------------ --------------------- 88.0/192.3 MB 29.8 MB/s eta 0:00:04\n",
      "   ------------------ --------------------- 89.3/192.3 MB 29.7 MB/s eta 0:00:04\n",
      "   ------------------ --------------------- 90.6/192.3 MB 29.7 MB/s eta 0:00:04\n",
      "   ------------------- -------------------- 91.8/192.3 MB 28.4 MB/s eta 0:00:04\n",
      "   ------------------- -------------------- 93.3/192.3 MB 28.4 MB/s eta 0:00:04\n",
      "   ------------------- -------------------- 94.6/192.3 MB 27.3 MB/s eta 0:00:04\n",
      "   ------------------- -------------------- 96.1/192.3 MB 28.5 MB/s eta 0:00:04\n",
      "   -------------------- ------------------- 97.5/192.3 MB 28.5 MB/s eta 0:00:04\n",
      "   -------------------- ------------------- 98.9/192.3 MB 28.5 MB/s eta 0:00:04\n",
      "   -------------------- ------------------ 100.2/192.3 MB 28.5 MB/s eta 0:00:04\n",
      "   -------------------- ------------------ 101.7/192.3 MB 31.2 MB/s eta 0:00:03\n",
      "   -------------------- ------------------ 103.2/192.3 MB 29.7 MB/s eta 0:00:03\n",
      "   --------------------- ----------------- 104.4/192.3 MB 31.2 MB/s eta 0:00:03\n",
      "   --------------------- ----------------- 105.6/192.3 MB 28.5 MB/s eta 0:00:04\n",
      "   --------------------- ----------------- 107.1/192.3 MB 29.7 MB/s eta 0:00:03\n",
      "   ---------------------- ---------------- 108.6/192.3 MB 31.1 MB/s eta 0:00:03\n",
      "   ---------------------- ---------------- 110.2/192.3 MB 29.7 MB/s eta 0:00:03\n",
      "   ---------------------- ---------------- 111.4/192.3 MB 29.8 MB/s eta 0:00:03\n",
      "   ---------------------- ---------------- 112.8/192.3 MB 29.7 MB/s eta 0:00:03\n",
      "   ----------------------- --------------- 114.6/192.3 MB 32.8 MB/s eta 0:00:03\n",
      "   ----------------------- --------------- 116.8/192.3 MB 34.4 MB/s eta 0:00:03\n",
      "   ------------------------ -------------- 119.2/192.3 MB 34.4 MB/s eta 0:00:03\n",
      "   ------------------------ -------------- 121.5/192.3 MB 36.3 MB/s eta 0:00:02\n",
      "   ------------------------- ------------- 123.4/192.3 MB 36.4 MB/s eta 0:00:02\n",
      "   ------------------------- ------------- 125.6/192.3 MB 36.3 MB/s eta 0:00:02\n",
      "   ------------------------- ------------- 127.1/192.3 MB 36.4 MB/s eta 0:00:02\n",
      "   -------------------------- ------------ 128.3/192.3 MB 32.8 MB/s eta 0:00:02\n",
      "   -------------------------- ------------ 130.1/192.3 MB 31.2 MB/s eta 0:00:02\n",
      "   -------------------------- ------------ 131.4/192.3 MB 31.2 MB/s eta 0:00:02\n",
      "   -------------------------- ------------ 133.0/192.3 MB 29.7 MB/s eta 0:00:02\n",
      "   --------------------------- ----------- 134.2/192.3 MB 28.5 MB/s eta 0:00:03\n",
      "   --------------------------- ----------- 135.8/192.3 MB 27.3 MB/s eta 0:00:03\n",
      "   --------------------------- ----------- 137.0/192.3 MB 27.3 MB/s eta 0:00:03\n",
      "   ---------------------------- ---------- 138.4/192.3 MB 27.3 MB/s eta 0:00:02\n",
      "   ---------------------------- ---------- 139.7/192.3 MB 28.5 MB/s eta 0:00:02\n",
      "   ---------------------------- ---------- 140.8/192.3 MB 28.5 MB/s eta 0:00:02\n",
      "   ---------------------------- ---------- 141.9/192.3 MB 27.3 MB/s eta 0:00:02\n",
      "   ----------------------------- --------- 143.4/192.3 MB 27.3 MB/s eta 0:00:02\n",
      "   ----------------------------- --------- 145.2/192.3 MB 27.3 MB/s eta 0:00:02\n",
      "   ----------------------------- --------- 147.4/192.3 MB 28.4 MB/s eta 0:00:02\n",
      "   ------------------------------ -------- 149.2/192.3 MB 28.5 MB/s eta 0:00:02\n",
      "   ------------------------------ -------- 151.0/192.3 MB 29.7 MB/s eta 0:00:02\n",
      "   ------------------------------ -------- 152.6/192.3 MB 32.8 MB/s eta 0:00:02\n",
      "   ------------------------------- ------- 153.7/192.3 MB 32.7 MB/s eta 0:00:02\n",
      "   ------------------------------- ------- 155.4/192.3 MB 32.7 MB/s eta 0:00:02\n",
      "   ------------------------------- ------- 157.1/192.3 MB 32.7 MB/s eta 0:00:02\n",
      "   -------------------------------- ------ 158.6/192.3 MB 34.4 MB/s eta 0:00:01\n",
      "   -------------------------------- ------ 160.2/192.3 MB 34.6 MB/s eta 0:00:01\n",
      "   -------------------------------- ------ 162.1/192.3 MB 34.4 MB/s eta 0:00:01\n",
      "   --------------------------------- ----- 163.9/192.3 MB 36.4 MB/s eta 0:00:01\n",
      "   --------------------------------- ----- 165.7/192.3 MB 36.4 MB/s eta 0:00:01\n",
      "   --------------------------------- ----- 167.4/192.3 MB 36.4 MB/s eta 0:00:01\n",
      "   ---------------------------------- ---- 169.3/192.3 MB 38.5 MB/s eta 0:00:01\n",
      "   ---------------------------------- ---- 170.9/192.3 MB 38.5 MB/s eta 0:00:01\n",
      "   ----------------------------------- --- 172.7/192.3 MB 38.5 MB/s eta 0:00:01\n",
      "   ----------------------------------- --- 174.3/192.3 MB 36.4 MB/s eta 0:00:01\n",
      "   ----------------------------------- --- 176.0/192.3 MB 36.4 MB/s eta 0:00:01\n",
      "   ------------------------------------ -- 177.7/192.3 MB 36.4 MB/s eta 0:00:01\n",
      "   ------------------------------------ -- 179.0/192.3 MB 36.4 MB/s eta 0:00:01\n",
      "   ------------------------------------ -- 180.6/192.3 MB 34.4 MB/s eta 0:00:01\n",
      "   ------------------------------------ -- 182.4/192.3 MB 34.4 MB/s eta 0:00:01\n",
      "   ------------------------------------- - 184.2/192.3 MB 34.4 MB/s eta 0:00:01\n",
      "   ------------------------------------- - 186.0/192.3 MB 36.3 MB/s eta 0:00:01\n",
      "   --------------------------------------  187.8/192.3 MB 36.4 MB/s eta 0:00:01\n",
      "   --------------------------------------  189.7/192.3 MB 38.6 MB/s eta 0:00:01\n",
      "   --------------------------------------  191.0/192.3 MB 36.4 MB/s eta 0:00:01\n",
      "   --------------------------------------  192.3/192.3 MB 36.4 MB/s eta 0:00:01\n",
      "   --------------------------------------  192.3/192.3 MB 36.4 MB/s eta 0:00:01\n",
      "   --------------------------------------  192.3/192.3 MB 36.4 MB/s eta 0:00:01\n",
      "   --------------------------------------  192.3/192.3 MB 36.4 MB/s eta 0:00:01\n",
      "   --------------------------------------  192.3/192.3 MB 36.4 MB/s eta 0:00:01\n",
      "   --------------------------------------  192.3/192.3 MB 36.4 MB/s eta 0:00:01\n",
      "   --------------------------------------  192.3/192.3 MB 36.4 MB/s eta 0:00:01\n",
      "   --------------------------------------  192.3/192.3 MB 36.4 MB/s eta 0:00:01\n",
      "   --------------------------------------  192.3/192.3 MB 36.4 MB/s eta 0:00:01\n",
      "   --------------------------------------  192.3/192.3 MB 36.4 MB/s eta 0:00:01\n",
      "   --------------------------------------  192.3/192.3 MB 36.4 MB/s eta 0:00:01\n",
      "   --------------------------------------  192.3/192.3 MB 36.4 MB/s eta 0:00:01\n",
      "   --------------------------------------  192.3/192.3 MB 36.4 MB/s eta 0:00:01\n",
      "   --------------------------------------  192.3/192.3 MB 36.4 MB/s eta 0:00:01\n",
      "   --------------------------------------  192.3/192.3 MB 36.4 MB/s eta 0:00:01\n",
      "   --------------------------------------  192.3/192.3 MB 36.4 MB/s eta 0:00:01\n",
      "   --------------------------------------  192.3/192.3 MB 36.4 MB/s eta 0:00:01\n",
      "   --------------------------------------  192.3/192.3 MB 36.4 MB/s eta 0:00:01\n",
      "   --------------------------------------  192.3/192.3 MB 36.4 MB/s eta 0:00:01\n",
      "   --------------------------------------  192.3/192.3 MB 36.4 MB/s eta 0:00:01\n",
      "   --------------------------------------  192.3/192.3 MB 36.4 MB/s eta 0:00:01\n",
      "   --------------------------------------  192.3/192.3 MB 36.4 MB/s eta 0:00:01\n",
      "   --------------------------------------  192.3/192.3 MB 36.4 MB/s eta 0:00:01\n",
      "   --------------------------------------  192.3/192.3 MB 36.4 MB/s eta 0:00:01\n",
      "   --------------------------------------  192.3/192.3 MB 36.4 MB/s eta 0:00:01\n",
      "   --------------------------------------  192.3/192.3 MB 36.4 MB/s eta 0:00:01\n",
      "   --------------------------------------  192.3/192.3 MB 36.4 MB/s eta 0:00:01\n",
      "   --------------------------------------  192.3/192.3 MB 36.4 MB/s eta 0:00:01\n",
      "   --------------------------------------  192.3/192.3 MB 36.4 MB/s eta 0:00:01\n",
      "   --------------------------------------  192.3/192.3 MB 36.4 MB/s eta 0:00:01\n",
      "   --------------------------------------  192.3/192.3 MB 36.4 MB/s eta 0:00:01\n",
      "   --------------------------------------  192.3/192.3 MB 36.4 MB/s eta 0:00:01\n",
      "   --------------------------------------  192.3/192.3 MB 36.4 MB/s eta 0:00:01\n",
      "   --------------------------------------  192.3/192.3 MB 36.4 MB/s eta 0:00:01\n",
      "   --------------------------------------  192.3/192.3 MB 36.4 MB/s eta 0:00:01\n",
      "   ---------------------------------------- 192.3/192.3 MB 4.3 MB/s eta 0:00:00\n",
      "Installing collected packages: torch\n",
      "  Attempting uninstall: torch\n",
      "    Found existing installation: torch 2.0.1\n",
      "    Uninstalling torch-2.0.1:\n",
      "      Successfully uninstalled torch-2.0.1\n",
      "Note: you may need to restart the kernel to use updated packages.\n"
     ]
    },
    {
     "name": "stderr",
     "output_type": "stream",
     "text": [
      "ERROR: Could not install packages due to an OSError: [WinError 5] Access is denied: 'C:\\\\Users\\\\navme\\\\AppData\\\\Local\\\\Programs\\\\Python\\\\Python38\\\\Lib\\\\site-packages\\\\~orch\\\\lib\\\\asmjit.dll'\n",
      "Consider using the `--user` option or check the permissions.\n",
      "\n",
      "\n",
      "[notice] A new release of pip is available: 23.2.1 -> 23.3.1\n",
      "[notice] To update, run: python.exe -m pip install --upgrade pip\n"
     ]
    }
   ],
   "source": [
    "pip install --upgrade torch"
   ]
  },
  {
   "cell_type": "code",
   "execution_count": 65,
   "metadata": {},
   "outputs": [],
   "source": [
    "import torch.nn as nn\n",
    "\n",
    "class ECGEncoder(nn.Module):\n",
    "    def __init__(self):\n",
    "        super(ECGEncoder, self).__init__()\n",
    "\n",
    "        # Define CNN layers\n",
    "        self.conv1 = nn.Conv1d(in_channels=12, out_channels=32, kernel_size=7, stride=1, padding=3)\n",
    "        self.bn1 = nn.BatchNorm1d(32)\n",
    "        self.act1 = nn.GELU()\n",
    "        self.pool1 = nn.AvgPool1d(kernel_size=2, stride=2)\n",
    "\n",
    "        self.conv2 = nn.Conv1d(in_channels=32, out_channels=128, kernel_size=5, stride=1, padding=2)\n",
    "        self.bn2 = nn.BatchNorm1d(128)\n",
    "        self.act2 = nn.SELU()\n",
    "        self.pool2 = nn.AvgPool1d(kernel_size=2, stride=2)\n",
    "\n",
    "        self.conv3 = nn.Conv1d(in_channels=128, out_channels=64, kernel_size=7, stride=1, padding=3)\n",
    "        self.bn3 = nn.BatchNorm1d(64)\n",
    "        self.act3 = nn.SELU()\n",
    "        self.pool3 = nn.AvgPool1d(kernel_size=2, stride=2)\n",
    "\n",
    "        self.conv4 = nn.Conv1d(in_channels=64, out_channels=64, kernel_size=5, stride=1, padding=2)\n",
    "        self.bn4 = nn.BatchNorm1d(64)\n",
    "        self.act4 = nn.SELU()\n",
    "        self.pool4 = nn.AvgPool1d(kernel_size=2, stride=2)\n",
    "\n",
    "        self.conv5 = nn.Conv1d(in_channels=64, out_channels=32, kernel_size=7, stride=1, padding=3)\n",
    "        self.bn5 = nn.BatchNorm1d(32)\n",
    "        self.act5 = nn.GELU()\n",
    "        self.pool5 = nn.AvgPool1d(kernel_size=2, stride=2)\n",
    "\n",
    "        self.conv6 = nn.Conv1d(in_channels=32, out_channels=128, kernel_size=5, stride=1, padding=2)\n",
    "        self.bn6 = nn.BatchNorm1d(128)\n",
    "        self.act6 = nn.SELU()\n",
    "        self.pool6 = nn.AvgPool1d(kernel_size=2, stride=2)\n",
    "\n",
    "        self.conv7 = nn.Conv1d(in_channels=128, out_channels=64, kernel_size=7, stride=1, padding=3)\n",
    "        self.bn7 = nn.BatchNorm1d(64)\n",
    "        self.act7 = nn.SELU()\n",
    "        self.pool7 = nn.AvgPool1d(kernel_size=2, stride=2)\n",
    "\n",
    "        self.conv8 = nn.Conv1d(in_channels=64, out_channels=64, kernel_size=5, stride=1, padding=2)\n",
    "        self.bn8 = nn.BatchNorm1d(64)\n",
    "        self.act8 = nn.SELU()\n",
    "        self.pool8 = nn.AvgPool1d(kernel_size=2, stride=2)\n",
    "\n",
    "        self.conv9 = nn.Conv1d(in_channels=64, out_channels=32, kernel_size=7, stride=1, padding=3)\n",
    "        self.bn9 = nn.BatchNorm1d(32)\n",
    "        self.act9 = nn.GELU()\n",
    "        self.pool9 = nn.AvgPool1d(kernel_size=2, stride=2)\n",
    "\n",
    "        self.conv10 = nn.Conv1d(in_channels=32, out_channels=128, kernel_size=5, stride=1, padding=2)\n",
    "        self.bn10 = nn.BatchNorm1d(128)\n",
    "        self.act10 = nn.SELU()\n",
    "        self.pool10 = nn.AvgPool1d(kernel_size=2, stride=2)\n",
    "\n",
    "        # Define dense layers\n",
    "        self.fc1 = nn.Linear(128, 156)  # Adjust the input size based on the output of the last CNN layer\n",
    "        self.act11 = nn.ReLU()\n",
    "        self.fc2 = nn.Linear(156, 140)\n",
    "        self.act12 = nn.ReLU()\n",
    "\n",
    "        # Final layer to match the output size with the text encoder\n",
    "        self.fc3 = nn.Linear(140, 768)\n",
    "        self.out_features = 768\n",
    "\n",
    "    def forward(self, x):\n",
    "        # Pass through CNN layers\n",
    "        x = self.pool1(self.act1(self.bn1(self.conv1(x))))\n",
    "        x = self.pool2(self.act2(self.bn2(self.conv2(x))))\n",
    "        x = self.pool3(self.act3(self.bn3(self.conv3(x))))\n",
    "        x = self.pool4(self.act4(self.bn4(self.conv4(x))))\n",
    "        x = self.pool5(self.act5(self.bn5(self.conv5(x))))\n",
    "        x = self.pool6(self.act6(self.bn6(self.conv6(x))))\n",
    "        x = self.pool7(self.act7(self.bn7(self.conv7(x))))\n",
    "        x = self.pool8(self.act8(self.bn8(self.conv8(x))))\n",
    "        x = self.pool9(self.act9(self.bn9(self.conv9(x))))\n",
    "        x = self.pool10(self.act10(self.bn10(self.conv10(x))))\n",
    "\n",
    "        # Flatten the output of the convolutional layers\n",
    "        x = x.view(x.size(0), -1)\n",
    "\n",
    "        # Pass through dense layers\n",
    "        x = self.act11(self.fc1(x))\n",
    "        x = self.act12(self.fc2(x))\n",
    "\n",
    "        # Pass through final layer\n",
    "        x = self.fc3(x)\n",
    "\n",
    "        return x"
   ]
  },
  {
   "cell_type": "code",
   "execution_count": 64,
   "metadata": {},
   "outputs": [
    {
     "name": "stdout",
     "output_type": "stream",
     "text": [
      "tensor([[-0.0315, -0.0044, -0.0230,  0.0732, -0.0566,  0.0673, -0.0410, -0.0034,\n",
      "         -0.0324,  0.0423, -0.0521,  0.0153, -0.0438,  0.0808, -0.0605, -0.0303,\n",
      "          0.0090,  0.0041,  0.0063, -0.0519, -0.0092,  0.0226, -0.0449, -0.0748,\n",
      "          0.0244,  0.0358, -0.0092, -0.0042, -0.0076, -0.1164,  0.0373, -0.0630,\n",
      "          0.0121, -0.0306,  0.0151, -0.0376, -0.0621, -0.0712,  0.0831, -0.0122,\n",
      "         -0.0759,  0.0493,  0.0762, -0.0392,  0.0339, -0.0207,  0.0178,  0.0655,\n",
      "         -0.0503, -0.0326,  0.0196, -0.0645, -0.0279, -0.0813,  0.0421,  0.0055,\n",
      "          0.0358, -0.0262, -0.0616, -0.0526,  0.0043, -0.0106, -0.0347,  0.0502,\n",
      "          0.0357, -0.0849,  0.0702, -0.0434, -0.0585, -0.0196, -0.0756,  0.0545,\n",
      "          0.0622,  0.0767,  0.0867,  0.0591, -0.0480,  0.0427,  0.0205, -0.0248,\n",
      "          0.0418,  0.0222, -0.0374, -0.0328,  0.0025,  0.0710,  0.0343, -0.0485,\n",
      "          0.0893,  0.0126,  0.0340, -0.0366,  0.0779,  0.0452,  0.0323,  0.0573,\n",
      "         -0.1060,  0.0438, -0.0712,  0.0622, -0.0616,  0.0321, -0.1070, -0.0761,\n",
      "          0.0286, -0.0373,  0.0432,  0.0215, -0.0767, -0.0544,  0.0621,  0.0095,\n",
      "          0.0136,  0.0310,  0.0094, -0.0689, -0.0459,  0.0681, -0.0908,  0.0934,\n",
      "          0.0031,  0.0887, -0.0437, -0.0494,  0.0411,  0.0805,  0.0721,  0.0429,\n",
      "          0.0360, -0.0545, -0.0081, -0.0356,  0.0302, -0.0993, -0.0358,  0.0456,\n",
      "          0.0499,  0.0421,  0.0412, -0.0335,  0.0055, -0.0447,  0.0779,  0.0204,\n",
      "          0.0539, -0.0474, -0.0190, -0.0312,  0.0758,  0.0509, -0.0232,  0.0524,\n",
      "         -0.0416,  0.0018,  0.0175,  0.0304, -0.0665,  0.0160,  0.0599,  0.0273,\n",
      "         -0.0395, -0.0257,  0.0452,  0.0412,  0.0309, -0.1078,  0.0610,  0.0470,\n",
      "         -0.0530,  0.0785, -0.0549,  0.0832,  0.0252,  0.0419,  0.0044, -0.0024,\n",
      "          0.0494, -0.0654,  0.0576,  0.0346,  0.0116, -0.0445,  0.0496, -0.0022,\n",
      "         -0.0846,  0.0198, -0.0690,  0.0406, -0.0428,  0.0642, -0.0440,  0.0489,\n",
      "         -0.0480,  0.0714, -0.0115, -0.0013,  0.0607, -0.0425, -0.0272, -0.0304,\n",
      "          0.0523,  0.0239,  0.0630,  0.0044, -0.0255,  0.0366,  0.0060, -0.0309,\n",
      "         -0.1330, -0.0089, -0.0127,  0.0478, -0.0514, -0.0268,  0.0243,  0.0396,\n",
      "          0.0567,  0.0262, -0.0064, -0.0074, -0.0025,  0.0208,  0.0635, -0.0463,\n",
      "         -0.1007,  0.0399,  0.0226, -0.0081, -0.0535, -0.0216,  0.0640, -0.0771,\n",
      "         -0.0362,  0.0335, -0.0593,  0.0248,  0.0384, -0.0551,  0.0856, -0.0415,\n",
      "         -0.0172, -0.0677, -0.0795,  0.0358,  0.0913, -0.0086, -0.0179,  0.0814,\n",
      "          0.0469,  0.0704, -0.0094, -0.0809,  0.0350,  0.0702, -0.0037,  0.0614,\n",
      "         -0.0510,  0.0263, -0.0490, -0.0158, -0.0023, -0.0165,  0.0174,  0.0640,\n",
      "         -0.0484, -0.0395,  0.0716, -0.0366, -0.0616,  0.0620,  0.0622, -0.0103,\n",
      "         -0.0290,  0.0351, -0.0083,  0.0565,  0.0637,  0.0873,  0.0526,  0.0223,\n",
      "          0.0543, -0.0722, -0.0044, -0.0594, -0.0566,  0.0343,  0.0877,  0.0371,\n",
      "         -0.0032, -0.0179, -0.0941, -0.0332, -0.0309,  0.0515,  0.0776, -0.0658,\n",
      "         -0.0970, -0.0737,  0.0934,  0.0563,  0.0556, -0.0425, -0.0373, -0.0557,\n",
      "          0.0640, -0.0788, -0.0395, -0.0705,  0.0644, -0.1028, -0.0943, -0.0725,\n",
      "          0.0841,  0.0372, -0.0627, -0.0080,  0.0863, -0.0715, -0.0819,  0.0555,\n",
      "         -0.0140,  0.0186, -0.0830,  0.0276, -0.0026,  0.0990,  0.0224, -0.0611,\n",
      "         -0.0280,  0.0089,  0.0205, -0.0407, -0.0382, -0.0645, -0.0099, -0.0123,\n",
      "         -0.0739, -0.0406,  0.0400,  0.0160,  0.0693,  0.0352, -0.0687,  0.0918,\n",
      "         -0.0571, -0.0394,  0.0390, -0.0351,  0.0034, -0.0021,  0.0076, -0.0064,\n",
      "         -0.0165,  0.0039,  0.0777,  0.0924, -0.0815, -0.0335, -0.0698,  0.0138,\n",
      "         -0.0775, -0.0157, -0.0874,  0.0661,  0.0995, -0.0062, -0.0180,  0.0492,\n",
      "          0.0257, -0.0682,  0.0501,  0.0152,  0.0280, -0.0590,  0.0715, -0.0697,\n",
      "         -0.0478, -0.0056,  0.0232, -0.0132,  0.0324, -0.0421, -0.0932,  0.0693,\n",
      "         -0.0346,  0.0217,  0.0216,  0.0285, -0.0295,  0.0275,  0.0746,  0.0986,\n",
      "         -0.0455, -0.0914, -0.0267, -0.0454, -0.0486, -0.0310,  0.0126, -0.0048,\n",
      "          0.0265,  0.0214, -0.0690, -0.0556,  0.0378, -0.0025,  0.0605, -0.0542,\n",
      "         -0.0536, -0.0127, -0.0772,  0.0332,  0.0170,  0.0277, -0.0584,  0.0350,\n",
      "          0.0461,  0.0409,  0.0267,  0.0313,  0.0672,  0.0593, -0.0047, -0.0074,\n",
      "         -0.0072,  0.0077,  0.0128, -0.0516,  0.0468, -0.0370,  0.0031,  0.0478,\n",
      "          0.0167,  0.0457, -0.0645,  0.0306,  0.0740,  0.0913, -0.0698, -0.0635,\n",
      "          0.0349,  0.0332,  0.0151, -0.0499, -0.0450,  0.0045, -0.0837,  0.0272,\n",
      "         -0.1028,  0.0376,  0.0153,  0.0840, -0.0063, -0.0171, -0.0445, -0.0352,\n",
      "         -0.0008, -0.0200, -0.0206, -0.0097,  0.0670,  0.0877, -0.0160, -0.0258,\n",
      "         -0.0096, -0.0079, -0.0562, -0.0620, -0.0626, -0.0519,  0.0516, -0.0347,\n",
      "         -0.0681,  0.0402, -0.0289,  0.0485, -0.0110, -0.0152,  0.0344,  0.0394,\n",
      "          0.0396, -0.0874,  0.0410, -0.0549, -0.0487,  0.0472,  0.0501, -0.0811,\n",
      "         -0.0713,  0.0675, -0.0190,  0.0495,  0.0178,  0.0705, -0.0840, -0.0182,\n",
      "          0.0342, -0.0005,  0.0377,  0.0243, -0.0446, -0.0249,  0.0605,  0.0016,\n",
      "          0.0084, -0.1130,  0.0425,  0.0541,  0.1032, -0.0417,  0.0073,  0.0250,\n",
      "         -0.0234, -0.0301,  0.0616,  0.0089,  0.0363,  0.0466, -0.0026, -0.0662,\n",
      "         -0.0413,  0.0044, -0.0462,  0.0070, -0.0275, -0.0410,  0.0192, -0.0534,\n",
      "          0.0210, -0.0599, -0.0451,  0.0014, -0.0114,  0.0502,  0.0602, -0.0794,\n",
      "          0.0477,  0.0511,  0.0515, -0.0796,  0.0396, -0.0039, -0.0165,  0.0007,\n",
      "          0.0282, -0.0395, -0.0153,  0.0058, -0.0593, -0.0421,  0.0614,  0.0194,\n",
      "          0.0200, -0.0280, -0.0530, -0.0476, -0.0402, -0.0158, -0.0204,  0.0532,\n",
      "          0.0276, -0.0025, -0.0404,  0.0795, -0.0102, -0.0821,  0.0506, -0.0190,\n",
      "          0.0026,  0.0241,  0.0081,  0.0112, -0.0508, -0.0061, -0.0011, -0.0715,\n",
      "          0.0247,  0.0396, -0.0652,  0.0812,  0.0017, -0.0514,  0.0038,  0.0033,\n",
      "          0.0280,  0.0093, -0.0468, -0.0053,  0.0704,  0.0394,  0.0895,  0.0557,\n",
      "          0.0117,  0.0110,  0.0183,  0.0616,  0.0140,  0.0228,  0.0034, -0.0079,\n",
      "          0.0709, -0.0449, -0.1328,  0.0976, -0.0229,  0.0511, -0.0249,  0.0485,\n",
      "          0.0009,  0.0999,  0.0071, -0.0161,  0.0060,  0.0591, -0.0934, -0.0194,\n",
      "          0.0194, -0.0089, -0.0516,  0.0538, -0.0632,  0.0347, -0.0911,  0.0626,\n",
      "          0.0378,  0.0841,  0.0132, -0.0569,  0.0252, -0.0278,  0.0215,  0.0534,\n",
      "          0.0178, -0.0377, -0.0238,  0.0616, -0.0870, -0.0658, -0.0027,  0.0111,\n",
      "         -0.0561, -0.0686,  0.0315,  0.0962, -0.0539,  0.0762, -0.0224,  0.0947,\n",
      "          0.0543,  0.0002, -0.0394,  0.0882,  0.0074, -0.1290, -0.1252,  0.0578,\n",
      "          0.0077,  0.0197,  0.0718, -0.0118, -0.0088, -0.0284,  0.0630,  0.0633,\n",
      "         -0.0940, -0.0010, -0.0103,  0.0206, -0.0461,  0.0373, -0.0617, -0.0757,\n",
      "         -0.0666, -0.0724, -0.0238,  0.0519,  0.0373,  0.0663,  0.0805,  0.0078,\n",
      "          0.0799, -0.0113, -0.0197, -0.0757,  0.0692,  0.1075,  0.0553, -0.0718,\n",
      "          0.0111,  0.0222, -0.0736, -0.0576,  0.0830,  0.0246,  0.0367,  0.0012,\n",
      "         -0.0356, -0.0242, -0.0987, -0.0874, -0.0194, -0.0314, -0.0306,  0.0260,\n",
      "          0.0077,  0.0686,  0.0255,  0.0135,  0.0213, -0.0750, -0.0511,  0.0106,\n",
      "          0.0616, -0.0164,  0.1113, -0.0139,  0.0655,  0.0620,  0.0137,  0.0877,\n",
      "          0.1011, -0.0773,  0.0317,  0.0606, -0.0722, -0.0799,  0.0499,  0.0653,\n",
      "          0.0990, -0.0213, -0.0731,  0.0162,  0.0009, -0.0003,  0.0363,  0.0344,\n",
      "         -0.0239,  0.0525, -0.0306,  0.0644,  0.0226, -0.0546,  0.0393, -0.0636,\n",
      "          0.0263,  0.0133,  0.0153, -0.0316,  0.0389, -0.0726,  0.0112, -0.0378,\n",
      "         -0.0538, -0.0641,  0.0049,  0.0111, -0.0438,  0.0175,  0.0676, -0.0637,\n",
      "          0.0866,  0.0442, -0.0176, -0.0329, -0.0172,  0.0248, -0.0817,  0.0170]],\n",
      "       grad_fn=<AddmmBackward0>)\n"
     ]
    }
   ],
   "source": [
    "# Instantiate the model\n",
    "model = ECGEncoder()\n",
    "\n",
    "# Convert the numpy array to a PyTorch tensor\n",
    "input_data = torch.from_numpy(current_train[0][1]).float()\n",
    "\n",
    "# Add an extra dimension to the tensor to represent the batch size\n",
    "input_data = input_data.unsqueeze(0)\n",
    "\n",
    "# Pass the tensor through the model\n",
    "output = model(input_data)\n",
    "\n",
    "# Print the output\n",
    "print(output)"
   ]
  },
  {
   "cell_type": "code",
   "execution_count": 48,
   "metadata": {},
   "outputs": [
    {
     "name": "stdout",
     "output_type": "stream",
     "text": [
      "<class 'torch.Tensor'>\n",
      "torch.Size([1, 768])\n"
     ]
    }
   ],
   "source": [
    "# Set the model to evaluation mode\n",
    "model.eval()\n",
    "\n",
    "# Pass the data through the model\n",
    "output = model(input_data)\n",
    "\n",
    "print(type(output))\n",
    "print(output.size())"
   ]
  },
  {
   "cell_type": "code",
   "execution_count": 49,
   "metadata": {},
   "outputs": [],
   "source": [
    "def count_parameters(model):\n",
    "    return sum(p.numel() for p in model.parameters() if p.requires_grad)"
   ]
  },
  {
   "cell_type": "code",
   "execution_count": 50,
   "metadata": {},
   "outputs": [
    {
     "name": "stdout",
     "output_type": "stream",
     "text": [
      "The model has 401048 trainable parameters\n"
     ]
    }
   ],
   "source": [
    "# Count the parameters\n",
    "num_params = count_parameters(model)\n",
    "print(f'The model has {num_params} trainable parameters')"
   ]
  },
  {
   "cell_type": "markdown",
   "metadata": {},
   "source": [
    "## CLIPModel\n",
    "\n",
    "The final component of the Model Pipeline is to create a `ClIPModel` class which takes `TextEncoder` and `ECGEncoder` to train the final model with contrastive loss. \n",
    "\n",
    "```\n",
    "# image_encoder - ResNet or Vision Transformer\n",
    "# text_encoder - CBOW or Text Transformer\n",
    "# I[n, h, w, c] - minibatch of aligned images\n",
    "# T[n, l] - minibatch of aligned texts\n",
    "# W_i[d_i, d_e] - learned proj of image to embed\n",
    "# W_t[d_t, d_e] - learned proj of text to embed\n",
    "# t - learned temperature parameter\n",
    "# extract feature representations of each modality\n",
    "I_f = image_encoder(I) #[n, d_i]\n",
    "T_f = text_encoder(T) #[n, d_t]\n",
    "# joint multimodal embedding [n, d_e]\n",
    "I_e = l2_normalize(np.dot(I_f, W_i), axis=1)\n",
    "T_e = l2_normalize(np.dot(T_f, W_t), axis=1)\n",
    "# scaled pairwise cosine similarities [n, n]\n",
    "logits = np.dot(I_e, T_e.T) * np.exp(t)\n",
    "# symmetric loss function\n",
    "labels = np.arange(n)\n",
    "loss_i = cross_entropy_loss(logits, labels, axis=0)\n",
    "loss_t = cross_entropy_loss(logits, labels, axis=1)\n",
    "loss = (loss_i + loss_t)/2\n",
    "Figure 3. Numpy-like pseudocode for the core of an implementation of CLIP\n",
    "```"
   ]
  },
  {
   "cell_type": "code",
   "execution_count": 24,
   "metadata": {},
   "outputs": [],
   "source": [
    "class CLIPModel(nn.Module):\n",
    "    def __init__(self, text_encoder, ecg_encoder, temperature):\n",
    "        super(CLIPModel, self).__init__()\n",
    "        self.text_encoder = text_encoder\n",
    "        self.ecg_encoder = ecg_encoder\n",
    "        self.temperature = temperature\n",
    "        self.W_i = nn.Linear(self.ecg_encoder.out_features, self.ecg_encoder.out_features)\n",
    "        self.W_t = nn.Linear(self.text_encoder.out_features, self.text_encoder.out_features)\n",
    "\n",
    "        # Freeze the weights of the text_encoder\n",
    "        for param in self.text_encoder.parameters():\n",
    "            param.requires_grad = False\n",
    "\n",
    "    def forward(self, ecgs, texts):\n",
    "        # Extract feature representations of each modality\n",
    "        I_f = self.ecg_encoder(ecgs)  # [n, d_i]\n",
    "        T_f = torch.stack([self.text_encoder.encode(text).squeeze() for text in texts])  # [n, d_t]\n",
    "\n",
    "        # Joint multimodal embedding [n, d_e]\n",
    "        I_e = F.normalize(self.W_i(I_f), dim=1)\n",
    "        T_e = F.normalize(self.W_t(T_f), dim=1)\n",
    "\n",
    "        # Scaled pairwise cosine similarities [n, n]\n",
    "        logits = torch.matmul(I_e, T_e.t()) / self.temperature\n",
    "\n",
    "        # Symmetric loss function\n",
    "        labels = torch.arange(len(ecgs)).to(ecgs.device)\n",
    "        loss_i = F.cross_entropy(logits, labels)\n",
    "        loss_t = F.cross_entropy(logits.t(), labels)\n",
    "        loss = (loss_i + loss_t) / 2\n",
    "\n",
    "        return loss"
   ]
  },
  {
   "cell_type": "markdown",
   "metadata": {},
   "source": [
    "Let's break down this `CLIPModel` class:\n",
    "\n",
    "- `__init__` method: This is the constructor for the `CLIPModel` class. It initializes the text and ECG encoders, the temperature for the softmax function, and two linear layers (`W_i` and `W_t`). The linear layers are used to transform the embeddings produced by the encoders to a common embedding space. The `embed_dim` parameter determines the dimensionality of this common space.\n",
    "\n",
    "- `forward` method: This is the method that is called when you pass data through the model.\n",
    "\n",
    "    - `I_f = self.ecg_encoder(ecgs)`: This line passes the ECG data through the ECG encoder to get a feature representation (`I_f`).\n",
    "\n",
    "    - `T_f = torch.stack([self.text_encoder.encode(text).squeeze() for text in texts])`: This line encodes each text in the `texts` list using the text encoder, squeezes the output to remove any unnecessary dimensions, and stacks the results into a tensor (`T_f`).\n",
    "\n",
    "    - `I_e = F.normalize(self.W_i(I_f), dim=1)` and `T_e = F.normalize(self.W_t(T_f), dim=1)`: These lines pass the feature representations through the linear layers (`W_i` and `W_t`), and then normalize the output. The result (`I_e` and `T_e`) are the embeddings in the common space.\n",
    "\n",
    "    - `logits = torch.matmul(I_e, T_e.t()) / self.temperature`: This line computes the cosine similarity between the ECG and text embeddings, scales it by the temperature, and stores the result in `logits`.\n",
    "\n",
    "    - The last few lines compute the cross-entropy loss between the logits and the labels (which are just the indices of the data points). The loss is computed twice: once for the ECG-to-text direction (`loss_i`), and once for the text-to-ECG direction (`loss_t`). The final loss is the average of these two losses.\n",
    "\n",
    "In summary, `W_i` and `W_t` are used to transform the feature representations produced by the encoders into a common embedding space. The model then computes the similarity between the ECG and text embeddings in this common space, and uses this to compute the loss."
   ]
  },
  {
   "cell_type": "code",
   "execution_count": 32,
   "metadata": {},
   "outputs": [],
   "source": [
    "# Instantiate the encoders\n",
    "text_encoder = TextEncoder()\n",
    "ecg_encoder = ECGEncoder()\n",
    "\n",
    "# Instantiate the encoders and the model\n",
    "CLIP_model = CLIPModel(text_encoder, ecg_encoder, embed_dim=512, temperature=1)"
   ]
  },
  {
   "cell_type": "code",
   "execution_count": null,
   "metadata": {},
   "outputs": [],
   "source": [
    "def resample_ecg(ecg, new_length=1280):\n",
    "    # Get the current length of the ECG\n",
    "    current_length = ecg.shape[1]\n",
    "\n",
    "    # Resample the ECG\n",
    "    resampled_ecg = signal.resample(ecg, new_length, axis=1)\n",
    "\n",
    "    return resampled_ecg"
   ]
  },
  {
   "cell_type": "code",
   "execution_count": null,
   "metadata": {},
   "outputs": [],
   "source": [
    "# Generate 50 random indices\n",
    "indices = random.sample(range(len(current_train)), 750)\n",
    "\n",
    "# Extract the samples at these indices\n",
    "texts = [current_train[i][0] for i in indices]\n",
    "ecgs = [current_train[i][1] for i in indices]\n",
    "\n",
    "# Convert the list of numpy arrays to a tensor\n",
    "ecgs_tensor = torch.stack([torch.from_numpy(ecg).float() for ecg in ecgs])"
   ]
  },
  {
   "cell_type": "code",
   "execution_count": null,
   "metadata": {},
   "outputs": [],
   "source": [
    "len(ecgs_tensor), len(ecgs), len(ecgs[0])"
   ]
  },
  {
   "cell_type": "code",
   "execution_count": null,
   "metadata": {},
   "outputs": [],
   "source": [
    "current_train[0][1]"
   ]
  },
  {
   "cell_type": "code",
   "execution_count": null,
   "metadata": {},
   "outputs": [],
   "source": [
    "# Pass the tensor and texts through the model\n",
    "loss = CLIP_model(ecgs_tensor, texts)\n",
    "\n",
    "# Print the loss\n",
    "print(loss)"
   ]
  },
  {
   "cell_type": "markdown",
   "metadata": {},
   "source": [
    "# Model Training"
   ]
  },
  {
   "cell_type": "markdown",
   "metadata": {},
   "source": [
    "## DataLoaders + Setup"
   ]
  },
  {
   "cell_type": "code",
   "execution_count": 1,
   "metadata": {},
   "outputs": [
    {
     "name": "stderr",
     "output_type": "stream",
     "text": [
      "c:\\Users\\navme\\AppData\\Local\\Programs\\Python\\Python38\\lib\\site-packages\\numpy\\_distributor_init.py:30: UserWarning: loaded more than 1 DLL from .libs:\n",
      "c:\\Users\\navme\\AppData\\Local\\Programs\\Python\\Python38\\lib\\site-packages\\numpy\\.libs\\libopenblas.FB5AE2TYXYH2IJRDKGDGQ3XBKLKTF43H.gfortran-win_amd64.dll\n",
      "c:\\Users\\navme\\AppData\\Local\\Programs\\Python\\Python38\\lib\\site-packages\\numpy\\.libs\\libopenblas64__v0.3.21-gcc_10_3_0.dll\n",
      "  warnings.warn(\"loaded more than 1 DLL from .libs:\"\n"
     ]
    }
   ],
   "source": [
    "from torch.utils.data import DataLoader\n",
    "from torch.nn.utils.rnn import pad_sequence\n",
    "from tqdm import tqdm"
   ]
  },
  {
   "cell_type": "code",
   "execution_count": null,
   "metadata": {},
   "outputs": [],
   "source": [
    "# Instantiate the encoders\n",
    "text_encoder = TextEncoder(device).to(torch.device(\"cuda\"))\n",
    "ecg_encoder = ECGEncoder().to(torch.device(\"cuda\"))\n",
    "\n",
    "# Instantiate the encoders and the model\n",
    "CLIP_model = CLIPModel(text_encoder, ecg_encoder, embed_dim=512, temperature=1)"
   ]
  },
  {
   "cell_type": "code",
   "execution_count": null,
   "metadata": {},
   "outputs": [],
   "source": [
    "# Parameters\n",
    "lr = 0.001\n",
    "weight_decay = 0.01\n",
    "optimizer = torch.optim.Adam(CLIP_model.parameters(), lr=lr, weight_decay=weight_decay)\n",
    "num_epochs = 3"
   ]
  },
  {
   "cell_type": "markdown",
   "metadata": {},
   "source": [
    "## Training CLIP model on ```current_train```"
   ]
  },
  {
   "cell_type": "code",
   "execution_count": null,
   "metadata": {},
   "outputs": [],
   "source": [
    "def collate_fn(batch):\n",
    "    texts = [item[0] for item in batch]\n",
    "    ecgs = [item[1] for item in batch]\n",
    "    # Pad the sequences\n",
    "    ecgs_padded = pad_sequence([torch.from_numpy(ecg) for ecg in ecgs], batch_first=True)\n",
    "    return texts, ecgs_padded\n",
    "\n",
    "# In your DataLoader, specify the collate_fn\n",
    "current_train_loader = DataLoader(current_train, batch_size=64, collate_fn=collate_fn)"
   ]
  },
  {
   "cell_type": "code",
   "execution_count": null,
   "metadata": {},
   "outputs": [],
   "source": [
    "def train_model(model, optimizer, num_epochs, device):\n",
    "    # Move model to the device\n",
    "    CLIP_model.to(device)\n",
    "\n",
    "    # Store the losses for each epoch\n",
    "    losses = []\n",
    "\n",
    "    for epoch in range(num_epochs):\n",
    "        CLIP_model.train()  # Set the model to training mode\n",
    "        running_loss = 0.0\n",
    "        pbar = tqdm(enumerate(current_train_loader, 0), total=len(current_train_loader), leave=False)\n",
    "        \n",
    "        # Then in your training loop\n",
    "        for i, data in pbar:\n",
    "            # Extract the samples\n",
    "            texts = data[0]  # Move texts to the device\n",
    "            ecgs = data[1].float().to(device)  # ecgs is already a tensor, just move it to the device\n",
    "\n",
    "            # Zero the parameter gradients\n",
    "            optimizer.zero_grad()\n",
    "\n",
    "            # Pass the tensor and texts through the model\n",
    "            loss = CLIP_model(ecgs, texts)  # Pass the tensor directly\n",
    "\n",
    "            # Backward + optimize\n",
    "            loss.backward()\n",
    "            optimizer.step()\n",
    "\n",
    "            # Print statistics\n",
    "            running_loss += loss.item()\n",
    "            pbar.set_description(f\"Epoch {epoch + 1} Loss: {running_loss/(i+1):.4f}\")\n",
    "        epoch_loss = running_loss / len(current_train)\n",
    "        losses.append(epoch_loss)\n",
    "        print(f'Epoch {epoch + 1}, Loss: {epoch_loss}')\n",
    "\n",
    "    return CLIP_model, losses"
   ]
  },
  {
   "cell_type": "code",
   "execution_count": null,
   "metadata": {},
   "outputs": [],
   "source": [
    "train_model(CLIP_model, optimizer, num_epochs, device)"
   ]
  },
  {
   "cell_type": "markdown",
   "metadata": {},
   "source": [
    "## Evaluating CLIP model on ```current_val```"
   ]
  },
  {
   "cell_type": "code",
   "execution_count": null,
   "metadata": {},
   "outputs": [],
   "source": []
  },
  {
   "cell_type": "code",
   "execution_count": null,
   "metadata": {},
   "outputs": [],
   "source": []
  },
  {
   "cell_type": "markdown",
   "metadata": {},
   "source": [
    "## Testing Trained CLIP model on ```test_set```"
   ]
  },
  {
   "cell_type": "code",
   "execution_count": null,
   "metadata": {},
   "outputs": [],
   "source": [
    "# Pseudo Code\n",
    "def predict_diagnosis(CLIP_model, ecg_sample, all_diagnoses):\n",
    "    # Generate the ECG embedding\n",
    "    ecg_embedding = CLIP_model.ecg_encoder(ecg_sample)\n",
    "\n",
    "    # Generate embeddings for all possible diagnoses\n",
    "    diagnosis_embeddings = [CLIP_model.text_encoder.encode(diagnosis) for diagnosis in all_diagnoses]\n",
    "\n",
    "    # Calculate the similarity between the ECG embedding and each diagnosis embedding\n",
    "    similarities = [torch.dot(ecg_embedding, diagnosis_embedding) for diagnosis_embedding in diagnosis_embeddings]\n",
    "\n",
    "    # The predicted diagnosis is the one with the highest similarity\n",
    "    predicted_diagnosis = all_diagnoses[torch.argmax(similarities)]\n",
    "\n",
    "    return predicted_diagnosis"
   ]
  }
 ],
 "metadata": {
  "kernelspec": {
   "display_name": "Python 3",
   "language": "python",
   "name": "python3"
  },
  "language_info": {
   "codemirror_mode": {
    "name": "ipython",
    "version": 3
   },
   "file_extension": ".py",
   "mimetype": "text/x-python",
   "name": "python",
   "nbconvert_exporter": "python",
   "pygments_lexer": "ipython3",
   "version": "3.8.1"
  }
 },
 "nbformat": 4,
 "nbformat_minor": 2
}
