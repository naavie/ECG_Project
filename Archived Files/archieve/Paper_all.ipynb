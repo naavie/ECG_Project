{
 "cells": [
  {
   "cell_type": "code",
   "execution_count": 5,
   "id": "6c75479a-a32a-40c2-99e9-943071a57a8a",
   "metadata": {},
   "outputs": [],
   "source": [
    "from lib import utils, model, dataset, training, codes\n",
    "\n",
    "import os\n",
    "import h5py\n",
    "\n",
    "from glob import glob\n",
    "from sklearn.model_selection import train_test_split\n",
    "import torch\n",
    "import numpy as np\n",
    "import pandas as pd\n",
    "import json\n",
    "\n",
    "import os\n",
    "\n",
    "from lib import utils, model, dataset, training, codes\n",
    "import lib.datasets"
   ]
  },
  {
   "cell_type": "code",
   "execution_count": 6,
   "id": "25434c1b-1856-472f-a6b3-ca87e9666a7d",
   "metadata": {},
   "outputs": [],
   "source": [
    "test_metrics = {'accuracy': 0.7648809523809523, \n",
    "                'atrial fibrillation_rocauc': 0.9171844215707146, \n",
    "                'atrial fibrillation_prauc': 0.4361265410523662, \n",
    "                'incomplete right bundle branch block_rocauc': 0.9088251470467772, \n",
    "                'incomplete right bundle branch block_prauc': 0.4297674746792139, \n",
    "                'left anterior fascicular block_rocauc': 0.9268139069260974, \n",
    "                'left anterior fascicular block_prauc': 0.42671961405195336, \n",
    "                'left ventricular hypertrophy_rocauc': 0.7587642655965638, \n",
    "                'left ventricular hypertrophy_prauc': 0.2757720380334504, \n",
    "                'myocardial infarction_rocauc': 0.840214852022878, \n",
    "                'myocardial infarction_prauc': 0.618194706110927, \n",
    "                'sinus rhythm_rocauc': 0.844971891867679, \n",
    "                'sinus rhythm_prauc': 0.9638187216373598, \n",
    "                'st depression_rocauc': 0.8141247154000085, \n",
    "                'st depression_prauc': 0.18970414424421614, \n",
    "                'mean_rocaucs': 0.8586998857758169, \n",
    "                'mean_praucs': 0.47715760568706955}\n",
    "\n",
    "zero_shot_test_metrics = {'accuracy': 0.14308608058608058, \n",
    "                          'left axis deviation_rocauc': 0.5401977190506834, \n",
    "                          'left axis deviation_prauc': 0.26244650701746625, \n",
    "                          'ventricular ectopics_rocauc': 0.7736850775542983, \n",
    "                          'ventricular ectopics_prauc': 0.14137467752900137, \n",
    "                          'myocardial ischemia_rocauc': 0.7947370443020241, \n",
    "                          'myocardial ischemia_prauc': 0.23642724160072665, \n",
    "                          't wave abnormal_rocauc': 0.6003195771799039, \n",
    "                          't wave abnormal_prauc': 0.14246834225638647, \n",
    "                          'mean_rocaucs': 0.6772348545217273, \n",
    "                          'mean_praucs': 0.1956791921008952}\n",
    "\n",
    "exp2_metrics_trained = {'accuracy': 0.09355840124175398, \n",
    "                        'sinus arrhythmia_rocauc': 0.5895783964056902, \n",
    "                        'sinus arrhythmia_prauc': 0.07774905749756673, \n",
    "                        'left ventricular hypertrophy_rocauc': 0.8941801477243011, \n",
    "                        'left ventricular hypertrophy_prauc': 0.09694352683924748, \n",
    "                        'sinus tachycardia_rocauc': 0.9082690054453708, \n",
    "                        'sinus tachycardia_prauc': 0.5379829291033716, \n",
    "                        'atrial fibrillation_rocauc': 0.9616839712795083, \n",
    "                        'atrial fibrillation_prauc': 0.4379333718137916, \n",
    "                        'sinus bradycardia_rocauc': 0.71066942466592, \n",
    "                        'sinus bradycardia_prauc': 0.21737268705116214, \n",
    "                        'mean_rocaucs': 0.812876189104158, \n",
    "                        'mean_praucs': 0.27359631446102795}\n",
    "\n",
    "exp2_metrics_untrained = {'accuracy': 0.5838571982925883, \n",
    "                          'incomplete right bundle-branch block_rocauc': 0.8064123614532502, \n",
    "                          'incomplete right bundle-branch block_prauc': 0.19526101242705962, \n",
    "                          'st deviation_rocauc': 0.716575594805385, \n",
    "                          'st deviation_prauc': 0.2400055776428945, \n",
    "                          't-wave abnormality_rocauc': 0.6992063931745451, \n",
    "                          't-wave abnormality_prauc': 0.17219488821487497, \n",
    "                          'right bundle-branch block_rocauc': 0.8781902764200318, \n",
    "                          'right bundle-branch block_prauc': 0.648628640444118, \n",
    "                          'prolonged pr interval_rocauc': 0.6579848060170331, \n",
    "                          'prolonged pr interval_prauc': 0.019533055742954115, \n",
    "                          'atrial premature complex(es)_rocauc': 0.6521667804330289, \n",
    "                          'atrial premature complex(es)_prauc': 0.0532194289301259, \n",
    "                          'normal ecg_rocauc': 0.7021679286919714, \n",
    "                          'normal ecg_prauc': 0.6681558074606322, \n",
    "                          'st deviation with t-wave change_rocauc': 0.7112457722285048, \n",
    "                          'st deviation with t-wave change_prauc': 0.09995219189713328, \n",
    "                          'ventricular premature complex(es)_rocauc': 0.7305275710112804, \n",
    "                          'ventricular premature complex(es)_prauc': 0.153588974502212, \n",
    "                          'low voltage_rocauc': 0.46869746319861133, \n",
    "                          'low voltage_prauc': 0.012805849968587496, \n",
    "                          'mean_rocaucs': 0.7023174947433641, \n",
    "                          'mean_praucs': 0.22633454272305925}\n",
    "\n"
   ]
  },
  {
   "cell_type": "code",
   "execution_count": 7,
   "id": "faa4042e-2e03-4f75-b2aa-373a347429c8",
   "metadata": {},
   "outputs": [],
   "source": [
    "config = utils.CFG({})\n",
    "config.seed = 43\n",
    "config.cache_path = 'cache'\n",
    "config.data_path = '/ayb/vol1/datasets/ecg_datasets/physionet.org/files/challenge-2021/1.0.3/training/ptb-xl'\n",
    "config.logs_path = 'results'\n",
    "config.models_path = 'results'\n",
    "config.test_size = 0.2\n",
    "config.valid_size = 0.25\n",
    "config.min_class_count = 200\n",
    "config.batch_size = 256\n",
    "config.num_workers = 12\n",
    "config.ecg_sr = 128\n",
    "config.window = 1280\n",
    "config.text_embedding_size = 768\n",
    "config.projection_dim = 256\n",
    "config.dropout = 0.15\n",
    "config.pretrained = True\n",
    "config.text_encoder_model = 'emilyalsentzer/Bio_ClinicalBERT'\n",
    "config.text_tokenizer = 'emilyalsentzer/Bio_ClinicalBERT'\n",
    "config.temperature = 10.0\n",
    "config.head_lr = 0.0001\n",
    "config.image_encoder_lr = 0.001\n",
    "config.device = 'cuda:0'\n",
    "config.epochs = 30\n",
    "config.max_length = 200\n",
    "config.ecg_encoder_model = 'ECGConvEncoder'\n",
    "config.ecg_encoder_channels = [32, 32, 64, 64, 128, 128, 256, 256]\n",
    "config.ecg_encoder_kernels = [7, 7, 5, 5, 3, 3, 3, 3]\n",
    "config.ecg_linear_size = 512\n",
    "config.ecg_embedding_size = 512\n",
    "config.ecg_channels = 12\n",
    "config.excluded_classes = ['abnormal QRS']\n",
    "config.train_required_classes = ['normal ecg']\n",
    "config.zero_shot_classes_size = 0.4"
   ]
  },
  {
   "cell_type": "code",
   "execution_count": 8,
   "id": "cfc88d5c-624d-4ed6-97fa-8f160a1638df",
   "metadata": {},
   "outputs": [
    {
     "name": "stdout",
     "output_type": "stream",
     "text": [
      "Train/valid/test classes counts: 4 4 4 3\n"
     ]
    }
   ],
   "source": [
    "os.environ[\"TOKENIZERS_PARALLELISM\"] = \"false\"\n",
    "\n",
    "utils.set_seed(config.seed)\n",
    "df = lib.dataset.code15.load_df()\n",
    "\n",
    "train, test = train_test_split(df, test_size=config.test_size, random_state=config.seed)\n",
    "train, valid = train_test_split(train, test_size=config.valid_size, random_state=config.seed)\n",
    " \n",
    "train_classes =  utils.calsses_from_captions(train['label'].values, threshold=config.min_class_count)\n",
    "valid_classes =  utils.calsses_from_captions(valid['label'].values, threshold=config.min_class_count)\n",
    "test_classes = utils.calsses_from_captions(test['label'].values, threshold=config.min_class_count)\n",
    "\n",
    "train_classes = [class_ for class_ in train_classes if class_ not in config.excluded_classes]\n",
    "valid_classes = [class_ for class_ in valid_classes if class_ in train_classes]\n",
    "test_classes = [class_ for class_ in test_classes if class_ in train_classes]\n",
    "\n",
    "excluded = list()\n",
    "for class_ in config.train_required_classes:\n",
    "    if class_ in test_classes:\n",
    "        test_classes.remove(class_)\n",
    "        excluded.append(class_)\n",
    "        \n",
    "test_classes, zero_shot_classes = train_test_split(test_classes, test_size=config.zero_shot_classes_size, random_state=config.seed)\n",
    "\n",
    "test_classes += excluded\n",
    "\n",
    "train_classes = [class_ for class_ in train_classes if class_ not in zero_shot_classes]\n",
    "valid_classes = [class_ for class_ in valid_classes if class_ not in zero_shot_classes]\n",
    "\n",
    "train_classes = sorted(train_classes)\n",
    "valid_classes = sorted(valid_classes)\n",
    "test_classes = sorted(valid_classes)\n",
    "\n",
    "print('Train/valid/test classes counts:', len(train_classes), len(valid_classes), len(test_classes), len(zero_shot_classes))\n",
    "\n",
    "train['label'] = utils.remove_classes(zero_shot_classes, train['label'].to_list())\n"
   ]
  },
  {
   "cell_type": "code",
   "execution_count": null,
   "id": "d01ccb87-2c98-4f7e-aa32-95de120edc4f",
   "metadata": {},
   "outputs": [],
   "source": []
  },
  {
   "cell_type": "code",
   "execution_count": null,
   "id": "940f79f3-3a0f-45fc-9a18-088438f83adc",
   "metadata": {
    "scrolled": true
   },
   "outputs": [
    {
     "name": "stderr",
     "output_type": "stream",
     "text": [
      "  5%|████████▏                                                                                                                                                              | 10132/207467 [01:51<36:08, 91.02it/s]"
     ]
    }
   ],
   "source": [
    "config.train_classes = train_classes\n",
    "config.valid_classes = valid_classes\n",
    "config.test_classes = test_classes\n",
    "config.zero_shot_classes = zero_shot_classes\n",
    "\n",
    "train_ds = dataset.CLIP_ECG_Dataset(train, config)\n",
    "valid_ds = dataset.CLIP_ECG_Dataset(valid, config)\n",
    "\n",
    "train_dl = torch.utils.data.DataLoader(train_ds, batch_size=config.batch_size, num_workers=config.num_workers, shuffle=True)\n",
    "valid_dl = torch.utils.data.DataLoader(valid_ds, batch_size=config.batch_size, num_workers=config.num_workers, shuffle=False)\n",
    "\n",
    "net = model.CLIPModel(config)\n",
    "net = net.to(config.device)\n",
    "params = [\n",
    "    {\"params\": net.image_encoder.parameters(), \"lr\": config.image_encoder_lr},\n",
    "    {\"params\": net.image_projection.parameters(), \"lr\": config.head_lr},\n",
    "    {\"params\": net.text_projection.parameters(), \"lr\": config.head_lr},\n",
    "]\n",
    "\n",
    "optimizer = torch.optim.Adam(params)\n",
    "\n",
    "cfg = {k:v for k, v in config.__dict__.items() if not k.startswith('__')}\n",
    "cfg_hash = utils.generate_dict_hash(cfg)\n",
    "\n",
    "with open(f'{config.logs_path}/{cfg_hash}.cfg', 'w') as fp:\n",
    "    json.dump(cfg, fp)\n",
    "\n",
    "history = list()\n",
    "best_valid_score = 0.0\n",
    "for epoch in range(config.epochs):\n",
    "    print(f\"Epoch: {epoch + 1}\")\n",
    "    hrow = dict()\n",
    "    hrow['epoch'] = epoch\n",
    "    net.train()\n",
    "    train_loss_meter, train_accuracy_meter = training.train_epoch(net, train_dl, optimizer, train_classes, config)\n",
    "    hrow['train_loss'] = train_loss_meter.avg\n",
    "    \n",
    "    metrics = training.valid_epoch(net, train_dl, train_classes, config) \n",
    "    hrow.update({f'train_{key}': val for key, val in metrics.items()})\n",
    "    #hrow['train_mean_rocaucs'] = np.mean([val for key, val in metrics.items() if key.endswith('_rocauc') and val is not None])\n",
    "    #hrow['train_mean_praucs'] = np.mean([val for key, val in metrics.items() if key.endswith('_prauc') and val is not None])\n",
    "    print('Train:', hrow['train_mean_rocaucs'], hrow['train_mean_praucs'])\n",
    "    \n",
    "    metrics = training.valid_epoch(net, valid_dl, valid_classes, config) \n",
    "    hrow.update({f'valid_{key}': val for key, val in metrics.items()})\n",
    "    #hrow['valid_mean_rocaucs'] = np.mean([val for key, val in metrics.items() if key.endswith('_rocauc') and val is not None])\n",
    "    #hrow['valid_mean_praucs'] = np.mean([val for key, val in metrics.items() if key.endswith('_prauc') and val is not None])\n",
    "    print('Valid:', hrow['valid_mean_rocaucs'], hrow['valid_mean_praucs'])\n",
    "    \n",
    "    history.append(hrow)\n",
    "    pd.DataFrame(history).to_csv(config.logs_path + f'/{cfg_hash}.csv', index=False)\n",
    "\n",
    "    if hrow['valid_mean_rocaucs'] > best_valid_score:\n",
    "        best_valid_score = hrow['valid_mean_rocaucs']\n",
    "        torch.save(net.state_dict(), config.models_path + f'/{cfg_hash}.pt')      "
   ]
  },
  {
   "cell_type": "code",
   "execution_count": null,
   "id": "4c047ecb-4e1a-4ec4-bd04-1b86c45a33e3",
   "metadata": {
    "scrolled": true
   },
   "outputs": [],
   "source": [
    "net = model.CLIPModel(config)\n",
    "net.load_state_dict(torch.load(config.models_path + f'/{cfg_hash}.pt', weights_only=True))\n",
    "net.to(config.device)"
   ]
  },
  {
   "cell_type": "code",
   "execution_count": null,
   "id": "209de3f7-efb7-4c9c-b730-5e7553e80650",
   "metadata": {
    "scrolled": true
   },
   "outputs": [],
   "source": [
    "test_ds = dataset.CLIP_ECG_Dataset(test, config)\n",
    "test_dl = torch.utils.data.DataLoader(test_ds, batch_size=config.batch_size, num_workers=config.num_workers, shuffle=True)\n",
    "metrics = training.valid_epoch(net, test_dl, config.test_classes, config) \n",
    "config.test_metrics = metrics"
   ]
  },
  {
   "cell_type": "code",
   "execution_count": null,
   "id": "0738cbf2-ddf7-422c-bcbb-8fe1035c763a",
   "metadata": {},
   "outputs": [],
   "source": [
    "metrics = training.valid_epoch(net, test_dl, config.zero_shot_classes, config) \n",
    "config.zero_shot_test_metrics = metrics"
   ]
  },
  {
   "cell_type": "code",
   "execution_count": null,
   "id": "200f4dff-39b4-4b54-a25e-45a81983f1df",
   "metadata": {},
   "outputs": [],
   "source": [
    "config"
   ]
  },
  {
   "cell_type": "code",
   "execution_count": null,
   "id": "78211724-5158-4321-bb44-87e0d1c60471",
   "metadata": {},
   "outputs": [],
   "source": [
    "def remove_nonprimary_code(x):\n",
    "    r = []\n",
    "    for cx in x:\n",
    "        for c in cx.split('+'):\n",
    "            if int(c) < 200 or int(c) >= 500:\n",
    "                if c not in r:\n",
    "                    r.append(c)\n",
    "    return r\n",
    "\n",
    "def codes_to_caption(codes):\n",
    "    classes = [description_dict[int(code)].lower() for code in codes]\n",
    "    caption = ', '.join(classes)\n",
    "    return caption"
   ]
  },
  {
   "cell_type": "code",
   "execution_count": null,
   "id": "59362959-658e-4c2d-9a3b-0fed1dddfa0b",
   "metadata": {},
   "outputs": [],
   "source": [
    "data_path = '/ayb/vol1/datasets/ecg_datasets/SPH'\n",
    "ecg_files = sorted(glob(f'{data_path}/records/*.h5'))\n",
    "df = pd.read_csv(f'{data_path}/metadata.csv')\n",
    "df['primary_codes'] = df['AHA_Code'].str.split(';').apply(remove_nonprimary_code)\n",
    "description_dict = pd.read_csv(f'{data_path}/code.csv').set_index('Code')['Description'].to_dict()\n",
    "df['label'] = df['primary_codes'].apply(codes_to_caption)\n",
    "df['ecg_file'] = df['ECG_ID'].apply(lambda x: f'{data_path}/records/{x}.h5')"
   ]
  },
  {
   "cell_type": "code",
   "execution_count": null,
   "id": "e9b36fad-d01b-42e2-bd5b-56d61f3d431e",
   "metadata": {},
   "outputs": [],
   "source": [
    "df = df[['ecg_file', 'label']]"
   ]
  },
  {
   "cell_type": "code",
   "execution_count": null,
   "id": "3ae375a6-582d-4cf0-91d1-abbab9b836f4",
   "metadata": {},
   "outputs": [],
   "source": [
    "config.exp2_classes = utils.calsses_from_captions(df['label'].values, threshold=config.min_class_count)\n",
    "config.exp2_trained_classes = list(set(config.exp2_classes) & set(config.train_classes))\n",
    "config.exp2_untrained_classes = list(set(config.exp2_classes) - set(config.train_classes))"
   ]
  },
  {
   "cell_type": "code",
   "execution_count": null,
   "id": "4d55c84d-f91e-433e-8fe8-7d44cee41e9c",
   "metadata": {},
   "outputs": [],
   "source": []
  },
  {
   "cell_type": "code",
   "execution_count": null,
   "id": "4d4b0c31-cac1-4288-a49f-d6a8ce2cf07f",
   "metadata": {
    "scrolled": true
   },
   "outputs": [],
   "source": [
    "test_ds = dataset.CLIP_ECG_Dataset(df, config)\n",
    "test_dl = torch.utils.data.DataLoader(test_ds, batch_size=config.batch_size, num_workers=config.num_workers, shuffle=True)\n",
    "metrics = training.valid_epoch(net, test_dl, config.exp2_trained_classes, config) \n",
    "config.exp2_metrics_trained = metrics"
   ]
  },
  {
   "cell_type": "code",
   "execution_count": null,
   "id": "8e84cbf8-5cd5-4ab1-b2a5-78215b77da8f",
   "metadata": {},
   "outputs": [],
   "source": [
    "metrics = lib.training.valid_epoch(net, test_dl, config.exp2_untrained_classes, config) \n",
    "config.exp2_metrics_untrained = metrics"
   ]
  },
  {
   "cell_type": "code",
   "execution_count": 23,
   "id": "c3edceb5-6257-439f-b4ba-8f450c07afb1",
   "metadata": {},
   "outputs": [
    {
     "data": {
      "text/plain": [
       "seed: 43\n",
       "cache_path: cache\n",
       "data_path: /ayb/vol1/datasets/ecg_datasets/physionet.org/files/challenge-2021/1.0.3/training/ptb-xl\n",
       "logs_path: results\n",
       "models_path: results\n",
       "test_size: 0.2\n",
       "valid_size: 0.25\n",
       "min_class_count: 200\n",
       "batch_size: 256\n",
       "num_workers: 12\n",
       "ecg_sr: 128\n",
       "window: 1280\n",
       "text_embedding_size: 768\n",
       "projection_dim: 256\n",
       "dropout: 0.15\n",
       "pretrained: True\n",
       "text_encoder_model: emilyalsentzer/Bio_ClinicalBERT\n",
       "text_tokenizer: emilyalsentzer/Bio_ClinicalBERT\n",
       "temperature: 10.0\n",
       "head_lr: 0.0001\n",
       "image_encoder_lr: 0.001\n",
       "device: cuda:0\n",
       "epochs: 30\n",
       "max_length: 200\n",
       "ecg_encoder_model: ECGConvEncoder\n",
       "ecg_encoder_channels: [32, 32, 64, 64, 128, 128, 256, 256]\n",
       "ecg_encoder_kernels: [7, 7, 5, 5, 3, 3, 3, 3]\n",
       "ecg_linear_size: 512\n",
       "ecg_embedding_size: 512\n",
       "ecg_channels: 12\n",
       "excluded_classes: ['abnormal QRS']\n",
       "train_required_classes: ['normal ecg']\n",
       "zero_shot_classes_size: 0.4\n",
       "train_classes: ['1st degree AV block', 'normal ecg', 'right bundle branch block', 'sinus bradycardia']\n",
       "valid_classes: ['1st degree AV block', 'normal ecg', 'right bundle branch block', 'sinus bradycardia']\n",
       "test_classes: ['1st degree AV block', 'normal ecg', 'right bundle branch block', 'sinus bradycardia']\n",
       "zero_shot_classes: ['sinus tachycardia', 'left bundle branch block', 'atrial fibrillation']\n",
       "test_metrics: {'accuracy': 0.8580166579906299, '1st degree AV block_rocauc': 0.977057444625189, '1st degree AV block_prauc': 0.48261446229706256, 'normal ecg_rocauc': 0.9728643495969564, 'normal ecg_prauc': 0.9962638512546502, 'right bundle branch block_rocauc': 0.9934631731501957, 'right bundle branch block_prauc': 0.7967275688877977, 'sinus bradycardia_rocauc': 0.9890827703580468, 'sinus bradycardia_prauc': 0.5898579237615739, 'mean_rocaucs': 0.9831169344325971, 'mean_praucs': 0.716365951550271}\n",
       "zero_shot_test_metrics: {'accuracy': 0.0203308462027879, 'sinus tachycardia_rocauc': 0.7494307792818894, 'sinus tachycardia_prauc': 0.03967418711194491, 'left bundle branch block_rocauc': 0.8188576278884866, 'left bundle branch block_prauc': 0.04319874380586621, 'atrial fibrillation_rocauc': 0.721010940034202, 'atrial fibrillation_prauc': 0.034017434549756725, 'mean_rocaucs': 0.7630997824015259, 'mean_praucs': 0.03896345515585595}\n",
       "exp2_classes: ['atrial fibrillation', 'atrial premature complex(es)', 'incomplete right bundle-branch block', 'left ventricular hypertrophy', 'low voltage', 'normal ecg', 'prolonged pr interval', 'right bundle-branch block', 'sinus arrhythmia', 'sinus bradycardia', 'sinus tachycardia', 'st deviation', 'st deviation with t-wave change', 't-wave abnormality', 'ventricular premature complex(es)']\n",
       "exp2_trained_classes: ['normal ecg', 'sinus bradycardia']\n",
       "exp2_untrained_classes: ['atrial premature complex(es)', 'ventricular premature complex(es)', 'low voltage', 'sinus tachycardia', 'st deviation with t-wave change', 'incomplete right bundle-branch block', 'sinus arrhythmia', 'prolonged pr interval', 'st deviation', 'atrial fibrillation', 'left ventricular hypertrophy', 't-wave abnormality', 'right bundle-branch block']\n",
       "exp2_metrics_trained: {'accuracy': 0.559837019790454, 'normal ecg_rocauc': 0.6223906215692452, 'normal ecg_prauc': 0.5763771419169921, 'sinus bradycardia_rocauc': 0.9605977155229071, 'sinus bradycardia_prauc': 0.8090858134539777, 'mean_rocaucs': 0.7914941685460761, 'mean_praucs': 0.6927314776854849}\n",
       "exp2_metrics_untrained: {'accuracy': 0.11047729918509895, 'atrial premature complex(es)_rocauc': 0.7008035731290004, 'atrial premature complex(es)_prauc': 0.04351875377103314, 'ventricular premature complex(es)_rocauc': 0.7465081039032364, 'ventricular premature complex(es)_prauc': 0.08317367084970784, 'low voltage_rocauc': 0.5375461176707197, 'low voltage_prauc': 0.01441013465089983, 'sinus tachycardia_rocauc': 0.8440187799891231, 'sinus tachycardia_prauc': 0.08218769380761995, 'st deviation with t-wave change_rocauc': 0.559123006299874, 'st deviation with t-wave change_prauc': 0.056255811732865445, 'incomplete right bundle-branch block_rocauc': 0.6688961747054354, 'incomplete right bundle-branch block_prauc': 0.08223101702403268, 'sinus arrhythmia_rocauc': 0.5842159567067469, 'sinus arrhythmia_prauc': 0.08912270295600648, 'prolonged pr interval_rocauc': 0.7861877400184578, 'prolonged pr interval_prauc': 0.019220611669092596, 'st deviation_rocauc': 0.5685149607769895, 'st deviation_prauc': 0.14681877281637923, 'atrial fibrillation_rocauc': 0.7737723760819994, 'atrial fibrillation_prauc': 0.050255459652114476, 'left ventricular hypertrophy_rocauc': 0.5601433965358036, 'left ventricular hypertrophy_prauc': 0.01112988888523639, 't-wave abnormality_rocauc': 0.5535709923838309, 't-wave abnormality_prauc': 0.10551752565793507, 'right bundle-branch block_rocauc': 0.8023900644066939, 'right bundle-branch block_prauc': 0.54660013102579, 'mean_rocaucs': 0.668130095585224, 'mean_praucs': 0.10234170573067022}"
      ]
     },
     "execution_count": 23,
     "metadata": {},
     "output_type": "execute_result"
    }
   ],
   "source": [
    "config"
   ]
  },
  {
   "cell_type": "code",
   "execution_count": null,
   "id": "ad79e53d-c979-495f-9ddb-082cf2a10be8",
   "metadata": {},
   "outputs": [],
   "source": [
    "config.exp2_metrics_trained"
   ]
  },
  {
   "cell_type": "code",
   "execution_count": null,
   "id": "4c4789aa-776f-418a-8118-567b7789c24a",
   "metadata": {},
   "outputs": [],
   "source": [
    "config.exp2_metrics_untrained"
   ]
  },
  {
   "cell_type": "code",
   "execution_count": null,
   "id": "65224ee9-d3e4-472a-9290-aa1aa85ab02f",
   "metadata": {},
   "outputs": [],
   "source": []
  },
  {
   "cell_type": "code",
   "execution_count": null,
   "id": "5c2058f4-9aec-43ca-9648-26fdd87fbe2d",
   "metadata": {},
   "outputs": [],
   "source": []
  },
  {
   "cell_type": "code",
   "execution_count": null,
   "id": "6e993dcf-919b-4ebb-abeb-fed38113fa6f",
   "metadata": {},
   "outputs": [],
   "source": []
  },
  {
   "cell_type": "code",
   "execution_count": null,
   "id": "02140ac5-d6dd-43e1-9696-de65aa9d2a9d",
   "metadata": {},
   "outputs": [],
   "source": []
  },
  {
   "cell_type": "code",
   "execution_count": null,
   "id": "3d505006-bb37-458b-927f-7cecaac5076c",
   "metadata": {},
   "outputs": [],
   "source": []
  },
  {
   "cell_type": "code",
   "execution_count": null,
   "id": "377c8447-2a02-4d69-8a1a-d085e4f875dc",
   "metadata": {},
   "outputs": [],
   "source": []
  },
  {
   "cell_type": "code",
   "execution_count": null,
   "id": "5c5f8fad-7cd1-416e-9e73-1141b3d487a6",
   "metadata": {},
   "outputs": [],
   "source": []
  }
 ],
 "metadata": {
  "kernelspec": {
   "display_name": "Python 3 (ipykernel)",
   "language": "python",
   "name": "python3"
  },
  "language_info": {
   "codemirror_mode": {
    "name": "ipython",
    "version": 3
   },
   "file_extension": ".py",
   "mimetype": "text/x-python",
   "name": "python",
   "nbconvert_exporter": "python",
   "pygments_lexer": "ipython3",
   "version": "3.10.11"
  }
 },
 "nbformat": 4,
 "nbformat_minor": 5
}
