{
 "cells": [
  {
   "cell_type": "markdown",
   "metadata": {},
   "source": [
    "# Main Thesis Topic: “Zero-shot classification of ECG signals using CLIP-like model”.\n",
    "\n",
    "**For example: Train on PBT-XL:**\n",
    "\n",
    "- Text Encoder: ClinicalBERT (trained on diagnoses of ECG signal to obtain corresponding embeddings)\n",
    "- Image Encoder: 1D-CNN (used to encode ECG signal to obtain signal embeddings)\n",
    "\n",
    "- Experiment A): Baseline: We can take only the name of the class. For example, take “Myocardial Infarction” as a text. We should exclude some classes from training and after training is completed, the CLIP-like model can be tested on these excluded classes.\n",
    "    - Next, we get embeddings of text from ClinicalBERT and train the ECG encoder with contrastive loss.\n",
    "\n",
    "- Experiment B): Same as Experiment A but instead of testing on the same dataset/classes, we would test on other datasets containing different classes.\n",
    "\n",
    "**Evaluation metrics:**\n",
    "- Main: AUC-ROC, average_precison_score,\n",
    "- Optional: Specificity, Sensitivity, F1-score\n",
    "\n",
    "**Outcome:**\n",
    "- It’s possible to train CLIP-like models with freezed (or unchanged/not fine tuned for downstream tasks) text encoder\n",
    "- Training ECG encoders that are viable for representing different domains (within ECG modality) and previously unseen classes.\n",
    "- Training a CLIP-like model on ECGs has little novelty."
   ]
  },
  {
   "cell_type": "markdown",
   "metadata": {},
   "source": [
    "## Experiment A: PTB & PTB-XL ONLY\n",
    "\n",
    "-  Baseline: We can take only the name of the class. For example, take “Myocardial Infarction” as a text. We should exclude some classes from training and after training is completed, the CLIP-like model can be tested on these excluded classes.\n",
    "- Next, we get embeddings of text from ClinicalBERT and train the ECG encoder with contrastive loss."
   ]
  },
  {
   "cell_type": "code",
   "execution_count": 8,
   "metadata": {},
   "outputs": [],
   "source": [
    "import os\n",
    "import sys\n",
    "import random\n",
    "import ast\n",
    "import pickle\n",
    "\n",
    "import numpy as np\n",
    "import pandas as pd\n",
    "import matplotlib.pyplot as plt\n",
    "from tqdm import tqdm\n",
    "from scipy.signal import resample\n",
    "import scipy.io as sio\n",
    "from scipy import signal\n",
    "from sklearn.metrics import roc_auc_score, average_precision_score, f1_score\n",
    "\n",
    "import torch\n",
    "from torch.utils.data import random_split\n",
    "import torch.nn as nn\n",
    "import torch.optim as optim\n",
    "import torch.nn.functional as F\n",
    "from transformers import AutoTokenizer, AutoModel\n",
    "from torch.nn.functional import cosine_similarity\n",
    "from torch.utils.data import DataLoader\n",
    "from torch.nn.utils.rnn import pad_sequence"
   ]
  },
  {
   "cell_type": "code",
   "execution_count": 3,
   "metadata": {},
   "outputs": [],
   "source": [
    "sys.path.append('C:/Users/navme/Desktop/ECG_Project/PyFiles')"
   ]
  },
  {
   "cell_type": "code",
   "execution_count": 4,
   "metadata": {},
   "outputs": [],
   "source": [
    "from helper_functions import *"
   ]
  },
  {
   "cell_type": "markdown",
   "metadata": {},
   "source": [
    "Using the ```PhysioNet_PATH```, we can create separate datasets for training, testing & validation.\n",
    "\n",
    "# Stage 1: Data Preprocessing\n",
    "\n",
    "- train_set (train & validation data)\n",
    "- test_set (test data)"
   ]
  },
  {
   "cell_type": "markdown",
   "metadata": {},
   "source": [
    "First, let's load the SNOWMED-CT mappings:"
   ]
  },
  {
   "cell_type": "code",
   "execution_count": 5,
   "metadata": {},
   "outputs": [
    {
     "data": {
      "text/html": [
       "<div>\n",
       "<style scoped>\n",
       "    .dataframe tbody tr th:only-of-type {\n",
       "        vertical-align: middle;\n",
       "    }\n",
       "\n",
       "    .dataframe tbody tr th {\n",
       "        vertical-align: top;\n",
       "    }\n",
       "\n",
       "    .dataframe thead th {\n",
       "        text-align: right;\n",
       "    }\n",
       "</style>\n",
       "<table border=\"1\" class=\"dataframe\">\n",
       "  <thead>\n",
       "    <tr style=\"text-align: right;\">\n",
       "      <th></th>\n",
       "      <th>Dx</th>\n",
       "      <th>SNOMEDCTCode</th>\n",
       "      <th>Abbreviation</th>\n",
       "      <th>CPSC</th>\n",
       "      <th>CPSC_Extra</th>\n",
       "      <th>StPetersburg</th>\n",
       "      <th>PTB</th>\n",
       "      <th>PTB_XL</th>\n",
       "      <th>Georgia</th>\n",
       "      <th>Chapman_Shaoxing</th>\n",
       "      <th>Ningbo</th>\n",
       "      <th>Total</th>\n",
       "      <th>Notes</th>\n",
       "    </tr>\n",
       "  </thead>\n",
       "  <tbody>\n",
       "    <tr>\n",
       "      <th>0</th>\n",
       "      <td>atrial fibrillation</td>\n",
       "      <td>164889003</td>\n",
       "      <td>AF</td>\n",
       "      <td>1221</td>\n",
       "      <td>153</td>\n",
       "      <td>2</td>\n",
       "      <td>15</td>\n",
       "      <td>1514</td>\n",
       "      <td>570</td>\n",
       "      <td>1780</td>\n",
       "      <td>0</td>\n",
       "      <td>5255</td>\n",
       "      <td>NaN</td>\n",
       "    </tr>\n",
       "    <tr>\n",
       "      <th>1</th>\n",
       "      <td>atrial flutter</td>\n",
       "      <td>164890007</td>\n",
       "      <td>AFL</td>\n",
       "      <td>0</td>\n",
       "      <td>54</td>\n",
       "      <td>0</td>\n",
       "      <td>1</td>\n",
       "      <td>73</td>\n",
       "      <td>186</td>\n",
       "      <td>445</td>\n",
       "      <td>7615</td>\n",
       "      <td>8374</td>\n",
       "      <td>NaN</td>\n",
       "    </tr>\n",
       "  </tbody>\n",
       "</table>\n",
       "</div>"
      ],
      "text/plain": [
       "                    Dx  SNOMEDCTCode Abbreviation  CPSC  CPSC_Extra  \\\n",
       "0  atrial fibrillation     164889003           AF  1221         153   \n",
       "1       atrial flutter     164890007          AFL     0          54   \n",
       "\n",
       "   StPetersburg  PTB  PTB_XL  Georgia  Chapman_Shaoxing  Ningbo  Total Notes  \n",
       "0             2   15    1514      570              1780       0   5255   NaN  \n",
       "1             0    1      73      186               445    7615   8374   NaN  "
      ]
     },
     "execution_count": 5,
     "metadata": {},
     "output_type": "execute_result"
    }
   ],
   "source": [
    "smowmed_mappings_path = convert_to_forward_slashes(r'C:\\Users\\navme\\Desktop\\ECG_Project\\Data\\SNOWMED-CT Codes\\combined_mappings.csv')\n",
    "\n",
    "# Load the SNOMED-CT mappings\n",
    "smowmed_mappings = pd.read_csv(smowmed_mappings_path)\n",
    "smowmed_mappings.head(2)"
   ]
  },
  {
   "cell_type": "code",
   "execution_count": 6,
   "metadata": {},
   "outputs": [],
   "source": [
    "# Select the 'Dx' and 'SNOMEDCTCode' columns\n",
    "codes = smowmed_mappings[['Dx', 'SNOMEDCTCode']]\n",
    "\n",
    "# Set 'SNOWMEDCTCode' as the index\n",
    "codes.set_index('SNOMEDCTCode', inplace=True)\n",
    "\n",
    "# Convert the DataFrame into a dictionary\n",
    "codes_dict = codes['Dx'].to_dict()"
   ]
  },
  {
   "cell_type": "code",
   "execution_count": 8,
   "metadata": {},
   "outputs": [
    {
     "data": {
      "text/plain": [
       "[(164889003, 'atrial fibrillation'),\n",
       " (164890007, 'atrial flutter'),\n",
       " (6374002, 'bundle branch block'),\n",
       " (426627000, 'bradycardia'),\n",
       " (733534002, 'complete left bundle branch block')]"
      ]
     },
     "execution_count": 8,
     "metadata": {},
     "output_type": "execute_result"
    }
   ],
   "source": [
    "list(codes_dict.items())[:5]"
   ]
  },
  {
   "cell_type": "markdown",
   "metadata": {},
   "source": [
    "# Updated PhysioNetDataset Class \n",
    "\n",
    "- Update the ```PhysioNetDataset``` class such that instead of header_info --> return header_info['Dx']. Then convert the Dx code to string input for TextEncoder(). "
   ]
  },
  {
   "cell_type": "code",
   "execution_count": 7,
   "metadata": {},
   "outputs": [],
   "source": [
    "class PhysioNetDataset(torch.utils.data.Dataset):\n",
    "    def __init__(self, dataset_path, train=False):\n",
    "        self.dataset_path = dataset_path\n",
    "        self.dataset_path = [path for path in self.dataset_path if \"index.html\" not in path]\n",
    "        self.train = train\n",
    "        self.file_list = os.listdir(dataset_path)\n",
    "        self._hea_files = []\n",
    "        self._mat_files = []\n",
    "        self._indices_files = []\n",
    "        self._hea_files_path = []\n",
    "        self._mat_files_path = []\n",
    "\n",
    "        self.file_PATHS = []  # Directory to main database folders\n",
    "        self.data_files = []  # Directory to data files\n",
    "\n",
    "        # Validation Case: PTB Databases only\n",
    "        if self.train == False:\n",
    "            validation_datasets = ['ptb', 'ptb-xl']\n",
    "            for file in os.listdir(dataset_path):\n",
    "                if file in validation_datasets:\n",
    "                    file_path = os.path.join(dataset_path, file)\n",
    "                    file_path = file_path.replace('\\\\', '/')\n",
    "                    self.file_PATHS.append(file_path)\n",
    "\n",
    "        # Training Case: All Databases excluding PTB\n",
    "        else:\n",
    "            validation_datasets = ['ptb', 'ptb-xl']\n",
    "            for file in os.listdir(dataset_path):\n",
    "                if file not in validation_datasets:\n",
    "                    file_path = os.path.join(dataset_path, file)\n",
    "                    file_path = file_path.replace('\\\\', '/')\n",
    "                    self.file_PATHS.append(file_path)\n",
    "\n",
    "        for path in self.file_PATHS:\n",
    "            if os.path.isdir(path):\n",
    "                for sub_folder in os.listdir(path):\n",
    "                    sub_folder_path = os.path.join(path, sub_folder)\n",
    "                    sub_folder_path = sub_folder_path.replace('\\\\', '/')\n",
    "\n",
    "                    # Ignore index.html files\n",
    "                    if sub_folder_path.endswith('index.html'):\n",
    "                        self._indices_files.append(sub_folder_path)\n",
    "                    else:\n",
    "                        if os.path.isdir(sub_folder_path):\n",
    "                            for file in os.listdir(sub_folder_path):\n",
    "                                # Get all .hea files\n",
    "                                if file.endswith('.hea'):\n",
    "                                    file_path = os.path.join(sub_folder_path, file)\n",
    "                                    file_path = file_path.replace('\\\\', '/')\n",
    "                                    self._hea_files.append(file_path)\n",
    "                                    self._hea_files_path.append(file_path)\n",
    "                                # Get all .mat files\n",
    "                                elif file.endswith('.mat'):\n",
    "                                    file_path = os.path.join(sub_folder_path, file)\n",
    "                                    file_path = file_path.replace('\\\\', '/')\n",
    "                                    self._mat_files.append(file_path)\n",
    "                                    self._mat_files_path.append(file_path)\n",
    "\n",
    "    def resample_ecg(self, ecg, new_length=1280):\n",
    "        # Get the current length of the ECG\n",
    "        current_length = ecg.shape[1]\n",
    "\n",
    "        # Resample the ECG\n",
    "        resampled_ecg = resample(ecg, new_length, axis=1)\n",
    "\n",
    "        return resampled_ecg\n",
    "\n",
    "    def __getitem__(self, index):\n",
    "        if isinstance(index, slice):\n",
    "            start, stop, step = index.indices(len(self))\n",
    "            return [self[i] for i in range(start, stop, step)]\n",
    "        # 1. Get .hea file\n",
    "        hea_file_path = self._hea_files[index]\n",
    "        with open(hea_file_path, 'r') as f:\n",
    "            lines = f.readlines()\n",
    "\n",
    "        dx_modalities = None\n",
    "        # Parse header information\n",
    "        for line in lines:\n",
    "            if line.startswith('# Dx:'):\n",
    "                dx_codes = line.split(':')[1].strip().split(',')\n",
    "                dx_modalities = [codes_dict.get(int(code.strip()), code.strip()) for code in dx_codes]\n",
    "\n",
    "        # 2. Get .mat file\n",
    "        twelve_lead_ecg = None\n",
    "        if index < len(self._mat_files):\n",
    "            mat_file_path = self._mat_files[index]\n",
    "            mat_data = sio.loadmat(mat_file_path)\n",
    "\n",
    "            # Extract the ECG data\n",
    "            twelve_lead_ecg = mat_data['val']\n",
    "\n",
    "            # Resample the ECG if it is not None\n",
    "            twelve_lead_ecg = self.resample_ecg(twelve_lead_ecg)\n",
    "            \n",
    "        else:\n",
    "            print(f\"MAT file for index {index} does not exist.\")\n",
    "\n",
    "        # Return list of diagnoses and the np array of the 12-lead ECG\n",
    "        return dx_modalities, twelve_lead_ecg\n",
    "\n",
    "\n",
    "    def plot_record(self, index):\n",
    "        mat_file_path = self._mat_files[index]\n",
    "        data = sio.loadmat(mat_file_path)\n",
    "        fig, axs = plt.subplots(nrows=3, ncols=4, figsize=(20, 15))\n",
    "\n",
    "        for i, ax in enumerate(axs.flat):\n",
    "            ax.plot(data['val'][i], linewidth=0.5)\n",
    "            ax.set_xlabel('Sample')\n",
    "            ax.set_ylabel('Amplitude')\n",
    "            ax.set_title(f'Lead {i+1}')\n",
    "\n",
    "        plt.tight_layout()\n",
    "        plt.show()\n",
    "\n",
    "    def __len__(self):\n",
    "        return len(self._hea_files)"
   ]
  },
  {
   "cell_type": "code",
   "execution_count": 9,
   "metadata": {},
   "outputs": [
    {
     "data": {
      "text/plain": [
       "'C:/Users/navme/Desktop/ECG_Thesis_Local/PhysioNet-2021-Challenge/physionet.org/files/challenge-2021/1.0.3/training'"
      ]
     },
     "execution_count": 9,
     "metadata": {},
     "output_type": "execute_result"
    }
   ],
   "source": [
    "# Path to training folder within PhysioNet dataset\n",
    "PhysioNet_PATH = f'C:/Users/navme/Desktop/ECG_Thesis_Local/PhysioNet-2021-Challenge/physionet.org/files/challenge-2021/1.0.3/training'\n",
    "PhysioNet_PATH"
   ]
  },
  {
   "cell_type": "markdown",
   "metadata": {},
   "source": [
    "We have to set `train = False` to load the `PTB` and `PTB-XL` datasets."
   ]
  },
  {
   "cell_type": "code",
   "execution_count": 10,
   "metadata": {},
   "outputs": [
    {
     "data": {
      "text/plain": [
       "22352"
      ]
     },
     "execution_count": 10,
     "metadata": {},
     "output_type": "execute_result"
    }
   ],
   "source": [
    "expA_dataset = PhysioNetDataset(PhysioNet_PATH, train=False)\n",
    "len(expA_dataset)  # Should be 22353 records in total"
   ]
  },
  {
   "cell_type": "code",
   "execution_count": 11,
   "metadata": {},
   "outputs": [
    {
     "data": {
      "text/plain": [
       "['myocardial infarction']"
      ]
     },
     "execution_count": 11,
     "metadata": {},
     "output_type": "execute_result"
    }
   ],
   "source": [
    "expA_dataset[0][0]"
   ]
  },
  {
   "cell_type": "code",
   "execution_count": 12,
   "metadata": {},
   "outputs": [
    {
     "data": {
      "text/plain": [
       "array([[ -45.93443974, -257.76735841, -204.38884819, ...,  207.06125242,\n",
       "         229.91846005,  241.06771077],\n",
       "       [   2.39774601, -258.27448051, -213.23767774, ...,  236.74978869,\n",
       "         163.10069387,  266.09279668],\n",
       "       [  48.77130997,   -0.55561737,   -8.93666839, ...,   30.38791226,\n",
       "         -66.5753722 ,   25.43929824],\n",
       "       ...,\n",
       "       [   6.93659186,  136.56480991,   83.44371554, ..., -109.00235325,\n",
       "         -82.10284084,  -65.32595022],\n",
       "       [  40.00654719,  231.07221173,  161.53286103, ..., -171.11330299,\n",
       "        -169.96584404, -174.2212556 ],\n",
       "       [  18.56012414,  231.41053703,  158.34203376, ..., -215.72758534,\n",
       "        -208.84775154, -226.52649213]])"
      ]
     },
     "execution_count": 12,
     "metadata": {},
     "output_type": "execute_result"
    }
   ],
   "source": [
    "expA_dataset[0][1]"
   ]
  },
  {
   "cell_type": "markdown",
   "metadata": {},
   "source": [
    "### Step 3: Define the classes to exclude"
   ]
  },
  {
   "cell_type": "code",
   "execution_count": 13,
   "metadata": {},
   "outputs": [],
   "source": [
    "classes_to_exclude = [\n",
    "    'myocardial infarction',\n",
    "    'left bundle branch block',\n",
    "    't wave abnormal',\n",
    "    'sinus bradycardia',\n",
    "    'inferior ischaemia'\n",
    "]"
   ]
  },
  {
   "cell_type": "code",
   "execution_count": 14,
   "metadata": {},
   "outputs": [],
   "source": [
    "# Create functions to exclude/include records containing certain classes\n",
    "def exclude_classes(record, classes_to_exclude):\n",
    "    return not any([cls in record[0] for cls in classes_to_exclude])\n",
    "\n",
    "def include_classes(record, classes_to_exclude):\n",
    "    return any([cls in record[0] for cls in classes_to_exclude])"
   ]
  },
  {
   "cell_type": "code",
   "execution_count": 15,
   "metadata": {},
   "outputs": [
    {
     "name": "stdout",
     "output_type": "stream",
     "text": [
      "MAT file for index 22349 does not exist.\n",
      "MAT file for index 22350 does not exist.\n",
      "MAT file for index 22351 does not exist.\n"
     ]
    }
   ],
   "source": [
    "# Apply the function to the dataset\n",
    "filtered_dataset = [record for record in expA_dataset if exclude_classes(record, classes_to_exclude)]"
   ]
  },
  {
   "cell_type": "code",
   "execution_count": 16,
   "metadata": {},
   "outputs": [
    {
     "data": {
      "text/plain": [
       "['abnormal QRS',\n",
       " 'left axis deviation',\n",
       " 'sinus rhythm',\n",
       " 'supraventricular premature beats']"
      ]
     },
     "execution_count": 16,
     "metadata": {},
     "output_type": "execute_result"
    }
   ],
   "source": [
    "filtered_dataset[1000][0]"
   ]
  },
  {
   "cell_type": "markdown",
   "metadata": {},
   "source": [
    "The ```train_set``` can be split into ```current_train``` (85%) and ```current_val``` (15%)."
   ]
  },
  {
   "cell_type": "code",
   "execution_count": 19,
   "metadata": {},
   "outputs": [],
   "source": [
    "# Set the seed for the random number generator\n",
    "torch.manual_seed(0)\n",
    "\n",
    "# Get the length of the train_set\n",
    "length = len(filtered_dataset)\n",
    "\n",
    "# Calculate the lengths of the splits\n",
    "train_length = int(0.85 * length)\n",
    "val_length = length - train_length\n",
    "\n",
    "# Split the dataset\n",
    "current_train, current_val = random_split(filtered_dataset, [train_length, val_length])"
   ]
  },
  {
   "cell_type": "code",
   "execution_count": 20,
   "metadata": {},
   "outputs": [
    {
     "data": {
      "text/plain": [
       "(11534, 2036)"
      ]
     },
     "execution_count": 20,
     "metadata": {},
     "output_type": "execute_result"
    }
   ],
   "source": [
    "len(current_train), len(current_val)"
   ]
  },
  {
   "cell_type": "code",
   "execution_count": 21,
   "metadata": {},
   "outputs": [],
   "source": [
    "assert len(current_train) + len(current_val) == len(filtered_dataset)"
   ]
  },
  {
   "cell_type": "code",
   "execution_count": 22,
   "metadata": {},
   "outputs": [
    {
     "data": {
      "text/plain": [
       "['sinus rhythm']"
      ]
     },
     "execution_count": 22,
     "metadata": {},
     "output_type": "execute_result"
    }
   ],
   "source": [
    "# Diagnoses\n",
    "current_train[0][0]"
   ]
  },
  {
   "cell_type": "code",
   "execution_count": 23,
   "metadata": {},
   "outputs": [
    {
     "data": {
      "text/plain": [
       "array([[ -12.75095365,    8.26146432,   25.21036212, ...,  -46.78649712,\n",
       "         -42.33615862,  -49.77185234],\n",
       "       [ -36.08955916,  -91.16647942,  -56.88710675, ...,   37.87149406,\n",
       "          30.50770108,   43.76508402],\n",
       "       [ -23.33349795,  -99.43040908,  -82.11161079, ...,   84.65291698,\n",
       "          72.849304  ,   93.53135053],\n",
       "       ...,\n",
       "       [ -78.20672582, -123.04287893, -110.69050357, ...,  -11.37945503,\n",
       "         -20.05333544,   -6.15773454],\n",
       "       [ -70.24501569,  -98.42570387, -102.21803626, ...,  -22.16972905,\n",
       "         -28.9483897 ,  -18.20635664],\n",
       "       [ -60.17367165,  -78.23841155,  -73.83297861, ...,  -33.70700198,\n",
       "         -36.87081883,  -31.60160604]])"
      ]
     },
     "execution_count": 23,
     "metadata": {},
     "output_type": "execute_result"
    }
   ],
   "source": [
    "# 12-lead ECG (np array)\n",
    "current_train[0][1]"
   ]
  },
  {
   "cell_type": "code",
   "execution_count": 24,
   "metadata": {},
   "outputs": [
    {
     "name": "stdout",
     "output_type": "stream",
     "text": [
      "MAT file for index 22349 does not exist.\n",
      "MAT file for index 22350 does not exist.\n",
      "MAT file for index 22351 does not exist.\n"
     ]
    },
    {
     "data": {
      "text/plain": [
       "8782"
      ]
     },
     "execution_count": 24,
     "metadata": {},
     "output_type": "execute_result"
    }
   ],
   "source": [
    "test_dataset = [record for record in expA_dataset if include_classes(record, classes_to_exclude)]\n",
    "len(test_dataset)"
   ]
  },
  {
   "cell_type": "code",
   "execution_count": 25,
   "metadata": {},
   "outputs": [],
   "source": [
    "assert len(test_dataset) == len(expA_dataset) - len(filtered_dataset)"
   ]
  },
  {
   "cell_type": "markdown",
   "metadata": {},
   "source": [
    "# Stage 2: ECG Classification Model Pipeline\n",
    "\n",
    "Now that our data is preprocessed, we can begin working on the Model Pipeline itself. The ECG Classification Model Pipeline will consist of three components:\n",
    "\n",
    "1. `TextEncoder()` class\n",
    "\n",
    "2. `ECGEncoder()` class\n",
    "\n",
    "3. `InstanceSelector()` class\n",
    "\n",
    "4. `CLIPModel()` class\n",
    "\n",
    "An overview and outline of each of these components can be found below in their respective subsections."
   ]
  },
  {
   "cell_type": "code",
   "execution_count": 29,
   "metadata": {},
   "outputs": [],
   "source": [
    "# Check if CUDA is available\n",
    "device = torch.device(\"cuda\" if torch.cuda.is_available() else \"cpu\")"
   ]
  },
  {
   "cell_type": "markdown",
   "metadata": {},
   "source": [
    "## TextEncoder()\n",
    "\n",
    "Create a class, ```TextEncoder()``` that is used to convert the description of the (dx_modality) diagnosis class into embeddings using the ClinicalBERT model.\n",
    "\n",
    "- Input should be a concatenated using comma or blank space string of diagnoses/dx_modality per ECG signal."
   ]
  },
  {
   "cell_type": "code",
   "execution_count": 27,
   "metadata": {},
   "outputs": [],
   "source": [
    "class TextEncoder(nn.Module):\n",
    "    def __init__(self, device):\n",
    "        super().__init__()\n",
    "        self.device = device\n",
    "        self.tokenizer = AutoTokenizer.from_pretrained(\"emilyalsentzer/Bio_ClinicalBERT\")\n",
    "        self.model = AutoModel.from_pretrained(\"emilyalsentzer/Bio_ClinicalBERT\").to(self.device)\n",
    "\n",
    "    def encode(self, text_list):\n",
    "        # Check if text_list is a string representation of a list\n",
    "        if isinstance(text_list, str):\n",
    "            text_list = ast.literal_eval(text_list)\n",
    "        # Convert list of strings to a single string\n",
    "        text = ', '.join(text_list)\n",
    "        # Tokenize text\n",
    "        inputs = self.tokenizer(text, return_tensors=\"pt\", truncation=True, padding=True, max_length=512)\n",
    "        # Move inputs to the correct device\n",
    "        inputs = {name: tensor.to(self.device) for name, tensor in inputs.items()}\n",
    "        # Get embeddings from ClinicalBERT model\n",
    "        with torch.no_grad():\n",
    "            embeddings = self.model(**inputs).last_hidden_state\n",
    "        # Average the embeddings to get single vector per each input\n",
    "        embeddings = torch.mean(embeddings, dim=1)\n",
    "        return embeddings.to(self.device)"
   ]
  },
  {
   "cell_type": "code",
   "execution_count": 30,
   "metadata": {},
   "outputs": [],
   "source": [
    "text_encoder = TextEncoder(device).to(device)\n",
    "# Example\n",
    "embeddings = text_encoder.encode(current_train[0][0])"
   ]
  },
  {
   "cell_type": "code",
   "execution_count": 31,
   "metadata": {},
   "outputs": [
    {
     "name": "stdout",
     "output_type": "stream",
     "text": [
      "torch.Size([1, 768])\n",
      "<class 'torch.Tensor'>\n"
     ]
    }
   ],
   "source": [
    "print(embeddings.size())\n",
    "print(type(embeddings))"
   ]
  },
  {
   "cell_type": "markdown",
   "metadata": {},
   "source": [
    "## ECGEncoder()\n",
    "\n",
    "- Input is ECG signal, output will be embeddings of ECG signal\n",
    "- This is going to be model in model.py\n",
    "- Model weights are updated iteratively\n",
    "- optimizer = torch.optim.Adam(clip_model.ECGEncoder.parameters())\n",
    "\n",
    "**Current Tasks:**\n",
    "\n",
    "- Change number of layers of fully connected layer 2 to 768 out_channels\n",
    "- Alternatively look into getting rid of the second fully connected layer. \n",
    "- Shifting from 128 --> 768 can cause loss of information. \n",
    "- Update all layers after layer 7 as follows:  \n",
    "    - ```self.conv7 = nn.Conv1d(in_channels=512, out_channels=512, kernel_size=3, stride=1, padding=1)```\n",
    "    - ```self.bn7 = nn.BatchNorm1d(512)```\n"
   ]
  },
  {
   "cell_type": "code",
   "execution_count": 19,
   "metadata": {},
   "outputs": [],
   "source": [
    "class ECGEncoder(nn.Module):\n",
    "    def __init__(self):\n",
    "        super(ECGEncoder, self).__init__()\n",
    "\n",
    "        # Layer 1\n",
    "        self.conv1 = nn.Conv1d(in_channels=12, out_channels=16, kernel_size=3, stride=1, padding=1)\n",
    "        self.bn1 = nn.BatchNorm1d(16)\n",
    "        self.relu1 = nn.ReLU()\n",
    "        self.pool1 = nn.AvgPool1d(kernel_size=2, stride=2)\n",
    "\n",
    "        # Layer 2\n",
    "        self.conv2 = nn.Conv1d(in_channels=16, out_channels=32, kernel_size=3, stride=1, padding=1)\n",
    "        self.bn2 = nn.BatchNorm1d(32)\n",
    "        self.relu2 = nn.ReLU()\n",
    "        self.pool2 = nn.AvgPool1d(kernel_size=2, stride=2)\n",
    "\n",
    "        # Layer 3\n",
    "        self.conv3 = nn.Conv1d(in_channels=32, out_channels=64, kernel_size=3, stride=1, padding=1)\n",
    "        self.bn3 = nn.BatchNorm1d(64)\n",
    "        self.relu3 = nn.ReLU()\n",
    "        self.pool3 = nn.AvgPool1d(kernel_size=2, stride=2)\n",
    "\n",
    "        # Layer 4\n",
    "        self.conv4 = nn.Conv1d(in_channels=64, out_channels=128, kernel_size=3, stride=1, padding=1)\n",
    "        self.bn4 = nn.BatchNorm1d(128)\n",
    "        self.relu4 = nn.ReLU()\n",
    "        self.pool4 = nn.AvgPool1d(kernel_size=2, stride=2)\n",
    "\n",
    "        # Layer 5\n",
    "        self.conv5 = nn.Conv1d(in_channels=128, out_channels=256, kernel_size=3, stride=1, padding=1)\n",
    "        self.bn5 = nn.BatchNorm1d(256)\n",
    "        self.relu5 = nn.ReLU()\n",
    "        self.pool5 = nn.AvgPool1d(kernel_size=2, stride=2)\n",
    "\n",
    "        # Layer 6\n",
    "        self.conv6 = nn.Conv1d(in_channels=256, out_channels=512, kernel_size=3, stride=1, padding=1)\n",
    "        self.bn6 = nn.BatchNorm1d(512)\n",
    "        self.relu6 = nn.ReLU()\n",
    "        self.pool6 = nn.AvgPool1d(kernel_size=2, stride=2)\n",
    "\n",
    "        # Layer 7\n",
    "        self.conv7 = nn.Conv1d(in_channels=512, out_channels=512, kernel_size=3, stride=1, padding=1)\n",
    "        self.bn7 = nn.BatchNorm1d(512)\n",
    "        self.relu7 = nn.ReLU()\n",
    "        self.pool7 = nn.AvgPool1d(kernel_size=2, stride=2)\n",
    "\n",
    "        # Layer 8\n",
    "        self.conv8 = nn.Conv1d(in_channels=512, out_channels=512, kernel_size=3, stride=1, padding=1)\n",
    "        self.bn8 = nn.BatchNorm1d(512)\n",
    "        self.relu8 = nn.ReLU()\n",
    "        self.pool8 = nn.AvgPool1d(kernel_size=2, stride=2)\n",
    "\n",
    "        # Layer 9\n",
    "        self.conv9 = nn.Conv1d(in_channels=512, out_channels=512, kernel_size=3, stride=1, padding=1)\n",
    "        self.bn9 = nn.BatchNorm1d(512)\n",
    "        self.relu9 = nn.ReLU()\n",
    "        self.pool9 = nn.AvgPool1d(kernel_size=2, stride=2)\n",
    "\n",
    "        # Layer 10\n",
    "        self.conv10 = nn.Conv1d(in_channels=512, out_channels=512, kernel_size=3, stride=1, padding=1)\n",
    "        self.bn10 = nn.BatchNorm1d(512)\n",
    "        self.relu10 = nn.ReLU()\n",
    "        self.pool10 = nn.AvgPool1d(kernel_size=2, stride=2)\n",
    "\n",
    "        # Fully Connected Layer 1\n",
    "        # self.fc1 = nn.Linear(512*4, 768)\n",
    "        self.relu11 = nn.ReLU()\n",
    "\n",
    "    def forward(self, x):\n",
    "        # Layer 1\n",
    "        x = self.conv1(x)\n",
    "        x = self.bn1(x)\n",
    "        x = self.relu1(x)\n",
    "        x = self.pool1(x)\n",
    "\n",
    "        # Layer 2\n",
    "        x = self.conv2(x)\n",
    "        x = self.bn2(x)\n",
    "        x = self.relu2(x)\n",
    "        x = self.pool2(x)\n",
    "\n",
    "        # Layer 3\n",
    "        x = self.conv3(x)\n",
    "        x = self.bn3(x)\n",
    "        x = self.relu3(x)\n",
    "        x = self.pool3(x)\n",
    "\n",
    "        # Layer 4\n",
    "        x = self.conv4(x)\n",
    "        x = self.bn4(x)\n",
    "        x = self.relu4(x)\n",
    "        x = self.pool4(x)\n",
    "\n",
    "        # Layer 5\n",
    "        x = self.conv5(x)\n",
    "        x = self.bn5(x)\n",
    "        x = self.relu5(x)\n",
    "        x = self.pool5(x)\n",
    "\n",
    "        # Layer 6\n",
    "        x = self.conv6(x)\n",
    "        x = self.bn6(x)\n",
    "        x = self.relu6(x)\n",
    "        x = self.pool6(x)\n",
    "\n",
    "        # Layer 7\n",
    "        x = self.conv7(x)\n",
    "        x = self.bn7(x)\n",
    "        x = self.relu7(x)\n",
    "        x = self.pool7(x)\n",
    "\n",
    "        # Layer 8\n",
    "        x = self.conv8(x)\n",
    "        x = self.bn8(x)\n",
    "        x = self.relu8(x)\n",
    "        x = self.pool8(x)\n",
    "\n",
    "        # Layer 9\n",
    "        x = self.conv9(x)\n",
    "        x = self.bn9(x)\n",
    "        x = self.relu9(x)\n",
    "        x = self.pool9(x)\n",
    "\n",
    "        # Layer 10\n",
    "        x = self.conv10(x)\n",
    "        x = self.bn10(x)\n",
    "        x = self.relu10(x)\n",
    "        x = self.pool10(x)\n",
    "\n",
    "        # Flatten the output of the convolutional layers\n",
    "        print(x.size())\n",
    "        x = x.view(x.size(0), -1)\n",
    "\n",
    "        # Initialize self.fc1 here, using the size of x\n",
    "        if not hasattr(self, 'fc1'):\n",
    "            self.fc1 = nn.Linear(x.size(1), self.embed_dim).to(x.device)\n",
    "        x = self.fc1(x)\n",
    "        x = self.relu11(x) \n",
    "\n",
    "        return x "
   ]
  },
  {
   "cell_type": "code",
   "execution_count": null,
   "metadata": {},
   "outputs": [],
   "source": [
    "# Instantiate the model\n",
    "model = ECGEncoder()\n",
    "\n",
    "# Convert the numpy array to a PyTorch tensor\n",
    "input_data = torch.from_numpy(current_train[0][1]).float()\n",
    "\n",
    "# Add an extra dimension to the tensor to represent the batch size\n",
    "input_data = input_data.unsqueeze(0)\n",
    "\n",
    "# Pass the tensor through the model\n",
    "output = model(input_data)\n",
    "\n",
    "# Print the output\n",
    "print(output)"
   ]
  },
  {
   "cell_type": "code",
   "execution_count": 23,
   "metadata": {},
   "outputs": [
    {
     "name": "stdout",
     "output_type": "stream",
     "text": [
      "torch.Size([1, 512, 1])\n",
      "<class 'torch.Tensor'>\n"
     ]
    }
   ],
   "source": [
    "# Set the model to evaluation mode\n",
    "model.eval()\n",
    "\n",
    "# Pass the data through the model\n",
    "output = model(input_data)\n",
    "\n",
    "print(type(output))"
   ]
  },
  {
   "cell_type": "code",
   "execution_count": 20,
   "metadata": {},
   "outputs": [],
   "source": [
    "def count_parameters(model):\n",
    "    return sum(p.numel() for p in model.parameters() if p.requires_grad)"
   ]
  },
  {
   "cell_type": "code",
   "execution_count": 22,
   "metadata": {},
   "outputs": [
    {
     "name": "stdout",
     "output_type": "stream",
     "text": [
      "The model has 4073232 trainable parameters\n"
     ]
    }
   ],
   "source": [
    "# Count the parameters\n",
    "num_params = count_parameters(model)\n",
    "print(f'The model has {num_params} trainable parameters')"
   ]
  },
  {
   "cell_type": "markdown",
   "metadata": {},
   "source": [
    "## CLIPModel\n",
    "\n",
    "The final component of the Model Pipeline is to create a `ClIPModel` class which takes `TextEncoder` and `ECGEncoder` to train the final model with contrastive loss. \n",
    "\n",
    "```\n",
    "# image_encoder - ResNet or Vision Transformer\n",
    "# text_encoder - CBOW or Text Transformer\n",
    "# I[n, h, w, c] - minibatch of aligned images\n",
    "# T[n, l] - minibatch of aligned texts\n",
    "# W_i[d_i, d_e] - learned proj of image to embed\n",
    "# W_t[d_t, d_e] - learned proj of text to embed\n",
    "# t - learned temperature parameter\n",
    "# extract feature representations of each modality\n",
    "I_f = image_encoder(I) #[n, d_i]\n",
    "T_f = text_encoder(T) #[n, d_t]\n",
    "# joint multimodal embedding [n, d_e]\n",
    "I_e = l2_normalize(np.dot(I_f, W_i), axis=1)\n",
    "T_e = l2_normalize(np.dot(T_f, W_t), axis=1)\n",
    "# scaled pairwise cosine similarities [n, n]\n",
    "logits = np.dot(I_e, T_e.T) * np.exp(t)\n",
    "# symmetric loss function\n",
    "labels = np.arange(n)\n",
    "loss_i = cross_entropy_loss(logits, labels, axis=0)\n",
    "loss_t = cross_entropy_loss(logits, labels, axis=1)\n",
    "loss = (loss_i + loss_t)/2\n",
    "Figure 3. Numpy-like pseudocode for the core of an implementation of CLIP\n",
    "```"
   ]
  },
  {
   "cell_type": "code",
   "execution_count": 24,
   "metadata": {},
   "outputs": [],
   "source": [
    "class CLIPModel(nn.Module):\n",
    "    def __init__(self, text_encoder, ecg_encoder, temperature):\n",
    "        super(CLIPModel, self).__init__()\n",
    "        self.text_encoder = text_encoder\n",
    "        self.ecg_encoder = ecg_encoder\n",
    "        self.temperature = temperature\n",
    "        self.W_i = nn.Linear(self.ecg_encoder.out_features, self.ecg_encoder.out_features)\n",
    "        self.W_t = nn.Linear(self.text_encoder.out_features, self.text_encoder.out_features)\n",
    "\n",
    "    def forward(self, ecgs, texts):\n",
    "        # Extract feature representations of each modality\n",
    "        I_f = self.ecg_encoder(ecgs)  # [n, d_i]\n",
    "        T_f = torch.stack([self.text_encoder.encode(text).squeeze() for text in texts])  # [n, d_t]\n",
    "\n",
    "        # Joint multimodal embedding [n, d_e]\n",
    "        I_e = F.normalize(self.W_i(I_f), dim=1)\n",
    "        T_e = F.normalize(self.W_t(T_f), dim=1)\n",
    "\n",
    "        # Scaled pairwise cosine similarities [n, n]\n",
    "        logits = torch.matmul(I_e, T_e.t()) / self.temperature\n",
    "\n",
    "        # Symmetric loss function\n",
    "        labels = torch.arange(len(ecgs)).to(ecgs.device)\n",
    "        loss_i = F.cross_entropy(logits, labels)\n",
    "        loss_t = F.cross_entropy(logits.t(), labels)\n",
    "        loss = (loss_i + loss_t) / 2\n",
    "\n",
    "        return loss"
   ]
  },
  {
   "cell_type": "markdown",
   "metadata": {},
   "source": [
    "Let's break down this `CLIPModel` class:\n",
    "\n",
    "- `__init__` method: This is the constructor for the `CLIPModel` class. It initializes the text and ECG encoders, the temperature for the softmax function, and two linear layers (`W_i` and `W_t`). The linear layers are used to transform the embeddings produced by the encoders to a common embedding space. The `embed_dim` parameter determines the dimensionality of this common space.\n",
    "\n",
    "- `forward` method: This is the method that is called when you pass data through the model.\n",
    "\n",
    "    - `I_f = self.ecg_encoder(ecgs)`: This line passes the ECG data through the ECG encoder to get a feature representation (`I_f`).\n",
    "\n",
    "    - `T_f = torch.stack([self.text_encoder.encode(text).squeeze() for text in texts])`: This line encodes each text in the `texts` list using the text encoder, squeezes the output to remove any unnecessary dimensions, and stacks the results into a tensor (`T_f`).\n",
    "\n",
    "    - `I_e = F.normalize(self.W_i(I_f), dim=1)` and `T_e = F.normalize(self.W_t(T_f), dim=1)`: These lines pass the feature representations through the linear layers (`W_i` and `W_t`), and then normalize the output. The result (`I_e` and `T_e`) are the embeddings in the common space.\n",
    "\n",
    "    - `logits = torch.matmul(I_e, T_e.t()) / self.temperature`: This line computes the cosine similarity between the ECG and text embeddings, scales it by the temperature, and stores the result in `logits`.\n",
    "\n",
    "    - The last few lines compute the cross-entropy loss between the logits and the labels (which are just the indices of the data points). The loss is computed twice: once for the ECG-to-text direction (`loss_i`), and once for the text-to-ECG direction (`loss_t`). The final loss is the average of these two losses.\n",
    "\n",
    "In summary, `W_i` and `W_t` are used to transform the feature representations produced by the encoders into a common embedding space. The model then computes the similarity between the ECG and text embeddings in this common space, and uses this to compute the loss."
   ]
  },
  {
   "cell_type": "code",
   "execution_count": 32,
   "metadata": {},
   "outputs": [],
   "source": [
    "# Instantiate the encoders\n",
    "text_encoder = TextEncoder()\n",
    "ecg_encoder = ECGEncoder()\n",
    "\n",
    "# Instantiate the encoders and the model\n",
    "CLIP_model = CLIPModel(text_encoder, ecg_encoder, embed_dim=512, temperature=1)"
   ]
  },
  {
   "cell_type": "code",
   "execution_count": null,
   "metadata": {},
   "outputs": [],
   "source": [
    "def resample_ecg(ecg, new_length=1280):\n",
    "    # Get the current length of the ECG\n",
    "    current_length = ecg.shape[1]\n",
    "\n",
    "    # Resample the ECG\n",
    "    resampled_ecg = signal.resample(ecg, new_length, axis=1)\n",
    "\n",
    "    return resampled_ecg"
   ]
  },
  {
   "cell_type": "code",
   "execution_count": null,
   "metadata": {},
   "outputs": [],
   "source": [
    "# Generate 50 random indices\n",
    "indices = random.sample(range(len(current_train)), 750)\n",
    "\n",
    "# Extract the samples at these indices\n",
    "texts = [current_train[i][0] for i in indices]\n",
    "ecgs = [current_train[i][1] for i in indices]\n",
    "\n",
    "# Convert the list of numpy arrays to a tensor\n",
    "ecgs_tensor = torch.stack([torch.from_numpy(ecg).float() for ecg in ecgs])"
   ]
  },
  {
   "cell_type": "code",
   "execution_count": null,
   "metadata": {},
   "outputs": [],
   "source": [
    "len(ecgs_tensor), len(ecgs), len(ecgs[0])"
   ]
  },
  {
   "cell_type": "code",
   "execution_count": null,
   "metadata": {},
   "outputs": [],
   "source": [
    "current_train[0][1]"
   ]
  },
  {
   "cell_type": "code",
   "execution_count": null,
   "metadata": {},
   "outputs": [],
   "source": [
    "# Pass the tensor and texts through the model\n",
    "loss = CLIP_model(ecgs_tensor, texts)\n",
    "\n",
    "# Print the loss\n",
    "print(loss)"
   ]
  },
  {
   "cell_type": "markdown",
   "metadata": {},
   "source": [
    "# Model Training"
   ]
  },
  {
   "cell_type": "markdown",
   "metadata": {},
   "source": [
    "## DataLoaders + Setup"
   ]
  },
  {
   "cell_type": "code",
   "execution_count": 1,
   "metadata": {},
   "outputs": [
    {
     "name": "stderr",
     "output_type": "stream",
     "text": [
      "c:\\Users\\navme\\AppData\\Local\\Programs\\Python\\Python38\\lib\\site-packages\\numpy\\_distributor_init.py:30: UserWarning: loaded more than 1 DLL from .libs:\n",
      "c:\\Users\\navme\\AppData\\Local\\Programs\\Python\\Python38\\lib\\site-packages\\numpy\\.libs\\libopenblas.FB5AE2TYXYH2IJRDKGDGQ3XBKLKTF43H.gfortran-win_amd64.dll\n",
      "c:\\Users\\navme\\AppData\\Local\\Programs\\Python\\Python38\\lib\\site-packages\\numpy\\.libs\\libopenblas64__v0.3.21-gcc_10_3_0.dll\n",
      "  warnings.warn(\"loaded more than 1 DLL from .libs:\"\n"
     ]
    }
   ],
   "source": [
    "from torch.utils.data import DataLoader\n",
    "from torch.nn.utils.rnn import pad_sequence\n",
    "from tqdm import tqdm"
   ]
  },
  {
   "cell_type": "code",
   "execution_count": null,
   "metadata": {},
   "outputs": [],
   "source": [
    "# Instantiate the encoders\n",
    "text_encoder = TextEncoder(device).to(torch.device(\"cuda\"))\n",
    "ecg_encoder = ECGEncoder().to(torch.device(\"cuda\"))\n",
    "\n",
    "# Instantiate the encoders and the model\n",
    "CLIP_model = CLIPModel(text_encoder, ecg_encoder, embed_dim=512, temperature=1)"
   ]
  },
  {
   "cell_type": "code",
   "execution_count": null,
   "metadata": {},
   "outputs": [],
   "source": [
    "# Parameters\n",
    "lr = 0.001\n",
    "weight_decay = 0.01\n",
    "optimizer = torch.optim.Adam(CLIP_model.parameters(), lr=lr, weight_decay=weight_decay)\n",
    "num_epochs = 3"
   ]
  },
  {
   "cell_type": "markdown",
   "metadata": {},
   "source": [
    "## Training CLIP model on ```current_train```"
   ]
  },
  {
   "cell_type": "code",
   "execution_count": null,
   "metadata": {},
   "outputs": [],
   "source": [
    "def collate_fn(batch):\n",
    "    texts = [item[0] for item in batch]\n",
    "    ecgs = [item[1] for item in batch]\n",
    "    # Pad the sequences\n",
    "    ecgs_padded = pad_sequence([torch.from_numpy(ecg) for ecg in ecgs], batch_first=True)\n",
    "    return texts, ecgs_padded\n",
    "\n",
    "# In your DataLoader, specify the collate_fn\n",
    "current_train_loader = DataLoader(current_train, batch_size=64, collate_fn=collate_fn)"
   ]
  },
  {
   "cell_type": "code",
   "execution_count": null,
   "metadata": {},
   "outputs": [],
   "source": [
    "def train_model(model, optimizer, num_epochs, device):\n",
    "    # Move model to the device\n",
    "    CLIP_model.to(device)\n",
    "\n",
    "    # Store the losses for each epoch\n",
    "    losses = []\n",
    "\n",
    "    for epoch in range(num_epochs):\n",
    "        CLIP_model.train()  # Set the model to training mode\n",
    "        running_loss = 0.0\n",
    "        pbar = tqdm(enumerate(current_train_loader, 0), total=len(current_train_loader), leave=False)\n",
    "        \n",
    "        # Then in your training loop\n",
    "        for i, data in pbar:\n",
    "            # Extract the samples\n",
    "            texts = data[0]  # Move texts to the device\n",
    "            ecgs = data[1].float().to(device)  # ecgs is already a tensor, just move it to the device\n",
    "\n",
    "            # Zero the parameter gradients\n",
    "            optimizer.zero_grad()\n",
    "\n",
    "            # Pass the tensor and texts through the model\n",
    "            loss = CLIP_model(ecgs, texts)  # Pass the tensor directly\n",
    "\n",
    "            # Backward + optimize\n",
    "            loss.backward()\n",
    "            optimizer.step()\n",
    "\n",
    "            # Print statistics\n",
    "            running_loss += loss.item()\n",
    "            pbar.set_description(f\"Epoch {epoch + 1} Loss: {running_loss/(i+1):.4f}\")\n",
    "        epoch_loss = running_loss / len(current_train)\n",
    "        losses.append(epoch_loss)\n",
    "        print(f'Epoch {epoch + 1}, Loss: {epoch_loss}')\n",
    "\n",
    "    return CLIP_model, losses"
   ]
  },
  {
   "cell_type": "code",
   "execution_count": null,
   "metadata": {},
   "outputs": [],
   "source": [
    "train_model(CLIP_model, optimizer, num_epochs, device)"
   ]
  },
  {
   "cell_type": "markdown",
   "metadata": {},
   "source": [
    "## Evaluating CLIP model on ```current_val```"
   ]
  },
  {
   "cell_type": "code",
   "execution_count": null,
   "metadata": {},
   "outputs": [],
   "source": []
  },
  {
   "cell_type": "code",
   "execution_count": null,
   "metadata": {},
   "outputs": [],
   "source": []
  },
  {
   "cell_type": "markdown",
   "metadata": {},
   "source": [
    "## Testing Trained CLIP model on ```test_set```"
   ]
  },
  {
   "cell_type": "code",
   "execution_count": null,
   "metadata": {},
   "outputs": [],
   "source": [
    "# Pseudo Code\n",
    "def predict_diagnosis(CLIP_model, ecg_sample, all_diagnoses):\n",
    "    # Generate the ECG embedding\n",
    "    ecg_embedding = CLIP_model.ecg_encoder(ecg_sample)\n",
    "\n",
    "    # Generate embeddings for all possible diagnoses\n",
    "    diagnosis_embeddings = [CLIP_model.text_encoder.encode(diagnosis) for diagnosis in all_diagnoses]\n",
    "\n",
    "    # Calculate the similarity between the ECG embedding and each diagnosis embedding\n",
    "    similarities = [torch.dot(ecg_embedding, diagnosis_embedding) for diagnosis_embedding in diagnosis_embeddings]\n",
    "\n",
    "    # The predicted diagnosis is the one with the highest similarity\n",
    "    predicted_diagnosis = all_diagnoses[torch.argmax(similarities)]\n",
    "\n",
    "    return predicted_diagnosis"
   ]
  }
 ],
 "metadata": {
  "kernelspec": {
   "display_name": "Python 3",
   "language": "python",
   "name": "python3"
  },
  "language_info": {
   "codemirror_mode": {
    "name": "ipython",
    "version": 3
   },
   "file_extension": ".py",
   "mimetype": "text/x-python",
   "name": "python",
   "nbconvert_exporter": "python",
   "pygments_lexer": "ipython3",
   "version": "3.8.1"
  }
 },
 "nbformat": 4,
 "nbformat_minor": 2
}
