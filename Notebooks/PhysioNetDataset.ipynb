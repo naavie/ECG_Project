{
 "cells": [
  {
   "cell_type": "markdown",
   "metadata": {},
   "source": [
    "# Main Thesis Topic: “Zero-shot classification of ECG signals using CLIP-like model”.\n",
    "\n",
    "**For example: Train on PBT-XL:**\n",
    "\n",
    "- Text Encoder: ClinicalBERT (trained on diagnoses of ECG signal to obtain corresponding embeddings)\n",
    "- Image Encoder: 1D-CNN (used to encode ECG signal to obtain signal embeddings)\n",
    "\n",
    "- Experiment A): Baseline: We can take only the name of the class. For example, take “Myocardial Infarction” as a text. We should exclude some classes from training and after training is completed, the CLIP-like model can be tested on these excluded classes.\n",
    "    - Next, we get embeddings of text from ClinicalBERT and train the ECG encoder with contrastive loss.\n",
    "\n",
    "- Experiment B): Same as Experiment A but instead of testing on the same dataset/classes, we would test on other datasets containing different classes.\n",
    "\n",
    "**Evaluation metrics:**\n",
    "- Main: AUC-ROC, average_precison_score,\n",
    "- Optional: Specificity, Sensitivity, F1-score\n",
    "\n",
    "**Outcome:**\n",
    "- It’s possible to train CLIP-like models with freezed (or unchanged/not fine tuned for downstream tasks) text encoder\n",
    "- Training ECG encoders that are viable for representing different domains (within ECG modality) and previously unseen classes.\n",
    "- Training a CLIP-like model on ECGs has little novelty."
   ]
  },
  {
   "cell_type": "markdown",
   "metadata": {},
   "source": [
    "## Experiment A: PTB & PTB-XL ONLY\n",
    "\n",
    "-  Baseline: We can take only the name of the class. For example, take “Myocardial Infarction” as a text. We should exclude some classes from training and after training is completed, the CLIP-like model can be tested on these excluded classes.\n",
    "- Next, we get embeddings of text from ClinicalBERT and train the ECG encoder with contrastive loss."
   ]
  },
  {
   "cell_type": "code",
   "execution_count": 8,
   "metadata": {},
   "outputs": [],
   "source": [
    "import os\n",
    "import sys\n",
    "import random\n",
    "import ast\n",
    "import pickle\n",
    "\n",
    "import numpy as np\n",
    "import pandas as pd\n",
    "import matplotlib.pyplot as plt\n",
    "from tqdm import tqdm\n",
    "from scipy.signal import resample\n",
    "import scipy.io as sio\n",
    "from scipy import signal\n",
    "from sklearn.metrics import roc_auc_score, average_precision_score, f1_score\n",
    "\n",
    "import torch\n",
    "from torch.utils.data import random_split\n",
    "import torch.nn as nn\n",
    "import torch.optim as optim\n",
    "import torch.nn.functional as F\n",
    "from transformers import AutoTokenizer, AutoModel\n",
    "from torch.nn.functional import cosine_similarity\n",
    "from torch.utils.data import DataLoader\n",
    "from torch.nn.utils.rnn import pad_sequence"
   ]
  },
  {
   "cell_type": "code",
   "execution_count": 3,
   "metadata": {},
   "outputs": [],
   "source": [
    "sys.path.append('C:/Users/navme/Desktop/ECG_Project/PyFiles')"
   ]
  },
  {
   "cell_type": "code",
   "execution_count": 4,
   "metadata": {},
   "outputs": [],
   "source": [
    "from helper_functions import *"
   ]
  },
  {
   "cell_type": "markdown",
   "metadata": {},
   "source": [
    "Using the ```PhysioNet_PATH```, we can create separate datasets for training, testing & validation.\n",
    "\n",
    "# Stage 1: Data Preprocessing\n",
    "\n",
    "- train_set (train & validation data)\n",
    "- test_set (test data)"
   ]
  },
  {
   "cell_type": "markdown",
   "metadata": {},
   "source": [
    "First, let's load the SNOWMED-CT mappings:"
   ]
  },
  {
   "cell_type": "code",
   "execution_count": 5,
   "metadata": {},
   "outputs": [
    {
     "data": {
      "text/html": [
       "<div>\n",
       "<style scoped>\n",
       "    .dataframe tbody tr th:only-of-type {\n",
       "        vertical-align: middle;\n",
       "    }\n",
       "\n",
       "    .dataframe tbody tr th {\n",
       "        vertical-align: top;\n",
       "    }\n",
       "\n",
       "    .dataframe thead th {\n",
       "        text-align: right;\n",
       "    }\n",
       "</style>\n",
       "<table border=\"1\" class=\"dataframe\">\n",
       "  <thead>\n",
       "    <tr style=\"text-align: right;\">\n",
       "      <th></th>\n",
       "      <th>Dx</th>\n",
       "      <th>SNOMEDCTCode</th>\n",
       "      <th>Abbreviation</th>\n",
       "      <th>CPSC</th>\n",
       "      <th>CPSC_Extra</th>\n",
       "      <th>StPetersburg</th>\n",
       "      <th>PTB</th>\n",
       "      <th>PTB_XL</th>\n",
       "      <th>Georgia</th>\n",
       "      <th>Chapman_Shaoxing</th>\n",
       "      <th>Ningbo</th>\n",
       "      <th>Total</th>\n",
       "      <th>Notes</th>\n",
       "    </tr>\n",
       "  </thead>\n",
       "  <tbody>\n",
       "    <tr>\n",
       "      <th>0</th>\n",
       "      <td>atrial fibrillation</td>\n",
       "      <td>164889003</td>\n",
       "      <td>AF</td>\n",
       "      <td>1221</td>\n",
       "      <td>153</td>\n",
       "      <td>2</td>\n",
       "      <td>15</td>\n",
       "      <td>1514</td>\n",
       "      <td>570</td>\n",
       "      <td>1780</td>\n",
       "      <td>0</td>\n",
       "      <td>5255</td>\n",
       "      <td>NaN</td>\n",
       "    </tr>\n",
       "    <tr>\n",
       "      <th>1</th>\n",
       "      <td>atrial flutter</td>\n",
       "      <td>164890007</td>\n",
       "      <td>AFL</td>\n",
       "      <td>0</td>\n",
       "      <td>54</td>\n",
       "      <td>0</td>\n",
       "      <td>1</td>\n",
       "      <td>73</td>\n",
       "      <td>186</td>\n",
       "      <td>445</td>\n",
       "      <td>7615</td>\n",
       "      <td>8374</td>\n",
       "      <td>NaN</td>\n",
       "    </tr>\n",
       "  </tbody>\n",
       "</table>\n",
       "</div>"
      ],
      "text/plain": [
       "                    Dx  SNOMEDCTCode Abbreviation  CPSC  CPSC_Extra  \\\n",
       "0  atrial fibrillation     164889003           AF  1221         153   \n",
       "1       atrial flutter     164890007          AFL     0          54   \n",
       "\n",
       "   StPetersburg  PTB  PTB_XL  Georgia  Chapman_Shaoxing  Ningbo  Total Notes  \n",
       "0             2   15    1514      570              1780       0   5255   NaN  \n",
       "1             0    1      73      186               445    7615   8374   NaN  "
      ]
     },
     "execution_count": 5,
     "metadata": {},
     "output_type": "execute_result"
    }
   ],
   "source": [
    "smowmed_mappings_path = convert_to_forward_slashes(r'C:\\Users\\navme\\Desktop\\ECG_Project\\Data\\SNOWMED-CT Codes\\combined_mappings.csv')\n",
    "\n",
    "# Load the SNOMED-CT mappings\n",
    "smowmed_mappings = pd.read_csv(smowmed_mappings_path)\n",
    "smowmed_mappings.head(2)"
   ]
  },
  {
   "cell_type": "code",
   "execution_count": 6,
   "metadata": {},
   "outputs": [],
   "source": [
    "# Select the 'Dx' and 'SNOMEDCTCode' columns\n",
    "codes = smowmed_mappings[['Dx', 'SNOMEDCTCode']]\n",
    "\n",
    "# Set 'SNOWMEDCTCode' as the index\n",
    "codes.set_index('SNOMEDCTCode', inplace=True)\n",
    "\n",
    "# Convert the DataFrame into a dictionary\n",
    "codes_dict = codes['Dx'].to_dict()"
   ]
  },
  {
   "cell_type": "code",
   "execution_count": 8,
   "metadata": {},
   "outputs": [
    {
     "data": {
      "text/plain": [
       "[(164889003, 'atrial fibrillation'),\n",
       " (164890007, 'atrial flutter'),\n",
       " (6374002, 'bundle branch block'),\n",
       " (426627000, 'bradycardia'),\n",
       " (733534002, 'complete left bundle branch block')]"
      ]
     },
     "execution_count": 8,
     "metadata": {},
     "output_type": "execute_result"
    }
   ],
   "source": [
    "list(codes_dict.items())[:5]"
   ]
  },
  {
   "cell_type": "markdown",
   "metadata": {},
   "source": [
    "# Updated PhysioNetDataset Class \n",
    "\n",
    "- Update the ```PhysioNetDataset``` class such that instead of header_info --> return header_info['Dx']. Then convert the Dx code to string input for TextEncoder(). "
   ]
  },
  {
   "cell_type": "code",
   "execution_count": 7,
   "metadata": {},
   "outputs": [],
   "source": [
    "class PhysioNetDataset(torch.utils.data.Dataset):\n",
    "    def __init__(self, dataset_path, train=False):\n",
    "        self.dataset_path = dataset_path\n",
    "        self.dataset_path = [path for path in self.dataset_path if \"index.html\" not in path]\n",
    "        self.train = train\n",
    "        self.file_list = os.listdir(dataset_path)\n",
    "        self._hea_files = []\n",
    "        self._mat_files = []\n",
    "        self._indices_files = []\n",
    "        self._hea_files_path = []\n",
    "        self._mat_files_path = []\n",
    "\n",
    "        self.file_PATHS = []  # Directory to main database folders\n",
    "        self.data_files = []  # Directory to data files\n",
    "\n",
    "        # Validation Case: PTB Databases only\n",
    "        if self.train == False:\n",
    "            validation_datasets = ['ptb', 'ptb-xl']\n",
    "            for file in os.listdir(dataset_path):\n",
    "                if file in validation_datasets:\n",
    "                    file_path = os.path.join(dataset_path, file)\n",
    "                    file_path = file_path.replace('\\\\', '/')\n",
    "                    self.file_PATHS.append(file_path)\n",
    "\n",
    "        # Training Case: All Databases excluding PTB\n",
    "        else:\n",
    "            validation_datasets = ['ptb', 'ptb-xl']\n",
    "            for file in os.listdir(dataset_path):\n",
    "                if file not in validation_datasets:\n",
    "                    file_path = os.path.join(dataset_path, file)\n",
    "                    file_path = file_path.replace('\\\\', '/')\n",
    "                    self.file_PATHS.append(file_path)\n",
    "\n",
    "        for path in self.file_PATHS:\n",
    "            if os.path.isdir(path):\n",
    "                for sub_folder in os.listdir(path):\n",
    "                    sub_folder_path = os.path.join(path, sub_folder)\n",
    "                    sub_folder_path = sub_folder_path.replace('\\\\', '/')\n",
    "\n",
    "                    # Ignore index.html files\n",
    "                    if sub_folder_path.endswith('index.html'):\n",
    "                        self._indices_files.append(sub_folder_path)\n",
    "                    else:\n",
    "                        if os.path.isdir(sub_folder_path):\n",
    "                            for file in os.listdir(sub_folder_path):\n",
    "                                # Get all .hea files\n",
    "                                if file.endswith('.hea'):\n",
    "                                    file_path = os.path.join(sub_folder_path, file)\n",
    "                                    file_path = file_path.replace('\\\\', '/')\n",
    "                                    self._hea_files.append(file_path)\n",
    "                                    self._hea_files_path.append(file_path)\n",
    "                                # Get all .mat files\n",
    "                                elif file.endswith('.mat'):\n",
    "                                    file_path = os.path.join(sub_folder_path, file)\n",
    "                                    file_path = file_path.replace('\\\\', '/')\n",
    "                                    self._mat_files.append(file_path)\n",
    "                                    self._mat_files_path.append(file_path)\n",
    "\n",
    "    def resample_ecg(self, ecg, new_length=1280):\n",
    "        # Get the current length of the ECG\n",
    "        current_length = ecg.shape[1]\n",
    "\n",
    "        # Resample the ECG\n",
    "        resampled_ecg = resample(ecg, new_length, axis=1)\n",
    "\n",
    "        return resampled_ecg\n",
    "\n",
    "    def __getitem__(self, index):\n",
    "        if isinstance(index, slice):\n",
    "            start, stop, step = index.indices(len(self))\n",
    "            return [self[i] for i in range(start, stop, step)]\n",
    "        # 1. Get .hea file\n",
    "        hea_file_path = self._hea_files[index]\n",
    "        with open(hea_file_path, 'r') as f:\n",
    "            lines = f.readlines()\n",
    "\n",
    "        dx_modalities = None\n",
    "        # Parse header information\n",
    "        for line in lines:\n",
    "            if line.startswith('# Dx:'):\n",
    "                dx_codes = line.split(':')[1].strip().split(',')\n",
    "                dx_modalities = [codes_dict.get(int(code.strip()), code.strip()) for code in dx_codes]\n",
    "\n",
    "        # 2. Get .mat file\n",
    "        twelve_lead_ecg = None\n",
    "        if index < len(self._mat_files):\n",
    "            mat_file_path = self._mat_files[index]\n",
    "            mat_data = sio.loadmat(mat_file_path)\n",
    "\n",
    "            # Extract the ECG data\n",
    "            twelve_lead_ecg = mat_data['val']\n",
    "\n",
    "            # Resample the ECG if it is not None\n",
    "            twelve_lead_ecg = self.resample_ecg(twelve_lead_ecg)\n",
    "            \n",
    "        else:\n",
    "            print(f\"MAT file for index {index} does not exist.\")\n",
    "\n",
    "        # Return list of diagnoses and the np array of the 12-lead ECG\n",
    "        return dx_modalities, twelve_lead_ecg\n",
    "\n",
    "\n",
    "    def plot_record(self, index):\n",
    "        mat_file_path = self._mat_files[index]\n",
    "        data = sio.loadmat(mat_file_path)\n",
    "        fig, axs = plt.subplots(nrows=3, ncols=4, figsize=(20, 15))\n",
    "\n",
    "        for i, ax in enumerate(axs.flat):\n",
    "            ax.plot(data['val'][i], linewidth=0.5)\n",
    "            ax.set_xlabel('Sample')\n",
    "            ax.set_ylabel('Amplitude')\n",
    "            ax.set_title(f'Lead {i+1}')\n",
    "\n",
    "        plt.tight_layout()\n",
    "        plt.show()\n",
    "\n",
    "    def __len__(self):\n",
    "        return len(self._hea_files)"
   ]
  },
  {
   "cell_type": "code",
   "execution_count": 9,
   "metadata": {},
   "outputs": [
    {
     "data": {
      "text/plain": [
       "'C:/Users/navme/Desktop/ECG_Thesis_Local/PhysioNet-2021-Challenge/physionet.org/files/challenge-2021/1.0.3/training'"
      ]
     },
     "execution_count": 9,
     "metadata": {},
     "output_type": "execute_result"
    }
   ],
   "source": [
    "# Path to training folder within PhysioNet dataset\n",
    "PhysioNet_PATH = f'C:/Users/navme/Desktop/ECG_Thesis_Local/PhysioNet-2021-Challenge/physionet.org/files/challenge-2021/1.0.3/training'\n",
    "PhysioNet_PATH"
   ]
  },
  {
   "cell_type": "markdown",
   "metadata": {},
   "source": [
    "We have to set `train = False` to load the `PTB` and `PTB-XL` datasets."
   ]
  },
  {
   "cell_type": "code",
   "execution_count": 10,
   "metadata": {},
   "outputs": [
    {
     "data": {
      "text/plain": [
       "22352"
      ]
     },
     "execution_count": 10,
     "metadata": {},
     "output_type": "execute_result"
    }
   ],
   "source": [
    "expA_dataset = PhysioNetDataset(PhysioNet_PATH, train=False)\n",
    "len(expA_dataset)  # Should be 22353 records in total"
   ]
  },
  {
   "cell_type": "code",
   "execution_count": 11,
   "metadata": {},
   "outputs": [
    {
     "data": {
      "text/plain": [
       "['myocardial infarction']"
      ]
     },
     "execution_count": 11,
     "metadata": {},
     "output_type": "execute_result"
    }
   ],
   "source": [
    "expA_dataset[0][0]"
   ]
  },
  {
   "cell_type": "code",
   "execution_count": 12,
   "metadata": {},
   "outputs": [
    {
     "data": {
      "text/plain": [
       "array([[ -45.93443974, -257.76735841, -204.38884819, ...,  207.06125242,\n",
       "         229.91846005,  241.06771077],\n",
       "       [   2.39774601, -258.27448051, -213.23767774, ...,  236.74978869,\n",
       "         163.10069387,  266.09279668],\n",
       "       [  48.77130997,   -0.55561737,   -8.93666839, ...,   30.38791226,\n",
       "         -66.5753722 ,   25.43929824],\n",
       "       ...,\n",
       "       [   6.93659186,  136.56480991,   83.44371554, ..., -109.00235325,\n",
       "         -82.10284084,  -65.32595022],\n",
       "       [  40.00654719,  231.07221173,  161.53286103, ..., -171.11330299,\n",
       "        -169.96584404, -174.2212556 ],\n",
       "       [  18.56012414,  231.41053703,  158.34203376, ..., -215.72758534,\n",
       "        -208.84775154, -226.52649213]])"
      ]
     },
     "execution_count": 12,
     "metadata": {},
     "output_type": "execute_result"
    }
   ],
   "source": [
    "expA_dataset[0][1]"
   ]
  },
  {
   "cell_type": "markdown",
   "metadata": {},
   "source": [
    "### Step 3: Define the classes to exclude"
   ]
  },
  {
   "cell_type": "code",
   "execution_count": 13,
   "metadata": {},
   "outputs": [],
   "source": [
    "classes_to_exclude = [\n",
    "    'myocardial infarction',\n",
    "    'left bundle branch block',\n",
    "    't wave abnormal',\n",
    "    'sinus bradycardia',\n",
    "    'inferior ischaemia'\n",
    "]"
   ]
  },
  {
   "cell_type": "code",
   "execution_count": 14,
   "metadata": {},
   "outputs": [],
   "source": [
    "# Create functions to exclude/include records containing certain classes\n",
    "def exclude_classes(record, classes_to_exclude):\n",
    "    return not any([cls in record[0] for cls in classes_to_exclude])\n",
    "\n",
    "def include_classes(record, classes_to_exclude):\n",
    "    return any([cls in record[0] for cls in classes_to_exclude])"
   ]
  },
  {
   "cell_type": "code",
   "execution_count": 15,
   "metadata": {},
   "outputs": [
    {
     "name": "stdout",
     "output_type": "stream",
     "text": [
      "MAT file for index 22349 does not exist.\n",
      "MAT file for index 22350 does not exist.\n",
      "MAT file for index 22351 does not exist.\n"
     ]
    }
   ],
   "source": [
    "# Apply the function to the dataset\n",
    "filtered_dataset = [record for record in expA_dataset if exclude_classes(record, classes_to_exclude)]"
   ]
  },
  {
   "cell_type": "code",
   "execution_count": 16,
   "metadata": {},
   "outputs": [
    {
     "data": {
      "text/plain": [
       "['abnormal QRS',\n",
       " 'left axis deviation',\n",
       " 'sinus rhythm',\n",
       " 'supraventricular premature beats']"
      ]
     },
     "execution_count": 16,
     "metadata": {},
     "output_type": "execute_result"
    }
   ],
   "source": [
    "filtered_dataset[1000][0]"
   ]
  },
  {
   "cell_type": "markdown",
   "metadata": {},
   "source": [
    "The ```train_set``` can be split into ```current_train``` (85%) and ```current_val``` (15%)."
   ]
  },
  {
   "cell_type": "code",
   "execution_count": 19,
   "metadata": {},
   "outputs": [],
   "source": [
    "# Set the seed for the random number generator\n",
    "torch.manual_seed(0)\n",
    "\n",
    "# Get the length of the train_set\n",
    "length = len(filtered_dataset)\n",
    "\n",
    "# Calculate the lengths of the splits\n",
    "train_length = int(0.85 * length)\n",
    "val_length = length - train_length\n",
    "\n",
    "# Split the dataset\n",
    "current_train, current_val = random_split(filtered_dataset, [train_length, val_length])"
   ]
  },
  {
   "cell_type": "code",
   "execution_count": 20,
   "metadata": {},
   "outputs": [
    {
     "data": {
      "text/plain": [
       "(11534, 2036)"
      ]
     },
     "execution_count": 20,
     "metadata": {},
     "output_type": "execute_result"
    }
   ],
   "source": [
    "len(current_train), len(current_val)"
   ]
  },
  {
   "cell_type": "code",
   "execution_count": 21,
   "metadata": {},
   "outputs": [],
   "source": [
    "assert len(current_train) + len(current_val) == len(filtered_dataset)"
   ]
  },
  {
   "cell_type": "code",
   "execution_count": 22,
   "metadata": {},
   "outputs": [
    {
     "data": {
      "text/plain": [
       "['sinus rhythm']"
      ]
     },
     "execution_count": 22,
     "metadata": {},
     "output_type": "execute_result"
    }
   ],
   "source": [
    "# Diagnoses\n",
    "current_train[0][0]"
   ]
  },
  {
   "cell_type": "code",
   "execution_count": 23,
   "metadata": {},
   "outputs": [
    {
     "data": {
      "text/plain": [
       "array([[ -12.75095365,    8.26146432,   25.21036212, ...,  -46.78649712,\n",
       "         -42.33615862,  -49.77185234],\n",
       "       [ -36.08955916,  -91.16647942,  -56.88710675, ...,   37.87149406,\n",
       "          30.50770108,   43.76508402],\n",
       "       [ -23.33349795,  -99.43040908,  -82.11161079, ...,   84.65291698,\n",
       "          72.849304  ,   93.53135053],\n",
       "       ...,\n",
       "       [ -78.20672582, -123.04287893, -110.69050357, ...,  -11.37945503,\n",
       "         -20.05333544,   -6.15773454],\n",
       "       [ -70.24501569,  -98.42570387, -102.21803626, ...,  -22.16972905,\n",
       "         -28.9483897 ,  -18.20635664],\n",
       "       [ -60.17367165,  -78.23841155,  -73.83297861, ...,  -33.70700198,\n",
       "         -36.87081883,  -31.60160604]])"
      ]
     },
     "execution_count": 23,
     "metadata": {},
     "output_type": "execute_result"
    }
   ],
   "source": [
    "# 12-lead ECG (np array)\n",
    "current_train[0][1]"
   ]
  },
  {
   "cell_type": "code",
   "execution_count": 24,
   "metadata": {},
   "outputs": [
    {
     "name": "stdout",
     "output_type": "stream",
     "text": [
      "MAT file for index 22349 does not exist.\n",
      "MAT file for index 22350 does not exist.\n",
      "MAT file for index 22351 does not exist.\n"
     ]
    },
    {
     "data": {
      "text/plain": [
       "8782"
      ]
     },
     "execution_count": 24,
     "metadata": {},
     "output_type": "execute_result"
    }
   ],
   "source": [
    "test_dataset = [record for record in expA_dataset if include_classes(record, classes_to_exclude)]\n",
    "len(test_dataset)"
   ]
  },
  {
   "cell_type": "code",
   "execution_count": 25,
   "metadata": {},
   "outputs": [],
   "source": [
    "assert len(test_dataset) == len(expA_dataset) - len(filtered_dataset)"
   ]
  },
  {
   "cell_type": "markdown",
   "metadata": {},
   "source": [
    "# Stage 2: ECG Classification Model Pipeline\n",
    "\n",
    "Now that our data is preprocessed, we can begin working on the Model Pipeline itself. The ECG Classification Model Pipeline will consist of three components:\n",
    "\n",
    "1. `TextEncoder()` class\n",
    "\n",
    "2. `ECGEncoder()` class\n",
    "\n",
    "3. `InstanceSelector()` class\n",
    "\n",
    "4. `CLIPModel()` class\n",
    "\n",
    "An overview and outline of each of these components can be found below in their respective subsections."
   ]
  },
  {
   "cell_type": "code",
   "execution_count": 29,
   "metadata": {},
   "outputs": [],
   "source": [
    "# Check if CUDA is available\n",
    "device = torch.device(\"cuda\" if torch.cuda.is_available() else \"cpu\")"
   ]
  },
  {
   "cell_type": "markdown",
   "metadata": {},
   "source": [
    "## TextEncoder()\n",
    "\n",
    "Create a class, ```TextEncoder()``` that is used to convert the description of the (dx_modality) diagnosis class into embeddings using the ClinicalBERT model.\n",
    "\n",
    "- Input should be a concatenated using comma or blank space string of diagnoses/dx_modality per ECG signal."
   ]
  },
  {
   "cell_type": "code",
   "execution_count": 27,
   "metadata": {},
   "outputs": [],
   "source": [
    "class TextEncoder(nn.Module):\n",
    "    def __init__(self, device):\n",
    "        super().__init__()\n",
    "        self.device = device\n",
    "        self.tokenizer = AutoTokenizer.from_pretrained(\"emilyalsentzer/Bio_ClinicalBERT\")\n",
    "        self.model = AutoModel.from_pretrained(\"emilyalsentzer/Bio_ClinicalBERT\").to(self.device)\n",
    "\n",
    "    def encode(self, text_list):\n",
    "        # Check if text_list is a string representation of a list\n",
    "        if isinstance(text_list, str):\n",
    "            text_list = ast.literal_eval(text_list)\n",
    "        # Convert list of strings to a single string\n",
    "        text = ', '.join(text_list)\n",
    "        # Tokenize text\n",
    "        inputs = self.tokenizer(text, return_tensors=\"pt\", truncation=True, padding=True, max_length=512)\n",
    "        # Move inputs to the correct device\n",
    "        inputs = {name: tensor.to(self.device) for name, tensor in inputs.items()}\n",
    "        # Get embeddings from ClinicalBERT model\n",
    "        with torch.no_grad():\n",
    "            embeddings = self.model(**inputs).last_hidden_state\n",
    "        # Average the embeddings to get single vector per each input\n",
    "        embeddings = torch.mean(embeddings, dim=1)\n",
    "        return embeddings.to(self.device)"
   ]
  },
  {
   "cell_type": "code",
   "execution_count": 30,
   "metadata": {},
   "outputs": [],
   "source": [
    "text_encoder = TextEncoder(device).to(device)\n",
    "# Example\n",
    "embeddings = text_encoder.encode(current_train[0][0])"
   ]
  },
  {
   "cell_type": "code",
   "execution_count": 31,
   "metadata": {},
   "outputs": [
    {
     "name": "stdout",
     "output_type": "stream",
     "text": [
      "torch.Size([1, 768])\n",
      "<class 'torch.Tensor'>\n"
     ]
    }
   ],
   "source": [
    "print(embeddings.size())\n",
    "print(type(embeddings))"
   ]
  },
  {
   "cell_type": "markdown",
   "metadata": {},
   "source": [
    "## ECGEncoder()\n",
    "\n",
    "- Input is ECG signal, output will be embeddings of ECG signal\n",
    "- This is going to be model in model.py\n",
    "- Model weights are updated iteratively\n",
    "- optimizer = torch.optim.Adam(clip_model.ECGEncoder.parameters())\n",
    "\n",
    "**Current Tasks:**\n",
    "\n",
    "- Change number of layers of fully connected layer 2 to 768 out_channels\n",
    "- Alternatively look into getting rid of the second fully connected layer. \n",
    "- Shifting from 128 --> 768 can cause loss of information. \n",
    "- Update all layers after layer 7 as follows:  \n",
    "    - ```self.conv7 = nn.Conv1d(in_channels=512, out_channels=512, kernel_size=3, stride=1, padding=1)```\n",
    "    - ```self.bn7 = nn.BatchNorm1d(512)```\n"
   ]
  },
  {
   "cell_type": "markdown",
   "metadata": {},
   "source": [
    "No. CNN layers: 4\n",
    "No. CNN kernels: [32, 128, 64, 64] (each layer, accordingly)\n",
    "CNN kernel size: [7, 5, 7, 5] (each layer, accordingly)\n",
    "No. dense layers: 2\n",
    "No. dense layer units: [156, 140] (each layer, accordingly)\n",
    "Batch size: 128\n",
    "Learning rate: 0.0092\n",
    "Activation function: [Gelu, Selu, Selu, Selu] (each layer, accordingly)\n",
    "Optimizer: Adam\n",
    "\t"
   ]
  },
  {
   "cell_type": "markdown",
   "metadata": {},
   "source": [
    "I see, you want to extrapolate the parameters for a 4-layer CNN to a 10-layer CNN. Here's how you can do it:\n",
    "\n",
    "First, let's extrapolate the parameters for the CNN layers:\n",
    "\n",
    "- No. CNN layers: 10\n",
    "- No. CNN kernels: [32, 128, 64, 64, 32, 128, 64, 64, 32, 128] (each layer, accordingly)\n",
    "- CNN kernel size: [7, 5, 7, 5, 7, 5, 7, 5, 7, 5] (each layer, accordingly)\n",
    "- Activation function: [Gelu, Selu, Selu, Selu, Gelu, Selu, Selu, Selu, Gelu, Selu] (each layer, accordingly)\n",
    "\n",
    "For the dense layers, you can keep them as they are:\n",
    "\n",
    "- No. dense layers: 2\n",
    "- No. dense layer units: [156, 140] (each layer, accordingly)\n",
    "\n",
    "The batch size, learning rate, and optimizer can also remain the same:\n",
    "\n",
    "- Batch size: 128\n",
    "- Learning rate: 0.0092\n",
    "- Optimizer: Adam"
   ]
  },
  {
   "cell_type": "code",
   "execution_count": 19,
   "metadata": {},
   "outputs": [],
   "source": [
    "class ECGEncoder(nn.Module):\n",
    "    def __init__(self):\n",
    "        super(ECGEncoder, self).__init__()\n",
    "\n",
    "        # Layer 1\n",
    "        self.conv1 = nn.Conv1d(in_channels=12, out_channels=16, kernel_size=3, stride=1, padding=1)\n",
    "        self.bn1 = nn.BatchNorm1d(16)\n",
    "        self.relu1 = nn.ReLU()\n",
    "        self.pool1 = nn.AvgPool1d(kernel_size=2, stride=2)\n",
    "\n",
    "        # Layer 2\n",
    "        self.conv2 = nn.Conv1d(in_channels=16, out_channels=32, kernel_size=3, stride=1, padding=1)\n",
    "        self.bn2 = nn.BatchNorm1d(32)\n",
    "        self.relu2 = nn.ReLU()\n",
    "        self.pool2 = nn.AvgPool1d(kernel_size=2, stride=2)\n",
    "\n",
    "        # Layer 3\n",
    "        self.conv3 = nn.Conv1d(in_channels=32, out_channels=64, kernel_size=3, stride=1, padding=1)\n",
    "        self.bn3 = nn.BatchNorm1d(64)\n",
    "        self.relu3 = nn.ReLU()\n",
    "        self.pool3 = nn.AvgPool1d(kernel_size=2, stride=2)\n",
    "\n",
    "        # Layer 4\n",
    "        self.conv4 = nn.Conv1d(in_channels=64, out_channels=128, kernel_size=3, stride=1, padding=1)\n",
    "        self.bn4 = nn.BatchNorm1d(128)\n",
    "        self.relu4 = nn.ReLU()\n",
    "        self.pool4 = nn.AvgPool1d(kernel_size=2, stride=2)\n",
    "\n",
    "        # Layer 5\n",
    "        self.conv5 = nn.Conv1d(in_channels=128, out_channels=256, kernel_size=3, stride=1, padding=1)\n",
    "        self.bn5 = nn.BatchNorm1d(256)\n",
    "        self.relu5 = nn.ReLU()\n",
    "        self.pool5 = nn.AvgPool1d(kernel_size=2, stride=2)\n",
    "\n",
    "        # Layer 6\n",
    "        self.conv6 = nn.Conv1d(in_channels=256, out_channels=512, kernel_size=3, stride=1, padding=1)\n",
    "        self.bn6 = nn.BatchNorm1d(512)\n",
    "        self.relu6 = nn.ReLU()\n",
    "        self.pool6 = nn.AvgPool1d(kernel_size=2, stride=2)\n",
    "\n",
    "        # Layer 7\n",
    "        self.conv7 = nn.Conv1d(in_channels=512, out_channels=512, kernel_size=3, stride=1, padding=1)\n",
    "        self.bn7 = nn.BatchNorm1d(512)\n",
    "        self.relu7 = nn.ReLU()\n",
    "        self.pool7 = nn.AvgPool1d(kernel_size=2, stride=2)\n",
    "\n",
    "        # Layer 8\n",
    "        self.conv8 = nn.Conv1d(in_channels=512, out_channels=512, kernel_size=3, stride=1, padding=1)\n",
    "        self.bn8 = nn.BatchNorm1d(512)\n",
    "        self.relu8 = nn.ReLU()\n",
    "        self.pool8 = nn.AvgPool1d(kernel_size=2, stride=2)\n",
    "\n",
    "        # Layer 9\n",
    "        self.conv9 = nn.Conv1d(in_channels=512, out_channels=512, kernel_size=3, stride=1, padding=1)\n",
    "        self.bn9 = nn.BatchNorm1d(512)\n",
    "        self.relu9 = nn.ReLU()\n",
    "        self.pool9 = nn.AvgPool1d(kernel_size=2, stride=2)\n",
    "\n",
    "        # Layer 10\n",
    "        self.conv10 = nn.Conv1d(in_channels=512, out_channels=512, kernel_size=3, stride=1, padding=1)\n",
    "        self.bn10 = nn.BatchNorm1d(512)\n",
    "        self.relu10 = nn.ReLU()\n",
    "        self.pool10 = nn.AvgPool1d(kernel_size=2, stride=2)\n",
    "\n",
    "        # Fully Connected Layer 1\n",
    "        # self.fc1 = nn.Linear(512*4, 768)\n",
    "        self.relu11 = nn.ReLU()\n",
    "\n",
    "    def forward(self, x):\n",
    "        # Layer 1\n",
    "        x = self.conv1(x)\n",
    "        x = self.bn1(x)\n",
    "        x = self.relu1(x)\n",
    "        x = self.pool1(x)\n",
    "\n",
    "        # Layer 2\n",
    "        x = self.conv2(x)\n",
    "        x = self.bn2(x)\n",
    "        x = self.relu2(x)\n",
    "        x = self.pool2(x)\n",
    "\n",
    "        # Layer 3\n",
    "        x = self.conv3(x)\n",
    "        x = self.bn3(x)\n",
    "        x = self.relu3(x)\n",
    "        x = self.pool3(x)\n",
    "\n",
    "        # Layer 4\n",
    "        x = self.conv4(x)\n",
    "        x = self.bn4(x)\n",
    "        x = self.relu4(x)\n",
    "        x = self.pool4(x)\n",
    "\n",
    "        # Layer 5\n",
    "        x = self.conv5(x)\n",
    "        x = self.bn5(x)\n",
    "        x = self.relu5(x)\n",
    "        x = self.pool5(x)\n",
    "\n",
    "        # Layer 6\n",
    "        x = self.conv6(x)\n",
    "        x = self.bn6(x)\n",
    "        x = self.relu6(x)\n",
    "        x = self.pool6(x)\n",
    "\n",
    "        # Layer 7\n",
    "        x = self.conv7(x)\n",
    "        x = self.bn7(x)\n",
    "        x = self.relu7(x)\n",
    "        x = self.pool7(x)\n",
    "\n",
    "        # Layer 8\n",
    "        x = self.conv8(x)\n",
    "        x = self.bn8(x)\n",
    "        x = self.relu8(x)\n",
    "        x = self.pool8(x)\n",
    "\n",
    "        # Layer 9\n",
    "        x = self.conv9(x)\n",
    "        x = self.bn9(x)\n",
    "        x = self.relu9(x)\n",
    "        x = self.pool9(x)\n",
    "\n",
    "        # Layer 10\n",
    "        x = self.conv10(x)\n",
    "        x = self.bn10(x)\n",
    "        x = self.relu10(x)\n",
    "        x = self.pool10(x)\n",
    "\n",
    "        # Flatten the output of the convolutional layers\n",
    "        print(x.size())\n",
    "        x = x.view(x.size(0), -1)\n",
    "\n",
    "        # Initialize self.fc1 here, using the size of x\n",
    "        if not hasattr(self, 'fc1'):\n",
    "            self.fc1 = nn.Linear(x.size(1), self.embed_dim).to(x.device)\n",
    "        x = self.fc1(x)\n",
    "        x = self.relu11(x) \n",
    "\n",
    "        return x "
   ]
  },
  {
   "cell_type": "code",
   "execution_count": 40,
   "metadata": {},
   "outputs": [
    {
     "name": "stdout",
     "output_type": "stream",
     "text": [
      "Requirement already satisfied: torch in c:\\users\\navme\\appdata\\local\\programs\\python\\python38\\lib\\site-packages (2.0.1)\n",
      "Collecting torch\n",
      "  Obtaining dependency information for torch from https://files.pythonhosted.org/packages/98/b7/699b44593fa0d7373191226cb0c2ac3182b5aa0fb1fbb26a87589f655585/torch-2.1.1-cp38-cp38-win_amd64.whl.metadata\n",
      "  Downloading torch-2.1.1-cp38-cp38-win_amd64.whl.metadata (26 kB)\n",
      "Requirement already satisfied: filelock in c:\\users\\navme\\appdata\\local\\programs\\python\\python38\\lib\\site-packages (from torch) (3.12.2)\n",
      "Requirement already satisfied: typing-extensions in c:\\users\\navme\\appdata\\local\\programs\\python\\python38\\lib\\site-packages (from torch) (4.7.1)\n",
      "Requirement already satisfied: sympy in c:\\users\\navme\\appdata\\local\\programs\\python\\python38\\lib\\site-packages (from torch) (1.12)\n",
      "Requirement already satisfied: networkx in c:\\users\\navme\\appdata\\local\\programs\\python\\python38\\lib\\site-packages (from torch) (3.1)\n",
      "Requirement already satisfied: jinja2 in c:\\users\\navme\\appdata\\local\\programs\\python\\python38\\lib\\site-packages (from torch) (3.1.2)\n",
      "Requirement already satisfied: fsspec in c:\\users\\navme\\appdata\\local\\programs\\python\\python38\\lib\\site-packages (from torch) (2023.6.0)\n",
      "Requirement already satisfied: MarkupSafe>=2.0 in c:\\users\\navme\\appdata\\local\\programs\\python\\python38\\lib\\site-packages (from jinja2->torch) (2.1.3)\n",
      "Requirement already satisfied: mpmath>=0.19 in c:\\users\\navme\\appdata\\local\\programs\\python\\python38\\lib\\site-packages (from sympy->torch) (1.3.0)\n",
      "Downloading torch-2.1.1-cp38-cp38-win_amd64.whl (192.3 MB)\n",
      "   ---------------------------------------- 0.0/192.3 MB ? eta -:--:--\n",
      "   ---------------------------------------- 0.2/192.3 MB 6.7 MB/s eta 0:00:29\n",
      "   ---------------------------------------- 0.6/192.3 MB 5.9 MB/s eta 0:00:33\n",
      "   ---------------------------------------- 1.5/192.3 MB 12.0 MB/s eta 0:00:16\n",
      "    --------------------------------------- 3.2/192.3 MB 18.6 MB/s eta 0:00:11\n",
      "   - -------------------------------------- 4.9/192.3 MB 20.9 MB/s eta 0:00:09\n",
      "   - -------------------------------------- 6.5/192.3 MB 23.1 MB/s eta 0:00:09\n",
      "   - -------------------------------------- 8.2/192.3 MB 24.9 MB/s eta 0:00:08\n",
      "   -- ------------------------------------- 9.8/192.3 MB 26.2 MB/s eta 0:00:07\n",
      "   -- ------------------------------------- 11.6/192.3 MB 34.4 MB/s eta 0:00:06\n",
      "   -- ------------------------------------- 13.3/192.3 MB 34.4 MB/s eta 0:00:06\n",
      "   --- ------------------------------------ 15.0/192.3 MB 34.4 MB/s eta 0:00:06\n",
      "   --- ------------------------------------ 16.7/192.3 MB 38.6 MB/s eta 0:00:05\n",
      "   --- ------------------------------------ 18.1/192.3 MB 36.4 MB/s eta 0:00:05\n",
      "   ---- ----------------------------------- 19.8/192.3 MB 36.4 MB/s eta 0:00:05\n",
      "   ---- ----------------------------------- 21.5/192.3 MB 36.4 MB/s eta 0:00:05\n",
      "   ---- ----------------------------------- 23.3/192.3 MB 34.6 MB/s eta 0:00:05\n",
      "   ----- ---------------------------------- 24.8/192.3 MB 36.3 MB/s eta 0:00:05\n",
      "   ----- ---------------------------------- 26.4/192.3 MB 34.4 MB/s eta 0:00:05\n",
      "   ----- ---------------------------------- 28.7/192.3 MB 36.4 MB/s eta 0:00:05\n",
      "   ------ --------------------------------- 30.4/192.3 MB 36.4 MB/s eta 0:00:05\n",
      "   ------ --------------------------------- 32.8/192.3 MB 36.4 MB/s eta 0:00:05\n",
      "   ------- -------------------------------- 35.2/192.3 MB 38.5 MB/s eta 0:00:05\n",
      "   ------- -------------------------------- 37.2/192.3 MB 38.6 MB/s eta 0:00:05\n",
      "   -------- ------------------------------- 38.9/192.3 MB 36.4 MB/s eta 0:00:05\n",
      "   -------- ------------------------------- 40.6/192.3 MB 38.6 MB/s eta 0:00:04\n",
      "   -------- ------------------------------- 42.5/192.3 MB 36.4 MB/s eta 0:00:05\n",
      "   --------- ------------------------------ 43.8/192.3 MB 36.4 MB/s eta 0:00:05\n",
      "   --------- ------------------------------ 45.4/192.3 MB 34.4 MB/s eta 0:00:05\n",
      "   --------- ------------------------------ 47.0/192.3 MB 36.3 MB/s eta 0:00:05\n",
      "   ---------- ----------------------------- 48.5/192.3 MB 34.4 MB/s eta 0:00:05\n",
      "   ---------- ----------------------------- 50.0/192.3 MB 34.6 MB/s eta 0:00:05\n",
      "   ---------- ----------------------------- 51.5/192.3 MB 32.8 MB/s eta 0:00:05\n",
      "   ----------- ---------------------------- 53.6/192.3 MB 32.7 MB/s eta 0:00:05\n",
      "   ----------- ---------------------------- 54.8/192.3 MB 31.2 MB/s eta 0:00:05\n",
      "   ----------- ---------------------------- 56.8/192.3 MB 32.7 MB/s eta 0:00:05\n",
      "   ------------ --------------------------- 58.7/192.3 MB 34.6 MB/s eta 0:00:04\n",
      "   ------------ --------------------------- 60.3/192.3 MB 36.4 MB/s eta 0:00:04\n",
      "   ------------ --------------------------- 61.7/192.3 MB 34.4 MB/s eta 0:00:04\n",
      "   ------------- -------------------------- 63.6/192.3 MB 36.4 MB/s eta 0:00:04\n",
      "   ------------- -------------------------- 65.5/192.3 MB 38.5 MB/s eta 0:00:04\n",
      "   -------------- ------------------------- 67.3/192.3 MB 38.5 MB/s eta 0:00:04\n",
      "   -------------- ------------------------- 68.9/192.3 MB 36.3 MB/s eta 0:00:04\n",
      "   -------------- ------------------------- 70.6/192.3 MB 36.3 MB/s eta 0:00:04\n",
      "   --------------- ------------------------ 72.5/192.3 MB 38.6 MB/s eta 0:00:04\n",
      "   --------------- ------------------------ 73.6/192.3 MB 36.4 MB/s eta 0:00:04\n",
      "   --------------- ------------------------ 75.3/192.3 MB 36.4 MB/s eta 0:00:04\n",
      "   ---------------- ----------------------- 77.0/192.3 MB 34.4 MB/s eta 0:00:04\n",
      "   ---------------- ----------------------- 78.6/192.3 MB 34.4 MB/s eta 0:00:04\n",
      "   ---------------- ----------------------- 79.4/192.3 MB 32.7 MB/s eta 0:00:04\n",
      "   ---------------- ----------------------- 81.0/192.3 MB 31.2 MB/s eta 0:00:04\n",
      "   ----------------- ---------------------- 82.7/192.3 MB 31.1 MB/s eta 0:00:04\n",
      "   ----------------- ---------------------- 84.2/192.3 MB 32.8 MB/s eta 0:00:04\n",
      "   ----------------- ---------------------- 85.2/192.3 MB 29.8 MB/s eta 0:00:04\n",
      "   ------------------ --------------------- 86.5/192.3 MB 29.7 MB/s eta 0:00:04\n",
      "   ------------------ --------------------- 88.0/192.3 MB 29.8 MB/s eta 0:00:04\n",
      "   ------------------ --------------------- 89.3/192.3 MB 29.7 MB/s eta 0:00:04\n",
      "   ------------------ --------------------- 90.6/192.3 MB 29.7 MB/s eta 0:00:04\n",
      "   ------------------- -------------------- 91.8/192.3 MB 28.4 MB/s eta 0:00:04\n",
      "   ------------------- -------------------- 93.3/192.3 MB 28.4 MB/s eta 0:00:04\n",
      "   ------------------- -------------------- 94.6/192.3 MB 27.3 MB/s eta 0:00:04\n",
      "   ------------------- -------------------- 96.1/192.3 MB 28.5 MB/s eta 0:00:04\n",
      "   -------------------- ------------------- 97.5/192.3 MB 28.5 MB/s eta 0:00:04\n",
      "   -------------------- ------------------- 98.9/192.3 MB 28.5 MB/s eta 0:00:04\n",
      "   -------------------- ------------------ 100.2/192.3 MB 28.5 MB/s eta 0:00:04\n",
      "   -------------------- ------------------ 101.7/192.3 MB 31.2 MB/s eta 0:00:03\n",
      "   -------------------- ------------------ 103.2/192.3 MB 29.7 MB/s eta 0:00:03\n",
      "   --------------------- ----------------- 104.4/192.3 MB 31.2 MB/s eta 0:00:03\n",
      "   --------------------- ----------------- 105.6/192.3 MB 28.5 MB/s eta 0:00:04\n",
      "   --------------------- ----------------- 107.1/192.3 MB 29.7 MB/s eta 0:00:03\n",
      "   ---------------------- ---------------- 108.6/192.3 MB 31.1 MB/s eta 0:00:03\n",
      "   ---------------------- ---------------- 110.2/192.3 MB 29.7 MB/s eta 0:00:03\n",
      "   ---------------------- ---------------- 111.4/192.3 MB 29.8 MB/s eta 0:00:03\n",
      "   ---------------------- ---------------- 112.8/192.3 MB 29.7 MB/s eta 0:00:03\n",
      "   ----------------------- --------------- 114.6/192.3 MB 32.8 MB/s eta 0:00:03\n",
      "   ----------------------- --------------- 116.8/192.3 MB 34.4 MB/s eta 0:00:03\n",
      "   ------------------------ -------------- 119.2/192.3 MB 34.4 MB/s eta 0:00:03\n",
      "   ------------------------ -------------- 121.5/192.3 MB 36.3 MB/s eta 0:00:02\n",
      "   ------------------------- ------------- 123.4/192.3 MB 36.4 MB/s eta 0:00:02\n",
      "   ------------------------- ------------- 125.6/192.3 MB 36.3 MB/s eta 0:00:02\n",
      "   ------------------------- ------------- 127.1/192.3 MB 36.4 MB/s eta 0:00:02\n",
      "   -------------------------- ------------ 128.3/192.3 MB 32.8 MB/s eta 0:00:02\n",
      "   -------------------------- ------------ 130.1/192.3 MB 31.2 MB/s eta 0:00:02\n",
      "   -------------------------- ------------ 131.4/192.3 MB 31.2 MB/s eta 0:00:02\n",
      "   -------------------------- ------------ 133.0/192.3 MB 29.7 MB/s eta 0:00:02\n",
      "   --------------------------- ----------- 134.2/192.3 MB 28.5 MB/s eta 0:00:03\n",
      "   --------------------------- ----------- 135.8/192.3 MB 27.3 MB/s eta 0:00:03\n",
      "   --------------------------- ----------- 137.0/192.3 MB 27.3 MB/s eta 0:00:03\n",
      "   ---------------------------- ---------- 138.4/192.3 MB 27.3 MB/s eta 0:00:02\n",
      "   ---------------------------- ---------- 139.7/192.3 MB 28.5 MB/s eta 0:00:02\n",
      "   ---------------------------- ---------- 140.8/192.3 MB 28.5 MB/s eta 0:00:02\n",
      "   ---------------------------- ---------- 141.9/192.3 MB 27.3 MB/s eta 0:00:02\n",
      "   ----------------------------- --------- 143.4/192.3 MB 27.3 MB/s eta 0:00:02\n",
      "   ----------------------------- --------- 145.2/192.3 MB 27.3 MB/s eta 0:00:02\n",
      "   ----------------------------- --------- 147.4/192.3 MB 28.4 MB/s eta 0:00:02\n",
      "   ------------------------------ -------- 149.2/192.3 MB 28.5 MB/s eta 0:00:02\n",
      "   ------------------------------ -------- 151.0/192.3 MB 29.7 MB/s eta 0:00:02\n",
      "   ------------------------------ -------- 152.6/192.3 MB 32.8 MB/s eta 0:00:02\n",
      "   ------------------------------- ------- 153.7/192.3 MB 32.7 MB/s eta 0:00:02\n",
      "   ------------------------------- ------- 155.4/192.3 MB 32.7 MB/s eta 0:00:02\n",
      "   ------------------------------- ------- 157.1/192.3 MB 32.7 MB/s eta 0:00:02\n",
      "   -------------------------------- ------ 158.6/192.3 MB 34.4 MB/s eta 0:00:01\n",
      "   -------------------------------- ------ 160.2/192.3 MB 34.6 MB/s eta 0:00:01\n",
      "   -------------------------------- ------ 162.1/192.3 MB 34.4 MB/s eta 0:00:01\n",
      "   --------------------------------- ----- 163.9/192.3 MB 36.4 MB/s eta 0:00:01\n",
      "   --------------------------------- ----- 165.7/192.3 MB 36.4 MB/s eta 0:00:01\n",
      "   --------------------------------- ----- 167.4/192.3 MB 36.4 MB/s eta 0:00:01\n",
      "   ---------------------------------- ---- 169.3/192.3 MB 38.5 MB/s eta 0:00:01\n",
      "   ---------------------------------- ---- 170.9/192.3 MB 38.5 MB/s eta 0:00:01\n",
      "   ----------------------------------- --- 172.7/192.3 MB 38.5 MB/s eta 0:00:01\n",
      "   ----------------------------------- --- 174.3/192.3 MB 36.4 MB/s eta 0:00:01\n",
      "   ----------------------------------- --- 176.0/192.3 MB 36.4 MB/s eta 0:00:01\n",
      "   ------------------------------------ -- 177.7/192.3 MB 36.4 MB/s eta 0:00:01\n",
      "   ------------------------------------ -- 179.0/192.3 MB 36.4 MB/s eta 0:00:01\n",
      "   ------------------------------------ -- 180.6/192.3 MB 34.4 MB/s eta 0:00:01\n",
      "   ------------------------------------ -- 182.4/192.3 MB 34.4 MB/s eta 0:00:01\n",
      "   ------------------------------------- - 184.2/192.3 MB 34.4 MB/s eta 0:00:01\n",
      "   ------------------------------------- - 186.0/192.3 MB 36.3 MB/s eta 0:00:01\n",
      "   --------------------------------------  187.8/192.3 MB 36.4 MB/s eta 0:00:01\n",
      "   --------------------------------------  189.7/192.3 MB 38.6 MB/s eta 0:00:01\n",
      "   --------------------------------------  191.0/192.3 MB 36.4 MB/s eta 0:00:01\n",
      "   --------------------------------------  192.3/192.3 MB 36.4 MB/s eta 0:00:01\n",
      "   --------------------------------------  192.3/192.3 MB 36.4 MB/s eta 0:00:01\n",
      "   --------------------------------------  192.3/192.3 MB 36.4 MB/s eta 0:00:01\n",
      "   --------------------------------------  192.3/192.3 MB 36.4 MB/s eta 0:00:01\n",
      "   --------------------------------------  192.3/192.3 MB 36.4 MB/s eta 0:00:01\n",
      "   --------------------------------------  192.3/192.3 MB 36.4 MB/s eta 0:00:01\n",
      "   --------------------------------------  192.3/192.3 MB 36.4 MB/s eta 0:00:01\n",
      "   --------------------------------------  192.3/192.3 MB 36.4 MB/s eta 0:00:01\n",
      "   --------------------------------------  192.3/192.3 MB 36.4 MB/s eta 0:00:01\n",
      "   --------------------------------------  192.3/192.3 MB 36.4 MB/s eta 0:00:01\n",
      "   --------------------------------------  192.3/192.3 MB 36.4 MB/s eta 0:00:01\n",
      "   --------------------------------------  192.3/192.3 MB 36.4 MB/s eta 0:00:01\n",
      "   --------------------------------------  192.3/192.3 MB 36.4 MB/s eta 0:00:01\n",
      "   --------------------------------------  192.3/192.3 MB 36.4 MB/s eta 0:00:01\n",
      "   --------------------------------------  192.3/192.3 MB 36.4 MB/s eta 0:00:01\n",
      "   --------------------------------------  192.3/192.3 MB 36.4 MB/s eta 0:00:01\n",
      "   --------------------------------------  192.3/192.3 MB 36.4 MB/s eta 0:00:01\n",
      "   --------------------------------------  192.3/192.3 MB 36.4 MB/s eta 0:00:01\n",
      "   --------------------------------------  192.3/192.3 MB 36.4 MB/s eta 0:00:01\n",
      "   --------------------------------------  192.3/192.3 MB 36.4 MB/s eta 0:00:01\n",
      "   --------------------------------------  192.3/192.3 MB 36.4 MB/s eta 0:00:01\n",
      "   --------------------------------------  192.3/192.3 MB 36.4 MB/s eta 0:00:01\n",
      "   --------------------------------------  192.3/192.3 MB 36.4 MB/s eta 0:00:01\n",
      "   --------------------------------------  192.3/192.3 MB 36.4 MB/s eta 0:00:01\n",
      "   --------------------------------------  192.3/192.3 MB 36.4 MB/s eta 0:00:01\n",
      "   --------------------------------------  192.3/192.3 MB 36.4 MB/s eta 0:00:01\n",
      "   --------------------------------------  192.3/192.3 MB 36.4 MB/s eta 0:00:01\n",
      "   --------------------------------------  192.3/192.3 MB 36.4 MB/s eta 0:00:01\n",
      "   --------------------------------------  192.3/192.3 MB 36.4 MB/s eta 0:00:01\n",
      "   --------------------------------------  192.3/192.3 MB 36.4 MB/s eta 0:00:01\n",
      "   --------------------------------------  192.3/192.3 MB 36.4 MB/s eta 0:00:01\n",
      "   --------------------------------------  192.3/192.3 MB 36.4 MB/s eta 0:00:01\n",
      "   --------------------------------------  192.3/192.3 MB 36.4 MB/s eta 0:00:01\n",
      "   --------------------------------------  192.3/192.3 MB 36.4 MB/s eta 0:00:01\n",
      "   --------------------------------------  192.3/192.3 MB 36.4 MB/s eta 0:00:01\n",
      "   ---------------------------------------- 192.3/192.3 MB 4.3 MB/s eta 0:00:00\n",
      "Installing collected packages: torch\n",
      "  Attempting uninstall: torch\n",
      "    Found existing installation: torch 2.0.1\n",
      "    Uninstalling torch-2.0.1:\n",
      "      Successfully uninstalled torch-2.0.1\n",
      "Note: you may need to restart the kernel to use updated packages.\n"
     ]
    },
    {
     "name": "stderr",
     "output_type": "stream",
     "text": [
      "ERROR: Could not install packages due to an OSError: [WinError 5] Access is denied: 'C:\\\\Users\\\\navme\\\\AppData\\\\Local\\\\Programs\\\\Python\\\\Python38\\\\Lib\\\\site-packages\\\\~orch\\\\lib\\\\asmjit.dll'\n",
      "Consider using the `--user` option or check the permissions.\n",
      "\n",
      "\n",
      "[notice] A new release of pip is available: 23.2.1 -> 23.3.1\n",
      "[notice] To update, run: python.exe -m pip install --upgrade pip\n"
     ]
    }
   ],
   "source": [
    "pip install --upgrade torch"
   ]
  },
  {
   "cell_type": "code",
   "execution_count": 45,
   "metadata": {},
   "outputs": [],
   "source": [
    "import torch.nn as nn\n",
    "\n",
    "class ECGEncoder(nn.Module):\n",
    "    def __init__(self):\n",
    "        super(ECGEncoder, self).__init__()\n",
    "\n",
    "        # Define CNN layers\n",
    "        self.conv1 = nn.Conv1d(in_channels=12, out_channels=32, kernel_size=7, stride=1, padding=3)\n",
    "        self.bn1 = nn.BatchNorm1d(32)\n",
    "        self.act1 = nn.GELU()\n",
    "        self.pool1 = nn.AvgPool1d(kernel_size=2, stride=2)\n",
    "\n",
    "        self.conv2 = nn.Conv1d(in_channels=32, out_channels=128, kernel_size=5, stride=1, padding=2)\n",
    "        self.bn2 = nn.BatchNorm1d(128)\n",
    "        self.act2 = nn.SELU()\n",
    "        self.pool2 = nn.AvgPool1d(kernel_size=2, stride=2)\n",
    "\n",
    "        self.conv3 = nn.Conv1d(in_channels=128, out_channels=64, kernel_size=7, stride=1, padding=3)\n",
    "        self.bn3 = nn.BatchNorm1d(64)\n",
    "        self.act3 = nn.SELU()\n",
    "        self.pool3 = nn.AvgPool1d(kernel_size=2, stride=2)\n",
    "\n",
    "        self.conv4 = nn.Conv1d(in_channels=64, out_channels=64, kernel_size=5, stride=1, padding=2)\n",
    "        self.bn4 = nn.BatchNorm1d(64)\n",
    "        self.act4 = nn.SELU()\n",
    "        self.pool4 = nn.AvgPool1d(kernel_size=2, stride=2)\n",
    "\n",
    "        self.conv5 = nn.Conv1d(in_channels=64, out_channels=32, kernel_size=7, stride=1, padding=3)\n",
    "        self.bn5 = nn.BatchNorm1d(32)\n",
    "        self.act5 = nn.GELU()\n",
    "        self.pool5 = nn.AvgPool1d(kernel_size=2, stride=2)\n",
    "\n",
    "        self.conv6 = nn.Conv1d(in_channels=32, out_channels=128, kernel_size=5, stride=1, padding=2)\n",
    "        self.bn6 = nn.BatchNorm1d(128)\n",
    "        self.act6 = nn.SELU()\n",
    "        self.pool6 = nn.AvgPool1d(kernel_size=2, stride=2)\n",
    "\n",
    "        self.conv7 = nn.Conv1d(in_channels=128, out_channels=64, kernel_size=7, stride=1, padding=3)\n",
    "        self.bn7 = nn.BatchNorm1d(64)\n",
    "        self.act7 = nn.SELU()\n",
    "        self.pool7 = nn.AvgPool1d(kernel_size=2, stride=2)\n",
    "\n",
    "        self.conv8 = nn.Conv1d(in_channels=64, out_channels=64, kernel_size=5, stride=1, padding=2)\n",
    "        self.bn8 = nn.BatchNorm1d(64)\n",
    "        self.act8 = nn.SELU()\n",
    "        self.pool8 = nn.AvgPool1d(kernel_size=2, stride=2)\n",
    "\n",
    "        self.conv9 = nn.Conv1d(in_channels=64, out_channels=32, kernel_size=7, stride=1, padding=3)\n",
    "        self.bn9 = nn.BatchNorm1d(32)\n",
    "        self.act9 = nn.GELU()\n",
    "        self.pool9 = nn.AvgPool1d(kernel_size=2, stride=2)\n",
    "\n",
    "        self.conv10 = nn.Conv1d(in_channels=32, out_channels=128, kernel_size=5, stride=1, padding=2)\n",
    "        self.bn10 = nn.BatchNorm1d(128)\n",
    "        self.act10 = nn.SELU()\n",
    "        self.pool10 = nn.AvgPool1d(kernel_size=2, stride=2)\n",
    "\n",
    "        # Define dense layers\n",
    "        self.fc1 = nn.Linear(128, 156)  # Adjust the input size based on the output of the last CNN layer\n",
    "        self.act11 = nn.ReLU()\n",
    "        self.fc2 = nn.Linear(156, 140)\n",
    "        self.act12 = nn.ReLU()\n",
    "\n",
    "        # Final layer to match the output size with the text encoder\n",
    "        self.fc3 = nn.Linear(140, 768)\n",
    "\n",
    "    def forward(self, x):\n",
    "        # Pass through CNN layers\n",
    "        x = self.pool1(self.act1(self.bn1(self.conv1(x))))\n",
    "        x = self.pool2(self.act2(self.bn2(self.conv2(x))))\n",
    "        x = self.pool3(self.act3(self.bn3(self.conv3(x))))\n",
    "        x = self.pool4(self.act4(self.bn4(self.conv4(x))))\n",
    "        x = self.pool5(self.act5(self.bn5(self.conv5(x))))\n",
    "        x = self.pool6(self.act6(self.bn6(self.conv6(x))))\n",
    "        x = self.pool7(self.act7(self.bn7(self.conv7(x))))\n",
    "        x = self.pool8(self.act8(self.bn8(self.conv8(x))))\n",
    "        x = self.pool9(self.act9(self.bn9(self.conv9(x))))\n",
    "        x = self.pool10(self.act10(self.bn10(self.conv10(x))))\n",
    "\n",
    "        # Flatten the output of the convolutional layers\n",
    "        x = x.view(x.size(0), -1)\n",
    "\n",
    "        # Pass through dense layers\n",
    "        x = self.act11(self.fc1(x))\n",
    "        x = self.act12(self.fc2(x))\n",
    "\n",
    "        # Pass through final layer\n",
    "        x = self.fc3(x)\n",
    "\n",
    "        return x"
   ]
  },
  {
   "cell_type": "code",
   "execution_count": 54,
   "metadata": {},
   "outputs": [
    {
     "name": "stdout",
     "output_type": "stream",
     "text": [
      "tensor([[-3.0817e-02, -8.9155e-02, -2.5868e-03, -1.3259e-02,  5.3304e-02,\n",
      "          3.8886e-02, -6.3233e-02,  5.7398e-02, -3.1007e-02,  4.0455e-02,\n",
      "         -5.2742e-02,  6.4431e-02, -8.4995e-02, -5.8559e-02,  1.4057e-02,\n",
      "         -9.4203e-02, -3.3626e-02,  6.7180e-02,  7.8477e-02,  9.4205e-02,\n",
      "          2.2929e-03,  8.0179e-02,  6.5239e-02,  6.9107e-02,  9.3195e-02,\n",
      "          4.6036e-02, -6.1541e-02, -8.0510e-02, -8.0613e-02, -1.1387e-04,\n",
      "         -4.0552e-02,  5.9260e-02,  7.9667e-02, -5.3490e-02,  5.3286e-02,\n",
      "         -5.8330e-02, -2.4385e-02, -5.9090e-02,  2.1884e-02,  3.4458e-02,\n",
      "         -2.7244e-02,  5.7623e-02, -6.3806e-02, -9.2269e-02,  7.6795e-02,\n",
      "         -6.6634e-02, -4.8256e-03,  8.8345e-03, -4.9382e-02,  5.6963e-02,\n",
      "          5.7996e-02, -2.6941e-02, -5.7656e-02,  7.1037e-02,  4.9748e-02,\n",
      "         -1.1936e-01,  1.2834e-01, -2.0449e-02, -3.6006e-02, -7.8571e-02,\n",
      "         -1.6021e-02, -5.9872e-02, -7.3079e-02, -1.2094e-02, -6.4410e-02,\n",
      "         -3.8267e-02,  5.3923e-02,  1.1171e-01,  7.1938e-02,  4.8278e-02,\n",
      "          1.0785e-01,  5.9639e-02, -9.7153e-03, -5.0317e-02,  6.2101e-02,\n",
      "          3.1532e-02, -7.1493e-02,  8.4244e-02, -5.6004e-02, -1.9850e-02,\n",
      "         -6.9450e-02,  7.5340e-03, -3.1872e-02, -6.7736e-02,  5.3545e-02,\n",
      "          4.1197e-02, -1.3519e-02, -1.0842e-02,  2.4279e-02, -1.5781e-02,\n",
      "         -2.1075e-02, -2.2564e-03,  2.9924e-02, -5.9706e-02, -4.7390e-02,\n",
      "         -8.0315e-02, -2.1466e-02, -3.4806e-02, -8.8527e-02, -6.3579e-02,\n",
      "          4.8211e-02,  1.9140e-02, -1.6371e-02, -2.8059e-02, -4.6549e-02,\n",
      "          3.0462e-02, -2.5381e-02,  4.9259e-02,  7.2517e-02,  7.2227e-02,\n",
      "         -3.1321e-02,  2.1044e-02, -1.8426e-02, -6.3029e-02, -2.2331e-02,\n",
      "          4.3551e-02,  4.9326e-02, -3.4849e-02, -2.8586e-02, -2.2539e-02,\n",
      "          1.0858e-02,  1.8307e-02, -3.4890e-02,  5.0972e-02,  5.6678e-02,\n",
      "          1.9358e-02, -2.3208e-02, -6.0610e-02, -7.3696e-02, -3.0644e-02,\n",
      "         -5.6916e-02, -3.4219e-02, -8.9504e-02,  3.4264e-02,  2.9467e-03,\n",
      "         -2.1488e-02, -3.5522e-02,  3.4216e-02,  4.8453e-02, -9.7931e-02,\n",
      "          1.1012e-01,  5.8080e-02,  9.8234e-02,  4.3005e-02, -3.0751e-02,\n",
      "         -2.0334e-02, -1.0511e-03, -2.3398e-02, -6.2888e-02, -3.8288e-02,\n",
      "         -3.8908e-02, -4.8866e-02, -2.9582e-02,  1.5533e-02, -9.9788e-02,\n",
      "          2.1927e-02,  1.0949e-02, -6.9175e-02, -2.8855e-02, -7.0517e-02,\n",
      "         -7.1914e-03,  6.5467e-02,  7.3608e-02, -3.6275e-02,  4.3524e-02,\n",
      "          9.5777e-02,  2.6088e-03,  9.9805e-02,  6.1104e-02, -6.8205e-02,\n",
      "          9.4971e-02, -1.7884e-02, -3.3658e-02,  6.5755e-02,  6.5685e-02,\n",
      "         -1.1405e-02, -5.4916e-02,  5.6753e-03, -6.5218e-02,  8.2133e-02,\n",
      "          1.0601e-01, -4.5897e-02,  2.3158e-02, -9.5990e-02, -4.9831e-02,\n",
      "          7.7073e-02, -1.5536e-02, -2.4662e-02, -1.6199e-02,  4.0993e-02,\n",
      "          4.9523e-02,  3.8505e-02,  1.2421e-01,  7.0740e-02,  1.7957e-02,\n",
      "         -5.6154e-03, -7.4316e-02, -7.7909e-02, -1.9072e-02, -1.3927e-03,\n",
      "          1.1469e-01, -3.4209e-02, -5.0913e-02,  2.1486e-02,  7.2907e-03,\n",
      "         -7.6257e-03,  2.4262e-02,  8.0478e-02,  7.5791e-02,  2.6706e-02,\n",
      "          1.5464e-03,  2.6479e-02, -3.4127e-02, -1.1793e-02,  6.8905e-02,\n",
      "          2.1176e-02,  1.1860e-03,  4.5297e-02,  4.2842e-02,  2.6205e-02,\n",
      "         -1.0055e-02, -1.0046e-01, -1.6174e-02,  1.9369e-03,  1.1014e-02,\n",
      "         -1.1752e-02,  5.0616e-02, -4.0334e-02, -1.8491e-02, -7.1173e-02,\n",
      "          3.8489e-03, -6.0579e-02, -2.1673e-02,  2.5361e-02, -1.6170e-02,\n",
      "          3.6761e-02,  6.8099e-02,  4.8205e-02, -3.3513e-02, -2.4752e-02,\n",
      "          2.1876e-02, -2.8857e-02,  4.9025e-02, -4.4341e-02, -8.6302e-03,\n",
      "          3.3297e-02, -4.8872e-02, -7.5166e-02, -7.1367e-02,  5.8953e-02,\n",
      "         -6.2790e-03,  5.4277e-02, -3.0893e-02, -8.8101e-02,  2.8255e-02,\n",
      "          8.6007e-02, -8.3482e-02,  5.4651e-02,  8.0282e-02, -4.7835e-02,\n",
      "         -6.6218e-02, -6.9414e-02,  1.0482e-01,  5.8576e-02, -8.6131e-02,\n",
      "         -5.0946e-02,  3.9358e-02, -6.3656e-02,  3.9770e-03,  1.2496e-01,\n",
      "         -1.0981e-01, -4.5688e-02, -5.5552e-02,  2.7602e-02, -5.7260e-03,\n",
      "          4.7089e-02, -1.0208e-02,  8.3009e-02,  3.7598e-02,  3.7561e-02,\n",
      "         -6.0672e-02,  3.9878e-02,  5.8435e-02,  3.1871e-02,  6.4436e-03,\n",
      "         -3.0827e-02,  1.1873e-02,  3.9667e-02, -9.4946e-02, -1.7167e-02,\n",
      "          6.1093e-02,  2.6659e-02, -5.1234e-04, -5.3779e-03, -3.7226e-02,\n",
      "         -3.3503e-02, -1.0915e-01, -6.2927e-02, -2.9720e-02, -7.1723e-03,\n",
      "         -1.1623e-02, -9.9692e-02, -7.0247e-02, -3.6410e-02,  8.0789e-02,\n",
      "          3.9710e-02, -7.5728e-02,  8.9704e-02,  1.1955e-02,  1.0027e-01,\n",
      "         -8.9387e-02, -8.1334e-02, -2.1397e-03,  9.3745e-02, -5.5176e-02,\n",
      "          2.3245e-02,  2.7674e-03, -1.1159e-02,  7.1190e-02, -4.4837e-02,\n",
      "         -4.7986e-02,  3.0333e-02,  8.2229e-02, -3.4265e-02,  6.8170e-03,\n",
      "         -4.3132e-02,  9.4897e-02, -2.9864e-02,  7.1807e-03,  2.2408e-02,\n",
      "         -5.9824e-03, -7.7410e-02, -7.5192e-02,  7.7430e-02,  3.9136e-03,\n",
      "          7.7550e-02, -2.6428e-02,  5.4830e-03,  1.7474e-02,  6.3609e-03,\n",
      "          4.0087e-02, -1.2788e-02,  9.0163e-02,  3.2930e-02,  1.5580e-02,\n",
      "         -1.3012e-01, -9.8486e-02,  7.3854e-02, -3.4371e-02, -2.2575e-03,\n",
      "          2.2158e-02, -8.3081e-02,  5.1409e-02, -8.5144e-02, -4.8450e-02,\n",
      "         -3.1192e-02,  7.8234e-02,  8.0904e-02, -1.1828e-01,  6.0364e-02,\n",
      "         -6.9676e-02, -2.8184e-02, -3.2831e-02,  7.5272e-03, -2.3779e-02,\n",
      "          2.5026e-03,  6.1689e-03, -3.0886e-04, -1.2929e-02,  8.7193e-02,\n",
      "         -9.3056e-02, -9.2543e-02,  5.0638e-02, -6.9125e-02, -4.5138e-03,\n",
      "          2.7398e-02, -6.2213e-02, -3.6480e-02,  3.6557e-02, -6.9022e-02,\n",
      "         -5.4331e-02, -5.3222e-02, -7.6990e-02,  3.2883e-02,  6.3402e-02,\n",
      "          7.9277e-03,  3.7062e-02,  7.8267e-02,  4.8242e-03, -9.4760e-03,\n",
      "          3.6818e-02,  1.3227e-02, -3.1243e-02, -5.3697e-02, -9.9087e-02,\n",
      "          5.2463e-02,  8.9545e-02,  2.4796e-02, -8.6835e-02,  1.0223e-01,\n",
      "         -7.6777e-02,  6.1899e-02,  3.3764e-02,  1.2155e-02, -5.5443e-02,\n",
      "         -7.0334e-03, -3.3971e-02, -6.9702e-03,  8.2889e-02, -2.3721e-02,\n",
      "         -8.3410e-02,  5.9823e-02,  1.1835e-03, -2.2907e-02, -4.8397e-02,\n",
      "         -3.3274e-02, -4.1438e-03, -1.5764e-02,  2.6111e-02,  9.3380e-02,\n",
      "          4.8635e-02, -5.4763e-02,  3.4160e-03, -1.0517e-01,  6.5314e-03,\n",
      "          5.4598e-02,  5.5735e-02,  1.0105e-02,  4.5624e-02, -9.0690e-02,\n",
      "         -7.4483e-02,  2.4516e-02, -1.7075e-02, -2.1881e-03,  6.8820e-02,\n",
      "         -6.6898e-02,  9.7568e-02, -3.8272e-02, -4.1784e-03, -1.1202e-02,\n",
      "          2.9269e-02, -1.0193e-02,  5.4393e-02,  3.5052e-03, -6.3563e-02,\n",
      "          9.1593e-03, -7.5218e-02, -4.0727e-02,  6.3043e-02, -1.1507e-01,\n",
      "         -3.5043e-02,  6.3669e-02,  8.4216e-02,  4.1295e-02, -6.1807e-02,\n",
      "         -9.8791e-02,  4.3321e-03,  6.4980e-02,  3.7109e-02,  8.3227e-02,\n",
      "          6.4675e-02,  5.5880e-02,  3.4815e-02, -6.1408e-02, -1.5204e-02,\n",
      "          3.1077e-02, -4.0881e-02,  6.3165e-02,  6.2862e-02, -1.0756e-02,\n",
      "          6.9011e-02,  4.8045e-02, -4.5264e-02,  3.9736e-02,  6.2281e-02,\n",
      "         -6.9591e-02, -2.8390e-02, -2.4381e-02,  8.5303e-03,  6.8489e-02,\n",
      "         -1.5433e-02,  2.0330e-02, -3.0762e-02,  2.9309e-02, -7.0453e-02,\n",
      "          5.2149e-02,  5.4433e-02, -3.1949e-02,  3.9830e-02,  4.0830e-02,\n",
      "          1.5094e-02,  3.8245e-02,  3.1916e-02,  8.5077e-02, -1.4963e-02,\n",
      "          4.5803e-02,  6.6327e-02,  3.0441e-02, -1.6976e-02, -3.8126e-02,\n",
      "          7.1592e-02, -1.0655e-01,  8.6992e-02,  6.2677e-02,  2.5368e-02,\n",
      "         -4.7315e-03,  1.0741e-01,  6.1355e-02,  3.9830e-02, -2.8798e-03,\n",
      "         -1.8724e-02, -1.0462e-01, -8.2232e-03, -3.8742e-02,  4.1518e-02,\n",
      "          5.9694e-02, -7.8431e-02,  1.2069e-03,  4.1932e-02,  1.1811e-02,\n",
      "         -9.4244e-02,  9.2517e-02, -4.4648e-02,  5.9799e-02, -7.1244e-02,\n",
      "         -1.3935e-02,  2.9773e-02, -9.3869e-02, -1.6464e-02,  2.4931e-02,\n",
      "          3.1419e-02,  8.0511e-02,  1.9461e-04,  3.9149e-02,  7.1520e-02,\n",
      "          7.7757e-02,  4.6728e-02, -5.1376e-03,  3.2195e-02,  7.2535e-02,\n",
      "          6.9525e-04,  2.8716e-02, -2.4887e-02, -4.5891e-02, -4.9443e-02,\n",
      "          5.5762e-02,  2.3936e-02,  6.5776e-02, -2.2563e-04,  5.4694e-02,\n",
      "          5.8250e-02, -7.1370e-02, -7.3552e-03, -6.1952e-02, -1.9691e-02,\n",
      "          1.0929e-01, -4.9528e-02, -9.6100e-03,  7.7851e-02, -7.6668e-02,\n",
      "          2.6724e-02, -8.3163e-02,  8.6749e-02, -5.7886e-02, -7.0958e-02,\n",
      "          9.0848e-02, -4.9956e-02, -5.2576e-02,  2.9511e-02,  1.8602e-02,\n",
      "          5.5410e-02, -4.2448e-03, -3.3103e-02, -5.9866e-03, -1.6914e-02,\n",
      "          1.5705e-02,  1.8214e-02,  4.4410e-02, -8.6348e-02,  2.1996e-02,\n",
      "         -2.4416e-02,  9.2844e-02, -7.0079e-02,  3.1932e-02,  3.0457e-03,\n",
      "          3.9718e-02, -2.3803e-02,  6.6696e-02, -5.6145e-02,  1.8770e-02,\n",
      "         -2.2711e-02,  9.5453e-02,  7.2900e-02,  5.4042e-02,  4.9272e-02,\n",
      "          2.6432e-02,  1.5728e-03,  7.8590e-02,  3.9815e-02, -6.5578e-03,\n",
      "         -6.8040e-02, -3.3433e-03, -9.2538e-02, -6.8612e-02, -3.0922e-02,\n",
      "          5.5114e-03, -8.6848e-02,  3.3051e-02,  2.4745e-02, -6.2977e-02,\n",
      "         -7.3181e-02, -6.1618e-02, -1.1124e-01,  6.9733e-02, -1.6674e-02,\n",
      "          8.0610e-02,  6.4015e-02, -3.7978e-02, -4.7047e-02, -1.1931e-01,\n",
      "          6.3940e-02, -1.3368e-02, -1.5785e-02,  3.7238e-02, -2.6820e-02,\n",
      "          9.0105e-02, -3.5312e-02,  1.1085e-01, -1.9026e-02,  6.3691e-02,\n",
      "         -8.2936e-02, -1.0551e-01,  8.2194e-02, -8.9834e-02, -5.7279e-02,\n",
      "         -1.0908e-01,  1.3327e-02, -3.2458e-02,  6.7687e-03, -1.1054e-01,\n",
      "         -1.7402e-02, -3.6920e-02, -8.9574e-02,  6.0367e-02,  3.2650e-02,\n",
      "         -2.4677e-02, -8.0170e-02,  2.6971e-03,  2.1394e-02, -2.7522e-03,\n",
      "          3.3002e-02, -6.8381e-02,  3.6076e-02,  9.4103e-02, -2.3667e-02,\n",
      "         -2.9213e-03,  1.5255e-02, -6.0726e-02,  3.1989e-02,  1.4365e-02,\n",
      "          6.7683e-02, -5.2924e-02,  4.4350e-02,  5.6682e-02, -5.6233e-02,\n",
      "          2.7011e-03, -5.7469e-02,  2.0429e-02,  1.1948e-01, -5.0680e-02,\n",
      "         -7.2750e-02, -3.8029e-02, -1.1008e-01,  2.7909e-02,  1.8480e-02,\n",
      "         -1.0435e-01, -2.2749e-02,  4.0972e-02, -6.1821e-02,  3.6302e-02,\n",
      "          1.2109e-01, -2.0101e-02,  3.5415e-02,  1.5136e-02, -3.3795e-03,\n",
      "         -6.2732e-02, -7.2868e-02, -4.1730e-02,  3.7586e-02,  2.4624e-02,\n",
      "          4.6971e-03, -6.8146e-02,  6.3596e-02,  7.9632e-02, -3.5954e-02,\n",
      "          4.6333e-02,  2.0001e-02, -2.4707e-02, -8.8278e-03,  4.7377e-03,\n",
      "         -6.2178e-02,  4.1358e-02,  2.7649e-02, -3.3100e-02,  2.5878e-02,\n",
      "          4.3258e-02,  2.1858e-02, -6.1572e-02, -1.7761e-02, -5.0110e-02,\n",
      "          3.3829e-02, -8.1347e-02, -2.6865e-02, -3.5300e-02, -2.1707e-02,\n",
      "          2.4692e-02,  1.2179e-01, -3.8517e-02,  6.5023e-02, -1.9499e-02,\n",
      "          7.2175e-02,  5.0053e-02,  5.8707e-03, -9.3555e-03, -6.6856e-04,\n",
      "         -1.1926e-01,  5.1839e-02,  8.0147e-02, -4.9003e-02,  1.0353e-01,\n",
      "         -1.0965e-02, -2.8608e-02,  3.2447e-02, -6.6207e-02,  4.1932e-02,\n",
      "         -3.4405e-02, -2.3489e-02,  1.1458e-02, -4.9190e-02, -5.0894e-02,\n",
      "          1.0099e-01, -1.5120e-02, -2.6099e-02,  2.2605e-05, -1.1482e-01,\n",
      "          8.2721e-02,  7.1958e-02,  8.9671e-02, -4.1781e-03,  7.3260e-02,\n",
      "         -3.7023e-02, -4.6994e-02, -9.1177e-02, -1.7047e-02, -5.1796e-02,\n",
      "          8.0603e-02, -4.3898e-02,  4.6029e-02,  5.0444e-02,  1.4550e-03,\n",
      "          1.0029e-01, -4.1902e-02,  2.2233e-02,  5.7608e-02,  3.1251e-02,\n",
      "          4.4177e-02,  6.4007e-02,  3.9654e-02]], grad_fn=<AddmmBackward0>)\n"
     ]
    }
   ],
   "source": [
    "# Instantiate the model\n",
    "model = ECGEncoder()\n",
    "\n",
    "# Convert the numpy array to a PyTorch tensor\n",
    "input_data = torch.from_numpy(current_train[0][1]).float()\n",
    "\n",
    "# Add an extra dimension to the tensor to represent the batch size\n",
    "input_data = input_data.unsqueeze(0)\n",
    "\n",
    "# Pass the tensor through the model\n",
    "output = model(input_data)\n",
    "\n",
    "# Print the output\n",
    "print(output)"
   ]
  },
  {
   "cell_type": "code",
   "execution_count": 48,
   "metadata": {},
   "outputs": [
    {
     "name": "stdout",
     "output_type": "stream",
     "text": [
      "<class 'torch.Tensor'>\n",
      "torch.Size([1, 768])\n"
     ]
    }
   ],
   "source": [
    "# Set the model to evaluation mode\n",
    "model.eval()\n",
    "\n",
    "# Pass the data through the model\n",
    "output = model(input_data)\n",
    "\n",
    "print(type(output))\n",
    "print(output.size())"
   ]
  },
  {
   "cell_type": "code",
   "execution_count": 49,
   "metadata": {},
   "outputs": [],
   "source": [
    "def count_parameters(model):\n",
    "    return sum(p.numel() for p in model.parameters() if p.requires_grad)"
   ]
  },
  {
   "cell_type": "code",
   "execution_count": 50,
   "metadata": {},
   "outputs": [
    {
     "name": "stdout",
     "output_type": "stream",
     "text": [
      "The model has 401048 trainable parameters\n"
     ]
    }
   ],
   "source": [
    "# Count the parameters\n",
    "num_params = count_parameters(model)\n",
    "print(f'The model has {num_params} trainable parameters')"
   ]
  },
  {
   "cell_type": "markdown",
   "metadata": {},
   "source": [
    "## CLIPModel\n",
    "\n",
    "The final component of the Model Pipeline is to create a `ClIPModel` class which takes `TextEncoder` and `ECGEncoder` to train the final model with contrastive loss. \n",
    "\n",
    "```\n",
    "# image_encoder - ResNet or Vision Transformer\n",
    "# text_encoder - CBOW or Text Transformer\n",
    "# I[n, h, w, c] - minibatch of aligned images\n",
    "# T[n, l] - minibatch of aligned texts\n",
    "# W_i[d_i, d_e] - learned proj of image to embed\n",
    "# W_t[d_t, d_e] - learned proj of text to embed\n",
    "# t - learned temperature parameter\n",
    "# extract feature representations of each modality\n",
    "I_f = image_encoder(I) #[n, d_i]\n",
    "T_f = text_encoder(T) #[n, d_t]\n",
    "# joint multimodal embedding [n, d_e]\n",
    "I_e = l2_normalize(np.dot(I_f, W_i), axis=1)\n",
    "T_e = l2_normalize(np.dot(T_f, W_t), axis=1)\n",
    "# scaled pairwise cosine similarities [n, n]\n",
    "logits = np.dot(I_e, T_e.T) * np.exp(t)\n",
    "# symmetric loss function\n",
    "labels = np.arange(n)\n",
    "loss_i = cross_entropy_loss(logits, labels, axis=0)\n",
    "loss_t = cross_entropy_loss(logits, labels, axis=1)\n",
    "loss = (loss_i + loss_t)/2\n",
    "Figure 3. Numpy-like pseudocode for the core of an implementation of CLIP\n",
    "```"
   ]
  },
  {
   "cell_type": "code",
   "execution_count": 24,
   "metadata": {},
   "outputs": [],
   "source": [
    "class CLIPModel(nn.Module):\n",
    "    def __init__(self, text_encoder, ecg_encoder, temperature):\n",
    "        super(CLIPModel, self).__init__()\n",
    "        self.text_encoder = text_encoder\n",
    "        self.ecg_encoder = ecg_encoder\n",
    "        self.temperature = temperature\n",
    "        self.W_i = nn.Linear(self.ecg_encoder.out_features, self.ecg_encoder.out_features)\n",
    "        self.W_t = nn.Linear(self.text_encoder.out_features, self.text_encoder.out_features)\n",
    "\n",
    "    def forward(self, ecgs, texts):\n",
    "        # Extract feature representations of each modality\n",
    "        I_f = self.ecg_encoder(ecgs)  # [n, d_i]\n",
    "        T_f = torch.stack([self.text_encoder.encode(text).squeeze() for text in texts])  # [n, d_t]\n",
    "\n",
    "        # Joint multimodal embedding [n, d_e]\n",
    "        I_e = F.normalize(self.W_i(I_f), dim=1)\n",
    "        T_e = F.normalize(self.W_t(T_f), dim=1)\n",
    "\n",
    "        # Scaled pairwise cosine similarities [n, n]\n",
    "        logits = torch.matmul(I_e, T_e.t()) / self.temperature\n",
    "\n",
    "        # Symmetric loss function\n",
    "        labels = torch.arange(len(ecgs)).to(ecgs.device)\n",
    "        loss_i = F.cross_entropy(logits, labels)\n",
    "        loss_t = F.cross_entropy(logits.t(), labels)\n",
    "        loss = (loss_i + loss_t) / 2\n",
    "\n",
    "        return loss"
   ]
  },
  {
   "cell_type": "markdown",
   "metadata": {},
   "source": [
    "Let's break down this `CLIPModel` class:\n",
    "\n",
    "- `__init__` method: This is the constructor for the `CLIPModel` class. It initializes the text and ECG encoders, the temperature for the softmax function, and two linear layers (`W_i` and `W_t`). The linear layers are used to transform the embeddings produced by the encoders to a common embedding space. The `embed_dim` parameter determines the dimensionality of this common space.\n",
    "\n",
    "- `forward` method: This is the method that is called when you pass data through the model.\n",
    "\n",
    "    - `I_f = self.ecg_encoder(ecgs)`: This line passes the ECG data through the ECG encoder to get a feature representation (`I_f`).\n",
    "\n",
    "    - `T_f = torch.stack([self.text_encoder.encode(text).squeeze() for text in texts])`: This line encodes each text in the `texts` list using the text encoder, squeezes the output to remove any unnecessary dimensions, and stacks the results into a tensor (`T_f`).\n",
    "\n",
    "    - `I_e = F.normalize(self.W_i(I_f), dim=1)` and `T_e = F.normalize(self.W_t(T_f), dim=1)`: These lines pass the feature representations through the linear layers (`W_i` and `W_t`), and then normalize the output. The result (`I_e` and `T_e`) are the embeddings in the common space.\n",
    "\n",
    "    - `logits = torch.matmul(I_e, T_e.t()) / self.temperature`: This line computes the cosine similarity between the ECG and text embeddings, scales it by the temperature, and stores the result in `logits`.\n",
    "\n",
    "    - The last few lines compute the cross-entropy loss between the logits and the labels (which are just the indices of the data points). The loss is computed twice: once for the ECG-to-text direction (`loss_i`), and once for the text-to-ECG direction (`loss_t`). The final loss is the average of these two losses.\n",
    "\n",
    "In summary, `W_i` and `W_t` are used to transform the feature representations produced by the encoders into a common embedding space. The model then computes the similarity between the ECG and text embeddings in this common space, and uses this to compute the loss."
   ]
  },
  {
   "cell_type": "code",
   "execution_count": 32,
   "metadata": {},
   "outputs": [],
   "source": [
    "# Instantiate the encoders\n",
    "text_encoder = TextEncoder()\n",
    "ecg_encoder = ECGEncoder()\n",
    "\n",
    "# Instantiate the encoders and the model\n",
    "CLIP_model = CLIPModel(text_encoder, ecg_encoder, embed_dim=512, temperature=1)"
   ]
  },
  {
   "cell_type": "code",
   "execution_count": null,
   "metadata": {},
   "outputs": [],
   "source": [
    "def resample_ecg(ecg, new_length=1280):\n",
    "    # Get the current length of the ECG\n",
    "    current_length = ecg.shape[1]\n",
    "\n",
    "    # Resample the ECG\n",
    "    resampled_ecg = signal.resample(ecg, new_length, axis=1)\n",
    "\n",
    "    return resampled_ecg"
   ]
  },
  {
   "cell_type": "code",
   "execution_count": null,
   "metadata": {},
   "outputs": [],
   "source": [
    "# Generate 50 random indices\n",
    "indices = random.sample(range(len(current_train)), 750)\n",
    "\n",
    "# Extract the samples at these indices\n",
    "texts = [current_train[i][0] for i in indices]\n",
    "ecgs = [current_train[i][1] for i in indices]\n",
    "\n",
    "# Convert the list of numpy arrays to a tensor\n",
    "ecgs_tensor = torch.stack([torch.from_numpy(ecg).float() for ecg in ecgs])"
   ]
  },
  {
   "cell_type": "code",
   "execution_count": null,
   "metadata": {},
   "outputs": [],
   "source": [
    "len(ecgs_tensor), len(ecgs), len(ecgs[0])"
   ]
  },
  {
   "cell_type": "code",
   "execution_count": null,
   "metadata": {},
   "outputs": [],
   "source": [
    "current_train[0][1]"
   ]
  },
  {
   "cell_type": "code",
   "execution_count": null,
   "metadata": {},
   "outputs": [],
   "source": [
    "# Pass the tensor and texts through the model\n",
    "loss = CLIP_model(ecgs_tensor, texts)\n",
    "\n",
    "# Print the loss\n",
    "print(loss)"
   ]
  },
  {
   "cell_type": "markdown",
   "metadata": {},
   "source": [
    "# Model Training"
   ]
  },
  {
   "cell_type": "markdown",
   "metadata": {},
   "source": [
    "## DataLoaders + Setup"
   ]
  },
  {
   "cell_type": "code",
   "execution_count": 1,
   "metadata": {},
   "outputs": [
    {
     "name": "stderr",
     "output_type": "stream",
     "text": [
      "c:\\Users\\navme\\AppData\\Local\\Programs\\Python\\Python38\\lib\\site-packages\\numpy\\_distributor_init.py:30: UserWarning: loaded more than 1 DLL from .libs:\n",
      "c:\\Users\\navme\\AppData\\Local\\Programs\\Python\\Python38\\lib\\site-packages\\numpy\\.libs\\libopenblas.FB5AE2TYXYH2IJRDKGDGQ3XBKLKTF43H.gfortran-win_amd64.dll\n",
      "c:\\Users\\navme\\AppData\\Local\\Programs\\Python\\Python38\\lib\\site-packages\\numpy\\.libs\\libopenblas64__v0.3.21-gcc_10_3_0.dll\n",
      "  warnings.warn(\"loaded more than 1 DLL from .libs:\"\n"
     ]
    }
   ],
   "source": [
    "from torch.utils.data import DataLoader\n",
    "from torch.nn.utils.rnn import pad_sequence\n",
    "from tqdm import tqdm"
   ]
  },
  {
   "cell_type": "code",
   "execution_count": null,
   "metadata": {},
   "outputs": [],
   "source": [
    "# Instantiate the encoders\n",
    "text_encoder = TextEncoder(device).to(torch.device(\"cuda\"))\n",
    "ecg_encoder = ECGEncoder().to(torch.device(\"cuda\"))\n",
    "\n",
    "# Instantiate the encoders and the model\n",
    "CLIP_model = CLIPModel(text_encoder, ecg_encoder, embed_dim=512, temperature=1)"
   ]
  },
  {
   "cell_type": "code",
   "execution_count": null,
   "metadata": {},
   "outputs": [],
   "source": [
    "# Parameters\n",
    "lr = 0.001\n",
    "weight_decay = 0.01\n",
    "optimizer = torch.optim.Adam(CLIP_model.parameters(), lr=lr, weight_decay=weight_decay)\n",
    "num_epochs = 3"
   ]
  },
  {
   "cell_type": "markdown",
   "metadata": {},
   "source": [
    "## Training CLIP model on ```current_train```"
   ]
  },
  {
   "cell_type": "code",
   "execution_count": null,
   "metadata": {},
   "outputs": [],
   "source": [
    "def collate_fn(batch):\n",
    "    texts = [item[0] for item in batch]\n",
    "    ecgs = [item[1] for item in batch]\n",
    "    # Pad the sequences\n",
    "    ecgs_padded = pad_sequence([torch.from_numpy(ecg) for ecg in ecgs], batch_first=True)\n",
    "    return texts, ecgs_padded\n",
    "\n",
    "# In your DataLoader, specify the collate_fn\n",
    "current_train_loader = DataLoader(current_train, batch_size=64, collate_fn=collate_fn)"
   ]
  },
  {
   "cell_type": "code",
   "execution_count": null,
   "metadata": {},
   "outputs": [],
   "source": [
    "def train_model(model, optimizer, num_epochs, device):\n",
    "    # Move model to the device\n",
    "    CLIP_model.to(device)\n",
    "\n",
    "    # Store the losses for each epoch\n",
    "    losses = []\n",
    "\n",
    "    for epoch in range(num_epochs):\n",
    "        CLIP_model.train()  # Set the model to training mode\n",
    "        running_loss = 0.0\n",
    "        pbar = tqdm(enumerate(current_train_loader, 0), total=len(current_train_loader), leave=False)\n",
    "        \n",
    "        # Then in your training loop\n",
    "        for i, data in pbar:\n",
    "            # Extract the samples\n",
    "            texts = data[0]  # Move texts to the device\n",
    "            ecgs = data[1].float().to(device)  # ecgs is already a tensor, just move it to the device\n",
    "\n",
    "            # Zero the parameter gradients\n",
    "            optimizer.zero_grad()\n",
    "\n",
    "            # Pass the tensor and texts through the model\n",
    "            loss = CLIP_model(ecgs, texts)  # Pass the tensor directly\n",
    "\n",
    "            # Backward + optimize\n",
    "            loss.backward()\n",
    "            optimizer.step()\n",
    "\n",
    "            # Print statistics\n",
    "            running_loss += loss.item()\n",
    "            pbar.set_description(f\"Epoch {epoch + 1} Loss: {running_loss/(i+1):.4f}\")\n",
    "        epoch_loss = running_loss / len(current_train)\n",
    "        losses.append(epoch_loss)\n",
    "        print(f'Epoch {epoch + 1}, Loss: {epoch_loss}')\n",
    "\n",
    "    return CLIP_model, losses"
   ]
  },
  {
   "cell_type": "code",
   "execution_count": null,
   "metadata": {},
   "outputs": [],
   "source": [
    "train_model(CLIP_model, optimizer, num_epochs, device)"
   ]
  },
  {
   "cell_type": "markdown",
   "metadata": {},
   "source": [
    "## Evaluating CLIP model on ```current_val```"
   ]
  },
  {
   "cell_type": "code",
   "execution_count": null,
   "metadata": {},
   "outputs": [],
   "source": []
  },
  {
   "cell_type": "code",
   "execution_count": null,
   "metadata": {},
   "outputs": [],
   "source": []
  },
  {
   "cell_type": "markdown",
   "metadata": {},
   "source": [
    "## Testing Trained CLIP model on ```test_set```"
   ]
  },
  {
   "cell_type": "code",
   "execution_count": null,
   "metadata": {},
   "outputs": [],
   "source": [
    "# Pseudo Code\n",
    "def predict_diagnosis(CLIP_model, ecg_sample, all_diagnoses):\n",
    "    # Generate the ECG embedding\n",
    "    ecg_embedding = CLIP_model.ecg_encoder(ecg_sample)\n",
    "\n",
    "    # Generate embeddings for all possible diagnoses\n",
    "    diagnosis_embeddings = [CLIP_model.text_encoder.encode(diagnosis) for diagnosis in all_diagnoses]\n",
    "\n",
    "    # Calculate the similarity between the ECG embedding and each diagnosis embedding\n",
    "    similarities = [torch.dot(ecg_embedding, diagnosis_embedding) for diagnosis_embedding in diagnosis_embeddings]\n",
    "\n",
    "    # The predicted diagnosis is the one with the highest similarity\n",
    "    predicted_diagnosis = all_diagnoses[torch.argmax(similarities)]\n",
    "\n",
    "    return predicted_diagnosis"
   ]
  }
 ],
 "metadata": {
  "kernelspec": {
   "display_name": "Python 3",
   "language": "python",
   "name": "python3"
  },
  "language_info": {
   "codemirror_mode": {
    "name": "ipython",
    "version": 3
   },
   "file_extension": ".py",
   "mimetype": "text/x-python",
   "name": "python",
   "nbconvert_exporter": "python",
   "pygments_lexer": "ipython3",
   "version": "3.8.1"
  }
 },
 "nbformat": 4,
 "nbformat_minor": 2
}
