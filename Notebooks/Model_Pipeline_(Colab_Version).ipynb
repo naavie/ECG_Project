{
  "nbformat": 4,
  "nbformat_minor": 0,
  "metadata": {
    "colab": {
      "provenance": [],
      "gpuType": "T4"
    },
    "kernelspec": {
      "name": "python3",
      "display_name": "Python 3"
    },
    "language_info": {
      "name": "python"
    },
    "widgets": {
      "application/vnd.jupyter.widget-state+json": {
        "c15dfd4b98ab4136bc0069f5a836cb09": {
          "model_module": "@jupyter-widgets/controls",
          "model_name": "HBoxModel",
          "model_module_version": "1.5.0",
          "state": {
            "_dom_classes": [],
            "_model_module": "@jupyter-widgets/controls",
            "_model_module_version": "1.5.0",
            "_model_name": "HBoxModel",
            "_view_count": null,
            "_view_module": "@jupyter-widgets/controls",
            "_view_module_version": "1.5.0",
            "_view_name": "HBoxView",
            "box_style": "",
            "children": [
              "IPY_MODEL_c5f6992249434bc4a90196aea00dd900",
              "IPY_MODEL_bad6849f6d34454bb3869bc85c847a3d",
              "IPY_MODEL_31c2f72166ca4abfb9031b99c20641b7"
            ],
            "layout": "IPY_MODEL_415f5a4b67eb4d788204d6415b5f20ff"
          }
        },
        "c5f6992249434bc4a90196aea00dd900": {
          "model_module": "@jupyter-widgets/controls",
          "model_name": "HTMLModel",
          "model_module_version": "1.5.0",
          "state": {
            "_dom_classes": [],
            "_model_module": "@jupyter-widgets/controls",
            "_model_module_version": "1.5.0",
            "_model_name": "HTMLModel",
            "_view_count": null,
            "_view_module": "@jupyter-widgets/controls",
            "_view_module_version": "1.5.0",
            "_view_name": "HTMLView",
            "description": "",
            "description_tooltip": null,
            "layout": "IPY_MODEL_a358210fbd9c4a46b6608af51dafacc1",
            "placeholder": "​",
            "style": "IPY_MODEL_cf894576f85b438e99a46bf8a2c320ad",
            "value": "config.json: 100%"
          }
        },
        "bad6849f6d34454bb3869bc85c847a3d": {
          "model_module": "@jupyter-widgets/controls",
          "model_name": "FloatProgressModel",
          "model_module_version": "1.5.0",
          "state": {
            "_dom_classes": [],
            "_model_module": "@jupyter-widgets/controls",
            "_model_module_version": "1.5.0",
            "_model_name": "FloatProgressModel",
            "_view_count": null,
            "_view_module": "@jupyter-widgets/controls",
            "_view_module_version": "1.5.0",
            "_view_name": "ProgressView",
            "bar_style": "success",
            "description": "",
            "description_tooltip": null,
            "layout": "IPY_MODEL_8f61886b46564dfc92e791a05766efe8",
            "max": 385,
            "min": 0,
            "orientation": "horizontal",
            "style": "IPY_MODEL_dc9f76c6b0e44670be5848bc2180b317",
            "value": 385
          }
        },
        "31c2f72166ca4abfb9031b99c20641b7": {
          "model_module": "@jupyter-widgets/controls",
          "model_name": "HTMLModel",
          "model_module_version": "1.5.0",
          "state": {
            "_dom_classes": [],
            "_model_module": "@jupyter-widgets/controls",
            "_model_module_version": "1.5.0",
            "_model_name": "HTMLModel",
            "_view_count": null,
            "_view_module": "@jupyter-widgets/controls",
            "_view_module_version": "1.5.0",
            "_view_name": "HTMLView",
            "description": "",
            "description_tooltip": null,
            "layout": "IPY_MODEL_17437015c4e34218a70665e40f47ca70",
            "placeholder": "​",
            "style": "IPY_MODEL_ceb803fa02784c8fb17ef1c134c40840",
            "value": " 385/385 [00:00&lt;00:00, 24.3kB/s]"
          }
        },
        "415f5a4b67eb4d788204d6415b5f20ff": {
          "model_module": "@jupyter-widgets/base",
          "model_name": "LayoutModel",
          "model_module_version": "1.2.0",
          "state": {
            "_model_module": "@jupyter-widgets/base",
            "_model_module_version": "1.2.0",
            "_model_name": "LayoutModel",
            "_view_count": null,
            "_view_module": "@jupyter-widgets/base",
            "_view_module_version": "1.2.0",
            "_view_name": "LayoutView",
            "align_content": null,
            "align_items": null,
            "align_self": null,
            "border": null,
            "bottom": null,
            "display": null,
            "flex": null,
            "flex_flow": null,
            "grid_area": null,
            "grid_auto_columns": null,
            "grid_auto_flow": null,
            "grid_auto_rows": null,
            "grid_column": null,
            "grid_gap": null,
            "grid_row": null,
            "grid_template_areas": null,
            "grid_template_columns": null,
            "grid_template_rows": null,
            "height": null,
            "justify_content": null,
            "justify_items": null,
            "left": null,
            "margin": null,
            "max_height": null,
            "max_width": null,
            "min_height": null,
            "min_width": null,
            "object_fit": null,
            "object_position": null,
            "order": null,
            "overflow": null,
            "overflow_x": null,
            "overflow_y": null,
            "padding": null,
            "right": null,
            "top": null,
            "visibility": null,
            "width": null
          }
        },
        "a358210fbd9c4a46b6608af51dafacc1": {
          "model_module": "@jupyter-widgets/base",
          "model_name": "LayoutModel",
          "model_module_version": "1.2.0",
          "state": {
            "_model_module": "@jupyter-widgets/base",
            "_model_module_version": "1.2.0",
            "_model_name": "LayoutModel",
            "_view_count": null,
            "_view_module": "@jupyter-widgets/base",
            "_view_module_version": "1.2.0",
            "_view_name": "LayoutView",
            "align_content": null,
            "align_items": null,
            "align_self": null,
            "border": null,
            "bottom": null,
            "display": null,
            "flex": null,
            "flex_flow": null,
            "grid_area": null,
            "grid_auto_columns": null,
            "grid_auto_flow": null,
            "grid_auto_rows": null,
            "grid_column": null,
            "grid_gap": null,
            "grid_row": null,
            "grid_template_areas": null,
            "grid_template_columns": null,
            "grid_template_rows": null,
            "height": null,
            "justify_content": null,
            "justify_items": null,
            "left": null,
            "margin": null,
            "max_height": null,
            "max_width": null,
            "min_height": null,
            "min_width": null,
            "object_fit": null,
            "object_position": null,
            "order": null,
            "overflow": null,
            "overflow_x": null,
            "overflow_y": null,
            "padding": null,
            "right": null,
            "top": null,
            "visibility": null,
            "width": null
          }
        },
        "cf894576f85b438e99a46bf8a2c320ad": {
          "model_module": "@jupyter-widgets/controls",
          "model_name": "DescriptionStyleModel",
          "model_module_version": "1.5.0",
          "state": {
            "_model_module": "@jupyter-widgets/controls",
            "_model_module_version": "1.5.0",
            "_model_name": "DescriptionStyleModel",
            "_view_count": null,
            "_view_module": "@jupyter-widgets/base",
            "_view_module_version": "1.2.0",
            "_view_name": "StyleView",
            "description_width": ""
          }
        },
        "8f61886b46564dfc92e791a05766efe8": {
          "model_module": "@jupyter-widgets/base",
          "model_name": "LayoutModel",
          "model_module_version": "1.2.0",
          "state": {
            "_model_module": "@jupyter-widgets/base",
            "_model_module_version": "1.2.0",
            "_model_name": "LayoutModel",
            "_view_count": null,
            "_view_module": "@jupyter-widgets/base",
            "_view_module_version": "1.2.0",
            "_view_name": "LayoutView",
            "align_content": null,
            "align_items": null,
            "align_self": null,
            "border": null,
            "bottom": null,
            "display": null,
            "flex": null,
            "flex_flow": null,
            "grid_area": null,
            "grid_auto_columns": null,
            "grid_auto_flow": null,
            "grid_auto_rows": null,
            "grid_column": null,
            "grid_gap": null,
            "grid_row": null,
            "grid_template_areas": null,
            "grid_template_columns": null,
            "grid_template_rows": null,
            "height": null,
            "justify_content": null,
            "justify_items": null,
            "left": null,
            "margin": null,
            "max_height": null,
            "max_width": null,
            "min_height": null,
            "min_width": null,
            "object_fit": null,
            "object_position": null,
            "order": null,
            "overflow": null,
            "overflow_x": null,
            "overflow_y": null,
            "padding": null,
            "right": null,
            "top": null,
            "visibility": null,
            "width": null
          }
        },
        "dc9f76c6b0e44670be5848bc2180b317": {
          "model_module": "@jupyter-widgets/controls",
          "model_name": "ProgressStyleModel",
          "model_module_version": "1.5.0",
          "state": {
            "_model_module": "@jupyter-widgets/controls",
            "_model_module_version": "1.5.0",
            "_model_name": "ProgressStyleModel",
            "_view_count": null,
            "_view_module": "@jupyter-widgets/base",
            "_view_module_version": "1.2.0",
            "_view_name": "StyleView",
            "bar_color": null,
            "description_width": ""
          }
        },
        "17437015c4e34218a70665e40f47ca70": {
          "model_module": "@jupyter-widgets/base",
          "model_name": "LayoutModel",
          "model_module_version": "1.2.0",
          "state": {
            "_model_module": "@jupyter-widgets/base",
            "_model_module_version": "1.2.0",
            "_model_name": "LayoutModel",
            "_view_count": null,
            "_view_module": "@jupyter-widgets/base",
            "_view_module_version": "1.2.0",
            "_view_name": "LayoutView",
            "align_content": null,
            "align_items": null,
            "align_self": null,
            "border": null,
            "bottom": null,
            "display": null,
            "flex": null,
            "flex_flow": null,
            "grid_area": null,
            "grid_auto_columns": null,
            "grid_auto_flow": null,
            "grid_auto_rows": null,
            "grid_column": null,
            "grid_gap": null,
            "grid_row": null,
            "grid_template_areas": null,
            "grid_template_columns": null,
            "grid_template_rows": null,
            "height": null,
            "justify_content": null,
            "justify_items": null,
            "left": null,
            "margin": null,
            "max_height": null,
            "max_width": null,
            "min_height": null,
            "min_width": null,
            "object_fit": null,
            "object_position": null,
            "order": null,
            "overflow": null,
            "overflow_x": null,
            "overflow_y": null,
            "padding": null,
            "right": null,
            "top": null,
            "visibility": null,
            "width": null
          }
        },
        "ceb803fa02784c8fb17ef1c134c40840": {
          "model_module": "@jupyter-widgets/controls",
          "model_name": "DescriptionStyleModel",
          "model_module_version": "1.5.0",
          "state": {
            "_model_module": "@jupyter-widgets/controls",
            "_model_module_version": "1.5.0",
            "_model_name": "DescriptionStyleModel",
            "_view_count": null,
            "_view_module": "@jupyter-widgets/base",
            "_view_module_version": "1.2.0",
            "_view_name": "StyleView",
            "description_width": ""
          }
        },
        "aef7a4059a4043bba732a44d6d8a23f3": {
          "model_module": "@jupyter-widgets/controls",
          "model_name": "HBoxModel",
          "model_module_version": "1.5.0",
          "state": {
            "_dom_classes": [],
            "_model_module": "@jupyter-widgets/controls",
            "_model_module_version": "1.5.0",
            "_model_name": "HBoxModel",
            "_view_count": null,
            "_view_module": "@jupyter-widgets/controls",
            "_view_module_version": "1.5.0",
            "_view_name": "HBoxView",
            "box_style": "",
            "children": [
              "IPY_MODEL_c74e564ae2b2487aa5337ee54cf76019",
              "IPY_MODEL_fa032da2205d4795bd11ef08bcb60a61",
              "IPY_MODEL_21fe0de19d7f45f087fb4e18eaf749ed"
            ],
            "layout": "IPY_MODEL_2750582191cd407d977f078f0e78f418"
          }
        },
        "c74e564ae2b2487aa5337ee54cf76019": {
          "model_module": "@jupyter-widgets/controls",
          "model_name": "HTMLModel",
          "model_module_version": "1.5.0",
          "state": {
            "_dom_classes": [],
            "_model_module": "@jupyter-widgets/controls",
            "_model_module_version": "1.5.0",
            "_model_name": "HTMLModel",
            "_view_count": null,
            "_view_module": "@jupyter-widgets/controls",
            "_view_module_version": "1.5.0",
            "_view_name": "HTMLView",
            "description": "",
            "description_tooltip": null,
            "layout": "IPY_MODEL_e54d36f02aee4bc785dce725014eb381",
            "placeholder": "​",
            "style": "IPY_MODEL_5c914d46f3a64277985c4628f9cd8fc8",
            "value": "vocab.txt: 100%"
          }
        },
        "fa032da2205d4795bd11ef08bcb60a61": {
          "model_module": "@jupyter-widgets/controls",
          "model_name": "FloatProgressModel",
          "model_module_version": "1.5.0",
          "state": {
            "_dom_classes": [],
            "_model_module": "@jupyter-widgets/controls",
            "_model_module_version": "1.5.0",
            "_model_name": "FloatProgressModel",
            "_view_count": null,
            "_view_module": "@jupyter-widgets/controls",
            "_view_module_version": "1.5.0",
            "_view_name": "ProgressView",
            "bar_style": "success",
            "description": "",
            "description_tooltip": null,
            "layout": "IPY_MODEL_87d4b43e35d349c7ae1442c364414fba",
            "max": 213450,
            "min": 0,
            "orientation": "horizontal",
            "style": "IPY_MODEL_4f6fae71e5ea494f802320a44de814c7",
            "value": 213450
          }
        },
        "21fe0de19d7f45f087fb4e18eaf749ed": {
          "model_module": "@jupyter-widgets/controls",
          "model_name": "HTMLModel",
          "model_module_version": "1.5.0",
          "state": {
            "_dom_classes": [],
            "_model_module": "@jupyter-widgets/controls",
            "_model_module_version": "1.5.0",
            "_model_name": "HTMLModel",
            "_view_count": null,
            "_view_module": "@jupyter-widgets/controls",
            "_view_module_version": "1.5.0",
            "_view_name": "HTMLView",
            "description": "",
            "description_tooltip": null,
            "layout": "IPY_MODEL_6c8c5fe873694c39b0544b287de4da3f",
            "placeholder": "​",
            "style": "IPY_MODEL_61536d990fb546bcb402938e979c2de2",
            "value": " 213k/213k [00:00&lt;00:00, 1.56MB/s]"
          }
        },
        "2750582191cd407d977f078f0e78f418": {
          "model_module": "@jupyter-widgets/base",
          "model_name": "LayoutModel",
          "model_module_version": "1.2.0",
          "state": {
            "_model_module": "@jupyter-widgets/base",
            "_model_module_version": "1.2.0",
            "_model_name": "LayoutModel",
            "_view_count": null,
            "_view_module": "@jupyter-widgets/base",
            "_view_module_version": "1.2.0",
            "_view_name": "LayoutView",
            "align_content": null,
            "align_items": null,
            "align_self": null,
            "border": null,
            "bottom": null,
            "display": null,
            "flex": null,
            "flex_flow": null,
            "grid_area": null,
            "grid_auto_columns": null,
            "grid_auto_flow": null,
            "grid_auto_rows": null,
            "grid_column": null,
            "grid_gap": null,
            "grid_row": null,
            "grid_template_areas": null,
            "grid_template_columns": null,
            "grid_template_rows": null,
            "height": null,
            "justify_content": null,
            "justify_items": null,
            "left": null,
            "margin": null,
            "max_height": null,
            "max_width": null,
            "min_height": null,
            "min_width": null,
            "object_fit": null,
            "object_position": null,
            "order": null,
            "overflow": null,
            "overflow_x": null,
            "overflow_y": null,
            "padding": null,
            "right": null,
            "top": null,
            "visibility": null,
            "width": null
          }
        },
        "e54d36f02aee4bc785dce725014eb381": {
          "model_module": "@jupyter-widgets/base",
          "model_name": "LayoutModel",
          "model_module_version": "1.2.0",
          "state": {
            "_model_module": "@jupyter-widgets/base",
            "_model_module_version": "1.2.0",
            "_model_name": "LayoutModel",
            "_view_count": null,
            "_view_module": "@jupyter-widgets/base",
            "_view_module_version": "1.2.0",
            "_view_name": "LayoutView",
            "align_content": null,
            "align_items": null,
            "align_self": null,
            "border": null,
            "bottom": null,
            "display": null,
            "flex": null,
            "flex_flow": null,
            "grid_area": null,
            "grid_auto_columns": null,
            "grid_auto_flow": null,
            "grid_auto_rows": null,
            "grid_column": null,
            "grid_gap": null,
            "grid_row": null,
            "grid_template_areas": null,
            "grid_template_columns": null,
            "grid_template_rows": null,
            "height": null,
            "justify_content": null,
            "justify_items": null,
            "left": null,
            "margin": null,
            "max_height": null,
            "max_width": null,
            "min_height": null,
            "min_width": null,
            "object_fit": null,
            "object_position": null,
            "order": null,
            "overflow": null,
            "overflow_x": null,
            "overflow_y": null,
            "padding": null,
            "right": null,
            "top": null,
            "visibility": null,
            "width": null
          }
        },
        "5c914d46f3a64277985c4628f9cd8fc8": {
          "model_module": "@jupyter-widgets/controls",
          "model_name": "DescriptionStyleModel",
          "model_module_version": "1.5.0",
          "state": {
            "_model_module": "@jupyter-widgets/controls",
            "_model_module_version": "1.5.0",
            "_model_name": "DescriptionStyleModel",
            "_view_count": null,
            "_view_module": "@jupyter-widgets/base",
            "_view_module_version": "1.2.0",
            "_view_name": "StyleView",
            "description_width": ""
          }
        },
        "87d4b43e35d349c7ae1442c364414fba": {
          "model_module": "@jupyter-widgets/base",
          "model_name": "LayoutModel",
          "model_module_version": "1.2.0",
          "state": {
            "_model_module": "@jupyter-widgets/base",
            "_model_module_version": "1.2.0",
            "_model_name": "LayoutModel",
            "_view_count": null,
            "_view_module": "@jupyter-widgets/base",
            "_view_module_version": "1.2.0",
            "_view_name": "LayoutView",
            "align_content": null,
            "align_items": null,
            "align_self": null,
            "border": null,
            "bottom": null,
            "display": null,
            "flex": null,
            "flex_flow": null,
            "grid_area": null,
            "grid_auto_columns": null,
            "grid_auto_flow": null,
            "grid_auto_rows": null,
            "grid_column": null,
            "grid_gap": null,
            "grid_row": null,
            "grid_template_areas": null,
            "grid_template_columns": null,
            "grid_template_rows": null,
            "height": null,
            "justify_content": null,
            "justify_items": null,
            "left": null,
            "margin": null,
            "max_height": null,
            "max_width": null,
            "min_height": null,
            "min_width": null,
            "object_fit": null,
            "object_position": null,
            "order": null,
            "overflow": null,
            "overflow_x": null,
            "overflow_y": null,
            "padding": null,
            "right": null,
            "top": null,
            "visibility": null,
            "width": null
          }
        },
        "4f6fae71e5ea494f802320a44de814c7": {
          "model_module": "@jupyter-widgets/controls",
          "model_name": "ProgressStyleModel",
          "model_module_version": "1.5.0",
          "state": {
            "_model_module": "@jupyter-widgets/controls",
            "_model_module_version": "1.5.0",
            "_model_name": "ProgressStyleModel",
            "_view_count": null,
            "_view_module": "@jupyter-widgets/base",
            "_view_module_version": "1.2.0",
            "_view_name": "StyleView",
            "bar_color": null,
            "description_width": ""
          }
        },
        "6c8c5fe873694c39b0544b287de4da3f": {
          "model_module": "@jupyter-widgets/base",
          "model_name": "LayoutModel",
          "model_module_version": "1.2.0",
          "state": {
            "_model_module": "@jupyter-widgets/base",
            "_model_module_version": "1.2.0",
            "_model_name": "LayoutModel",
            "_view_count": null,
            "_view_module": "@jupyter-widgets/base",
            "_view_module_version": "1.2.0",
            "_view_name": "LayoutView",
            "align_content": null,
            "align_items": null,
            "align_self": null,
            "border": null,
            "bottom": null,
            "display": null,
            "flex": null,
            "flex_flow": null,
            "grid_area": null,
            "grid_auto_columns": null,
            "grid_auto_flow": null,
            "grid_auto_rows": null,
            "grid_column": null,
            "grid_gap": null,
            "grid_row": null,
            "grid_template_areas": null,
            "grid_template_columns": null,
            "grid_template_rows": null,
            "height": null,
            "justify_content": null,
            "justify_items": null,
            "left": null,
            "margin": null,
            "max_height": null,
            "max_width": null,
            "min_height": null,
            "min_width": null,
            "object_fit": null,
            "object_position": null,
            "order": null,
            "overflow": null,
            "overflow_x": null,
            "overflow_y": null,
            "padding": null,
            "right": null,
            "top": null,
            "visibility": null,
            "width": null
          }
        },
        "61536d990fb546bcb402938e979c2de2": {
          "model_module": "@jupyter-widgets/controls",
          "model_name": "DescriptionStyleModel",
          "model_module_version": "1.5.0",
          "state": {
            "_model_module": "@jupyter-widgets/controls",
            "_model_module_version": "1.5.0",
            "_model_name": "DescriptionStyleModel",
            "_view_count": null,
            "_view_module": "@jupyter-widgets/base",
            "_view_module_version": "1.2.0",
            "_view_name": "StyleView",
            "description_width": ""
          }
        },
        "ef4aaf86104840cda1700852a766055e": {
          "model_module": "@jupyter-widgets/controls",
          "model_name": "HBoxModel",
          "model_module_version": "1.5.0",
          "state": {
            "_dom_classes": [],
            "_model_module": "@jupyter-widgets/controls",
            "_model_module_version": "1.5.0",
            "_model_name": "HBoxModel",
            "_view_count": null,
            "_view_module": "@jupyter-widgets/controls",
            "_view_module_version": "1.5.0",
            "_view_name": "HBoxView",
            "box_style": "",
            "children": [
              "IPY_MODEL_d5064f1cb97b45e3b4a9e40eff1ca6f9",
              "IPY_MODEL_f415114194cb401f99210ff8de1ed33e",
              "IPY_MODEL_809c63f54bd749e687792b06982b90b4"
            ],
            "layout": "IPY_MODEL_016bdb7274f24ea8a7d8cfba11105514"
          }
        },
        "d5064f1cb97b45e3b4a9e40eff1ca6f9": {
          "model_module": "@jupyter-widgets/controls",
          "model_name": "HTMLModel",
          "model_module_version": "1.5.0",
          "state": {
            "_dom_classes": [],
            "_model_module": "@jupyter-widgets/controls",
            "_model_module_version": "1.5.0",
            "_model_name": "HTMLModel",
            "_view_count": null,
            "_view_module": "@jupyter-widgets/controls",
            "_view_module_version": "1.5.0",
            "_view_name": "HTMLView",
            "description": "",
            "description_tooltip": null,
            "layout": "IPY_MODEL_a51270cf05ac48e3bee34a7e20d4186c",
            "placeholder": "​",
            "style": "IPY_MODEL_7a78151b64484798a4ba7b3b44958137",
            "value": "pytorch_model.bin: 100%"
          }
        },
        "f415114194cb401f99210ff8de1ed33e": {
          "model_module": "@jupyter-widgets/controls",
          "model_name": "FloatProgressModel",
          "model_module_version": "1.5.0",
          "state": {
            "_dom_classes": [],
            "_model_module": "@jupyter-widgets/controls",
            "_model_module_version": "1.5.0",
            "_model_name": "FloatProgressModel",
            "_view_count": null,
            "_view_module": "@jupyter-widgets/controls",
            "_view_module_version": "1.5.0",
            "_view_name": "ProgressView",
            "bar_style": "success",
            "description": "",
            "description_tooltip": null,
            "layout": "IPY_MODEL_fe263719a9b14e529c4bc7d63f0bd13d",
            "max": 435778770,
            "min": 0,
            "orientation": "horizontal",
            "style": "IPY_MODEL_ffe97d7c57644de0ab1a635ee03c65cf",
            "value": 435778770
          }
        },
        "809c63f54bd749e687792b06982b90b4": {
          "model_module": "@jupyter-widgets/controls",
          "model_name": "HTMLModel",
          "model_module_version": "1.5.0",
          "state": {
            "_dom_classes": [],
            "_model_module": "@jupyter-widgets/controls",
            "_model_module_version": "1.5.0",
            "_model_name": "HTMLModel",
            "_view_count": null,
            "_view_module": "@jupyter-widgets/controls",
            "_view_module_version": "1.5.0",
            "_view_name": "HTMLView",
            "description": "",
            "description_tooltip": null,
            "layout": "IPY_MODEL_6cfc9a9e043d4ce188aadba5494ab876",
            "placeholder": "​",
            "style": "IPY_MODEL_61e07819656147b888a8420443892498",
            "value": " 436M/436M [00:01&lt;00:00, 255MB/s]"
          }
        },
        "016bdb7274f24ea8a7d8cfba11105514": {
          "model_module": "@jupyter-widgets/base",
          "model_name": "LayoutModel",
          "model_module_version": "1.2.0",
          "state": {
            "_model_module": "@jupyter-widgets/base",
            "_model_module_version": "1.2.0",
            "_model_name": "LayoutModel",
            "_view_count": null,
            "_view_module": "@jupyter-widgets/base",
            "_view_module_version": "1.2.0",
            "_view_name": "LayoutView",
            "align_content": null,
            "align_items": null,
            "align_self": null,
            "border": null,
            "bottom": null,
            "display": null,
            "flex": null,
            "flex_flow": null,
            "grid_area": null,
            "grid_auto_columns": null,
            "grid_auto_flow": null,
            "grid_auto_rows": null,
            "grid_column": null,
            "grid_gap": null,
            "grid_row": null,
            "grid_template_areas": null,
            "grid_template_columns": null,
            "grid_template_rows": null,
            "height": null,
            "justify_content": null,
            "justify_items": null,
            "left": null,
            "margin": null,
            "max_height": null,
            "max_width": null,
            "min_height": null,
            "min_width": null,
            "object_fit": null,
            "object_position": null,
            "order": null,
            "overflow": null,
            "overflow_x": null,
            "overflow_y": null,
            "padding": null,
            "right": null,
            "top": null,
            "visibility": null,
            "width": null
          }
        },
        "a51270cf05ac48e3bee34a7e20d4186c": {
          "model_module": "@jupyter-widgets/base",
          "model_name": "LayoutModel",
          "model_module_version": "1.2.0",
          "state": {
            "_model_module": "@jupyter-widgets/base",
            "_model_module_version": "1.2.0",
            "_model_name": "LayoutModel",
            "_view_count": null,
            "_view_module": "@jupyter-widgets/base",
            "_view_module_version": "1.2.0",
            "_view_name": "LayoutView",
            "align_content": null,
            "align_items": null,
            "align_self": null,
            "border": null,
            "bottom": null,
            "display": null,
            "flex": null,
            "flex_flow": null,
            "grid_area": null,
            "grid_auto_columns": null,
            "grid_auto_flow": null,
            "grid_auto_rows": null,
            "grid_column": null,
            "grid_gap": null,
            "grid_row": null,
            "grid_template_areas": null,
            "grid_template_columns": null,
            "grid_template_rows": null,
            "height": null,
            "justify_content": null,
            "justify_items": null,
            "left": null,
            "margin": null,
            "max_height": null,
            "max_width": null,
            "min_height": null,
            "min_width": null,
            "object_fit": null,
            "object_position": null,
            "order": null,
            "overflow": null,
            "overflow_x": null,
            "overflow_y": null,
            "padding": null,
            "right": null,
            "top": null,
            "visibility": null,
            "width": null
          }
        },
        "7a78151b64484798a4ba7b3b44958137": {
          "model_module": "@jupyter-widgets/controls",
          "model_name": "DescriptionStyleModel",
          "model_module_version": "1.5.0",
          "state": {
            "_model_module": "@jupyter-widgets/controls",
            "_model_module_version": "1.5.0",
            "_model_name": "DescriptionStyleModel",
            "_view_count": null,
            "_view_module": "@jupyter-widgets/base",
            "_view_module_version": "1.2.0",
            "_view_name": "StyleView",
            "description_width": ""
          }
        },
        "fe263719a9b14e529c4bc7d63f0bd13d": {
          "model_module": "@jupyter-widgets/base",
          "model_name": "LayoutModel",
          "model_module_version": "1.2.0",
          "state": {
            "_model_module": "@jupyter-widgets/base",
            "_model_module_version": "1.2.0",
            "_model_name": "LayoutModel",
            "_view_count": null,
            "_view_module": "@jupyter-widgets/base",
            "_view_module_version": "1.2.0",
            "_view_name": "LayoutView",
            "align_content": null,
            "align_items": null,
            "align_self": null,
            "border": null,
            "bottom": null,
            "display": null,
            "flex": null,
            "flex_flow": null,
            "grid_area": null,
            "grid_auto_columns": null,
            "grid_auto_flow": null,
            "grid_auto_rows": null,
            "grid_column": null,
            "grid_gap": null,
            "grid_row": null,
            "grid_template_areas": null,
            "grid_template_columns": null,
            "grid_template_rows": null,
            "height": null,
            "justify_content": null,
            "justify_items": null,
            "left": null,
            "margin": null,
            "max_height": null,
            "max_width": null,
            "min_height": null,
            "min_width": null,
            "object_fit": null,
            "object_position": null,
            "order": null,
            "overflow": null,
            "overflow_x": null,
            "overflow_y": null,
            "padding": null,
            "right": null,
            "top": null,
            "visibility": null,
            "width": null
          }
        },
        "ffe97d7c57644de0ab1a635ee03c65cf": {
          "model_module": "@jupyter-widgets/controls",
          "model_name": "ProgressStyleModel",
          "model_module_version": "1.5.0",
          "state": {
            "_model_module": "@jupyter-widgets/controls",
            "_model_module_version": "1.5.0",
            "_model_name": "ProgressStyleModel",
            "_view_count": null,
            "_view_module": "@jupyter-widgets/base",
            "_view_module_version": "1.2.0",
            "_view_name": "StyleView",
            "bar_color": null,
            "description_width": ""
          }
        },
        "6cfc9a9e043d4ce188aadba5494ab876": {
          "model_module": "@jupyter-widgets/base",
          "model_name": "LayoutModel",
          "model_module_version": "1.2.0",
          "state": {
            "_model_module": "@jupyter-widgets/base",
            "_model_module_version": "1.2.0",
            "_model_name": "LayoutModel",
            "_view_count": null,
            "_view_module": "@jupyter-widgets/base",
            "_view_module_version": "1.2.0",
            "_view_name": "LayoutView",
            "align_content": null,
            "align_items": null,
            "align_self": null,
            "border": null,
            "bottom": null,
            "display": null,
            "flex": null,
            "flex_flow": null,
            "grid_area": null,
            "grid_auto_columns": null,
            "grid_auto_flow": null,
            "grid_auto_rows": null,
            "grid_column": null,
            "grid_gap": null,
            "grid_row": null,
            "grid_template_areas": null,
            "grid_template_columns": null,
            "grid_template_rows": null,
            "height": null,
            "justify_content": null,
            "justify_items": null,
            "left": null,
            "margin": null,
            "max_height": null,
            "max_width": null,
            "min_height": null,
            "min_width": null,
            "object_fit": null,
            "object_position": null,
            "order": null,
            "overflow": null,
            "overflow_x": null,
            "overflow_y": null,
            "padding": null,
            "right": null,
            "top": null,
            "visibility": null,
            "width": null
          }
        },
        "61e07819656147b888a8420443892498": {
          "model_module": "@jupyter-widgets/controls",
          "model_name": "DescriptionStyleModel",
          "model_module_version": "1.5.0",
          "state": {
            "_model_module": "@jupyter-widgets/controls",
            "_model_module_version": "1.5.0",
            "_model_name": "DescriptionStyleModel",
            "_view_count": null,
            "_view_module": "@jupyter-widgets/base",
            "_view_module_version": "1.2.0",
            "_view_name": "StyleView",
            "description_width": ""
          }
        },
        "111b8911a95c4553acc85cb4af6b0002": {
          "model_module": "@jupyter-widgets/controls",
          "model_name": "HBoxModel",
          "model_module_version": "1.5.0",
          "state": {
            "_dom_classes": [],
            "_model_module": "@jupyter-widgets/controls",
            "_model_module_version": "1.5.0",
            "_model_name": "HBoxModel",
            "_view_count": null,
            "_view_module": "@jupyter-widgets/controls",
            "_view_module_version": "1.5.0",
            "_view_name": "HBoxView",
            "box_style": "",
            "children": [
              "IPY_MODEL_cb486df011a94c28a211675d76dc619c",
              "IPY_MODEL_758f673b30fc479dbbb1071849a97c05",
              "IPY_MODEL_eb5521e61bb34e2dbf6a0c328253b636"
            ],
            "layout": "IPY_MODEL_196705cd2e224857b0f1bd661e71281c"
          }
        },
        "cb486df011a94c28a211675d76dc619c": {
          "model_module": "@jupyter-widgets/controls",
          "model_name": "HTMLModel",
          "model_module_version": "1.5.0",
          "state": {
            "_dom_classes": [],
            "_model_module": "@jupyter-widgets/controls",
            "_model_module_version": "1.5.0",
            "_model_name": "HTMLModel",
            "_view_count": null,
            "_view_module": "@jupyter-widgets/controls",
            "_view_module_version": "1.5.0",
            "_view_name": "HTMLView",
            "description": "",
            "description_tooltip": null,
            "layout": "IPY_MODEL_2e8af04f67e44d849a741312ffc5a035",
            "placeholder": "​",
            "style": "IPY_MODEL_54abcad2bf8842d6a0506db170877b35",
            "value": "Training:   0%"
          }
        },
        "758f673b30fc479dbbb1071849a97c05": {
          "model_module": "@jupyter-widgets/controls",
          "model_name": "FloatProgressModel",
          "model_module_version": "1.5.0",
          "state": {
            "_dom_classes": [],
            "_model_module": "@jupyter-widgets/controls",
            "_model_module_version": "1.5.0",
            "_model_name": "FloatProgressModel",
            "_view_count": null,
            "_view_module": "@jupyter-widgets/controls",
            "_view_module_version": "1.5.0",
            "_view_name": "ProgressView",
            "bar_style": "danger",
            "description": "",
            "description_tooltip": null,
            "layout": "IPY_MODEL_36cb9fa5c9d6472da647c3fc20e94b34",
            "max": 250,
            "min": 0,
            "orientation": "horizontal",
            "style": "IPY_MODEL_3c9c9346fbf84c3788271b967ab7486d",
            "value": 0
          }
        },
        "eb5521e61bb34e2dbf6a0c328253b636": {
          "model_module": "@jupyter-widgets/controls",
          "model_name": "HTMLModel",
          "model_module_version": "1.5.0",
          "state": {
            "_dom_classes": [],
            "_model_module": "@jupyter-widgets/controls",
            "_model_module_version": "1.5.0",
            "_model_name": "HTMLModel",
            "_view_count": null,
            "_view_module": "@jupyter-widgets/controls",
            "_view_module_version": "1.5.0",
            "_view_name": "HTMLView",
            "description": "",
            "description_tooltip": null,
            "layout": "IPY_MODEL_de74f666789148dc82c5d533face174f",
            "placeholder": "​",
            "style": "IPY_MODEL_b8eac272da73443da8cb22ecbcf8882b",
            "value": " 0/250 [00:06&lt;?, ?it/s]"
          }
        },
        "196705cd2e224857b0f1bd661e71281c": {
          "model_module": "@jupyter-widgets/base",
          "model_name": "LayoutModel",
          "model_module_version": "1.2.0",
          "state": {
            "_model_module": "@jupyter-widgets/base",
            "_model_module_version": "1.2.0",
            "_model_name": "LayoutModel",
            "_view_count": null,
            "_view_module": "@jupyter-widgets/base",
            "_view_module_version": "1.2.0",
            "_view_name": "LayoutView",
            "align_content": null,
            "align_items": null,
            "align_self": null,
            "border": null,
            "bottom": null,
            "display": null,
            "flex": null,
            "flex_flow": null,
            "grid_area": null,
            "grid_auto_columns": null,
            "grid_auto_flow": null,
            "grid_auto_rows": null,
            "grid_column": null,
            "grid_gap": null,
            "grid_row": null,
            "grid_template_areas": null,
            "grid_template_columns": null,
            "grid_template_rows": null,
            "height": null,
            "justify_content": null,
            "justify_items": null,
            "left": null,
            "margin": null,
            "max_height": null,
            "max_width": null,
            "min_height": null,
            "min_width": null,
            "object_fit": null,
            "object_position": null,
            "order": null,
            "overflow": null,
            "overflow_x": null,
            "overflow_y": null,
            "padding": null,
            "right": null,
            "top": null,
            "visibility": null,
            "width": null
          }
        },
        "2e8af04f67e44d849a741312ffc5a035": {
          "model_module": "@jupyter-widgets/base",
          "model_name": "LayoutModel",
          "model_module_version": "1.2.0",
          "state": {
            "_model_module": "@jupyter-widgets/base",
            "_model_module_version": "1.2.0",
            "_model_name": "LayoutModel",
            "_view_count": null,
            "_view_module": "@jupyter-widgets/base",
            "_view_module_version": "1.2.0",
            "_view_name": "LayoutView",
            "align_content": null,
            "align_items": null,
            "align_self": null,
            "border": null,
            "bottom": null,
            "display": null,
            "flex": null,
            "flex_flow": null,
            "grid_area": null,
            "grid_auto_columns": null,
            "grid_auto_flow": null,
            "grid_auto_rows": null,
            "grid_column": null,
            "grid_gap": null,
            "grid_row": null,
            "grid_template_areas": null,
            "grid_template_columns": null,
            "grid_template_rows": null,
            "height": null,
            "justify_content": null,
            "justify_items": null,
            "left": null,
            "margin": null,
            "max_height": null,
            "max_width": null,
            "min_height": null,
            "min_width": null,
            "object_fit": null,
            "object_position": null,
            "order": null,
            "overflow": null,
            "overflow_x": null,
            "overflow_y": null,
            "padding": null,
            "right": null,
            "top": null,
            "visibility": null,
            "width": null
          }
        },
        "54abcad2bf8842d6a0506db170877b35": {
          "model_module": "@jupyter-widgets/controls",
          "model_name": "DescriptionStyleModel",
          "model_module_version": "1.5.0",
          "state": {
            "_model_module": "@jupyter-widgets/controls",
            "_model_module_version": "1.5.0",
            "_model_name": "DescriptionStyleModel",
            "_view_count": null,
            "_view_module": "@jupyter-widgets/base",
            "_view_module_version": "1.2.0",
            "_view_name": "StyleView",
            "description_width": ""
          }
        },
        "36cb9fa5c9d6472da647c3fc20e94b34": {
          "model_module": "@jupyter-widgets/base",
          "model_name": "LayoutModel",
          "model_module_version": "1.2.0",
          "state": {
            "_model_module": "@jupyter-widgets/base",
            "_model_module_version": "1.2.0",
            "_model_name": "LayoutModel",
            "_view_count": null,
            "_view_module": "@jupyter-widgets/base",
            "_view_module_version": "1.2.0",
            "_view_name": "LayoutView",
            "align_content": null,
            "align_items": null,
            "align_self": null,
            "border": null,
            "bottom": null,
            "display": null,
            "flex": null,
            "flex_flow": null,
            "grid_area": null,
            "grid_auto_columns": null,
            "grid_auto_flow": null,
            "grid_auto_rows": null,
            "grid_column": null,
            "grid_gap": null,
            "grid_row": null,
            "grid_template_areas": null,
            "grid_template_columns": null,
            "grid_template_rows": null,
            "height": null,
            "justify_content": null,
            "justify_items": null,
            "left": null,
            "margin": null,
            "max_height": null,
            "max_width": null,
            "min_height": null,
            "min_width": null,
            "object_fit": null,
            "object_position": null,
            "order": null,
            "overflow": null,
            "overflow_x": null,
            "overflow_y": null,
            "padding": null,
            "right": null,
            "top": null,
            "visibility": null,
            "width": null
          }
        },
        "3c9c9346fbf84c3788271b967ab7486d": {
          "model_module": "@jupyter-widgets/controls",
          "model_name": "ProgressStyleModel",
          "model_module_version": "1.5.0",
          "state": {
            "_model_module": "@jupyter-widgets/controls",
            "_model_module_version": "1.5.0",
            "_model_name": "ProgressStyleModel",
            "_view_count": null,
            "_view_module": "@jupyter-widgets/base",
            "_view_module_version": "1.2.0",
            "_view_name": "StyleView",
            "bar_color": null,
            "description_width": ""
          }
        },
        "de74f666789148dc82c5d533face174f": {
          "model_module": "@jupyter-widgets/base",
          "model_name": "LayoutModel",
          "model_module_version": "1.2.0",
          "state": {
            "_model_module": "@jupyter-widgets/base",
            "_model_module_version": "1.2.0",
            "_model_name": "LayoutModel",
            "_view_count": null,
            "_view_module": "@jupyter-widgets/base",
            "_view_module_version": "1.2.0",
            "_view_name": "LayoutView",
            "align_content": null,
            "align_items": null,
            "align_self": null,
            "border": null,
            "bottom": null,
            "display": null,
            "flex": null,
            "flex_flow": null,
            "grid_area": null,
            "grid_auto_columns": null,
            "grid_auto_flow": null,
            "grid_auto_rows": null,
            "grid_column": null,
            "grid_gap": null,
            "grid_row": null,
            "grid_template_areas": null,
            "grid_template_columns": null,
            "grid_template_rows": null,
            "height": null,
            "justify_content": null,
            "justify_items": null,
            "left": null,
            "margin": null,
            "max_height": null,
            "max_width": null,
            "min_height": null,
            "min_width": null,
            "object_fit": null,
            "object_position": null,
            "order": null,
            "overflow": null,
            "overflow_x": null,
            "overflow_y": null,
            "padding": null,
            "right": null,
            "top": null,
            "visibility": null,
            "width": null
          }
        },
        "b8eac272da73443da8cb22ecbcf8882b": {
          "model_module": "@jupyter-widgets/controls",
          "model_name": "DescriptionStyleModel",
          "model_module_version": "1.5.0",
          "state": {
            "_model_module": "@jupyter-widgets/controls",
            "_model_module_version": "1.5.0",
            "_model_name": "DescriptionStyleModel",
            "_view_count": null,
            "_view_module": "@jupyter-widgets/base",
            "_view_module_version": "1.2.0",
            "_view_name": "StyleView",
            "description_width": ""
          }
        }
      }
    },
    "accelerator": "GPU"
  },
  "cells": [
    {
      "cell_type": "markdown",
      "source": [
        "# Main Thesis Topic: “Zero-shot classification of ECG signals using CLIP-like model”.\n",
        "\n",
        "**For example: Train on PBT-XL:**\n",
        "\n",
        "- Text Encoder: ClinicalBERT (trained on diagnoses of ECG signal to obtain corresponding embeddings)\n",
        "- Image Encoder: 1D-CNN (used to encode ECG signal to obtain signal embeddings)\n",
        "\n",
        "- Experiment A): Baseline: We can take only the name of the class. For example, take “Myocardial Infarction” as a text. We should exclude some classes from training and after training is completed, the CLIP-like model can be tested on these excluded classes.\n",
        "    - Next, we get embeddings of text from ClinicalBERT and train the ECG encoder with contrastive loss.\n",
        "\n",
        "- Experiment B): Same as Experiment A but instead of testing on the same dataset/classes, we would test on other datasets containing different classes.\n",
        "\n",
        "**Evaluation metrics:**\n",
        "- Main: AUC-ROC, average_precison_score,\n",
        "- Optional: Specificity, Sensitivity, F1-score\n",
        "\n",
        "**Outcome:**\n",
        "- It’s possible to train CLIP-like models with freezed (or unchanged/not fine tuned for downstream tasks) text encoder\n",
        "- Training ECG encoders that are viable for representing different domains (within ECG modality) and previously unseen classes.\n",
        "- Training a CLIP-like model on ECGs has little novelty."
      ],
      "metadata": {
        "id": "vxUWRxQ6kpv6"
      }
    },
    {
      "cell_type": "markdown",
      "source": [
        "First, we preprocess the ECG data from the PhysioNet 2021 challenge dataset. This data will be loaded using the ```PhysioNetDataset``` class."
      ],
      "metadata": {
        "id": "tpU_QkJbkphl"
      }
    },
    {
      "cell_type": "code",
      "source": [
        "pip install transformers"
      ],
      "metadata": {
        "colab": {
          "base_uri": "https://localhost:8080/"
        },
        "id": "7ZsYg-ijm_SZ",
        "outputId": "b415f11e-ad5c-4c34-ebcc-61500658c48e"
      },
      "execution_count": 1,
      "outputs": [
        {
          "output_type": "stream",
          "name": "stdout",
          "text": [
            "Requirement already satisfied: transformers in /usr/local/lib/python3.10/dist-packages (4.35.2)\n",
            "Requirement already satisfied: filelock in /usr/local/lib/python3.10/dist-packages (from transformers) (3.13.1)\n",
            "Requirement already satisfied: huggingface-hub<1.0,>=0.16.4 in /usr/local/lib/python3.10/dist-packages (from transformers) (0.19.4)\n",
            "Requirement already satisfied: numpy>=1.17 in /usr/local/lib/python3.10/dist-packages (from transformers) (1.23.5)\n",
            "Requirement already satisfied: packaging>=20.0 in /usr/local/lib/python3.10/dist-packages (from transformers) (23.2)\n",
            "Requirement already satisfied: pyyaml>=5.1 in /usr/local/lib/python3.10/dist-packages (from transformers) (6.0.1)\n",
            "Requirement already satisfied: regex!=2019.12.17 in /usr/local/lib/python3.10/dist-packages (from transformers) (2023.6.3)\n",
            "Requirement already satisfied: requests in /usr/local/lib/python3.10/dist-packages (from transformers) (2.31.0)\n",
            "Requirement already satisfied: tokenizers<0.19,>=0.14 in /usr/local/lib/python3.10/dist-packages (from transformers) (0.15.0)\n",
            "Requirement already satisfied: safetensors>=0.3.1 in /usr/local/lib/python3.10/dist-packages (from transformers) (0.4.0)\n",
            "Requirement already satisfied: tqdm>=4.27 in /usr/local/lib/python3.10/dist-packages (from transformers) (4.66.1)\n",
            "Requirement already satisfied: fsspec>=2023.5.0 in /usr/local/lib/python3.10/dist-packages (from huggingface-hub<1.0,>=0.16.4->transformers) (2023.6.0)\n",
            "Requirement already satisfied: typing-extensions>=3.7.4.3 in /usr/local/lib/python3.10/dist-packages (from huggingface-hub<1.0,>=0.16.4->transformers) (4.5.0)\n",
            "Requirement already satisfied: charset-normalizer<4,>=2 in /usr/local/lib/python3.10/dist-packages (from requests->transformers) (3.3.2)\n",
            "Requirement already satisfied: idna<4,>=2.5 in /usr/local/lib/python3.10/dist-packages (from requests->transformers) (3.4)\n",
            "Requirement already satisfied: urllib3<3,>=1.21.1 in /usr/local/lib/python3.10/dist-packages (from requests->transformers) (2.0.7)\n",
            "Requirement already satisfied: certifi>=2017.4.17 in /usr/local/lib/python3.10/dist-packages (from requests->transformers) (2023.7.22)\n"
          ]
        }
      ]
    },
    {
      "cell_type": "code",
      "execution_count": 2,
      "metadata": {
        "id": "DESjsMD6msly"
      },
      "outputs": [],
      "source": [
        "import os\n",
        "import numpy as np\n",
        "import pandas as pd\n",
        "import matplotlib.pyplot as plt\n",
        "import sys\n",
        "import random\n",
        "from tqdm import tqdm\n",
        "from scipy.signal import resample\n",
        "import torch\n",
        "from transformers import AutoTokenizer, AutoModel\n",
        "import ast\n",
        "import scipy.io as sio\n",
        "from torch.utils.data import random_split\n",
        "from torch.nn.functional import cosine_similarity"
      ]
    },
    {
      "cell_type": "code",
      "source": [
        "import torch\n",
        "import torch.nn as nn"
      ],
      "metadata": {
        "id": "GhwddqKonGjj"
      },
      "execution_count": 3,
      "outputs": []
    },
    {
      "cell_type": "code",
      "source": [
        "from google.colab import drive\n",
        "drive.mount('/content/drive')"
      ],
      "metadata": {
        "colab": {
          "base_uri": "https://localhost:8080/"
        },
        "id": "-gf6SqxvnLe_",
        "outputId": "fb5498c8-b80d-4271-a817-635a55079bdb"
      },
      "execution_count": 4,
      "outputs": [
        {
          "output_type": "stream",
          "name": "stdout",
          "text": [
            "Mounted at /content/drive\n"
          ]
        }
      ]
    },
    {
      "cell_type": "code",
      "source": [
        "PyFiles_PATH = '/content/drive/MyDrive/ECG Project (Shared Folder)/PyFiles'\n",
        "PyFiles_PATH"
      ],
      "metadata": {
        "colab": {
          "base_uri": "https://localhost:8080/",
          "height": 35
        },
        "id": "bjmTccPIlRw_",
        "outputId": "649f4ddb-9b02-4a20-b050-81bdb09cb466"
      },
      "execution_count": 5,
      "outputs": [
        {
          "output_type": "execute_result",
          "data": {
            "text/plain": [
              "'/content/drive/MyDrive/ECG Project (Shared Folder)/PyFiles'"
            ],
            "application/vnd.google.colaboratory.intrinsic+json": {
              "type": "string"
            }
          },
          "metadata": {},
          "execution_count": 5
        }
      ]
    },
    {
      "cell_type": "code",
      "source": [
        "sys.path.append(PyFiles_PATH)"
      ],
      "metadata": {
        "id": "YMFCo5Dhodod"
      },
      "execution_count": 6,
      "outputs": []
    },
    {
      "cell_type": "code",
      "source": [
        "from helper_functions import *\n",
        "from dataset import PhysioNetDataset"
      ],
      "metadata": {
        "id": "2PTBgxoVoftS"
      },
      "execution_count": 7,
      "outputs": []
    },
    {
      "cell_type": "code",
      "source": [
        "# Path to training folder within PhysioNet dataset\n",
        "PhysioNet_PATH = '/content/drive/MyDrive/ECG Project (Shared Folder)/Datasets/physionet.org/files/challenge-2021/1.0.3/training'\n",
        "PhysioNet_PATH"
      ],
      "metadata": {
        "colab": {
          "base_uri": "https://localhost:8080/",
          "height": 35
        },
        "id": "HVG29MIEntWY",
        "outputId": "cd3850f4-81c9-4320-a0c6-fd9c3ca0e8fd"
      },
      "execution_count": 8,
      "outputs": [
        {
          "output_type": "execute_result",
          "data": {
            "text/plain": [
              "'/content/drive/MyDrive/ECG Project (Shared Folder)/Datasets/physionet.org/files/challenge-2021/1.0.3/training'"
            ],
            "application/vnd.google.colaboratory.intrinsic+json": {
              "type": "string"
            }
          },
          "metadata": {},
          "execution_count": 8
        }
      ]
    },
    {
      "cell_type": "markdown",
      "source": [
        "Using the ```PhysioNet_PATH```, we can create separate datasets for training, testing & validation.\n",
        "\n",
        "# Stage 1: Data Preprocessing\n",
        "\n",
        "- train_set (train & validation data)\n",
        "- test_set (test data)"
      ],
      "metadata": {
        "id": "gFKRs4iWlBIf"
      }
    },
    {
      "cell_type": "markdown",
      "source": [
        "Google CPU is quite slow when processing the for-loops below so if you have a decent CPU, you can try connecting to local run time via Jupyter Lab for this portion of the pipeline only.\n",
        "\n",
        "```\n",
        "jupyter notebook --NotebookApp.allow_origin='https://colab.research.google.com' --port=8888 --NotebookApp.port_retries=0\n",
        "```"
      ],
      "metadata": {
        "id": "EhiS24jQyxbl"
      }
    },
    {
      "cell_type": "code",
      "source": [
        "train_set = PhysioNetDataset(PhysioNet_PATH, train=True)\n",
        "test_set = PhysioNetDataset(PhysioNet_PATH, train=False)\n",
        "\n",
        "len(train_set), len(test_set)"
      ],
      "metadata": {
        "id": "YjAdGhswomFf",
        "colab": {
          "base_uri": "https://localhost:8080/"
        },
        "outputId": "55218414-824e-4f59-c50e-af6f61d1984c"
      },
      "execution_count": 9,
      "outputs": [
        {
          "output_type": "execute_result",
          "data": {
            "text/plain": [
              "(66167, 22352)"
            ]
          },
          "metadata": {},
          "execution_count": 9
        }
      ]
    },
    {
      "cell_type": "markdown",
      "source": [
        "The ```train_set``` can be split into ```current_train``` (85%) and ```current_val``` (15%)."
      ],
      "metadata": {
        "id": "ImDPWQaxlgac"
      }
    },
    {
      "cell_type": "code",
      "source": [
        "# Set the seed for the random number generator\n",
        "torch.manual_seed(0)\n",
        "\n",
        "# Get the length of the train_set\n",
        "length = len(train_set)\n",
        "\n",
        "# Calculate the lengths of the splits\n",
        "train_length = int(0.85 * length)\n",
        "val_length = length - train_length\n",
        "\n",
        "# Split the dataset\n",
        "current_train, current_val = random_split(train_set, [train_length, val_length])"
      ],
      "metadata": {
        "id": "L7Jt6d0hlg_X"
      },
      "execution_count": 10,
      "outputs": []
    },
    {
      "cell_type": "markdown",
      "source": [
        "The next step is to extract the header data for ```current_train```, ```current_val```, and ```test_set``` and save the data to a csv file."
      ],
      "metadata": {
        "id": "3yZBQHe7m01q"
      }
    },
    {
      "cell_type": "markdown",
      "source": [
        "## current_train"
      ],
      "metadata": {
        "id": "Ui4Vskipm2rl"
      }
    },
    {
      "cell_type": "code",
      "source": [
        "# Initialize an empty list to store the records\n",
        "records = []\n",
        "\n",
        "# Iterate over all records\n",
        "for i in tqdm(range(len(current_train)), desc=\"Processing records\"):\n",
        "    record, _ = current_train[i]  # Get the record (ignore the ECG data for now)\n",
        "\n",
        "    # Flatten the 'leads_info' list into separate columns for each lead\n",
        "    for j, lead_info in enumerate(record['leads_info']):\n",
        "        for key, value in lead_info.items():\n",
        "            record[f'lead_{j}_{key}'] = value\n",
        "    del record['leads_info']  # We don't need the 'leads_info' list anymore\n",
        "\n",
        "    # Append the record to the list\n",
        "    records.append(record)\n",
        "\n",
        "# Convert the list of records into a DataFrame\n",
        "df = pd.DataFrame(records)\n",
        "\n",
        "# Save the DataFrame to a CSV file\n",
        "df.to_csv('train_set_records.csv', index=False)\n",
        "\n",
        "print(f\"Processed {len(records)} records.\")"
      ],
      "metadata": {
        "id": "UzVf5z0bm0b_"
      },
      "execution_count": null,
      "outputs": []
    },
    {
      "cell_type": "markdown",
      "source": [
        "## current_val"
      ],
      "metadata": {
        "id": "bU7dksHSm4uL"
      }
    },
    {
      "cell_type": "code",
      "source": [
        "# Initialize an empty list to store the records\n",
        "records = []\n",
        "\n",
        "# Iterate over all records\n",
        "for i in tqdm(range(len(current_val)), desc=\"Processing records\"):\n",
        "    record, _ = current_val[i]  # Get the record (ignore the ECG data for now)\n",
        "\n",
        "    # Flatten the 'leads_info' list into separate columns for each lead\n",
        "    for j, lead_info in enumerate(record['leads_info']):\n",
        "        for key, value in lead_info.items():\n",
        "            record[f'lead_{j}_{key}'] = value\n",
        "    del record['leads_info']  # We don't need the 'leads_info' list anymore\n",
        "\n",
        "    # Append the record to the list\n",
        "    records.append(record)\n",
        "\n",
        "# Convert the list of records into a DataFrame\n",
        "df = pd.DataFrame(records)\n",
        "\n",
        "# Save the DataFrame to a CSV file\n",
        "df.to_csv('val_set_records.csv', index=False)\n",
        "\n",
        "print(f\"Processed {len(records)} records.\")"
      ],
      "metadata": {
        "id": "6W6EKIsOnaP4"
      },
      "execution_count": null,
      "outputs": []
    },
    {
      "cell_type": "markdown",
      "source": [
        "## test_set"
      ],
      "metadata": {
        "id": "B0rXO4Mincrj"
      }
    },
    {
      "cell_type": "code",
      "source": [
        "# Initialize an empty list to store the records\n",
        "records = []\n",
        "\n",
        "# Iterate over all records\n",
        "for i in tqdm(range(len(test_set)), desc=\"Processing records\"):\n",
        "    record, _ = test_set[i]  # Get the record (ignore the ECG data for now)\n",
        "\n",
        "    # Flatten the 'leads_info' list into separate columns for each lead\n",
        "    for j, lead_info in enumerate(record['leads_info']):\n",
        "        for key, value in lead_info.items():\n",
        "            record[f'lead_{j}_{key}'] = value\n",
        "    del record['leads_info']  # We don't need the 'leads_info' list anymore\n",
        "\n",
        "    # Append the record to the list\n",
        "    records.append(record)\n",
        "\n",
        "# Convert the list of records into a DataFrame\n",
        "df = pd.DataFrame(records)\n",
        "\n",
        "# Save the DataFrame to a CSV file\n",
        "df.to_csv('test_set_records.csv', index=False)\n",
        "\n",
        "print(f\"Processed {len(records)} records.\")"
      ],
      "metadata": {
        "id": "mocbQyaNneSO"
      },
      "execution_count": null,
      "outputs": []
    },
    {
      "cell_type": "markdown",
      "source": [
        "Now that the header data has been extracted and saved to csv files, we can map the corresponding SNOWMED-CT code to the csv files too."
      ],
      "metadata": {
        "id": "c7gnW04RnkU5"
      }
    },
    {
      "cell_type": "markdown",
      "source": [
        "First, let's load the SNOWMED-CT mappings:"
      ],
      "metadata": {
        "id": "aGWgmmqmnkSV"
      }
    },
    {
      "cell_type": "code",
      "source": [
        "smowmed_mappings_path = '/content/drive/MyDrive/ECG Project (Shared Folder)/Data/SNOWMED-CT Codes/combined_mappings.csv'\n",
        "\n",
        "# Load the SNOMED-CT mappings\n",
        "smowmed_mappings = pd.read_csv(smowmed_mappings_path)\n",
        "smowmed_mappings.head(2)"
      ],
      "metadata": {
        "id": "_b5vXD9TnoI2",
        "colab": {
          "base_uri": "https://localhost:8080/",
          "height": 112
        },
        "outputId": "2e9e3179-b709-4237-bc2c-082ca414384d"
      },
      "execution_count": 11,
      "outputs": [
        {
          "output_type": "execute_result",
          "data": {
            "text/plain": [
              "                    Dx  SNOMEDCTCode Abbreviation  CPSC  CPSC_Extra  \\\n",
              "0  atrial fibrillation     164889003           AF  1221         153   \n",
              "1       atrial flutter     164890007          AFL     0          54   \n",
              "\n",
              "   StPetersburg  PTB  PTB_XL  Georgia  Chapman_Shaoxing  Ningbo  Total Notes  \n",
              "0             2   15    1514      570              1780       0   5255   NaN  \n",
              "1             0    1      73      186               445    7615   8374   NaN  "
            ],
            "text/html": [
              "\n",
              "  <div id=\"df-e1647e72-f5a8-49b1-ba02-a8fdd5cc7a41\" class=\"colab-df-container\">\n",
              "    <div>\n",
              "<style scoped>\n",
              "    .dataframe tbody tr th:only-of-type {\n",
              "        vertical-align: middle;\n",
              "    }\n",
              "\n",
              "    .dataframe tbody tr th {\n",
              "        vertical-align: top;\n",
              "    }\n",
              "\n",
              "    .dataframe thead th {\n",
              "        text-align: right;\n",
              "    }\n",
              "</style>\n",
              "<table border=\"1\" class=\"dataframe\">\n",
              "  <thead>\n",
              "    <tr style=\"text-align: right;\">\n",
              "      <th></th>\n",
              "      <th>Dx</th>\n",
              "      <th>SNOMEDCTCode</th>\n",
              "      <th>Abbreviation</th>\n",
              "      <th>CPSC</th>\n",
              "      <th>CPSC_Extra</th>\n",
              "      <th>StPetersburg</th>\n",
              "      <th>PTB</th>\n",
              "      <th>PTB_XL</th>\n",
              "      <th>Georgia</th>\n",
              "      <th>Chapman_Shaoxing</th>\n",
              "      <th>Ningbo</th>\n",
              "      <th>Total</th>\n",
              "      <th>Notes</th>\n",
              "    </tr>\n",
              "  </thead>\n",
              "  <tbody>\n",
              "    <tr>\n",
              "      <th>0</th>\n",
              "      <td>atrial fibrillation</td>\n",
              "      <td>164889003</td>\n",
              "      <td>AF</td>\n",
              "      <td>1221</td>\n",
              "      <td>153</td>\n",
              "      <td>2</td>\n",
              "      <td>15</td>\n",
              "      <td>1514</td>\n",
              "      <td>570</td>\n",
              "      <td>1780</td>\n",
              "      <td>0</td>\n",
              "      <td>5255</td>\n",
              "      <td>NaN</td>\n",
              "    </tr>\n",
              "    <tr>\n",
              "      <th>1</th>\n",
              "      <td>atrial flutter</td>\n",
              "      <td>164890007</td>\n",
              "      <td>AFL</td>\n",
              "      <td>0</td>\n",
              "      <td>54</td>\n",
              "      <td>0</td>\n",
              "      <td>1</td>\n",
              "      <td>73</td>\n",
              "      <td>186</td>\n",
              "      <td>445</td>\n",
              "      <td>7615</td>\n",
              "      <td>8374</td>\n",
              "      <td>NaN</td>\n",
              "    </tr>\n",
              "  </tbody>\n",
              "</table>\n",
              "</div>\n",
              "    <div class=\"colab-df-buttons\">\n",
              "\n",
              "  <div class=\"colab-df-container\">\n",
              "    <button class=\"colab-df-convert\" onclick=\"convertToInteractive('df-e1647e72-f5a8-49b1-ba02-a8fdd5cc7a41')\"\n",
              "            title=\"Convert this dataframe to an interactive table.\"\n",
              "            style=\"display:none;\">\n",
              "\n",
              "  <svg xmlns=\"http://www.w3.org/2000/svg\" height=\"24px\" viewBox=\"0 -960 960 960\">\n",
              "    <path d=\"M120-120v-720h720v720H120Zm60-500h600v-160H180v160Zm220 220h160v-160H400v160Zm0 220h160v-160H400v160ZM180-400h160v-160H180v160Zm440 0h160v-160H620v160ZM180-180h160v-160H180v160Zm440 0h160v-160H620v160Z\"/>\n",
              "  </svg>\n",
              "    </button>\n",
              "\n",
              "  <style>\n",
              "    .colab-df-container {\n",
              "      display:flex;\n",
              "      gap: 12px;\n",
              "    }\n",
              "\n",
              "    .colab-df-convert {\n",
              "      background-color: #E8F0FE;\n",
              "      border: none;\n",
              "      border-radius: 50%;\n",
              "      cursor: pointer;\n",
              "      display: none;\n",
              "      fill: #1967D2;\n",
              "      height: 32px;\n",
              "      padding: 0 0 0 0;\n",
              "      width: 32px;\n",
              "    }\n",
              "\n",
              "    .colab-df-convert:hover {\n",
              "      background-color: #E2EBFA;\n",
              "      box-shadow: 0px 1px 2px rgba(60, 64, 67, 0.3), 0px 1px 3px 1px rgba(60, 64, 67, 0.15);\n",
              "      fill: #174EA6;\n",
              "    }\n",
              "\n",
              "    .colab-df-buttons div {\n",
              "      margin-bottom: 4px;\n",
              "    }\n",
              "\n",
              "    [theme=dark] .colab-df-convert {\n",
              "      background-color: #3B4455;\n",
              "      fill: #D2E3FC;\n",
              "    }\n",
              "\n",
              "    [theme=dark] .colab-df-convert:hover {\n",
              "      background-color: #434B5C;\n",
              "      box-shadow: 0px 1px 3px 1px rgba(0, 0, 0, 0.15);\n",
              "      filter: drop-shadow(0px 1px 2px rgba(0, 0, 0, 0.3));\n",
              "      fill: #FFFFFF;\n",
              "    }\n",
              "  </style>\n",
              "\n",
              "    <script>\n",
              "      const buttonEl =\n",
              "        document.querySelector('#df-e1647e72-f5a8-49b1-ba02-a8fdd5cc7a41 button.colab-df-convert');\n",
              "      buttonEl.style.display =\n",
              "        google.colab.kernel.accessAllowed ? 'block' : 'none';\n",
              "\n",
              "      async function convertToInteractive(key) {\n",
              "        const element = document.querySelector('#df-e1647e72-f5a8-49b1-ba02-a8fdd5cc7a41');\n",
              "        const dataTable =\n",
              "          await google.colab.kernel.invokeFunction('convertToInteractive',\n",
              "                                                    [key], {});\n",
              "        if (!dataTable) return;\n",
              "\n",
              "        const docLinkHtml = 'Like what you see? Visit the ' +\n",
              "          '<a target=\"_blank\" href=https://colab.research.google.com/notebooks/data_table.ipynb>data table notebook</a>'\n",
              "          + ' to learn more about interactive tables.';\n",
              "        element.innerHTML = '';\n",
              "        dataTable['output_type'] = 'display_data';\n",
              "        await google.colab.output.renderOutput(dataTable, element);\n",
              "        const docLink = document.createElement('div');\n",
              "        docLink.innerHTML = docLinkHtml;\n",
              "        element.appendChild(docLink);\n",
              "      }\n",
              "    </script>\n",
              "  </div>\n",
              "\n",
              "\n",
              "<div id=\"df-17fa3720-22c3-4773-9ec5-a922ec588148\">\n",
              "  <button class=\"colab-df-quickchart\" onclick=\"quickchart('df-17fa3720-22c3-4773-9ec5-a922ec588148')\"\n",
              "            title=\"Suggest charts\"\n",
              "            style=\"display:none;\">\n",
              "\n",
              "<svg xmlns=\"http://www.w3.org/2000/svg\" height=\"24px\"viewBox=\"0 0 24 24\"\n",
              "     width=\"24px\">\n",
              "    <g>\n",
              "        <path d=\"M19 3H5c-1.1 0-2 .9-2 2v14c0 1.1.9 2 2 2h14c1.1 0 2-.9 2-2V5c0-1.1-.9-2-2-2zM9 17H7v-7h2v7zm4 0h-2V7h2v10zm4 0h-2v-4h2v4z\"/>\n",
              "    </g>\n",
              "</svg>\n",
              "  </button>\n",
              "\n",
              "<style>\n",
              "  .colab-df-quickchart {\n",
              "      --bg-color: #E8F0FE;\n",
              "      --fill-color: #1967D2;\n",
              "      --hover-bg-color: #E2EBFA;\n",
              "      --hover-fill-color: #174EA6;\n",
              "      --disabled-fill-color: #AAA;\n",
              "      --disabled-bg-color: #DDD;\n",
              "  }\n",
              "\n",
              "  [theme=dark] .colab-df-quickchart {\n",
              "      --bg-color: #3B4455;\n",
              "      --fill-color: #D2E3FC;\n",
              "      --hover-bg-color: #434B5C;\n",
              "      --hover-fill-color: #FFFFFF;\n",
              "      --disabled-bg-color: #3B4455;\n",
              "      --disabled-fill-color: #666;\n",
              "  }\n",
              "\n",
              "  .colab-df-quickchart {\n",
              "    background-color: var(--bg-color);\n",
              "    border: none;\n",
              "    border-radius: 50%;\n",
              "    cursor: pointer;\n",
              "    display: none;\n",
              "    fill: var(--fill-color);\n",
              "    height: 32px;\n",
              "    padding: 0;\n",
              "    width: 32px;\n",
              "  }\n",
              "\n",
              "  .colab-df-quickchart:hover {\n",
              "    background-color: var(--hover-bg-color);\n",
              "    box-shadow: 0 1px 2px rgba(60, 64, 67, 0.3), 0 1px 3px 1px rgba(60, 64, 67, 0.15);\n",
              "    fill: var(--button-hover-fill-color);\n",
              "  }\n",
              "\n",
              "  .colab-df-quickchart-complete:disabled,\n",
              "  .colab-df-quickchart-complete:disabled:hover {\n",
              "    background-color: var(--disabled-bg-color);\n",
              "    fill: var(--disabled-fill-color);\n",
              "    box-shadow: none;\n",
              "  }\n",
              "\n",
              "  .colab-df-spinner {\n",
              "    border: 2px solid var(--fill-color);\n",
              "    border-color: transparent;\n",
              "    border-bottom-color: var(--fill-color);\n",
              "    animation:\n",
              "      spin 1s steps(1) infinite;\n",
              "  }\n",
              "\n",
              "  @keyframes spin {\n",
              "    0% {\n",
              "      border-color: transparent;\n",
              "      border-bottom-color: var(--fill-color);\n",
              "      border-left-color: var(--fill-color);\n",
              "    }\n",
              "    20% {\n",
              "      border-color: transparent;\n",
              "      border-left-color: var(--fill-color);\n",
              "      border-top-color: var(--fill-color);\n",
              "    }\n",
              "    30% {\n",
              "      border-color: transparent;\n",
              "      border-left-color: var(--fill-color);\n",
              "      border-top-color: var(--fill-color);\n",
              "      border-right-color: var(--fill-color);\n",
              "    }\n",
              "    40% {\n",
              "      border-color: transparent;\n",
              "      border-right-color: var(--fill-color);\n",
              "      border-top-color: var(--fill-color);\n",
              "    }\n",
              "    60% {\n",
              "      border-color: transparent;\n",
              "      border-right-color: var(--fill-color);\n",
              "    }\n",
              "    80% {\n",
              "      border-color: transparent;\n",
              "      border-right-color: var(--fill-color);\n",
              "      border-bottom-color: var(--fill-color);\n",
              "    }\n",
              "    90% {\n",
              "      border-color: transparent;\n",
              "      border-bottom-color: var(--fill-color);\n",
              "    }\n",
              "  }\n",
              "</style>\n",
              "\n",
              "  <script>\n",
              "    async function quickchart(key) {\n",
              "      const quickchartButtonEl =\n",
              "        document.querySelector('#' + key + ' button');\n",
              "      quickchartButtonEl.disabled = true;  // To prevent multiple clicks.\n",
              "      quickchartButtonEl.classList.add('colab-df-spinner');\n",
              "      try {\n",
              "        const charts = await google.colab.kernel.invokeFunction(\n",
              "            'suggestCharts', [key], {});\n",
              "      } catch (error) {\n",
              "        console.error('Error during call to suggestCharts:', error);\n",
              "      }\n",
              "      quickchartButtonEl.classList.remove('colab-df-spinner');\n",
              "      quickchartButtonEl.classList.add('colab-df-quickchart-complete');\n",
              "    }\n",
              "    (() => {\n",
              "      let quickchartButtonEl =\n",
              "        document.querySelector('#df-17fa3720-22c3-4773-9ec5-a922ec588148 button');\n",
              "      quickchartButtonEl.style.display =\n",
              "        google.colab.kernel.accessAllowed ? 'block' : 'none';\n",
              "    })();\n",
              "  </script>\n",
              "</div>\n",
              "\n",
              "    </div>\n",
              "  </div>\n"
            ]
          },
          "metadata": {},
          "execution_count": 11
        }
      ]
    },
    {
      "cell_type": "code",
      "source": [
        "# Select the 'Dx' and 'SNOMEDCTCode' columns\n",
        "codes = smowmed_mappings[['Dx', 'SNOMEDCTCode']]\n",
        "\n",
        "# Set 'SNOWMEDCTCode' as the index\n",
        "codes.set_index('SNOMEDCTCode', inplace=True)\n",
        "\n",
        "# Convert the DataFrame into a dictionary\n",
        "codes_dict = codes['Dx'].to_dict()"
      ],
      "metadata": {
        "id": "xh1Rh8PfnpHF"
      },
      "execution_count": 12,
      "outputs": []
    },
    {
      "cell_type": "code",
      "source": [
        "len(codes_dict)"
      ],
      "metadata": {
        "colab": {
          "base_uri": "https://localhost:8080/"
        },
        "id": "dPyGfJkTENxP",
        "outputId": "9843954b-cf76-429a-ae59-ef85dfbce18e"
      },
      "execution_count": null,
      "outputs": [
        {
          "output_type": "execute_result",
          "data": {
            "text/plain": [
              "133"
            ]
          },
          "metadata": {},
          "execution_count": 13
        }
      ]
    },
    {
      "cell_type": "markdown",
      "source": [
        "Now, let's load the csv files and map the corresponding codes from ```codes_dict``` to the csv files:"
      ],
      "metadata": {
        "id": "KDwSvjAfn1qT"
      }
    },
    {
      "cell_type": "code",
      "source": [
        "train_set_path = '/content/drive/MyDrive/ECG Project (Shared Folder)/Data/PhysioNet/train_set_records.csv'\n",
        "val_set_path = '/content/drive/MyDrive/ECG Project (Shared Folder)/Data/PhysioNet/val_set_records.csv'\n",
        "test_set_path = '/content/drive/MyDrive/ECG Project (Shared Folder)/Data/PhysioNet/test_set_records.csv'"
      ],
      "metadata": {
        "id": "wPg5_0v_n2uI"
      },
      "execution_count": 13,
      "outputs": []
    },
    {
      "cell_type": "code",
      "source": [
        "train_set_df = load_and_process(train_set_path)\n",
        "val_set_df = load_and_process(val_set_path)\n",
        "test_set_df = load_and_process(test_set_path)"
      ],
      "metadata": {
        "id": "i1l71qx7Eg4Q"
      },
      "execution_count": 14,
      "outputs": []
    },
    {
      "cell_type": "markdown",
      "source": [
        "Now, using the ```map_codes_to_dx()``` function, let's map the SNOWMED-CT codes for each ECG signal ```dx```. The new column containing the diagnosis name will be ```dx_modality```"
      ],
      "metadata": {
        "id": "J4BMheN9Eowx"
      }
    },
    {
      "cell_type": "code",
      "source": [
        "def map_codes_to_dx(codes):\n",
        "    return [codes_dict.get(int(code), code) for code in codes]"
      ],
      "metadata": {
        "id": "o1D2_2rJEqCi"
      },
      "execution_count": null,
      "outputs": []
    },
    {
      "cell_type": "code",
      "source": [
        "train_set_df['dx_modality'] = train_set_df['dx'].apply(map_codes_to_dx)"
      ],
      "metadata": {
        "id": "_Vsie0mmEt5Q"
      },
      "execution_count": null,
      "outputs": []
    },
    {
      "cell_type": "code",
      "source": [
        "val_set_df['dx_modality'] = val_set_df['dx'].apply(map_codes_to_dx)"
      ],
      "metadata": {
        "id": "JPBSK_WdEwIS"
      },
      "execution_count": null,
      "outputs": []
    },
    {
      "cell_type": "code",
      "source": [
        "test_set_df['dx_modality'] = test_set_df['dx'].apply(map_codes_to_dx)"
      ],
      "metadata": {
        "id": "imFPCdEjEwlF"
      },
      "execution_count": null,
      "outputs": []
    },
    {
      "cell_type": "code",
      "source": [
        "# Example:\n",
        "train_set_df['dx_modality'][0]"
      ],
      "metadata": {
        "colab": {
          "base_uri": "https://localhost:8080/"
        },
        "id": "wetW3V7ZEyRv",
        "outputId": "30be31a3-4058-4786-e5bc-b041941f2343"
      },
      "execution_count": null,
      "outputs": [
        {
          "output_type": "execute_result",
          "data": {
            "text/plain": [
              "['sinus tachycardia',\n",
              " 't wave inversion',\n",
              " 't wave abnormal',\n",
              " 'prolonged qt interval']"
            ]
          },
          "metadata": {},
          "execution_count": 22
        }
      ]
    },
    {
      "cell_type": "markdown",
      "source": [
        "Now, let's save these to new csv files so that they contain the new `dx_modality` column:\n",
        "\n",
        "- `processed_train_set_records.csv`\n",
        "- `processed_val_set_records.csv`\n",
        "- `processed_test_set_records.csv`"
      ],
      "metadata": {
        "id": "fXYZjxoRFMEk"
      }
    },
    {
      "cell_type": "code",
      "source": [
        "train_set_df.to_csv('processed_train_set_records.csv', index=False)"
      ],
      "metadata": {
        "id": "UD7EMI8GFg2Z"
      },
      "execution_count": null,
      "outputs": []
    },
    {
      "cell_type": "code",
      "source": [
        "val_set_df.to_csv('processed_val_set_records.csv', index=False)"
      ],
      "metadata": {
        "id": "tPEfcIeTFvR6"
      },
      "execution_count": null,
      "outputs": []
    },
    {
      "cell_type": "code",
      "source": [
        "test_set_df.to_csv('processed_test_set_records.csv', index=False)"
      ],
      "metadata": {
        "id": "zycxepKjFxn-"
      },
      "execution_count": null,
      "outputs": []
    },
    {
      "cell_type": "markdown",
      "source": [
        "# Stage 2: ECG Classification Model Pipeline\n",
        "\n",
        "Now that our data is preprocessed, we can begin working on the Model Pipeline itself. The ECG Classification Model Pipeline will consist of three components:\n",
        "\n",
        "1. `TextEncoder()` class\n",
        "\n",
        "2. `ECGEncoder()` class\n",
        "\n",
        "3. `InstanceSelector()` class\n",
        "\n",
        "4. `CLIPModel()` class\n",
        "\n",
        "An overview and outline of each of these components can be found below in their respective subsections."
      ],
      "metadata": {
        "id": "gsPe1PVbCNNs"
      }
    },
    {
      "cell_type": "markdown",
      "source": [
        "First, let's load the csv files that contain information about our ECG header data.\n",
        "\n",
        "`NOTE: The number of records in each csv files should match the number of records in current_train, current_val, and test_set, respectively`"
      ],
      "metadata": {
        "id": "d00QQWglKhLQ"
      }
    },
    {
      "cell_type": "code",
      "source": [
        "processed_train_set_path = '/content/drive/MyDrive/ECG Project (Shared Folder)/Data/PhysioNet/processed_train_set_records.csv'\n",
        "processed_val_set_path = '/content/drive/MyDrive/ECG Project (Shared Folder)/Data/PhysioNet/processed_val_set_records.csv'\n",
        "processed_test_set_path = '/content/drive/MyDrive/ECG Project (Shared Folder)/Data/PhysioNet/processed_test_set_records.csv'"
      ],
      "metadata": {
        "id": "WbVjP_iPJsSe"
      },
      "execution_count": 15,
      "outputs": []
    },
    {
      "cell_type": "code",
      "source": [
        "processed_train_df = pd.read_csv(processed_train_set_path)\n",
        "processed_val_df = pd.read_csv(processed_val_set_path)\n",
        "processed_test_df = pd.read_csv(processed_test_set_path)"
      ],
      "metadata": {
        "id": "BX9pIPsiJsPv"
      },
      "execution_count": 16,
      "outputs": []
    },
    {
      "cell_type": "code",
      "source": [
        "processed_train_df.iloc[0]['dx_modality'], len(processed_train_df.iloc[0]['dx_modality'])"
      ],
      "metadata": {
        "colab": {
          "base_uri": "https://localhost:8080/"
        },
        "id": "ZRF__ioo2hHL",
        "outputId": "31067b49-04f4-4755-ef9f-53682f0202c0"
      },
      "execution_count": 17,
      "outputs": [
        {
          "output_type": "execute_result",
          "data": {
            "text/plain": [
              "(\"['sinus tachycardia', 't wave inversion', 't wave abnormal', 'prolonged qt interval']\",\n",
              " 85)"
            ]
          },
          "metadata": {},
          "execution_count": 17
        }
      ]
    },
    {
      "cell_type": "code",
      "source": [
        "print(\"There are {} records in the current_train and {} records in the processed_train_df.\".format(len(current_train), len(processed_train_df)))"
      ],
      "metadata": {
        "colab": {
          "base_uri": "https://localhost:8080/"
        },
        "id": "bZGbG7jhL5RU",
        "outputId": "4d2e3763-f8cd-4985-814e-43332f04784c"
      },
      "execution_count": 18,
      "outputs": [
        {
          "output_type": "stream",
          "name": "stdout",
          "text": [
            "There are 56241 records in the current_train and 56015 records in the processed_train_df.\n"
          ]
        }
      ]
    },
    {
      "cell_type": "code",
      "source": [
        "print(\"There are {} records in the val_set and {} records in the processed_val_df.\".format(len(current_val), len(processed_val_df)))"
      ],
      "metadata": {
        "colab": {
          "base_uri": "https://localhost:8080/"
        },
        "id": "ThTTF-nJLiqs",
        "outputId": "2f3dc9f3-ff4d-4951-cf2b-beae3f3d4d02"
      },
      "execution_count": 19,
      "outputs": [
        {
          "output_type": "stream",
          "name": "stdout",
          "text": [
            "There are 9926 records in the val_set and 9885 records in the processed_val_df.\n"
          ]
        }
      ]
    },
    {
      "cell_type": "code",
      "source": [
        "print(\"There are {} records in the test_set and {} records in the processed_test_df.\".format(len(test_set), len(processed_test_df)))"
      ],
      "metadata": {
        "colab": {
          "base_uri": "https://localhost:8080/"
        },
        "id": "KIK2jyyGLeUI",
        "outputId": "24ae2222-7b2b-449e-801b-a2d7a72b96ae"
      },
      "execution_count": 20,
      "outputs": [
        {
          "output_type": "stream",
          "name": "stdout",
          "text": [
            "There are 22352 records in the test_set and 22352 records in the processed_test_df.\n"
          ]
        }
      ]
    },
    {
      "cell_type": "code",
      "source": [
        "processed_train_df['dx_modality'] = processed_train_df['dx_modality'].apply(ast.literal_eval)\n",
        "processed_val_df['dx_modality'] = processed_val_df['dx_modality'].apply(ast.literal_eval)\n",
        "processed_test_df['dx_modality'] = processed_test_df['dx_modality'].apply(ast.literal_eval)"
      ],
      "metadata": {
        "id": "t5n9yApc2Ajw"
      },
      "execution_count": 21,
      "outputs": []
    },
    {
      "cell_type": "code",
      "source": [
        "processed_train_df.iloc[0]['dx_modality'], len(processed_train_df.iloc[0]['dx_modality'])"
      ],
      "metadata": {
        "colab": {
          "base_uri": "https://localhost:8080/"
        },
        "id": "ch9Ai_pf2ZUf",
        "outputId": "b36ecc6c-fcc8-4e36-9196-3f7109be5b91"
      },
      "execution_count": 22,
      "outputs": [
        {
          "output_type": "execute_result",
          "data": {
            "text/plain": [
              "(['sinus tachycardia',\n",
              "  't wave inversion',\n",
              "  't wave abnormal',\n",
              "  'prolonged qt interval'],\n",
              " 4)"
            ]
          },
          "metadata": {},
          "execution_count": 22
        }
      ]
    },
    {
      "cell_type": "markdown",
      "source": [
        "## TextEncoder()\n",
        "\n",
        "Create a class, ```TextEncoder()``` that is used to convert the description of the (dx_modality) diagnosis class into an embeddings using the pretrained, base ClinicalBERT model.\n",
        "\n",
        "- Input should be a concatenated using comma or blank space string of diagnoses/dx_modality per ECG signal.\n",
        "- Use processed CSV files (dx_modality only)\n",
        "- Frozen weights (since it's already pretrained)"
      ],
      "metadata": {
        "id": "9b-bPlAgp9JT"
      }
    },
    {
      "cell_type": "code",
      "source": [
        "class TextEncoder:\n",
        "    def __init__(self):\n",
        "        self.tokenizer = AutoTokenizer.from_pretrained(\"emilyalsentzer/Bio_ClinicalBERT\")\n",
        "        self.model = AutoModel.from_pretrained(\"emilyalsentzer/Bio_ClinicalBERT\")\n",
        "\n",
        "    def encode(self, text_list):\n",
        "        # Check if text_list is a string representation of a list\n",
        "        if isinstance(text_list, str):\n",
        "            text_list = ast.literal_eval(text_list)\n",
        "        # Convert list of strings to a single string\n",
        "        text = ', '.join(text_list)\n",
        "        # Tokenize text\n",
        "        inputs = self.tokenizer(text, return_tensors=\"pt\", truncation=True, padding=True, max_length=512)\n",
        "        # Get embeddings from ClinicalBERT model\n",
        "        with torch.no_grad():\n",
        "            embeddings = self.model(**inputs).last_hidden_state\n",
        "        # Average the embeddings to get single vector per each input\n",
        "        embeddings = torch.mean(embeddings, dim=1)\n",
        "        return embeddings"
      ],
      "metadata": {
        "id": "Pre7DG39Gjaq"
      },
      "execution_count": 23,
      "outputs": []
    },
    {
      "cell_type": "code",
      "source": [
        "text_encoder = TextEncoder()\n",
        "embeddings = text_encoder.encode(processed_train_df['dx_modality'][0])\n",
        "print(embeddings.size())"
      ],
      "metadata": {
        "colab": {
          "base_uri": "https://localhost:8080/",
          "height": 130,
          "referenced_widgets": [
            "c15dfd4b98ab4136bc0069f5a836cb09",
            "c5f6992249434bc4a90196aea00dd900",
            "bad6849f6d34454bb3869bc85c847a3d",
            "31c2f72166ca4abfb9031b99c20641b7",
            "415f5a4b67eb4d788204d6415b5f20ff",
            "a358210fbd9c4a46b6608af51dafacc1",
            "cf894576f85b438e99a46bf8a2c320ad",
            "8f61886b46564dfc92e791a05766efe8",
            "dc9f76c6b0e44670be5848bc2180b317",
            "17437015c4e34218a70665e40f47ca70",
            "ceb803fa02784c8fb17ef1c134c40840",
            "aef7a4059a4043bba732a44d6d8a23f3",
            "c74e564ae2b2487aa5337ee54cf76019",
            "fa032da2205d4795bd11ef08bcb60a61",
            "21fe0de19d7f45f087fb4e18eaf749ed",
            "2750582191cd407d977f078f0e78f418",
            "e54d36f02aee4bc785dce725014eb381",
            "5c914d46f3a64277985c4628f9cd8fc8",
            "87d4b43e35d349c7ae1442c364414fba",
            "4f6fae71e5ea494f802320a44de814c7",
            "6c8c5fe873694c39b0544b287de4da3f",
            "61536d990fb546bcb402938e979c2de2",
            "ef4aaf86104840cda1700852a766055e",
            "d5064f1cb97b45e3b4a9e40eff1ca6f9",
            "f415114194cb401f99210ff8de1ed33e",
            "809c63f54bd749e687792b06982b90b4",
            "016bdb7274f24ea8a7d8cfba11105514",
            "a51270cf05ac48e3bee34a7e20d4186c",
            "7a78151b64484798a4ba7b3b44958137",
            "fe263719a9b14e529c4bc7d63f0bd13d",
            "ffe97d7c57644de0ab1a635ee03c65cf",
            "6cfc9a9e043d4ce188aadba5494ab876",
            "61e07819656147b888a8420443892498"
          ]
        },
        "id": "PHcRuFNVHNsn",
        "outputId": "9ecaf9bf-1122-4e72-f00e-2bf18d55fbdf"
      },
      "execution_count": 24,
      "outputs": [
        {
          "output_type": "display_data",
          "data": {
            "text/plain": [
              "config.json:   0%|          | 0.00/385 [00:00<?, ?B/s]"
            ],
            "application/vnd.jupyter.widget-view+json": {
              "version_major": 2,
              "version_minor": 0,
              "model_id": "c15dfd4b98ab4136bc0069f5a836cb09"
            }
          },
          "metadata": {}
        },
        {
          "output_type": "display_data",
          "data": {
            "text/plain": [
              "vocab.txt:   0%|          | 0.00/213k [00:00<?, ?B/s]"
            ],
            "application/vnd.jupyter.widget-view+json": {
              "version_major": 2,
              "version_minor": 0,
              "model_id": "aef7a4059a4043bba732a44d6d8a23f3"
            }
          },
          "metadata": {}
        },
        {
          "output_type": "display_data",
          "data": {
            "text/plain": [
              "pytorch_model.bin:   0%|          | 0.00/436M [00:00<?, ?B/s]"
            ],
            "application/vnd.jupyter.widget-view+json": {
              "version_major": 2,
              "version_minor": 0,
              "model_id": "ef4aaf86104840cda1700852a766055e"
            }
          },
          "metadata": {}
        },
        {
          "output_type": "stream",
          "name": "stdout",
          "text": [
            "torch.Size([1, 768])\n"
          ]
        }
      ]
    },
    {
      "cell_type": "code",
      "source": [
        "embeddings.size()"
      ],
      "metadata": {
        "colab": {
          "base_uri": "https://localhost:8080/"
        },
        "id": "AWiMRn2PIP7f",
        "outputId": "878e6786-a991-40cc-93f2-c816f865145c"
      },
      "execution_count": 25,
      "outputs": [
        {
          "output_type": "execute_result",
          "data": {
            "text/plain": [
              "torch.Size([1, 768])"
            ]
          },
          "metadata": {},
          "execution_count": 25
        }
      ]
    },
    {
      "cell_type": "markdown",
      "source": [
        "## ECGEncoder()\n",
        "\n",
        "- Input is ECG signal, output will be embeddings of ECG signal\n",
        "- This is going to be model in model.py\n",
        "- Model weights are updated iteratively\n",
        "- optimizer = torch.optim.Adam(clip_model.ECGEncoder.parameters())"
      ],
      "metadata": {
        "id": "IRMlyeZ-G-Cv"
      }
    },
    {
      "cell_type": "code",
      "source": [
        "#import torch\n",
        "import torch.nn as nn\n",
        "import torch.optim as optim\n",
        "import torch.nn.functional as F"
      ],
      "metadata": {
        "id": "NYV5HCfXIcIh"
      },
      "execution_count": 26,
      "outputs": []
    },
    {
      "cell_type": "code",
      "source": [
        "class OneDimCNN(nn.Module):\n",
        "    def __init__(self, num_classes):\n",
        "        super(OneDimCNN, self).__init__()\n",
        "\n",
        "        # Layer 1\n",
        "        self.conv1 = nn.Conv1d(in_channels=3, out_channels=16, kernel_size=3, stride=1, padding=1)\n",
        "        self.bn1 = nn.BatchNorm1d(16)\n",
        "        self.relu1 = nn.ReLU()\n",
        "        self.pool1 = nn.AvgPool1d(kernel_size=2, stride=2)\n",
        "\n",
        "        # Layer 2\n",
        "        self.conv2 = nn.Conv1d(in_channels=16, out_channels=32, kernel_size=3, stride=1, padding=1)\n",
        "        self.bn2 = nn.BatchNorm1d(32)\n",
        "        self.relu2 = nn.ReLU()\n",
        "        self.pool2 = nn.AvgPool1d(kernel_size=2, stride=2)\n",
        "\n",
        "        # Layer 3\n",
        "        self.conv3 = nn.Conv1d(in_channels=32, out_channels=64, kernel_size=3, stride=1, padding=1)\n",
        "        self.bn3 = nn.BatchNorm1d(64)\n",
        "        self.relu3 = nn.ReLU()\n",
        "        self.pool3 = nn.AvgPool1d(kernel_size=2, stride=2)\n",
        "\n",
        "        # Layer 4\n",
        "        self.conv4 = nn.Conv1d(in_channels=64, out_channels=128, kernel_size=3, stride=1, padding=1)\n",
        "        self.bn4 = nn.BatchNorm1d(128)\n",
        "        self.relu4 = nn.ReLU()\n",
        "        self.pool4 = nn.AvgPool1d(kernel_size=2, stride=2)\n",
        "\n",
        "        # Layer 5\n",
        "        self.conv5 = nn.Conv1d(in_channels=128, out_channels=256, kernel_size=3, stride=1, padding=1)\n",
        "        self.bn5 = nn.BatchNorm1d(256)\n",
        "        self.relu5 = nn.ReLU()\n",
        "        self.pool5 = nn.AvgPool1d(kernel_size=2, stride=2)\n",
        "\n",
        "        # Layer 6\n",
        "        self.conv6 = nn.Conv1d(in_channels=256, out_channels=512, kernel_size=3, stride=1, padding=1)\n",
        "        self.bn6 = nn.BatchNorm1d(512)\n",
        "        self.relu6 = nn.ReLU()\n",
        "        self.pool6 = nn.AvgPool1d(kernel_size=2, stride=2)\n",
        "\n",
        "        # Layer 7\n",
        "        self.conv7 = nn.Conv1d(in_channels=512, out_channels=1024, kernel_size=3, stride=1, padding=1)\n",
        "        self.bn7 = nn.BatchNorm1d(1024)\n",
        "        self.relu7 = nn.ReLU()\n",
        "        self.pool7 = nn.AvgPool1d(kernel_size=2, stride=2)\n",
        "\n",
        "        # Layer 8\n",
        "        self.conv8 = nn.Conv1d(in_channels=1024, out_channels=2048, kernel_size=3, stride=1, padding=1)\n",
        "        self.bn8 = nn.BatchNorm1d(2048)\n",
        "        self.relu8 = nn.ReLU()\n",
        "        self.pool8 = nn.AvgPool1d(kernel_size=2, stride=2)\n",
        "\n",
        "        # Layer 9\n",
        "        self.conv9 = nn.Conv1d(in_channels=2048, out_channels=4096, kernel_size=3, stride=1, padding=1)\n",
        "        self.bn9 = nn.BatchNorm1d(4096)\n",
        "        self.relu9 = nn.ReLU()\n",
        "        self.pool9 = nn.AvgPool1d(kernel_size=2, stride=2)\n",
        "\n",
        "        # Fully Connected Layer 1\n",
        "        self.fc1 = nn.Linear(4096, 128)  # Adjusted to match output channels of last conv layer\n",
        "        self.relu10 = nn.ReLU()\n",
        "        self.dropout1 = nn.Dropout(0.5)\n",
        "\n",
        "        # Fully Connected Layer 2\n",
        "        self.fc2 = nn.Linear(128, num_classes)\n",
        "\n",
        "    def forward(self, x):\n",
        "        # Layer 1\n",
        "        x = self.conv1(x)\n",
        "        x = self.bn1(x)\n",
        "        x = self.relu1(x)\n",
        "        x = self.pool1(x)\n",
        "\n",
        "        # Layer 2\n",
        "        x = self.conv2(x)\n",
        "        x = self.bn2(x)\n",
        "        x = self.relu2(x)\n",
        "        x = self.pool2(x)\n",
        "\n",
        "        # Layer 3\n",
        "        x = self.conv3(x)\n",
        "        x = self.bn3(x)\n",
        "        x = self.relu3(x)\n",
        "        x = self.pool3(x)\n",
        "\n",
        "        # Layer 4\n",
        "        x = self.conv4(x)\n",
        "        x = self.bn4(x)\n",
        "        x = self.relu4(x)\n",
        "        x = self.pool4(x)\n",
        "\n",
        "        # Layer 5\n",
        "        x = self.conv5(x)\n",
        "        x = self.bn5(x)\n",
        "        x = self.relu5(x)\n",
        "        x = self.pool5(x)\n",
        "\n",
        "        # Layer 6\n",
        "        x = self.conv6(x)\n",
        "        x = self.bn6(x)\n",
        "        x = self.relu6(x)\n",
        "        x = self.pool6(x)\n",
        "\n",
        "        # Layer 7\n",
        "        x = self.conv7(x)\n",
        "        x = self.bn7(x)\n",
        "        x = self.relu7(x)\n",
        "        x = self.pool7(x)\n",
        "\n",
        "        # Layer 8\n",
        "        x = self.conv8(x)\n",
        "        x = self.bn8(x)\n",
        "        x = self.relu8(x)\n",
        "        x = self.pool8(x)\n",
        "\n",
        "        # Layer 9\n",
        "        x = self.conv9(x)\n",
        "        x = self.bn9(x)\n",
        "        x = self.relu9(x)\n",
        "        x = x.view(x.size(0), -1)\n",
        "\n",
        "        # Dynamically adjust the input size of the first fully connected layer\n",
        "        if self.fc1.in_features != x.size(1):\n",
        "            self.fc1 = nn.Linear(x.size(1), 128)\n",
        "\n",
        "        # Fully Connected Layer 1\n",
        "        x = self.fc1(x)\n",
        "        x = self.relu10(x)  # Renamed from relu5 to relu10\n",
        "        x = self.dropout1(x)\n",
        "\n",
        "        # Fully Connected Layer 2\n",
        "        x = self.fc2(x)\n",
        "\n",
        "        return x"
      ],
      "metadata": {
        "id": "uuEMcmAaSWU8"
      },
      "execution_count": 27,
      "outputs": []
    },
    {
      "cell_type": "code",
      "source": [
        "class ECGEncoder(OneDimCNN):\n",
        "    def __init__(self, num_classes, embedding_size=768):\n",
        "        super(ECGEncoder, self).__init__(num_classes)\n",
        "        self.fc = nn.Linear(133, embedding_size)  # Add a fully connected layer\n",
        "\n",
        "    def encode(self, signal):\n",
        "        encoded_signal = self.forward(signal)\n",
        "        encoded_signal = self.fc(encoded_signal)  # Transform the embedding to the common size\n",
        "        return encoded_signal"
      ],
      "metadata": {
        "id": "NBaU_1YJOowR"
      },
      "execution_count": 28,
      "outputs": []
    },
    {
      "cell_type": "code",
      "source": [
        "type(train_set[0][1]['val'])"
      ],
      "metadata": {
        "colab": {
          "base_uri": "https://localhost:8080/"
        },
        "id": "SWCWK_oIIhEw",
        "outputId": "7b090a26-951e-4dc4-adbc-51740fd3a1f5"
      },
      "execution_count": 29,
      "outputs": [
        {
          "output_type": "execute_result",
          "data": {
            "text/plain": [
              "numpy.ndarray"
            ]
          },
          "metadata": {},
          "execution_count": 29
        }
      ]
    },
    {
      "cell_type": "code",
      "source": [
        "train_set[0][1]['val']"
      ],
      "metadata": {
        "colab": {
          "base_uri": "https://localhost:8080/"
        },
        "id": "EhdY1LaGIkr5",
        "outputId": "9f89cb32-782e-42b8-96b8-420b8b248b27"
      },
      "execution_count": 30,
      "outputs": [
        {
          "output_type": "execute_result",
          "data": {
            "text/plain": [
              "array([[ -49.41174209,  -49.41174209,  -49.41174209, ...,    3.26986681,\n",
              "           6.65822132,    4.35320015],\n",
              "       [  39.23760431,   39.23760431,   39.23760431, ...,  -45.89316397,\n",
              "         -44.94818514,  -42.39476713],\n",
              "       [  95.17413779,   95.17413779,   95.17413779, ..., -112.12670284,\n",
              "        -112.96003617, -116.70843301]])"
            ]
          },
          "metadata": {},
          "execution_count": 30
        }
      ]
    },
    {
      "cell_type": "code",
      "source": [
        "# Define the number of classes\n",
        "num_classes = len(codes_dict)\n",
        "\n",
        "# Create an instance of the model\n",
        "ecg_encoder = ECGEncoder(num_classes)\n",
        "\n",
        "# Convert the numpy array to a PyTorch tensor\n",
        "input_data = torch.from_numpy(train_set[40000][1]['val']).float()\n",
        "\n",
        "# Add an extra dimension for the batch size\n",
        "input_data = input_data.unsqueeze(0)\n",
        "# Convert the model's weights to Float\n",
        "ecg_encoder = ecg_encoder.float()\n",
        "\n",
        "# Pass the data through the model\n",
        "output = ecg_encoder(input_data)\n",
        "\n",
        "print(output)"
      ],
      "metadata": {
        "colab": {
          "base_uri": "https://localhost:8080/"
        },
        "id": "tQoFrirLIolT",
        "outputId": "cefc905c-a3af-4cee-f864-4466647323c3"
      },
      "execution_count": 31,
      "outputs": [
        {
          "output_type": "stream",
          "name": "stdout",
          "text": [
            "tensor([[ 0.3753,  0.2802,  0.1888,  0.6706,  0.4320, -0.2118, -0.1622,  0.1226,\n",
            "          0.0934,  0.5008, -0.6245, -0.4724,  0.1736,  0.0944, -0.0337,  0.0422,\n",
            "         -0.1054,  0.0316,  0.3628,  0.2858,  0.1973, -0.0416,  0.1828, -0.2890,\n",
            "         -0.1381,  0.2132, -0.1095, -0.0270,  0.3953, -0.1959,  0.5568, -0.4805,\n",
            "         -0.1809, -0.0965, -0.0584,  0.0153, -0.0395, -0.1492,  0.1570, -0.0267,\n",
            "         -0.3558,  0.1452, -0.2070, -0.1123, -0.0449,  0.0537,  0.3095, -0.0765,\n",
            "         -0.1267, -0.0273,  0.3605, -0.4415,  0.0839, -0.1570, -0.1314,  0.5673,\n",
            "         -0.0046,  0.3550, -0.0311, -0.2212,  0.4565,  0.5133,  0.4881,  0.4462,\n",
            "         -0.1212, -0.1972,  0.3000,  0.5612, -0.1037, -0.4633,  0.1088, -0.1151,\n",
            "         -0.0785,  0.1945, -0.1743, -0.2203,  0.2623,  0.2241,  0.3988,  0.0170,\n",
            "          0.0203,  0.0223,  0.3461,  0.2338, -0.9092, -0.0209, -0.3662, -0.1600,\n",
            "          0.1072,  0.3462, -0.3875, -0.5950, -0.2281, -0.0274, -0.1038, -0.0837,\n",
            "         -0.2258,  0.0255, -0.2565, -0.1050,  0.4611,  0.4240, -0.2570, -0.1407,\n",
            "          0.0047, -0.1042,  0.0370,  0.2003,  0.0659,  0.1719,  0.3414,  0.3484,\n",
            "         -0.0398,  0.3362,  0.0901,  0.4118, -0.3238,  0.1095,  0.1366,  0.2682,\n",
            "         -0.1302, -0.0137,  0.0279, -0.2725, -0.1373, -0.0638,  0.1191,  0.3915,\n",
            "          0.2793,  0.5457, -0.0170,  0.3146, -0.1953]],\n",
            "       grad_fn=<AddmmBackward0>)\n"
          ]
        }
      ]
    },
    {
      "cell_type": "code",
      "source": [
        "type(train_set[40000][1]['val'])"
      ],
      "metadata": {
        "colab": {
          "base_uri": "https://localhost:8080/"
        },
        "id": "zVZJn8n_DdNK",
        "outputId": "7cece243-3b7b-485a-c751-5b62c430e826"
      },
      "execution_count": 32,
      "outputs": [
        {
          "output_type": "execute_result",
          "data": {
            "text/plain": [
              "numpy.ndarray"
            ]
          },
          "metadata": {},
          "execution_count": 32
        }
      ]
    },
    {
      "cell_type": "code",
      "source": [
        "batch_size = input_data.shape[0]\n",
        "num_channels = input_data.shape[1]\n",
        "tensor_size = input_data[0][2]\n",
        "\n",
        "print(\"Batch size:\", batch_size)\n",
        "print(\"Number of channels:\", num_channels)\n",
        "print(f\"Tensor size: {len(tensor_size)}\")"
      ],
      "metadata": {
        "colab": {
          "base_uri": "https://localhost:8080/"
        },
        "id": "-kt9W6l2USij",
        "outputId": "00d8c607-cfbc-4edf-be8b-e713ebed3e44"
      },
      "execution_count": 33,
      "outputs": [
        {
          "output_type": "stream",
          "name": "stdout",
          "text": [
            "Batch size: 1\n",
            "Number of channels: 3\n",
            "Tensor size: 5000\n"
          ]
        }
      ]
    },
    {
      "cell_type": "code",
      "source": [
        "output.size()"
      ],
      "metadata": {
        "colab": {
          "base_uri": "https://localhost:8080/"
        },
        "id": "vqZw4qgbcvw5",
        "outputId": "11f8a2d9-364d-4928-f49b-a8c0b7c67c58"
      },
      "execution_count": 34,
      "outputs": [
        {
          "output_type": "execute_result",
          "data": {
            "text/plain": [
              "torch.Size([1, 133])"
            ]
          },
          "metadata": {},
          "execution_count": 34
        }
      ]
    },
    {
      "cell_type": "code",
      "source": [
        "# Convert the model's weights to Float\n",
        "ecg_encoder = ecg_encoder.float()\n",
        "\n",
        "# Set the model in evaluation mode\n",
        "ecg_encoder.eval()\n",
        "\n",
        "# Pass the data through the model\n",
        "output = ecg_encoder(input_data)\n",
        "\n",
        "print(output)"
      ],
      "metadata": {
        "colab": {
          "base_uri": "https://localhost:8080/"
        },
        "id": "aCosgBVRIsjr",
        "outputId": "9d0e8dde-fda3-4fd7-870b-61a17c0f887f"
      },
      "execution_count": 35,
      "outputs": [
        {
          "output_type": "stream",
          "name": "stdout",
          "text": [
            "tensor([[-0.0356,  0.0336, -0.0780,  0.0427,  0.0883,  0.0092, -0.0281,  0.0282,\n",
            "         -0.0672,  0.0913, -0.0082, -0.0059,  0.0302, -0.0381, -0.0730,  0.0838,\n",
            "          0.0253,  0.0111,  0.0142,  0.0821,  0.0473, -0.0013, -0.0037, -0.0357,\n",
            "         -0.0169,  0.0305, -0.0125,  0.0587, -0.0546, -0.0212,  0.0611, -0.0433,\n",
            "          0.0357, -0.0244, -0.0118, -0.0017, -0.0271, -0.0754,  0.0014,  0.0172,\n",
            "         -0.0545, -0.0814,  0.0389, -0.0032, -0.0700, -0.0676,  0.0580, -0.0265,\n",
            "          0.0620, -0.0814, -0.0189, -0.0766, -0.0525,  0.0444, -0.0227,  0.0722,\n",
            "         -0.0070, -0.0420,  0.0731,  0.0672, -0.0137,  0.0548,  0.0435,  0.0758,\n",
            "          0.0130,  0.0047,  0.0583,  0.0250,  0.0653, -0.0121, -0.0786, -0.0802,\n",
            "         -0.0342,  0.0799,  0.0089, -0.0873,  0.0769, -0.0531,  0.0280, -0.0572,\n",
            "          0.0288, -0.0627,  0.0258,  0.0587, -0.0521,  0.0533,  0.0753, -0.0053,\n",
            "          0.0193,  0.0799, -0.0849, -0.0596, -0.0320, -0.0823, -0.0026, -0.0285,\n",
            "         -0.0716,  0.0441,  0.0466, -0.0310,  0.0661, -0.0468, -0.0883, -0.0735,\n",
            "         -0.0352,  0.0228,  0.0324,  0.0324,  0.0077, -0.0373,  0.0199, -0.0138,\n",
            "          0.0152,  0.0750, -0.0228, -0.0136, -0.0440, -0.0186, -0.0316,  0.0253,\n",
            "          0.0431, -0.0013,  0.0338,  0.0516, -0.0707,  0.0360, -0.0701, -0.0458,\n",
            "         -0.0001, -0.0756, -0.0085,  0.0052, -0.0822]],\n",
            "       grad_fn=<AddmmBackward0>)\n"
          ]
        }
      ]
    },
    {
      "cell_type": "markdown",
      "source": [
        "## InstanceSelecter()\n",
        "\n",
        "`InstanceSelector` helps to generate negative instances of embeddings such that pairs of ECG and text embeddings are not from the same record file.\n",
        "\n",
        "- The `get_negative_instances` method iterates over the dataset and for each record and generates a specified number of negative instances by pairing the ECG embedding of the record with the text embeddings of other records that are not equal to it.\n",
        "\n",
        "- `num_neg_instances` parameter specifies the number of negative instances to generate for each record. The purpose of this is to drastically reduce computation time. If this was not implemented, there would be too many negative instances:\n",
        "\n",
        "```len(current_set) - len(current_set_df - 1) total records of negative instances```\n",
        "\n",
        "- For example, if `num_neg_instances` is set to 5, the method will generate 5 negative instances for each record in the dataset. This is done by randomly selecting 5 records that are not equal to the current record and pairing their text embeddings with the ECG embedding of the current record."
      ],
      "metadata": {
        "id": "qAXRT0sZIzg3"
      }
    },
    {
      "cell_type": "code",
      "source": [
        "class InstanceSelector:\n",
        "    def __init__(self, train_set, processed_train_df, text_encoder, ecg_encoder):\n",
        "        self.train_set = train_set\n",
        "        self.processed_train_df = processed_train_df\n",
        "        self.text_encoder = text_encoder\n",
        "        self.ecg_encoder = ecg_encoder\n",
        "\n",
        "    def get_negative_instances(self, current_set, current_set_df, num_neg_instances=5):\n",
        "        # Initialize an empty list to store the negative instances\n",
        "        negative_instances = []\n",
        "\n",
        "        # Loop over each record in the current_set\n",
        "        for i in tqdm(range(len(current_set)), desc=\"Generating negative instances\"):\n",
        "            # Convert the 'val' field of the current record to a PyTorch tensor and store it in the 'signal' variable\n",
        "            signal = torch.from_numpy(current_set[i][1]['val']).float()\n",
        "\n",
        "            # Add an extra dimension to 'signal' to represent the channels\n",
        "            signal = signal.unsqueeze(0)\n",
        "\n",
        "            # Encode the 'signal' using the ECG encoder and store the result in the 'ecg_embedding' variable\n",
        "            ecg_embedding = self.ecg_encoder.encode(signal)\n",
        "\n",
        "            # Randomly select 'num_neg_instances' indices from current_set_df\n",
        "            for j in random.sample(range(len(current_set_df)), num_neg_instances):\n",
        "                # Check if the current index is not the same as the outer loop index\n",
        "                if i != j:\n",
        "                    # Encode the 'dx_modality' field of the selected record using the text encoder and store the result in the 'dx_modality_embedding' variable\n",
        "                    dx_modality_embedding = self.text_encoder.encode(current_set_df['dx_modality'][j])\n",
        "\n",
        "                    # Check if the ECG embedding is not equal to the DX modality embedding\n",
        "                    if not torch.all(torch.eq(ecg_embedding.float(), dx_modality_embedding)):\n",
        "                        # If they are not equal, append the pair (ECG embedding, DX modality embedding) to the 'negative_instances' list\n",
        "                        negative_instances.append((ecg_embedding, dx_modality_embedding))\n",
        "\n",
        "        # Return the list of negative instances\n",
        "        return negative_instances"
      ],
      "metadata": {
        "id": "FACyMwtCI5_4"
      },
      "execution_count": 36,
      "outputs": []
    },
    {
      "cell_type": "code",
      "source": [
        "text_encoder = TextEncoder()\n",
        "ecg_encoder = ECGEncoder(num_classes=133)  # Assuming you have this class defined"
      ],
      "metadata": {
        "id": "EId2chxGI57K"
      },
      "execution_count": null,
      "outputs": []
    },
    {
      "cell_type": "code",
      "source": [
        "len(processed_train_df), len(current_train)"
      ],
      "metadata": {
        "colab": {
          "base_uri": "https://localhost:8080/"
        },
        "id": "KPTJkvImbdyw",
        "outputId": "9a3514f5-3977-495b-fc0f-92d11dc771e4"
      },
      "execution_count": null,
      "outputs": [
        {
          "output_type": "execute_result",
          "data": {
            "text/plain": [
              "(56015, 56241)"
            ]
          },
          "metadata": {},
          "execution_count": 56
        }
      ]
    },
    {
      "cell_type": "markdown",
      "source": [
        "### current_train instances"
      ],
      "metadata": {
        "id": "Nt8raXTMitb6"
      }
    },
    {
      "cell_type": "code",
      "source": [
        "instance_selector_train = InstanceSelector(current_train, train_set_df, text_encoder, ecg_encoder)\n",
        "negative_instances_train = instance_selector_train.get_negative_instances(current_train, processed_train_df)"
      ],
      "metadata": {
        "id": "aGR7x85SJGRl"
      },
      "execution_count": null,
      "outputs": []
    },
    {
      "cell_type": "markdown",
      "source": [
        "### current_val instances"
      ],
      "metadata": {
        "id": "TfwiSP6iizz0"
      }
    },
    {
      "cell_type": "code",
      "source": [
        "instance_selector_val = InstanceSelector(current_train, train_set_df, text_encoder, ecg_encoder)\n",
        "negative_instances_val = instance_selector_train.get_negative_instances(current_val, processed_val_df)"
      ],
      "metadata": {
        "id": "i1Hj70kzis2u"
      },
      "execution_count": null,
      "outputs": []
    },
    {
      "cell_type": "markdown",
      "source": [
        "## CLIPModel\n",
        "\n",
        "The final component of the Model Pipeline is to create a `ClIPModel` class which takes `TextEncoder`, `ECGEncoder`, and `InstanceSelector` to train the final model with contrastive loss.  \n"
      ],
      "metadata": {
        "id": "c7kiBDRDpkhj"
      }
    },
    {
      "cell_type": "code",
      "source": [
        "class CLIPModel(nn.Module):\n",
        "    def __init__(self, train_set, processed_train_df, num_classes, embedding_size=768):\n",
        "        super(CLIPModel, self).__init__()\n",
        "        self.text_encoder = TextEncoder()\n",
        "        self.ecg_encoder = ECGEncoder(num_classes, embedding_size)\n",
        "        self.instance_selector = InstanceSelector(train_set, processed_train_df, self.text_encoder, self.ecg_encoder)\n",
        "\n",
        "    def forward(self, ecgs, diagnoses):\n",
        "        # Generate embeddings for the ECG signals and diagnoses\n",
        "        ecg_embeddings = self.ecg_encoder.encode(ecgs)  # I_f\n",
        "        diagnoses = [diagnosis.to(ecg_embeddings.device) for diagnosis in diagnoses]  # Move diagnoses to the same device as ecg_embeddings\n",
        "        diagnosis_embeddings = self.text_encoder.encode(diagnoses)  # T_f\n",
        "\n",
        "        # Joint multimodal embedding\n",
        "        ecg_embeddings = F.normalize(ecg_embeddings, dim=1)  # I_e\n",
        "        diagnosis_embeddings = F.normalize(diagnosis_embeddings, dim=1)  # T_e\n",
        "\n",
        "        # Scaled pairwise cosine similarities\n",
        "        logits = torch.mm(ecg_embeddings, diagnosis_embeddings.t())  # logits\n",
        "\n",
        "        # Symmetric loss function\n",
        "        labels = torch.arange(ecg_embeddings.size(0)).to(ecg_embeddings.device)\n",
        "        loss_ecg = F.cross_entropy(logits, labels)  # loss_i\n",
        "        loss_diagnosis = F.cross_entropy(logits.t(), labels)  # loss_t\n",
        "        loss = (loss_ecg + loss_diagnosis) / 2\n",
        "\n",
        "        return loss"
      ],
      "metadata": {
        "id": "GdYiDFA9KWKg"
      },
      "execution_count": 45,
      "outputs": []
    },
    {
      "cell_type": "markdown",
      "source": [
        "Example of how the CLIP-like model works:"
      ],
      "metadata": {
        "id": "QvhMQ5TGpreq"
      }
    },
    {
      "cell_type": "code",
      "source": [
        "sample_train_set_250 = [current_train[i] for i in range(250)]\n",
        "sample_processed_train_df_250 = processed_train_df.iloc[:250]"
      ],
      "metadata": {
        "id": "yTms9lncG0WG"
      },
      "execution_count": 38,
      "outputs": []
    },
    {
      "cell_type": "code",
      "source": [
        "# Initialize the CLIPModel\n",
        "clip_model = CLIPModel(sample_train_set_250, sample_processed_train_df_250, num_classes=133, embedding_size=768)\n",
        "\n",
        "# Move the model to GPU if available\n",
        "device = torch.device(\"cuda\" if torch.cuda.is_available() else \"cpu\")\n",
        "clip_model = clip_model.to(device)\n",
        "\n",
        "# Initialize the Adam optimizer\n",
        "optimizer = torch.optim.Adam(clip_model.ecg_encoder.parameters())"
      ],
      "metadata": {
        "id": "LdQjcCKpKYsE"
      },
      "execution_count": 46,
      "outputs": []
    },
    {
      "cell_type": "code",
      "source": [
        "num_params = sum(p.numel() for p in clip_model.parameters())\n",
        "print(\"Number of parameters: \", num_params)"
      ],
      "metadata": {
        "colab": {
          "base_uri": "https://localhost:8080/"
        },
        "id": "h_-NddgQ5wqb",
        "outputId": "2e4456dd-62f1-46d6-eed6-61d9b1efb913"
      },
      "execution_count": 40,
      "outputs": [
        {
          "output_type": "stream",
          "name": "stdout",
          "text": [
            "Number of parameters:  34223077\n"
          ]
        }
      ]
    },
    {
      "cell_type": "code",
      "source": [
        "# from tqdm.notebook import tqdm\n",
        "\n",
        "# num_epochs = 3  # Define the number of epochs\n",
        "\n",
        "# # Start the training loop\n",
        "# for epoch in range(num_epochs):\n",
        "#     # Set the model to training mode\n",
        "#     clip_model.train()\n",
        "\n",
        "#     # Initialize the total loss for this epoch\n",
        "#     total_loss = 0.0\n",
        "\n",
        "#     # Create a progress bar\n",
        "#     progress_bar = tqdm(range(len(sample_train_set_250)), desc=\"Training\")\n",
        "\n",
        "#     # Iterate over the training data\n",
        "#     for i in progress_bar:\n",
        "#         # Get the ECG signal and diagnosis\n",
        "#         signal = torch.from_numpy(sample_train_set_250[i][1]['val']).float().to(device)\n",
        "#         print(\"Input size to batch normalization layer: \", signal.size())\n",
        "#         diagnosis = sample_processed_train_df_250['dx_modality'][i]\n",
        "\n",
        "#         # Zero the gradients\n",
        "#         optimizer.zero_grad()\n",
        "\n",
        "#         # Forward pass\n",
        "#         loss = clip_model(signal, diagnosis)\n",
        "\n",
        "#         # Backward pass and optimize\n",
        "#         loss.backward()\n",
        "#         optimizer.step()\n",
        "\n",
        "#         # Update the total loss\n",
        "#         total_loss += loss.item()\n",
        "\n",
        "#         # Update the progress bar\n",
        "#         progress_bar.set_postfix({'epoch': epoch+1, 'loss': total_loss/(i+1)}, refresh=True)\n",
        "\n",
        "#     # Compute the average loss for this epoch\n",
        "#     avg_loss = total_loss / len(sample_train_set_250)\n",
        "\n",
        "#     # Update the description of the progress bar\n",
        "#     progress_bar.set_description(f'Epoch [{epoch+1}/{num_epochs}], Loss: {avg_loss:.4f}')\n",
        "\n",
        "#     # Print the results for this epoch\n",
        "#     print(f'Epoch [{epoch+1}/{num_epochs}], Loss: {avg_loss:.4f}')"
      ],
      "metadata": {
        "id": "VFop5EkSHiTT",
        "colab": {
          "base_uri": "https://localhost:8080/",
          "height": 439,
          "referenced_widgets": [
            "111b8911a95c4553acc85cb4af6b0002",
            "cb486df011a94c28a211675d76dc619c",
            "758f673b30fc479dbbb1071849a97c05",
            "eb5521e61bb34e2dbf6a0c328253b636",
            "196705cd2e224857b0f1bd661e71281c",
            "2e8af04f67e44d849a741312ffc5a035",
            "54abcad2bf8842d6a0506db170877b35",
            "36cb9fa5c9d6472da647c3fc20e94b34",
            "3c9c9346fbf84c3788271b967ab7486d",
            "de74f666789148dc82c5d533face174f",
            "b8eac272da73443da8cb22ecbcf8882b"
          ]
        },
        "outputId": "af5abc71-df99-415e-96e5-d388aebd0767"
      },
      "execution_count": 41,
      "outputs": [
        {
          "output_type": "display_data",
          "data": {
            "text/plain": [
              "Training:   0%|          | 0/250 [00:00<?, ?it/s]"
            ],
            "application/vnd.jupyter.widget-view+json": {
              "version_major": 2,
              "version_minor": 0,
              "model_id": "111b8911a95c4553acc85cb4af6b0002"
            }
          },
          "metadata": {}
        },
        {
          "output_type": "stream",
          "name": "stdout",
          "text": [
            "Input size to batch normalization layer:  torch.Size([3, 5000])\n"
          ]
        },
        {
          "output_type": "error",
          "ename": "RuntimeError",
          "evalue": "ignored",
          "traceback": [
            "\u001b[0;31m---------------------------------------------------------------------------\u001b[0m",
            "\u001b[0;31mRuntimeError\u001b[0m                              Traceback (most recent call last)",
            "\u001b[0;32m<ipython-input-41-fc6fc73c76a6>\u001b[0m in \u001b[0;36m<cell line: 6>\u001b[0;34m()\u001b[0m\n\u001b[1;32m     25\u001b[0m \u001b[0;34m\u001b[0m\u001b[0m\n\u001b[1;32m     26\u001b[0m         \u001b[0;31m# Forward pass\u001b[0m\u001b[0;34m\u001b[0m\u001b[0;34m\u001b[0m\u001b[0m\n\u001b[0;32m---> 27\u001b[0;31m         \u001b[0mloss\u001b[0m \u001b[0;34m=\u001b[0m \u001b[0mclip_model\u001b[0m\u001b[0;34m(\u001b[0m\u001b[0msignal\u001b[0m\u001b[0;34m,\u001b[0m \u001b[0mdiagnosis\u001b[0m\u001b[0;34m)\u001b[0m\u001b[0;34m\u001b[0m\u001b[0;34m\u001b[0m\u001b[0m\n\u001b[0m\u001b[1;32m     28\u001b[0m \u001b[0;34m\u001b[0m\u001b[0m\n\u001b[1;32m     29\u001b[0m         \u001b[0;31m# Backward pass and optimize\u001b[0m\u001b[0;34m\u001b[0m\u001b[0;34m\u001b[0m\u001b[0m\n",
            "\u001b[0;32m/usr/local/lib/python3.10/dist-packages/torch/nn/modules/module.py\u001b[0m in \u001b[0;36m_wrapped_call_impl\u001b[0;34m(self, *args, **kwargs)\u001b[0m\n\u001b[1;32m   1516\u001b[0m             \u001b[0;32mreturn\u001b[0m \u001b[0mself\u001b[0m\u001b[0;34m.\u001b[0m\u001b[0m_compiled_call_impl\u001b[0m\u001b[0;34m(\u001b[0m\u001b[0;34m*\u001b[0m\u001b[0margs\u001b[0m\u001b[0;34m,\u001b[0m \u001b[0;34m**\u001b[0m\u001b[0mkwargs\u001b[0m\u001b[0;34m)\u001b[0m  \u001b[0;31m# type: ignore[misc]\u001b[0m\u001b[0;34m\u001b[0m\u001b[0;34m\u001b[0m\u001b[0m\n\u001b[1;32m   1517\u001b[0m         \u001b[0;32melse\u001b[0m\u001b[0;34m:\u001b[0m\u001b[0;34m\u001b[0m\u001b[0;34m\u001b[0m\u001b[0m\n\u001b[0;32m-> 1518\u001b[0;31m             \u001b[0;32mreturn\u001b[0m \u001b[0mself\u001b[0m\u001b[0;34m.\u001b[0m\u001b[0m_call_impl\u001b[0m\u001b[0;34m(\u001b[0m\u001b[0;34m*\u001b[0m\u001b[0margs\u001b[0m\u001b[0;34m,\u001b[0m \u001b[0;34m**\u001b[0m\u001b[0mkwargs\u001b[0m\u001b[0;34m)\u001b[0m\u001b[0;34m\u001b[0m\u001b[0;34m\u001b[0m\u001b[0m\n\u001b[0m\u001b[1;32m   1519\u001b[0m \u001b[0;34m\u001b[0m\u001b[0m\n\u001b[1;32m   1520\u001b[0m     \u001b[0;32mdef\u001b[0m \u001b[0m_call_impl\u001b[0m\u001b[0;34m(\u001b[0m\u001b[0mself\u001b[0m\u001b[0;34m,\u001b[0m \u001b[0;34m*\u001b[0m\u001b[0margs\u001b[0m\u001b[0;34m,\u001b[0m \u001b[0;34m**\u001b[0m\u001b[0mkwargs\u001b[0m\u001b[0;34m)\u001b[0m\u001b[0;34m:\u001b[0m\u001b[0;34m\u001b[0m\u001b[0;34m\u001b[0m\u001b[0m\n",
            "\u001b[0;32m/usr/local/lib/python3.10/dist-packages/torch/nn/modules/module.py\u001b[0m in \u001b[0;36m_call_impl\u001b[0;34m(self, *args, **kwargs)\u001b[0m\n\u001b[1;32m   1525\u001b[0m                 \u001b[0;32mor\u001b[0m \u001b[0m_global_backward_pre_hooks\u001b[0m \u001b[0;32mor\u001b[0m \u001b[0m_global_backward_hooks\u001b[0m\u001b[0;34m\u001b[0m\u001b[0;34m\u001b[0m\u001b[0m\n\u001b[1;32m   1526\u001b[0m                 or _global_forward_hooks or _global_forward_pre_hooks):\n\u001b[0;32m-> 1527\u001b[0;31m             \u001b[0;32mreturn\u001b[0m \u001b[0mforward_call\u001b[0m\u001b[0;34m(\u001b[0m\u001b[0;34m*\u001b[0m\u001b[0margs\u001b[0m\u001b[0;34m,\u001b[0m \u001b[0;34m**\u001b[0m\u001b[0mkwargs\u001b[0m\u001b[0;34m)\u001b[0m\u001b[0;34m\u001b[0m\u001b[0;34m\u001b[0m\u001b[0m\n\u001b[0m\u001b[1;32m   1528\u001b[0m \u001b[0;34m\u001b[0m\u001b[0m\n\u001b[1;32m   1529\u001b[0m         \u001b[0;32mtry\u001b[0m\u001b[0;34m:\u001b[0m\u001b[0;34m\u001b[0m\u001b[0;34m\u001b[0m\u001b[0m\n",
            "\u001b[0;32m<ipython-input-37-db0282b5c428>\u001b[0m in \u001b[0;36mforward\u001b[0;34m(self, ecgs, diagnoses)\u001b[0m\n\u001b[1;32m      8\u001b[0m     \u001b[0;32mdef\u001b[0m \u001b[0mforward\u001b[0m\u001b[0;34m(\u001b[0m\u001b[0mself\u001b[0m\u001b[0;34m,\u001b[0m \u001b[0mecgs\u001b[0m\u001b[0;34m,\u001b[0m \u001b[0mdiagnoses\u001b[0m\u001b[0;34m)\u001b[0m\u001b[0;34m:\u001b[0m\u001b[0;34m\u001b[0m\u001b[0;34m\u001b[0m\u001b[0m\n\u001b[1;32m      9\u001b[0m         \u001b[0;31m# Generate embeddings for the ECG signals and diagnoses\u001b[0m\u001b[0;34m\u001b[0m\u001b[0;34m\u001b[0m\u001b[0m\n\u001b[0;32m---> 10\u001b[0;31m         \u001b[0mecg_embeddings\u001b[0m \u001b[0;34m=\u001b[0m \u001b[0mself\u001b[0m\u001b[0;34m.\u001b[0m\u001b[0mecg_encoder\u001b[0m\u001b[0;34m.\u001b[0m\u001b[0mencode\u001b[0m\u001b[0;34m(\u001b[0m\u001b[0mecgs\u001b[0m\u001b[0;34m)\u001b[0m  \u001b[0;31m# I_f\u001b[0m\u001b[0;34m\u001b[0m\u001b[0;34m\u001b[0m\u001b[0m\n\u001b[0m\u001b[1;32m     11\u001b[0m         \u001b[0mdiagnosis_embeddings\u001b[0m \u001b[0;34m=\u001b[0m \u001b[0mself\u001b[0m\u001b[0;34m.\u001b[0m\u001b[0mtext_encoder\u001b[0m\u001b[0;34m.\u001b[0m\u001b[0mencode\u001b[0m\u001b[0;34m(\u001b[0m\u001b[0mdiagnoses\u001b[0m\u001b[0;34m)\u001b[0m  \u001b[0;31m# T_f\u001b[0m\u001b[0;34m\u001b[0m\u001b[0;34m\u001b[0m\u001b[0m\n\u001b[1;32m     12\u001b[0m \u001b[0;34m\u001b[0m\u001b[0m\n",
            "\u001b[0;32m<ipython-input-28-d8a7f369e177>\u001b[0m in \u001b[0;36mencode\u001b[0;34m(self, signal)\u001b[0m\n\u001b[1;32m      5\u001b[0m \u001b[0;34m\u001b[0m\u001b[0m\n\u001b[1;32m      6\u001b[0m     \u001b[0;32mdef\u001b[0m \u001b[0mencode\u001b[0m\u001b[0;34m(\u001b[0m\u001b[0mself\u001b[0m\u001b[0;34m,\u001b[0m \u001b[0msignal\u001b[0m\u001b[0;34m)\u001b[0m\u001b[0;34m:\u001b[0m\u001b[0;34m\u001b[0m\u001b[0;34m\u001b[0m\u001b[0m\n\u001b[0;32m----> 7\u001b[0;31m         \u001b[0mencoded_signal\u001b[0m \u001b[0;34m=\u001b[0m \u001b[0mself\u001b[0m\u001b[0;34m.\u001b[0m\u001b[0mforward\u001b[0m\u001b[0;34m(\u001b[0m\u001b[0msignal\u001b[0m\u001b[0;34m)\u001b[0m\u001b[0;34m\u001b[0m\u001b[0;34m\u001b[0m\u001b[0m\n\u001b[0m\u001b[1;32m      8\u001b[0m         \u001b[0mencoded_signal\u001b[0m \u001b[0;34m=\u001b[0m \u001b[0mself\u001b[0m\u001b[0;34m.\u001b[0m\u001b[0mfc\u001b[0m\u001b[0;34m(\u001b[0m\u001b[0mencoded_signal\u001b[0m\u001b[0;34m)\u001b[0m  \u001b[0;31m# Transform the embedding to the common size\u001b[0m\u001b[0;34m\u001b[0m\u001b[0;34m\u001b[0m\u001b[0m\n\u001b[1;32m      9\u001b[0m         \u001b[0;32mreturn\u001b[0m \u001b[0mencoded_signal\u001b[0m\u001b[0;34m\u001b[0m\u001b[0;34m\u001b[0m\u001b[0m\n",
            "\u001b[0;32m<ipython-input-27-4e76bc9d0ef0>\u001b[0m in \u001b[0;36mforward\u001b[0;34m(self, x)\u001b[0m\n\u001b[1;32m     68\u001b[0m         \u001b[0;31m# Layer 1\u001b[0m\u001b[0;34m\u001b[0m\u001b[0;34m\u001b[0m\u001b[0m\n\u001b[1;32m     69\u001b[0m         \u001b[0mx\u001b[0m \u001b[0;34m=\u001b[0m \u001b[0mself\u001b[0m\u001b[0;34m.\u001b[0m\u001b[0mconv1\u001b[0m\u001b[0;34m(\u001b[0m\u001b[0mx\u001b[0m\u001b[0;34m)\u001b[0m\u001b[0;34m\u001b[0m\u001b[0;34m\u001b[0m\u001b[0m\n\u001b[0;32m---> 70\u001b[0;31m         \u001b[0mx\u001b[0m \u001b[0;34m=\u001b[0m \u001b[0mself\u001b[0m\u001b[0;34m.\u001b[0m\u001b[0mbn1\u001b[0m\u001b[0;34m(\u001b[0m\u001b[0mx\u001b[0m\u001b[0;34m)\u001b[0m\u001b[0;34m\u001b[0m\u001b[0;34m\u001b[0m\u001b[0m\n\u001b[0m\u001b[1;32m     71\u001b[0m         \u001b[0mx\u001b[0m \u001b[0;34m=\u001b[0m \u001b[0mself\u001b[0m\u001b[0;34m.\u001b[0m\u001b[0mrelu1\u001b[0m\u001b[0;34m(\u001b[0m\u001b[0mx\u001b[0m\u001b[0;34m)\u001b[0m\u001b[0;34m\u001b[0m\u001b[0;34m\u001b[0m\u001b[0m\n\u001b[1;32m     72\u001b[0m         \u001b[0mx\u001b[0m \u001b[0;34m=\u001b[0m \u001b[0mself\u001b[0m\u001b[0;34m.\u001b[0m\u001b[0mpool1\u001b[0m\u001b[0;34m(\u001b[0m\u001b[0mx\u001b[0m\u001b[0;34m)\u001b[0m\u001b[0;34m\u001b[0m\u001b[0;34m\u001b[0m\u001b[0m\n",
            "\u001b[0;32m/usr/local/lib/python3.10/dist-packages/torch/nn/modules/module.py\u001b[0m in \u001b[0;36m_wrapped_call_impl\u001b[0;34m(self, *args, **kwargs)\u001b[0m\n\u001b[1;32m   1516\u001b[0m             \u001b[0;32mreturn\u001b[0m \u001b[0mself\u001b[0m\u001b[0;34m.\u001b[0m\u001b[0m_compiled_call_impl\u001b[0m\u001b[0;34m(\u001b[0m\u001b[0;34m*\u001b[0m\u001b[0margs\u001b[0m\u001b[0;34m,\u001b[0m \u001b[0;34m**\u001b[0m\u001b[0mkwargs\u001b[0m\u001b[0;34m)\u001b[0m  \u001b[0;31m# type: ignore[misc]\u001b[0m\u001b[0;34m\u001b[0m\u001b[0;34m\u001b[0m\u001b[0m\n\u001b[1;32m   1517\u001b[0m         \u001b[0;32melse\u001b[0m\u001b[0;34m:\u001b[0m\u001b[0;34m\u001b[0m\u001b[0;34m\u001b[0m\u001b[0m\n\u001b[0;32m-> 1518\u001b[0;31m             \u001b[0;32mreturn\u001b[0m \u001b[0mself\u001b[0m\u001b[0;34m.\u001b[0m\u001b[0m_call_impl\u001b[0m\u001b[0;34m(\u001b[0m\u001b[0;34m*\u001b[0m\u001b[0margs\u001b[0m\u001b[0;34m,\u001b[0m \u001b[0;34m**\u001b[0m\u001b[0mkwargs\u001b[0m\u001b[0;34m)\u001b[0m\u001b[0;34m\u001b[0m\u001b[0;34m\u001b[0m\u001b[0m\n\u001b[0m\u001b[1;32m   1519\u001b[0m \u001b[0;34m\u001b[0m\u001b[0m\n\u001b[1;32m   1520\u001b[0m     \u001b[0;32mdef\u001b[0m \u001b[0m_call_impl\u001b[0m\u001b[0;34m(\u001b[0m\u001b[0mself\u001b[0m\u001b[0;34m,\u001b[0m \u001b[0;34m*\u001b[0m\u001b[0margs\u001b[0m\u001b[0;34m,\u001b[0m \u001b[0;34m**\u001b[0m\u001b[0mkwargs\u001b[0m\u001b[0;34m)\u001b[0m\u001b[0;34m:\u001b[0m\u001b[0;34m\u001b[0m\u001b[0;34m\u001b[0m\u001b[0m\n",
            "\u001b[0;32m/usr/local/lib/python3.10/dist-packages/torch/nn/modules/module.py\u001b[0m in \u001b[0;36m_call_impl\u001b[0;34m(self, *args, **kwargs)\u001b[0m\n\u001b[1;32m   1525\u001b[0m                 \u001b[0;32mor\u001b[0m \u001b[0m_global_backward_pre_hooks\u001b[0m \u001b[0;32mor\u001b[0m \u001b[0m_global_backward_hooks\u001b[0m\u001b[0;34m\u001b[0m\u001b[0;34m\u001b[0m\u001b[0m\n\u001b[1;32m   1526\u001b[0m                 or _global_forward_hooks or _global_forward_pre_hooks):\n\u001b[0;32m-> 1527\u001b[0;31m             \u001b[0;32mreturn\u001b[0m \u001b[0mforward_call\u001b[0m\u001b[0;34m(\u001b[0m\u001b[0;34m*\u001b[0m\u001b[0margs\u001b[0m\u001b[0;34m,\u001b[0m \u001b[0;34m**\u001b[0m\u001b[0mkwargs\u001b[0m\u001b[0;34m)\u001b[0m\u001b[0;34m\u001b[0m\u001b[0;34m\u001b[0m\u001b[0m\n\u001b[0m\u001b[1;32m   1528\u001b[0m \u001b[0;34m\u001b[0m\u001b[0m\n\u001b[1;32m   1529\u001b[0m         \u001b[0;32mtry\u001b[0m\u001b[0;34m:\u001b[0m\u001b[0;34m\u001b[0m\u001b[0;34m\u001b[0m\u001b[0m\n",
            "\u001b[0;32m/usr/local/lib/python3.10/dist-packages/torch/nn/modules/batchnorm.py\u001b[0m in \u001b[0;36mforward\u001b[0;34m(self, input)\u001b[0m\n\u001b[1;32m    169\u001b[0m         \u001b[0mused\u001b[0m \u001b[0;32mfor\u001b[0m \u001b[0mnormalization\u001b[0m \u001b[0;34m(\u001b[0m\u001b[0mi\u001b[0m\u001b[0;34m.\u001b[0m\u001b[0me\u001b[0m\u001b[0;34m.\u001b[0m \u001b[0;32min\u001b[0m \u001b[0meval\u001b[0m \u001b[0mmode\u001b[0m \u001b[0mwhen\u001b[0m \u001b[0mbuffers\u001b[0m \u001b[0mare\u001b[0m \u001b[0;32mnot\u001b[0m \u001b[0;32mNone\u001b[0m\u001b[0;34m)\u001b[0m\u001b[0;34m.\u001b[0m\u001b[0;34m\u001b[0m\u001b[0;34m\u001b[0m\u001b[0m\n\u001b[1;32m    170\u001b[0m         \"\"\"\n\u001b[0;32m--> 171\u001b[0;31m         return F.batch_norm(\n\u001b[0m\u001b[1;32m    172\u001b[0m             \u001b[0minput\u001b[0m\u001b[0;34m,\u001b[0m\u001b[0;34m\u001b[0m\u001b[0;34m\u001b[0m\u001b[0m\n\u001b[1;32m    173\u001b[0m             \u001b[0;31m# If buffers are not to be tracked, ensure that they won't be updated\u001b[0m\u001b[0;34m\u001b[0m\u001b[0;34m\u001b[0m\u001b[0m\n",
            "\u001b[0;32m/usr/local/lib/python3.10/dist-packages/torch/nn/functional.py\u001b[0m in \u001b[0;36mbatch_norm\u001b[0;34m(input, running_mean, running_var, weight, bias, training, momentum, eps)\u001b[0m\n\u001b[1;32m   2476\u001b[0m         \u001b[0m_verify_batch_size\u001b[0m\u001b[0;34m(\u001b[0m\u001b[0minput\u001b[0m\u001b[0;34m.\u001b[0m\u001b[0msize\u001b[0m\u001b[0;34m(\u001b[0m\u001b[0;34m)\u001b[0m\u001b[0;34m)\u001b[0m\u001b[0;34m\u001b[0m\u001b[0;34m\u001b[0m\u001b[0m\n\u001b[1;32m   2477\u001b[0m \u001b[0;34m\u001b[0m\u001b[0m\n\u001b[0;32m-> 2478\u001b[0;31m     return torch.batch_norm(\n\u001b[0m\u001b[1;32m   2479\u001b[0m         \u001b[0minput\u001b[0m\u001b[0;34m,\u001b[0m \u001b[0mweight\u001b[0m\u001b[0;34m,\u001b[0m \u001b[0mbias\u001b[0m\u001b[0;34m,\u001b[0m \u001b[0mrunning_mean\u001b[0m\u001b[0;34m,\u001b[0m \u001b[0mrunning_var\u001b[0m\u001b[0;34m,\u001b[0m \u001b[0mtraining\u001b[0m\u001b[0;34m,\u001b[0m \u001b[0mmomentum\u001b[0m\u001b[0;34m,\u001b[0m \u001b[0meps\u001b[0m\u001b[0;34m,\u001b[0m \u001b[0mtorch\u001b[0m\u001b[0;34m.\u001b[0m\u001b[0mbackends\u001b[0m\u001b[0;34m.\u001b[0m\u001b[0mcudnn\u001b[0m\u001b[0;34m.\u001b[0m\u001b[0menabled\u001b[0m\u001b[0;34m\u001b[0m\u001b[0;34m\u001b[0m\u001b[0m\n\u001b[1;32m   2480\u001b[0m     )\n",
            "\u001b[0;31mRuntimeError\u001b[0m: running_mean should contain 5000 elements not 16"
          ]
        }
      ]
    },
    {
      "cell_type": "code",
      "source": [
        "# Move the model to the GPU\n",
        "clip_model = clip_model.to(device)\n",
        "\n",
        "num_epochs = 3\n",
        "\n",
        "# Training loop\n",
        "for epoch in range(num_epochs):\n",
        "    # Set the model to training mode\n",
        "    clip_model.train()\n",
        "\n",
        "    # Loop over each batch in the training set\n",
        "    for i in range(len(sample_train_set_250)):\n",
        "        # Get the ECGs and diagnoses\n",
        "        ecgs = torch.tensor(sample_train_set_250[i][1]['val']).float().to(device)\n",
        "\n",
        "        # Reshape the ECGs\n",
        "        ecgs = ecgs.view(1, 3, -1)\n",
        "\n",
        "        # Get diagnoses as a list of strings\n",
        "        diagnoses_strings = sample_processed_train_df_250['dx_modality'][i]\n",
        "\n",
        "        # Zero the gradients\n",
        "        optimizer.zero_grad()\n",
        "\n",
        "        # Forward pass\n",
        "        loss = clip_model(ecgs, diagnoses_strings)\n",
        "\n",
        "        # Backward pass\n",
        "        loss.backward()\n",
        "\n",
        "        # Update the weights\n",
        "        optimizer.step()\n",
        "\n",
        "        # Print the loss for this batch\n",
        "        print(f\"Epoch {epoch+1}/{num_epochs}, Batch {i+1}/{len(sample_train_set_250)}, Loss: {loss.item()}\")\n",
        "\n",
        "    # Print the loss for this epoch\n",
        "    print(f\"Epoch {epoch+1}/{num_epochs}, Loss: {loss.item()}\")"
      ],
      "metadata": {
        "colab": {
          "base_uri": "https://localhost:8080/",
          "height": 1000
        },
        "id": "tkJOwNCELm3P",
        "outputId": "f66a310e-6401-4ddc-d89b-36db6cffe88b"
      },
      "execution_count": 47,
      "outputs": [
        {
          "output_type": "error",
          "ename": "RuntimeError",
          "evalue": "ignored",
          "traceback": [
            "\u001b[0;31m---------------------------------------------------------------------------\u001b[0m",
            "\u001b[0;31mRuntimeError\u001b[0m                              Traceback (most recent call last)",
            "\u001b[0;32m<ipython-input-47-a71381cd9aa3>\u001b[0m in \u001b[0;36m<cell line: 7>\u001b[0;34m()\u001b[0m\n\u001b[1;32m     24\u001b[0m \u001b[0;34m\u001b[0m\u001b[0m\n\u001b[1;32m     25\u001b[0m         \u001b[0;31m# Forward pass\u001b[0m\u001b[0;34m\u001b[0m\u001b[0;34m\u001b[0m\u001b[0m\n\u001b[0;32m---> 26\u001b[0;31m         \u001b[0mloss\u001b[0m \u001b[0;34m=\u001b[0m \u001b[0mclip_model\u001b[0m\u001b[0;34m(\u001b[0m\u001b[0mecgs\u001b[0m\u001b[0;34m,\u001b[0m \u001b[0mdiagnoses_strings\u001b[0m\u001b[0;34m)\u001b[0m\u001b[0;34m\u001b[0m\u001b[0;34m\u001b[0m\u001b[0m\n\u001b[0m\u001b[1;32m     27\u001b[0m \u001b[0;34m\u001b[0m\u001b[0m\n\u001b[1;32m     28\u001b[0m         \u001b[0;31m# Backward pass\u001b[0m\u001b[0;34m\u001b[0m\u001b[0;34m\u001b[0m\u001b[0m\n",
            "\u001b[0;32m/usr/local/lib/python3.10/dist-packages/torch/nn/modules/module.py\u001b[0m in \u001b[0;36m_wrapped_call_impl\u001b[0;34m(self, *args, **kwargs)\u001b[0m\n\u001b[1;32m   1516\u001b[0m             \u001b[0;32mreturn\u001b[0m \u001b[0mself\u001b[0m\u001b[0;34m.\u001b[0m\u001b[0m_compiled_call_impl\u001b[0m\u001b[0;34m(\u001b[0m\u001b[0;34m*\u001b[0m\u001b[0margs\u001b[0m\u001b[0;34m,\u001b[0m \u001b[0;34m**\u001b[0m\u001b[0mkwargs\u001b[0m\u001b[0;34m)\u001b[0m  \u001b[0;31m# type: ignore[misc]\u001b[0m\u001b[0;34m\u001b[0m\u001b[0;34m\u001b[0m\u001b[0m\n\u001b[1;32m   1517\u001b[0m         \u001b[0;32melse\u001b[0m\u001b[0;34m:\u001b[0m\u001b[0;34m\u001b[0m\u001b[0;34m\u001b[0m\u001b[0m\n\u001b[0;32m-> 1518\u001b[0;31m             \u001b[0;32mreturn\u001b[0m \u001b[0mself\u001b[0m\u001b[0;34m.\u001b[0m\u001b[0m_call_impl\u001b[0m\u001b[0;34m(\u001b[0m\u001b[0;34m*\u001b[0m\u001b[0margs\u001b[0m\u001b[0;34m,\u001b[0m \u001b[0;34m**\u001b[0m\u001b[0mkwargs\u001b[0m\u001b[0;34m)\u001b[0m\u001b[0;34m\u001b[0m\u001b[0;34m\u001b[0m\u001b[0m\n\u001b[0m\u001b[1;32m   1519\u001b[0m \u001b[0;34m\u001b[0m\u001b[0m\n\u001b[1;32m   1520\u001b[0m     \u001b[0;32mdef\u001b[0m \u001b[0m_call_impl\u001b[0m\u001b[0;34m(\u001b[0m\u001b[0mself\u001b[0m\u001b[0;34m,\u001b[0m \u001b[0;34m*\u001b[0m\u001b[0margs\u001b[0m\u001b[0;34m,\u001b[0m \u001b[0;34m**\u001b[0m\u001b[0mkwargs\u001b[0m\u001b[0;34m)\u001b[0m\u001b[0;34m:\u001b[0m\u001b[0;34m\u001b[0m\u001b[0;34m\u001b[0m\u001b[0m\n",
            "\u001b[0;32m/usr/local/lib/python3.10/dist-packages/torch/nn/modules/module.py\u001b[0m in \u001b[0;36m_call_impl\u001b[0;34m(self, *args, **kwargs)\u001b[0m\n\u001b[1;32m   1525\u001b[0m                 \u001b[0;32mor\u001b[0m \u001b[0m_global_backward_pre_hooks\u001b[0m \u001b[0;32mor\u001b[0m \u001b[0m_global_backward_hooks\u001b[0m\u001b[0;34m\u001b[0m\u001b[0;34m\u001b[0m\u001b[0m\n\u001b[1;32m   1526\u001b[0m                 or _global_forward_hooks or _global_forward_pre_hooks):\n\u001b[0;32m-> 1527\u001b[0;31m             \u001b[0;32mreturn\u001b[0m \u001b[0mforward_call\u001b[0m\u001b[0;34m(\u001b[0m\u001b[0;34m*\u001b[0m\u001b[0margs\u001b[0m\u001b[0;34m,\u001b[0m \u001b[0;34m**\u001b[0m\u001b[0mkwargs\u001b[0m\u001b[0;34m)\u001b[0m\u001b[0;34m\u001b[0m\u001b[0;34m\u001b[0m\u001b[0m\n\u001b[0m\u001b[1;32m   1528\u001b[0m \u001b[0;34m\u001b[0m\u001b[0m\n\u001b[1;32m   1529\u001b[0m         \u001b[0;32mtry\u001b[0m\u001b[0;34m:\u001b[0m\u001b[0;34m\u001b[0m\u001b[0;34m\u001b[0m\u001b[0m\n",
            "\u001b[0;32m<ipython-input-45-79edfdc641c9>\u001b[0m in \u001b[0;36mforward\u001b[0;34m(self, ecgs, diagnoses)\u001b[0m\n\u001b[1;32m      8\u001b[0m     \u001b[0;32mdef\u001b[0m \u001b[0mforward\u001b[0m\u001b[0;34m(\u001b[0m\u001b[0mself\u001b[0m\u001b[0;34m,\u001b[0m \u001b[0mecgs\u001b[0m\u001b[0;34m,\u001b[0m \u001b[0mdiagnoses\u001b[0m\u001b[0;34m)\u001b[0m\u001b[0;34m:\u001b[0m\u001b[0;34m\u001b[0m\u001b[0;34m\u001b[0m\u001b[0m\n\u001b[1;32m      9\u001b[0m         \u001b[0;31m# Generate embeddings for the ECG signals and diagnoses\u001b[0m\u001b[0;34m\u001b[0m\u001b[0;34m\u001b[0m\u001b[0m\n\u001b[0;32m---> 10\u001b[0;31m         \u001b[0mecg_embeddings\u001b[0m \u001b[0;34m=\u001b[0m \u001b[0mself\u001b[0m\u001b[0;34m.\u001b[0m\u001b[0mecg_encoder\u001b[0m\u001b[0;34m.\u001b[0m\u001b[0mencode\u001b[0m\u001b[0;34m(\u001b[0m\u001b[0mecgs\u001b[0m\u001b[0;34m)\u001b[0m  \u001b[0;31m# I_f\u001b[0m\u001b[0;34m\u001b[0m\u001b[0;34m\u001b[0m\u001b[0m\n\u001b[0m\u001b[1;32m     11\u001b[0m         \u001b[0mdiagnoses\u001b[0m \u001b[0;34m=\u001b[0m \u001b[0;34m[\u001b[0m\u001b[0mdiagnosis\u001b[0m\u001b[0;34m.\u001b[0m\u001b[0mto\u001b[0m\u001b[0;34m(\u001b[0m\u001b[0mecg_embeddings\u001b[0m\u001b[0;34m.\u001b[0m\u001b[0mdevice\u001b[0m\u001b[0;34m)\u001b[0m \u001b[0;32mfor\u001b[0m \u001b[0mdiagnosis\u001b[0m \u001b[0;32min\u001b[0m \u001b[0mdiagnoses\u001b[0m\u001b[0;34m]\u001b[0m  \u001b[0;31m# Move diagnoses to the same device as ecg_embeddings\u001b[0m\u001b[0;34m\u001b[0m\u001b[0;34m\u001b[0m\u001b[0m\n\u001b[1;32m     12\u001b[0m         \u001b[0mdiagnosis_embeddings\u001b[0m \u001b[0;34m=\u001b[0m \u001b[0mself\u001b[0m\u001b[0;34m.\u001b[0m\u001b[0mtext_encoder\u001b[0m\u001b[0;34m.\u001b[0m\u001b[0mencode\u001b[0m\u001b[0;34m(\u001b[0m\u001b[0mdiagnoses\u001b[0m\u001b[0;34m)\u001b[0m  \u001b[0;31m# T_f\u001b[0m\u001b[0;34m\u001b[0m\u001b[0;34m\u001b[0m\u001b[0m\n",
            "\u001b[0;32m<ipython-input-28-d8a7f369e177>\u001b[0m in \u001b[0;36mencode\u001b[0;34m(self, signal)\u001b[0m\n\u001b[1;32m      5\u001b[0m \u001b[0;34m\u001b[0m\u001b[0m\n\u001b[1;32m      6\u001b[0m     \u001b[0;32mdef\u001b[0m \u001b[0mencode\u001b[0m\u001b[0;34m(\u001b[0m\u001b[0mself\u001b[0m\u001b[0;34m,\u001b[0m \u001b[0msignal\u001b[0m\u001b[0;34m)\u001b[0m\u001b[0;34m:\u001b[0m\u001b[0;34m\u001b[0m\u001b[0;34m\u001b[0m\u001b[0m\n\u001b[0;32m----> 7\u001b[0;31m         \u001b[0mencoded_signal\u001b[0m \u001b[0;34m=\u001b[0m \u001b[0mself\u001b[0m\u001b[0;34m.\u001b[0m\u001b[0mforward\u001b[0m\u001b[0;34m(\u001b[0m\u001b[0msignal\u001b[0m\u001b[0;34m)\u001b[0m\u001b[0;34m\u001b[0m\u001b[0;34m\u001b[0m\u001b[0m\n\u001b[0m\u001b[1;32m      8\u001b[0m         \u001b[0mencoded_signal\u001b[0m \u001b[0;34m=\u001b[0m \u001b[0mself\u001b[0m\u001b[0;34m.\u001b[0m\u001b[0mfc\u001b[0m\u001b[0;34m(\u001b[0m\u001b[0mencoded_signal\u001b[0m\u001b[0;34m)\u001b[0m  \u001b[0;31m# Transform the embedding to the common size\u001b[0m\u001b[0;34m\u001b[0m\u001b[0;34m\u001b[0m\u001b[0m\n\u001b[1;32m      9\u001b[0m         \u001b[0;32mreturn\u001b[0m \u001b[0mencoded_signal\u001b[0m\u001b[0;34m\u001b[0m\u001b[0;34m\u001b[0m\u001b[0m\n",
            "\u001b[0;32m<ipython-input-27-4e76bc9d0ef0>\u001b[0m in \u001b[0;36mforward\u001b[0;34m(self, x)\u001b[0m\n\u001b[1;32m    125\u001b[0m \u001b[0;34m\u001b[0m\u001b[0m\n\u001b[1;32m    126\u001b[0m         \u001b[0;31m# Fully Connected Layer 1\u001b[0m\u001b[0;34m\u001b[0m\u001b[0;34m\u001b[0m\u001b[0m\n\u001b[0;32m--> 127\u001b[0;31m         \u001b[0mx\u001b[0m \u001b[0;34m=\u001b[0m \u001b[0mself\u001b[0m\u001b[0;34m.\u001b[0m\u001b[0mfc1\u001b[0m\u001b[0;34m(\u001b[0m\u001b[0mx\u001b[0m\u001b[0;34m)\u001b[0m\u001b[0;34m\u001b[0m\u001b[0;34m\u001b[0m\u001b[0m\n\u001b[0m\u001b[1;32m    128\u001b[0m         \u001b[0mx\u001b[0m \u001b[0;34m=\u001b[0m \u001b[0mself\u001b[0m\u001b[0;34m.\u001b[0m\u001b[0mrelu10\u001b[0m\u001b[0;34m(\u001b[0m\u001b[0mx\u001b[0m\u001b[0;34m)\u001b[0m  \u001b[0;31m# Renamed from relu5 to relu10\u001b[0m\u001b[0;34m\u001b[0m\u001b[0;34m\u001b[0m\u001b[0m\n\u001b[1;32m    129\u001b[0m         \u001b[0mx\u001b[0m \u001b[0;34m=\u001b[0m \u001b[0mself\u001b[0m\u001b[0;34m.\u001b[0m\u001b[0mdropout1\u001b[0m\u001b[0;34m(\u001b[0m\u001b[0mx\u001b[0m\u001b[0;34m)\u001b[0m\u001b[0;34m\u001b[0m\u001b[0;34m\u001b[0m\u001b[0m\n",
            "\u001b[0;32m/usr/local/lib/python3.10/dist-packages/torch/nn/modules/module.py\u001b[0m in \u001b[0;36m_wrapped_call_impl\u001b[0;34m(self, *args, **kwargs)\u001b[0m\n\u001b[1;32m   1516\u001b[0m             \u001b[0;32mreturn\u001b[0m \u001b[0mself\u001b[0m\u001b[0;34m.\u001b[0m\u001b[0m_compiled_call_impl\u001b[0m\u001b[0;34m(\u001b[0m\u001b[0;34m*\u001b[0m\u001b[0margs\u001b[0m\u001b[0;34m,\u001b[0m \u001b[0;34m**\u001b[0m\u001b[0mkwargs\u001b[0m\u001b[0;34m)\u001b[0m  \u001b[0;31m# type: ignore[misc]\u001b[0m\u001b[0;34m\u001b[0m\u001b[0;34m\u001b[0m\u001b[0m\n\u001b[1;32m   1517\u001b[0m         \u001b[0;32melse\u001b[0m\u001b[0;34m:\u001b[0m\u001b[0;34m\u001b[0m\u001b[0;34m\u001b[0m\u001b[0m\n\u001b[0;32m-> 1518\u001b[0;31m             \u001b[0;32mreturn\u001b[0m \u001b[0mself\u001b[0m\u001b[0;34m.\u001b[0m\u001b[0m_call_impl\u001b[0m\u001b[0;34m(\u001b[0m\u001b[0;34m*\u001b[0m\u001b[0margs\u001b[0m\u001b[0;34m,\u001b[0m \u001b[0;34m**\u001b[0m\u001b[0mkwargs\u001b[0m\u001b[0;34m)\u001b[0m\u001b[0;34m\u001b[0m\u001b[0;34m\u001b[0m\u001b[0m\n\u001b[0m\u001b[1;32m   1519\u001b[0m \u001b[0;34m\u001b[0m\u001b[0m\n\u001b[1;32m   1520\u001b[0m     \u001b[0;32mdef\u001b[0m \u001b[0m_call_impl\u001b[0m\u001b[0;34m(\u001b[0m\u001b[0mself\u001b[0m\u001b[0;34m,\u001b[0m \u001b[0;34m*\u001b[0m\u001b[0margs\u001b[0m\u001b[0;34m,\u001b[0m \u001b[0;34m**\u001b[0m\u001b[0mkwargs\u001b[0m\u001b[0;34m)\u001b[0m\u001b[0;34m:\u001b[0m\u001b[0;34m\u001b[0m\u001b[0;34m\u001b[0m\u001b[0m\n",
            "\u001b[0;32m/usr/local/lib/python3.10/dist-packages/torch/nn/modules/module.py\u001b[0m in \u001b[0;36m_call_impl\u001b[0;34m(self, *args, **kwargs)\u001b[0m\n\u001b[1;32m   1525\u001b[0m                 \u001b[0;32mor\u001b[0m \u001b[0m_global_backward_pre_hooks\u001b[0m \u001b[0;32mor\u001b[0m \u001b[0m_global_backward_hooks\u001b[0m\u001b[0;34m\u001b[0m\u001b[0;34m\u001b[0m\u001b[0m\n\u001b[1;32m   1526\u001b[0m                 or _global_forward_hooks or _global_forward_pre_hooks):\n\u001b[0;32m-> 1527\u001b[0;31m             \u001b[0;32mreturn\u001b[0m \u001b[0mforward_call\u001b[0m\u001b[0;34m(\u001b[0m\u001b[0;34m*\u001b[0m\u001b[0margs\u001b[0m\u001b[0;34m,\u001b[0m \u001b[0;34m**\u001b[0m\u001b[0mkwargs\u001b[0m\u001b[0;34m)\u001b[0m\u001b[0;34m\u001b[0m\u001b[0;34m\u001b[0m\u001b[0m\n\u001b[0m\u001b[1;32m   1528\u001b[0m \u001b[0;34m\u001b[0m\u001b[0m\n\u001b[1;32m   1529\u001b[0m         \u001b[0;32mtry\u001b[0m\u001b[0;34m:\u001b[0m\u001b[0;34m\u001b[0m\u001b[0;34m\u001b[0m\u001b[0m\n",
            "\u001b[0;32m/usr/local/lib/python3.10/dist-packages/torch/nn/modules/linear.py\u001b[0m in \u001b[0;36mforward\u001b[0;34m(self, input)\u001b[0m\n\u001b[1;32m    112\u001b[0m \u001b[0;34m\u001b[0m\u001b[0m\n\u001b[1;32m    113\u001b[0m     \u001b[0;32mdef\u001b[0m \u001b[0mforward\u001b[0m\u001b[0;34m(\u001b[0m\u001b[0mself\u001b[0m\u001b[0;34m,\u001b[0m \u001b[0minput\u001b[0m\u001b[0;34m:\u001b[0m \u001b[0mTensor\u001b[0m\u001b[0;34m)\u001b[0m \u001b[0;34m->\u001b[0m \u001b[0mTensor\u001b[0m\u001b[0;34m:\u001b[0m\u001b[0;34m\u001b[0m\u001b[0;34m\u001b[0m\u001b[0m\n\u001b[0;32m--> 114\u001b[0;31m         \u001b[0;32mreturn\u001b[0m \u001b[0mF\u001b[0m\u001b[0;34m.\u001b[0m\u001b[0mlinear\u001b[0m\u001b[0;34m(\u001b[0m\u001b[0minput\u001b[0m\u001b[0;34m,\u001b[0m \u001b[0mself\u001b[0m\u001b[0;34m.\u001b[0m\u001b[0mweight\u001b[0m\u001b[0;34m,\u001b[0m \u001b[0mself\u001b[0m\u001b[0;34m.\u001b[0m\u001b[0mbias\u001b[0m\u001b[0;34m)\u001b[0m\u001b[0;34m\u001b[0m\u001b[0;34m\u001b[0m\u001b[0m\n\u001b[0m\u001b[1;32m    115\u001b[0m \u001b[0;34m\u001b[0m\u001b[0m\n\u001b[1;32m    116\u001b[0m     \u001b[0;32mdef\u001b[0m \u001b[0mextra_repr\u001b[0m\u001b[0;34m(\u001b[0m\u001b[0mself\u001b[0m\u001b[0;34m)\u001b[0m \u001b[0;34m->\u001b[0m \u001b[0mstr\u001b[0m\u001b[0;34m:\u001b[0m\u001b[0;34m\u001b[0m\u001b[0;34m\u001b[0m\u001b[0m\n",
            "\u001b[0;31mRuntimeError\u001b[0m: Expected all tensors to be on the same device, but found at least two devices, cpu and cuda:0! (when checking argument for argument mat1 in method wrapper_CUDA_addmm)"
          ]
        }
      ]
    }
  ]
}