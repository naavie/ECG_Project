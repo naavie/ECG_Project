{
  "cells": [
    {
      "cell_type": "markdown",
      "metadata": {
        "id": "vxUWRxQ6kpv6"
      },
      "source": [
        "# Main Thesis Topic: “Zero-shot classification of ECG signals using CLIP-like model”.\n",
        "\n",
        "**For example: Train on PBT-XL:**\n",
        "\n",
        "- Text Encoder: ClinicalBERT (trained on diagnoses of ECG signal to obtain corresponding embeddings)\n",
        "- Image Encoder: 1D-CNN (used to encode ECG signal to obtain signal embeddings)\n",
        "\n",
        "- Experiment A): Baseline: We can take only the name of the class. For example, take “Myocardial Infarction” as a text. We should exclude some classes from training and after training is completed, the CLIP-like model can be tested on these excluded classes.\n",
        "    - Next, we get embeddings of text from ClinicalBERT and train the ECG encoder with contrastive loss.\n",
        "\n",
        "- Experiment B): Same as Experiment A but instead of testing on the same dataset/classes, we would test on other datasets containing different classes.\n",
        "\n",
        "**Evaluation metrics:**\n",
        "- Main: AUC-ROC, average_precison_score,\n",
        "- Optional: Specificity, Sensitivity, F1-score\n",
        "\n",
        "**Outcome:**\n",
        "- It’s possible to train CLIP-like models with freezed (or unchanged/not fine tuned for downstream tasks) text encoder\n",
        "- Training ECG encoders that are viable for representing different domains (within ECG modality) and previously unseen classes.\n",
        "- Training a CLIP-like model on ECGs has little novelty."
      ]
    },
    {
      "cell_type": "markdown",
      "metadata": {
        "id": "tpU_QkJbkphl"
      },
      "source": [
        "First, we preprocess the ECG data from the PhysioNet 2021 challenge dataset. This data will be loaded using the ```PhysioNetDataset``` class."
      ]
    },
    {
      "cell_type": "code",
      "execution_count": 1,
      "metadata": {
        "colab": {
          "base_uri": "https://localhost:8080/"
        },
        "id": "7ZsYg-ijm_SZ",
        "outputId": "457f83c8-e08c-4858-d13c-5130cc409a33"
      },
      "outputs": [
        {
          "name": "stdout",
          "output_type": "stream",
          "text": [
            "Requirement already satisfied: transformers in /usr/local/lib/python3.10/dist-packages (4.35.2)\n",
            "Requirement already satisfied: filelock in /usr/local/lib/python3.10/dist-packages (from transformers) (3.13.1)\n",
            "Requirement already satisfied: huggingface-hub<1.0,>=0.16.4 in /usr/local/lib/python3.10/dist-packages (from transformers) (0.19.4)\n",
            "Requirement already satisfied: numpy>=1.17 in /usr/local/lib/python3.10/dist-packages (from transformers) (1.23.5)\n",
            "Requirement already satisfied: packaging>=20.0 in /usr/local/lib/python3.10/dist-packages (from transformers) (23.2)\n",
            "Requirement already satisfied: pyyaml>=5.1 in /usr/local/lib/python3.10/dist-packages (from transformers) (6.0.1)\n",
            "Requirement already satisfied: regex!=2019.12.17 in /usr/local/lib/python3.10/dist-packages (from transformers) (2023.6.3)\n",
            "Requirement already satisfied: requests in /usr/local/lib/python3.10/dist-packages (from transformers) (2.31.0)\n",
            "Requirement already satisfied: tokenizers<0.19,>=0.14 in /usr/local/lib/python3.10/dist-packages (from transformers) (0.15.0)\n",
            "Requirement already satisfied: safetensors>=0.3.1 in /usr/local/lib/python3.10/dist-packages (from transformers) (0.4.0)\n",
            "Requirement already satisfied: tqdm>=4.27 in /usr/local/lib/python3.10/dist-packages (from transformers) (4.66.1)\n",
            "Requirement already satisfied: fsspec>=2023.5.0 in /usr/local/lib/python3.10/dist-packages (from huggingface-hub<1.0,>=0.16.4->transformers) (2023.6.0)\n",
            "Requirement already satisfied: typing-extensions>=3.7.4.3 in /usr/local/lib/python3.10/dist-packages (from huggingface-hub<1.0,>=0.16.4->transformers) (4.5.0)\n",
            "Requirement already satisfied: charset-normalizer<4,>=2 in /usr/local/lib/python3.10/dist-packages (from requests->transformers) (3.3.2)\n",
            "Requirement already satisfied: idna<4,>=2.5 in /usr/local/lib/python3.10/dist-packages (from requests->transformers) (3.4)\n",
            "Requirement already satisfied: urllib3<3,>=1.21.1 in /usr/local/lib/python3.10/dist-packages (from requests->transformers) (2.0.7)\n",
            "Requirement already satisfied: certifi>=2017.4.17 in /usr/local/lib/python3.10/dist-packages (from requests->transformers) (2023.7.22)\n"
          ]
        }
      ],
      "source": [
        "pip install transformers"
      ]
    },
    {
      "cell_type": "code",
      "execution_count": 2,
      "metadata": {
        "id": "DESjsMD6msly"
      },
      "outputs": [],
      "source": [
        "import os\n",
        "import numpy as np\n",
        "import pandas as pd\n",
        "import matplotlib.pyplot as plt\n",
        "import sys\n",
        "from tqdm import tqdm\n",
        "from scipy.signal import resample\n",
        "import torch\n",
        "from transformers import AutoTokenizer, AutoModel\n",
        "import ast\n",
        "import scipy.io as sio\n",
        "from torch.utils.data import random_split"
      ]
    },
    {
      "cell_type": "code",
      "execution_count": 3,
      "metadata": {
        "id": "GhwddqKonGjj"
      },
      "outputs": [],
      "source": [
        "import torch\n",
        "import torch.nn as nn"
      ]
    },
    {
      "cell_type": "code",
      "execution_count": 4,
      "metadata": {
        "colab": {
          "base_uri": "https://localhost:8080/"
        },
        "id": "-gf6SqxvnLe_",
        "outputId": "df430fc2-5cfa-44a3-adc4-57799c952973"
      },
      "outputs": [
        {
          "name": "stdout",
          "output_type": "stream",
          "text": [
            "Mounted at /content/drive\n"
          ]
        }
      ],
      "source": [
        "from google.colab import drive\n",
        "drive.mount('/content/drive')"
      ]
    },
    {
      "cell_type": "code",
      "execution_count": 5,
      "metadata": {
        "colab": {
          "base_uri": "https://localhost:8080/",
          "height": 35
        },
        "id": "bjmTccPIlRw_",
        "outputId": "5cca4d57-9fa9-4952-c48a-ac436d9b8de9"
      },
      "outputs": [
        {
          "data": {
            "application/vnd.google.colaboratory.intrinsic+json": {
              "type": "string"
            },
            "text/plain": [
              "'/content/drive/MyDrive/ECG Project (Shared Folder)/PyFiles'"
            ]
          },
          "execution_count": 5,
          "metadata": {},
          "output_type": "execute_result"
        }
      ],
      "source": [
        "PyFiles_PATH = '/content/drive/MyDrive/ECG Project (Shared Folder)/PyFiles'\n",
        "PyFiles_PATH"
      ]
    },
    {
      "cell_type": "code",
      "execution_count": 6,
      "metadata": {
        "id": "YMFCo5Dhodod"
      },
      "outputs": [],
      "source": [
        "sys.path.append(PyFiles_PATH)"
      ]
    },
    {
      "cell_type": "code",
      "execution_count": 7,
      "metadata": {
        "id": "2PTBgxoVoftS"
      },
      "outputs": [],
      "source": [
        "from helper_functions import *\n",
        "from dataset import PhysioNetDataset"
      ]
    },
    {
      "cell_type": "code",
      "execution_count": 8,
      "metadata": {
        "colab": {
          "base_uri": "https://localhost:8080/",
          "height": 35
        },
        "id": "HVG29MIEntWY",
        "outputId": "f3e23605-c4bc-4887-e70e-1d93098c225a"
      },
      "outputs": [
        {
          "data": {
            "application/vnd.google.colaboratory.intrinsic+json": {
              "type": "string"
            },
            "text/plain": [
              "'/content/drive/MyDrive/ECG Project (Shared Folder)/Datasets/physionet.org/files/challenge-2021/1.0.3/training'"
            ]
          },
          "execution_count": 8,
          "metadata": {},
          "output_type": "execute_result"
        }
      ],
      "source": [
        "# Path to training folder within PhysioNet dataset\n",
        "PhysioNet_PATH = '/content/drive/MyDrive/ECG Project (Shared Folder)/Datasets/physionet.org/files/challenge-2021/1.0.3/training'\n",
        "PhysioNet_PATH"
      ]
    },
    {
      "cell_type": "markdown",
      "metadata": {
        "id": "gFKRs4iWlBIf"
      },
      "source": [
        "Using the ```PhysioNet_PATH```, we can create separate datasets for training, testing & validation.\n",
        "\n",
        "# Stage 1: Data Preprocessing\n",
        "\n",
        "- train_set (train & validation data)\n",
        "- test_set (test data)"
      ]
    },
    {
      "cell_type": "markdown",
      "metadata": {
        "id": "EhiS24jQyxbl"
      },
      "source": [
        "Google CPU is quite slow when processing the for-loops below so if you have a decent CPU, you can try connecting to local run time via Jupyter Lab for this portion of the pipeline only.\n",
        "\n",
        "```\n",
        "jupyter notebook --NotebookApp.allow_origin='https://colab.research.google.com' --port=8888 --NotebookApp.port_retries=0\n",
        "```"
      ]
    },
    {
      "cell_type": "code",
      "execution_count": 9,
      "metadata": {
        "colab": {
          "base_uri": "https://localhost:8080/"
        },
        "id": "YjAdGhswomFf",
        "outputId": "17e6918d-8cfd-416f-a92d-88e097cf6db0"
      },
      "outputs": [
        {
          "data": {
            "text/plain": [
              "(66167, 22352)"
            ]
          },
          "execution_count": 9,
          "metadata": {},
          "output_type": "execute_result"
        }
      ],
      "source": [
        "train_set = PhysioNetDataset(PhysioNet_PATH, train=True)\n",
        "test_set = PhysioNetDataset(PhysioNet_PATH, train=False)\n",
        "\n",
        "len(train_set), len(test_set)"
      ]
    },
    {
      "cell_type": "markdown",
      "metadata": {
        "id": "ImDPWQaxlgac"
      },
      "source": [
        "The ```train_set``` can be split into ```current_train``` (85%) and ```current_val``` (15%)."
      ]
    },
    {
      "cell_type": "code",
      "execution_count": 10,
      "metadata": {
        "id": "L7Jt6d0hlg_X"
      },
      "outputs": [],
      "source": [
        "# Set the seed for the random number generator\n",
        "torch.manual_seed(0)\n",
        "\n",
        "# Get the length of the train_set\n",
        "length = len(train_set)\n",
        "\n",
        "# Calculate the lengths of the splits\n",
        "train_length = int(0.85 * length)\n",
        "val_length = length - train_length\n",
        "\n",
        "# Split the dataset\n",
        "current_train, current_val = random_split(train_set, [train_length, val_length])"
      ]
    },
    {
      "cell_type": "markdown",
      "metadata": {
        "id": "3yZBQHe7m01q"
      },
      "source": [
        "The next step is to extract the header data for ```current_train```, ```current_val```, and ```test_set``` and save the data to a csv file."
      ]
    },
    {
      "cell_type": "markdown",
      "metadata": {
        "id": "Ui4Vskipm2rl"
      },
      "source": [
        "## current_train"
      ]
    },
    {
      "cell_type": "code",
      "execution_count": null,
      "metadata": {
        "id": "UzVf5z0bm0b_"
      },
      "outputs": [],
      "source": [
        "# Initialize an empty list to store the records\n",
        "records = []\n",
        "\n",
        "# Iterate over all records\n",
        "for i in tqdm(range(len(current_train)), desc=\"Processing records\"):\n",
        "    record, _ = current_train[i]  # Get the record (ignore the ECG data for now)\n",
        "\n",
        "    # Flatten the 'leads_info' list into separate columns for each lead\n",
        "    for j, lead_info in enumerate(record['leads_info']):\n",
        "        for key, value in lead_info.items():\n",
        "            record[f'lead_{j}_{key}'] = value\n",
        "    del record['leads_info']  # We don't need the 'leads_info' list anymore\n",
        "\n",
        "    # Append the record to the list\n",
        "    records.append(record)\n",
        "\n",
        "# Convert the list of records into a DataFrame\n",
        "df = pd.DataFrame(records)\n",
        "\n",
        "# Save the DataFrame to a CSV file\n",
        "df.to_csv('train_set_records.csv', index=False)\n",
        "\n",
        "print(f\"Processed {len(records)} records.\")"
      ]
    },
    {
      "cell_type": "markdown",
      "metadata": {
        "id": "bU7dksHSm4uL"
      },
      "source": [
        "## current_val"
      ]
    },
    {
      "cell_type": "code",
      "execution_count": null,
      "metadata": {
        "id": "6W6EKIsOnaP4"
      },
      "outputs": [],
      "source": [
        "# Initialize an empty list to store the records\n",
        "records = []\n",
        "\n",
        "# Iterate over all records\n",
        "for i in tqdm(range(len(current_val)), desc=\"Processing records\"):\n",
        "    record, _ = current_val[i]  # Get the record (ignore the ECG data for now)\n",
        "\n",
        "    # Flatten the 'leads_info' list into separate columns for each lead\n",
        "    for j, lead_info in enumerate(record['leads_info']):\n",
        "        for key, value in lead_info.items():\n",
        "            record[f'lead_{j}_{key}'] = value\n",
        "    del record['leads_info']  # We don't need the 'leads_info' list anymore\n",
        "\n",
        "    # Append the record to the list\n",
        "    records.append(record)\n",
        "\n",
        "# Convert the list of records into a DataFrame\n",
        "df = pd.DataFrame(records)\n",
        "\n",
        "# Save the DataFrame to a CSV file\n",
        "df.to_csv('val_set_records.csv', index=False)\n",
        "\n",
        "print(f\"Processed {len(records)} records.\")"
      ]
    },
    {
      "cell_type": "markdown",
      "metadata": {
        "id": "B0rXO4Mincrj"
      },
      "source": [
        "## test_set"
      ]
    },
    {
      "cell_type": "code",
      "execution_count": null,
      "metadata": {
        "id": "mocbQyaNneSO"
      },
      "outputs": [],
      "source": [
        "# Initialize an empty list to store the records\n",
        "records = []\n",
        "\n",
        "# Iterate over all records\n",
        "for i in tqdm(range(len(test_set)), desc=\"Processing records\"):\n",
        "    record, _ = test_set[i]  # Get the record (ignore the ECG data for now)\n",
        "\n",
        "    # Flatten the 'leads_info' list into separate columns for each lead\n",
        "    for j, lead_info in enumerate(record['leads_info']):\n",
        "        for key, value in lead_info.items():\n",
        "            record[f'lead_{j}_{key}'] = value\n",
        "    del record['leads_info']  # We don't need the 'leads_info' list anymore\n",
        "\n",
        "    # Append the record to the list\n",
        "    records.append(record)\n",
        "\n",
        "# Convert the list of records into a DataFrame\n",
        "df = pd.DataFrame(records)\n",
        "\n",
        "# Save the DataFrame to a CSV file\n",
        "df.to_csv('test_set_records.csv', index=False)\n",
        "\n",
        "print(f\"Processed {len(records)} records.\")"
      ]
    },
    {
      "cell_type": "markdown",
      "metadata": {
        "id": "c7gnW04RnkU5"
      },
      "source": [
        "Now that the header data has been extracted and saved to csv files, we can map the corresponding SNOWMED-CT code to the csv files too."
      ]
    },
    {
      "cell_type": "markdown",
      "metadata": {
        "id": "aGWgmmqmnkSV"
      },
      "source": [
        "First, let's load the SNOWMED-CT mappings:"
      ]
    },
    {
      "cell_type": "code",
      "execution_count": 11,
      "metadata": {
        "colab": {
          "base_uri": "https://localhost:8080/",
          "height": 112
        },
        "id": "_b5vXD9TnoI2",
        "outputId": "e74d8393-ed31-4415-fd52-6df3868c82b6"
      },
      "outputs": [
        {
          "data": {
            "text/html": [
              "\n",
              "  <div id=\"df-3086afe5-26c9-4736-ad57-bfcf605866e1\" class=\"colab-df-container\">\n",
              "    <div>\n",
              "<style scoped>\n",
              "    .dataframe tbody tr th:only-of-type {\n",
              "        vertical-align: middle;\n",
              "    }\n",
              "\n",
              "    .dataframe tbody tr th {\n",
              "        vertical-align: top;\n",
              "    }\n",
              "\n",
              "    .dataframe thead th {\n",
              "        text-align: right;\n",
              "    }\n",
              "</style>\n",
              "<table border=\"1\" class=\"dataframe\">\n",
              "  <thead>\n",
              "    <tr style=\"text-align: right;\">\n",
              "      <th></th>\n",
              "      <th>Dx</th>\n",
              "      <th>SNOMEDCTCode</th>\n",
              "      <th>Abbreviation</th>\n",
              "      <th>CPSC</th>\n",
              "      <th>CPSC_Extra</th>\n",
              "      <th>StPetersburg</th>\n",
              "      <th>PTB</th>\n",
              "      <th>PTB_XL</th>\n",
              "      <th>Georgia</th>\n",
              "      <th>Chapman_Shaoxing</th>\n",
              "      <th>Ningbo</th>\n",
              "      <th>Total</th>\n",
              "      <th>Notes</th>\n",
              "    </tr>\n",
              "  </thead>\n",
              "  <tbody>\n",
              "    <tr>\n",
              "      <th>0</th>\n",
              "      <td>atrial fibrillation</td>\n",
              "      <td>164889003</td>\n",
              "      <td>AF</td>\n",
              "      <td>1221</td>\n",
              "      <td>153</td>\n",
              "      <td>2</td>\n",
              "      <td>15</td>\n",
              "      <td>1514</td>\n",
              "      <td>570</td>\n",
              "      <td>1780</td>\n",
              "      <td>0</td>\n",
              "      <td>5255</td>\n",
              "      <td>NaN</td>\n",
              "    </tr>\n",
              "    <tr>\n",
              "      <th>1</th>\n",
              "      <td>atrial flutter</td>\n",
              "      <td>164890007</td>\n",
              "      <td>AFL</td>\n",
              "      <td>0</td>\n",
              "      <td>54</td>\n",
              "      <td>0</td>\n",
              "      <td>1</td>\n",
              "      <td>73</td>\n",
              "      <td>186</td>\n",
              "      <td>445</td>\n",
              "      <td>7615</td>\n",
              "      <td>8374</td>\n",
              "      <td>NaN</td>\n",
              "    </tr>\n",
              "  </tbody>\n",
              "</table>\n",
              "</div>\n",
              "    <div class=\"colab-df-buttons\">\n",
              "\n",
              "  <div class=\"colab-df-container\">\n",
              "    <button class=\"colab-df-convert\" onclick=\"convertToInteractive('df-3086afe5-26c9-4736-ad57-bfcf605866e1')\"\n",
              "            title=\"Convert this dataframe to an interactive table.\"\n",
              "            style=\"display:none;\">\n",
              "\n",
              "  <svg xmlns=\"http://www.w3.org/2000/svg\" height=\"24px\" viewBox=\"0 -960 960 960\">\n",
              "    <path d=\"M120-120v-720h720v720H120Zm60-500h600v-160H180v160Zm220 220h160v-160H400v160Zm0 220h160v-160H400v160ZM180-400h160v-160H180v160Zm440 0h160v-160H620v160ZM180-180h160v-160H180v160Zm440 0h160v-160H620v160Z\"/>\n",
              "  </svg>\n",
              "    </button>\n",
              "\n",
              "  <style>\n",
              "    .colab-df-container {\n",
              "      display:flex;\n",
              "      gap: 12px;\n",
              "    }\n",
              "\n",
              "    .colab-df-convert {\n",
              "      background-color: #E8F0FE;\n",
              "      border: none;\n",
              "      border-radius: 50%;\n",
              "      cursor: pointer;\n",
              "      display: none;\n",
              "      fill: #1967D2;\n",
              "      height: 32px;\n",
              "      padding: 0 0 0 0;\n",
              "      width: 32px;\n",
              "    }\n",
              "\n",
              "    .colab-df-convert:hover {\n",
              "      background-color: #E2EBFA;\n",
              "      box-shadow: 0px 1px 2px rgba(60, 64, 67, 0.3), 0px 1px 3px 1px rgba(60, 64, 67, 0.15);\n",
              "      fill: #174EA6;\n",
              "    }\n",
              "\n",
              "    .colab-df-buttons div {\n",
              "      margin-bottom: 4px;\n",
              "    }\n",
              "\n",
              "    [theme=dark] .colab-df-convert {\n",
              "      background-color: #3B4455;\n",
              "      fill: #D2E3FC;\n",
              "    }\n",
              "\n",
              "    [theme=dark] .colab-df-convert:hover {\n",
              "      background-color: #434B5C;\n",
              "      box-shadow: 0px 1px 3px 1px rgba(0, 0, 0, 0.15);\n",
              "      filter: drop-shadow(0px 1px 2px rgba(0, 0, 0, 0.3));\n",
              "      fill: #FFFFFF;\n",
              "    }\n",
              "  </style>\n",
              "\n",
              "    <script>\n",
              "      const buttonEl =\n",
              "        document.querySelector('#df-3086afe5-26c9-4736-ad57-bfcf605866e1 button.colab-df-convert');\n",
              "      buttonEl.style.display =\n",
              "        google.colab.kernel.accessAllowed ? 'block' : 'none';\n",
              "\n",
              "      async function convertToInteractive(key) {\n",
              "        const element = document.querySelector('#df-3086afe5-26c9-4736-ad57-bfcf605866e1');\n",
              "        const dataTable =\n",
              "          await google.colab.kernel.invokeFunction('convertToInteractive',\n",
              "                                                    [key], {});\n",
              "        if (!dataTable) return;\n",
              "\n",
              "        const docLinkHtml = 'Like what you see? Visit the ' +\n",
              "          '<a target=\"_blank\" href=https://colab.research.google.com/notebooks/data_table.ipynb>data table notebook</a>'\n",
              "          + ' to learn more about interactive tables.';\n",
              "        element.innerHTML = '';\n",
              "        dataTable['output_type'] = 'display_data';\n",
              "        await google.colab.output.renderOutput(dataTable, element);\n",
              "        const docLink = document.createElement('div');\n",
              "        docLink.innerHTML = docLinkHtml;\n",
              "        element.appendChild(docLink);\n",
              "      }\n",
              "    </script>\n",
              "  </div>\n",
              "\n",
              "\n",
              "<div id=\"df-7e1cc40e-af84-46a8-8d1a-454a7d76bf60\">\n",
              "  <button class=\"colab-df-quickchart\" onclick=\"quickchart('df-7e1cc40e-af84-46a8-8d1a-454a7d76bf60')\"\n",
              "            title=\"Suggest charts\"\n",
              "            style=\"display:none;\">\n",
              "\n",
              "<svg xmlns=\"http://www.w3.org/2000/svg\" height=\"24px\"viewBox=\"0 0 24 24\"\n",
              "     width=\"24px\">\n",
              "    <g>\n",
              "        <path d=\"M19 3H5c-1.1 0-2 .9-2 2v14c0 1.1.9 2 2 2h14c1.1 0 2-.9 2-2V5c0-1.1-.9-2-2-2zM9 17H7v-7h2v7zm4 0h-2V7h2v10zm4 0h-2v-4h2v4z\"/>\n",
              "    </g>\n",
              "</svg>\n",
              "  </button>\n",
              "\n",
              "<style>\n",
              "  .colab-df-quickchart {\n",
              "      --bg-color: #E8F0FE;\n",
              "      --fill-color: #1967D2;\n",
              "      --hover-bg-color: #E2EBFA;\n",
              "      --hover-fill-color: #174EA6;\n",
              "      --disabled-fill-color: #AAA;\n",
              "      --disabled-bg-color: #DDD;\n",
              "  }\n",
              "\n",
              "  [theme=dark] .colab-df-quickchart {\n",
              "      --bg-color: #3B4455;\n",
              "      --fill-color: #D2E3FC;\n",
              "      --hover-bg-color: #434B5C;\n",
              "      --hover-fill-color: #FFFFFF;\n",
              "      --disabled-bg-color: #3B4455;\n",
              "      --disabled-fill-color: #666;\n",
              "  }\n",
              "\n",
              "  .colab-df-quickchart {\n",
              "    background-color: var(--bg-color);\n",
              "    border: none;\n",
              "    border-radius: 50%;\n",
              "    cursor: pointer;\n",
              "    display: none;\n",
              "    fill: var(--fill-color);\n",
              "    height: 32px;\n",
              "    padding: 0;\n",
              "    width: 32px;\n",
              "  }\n",
              "\n",
              "  .colab-df-quickchart:hover {\n",
              "    background-color: var(--hover-bg-color);\n",
              "    box-shadow: 0 1px 2px rgba(60, 64, 67, 0.3), 0 1px 3px 1px rgba(60, 64, 67, 0.15);\n",
              "    fill: var(--button-hover-fill-color);\n",
              "  }\n",
              "\n",
              "  .colab-df-quickchart-complete:disabled,\n",
              "  .colab-df-quickchart-complete:disabled:hover {\n",
              "    background-color: var(--disabled-bg-color);\n",
              "    fill: var(--disabled-fill-color);\n",
              "    box-shadow: none;\n",
              "  }\n",
              "\n",
              "  .colab-df-spinner {\n",
              "    border: 2px solid var(--fill-color);\n",
              "    border-color: transparent;\n",
              "    border-bottom-color: var(--fill-color);\n",
              "    animation:\n",
              "      spin 1s steps(1) infinite;\n",
              "  }\n",
              "\n",
              "  @keyframes spin {\n",
              "    0% {\n",
              "      border-color: transparent;\n",
              "      border-bottom-color: var(--fill-color);\n",
              "      border-left-color: var(--fill-color);\n",
              "    }\n",
              "    20% {\n",
              "      border-color: transparent;\n",
              "      border-left-color: var(--fill-color);\n",
              "      border-top-color: var(--fill-color);\n",
              "    }\n",
              "    30% {\n",
              "      border-color: transparent;\n",
              "      border-left-color: var(--fill-color);\n",
              "      border-top-color: var(--fill-color);\n",
              "      border-right-color: var(--fill-color);\n",
              "    }\n",
              "    40% {\n",
              "      border-color: transparent;\n",
              "      border-right-color: var(--fill-color);\n",
              "      border-top-color: var(--fill-color);\n",
              "    }\n",
              "    60% {\n",
              "      border-color: transparent;\n",
              "      border-right-color: var(--fill-color);\n",
              "    }\n",
              "    80% {\n",
              "      border-color: transparent;\n",
              "      border-right-color: var(--fill-color);\n",
              "      border-bottom-color: var(--fill-color);\n",
              "    }\n",
              "    90% {\n",
              "      border-color: transparent;\n",
              "      border-bottom-color: var(--fill-color);\n",
              "    }\n",
              "  }\n",
              "</style>\n",
              "\n",
              "  <script>\n",
              "    async function quickchart(key) {\n",
              "      const quickchartButtonEl =\n",
              "        document.querySelector('#' + key + ' button');\n",
              "      quickchartButtonEl.disabled = true;  // To prevent multiple clicks.\n",
              "      quickchartButtonEl.classList.add('colab-df-spinner');\n",
              "      try {\n",
              "        const charts = await google.colab.kernel.invokeFunction(\n",
              "            'suggestCharts', [key], {});\n",
              "      } catch (error) {\n",
              "        console.error('Error during call to suggestCharts:', error);\n",
              "      }\n",
              "      quickchartButtonEl.classList.remove('colab-df-spinner');\n",
              "      quickchartButtonEl.classList.add('colab-df-quickchart-complete');\n",
              "    }\n",
              "    (() => {\n",
              "      let quickchartButtonEl =\n",
              "        document.querySelector('#df-7e1cc40e-af84-46a8-8d1a-454a7d76bf60 button');\n",
              "      quickchartButtonEl.style.display =\n",
              "        google.colab.kernel.accessAllowed ? 'block' : 'none';\n",
              "    })();\n",
              "  </script>\n",
              "</div>\n",
              "\n",
              "    </div>\n",
              "  </div>\n"
            ],
            "text/plain": [
              "                    Dx  SNOMEDCTCode Abbreviation  CPSC  CPSC_Extra  \\\n",
              "0  atrial fibrillation     164889003           AF  1221         153   \n",
              "1       atrial flutter     164890007          AFL     0          54   \n",
              "\n",
              "   StPetersburg  PTB  PTB_XL  Georgia  Chapman_Shaoxing  Ningbo  Total Notes  \n",
              "0             2   15    1514      570              1780       0   5255   NaN  \n",
              "1             0    1      73      186               445    7615   8374   NaN  "
            ]
          },
          "execution_count": 11,
          "metadata": {},
          "output_type": "execute_result"
        }
      ],
      "source": [
        "smowmed_mappings_path = '/content/drive/MyDrive/ECG Project (Shared Folder)/Data/SNOWMED-CT Codes/combined_mappings.csv'\n",
        "\n",
        "# Load the SNOMED-CT mappings\n",
        "smowmed_mappings = pd.read_csv(smowmed_mappings_path)\n",
        "smowmed_mappings.head(2)"
      ]
    },
    {
      "cell_type": "code",
      "execution_count": 12,
      "metadata": {
        "id": "xh1Rh8PfnpHF"
      },
      "outputs": [],
      "source": [
        "# Select the 'Dx' and 'SNOMEDCTCode' columns\n",
        "codes = smowmed_mappings[['Dx', 'SNOMEDCTCode']]\n",
        "\n",
        "# Set 'SNOWMEDCTCode' as the index\n",
        "codes.set_index('SNOMEDCTCode', inplace=True)\n",
        "\n",
        "# Convert the DataFrame into a dictionary\n",
        "codes_dict = codes['Dx'].to_dict()"
      ]
    },
    {
      "cell_type": "code",
      "execution_count": 13,
      "metadata": {
        "colab": {
          "base_uri": "https://localhost:8080/"
        },
        "id": "dPyGfJkTENxP",
        "outputId": "b0dfdc7f-991f-4a25-9733-9e5938d1bbfb"
      },
      "outputs": [
        {
          "data": {
            "text/plain": [
              "133"
            ]
          },
          "execution_count": 13,
          "metadata": {},
          "output_type": "execute_result"
        }
      ],
      "source": [
        "len(codes_dict)"
      ]
    },
    {
      "cell_type": "markdown",
      "metadata": {
        "id": "KDwSvjAfn1qT"
      },
      "source": [
        "Now, let's load the csv files and map the corresponding codes from ```codes_dict``` to the csv files:"
      ]
    },
    {
      "cell_type": "code",
      "execution_count": 14,
      "metadata": {
        "id": "wPg5_0v_n2uI"
      },
      "outputs": [],
      "source": [
        "train_set_path = '/content/drive/MyDrive/ECG Project (Shared Folder)/Data/PhysioNet/train_set_records.csv'\n",
        "val_set_path = '/content/drive/MyDrive/ECG Project (Shared Folder)/Data/PhysioNet/val_set_records.csv'\n",
        "test_set_path = '/content/drive/MyDrive/ECG Project (Shared Folder)/Data/PhysioNet/test_set_records.csv'"
      ]
    },
    {
      "cell_type": "code",
      "execution_count": 15,
      "metadata": {
        "id": "i1l71qx7Eg4Q"
      },
      "outputs": [],
      "source": [
        "train_set_df = load_and_process(train_set_path)\n",
        "val_set_df = load_and_process(val_set_path)\n",
        "test_set_df = load_and_process(test_set_path)"
      ]
    },
    {
      "cell_type": "markdown",
      "metadata": {
        "id": "J4BMheN9Eowx"
      },
      "source": [
        "Now, using the ```map_codes_to_dx()``` function, let's map the SNOWMED-CT codes for each ECG signal ```dx```. The new column containing the diagnosis name will be ```dx_modality```"
      ]
    },
    {
      "cell_type": "code",
      "execution_count": 16,
      "metadata": {
        "id": "o1D2_2rJEqCi"
      },
      "outputs": [],
      "source": [
        "def map_codes_to_dx(codes):\n",
        "    return [codes_dict.get(int(code), code) for code in codes]"
      ]
    },
    {
      "cell_type": "code",
      "execution_count": 17,
      "metadata": {
        "id": "_Vsie0mmEt5Q"
      },
      "outputs": [],
      "source": [
        "train_set_df['dx_modality'] = train_set_df['dx'].apply(map_codes_to_dx)"
      ]
    },
    {
      "cell_type": "code",
      "execution_count": 18,
      "metadata": {
        "id": "JPBSK_WdEwIS"
      },
      "outputs": [],
      "source": [
        "val_set_df['dx_modality'] = val_set_df['dx'].apply(map_codes_to_dx)"
      ]
    },
    {
      "cell_type": "code",
      "execution_count": 19,
      "metadata": {
        "id": "imFPCdEjEwlF"
      },
      "outputs": [],
      "source": [
        "test_set_df['dx_modality'] = test_set_df['dx'].apply(map_codes_to_dx)"
      ]
    },
    {
      "cell_type": "code",
      "execution_count": 21,
      "metadata": {
        "colab": {
          "base_uri": "https://localhost:8080/"
        },
        "id": "wetW3V7ZEyRv",
        "outputId": "7b8ebd86-0d4c-4c96-aa6b-ed29fb2d661f"
      },
      "outputs": [
        {
          "data": {
            "text/plain": [
              "['sinus rhythm']"
            ]
          },
          "execution_count": 21,
          "metadata": {},
          "output_type": "execute_result"
        }
      ],
      "source": [
        "# Example:\n",
        "test_set_df['dx_modality'][500]"
      ]
    },
    {
      "cell_type": "markdown",
      "metadata": {
        "id": "fXYZjxoRFMEk"
      },
      "source": [
        "Now, let's save these to new csv files so that they contain the new `dx_modality` column:\n",
        "\n",
        "- `processed_train_set_records.csv`\n",
        "- `processed_val_set_records.csv`\n",
        "- `processed_test_set_records.csv`"
      ]
    },
    {
      "cell_type": "code",
      "execution_count": 22,
      "metadata": {
        "id": "UD7EMI8GFg2Z"
      },
      "outputs": [],
      "source": [
        "train_set_df.to_csv('processed_train_set_records.csv', index=False)"
      ]
    },
    {
      "cell_type": "code",
      "execution_count": 23,
      "metadata": {
        "id": "tPEfcIeTFvR6"
      },
      "outputs": [],
      "source": [
        "val_set_df.to_csv('processed_val_set_records.csv', index=False)"
      ]
    },
    {
      "cell_type": "code",
      "execution_count": 24,
      "metadata": {
        "id": "zycxepKjFxn-"
      },
      "outputs": [],
      "source": [
        "test_set_df.to_csv('processed_test_set_records.csv', index=False)"
      ]
    },
    {
      "cell_type": "markdown",
      "metadata": {
        "id": "gsPe1PVbCNNs"
      },
      "source": [
        "# Stage 2: ECG Classification Model Pipeline\n",
        "\n",
        "Now that our data is preprocessed, we can begin working on the Model Pipeline itself. The ECG Classification Model Pipeline will consist of three components:\n",
        "\n",
        "1. `TextEncoder()` class\n",
        "\n",
        "2. `ECGEncoder()` class\n",
        "\n",
        "3. `CLIPModel()` class\n",
        "\n",
        "An overview and outline of each of these components can be found below in their respective subsections."
      ]
    },
    {
      "cell_type": "markdown",
      "metadata": {
        "id": "d00QQWglKhLQ"
      },
      "source": [
        "First, let's load the csv files that contain information about our ECG header data.\n",
        "\n",
        "`NOTE: The number of records in each csv files should match the number of records in current_train, current_val, and test_set, respectively`"
      ]
    },
    {
      "cell_type": "code",
      "execution_count": 14,
      "metadata": {
        "id": "WbVjP_iPJsSe"
      },
      "outputs": [],
      "source": [
        "processed_train_set_path = '/content/drive/MyDrive/ECG Project (Shared Folder)/Data/PhysioNet/processed_train_set_records.csv'\n",
        "processed_val_set_path = '/content/drive/MyDrive/ECG Project (Shared Folder)/Data/PhysioNet/processed_val_set_records.csv'\n",
        "processed_test_set_path = '/content/drive/MyDrive/ECG Project (Shared Folder)/Data/PhysioNet/processed_test_set_records.csv'"
      ]
    },
    {
      "cell_type": "code",
      "execution_count": 15,
      "metadata": {
        "id": "BX9pIPsiJsPv"
      },
      "outputs": [],
      "source": [
        "processed_train_df = pd.read_csv(processed_train_set_path)\n",
        "processed_val_df = pd.read_csv(processed_val_set_path)\n",
        "processed_test_df = pd.read_csv(processed_test_set_path)"
      ]
    },
    {
      "cell_type": "code",
      "execution_count": 28,
      "metadata": {
        "colab": {
          "base_uri": "https://localhost:8080/"
        },
        "id": "bZGbG7jhL5RU",
        "outputId": "e78dce80-4760-4e80-f15f-57b7e65a663f"
      },
      "outputs": [
        {
          "name": "stdout",
          "output_type": "stream",
          "text": [
            "There are 56241 records in the current_train and 56015 records in the processed_train_df.\n"
          ]
        }
      ],
      "source": [
        "print(\"There are {} records in the current_train and {} records in the processed_train_df.\".format(len(current_train), len(processed_train_df)))"
      ]
    },
    {
      "cell_type": "code",
      "execution_count": 25,
      "metadata": {
        "colab": {
          "base_uri": "https://localhost:8080/"
        },
        "id": "ThTTF-nJLiqs",
        "outputId": "eb9d3252-64cb-424a-e044-1dd47f6be350"
      },
      "outputs": [
        {
          "name": "stdout",
          "output_type": "stream",
          "text": [
            "There are 9926 records in the val_set and 9885 records in the processed_val_df.\n"
          ]
        }
      ],
      "source": [
        "print(\"There are {} records in the val_set and {} records in the processed_val_df.\".format(len(current_val), len(processed_val_df)))"
      ]
    },
    {
      "cell_type": "code",
      "execution_count": 27,
      "metadata": {
        "colab": {
          "base_uri": "https://localhost:8080/"
        },
        "id": "KIK2jyyGLeUI",
        "outputId": "95e31f1c-81b9-454a-fbfa-97d8f1837e20"
      },
      "outputs": [
        {
          "name": "stdout",
          "output_type": "stream",
          "text": [
            "There are 22352 records in the test_set and 22352 records in the processed_test_df.\n"
          ]
        }
      ],
      "source": [
        "print(\"There are {} records in the test_set and {} records in the processed_test_df.\".format(len(test_set), len(processed_test_df)))"
      ]
    },
    {
      "cell_type": "markdown",
      "metadata": {
        "id": "9b-bPlAgp9JT"
      },
      "source": [
        "## TextEncoder()\n",
        "\n",
        "Create a class, ```TextEncoder()``` that is used to convert the description of the (dx_modality) diagnosis class into an embeddings using the pretrained, base ClinicalBERT model.\n",
        "\n",
        "- Input should be a concatenated using comma or blank space string of diagnoses/dx_modality per ECG signal.\n",
        "- Use processed CSV files (dx_modality only)\n",
        "- Frozen weights (since it's already pretrained)"
      ]
    },
    {
      "cell_type": "code",
      "execution_count": 19,
      "metadata": {
        "id": "Pre7DG39Gjaq"
      },
      "outputs": [],
      "source": [
        "class TextEncoder:\n",
        "    def __init__(self):\n",
        "        self.tokenizer = AutoTokenizer.from_pretrained(\"emilyalsentzer/Bio_ClinicalBERT\")\n",
        "        self.model = AutoModel.from_pretrained(\"emilyalsentzer/Bio_ClinicalBERT\")\n",
        "\n",
        "    def encode(self, text_list):\n",
        "        # Check if text_list is a string representation of a list\n",
        "        if isinstance(text_list, str):\n",
        "            text_list = ast.literal_eval(text_list)\n",
        "        # Convert list of strings to a single string\n",
        "        text = ', '.join(text_list)\n",
        "        # Tokenize text\n",
        "        inputs = self.tokenizer(text, return_tensors=\"pt\", truncation=True, padding=True, max_length=512)\n",
        "        # Get embeddings from ClinicalBERT model\n",
        "        with torch.no_grad():\n",
        "            embeddings = self.model(**inputs).last_hidden_state\n",
        "        # Average the embeddings to get single vector per each input\n",
        "        embeddings = torch.mean(embeddings, dim=1)\n",
        "        return embeddings"
      ]
    },
    {
      "cell_type": "code",
      "execution_count": 20,
      "metadata": {
        "colab": {
          "base_uri": "https://localhost:8080/",
          "height": 130,
          "referenced_widgets": [
            "c93c71f75ac644489557cfcee82850e0",
            "eb005fc35df1468da6e4b0ebe5caf4d7",
            "a8846804be3f46d5b41acfc75cddbbcc",
            "d23507c50e2d4deaad780453e8c325bc",
            "a9a69a11c3874732bbae21af0f1ddb38",
            "61d2441820f54e7d9e728129b8fd78bc",
            "3c8c970dc6b0439886e036c92ffc7017",
            "49b0a369d958483d9160b9670b557d5e",
            "8ae37084fcbc4d719872e712bb47626e",
            "3fd9b53a8ad34ffab86d9865d556b502",
            "44024481528443bc81cc2c5b2b985a91",
            "2953d43b07b94afab2f88189359f756b",
            "d728c4b6a3a74c2589a055e12a3195e6",
            "5d1733e7d9cb4fb9affd7338af287d92",
            "7ada2bb23d0f4f26ae588a5ca4640824",
            "da997aaa1f91465692c8d6e2a589e12d",
            "1e6fde47e1004d0fa2d1f4b89abdafaf",
            "97e8d0998cb0435e847d35f383ae247e",
            "61279ed166624a5f9d0411620144bebd",
            "38da870be8bd4a3587fd8b624b55f648",
            "dbfd00685dad4ddc90935c501535ccd3",
            "ecbc45915be242c19ebbf7d72530006f",
            "4f46c000455c4be6a37d8d552e1d5fba",
            "92a30b3524494ab9ac9d476a6a80345b",
            "2b908dbb865146f683be6290e6e2a09a",
            "d88b7289ab1c44fea542ff0e47ee5848",
            "942b9996bb6046cb9ee143c393551583",
            "3ccfe50aed4d4cb2905da68a99beec24",
            "2762429932a041db82b4e99b45993162",
            "e1e6163d3da0451ba33c8fa5a1c9de09",
            "a02c3d59c249457881078c9301547e87",
            "f5ab5d98cda7404fa63a6e12671fa7c8",
            "aeab1b979e6e426dab9efb2886ecf6b3"
          ]
        },
        "id": "PHcRuFNVHNsn",
        "outputId": "5918f3e1-570c-4226-802c-3cb4e74435a9"
      },
      "outputs": [
        {
          "data": {
            "application/vnd.jupyter.widget-view+json": {
              "model_id": "c93c71f75ac644489557cfcee82850e0",
              "version_major": 2,
              "version_minor": 0
            },
            "text/plain": [
              "config.json:   0%|          | 0.00/385 [00:00<?, ?B/s]"
            ]
          },
          "metadata": {},
          "output_type": "display_data"
        },
        {
          "data": {
            "application/vnd.jupyter.widget-view+json": {
              "model_id": "2953d43b07b94afab2f88189359f756b",
              "version_major": 2,
              "version_minor": 0
            },
            "text/plain": [
              "vocab.txt:   0%|          | 0.00/213k [00:00<?, ?B/s]"
            ]
          },
          "metadata": {},
          "output_type": "display_data"
        },
        {
          "data": {
            "application/vnd.jupyter.widget-view+json": {
              "model_id": "4f46c000455c4be6a37d8d552e1d5fba",
              "version_major": 2,
              "version_minor": 0
            },
            "text/plain": [
              "pytorch_model.bin:   0%|          | 0.00/436M [00:00<?, ?B/s]"
            ]
          },
          "metadata": {},
          "output_type": "display_data"
        },
        {
          "name": "stdout",
          "output_type": "stream",
          "text": [
            "torch.Size([1, 768])\n"
          ]
        }
      ],
      "source": [
        "text_encoder = TextEncoder()\n",
        "embeddings = text_encoder.encode(processed_train_df['dx_modality'][0])\n",
        "print(embeddings.size())"
      ]
    },
    {
      "cell_type": "code",
      "execution_count": null,
      "metadata": {
        "id": "AWiMRn2PIP7f"
      },
      "outputs": [],
      "source": [
        "embeddings"
      ]
    },
    {
      "cell_type": "markdown",
      "metadata": {
        "id": "IRMlyeZ-G-Cv"
      },
      "source": [
        "## ECGEncoder()\n",
        "\n",
        "- Input is ECG signal, output will be embeddings of ECG signal\n",
        "- This is going to be model in model.py\n",
        "- Model weights are updated iteratively\n",
        "- optimizer = torch.optim.Adam(clip_model.ECGEncoder.parameters())"
      ]
    },
    {
      "cell_type": "code",
      "execution_count": 56,
      "metadata": {
        "id": "NYV5HCfXIcIh"
      },
      "outputs": [],
      "source": [
        "#import torch\n",
        "import torch.nn as nn\n",
        "import torch.optim as optim\n",
        "import torch.nn.functional as F"
      ]
    },
    {
      "cell_type": "code",
      "execution_count": 51,
      "metadata": {
        "id": "uuEMcmAaSWU8"
      },
      "outputs": [],
      "source": [
        "class OneDimCNN(nn.Module):\n",
        "    def __init__(self, num_classes):\n",
        "        super(OneDimCNN, self).__init__()\n",
        "\n",
        "        # Layer 1\n",
        "        self.conv1 = nn.Conv1d(in_channels=3, out_channels=16, kernel_size=3, stride=1, padding=1)\n",
        "        self.bn1 = nn.BatchNorm1d(16)\n",
        "        self.relu1 = nn.ReLU()\n",
        "        self.pool1 = nn.AvgPool1d(kernel_size=2, stride=2)\n",
        "\n",
        "        # Layer 2\n",
        "        self.conv2 = nn.Conv1d(in_channels=16, out_channels=32, kernel_size=3, stride=1, padding=1)\n",
        "        self.bn2 = nn.BatchNorm1d(32)\n",
        "        self.relu2 = nn.ReLU()\n",
        "        self.pool2 = nn.AvgPool1d(kernel_size=2, stride=2)\n",
        "\n",
        "        # Layer 3\n",
        "        self.conv3 = nn.Conv1d(in_channels=32, out_channels=64, kernel_size=3, stride=1, padding=1)\n",
        "        self.bn3 = nn.BatchNorm1d(64)\n",
        "        self.relu3 = nn.ReLU()\n",
        "        self.pool3 = nn.AvgPool1d(kernel_size=2, stride=2)\n",
        "\n",
        "        # Layer 4\n",
        "        self.conv4 = nn.Conv1d(in_channels=64, out_channels=128, kernel_size=3, stride=1, padding=1)\n",
        "        self.bn4 = nn.BatchNorm1d(128)\n",
        "        self.relu4 = nn.ReLU()\n",
        "        self.pool4 = nn.AvgPool1d(kernel_size=2, stride=2)\n",
        "\n",
        "        # Layer 5\n",
        "        self.conv5 = nn.Conv1d(in_channels=128, out_channels=256, kernel_size=3, stride=1, padding=1)\n",
        "        self.bn5 = nn.BatchNorm1d(256)\n",
        "        self.relu5 = nn.ReLU()\n",
        "        self.pool5 = nn.AvgPool1d(kernel_size=2, stride=2)\n",
        "\n",
        "        # Layer 6\n",
        "        self.conv6 = nn.Conv1d(in_channels=256, out_channels=512, kernel_size=3, stride=1, padding=1)\n",
        "        self.bn6 = nn.BatchNorm1d(512)\n",
        "        self.relu6 = nn.ReLU()\n",
        "        self.pool6 = nn.AvgPool1d(kernel_size=2, stride=2)\n",
        "\n",
        "        # Layer 7\n",
        "        self.conv7 = nn.Conv1d(in_channels=512, out_channels=1024, kernel_size=3, stride=1, padding=1)\n",
        "        self.bn7 = nn.BatchNorm1d(1024)\n",
        "        self.relu7 = nn.ReLU()\n",
        "        self.pool7 = nn.AvgPool1d(kernel_size=2, stride=2)\n",
        "\n",
        "        # Layer 8\n",
        "        self.conv8 = nn.Conv1d(in_channels=1024, out_channels=2048, kernel_size=3, stride=1, padding=1)\n",
        "        self.bn8 = nn.BatchNorm1d(2048)\n",
        "        self.relu8 = nn.ReLU()\n",
        "        self.pool8 = nn.AvgPool1d(kernel_size=2, stride=2)\n",
        "\n",
        "        # Layer 9\n",
        "        self.conv9 = nn.Conv1d(in_channels=2048, out_channels=4096, kernel_size=3, stride=1, padding=1)\n",
        "        self.bn9 = nn.BatchNorm1d(4096)\n",
        "        self.relu9 = nn.ReLU()\n",
        "        self.pool9 = nn.AvgPool1d(kernel_size=2, stride=2)\n",
        "\n",
        "        # Fully Connected Layer 1\n",
        "        self.fc1 = nn.Linear(4096, 128)  # Adjusted to match output channels of last conv layer\n",
        "        self.relu10 = nn.ReLU()\n",
        "        self.dropout1 = nn.Dropout(0.5)\n",
        "\n",
        "        # Fully Connected Layer 2\n",
        "        self.fc2 = nn.Linear(128, num_classes)\n",
        "\n",
        "    def forward(self, x):\n",
        "        # Layer 1\n",
        "        x = self.conv1(x)\n",
        "        x = self.bn1(x)\n",
        "        x = self.relu1(x)\n",
        "        x = self.pool1(x)\n",
        "\n",
        "        # Layer 2\n",
        "        x = self.conv2(x)\n",
        "        x = self.bn2(x)\n",
        "        x = self.relu2(x)\n",
        "        x = self.pool2(x)\n",
        "\n",
        "        # Layer 3\n",
        "        x = self.conv3(x)\n",
        "        x = self.bn3(x)\n",
        "        x = self.relu3(x)\n",
        "        x = self.pool3(x)\n",
        "\n",
        "        # Layer 4\n",
        "        x = self.conv4(x)\n",
        "        x = self.bn4(x)\n",
        "        x = self.relu4(x)\n",
        "        x = self.pool4(x)\n",
        "\n",
        "        # Layer 5\n",
        "        x = self.conv5(x)\n",
        "        x = self.bn5(x)\n",
        "        x = self.relu5(x)\n",
        "        x = self.pool5(x)\n",
        "\n",
        "        # Layer 6\n",
        "        x = self.conv6(x)\n",
        "        x = self.bn6(x)\n",
        "        x = self.relu6(x)\n",
        "        x = self.pool6(x)\n",
        "\n",
        "        # Layer 7\n",
        "        x = self.conv7(x)\n",
        "        x = self.bn7(x)\n",
        "        x = self.relu7(x)\n",
        "        x = self.pool7(x)\n",
        "\n",
        "        # Layer 8\n",
        "        x = self.conv8(x)\n",
        "        x = self.bn8(x)\n",
        "        x = self.relu8(x)\n",
        "        x = self.pool8(x)\n",
        "\n",
        "        # Layer 9\n",
        "        x = self.conv9(x)\n",
        "        x = self.bn9(x)\n",
        "        x = self.relu9(x)\n",
        "        x = x.view(x.size(0), -1)\n",
        "\n",
        "        # Dynamically adjust the input size of the first fully connected layer\n",
        "        if self.fc1.in_features != x.size(1):\n",
        "            self.fc1 = nn.Linear(x.size(1), 128)\n",
        "\n",
        "        # Fully Connected Layer 1\n",
        "        x = self.fc1(x)\n",
        "        x = self.relu10(x)  # Renamed from relu5 to relu10\n",
        "        x = self.dropout1(x)\n",
        "\n",
        "        # Fully Connected Layer 2\n",
        "        x = self.fc2(x)\n",
        "\n",
        "        return x"
      ]
    },
    {
      "cell_type": "code",
      "execution_count": 52,
      "metadata": {
        "id": "NBaU_1YJOowR"
      },
      "outputs": [],
      "source": [
        "class ECGEncoder(OneDimCNN):\n",
        "    def __init__(self, num_classes):\n",
        "        super(ECGEncoder, self).__init__(num_classes)\n",
        "\n",
        "    def encode(self, signal):\n",
        "        # Encode the signal using the OneDimCNN model.\n",
        "        encoded_signal = self.forward(signal)\n",
        "\n",
        "        # Return the encoded signal.\n",
        "        return encoded_signal"
      ]
    },
    {
      "cell_type": "code",
      "execution_count": 43,
      "metadata": {
        "colab": {
          "base_uri": "https://localhost:8080/"
        },
        "id": "SWCWK_oIIhEw",
        "outputId": "4882e657-5e82-4306-b659-40ec8421765b"
      },
      "outputs": [
        {
          "data": {
            "text/plain": [
              "numpy.ndarray"
            ]
          },
          "execution_count": 43,
          "metadata": {},
          "output_type": "execute_result"
        }
      ],
      "source": [
        "type(train_set[0][1]['val'])"
      ]
    },
    {
      "cell_type": "code",
      "execution_count": 44,
      "metadata": {
        "colab": {
          "base_uri": "https://localhost:8080/"
        },
        "id": "EhdY1LaGIkr5",
        "outputId": "b422acab-1c20-476c-bf40-c24472508035"
      },
      "outputs": [
        {
          "data": {
            "text/plain": [
              "array([[ -49.41174209,  -49.41174209,  -49.41174209, ...,    3.26986681,\n",
              "           6.65822132,    4.35320015],\n",
              "       [  39.23760431,   39.23760431,   39.23760431, ...,  -45.89316397,\n",
              "         -44.94818514,  -42.39476713],\n",
              "       [  95.17413779,   95.17413779,   95.17413779, ..., -112.12670284,\n",
              "        -112.96003617, -116.70843301]])"
            ]
          },
          "execution_count": 44,
          "metadata": {},
          "output_type": "execute_result"
        }
      ],
      "source": [
        "train_set[0][1]['val']"
      ]
    },
    {
      "cell_type": "code",
      "execution_count": 73,
      "metadata": {
        "colab": {
          "base_uri": "https://localhost:8080/"
        },
        "id": "tQoFrirLIolT",
        "outputId": "85b08b3e-42cf-40cb-efce-952437681361"
      },
      "outputs": [
        {
          "name": "stdout",
          "output_type": "stream",
          "text": [
            "tensor([[ 0.0759,  0.3611,  0.1698,  0.0342, -0.0232,  0.0714,  0.2897,  0.0645,\n",
            "          0.3557,  0.1778,  0.0551, -0.2179,  0.2190, -0.0648, -0.0200, -0.2931,\n",
            "         -0.3637, -0.0882, -0.0564, -0.4627,  0.0592,  0.0682,  0.1784,  0.0803,\n",
            "         -0.3192, -0.1793,  0.0423, -0.1921,  0.0630,  0.0969,  0.2411,  0.2804,\n",
            "          0.1373, -0.0132,  0.2371, -0.0876, -0.2263, -0.2970,  0.2803, -0.2026,\n",
            "          0.1714,  0.2798,  0.0293,  0.2405,  0.2005,  0.1016,  0.0962, -0.0771,\n",
            "         -0.0614,  0.4581,  0.1764, -0.0372,  0.1472,  0.1202,  0.3661,  0.4227,\n",
            "         -0.2465,  0.3431,  0.1962,  0.2239, -0.0369, -0.0260, -0.2162, -0.0492,\n",
            "          0.1254, -0.0775, -0.0228, -0.0084, -0.1755, -0.0842,  0.0135,  0.0937,\n",
            "         -0.4402,  0.0572,  0.4507, -0.2793,  0.1144, -0.1732,  0.0356,  0.2844,\n",
            "         -0.2312,  0.2778,  0.0634, -0.2775,  0.0965,  0.2280, -0.0395,  0.2462,\n",
            "         -0.0641, -0.1115, -0.1430, -0.3193,  0.4543,  0.0065, -0.5322,  0.1574,\n",
            "          0.4193,  0.0185, -0.1045,  0.3768,  0.1236, -0.2067, -0.1262,  0.3462,\n",
            "         -0.1959,  0.1750,  0.3059,  0.1879,  0.0412, -0.0268,  0.4087,  0.0687,\n",
            "          0.0278,  0.0555,  0.0458, -0.3100,  0.2153, -0.0011,  0.3168,  0.0570,\n",
            "         -0.0219, -0.1518,  0.0250, -0.0822,  0.1880, -0.1281, -0.3360, -0.4692,\n",
            "          0.3929,  0.5536,  0.1579,  0.6074, -0.2990]],\n",
            "       grad_fn=<AddmmBackward0>)\n"
          ]
        }
      ],
      "source": [
        "# Define the number of classes\n",
        "num_classes = len(codes_dict)\n",
        "\n",
        "# Create an instance of the model\n",
        "ecg_encoder = ECGEncoder(num_classes)\n",
        "\n",
        "# Convert the numpy array to a PyTorch tensor\n",
        "input_data = torch.from_numpy(train_set[40000][1]['val']).float()\n",
        "\n",
        "# Add an extra dimension for the batch size\n",
        "input_data = input_data.unsqueeze(0)\n",
        "# Convert the model's weights to Float\n",
        "ecg_encoder = ecg_encoder.float()\n",
        "\n",
        "# Pass the data through the model\n",
        "output = ecg_encoder(input_data)\n",
        "\n",
        "print(output)"
      ]
    },
    {
      "cell_type": "code",
      "execution_count": 69,
      "metadata": {
        "colab": {
          "base_uri": "https://localhost:8080/"
        },
        "id": "-kt9W6l2USij",
        "outputId": "7d477d7d-9310-4ec3-c402-de5a9ad8515d"
      },
      "outputs": [
        {
          "name": "stdout",
          "output_type": "stream",
          "text": [
            "Batch size: 1\n",
            "Number of channels: 3\n",
            "Tensor size: 5000\n"
          ]
        }
      ],
      "source": [
        "batch_size = input_data.shape[0]\n",
        "num_channels = input_data.shape[1]\n",
        "tensor_size = input_data[0][2]\n",
        "\n",
        "print(\"Batch size:\", batch_size)\n",
        "print(\"Number of channels:\", num_channels)\n",
        "print(f\"Tensor size: {len(tensor_size)}\")"
      ]
    },
    {
      "cell_type": "code",
      "execution_count": 75,
      "metadata": {
        "colab": {
          "base_uri": "https://localhost:8080/"
        },
        "id": "aCosgBVRIsjr",
        "outputId": "27f84e2d-94c5-40eb-ad38-c18a2831264c"
      },
      "outputs": [
        {
          "name": "stdout",
          "output_type": "stream",
          "text": [
            "tensor([[ 0.0366,  0.0413, -0.0027, -0.0578, -0.0053, -0.0372, -0.0181,  0.0460,\n",
            "         -0.0192,  0.0500, -0.0354,  0.0205,  0.0545,  0.0223,  0.0636,  0.0792,\n",
            "         -0.0749, -0.0766, -0.0679,  0.0678,  0.0859,  0.0025,  0.0142, -0.0305,\n",
            "         -0.0153, -0.0110,  0.0350, -0.0598, -0.0245, -0.0544,  0.0573, -0.0540,\n",
            "         -0.0338, -0.0214, -0.0253, -0.0305, -0.0524, -0.0605,  0.0604, -0.0099,\n",
            "          0.0389,  0.0002, -0.0543,  0.0288,  0.0761, -0.0324,  0.0718, -0.0424,\n",
            "          0.0412,  0.0709,  0.0601, -0.0162, -0.0564,  0.0087, -0.0253, -0.0584,\n",
            "         -0.0498,  0.0884, -0.0535, -0.0689, -0.0565, -0.0149, -0.0467, -0.0924,\n",
            "          0.0671, -0.0572,  0.0053,  0.0336,  0.0249,  0.0417,  0.0266,  0.0101,\n",
            "         -0.0761, -0.0457, -0.0347, -0.0718,  0.0036,  0.0237,  0.0556,  0.0801,\n",
            "          0.0395,  0.0838,  0.0624,  0.0123, -0.0511, -0.0340,  0.0590,  0.0749,\n",
            "          0.0732, -0.0208, -0.0642,  0.0670,  0.0203, -0.0598,  0.0510, -0.0019,\n",
            "          0.0289,  0.0011,  0.0696, -0.0031, -0.0616, -0.0861, -0.0340,  0.0717,\n",
            "          0.0223,  0.0594, -0.0386, -0.0817,  0.0587,  0.0136, -0.0411, -0.0719,\n",
            "         -0.0314,  0.0428,  0.0874, -0.0225, -0.0267,  0.0344,  0.0146, -0.0301,\n",
            "          0.0539, -0.0309,  0.0409, -0.0795,  0.0272, -0.0211, -0.0545, -0.0327,\n",
            "          0.0590,  0.0842, -0.0695,  0.0612, -0.0258]],\n",
            "       grad_fn=<AddmmBackward0>)\n"
          ]
        }
      ],
      "source": [
        "# Convert the model's weights to Float\n",
        "ecg_encoder = ecg_encoder.float()\n",
        "\n",
        "# Set the model in evaluation mode\n",
        "ecg_encoder.eval()\n",
        "\n",
        "# Pass the data through the model\n",
        "output = ecg_encoder(input_data)\n",
        "\n",
        "print(output)"
      ]
    },
    {
      "cell_type": "markdown",
      "metadata": {
        "id": "qAXRT0sZIzg3"
      },
      "source": [
        "## InstanceSelecter()\n",
        "\n",
        "- negative_instances are where these two embeddings do not align\n",
        "- filter out text embeddings that are the same or equal to the positive_instances\n",
        "\n",
        "Update InstanceSelector such that there are is no positive instance function and generate false_instances based on instances that do not correspond\n"
      ]
    },
    {
      "cell_type": "code",
      "execution_count": null,
      "metadata": {
        "id": "FACyMwtCI5_4"
      },
      "outputs": [],
      "source": [
        "class InstanceSelector:\n",
        "    def __init__(self, train_set, processed_train_df, text_encoder, ecg_encoder):\n",
        "        self.train_set = train_set\n",
        "        self.processed_train_df = processed_train_df\n",
        "        self.text_encoder = text_encoder\n",
        "        self.ecg_encoder = ecg_encoder\n",
        "\n",
        "    def get_positive_instances(self):\n",
        "        positive_instances = []\n",
        "        for i in tqdm(range(len(self.train_set)), desc=\"Generating positive instances\"):\n",
        "            ecg_embedding = self.ecg_encoder.encode(self.train_set[i][1]['val'])\n",
        "            dx_modality_embedding = self.text_encoder.encode(self.processed_train_df['dx_modality'][i])\n",
        "            if torch.all(torch.eq(ecg_embedding, dx_modality_embedding)):\n",
        "                positive_instances.append((ecg_embedding, dx_modality_embedding))\n",
        "        return positive_instances\n",
        "\n",
        "    def get_negative_instances(self):\n",
        "        negative_instances = []\n",
        "        positive_instances = self.get_positive_instances()\n",
        "        for i in tqdm(range(len(self.train_set)), desc=\"Generating negative instances\"):\n",
        "            ecg_embedding = self.ecg_encoder.encode(self.train_set[i][1]['val'])\n",
        "            for j in range(len(self.processed_train_df)):\n",
        "                if i != j:\n",
        "                    dx_modality_embedding = self.text_encoder.encode(self.processed_train_df['dx_modality'][j])\n",
        "                    if not any(torch.all(torch.eq(ecg_embedding, pos[1])) for pos in positive_instances):\n",
        "                        negative_instances.append((ecg_embedding, dx_modality_embedding))\n",
        "        return negative_instances"
      ]
    },
    {
      "cell_type": "code",
      "execution_count": null,
      "metadata": {
        "id": "EId2chxGI57K"
      },
      "outputs": [],
      "source": [
        "text_encoder = TextEncoder()\n",
        "ecg_encoder = ECGEncoder(num_classes=126)  # Assuming you have this class defined"
      ]
    },
    {
      "cell_type": "code",
      "execution_count": null,
      "metadata": {
        "id": "aGR7x85SJGRl"
      },
      "outputs": [],
      "source": [
        "instance_selector = InstanceSelector(train_set, processed_train_df, text_encoder, ecg_encoder)"
      ]
    },
    {
      "cell_type": "code",
      "execution_count": null,
      "metadata": {
        "id": "JKD0I0NnJGJI"
      },
      "outputs": [],
      "source": [
        "positive_instances = instance_selector.get_positive_instances()"
      ]
    },
    {
      "cell_type": "code",
      "execution_count": null,
      "metadata": {
        "id": "inXRXppqJGGH"
      },
      "outputs": [],
      "source": [
        "negative_instances = instance_selector.get_negative_instances()"
      ]
    },
    {
      "cell_type": "markdown",
      "metadata": {
        "id": "c7kiBDRDpkhj"
      },
      "source": [
        "# CLIPModel\n"
      ]
    },
    {
      "cell_type": "code",
      "execution_count": null,
      "metadata": {
        "id": "GdYiDFA9KWKg"
      },
      "outputs": [],
      "source": [
        "class CLIPModel(nn.Module):\n",
        "    def __init__(self, train_set, processed_train_df):\n",
        "        super(CLIPModel, self).__init__()\n",
        "        self.ecg_encoder = ECGEncoder(num_classes=126)  # Initialize ECGEncoder\n",
        "        self.text_encoder = TextEncoder()  # Initialize TextEncoder\n",
        "        self.instance_selector = InstanceSelector(train_set, processed_train_df, self.text_encoder, self.ecg_encoder)\n",
        "\n",
        "    def forward(self, ecgs, diagnoses):\n",
        "        ecgs_embeddings = self.ecg_encoder(ecgs)\n",
        "        diagnoses_embeddings = self.text_encoder.encode(diagnoses)\n",
        "        positive_instances = self.instance_selector.get_positive_instances()\n",
        "        negative_instances = self.instance_selector.get_negative_instances()\n",
        "        # Compute loss based on whether the pair of embeddings is a positive or negative instance\n",
        "        loss = sum(F.cosine_similarity(ecgs_embeddings[i], diagnoses_embeddings[i]) for i in range(len(ecgs)) if (ecgs_embeddings[i], diagnoses_embeddings[i]) in positive_instances) \\\n",
        "             - sum(F.cosine_similarity(ecgs_embeddings[i], diagnoses_embeddings[i]) for i in range(len(ecgs)) if (ecgs_embeddings[i], diagnoses_embeddings[i]) in negative_instances)\n",
        "        return loss"
      ]
    },
    {
      "cell_type": "markdown",
      "metadata": {
        "id": "QvhMQ5TGpreq"
      },
      "source": [
        "Example of how the CLIP-like model works:"
      ]
    },
    {
      "cell_type": "markdown",
      "metadata": {
        "id": "6mCGq-X3Rh6f"
      },
      "source": [
        "Creating small data subsets for training example:\n",
        "\n",
        "- 100 records only for train_set\n",
        "- 100 records only for processed_train_df"
      ]
    },
    {
      "cell_type": "code",
      "execution_count": null,
      "metadata": {
        "id": "8wzaREZfbNKP"
      },
      "outputs": [],
      "source": [
        "sample_train_set_100 = train_set[:100]\n",
        "sample_processed_train_df_100 = processed_train_df.iloc[:100]"
      ]
    },
    {
      "cell_type": "code",
      "execution_count": null,
      "metadata": {
        "colab": {
          "base_uri": "https://localhost:8080/"
        },
        "id": "K8gn0r7RbyXl",
        "outputId": "2d2cd623-6ddc-481d-e12f-c93a3f1e3aac"
      },
      "outputs": [
        {
          "data": {
            "text/plain": [
              "(100, 100)"
            ]
          },
          "execution_count": 41,
          "metadata": {},
          "output_type": "execute_result"
        }
      ],
      "source": [
        "len(sample_processed_train_df_100) , len(sample_train_set_100)"
      ]
    },
    {
      "cell_type": "code",
      "execution_count": null,
      "metadata": {
        "colab": {
          "base_uri": "https://localhost:8080/"
        },
        "id": "LdQjcCKpKYsE",
        "outputId": "8718b6b4-4e5e-45f6-e8ac-1ff57502ac08"
      },
      "outputs": [
        {
          "name": "stdout",
          "output_type": "stream",
          "text": [
            "Number of parameters:  10468286\n"
          ]
        }
      ],
      "source": [
        "# Initialize model\n",
        "model = CLIPModel(sample_train_set_100, sample_processed_train_df_100)\n",
        "# Initialize optimizer\n",
        "optimizer = torch.optim.Adam(model.ecg_encoder.parameters())\n",
        "\n",
        "num_params = sum(p.numel() for p in model.parameters())\n",
        "print(\"Number of parameters: \", num_params)"
      ]
    },
    {
      "cell_type": "code",
      "execution_count": null,
      "metadata": {
        "id": "KXzH5oYJLeZE"
      },
      "outputs": [],
      "source": [
        "# Training params\n",
        "num_epochs = 3"
      ]
    },
    {
      "cell_type": "code",
      "execution_count": null,
      "metadata": {
        "colab": {
          "base_uri": "https://localhost:8080/",
          "height": 1000
        },
        "id": "WkDMks3pLZ39",
        "outputId": "f1779f08-b27e-4e0e-9629-4d026329a0b1"
      },
      "outputs": [
        {
          "name": "stderr",
          "output_type": "stream",
          "text": [
            "Training epoch 1/2:   0%|          | 0/100 [00:00<?, ?it/s]\n",
            "Generating positive instances:   0%|          | 0/100 [00:00<?, ?it/s]\u001b[A\n",
            "Generating positive instances:   1%|          | 1/100 [00:00<00:29,  3.37it/s]\u001b[A\n",
            "Generating positive instances:   2%|▏         | 2/100 [00:00<00:29,  3.32it/s]\u001b[A\n",
            "Generating positive instances:   3%|▎         | 3/100 [00:00<00:25,  3.81it/s]\u001b[A\n",
            "Generating positive instances:   4%|▍         | 4/100 [00:01<00:27,  3.43it/s]\u001b[A\n",
            "Generating positive instances:   5%|▌         | 5/100 [00:01<00:28,  3.33it/s]\u001b[A\n",
            "Generating positive instances:   6%|▌         | 6/100 [00:01<00:26,  3.53it/s]\u001b[A\n",
            "Generating positive instances:   7%|▋         | 7/100 [00:02<00:26,  3.53it/s]\u001b[A\n",
            "Generating positive instances:   8%|▊         | 8/100 [00:02<00:27,  3.36it/s]\u001b[A\n",
            "Generating positive instances:   9%|▉         | 9/100 [00:02<00:28,  3.18it/s]\u001b[A\n",
            "Generating positive instances:  10%|█         | 10/100 [00:03<00:33,  2.69it/s]\u001b[A\n",
            "Generating positive instances:  11%|█         | 11/100 [00:03<00:29,  3.00it/s]\u001b[A\n",
            "Generating positive instances:  12%|█▏        | 12/100 [00:03<00:23,  3.71it/s]\u001b[A\n",
            "Generating positive instances:  13%|█▎        | 13/100 [00:03<00:20,  4.34it/s]\u001b[A\n",
            "Generating positive instances:  14%|█▍        | 14/100 [00:03<00:16,  5.16it/s]\u001b[A\n",
            "Generating positive instances:  15%|█▌        | 15/100 [00:03<00:15,  5.62it/s]\u001b[A\n",
            "Generating positive instances:  16%|█▌        | 16/100 [00:04<00:13,  6.35it/s]\u001b[A\n",
            "Generating positive instances:  17%|█▋        | 17/100 [00:04<00:12,  6.76it/s]\u001b[A\n",
            "Generating positive instances:  18%|█▊        | 18/100 [00:04<00:12,  6.82it/s]\u001b[A\n",
            "Generating positive instances:  19%|█▉        | 19/100 [00:04<00:11,  7.29it/s]\u001b[A\n",
            "Generating positive instances:  21%|██        | 21/100 [00:04<00:09,  8.26it/s]\u001b[A\n",
            "Generating positive instances:  22%|██▏       | 22/100 [00:04<00:09,  8.32it/s]\u001b[A\n",
            "Generating positive instances:  23%|██▎       | 23/100 [00:04<00:09,  8.43it/s]\u001b[A\n",
            "Generating positive instances:  24%|██▍       | 24/100 [00:05<00:09,  7.87it/s]\u001b[A\n",
            "Generating positive instances:  25%|██▌       | 25/100 [00:05<00:09,  8.02it/s]\u001b[A\n",
            "Generating positive instances:  26%|██▌       | 26/100 [00:05<00:09,  8.07it/s]\u001b[A\n",
            "Generating positive instances:  27%|██▋       | 27/100 [00:05<00:08,  8.18it/s]\u001b[A\n",
            "Generating positive instances:  28%|██▊       | 28/100 [00:05<00:08,  8.01it/s]\u001b[A\n",
            "Generating positive instances:  29%|██▉       | 29/100 [00:05<00:08,  8.36it/s]\u001b[A\n",
            "Generating positive instances:  30%|███       | 30/100 [00:05<00:08,  8.65it/s]\u001b[A\n",
            "Generating positive instances:  31%|███       | 31/100 [00:05<00:07,  8.87it/s]\u001b[A\n",
            "Generating positive instances:  32%|███▏      | 32/100 [00:05<00:08,  8.45it/s]\u001b[A\n",
            "Generating positive instances:  33%|███▎      | 33/100 [00:06<00:07,  8.72it/s]\u001b[A\n",
            "Generating positive instances:  34%|███▍      | 34/100 [00:06<00:07,  8.86it/s]\u001b[A\n",
            "Generating positive instances:  35%|███▌      | 35/100 [00:06<00:07,  8.16it/s]\u001b[A\n",
            "Generating positive instances:  36%|███▌      | 36/100 [00:06<00:07,  8.43it/s]\u001b[A\n",
            "Generating positive instances:  37%|███▋      | 37/100 [00:06<00:07,  8.71it/s]\u001b[A\n",
            "Generating positive instances:  38%|███▊      | 38/100 [00:06<00:07,  8.51it/s]\u001b[A\n",
            "Generating positive instances:  39%|███▉      | 39/100 [00:06<00:06,  8.83it/s]\u001b[A\n",
            "Generating positive instances:  40%|████      | 40/100 [00:06<00:07,  7.96it/s]\u001b[A\n",
            "Generating positive instances:  41%|████      | 41/100 [00:07<00:07,  8.01it/s]\u001b[A\n",
            "Generating positive instances:  42%|████▏     | 42/100 [00:07<00:07,  7.97it/s]\u001b[A\n",
            "Generating positive instances:  43%|████▎     | 43/100 [00:07<00:07,  7.63it/s]\u001b[A\n",
            "Generating positive instances:  44%|████▍     | 44/100 [00:07<00:06,  8.08it/s]\u001b[A\n",
            "Generating positive instances:  45%|████▌     | 45/100 [00:07<00:06,  8.42it/s]\u001b[A\n",
            "Generating positive instances:  46%|████▌     | 46/100 [00:07<00:06,  8.41it/s]\u001b[A\n",
            "Generating positive instances:  47%|████▋     | 47/100 [00:07<00:06,  8.72it/s]\u001b[A\n",
            "Generating positive instances:  49%|████▉     | 49/100 [00:07<00:05,  8.76it/s]\u001b[A\n",
            "Generating positive instances:  50%|█████     | 50/100 [00:08<00:05,  8.89it/s]\u001b[A\n",
            "Generating positive instances:  51%|█████     | 51/100 [00:08<00:05,  8.96it/s]\u001b[A\n",
            "Generating positive instances:  52%|█████▏    | 52/100 [00:08<00:05,  9.05it/s]\u001b[A\n",
            "Generating positive instances:  53%|█████▎    | 53/100 [00:08<00:05,  8.91it/s]\u001b[A\n",
            "Generating positive instances:  54%|█████▍    | 54/100 [00:08<00:05,  9.01it/s]\u001b[A\n",
            "Generating positive instances:  55%|█████▌    | 55/100 [00:08<00:04,  9.28it/s]\u001b[A\n",
            "Generating positive instances:  56%|█████▌    | 56/100 [00:08<00:05,  8.70it/s]\u001b[A\n",
            "Generating positive instances:  57%|█████▋    | 57/100 [00:08<00:04,  8.75it/s]\u001b[A\n",
            "Generating positive instances:  59%|█████▉    | 59/100 [00:09<00:04,  9.36it/s]\u001b[A\n",
            "Generating positive instances:  61%|██████    | 61/100 [00:09<00:04,  9.19it/s]\u001b[A\n",
            "Generating positive instances:  62%|██████▏   | 62/100 [00:09<00:04,  9.03it/s]\u001b[A\n",
            "Generating positive instances:  63%|██████▎   | 63/100 [00:09<00:04,  9.01it/s]\u001b[A\n",
            "Generating positive instances:  64%|██████▍   | 64/100 [00:09<00:04,  8.27it/s]\u001b[A\n",
            "Generating positive instances:  66%|██████▌   | 66/100 [00:09<00:03,  8.70it/s]\u001b[A\n",
            "Generating positive instances:  68%|██████▊   | 68/100 [00:10<00:03,  8.03it/s]\u001b[A\n",
            "Generating positive instances:  69%|██████▉   | 69/100 [00:10<00:03,  8.22it/s]\u001b[A\n",
            "Generating positive instances:  70%|███████   | 70/100 [00:10<00:03,  8.04it/s]\u001b[A\n",
            "Generating positive instances:  71%|███████   | 71/100 [00:10<00:03,  7.70it/s]\u001b[A\n",
            "Generating positive instances:  72%|███████▏  | 72/100 [00:10<00:03,  8.06it/s]\u001b[A\n",
            "Generating positive instances:  73%|███████▎  | 73/100 [00:10<00:03,  8.36it/s]\u001b[A\n",
            "Generating positive instances:  74%|███████▍  | 74/100 [00:10<00:03,  8.24it/s]\u001b[A\n",
            "Generating positive instances:  75%|███████▌  | 75/100 [00:11<00:03,  7.50it/s]\u001b[A\n",
            "Generating positive instances:  76%|███████▌  | 76/100 [00:11<00:03,  7.94it/s]\u001b[A\n",
            "Generating positive instances:  77%|███████▋  | 77/100 [00:11<00:03,  7.57it/s]\u001b[A\n",
            "Generating positive instances:  78%|███████▊  | 78/100 [00:11<00:02,  7.53it/s]\u001b[A\n",
            "Generating positive instances:  79%|███████▉  | 79/100 [00:11<00:02,  7.94it/s]\u001b[A\n",
            "Generating positive instances:  80%|████████  | 80/100 [00:11<00:02,  8.04it/s]\u001b[A\n",
            "Generating positive instances:  81%|████████  | 81/100 [00:11<00:02,  8.01it/s]\u001b[A\n",
            "Generating positive instances:  82%|████████▏ | 82/100 [00:11<00:02,  8.36it/s]\u001b[A\n",
            "Generating positive instances:  83%|████████▎ | 83/100 [00:12<00:02,  7.89it/s]\u001b[A\n",
            "Generating positive instances:  84%|████████▍ | 84/100 [00:12<00:01,  8.27it/s]\u001b[A\n",
            "Generating positive instances:  85%|████████▌ | 85/100 [00:12<00:01,  8.35it/s]\u001b[A\n",
            "Generating positive instances:  86%|████████▌ | 86/100 [00:12<00:01,  8.23it/s]\u001b[A\n",
            "Generating positive instances:  87%|████████▋ | 87/100 [00:12<00:01,  7.42it/s]\u001b[A\n",
            "Generating positive instances:  88%|████████▊ | 88/100 [00:12<00:01,  7.87it/s]\u001b[A\n",
            "Generating positive instances:  89%|████████▉ | 89/100 [00:12<00:01,  7.78it/s]\u001b[A\n",
            "Generating positive instances:  90%|█████████ | 90/100 [00:12<00:01,  8.07it/s]\u001b[A\n",
            "Generating positive instances:  91%|█████████ | 91/100 [00:13<00:01,  8.43it/s]\u001b[A\n",
            "Generating positive instances:  92%|█████████▏| 92/100 [00:13<00:00,  8.48it/s]\u001b[A\n",
            "Generating positive instances:  93%|█████████▎| 93/100 [00:13<00:01,  6.86it/s]\u001b[A\n",
            "Generating positive instances:  94%|█████████▍| 94/100 [00:13<00:00,  6.92it/s]\u001b[A\n",
            "Generating positive instances:  95%|█████████▌| 95/100 [00:13<00:00,  6.53it/s]\u001b[A\n",
            "Generating positive instances:  96%|█████████▌| 96/100 [00:13<00:00,  6.41it/s]\u001b[A\n",
            "Generating positive instances:  97%|█████████▋| 97/100 [00:14<00:00,  6.40it/s]\u001b[A\n",
            "Generating positive instances:  98%|█████████▊| 98/100 [00:14<00:00,  6.03it/s]\u001b[A\n",
            "Generating positive instances:  99%|█████████▉| 99/100 [00:14<00:00,  6.10it/s]\u001b[A\n",
            "Generating positive instances: 100%|██████████| 100/100 [00:14<00:00,  6.89it/s]\n",
            "\n",
            "Generating positive instances:   0%|          | 0/100 [00:00<?, ?it/s]\u001b[A\n",
            "Generating positive instances:   1%|          | 1/100 [00:00<00:20,  4.84it/s]\u001b[A\n",
            "Generating positive instances:   2%|▏         | 2/100 [00:00<00:19,  5.04it/s]\u001b[A\n",
            "Generating positive instances:   3%|▎         | 3/100 [00:00<00:18,  5.35it/s]\u001b[A\n",
            "Generating positive instances:   4%|▍         | 4/100 [00:00<00:19,  5.01it/s]\u001b[A\n",
            "Generating positive instances:   5%|▌         | 5/100 [00:00<00:17,  5.52it/s]\u001b[A\n",
            "Generating positive instances:   6%|▌         | 6/100 [00:01<00:16,  5.60it/s]\u001b[A\n",
            "Generating positive instances:   7%|▋         | 7/100 [00:01<00:15,  6.08it/s]\u001b[A\n",
            "Generating positive instances:   8%|▊         | 8/100 [00:01<00:14,  6.36it/s]\u001b[A\n",
            "Generating positive instances:   9%|▉         | 9/100 [00:01<00:14,  6.48it/s]\u001b[A\n",
            "Generating positive instances:  10%|█         | 10/100 [00:01<00:14,  6.11it/s]\u001b[A\n",
            "Generating positive instances:  11%|█         | 11/100 [00:01<00:14,  6.30it/s]\u001b[A\n",
            "Generating positive instances:  12%|█▏        | 12/100 [00:02<00:14,  6.12it/s]\u001b[A\n",
            "Generating positive instances:  13%|█▎        | 13/100 [00:02<00:15,  5.54it/s]\u001b[A\n",
            "Generating positive instances:  14%|█▍        | 14/100 [00:02<00:14,  5.89it/s]\u001b[A\n",
            "Generating positive instances:  15%|█▌        | 15/100 [00:02<00:15,  5.59it/s]\u001b[A\n",
            "Generating positive instances:  16%|█▌        | 16/100 [00:02<00:14,  5.83it/s]\u001b[A\n",
            "Generating positive instances:  17%|█▋        | 17/100 [00:02<00:14,  5.82it/s]\u001b[A\n",
            "Generating positive instances:  18%|█▊        | 18/100 [00:03<00:14,  5.50it/s]\u001b[A\n",
            "Generating positive instances:  19%|█▉        | 19/100 [00:03<00:14,  5.72it/s]\u001b[A\n",
            "Generating positive instances:  20%|██        | 20/100 [00:03<00:13,  6.05it/s]\u001b[A\n",
            "Generating positive instances:  21%|██        | 21/100 [00:03<00:12,  6.30it/s]\u001b[A\n",
            "Generating positive instances:  22%|██▏       | 22/100 [00:03<00:12,  6.32it/s]\u001b[A\n",
            "Generating positive instances:  23%|██▎       | 23/100 [00:03<00:12,  6.37it/s]\u001b[A\n",
            "Generating positive instances:  24%|██▍       | 24/100 [00:04<00:13,  5.62it/s]\u001b[A\n",
            "Generating positive instances:  25%|██▌       | 25/100 [00:04<00:13,  5.58it/s]\u001b[A\n",
            "Generating positive instances:  26%|██▌       | 26/100 [00:04<00:13,  5.33it/s]\u001b[A\n",
            "Generating positive instances:  27%|██▋       | 27/100 [00:04<00:13,  5.44it/s]\u001b[A\n",
            "Generating positive instances:  28%|██▊       | 28/100 [00:04<00:13,  5.36it/s]\u001b[A\n",
            "Generating positive instances:  29%|██▉       | 29/100 [00:05<00:12,  5.56it/s]\u001b[A\n",
            "Generating positive instances:  30%|███       | 30/100 [00:05<00:12,  5.64it/s]\u001b[A\n",
            "Generating positive instances:  31%|███       | 31/100 [00:05<00:12,  5.68it/s]\u001b[A\n",
            "Generating positive instances:  32%|███▏      | 32/100 [00:05<00:13,  5.22it/s]\u001b[A\n",
            "Generating positive instances:  33%|███▎      | 33/100 [00:05<00:12,  5.50it/s]\u001b[A\n",
            "Generating positive instances:  34%|███▍      | 34/100 [00:05<00:11,  5.86it/s]\u001b[A\n",
            "Generating positive instances:  35%|███▌      | 35/100 [00:06<00:11,  5.65it/s]\u001b[A\n",
            "Generating positive instances:  36%|███▌      | 36/100 [00:06<00:10,  5.96it/s]\u001b[A\n",
            "Generating positive instances:  37%|███▋      | 37/100 [00:06<00:10,  6.17it/s]\u001b[A\n",
            "Generating positive instances:  38%|███▊      | 38/100 [00:06<00:11,  5.63it/s]\u001b[A\n",
            "Generating positive instances:  39%|███▉      | 39/100 [00:06<00:09,  6.12it/s]\u001b[A\n",
            "Generating positive instances:  40%|████      | 40/100 [00:07<00:11,  5.26it/s]\u001b[A\n",
            "Generating positive instances:  41%|████      | 41/100 [00:07<00:11,  5.24it/s]\u001b[A\n",
            "Generating positive instances:  42%|████▏     | 42/100 [00:07<00:11,  5.17it/s]\u001b[A\n",
            "Generating positive instances:  43%|████▎     | 43/100 [00:07<00:11,  4.84it/s]\u001b[A\n",
            "Generating positive instances:  44%|████▍     | 44/100 [00:07<00:10,  5.43it/s]\u001b[A\n",
            "Generating positive instances:  45%|████▌     | 45/100 [00:07<00:09,  5.79it/s]\u001b[A\n",
            "Generating positive instances:  46%|████▌     | 46/100 [00:08<00:09,  5.80it/s]\u001b[A\n",
            "Generating positive instances:  47%|████▋     | 47/100 [00:08<00:08,  6.01it/s]\u001b[A\n",
            "Generating positive instances:  48%|████▊     | 48/100 [00:08<00:07,  6.55it/s]\u001b[A\n",
            "Generating positive instances:  49%|████▉     | 49/100 [00:08<00:08,  5.89it/s]\u001b[A\n",
            "Generating positive instances:  50%|█████     | 50/100 [00:08<00:08,  5.93it/s]\u001b[A\n",
            "Generating positive instances:  51%|█████     | 51/100 [00:08<00:08,  6.03it/s]\u001b[A\n",
            "Generating positive instances:  52%|█████▏    | 52/100 [00:09<00:07,  6.16it/s]\u001b[A\n",
            "Generating positive instances:  53%|█████▎    | 53/100 [00:09<00:07,  6.28it/s]\u001b[A\n",
            "Generating positive instances:  54%|█████▍    | 54/100 [00:09<00:07,  6.37it/s]\u001b[A\n",
            "Generating positive instances:  55%|█████▌    | 55/100 [00:09<00:06,  6.58it/s]\u001b[A\n",
            "Generating positive instances:  56%|█████▌    | 56/100 [00:09<00:07,  6.20it/s]\u001b[A\n",
            "Generating positive instances:  57%|█████▋    | 57/100 [00:09<00:06,  6.24it/s]\u001b[A\n",
            "Generating positive instances:  58%|█████▊    | 58/100 [00:09<00:06,  6.59it/s]\u001b[A\n",
            "Generating positive instances:  59%|█████▉    | 59/100 [00:10<00:06,  6.58it/s]\u001b[A\n",
            "Generating positive instances:  60%|██████    | 60/100 [00:10<00:05,  6.80it/s]\u001b[A\n",
            "Generating positive instances:  61%|██████    | 61/100 [00:10<00:06,  6.01it/s]\u001b[A\n",
            "Generating positive instances:  62%|██████▏   | 62/100 [00:10<00:06,  5.99it/s]\u001b[A\n",
            "Generating positive instances:  63%|██████▎   | 63/100 [00:10<00:06,  6.01it/s]\u001b[A\n",
            "Generating positive instances:  64%|██████▍   | 64/100 [00:11<00:07,  5.12it/s]\u001b[A\n",
            "Generating positive instances:  65%|██████▌   | 65/100 [00:11<00:06,  5.63it/s]\u001b[A\n",
            "Generating positive instances:  66%|██████▌   | 66/100 [00:11<00:06,  5.52it/s]\u001b[A\n",
            "Generating positive instances:  67%|██████▋   | 67/100 [00:11<00:05,  5.89it/s]\u001b[A\n",
            "Generating positive instances:  68%|██████▊   | 68/100 [00:11<00:06,  4.87it/s]\u001b[A\n",
            "Generating positive instances:  69%|██████▉   | 69/100 [00:12<00:06,  5.01it/s]\u001b[A\n",
            "Generating positive instances:  70%|███████   | 70/100 [00:12<00:05,  5.04it/s]\u001b[A\n",
            "Generating positive instances:  71%|███████   | 71/100 [00:12<00:06,  4.73it/s]\u001b[A\n",
            "Generating positive instances:  72%|███████▏  | 72/100 [00:12<00:05,  4.87it/s]\u001b[A\n",
            "Generating positive instances:  73%|███████▎  | 73/100 [00:12<00:05,  5.16it/s]\u001b[A\n",
            "Generating positive instances:  74%|███████▍  | 74/100 [00:13<00:05,  5.08it/s]\u001b[A\n",
            "Generating positive instances:  75%|███████▌  | 75/100 [00:13<00:05,  4.52it/s]\u001b[A\n",
            "Generating positive instances:  76%|███████▌  | 76/100 [00:13<00:05,  4.78it/s]\u001b[A\n",
            "Generating positive instances:  77%|███████▋  | 77/100 [00:13<00:05,  4.60it/s]\u001b[A\n",
            "Generating positive instances:  78%|███████▊  | 78/100 [00:13<00:04,  4.72it/s]\u001b[A\n",
            "Generating positive instances:  79%|███████▉  | 79/100 [00:14<00:04,  5.00it/s]\u001b[A\n",
            "Generating positive instances:  80%|████████  | 80/100 [00:14<00:04,  4.96it/s]\u001b[A\n",
            "Generating positive instances:  81%|████████  | 81/100 [00:14<00:03,  5.03it/s]\u001b[A\n",
            "Generating positive instances:  82%|████████▏ | 82/100 [00:14<00:03,  5.17it/s]\u001b[A\n",
            "Generating positive instances:  83%|████████▎ | 83/100 [00:14<00:03,  4.99it/s]\u001b[A\n",
            "Generating positive instances:  84%|████████▍ | 84/100 [00:15<00:03,  5.27it/s]\u001b[A\n",
            "Generating positive instances:  85%|████████▌ | 85/100 [00:15<00:02,  5.23it/s]\u001b[A\n",
            "Generating positive instances:  86%|████████▌ | 86/100 [00:15<00:02,  5.16it/s]\u001b[A\n",
            "Generating positive instances:  87%|████████▋ | 87/100 [00:15<00:02,  4.73it/s]\u001b[A\n",
            "Generating positive instances:  88%|████████▊ | 88/100 [00:15<00:02,  5.09it/s]\u001b[A\n",
            "Generating positive instances:  89%|████████▉ | 89/100 [00:16<00:02,  4.91it/s]\u001b[A\n",
            "Generating positive instances:  90%|█████████ | 90/100 [00:16<00:01,  5.17it/s]\u001b[A\n",
            "Generating positive instances:  91%|█████████ | 91/100 [00:16<00:01,  5.45it/s]\u001b[A\n",
            "Generating positive instances:  92%|█████████▏| 92/100 [00:16<00:01,  5.95it/s]\u001b[A\n",
            "Generating positive instances:  93%|█████████▎| 93/100 [00:16<00:01,  5.62it/s]\u001b[A\n",
            "Generating positive instances:  94%|█████████▍| 94/100 [00:16<00:00,  6.45it/s]\u001b[A\n",
            "Generating positive instances:  95%|█████████▌| 95/100 [00:16<00:00,  6.89it/s]\u001b[A\n",
            "Generating positive instances:  96%|█████████▌| 96/100 [00:17<00:00,  7.34it/s]\u001b[A\n",
            "Generating positive instances:  97%|█████████▋| 97/100 [00:17<00:00,  7.57it/s]\u001b[A\n",
            "Generating positive instances:  98%|█████████▊| 98/100 [00:17<00:00,  7.58it/s]\u001b[A\n",
            "Generating positive instances:  99%|█████████▉| 99/100 [00:17<00:00,  7.98it/s]\u001b[A\n",
            "Generating positive instances: 100%|██████████| 100/100 [00:17<00:00,  5.70it/s]\n",
            "\n",
            "Generating negative instances:   0%|          | 0/100 [00:00<?, ?it/s]\u001b[A\n",
            "Generating negative instances:   1%|          | 1/100 [00:09<15:23,  9.33s/it]\u001b[A\n",
            "Generating negative instances:   2%|▏         | 2/100 [00:20<17:21, 10.63s/it]\u001b[A\n",
            "Generating negative instances:   3%|▎         | 3/100 [00:31<17:09, 10.61s/it]\u001b[A\n",
            "Generating negative instances:   4%|▍         | 4/100 [00:41<16:48, 10.51s/it]\u001b[A\n",
            "Generating negative instances:   5%|▌         | 5/100 [00:53<17:21, 10.96s/it]\u001b[A\n",
            "Generating negative instances:   6%|▌         | 6/100 [01:03<16:24, 10.47s/it]\u001b[A\n",
            "Generating negative instances:   7%|▋         | 7/100 [01:14<16:52, 10.89s/it]\u001b[A\n",
            "Generating negative instances:   8%|▊         | 8/100 [01:24<16:17, 10.63s/it]\u001b[A\n",
            "Generating negative instances:   9%|▉         | 9/100 [01:35<16:13, 10.69s/it]\u001b[A\n",
            "Generating negative instances:  10%|█         | 10/100 [01:47<16:20, 10.89s/it]\u001b[A\n",
            "Generating negative instances:  11%|█         | 11/100 [01:56<15:32, 10.48s/it]\u001b[A\n",
            "Generating negative instances:  12%|█▏        | 12/100 [02:08<15:56, 10.87s/it]\u001b[A\n",
            "Generating negative instances:  13%|█▎        | 13/100 [02:17<15:08, 10.44s/it]\u001b[A\n",
            "Generating negative instances:  14%|█▍        | 14/100 [02:29<15:23, 10.74s/it]\u001b[A\n",
            "Generating negative instances:  15%|█▌        | 15/100 [02:39<15:10, 10.71s/it]\u001b[A\n",
            "Generating negative instances:  16%|█▌        | 16/100 [02:50<14:58, 10.70s/it]\u001b[A\n",
            "Generating negative instances:  17%|█▋        | 17/100 [03:02<15:14, 11.01s/it]\u001b[A\n",
            "Generating negative instances:  18%|█▊        | 18/100 [03:11<14:14, 10.42s/it]\u001b[A\n",
            "Generating negative instances:  19%|█▉        | 19/100 [03:23<14:36, 10.82s/it]\u001b[A\n",
            "Generating negative instances:  20%|██        | 20/100 [03:33<14:10, 10.63s/it]\u001b[A\n",
            "Generating negative instances:  21%|██        | 21/100 [03:44<14:01, 10.65s/it]\u001b[A\n",
            "Generating negative instances:  22%|██▏       | 22/100 [03:55<14:06, 10.85s/it]\u001b[A\n",
            "Generating negative instances:  23%|██▎       | 23/100 [04:04<13:24, 10.45s/it]\u001b[A\n",
            "Generating negative instances:  24%|██▍       | 24/100 [04:17<14:13, 11.23s/it]\u001b[A\n",
            "Generating negative instances:  25%|██▌       | 25/100 [04:28<13:54, 11.13s/it]\u001b[A\n",
            "Generating negative instances:  26%|██▌       | 26/100 [04:40<13:57, 11.32s/it]\u001b[A\n",
            "Generating negative instances:  27%|██▋       | 27/100 [04:49<12:56, 10.63s/it]\u001b[A\n",
            "Generating negative instances:  28%|██▊       | 28/100 [05:01<13:09, 10.97s/it]\u001b[A\n",
            "Generating negative instances:  29%|██▉       | 29/100 [05:11<12:40, 10.71s/it]\u001b[A\n",
            "Generating negative instances:  30%|███       | 30/100 [05:22<12:30, 10.72s/it]\u001b[A\n",
            "Generating negative instances:  31%|███       | 31/100 [05:33<12:33, 10.92s/it]\u001b[A\n",
            "Generating negative instances:  32%|███▏      | 32/100 [05:43<11:55, 10.52s/it]\u001b[A\n",
            "Generating negative instances:  33%|███▎      | 33/100 [05:55<12:11, 10.92s/it]\u001b[A\n",
            "Generating negative instances:  34%|███▍      | 34/100 [06:04<11:33, 10.51s/it]\u001b[A\n",
            "Generating negative instances:  35%|███▌      | 35/100 [06:15<11:39, 10.76s/it]\u001b[A\n",
            "Generating negative instances:  36%|███▌      | 36/100 [06:26<11:27, 10.75s/it]\u001b[A\n",
            "Generating negative instances:  37%|███▋      | 37/100 [06:36<11:07, 10.60s/it]\u001b[A\n",
            "Generating negative instances:  38%|███▊      | 38/100 [06:48<11:19, 10.97s/it]\u001b[A\n",
            "Generating negative instances:  39%|███▉      | 39/100 [06:57<10:37, 10.45s/it]\u001b[A\n",
            "Generating negative instances:  40%|████      | 40/100 [07:09<10:49, 10.83s/it]\u001b[A\n",
            "Generating negative instances:  41%|████      | 41/100 [07:20<10:37, 10.81s/it]\u001b[A\n",
            "Generating negative instances:  42%|████▏     | 42/100 [07:31<10:24, 10.77s/it]\u001b[A\n",
            "Generating negative instances:  43%|████▎     | 43/100 [07:42<10:28, 11.03s/it]\u001b[A\n",
            "Generating negative instances:  44%|████▍     | 44/100 [07:52<09:49, 10.52s/it]\u001b[A\n",
            "Generating negative instances:  45%|████▌     | 45/100 [08:03<09:59, 10.91s/it]\u001b[A\n",
            "Generating negative instances:  46%|████▌     | 46/100 [08:13<09:33, 10.61s/it]\u001b[A\n",
            "Generating negative instances:  47%|████▋     | 47/100 [08:24<09:31, 10.78s/it]\u001b[A\n",
            "Generating negative instances:  48%|████▊     | 48/100 [08:36<09:31, 10.98s/it]\u001b[A\n",
            "Generating negative instances:  49%|████▉     | 49/100 [08:49<09:46, 11.49s/it]\u001b[A\n",
            "Generating negative instances:  50%|█████     | 50/100 [09:00<09:39, 11.58s/it]\u001b[A\n",
            "Generating negative instances:  51%|█████     | 51/100 [09:10<08:57, 10.98s/it]\u001b[A\n",
            "Generating negative instances:  52%|█████▏    | 52/100 [09:21<08:53, 11.11s/it]\u001b[A\n",
            "Generating negative instances:  53%|█████▎    | 53/100 [09:32<08:39, 11.05s/it]\u001b[A\n",
            "Generating negative instances:  54%|█████▍    | 54/100 [09:42<08:15, 10.77s/it]\u001b[A\n",
            "Generating negative instances:  55%|█████▌    | 55/100 [09:54<08:19, 11.10s/it]\u001b[A\n",
            "Generating negative instances:  56%|█████▌    | 56/100 [10:03<07:43, 10.53s/it]\u001b[A\n",
            "Generating negative instances:  57%|█████▋    | 57/100 [10:15<07:50, 10.94s/it]\u001b[A\n",
            "Generating negative instances:  58%|█████▊    | 58/100 [10:26<07:34, 10.81s/it]\u001b[A\n",
            "Generating negative instances:  59%|█████▉    | 59/100 [10:36<07:20, 10.74s/it]\u001b[A\n",
            "Generating negative instances:  60%|██████    | 60/100 [10:48<07:21, 11.05s/it]\u001b[A\n",
            "Generating negative instances:  61%|██████    | 61/100 [10:57<06:49, 10.51s/it]\u001b[A\n",
            "Generating negative instances:  62%|██████▏   | 62/100 [11:09<06:54, 10.90s/it]\u001b[A\n",
            "Generating negative instances:  63%|██████▎   | 63/100 [11:19<06:32, 10.61s/it]\u001b[A\n",
            "Generating negative instances:  64%|██████▍   | 64/100 [11:30<06:26, 10.74s/it]\u001b[A\n",
            "Generating negative instances:  65%|██████▌   | 65/100 [11:41<06:20, 10.87s/it]\u001b[A\n",
            "Generating negative instances:  66%|██████▌   | 66/100 [11:51<05:59, 10.57s/it]\u001b[A\n",
            "Generating negative instances:  67%|██████▋   | 67/100 [12:03<06:01, 10.94s/it]\u001b[A\n",
            "Generating negative instances:  68%|██████▊   | 68/100 [12:12<05:34, 10.44s/it]\u001b[A\n",
            "Generating negative instances:  69%|██████▉   | 69/100 [12:24<05:34, 10.80s/it]\u001b[A\n",
            "Generating negative instances:  70%|███████   | 70/100 [12:35<05:22, 10.76s/it]\u001b[A\n",
            "Generating negative instances:  71%|███████   | 71/100 [12:45<05:09, 10.66s/it]\u001b[A\n",
            "Generating negative instances:  72%|███████▏  | 72/100 [12:57<05:08, 11.03s/it]\u001b[A\n",
            "Generating negative instances:  73%|███████▎  | 73/100 [13:06<04:43, 10.48s/it]\u001b[A\n",
            "Generating negative instances:  74%|███████▍  | 74/100 [13:20<04:58, 11.46s/it]\u001b[A\n",
            "Generating negative instances:  75%|███████▌  | 75/100 [13:30<04:37, 11.09s/it]\u001b[A\n",
            "Generating negative instances:  76%|███████▌  | 76/100 [13:41<04:26, 11.11s/it]\u001b[A\n",
            "Generating negative instances:  77%|███████▋  | 77/100 [13:52<04:10, 10.87s/it]\u001b[A\n",
            "Generating negative instances:  78%|███████▊  | 78/100 [14:02<03:57, 10.81s/it]\u001b[A\n",
            "Generating negative instances:  79%|███████▉  | 79/100 [14:14<03:51, 11.04s/it]\u001b[A\n",
            "Generating negative instances:  80%|████████  | 80/100 [14:23<03:30, 10.55s/it]\u001b[A\n",
            "Generating negative instances:  81%|████████  | 81/100 [14:35<03:27, 10.93s/it]\u001b[A\n",
            "Generating negative instances:  82%|████████▏ | 82/100 [14:45<03:10, 10.56s/it]\u001b[A\n",
            "Generating negative instances:  83%|████████▎ | 83/100 [14:56<03:02, 10.76s/it]\u001b[A\n",
            "Generating negative instances:  84%|████████▍ | 84/100 [15:07<02:53, 10.85s/it]\u001b[A\n",
            "Generating negative instances:  85%|████████▌ | 85/100 [15:17<02:39, 10.60s/it]\u001b[A\n",
            "Generating negative instances:  86%|████████▌ | 86/100 [15:29<02:33, 10.97s/it]\u001b[A\n",
            "Generating negative instances:  87%|████████▋ | 87/100 [15:38<02:15, 10.43s/it]\u001b[A\n",
            "Generating negative instances:  88%|████████▊ | 88/100 [15:50<02:10, 10.84s/it]\u001b[A\n",
            "Generating negative instances:  89%|████████▉ | 89/100 [16:00<01:57, 10.72s/it]\u001b[A\n",
            "Generating negative instances:  90%|█████████ | 90/100 [16:11<01:46, 10.66s/it]\u001b[A\n",
            "Generating negative instances:  91%|█████████ | 91/100 [16:23<01:39, 11.01s/it]\u001b[A\n",
            "Generating negative instances:  92%|█████████▏| 92/100 [16:32<01:23, 10.47s/it]\u001b[A\n",
            "Generating negative instances:  93%|█████████▎| 93/100 [16:44<01:16, 10.86s/it]\u001b[A\n",
            "Generating negative instances:  94%|█████████▍| 94/100 [16:54<01:03, 10.62s/it]\u001b[A\n",
            "Generating negative instances:  95%|█████████▌| 95/100 [17:05<00:53, 10.74s/it]\u001b[A\n",
            "Generating negative instances:  96%|█████████▌| 96/100 [17:16<00:43, 10.90s/it]\u001b[A\n",
            "Generating negative instances:  97%|█████████▋| 97/100 [17:26<00:31, 10.56s/it]\u001b[A\n",
            "Generating negative instances:  98%|█████████▊| 98/100 [17:38<00:21, 10.96s/it]\u001b[A\n",
            "Generating negative instances:  99%|█████████▉| 99/100 [17:51<00:11, 11.74s/it]\u001b[A\n",
            "Generating negative instances: 100%|██████████| 100/100 [18:02<00:00, 10.82s/it]\n",
            "Training epoch 1/2:   0%|          | 0/100 [18:34<?, ?it/s]\n"
          ]
        },
        {
          "ename": "RuntimeError",
          "evalue": "ignored",
          "output_type": "error",
          "traceback": [
            "\u001b[0;31m---------------------------------------------------------------------------\u001b[0m",
            "\u001b[0;31mRuntimeError\u001b[0m                              Traceback (most recent call last)",
            "\u001b[0;32m<ipython-input-44-994b440b3da2>\u001b[0m in \u001b[0;36m<cell line: 5>\u001b[0;34m()\u001b[0m\n\u001b[1;32m     14\u001b[0m \u001b[0;34m\u001b[0m\u001b[0m\n\u001b[1;32m     15\u001b[0m         \u001b[0;31m# Forward pass\u001b[0m\u001b[0;34m\u001b[0m\u001b[0;34m\u001b[0m\u001b[0m\n\u001b[0;32m---> 16\u001b[0;31m         \u001b[0mloss\u001b[0m \u001b[0;34m=\u001b[0m \u001b[0mmodel\u001b[0m\u001b[0;34m(\u001b[0m\u001b[0mecgs\u001b[0m\u001b[0;34m,\u001b[0m \u001b[0mdiagnoses\u001b[0m\u001b[0;34m)\u001b[0m\u001b[0;34m\u001b[0m\u001b[0;34m\u001b[0m\u001b[0m\n\u001b[0m\u001b[1;32m     17\u001b[0m \u001b[0;34m\u001b[0m\u001b[0m\n\u001b[1;32m     18\u001b[0m         \u001b[0;31m# Backward pass and optimize\u001b[0m\u001b[0;34m\u001b[0m\u001b[0;34m\u001b[0m\u001b[0m\n",
            "\u001b[0;32m/usr/local/lib/python3.10/dist-packages/torch/nn/modules/module.py\u001b[0m in \u001b[0;36m_wrapped_call_impl\u001b[0;34m(self, *args, **kwargs)\u001b[0m\n\u001b[1;32m   1516\u001b[0m             \u001b[0;32mreturn\u001b[0m \u001b[0mself\u001b[0m\u001b[0;34m.\u001b[0m\u001b[0m_compiled_call_impl\u001b[0m\u001b[0;34m(\u001b[0m\u001b[0;34m*\u001b[0m\u001b[0margs\u001b[0m\u001b[0;34m,\u001b[0m \u001b[0;34m**\u001b[0m\u001b[0mkwargs\u001b[0m\u001b[0;34m)\u001b[0m  \u001b[0;31m# type: ignore[misc]\u001b[0m\u001b[0;34m\u001b[0m\u001b[0;34m\u001b[0m\u001b[0m\n\u001b[1;32m   1517\u001b[0m         \u001b[0;32melse\u001b[0m\u001b[0;34m:\u001b[0m\u001b[0;34m\u001b[0m\u001b[0;34m\u001b[0m\u001b[0m\n\u001b[0;32m-> 1518\u001b[0;31m             \u001b[0;32mreturn\u001b[0m \u001b[0mself\u001b[0m\u001b[0;34m.\u001b[0m\u001b[0m_call_impl\u001b[0m\u001b[0;34m(\u001b[0m\u001b[0;34m*\u001b[0m\u001b[0margs\u001b[0m\u001b[0;34m,\u001b[0m \u001b[0;34m**\u001b[0m\u001b[0mkwargs\u001b[0m\u001b[0;34m)\u001b[0m\u001b[0;34m\u001b[0m\u001b[0;34m\u001b[0m\u001b[0m\n\u001b[0m\u001b[1;32m   1519\u001b[0m \u001b[0;34m\u001b[0m\u001b[0m\n\u001b[1;32m   1520\u001b[0m     \u001b[0;32mdef\u001b[0m \u001b[0m_call_impl\u001b[0m\u001b[0;34m(\u001b[0m\u001b[0mself\u001b[0m\u001b[0;34m,\u001b[0m \u001b[0;34m*\u001b[0m\u001b[0margs\u001b[0m\u001b[0;34m,\u001b[0m \u001b[0;34m**\u001b[0m\u001b[0mkwargs\u001b[0m\u001b[0;34m)\u001b[0m\u001b[0;34m:\u001b[0m\u001b[0;34m\u001b[0m\u001b[0;34m\u001b[0m\u001b[0m\n",
            "\u001b[0;32m/usr/local/lib/python3.10/dist-packages/torch/nn/modules/module.py\u001b[0m in \u001b[0;36m_call_impl\u001b[0;34m(self, *args, **kwargs)\u001b[0m\n\u001b[1;32m   1525\u001b[0m                 \u001b[0;32mor\u001b[0m \u001b[0m_global_backward_pre_hooks\u001b[0m \u001b[0;32mor\u001b[0m \u001b[0m_global_backward_hooks\u001b[0m\u001b[0;34m\u001b[0m\u001b[0;34m\u001b[0m\u001b[0m\n\u001b[1;32m   1526\u001b[0m                 or _global_forward_hooks or _global_forward_pre_hooks):\n\u001b[0;32m-> 1527\u001b[0;31m             \u001b[0;32mreturn\u001b[0m \u001b[0mforward_call\u001b[0m\u001b[0;34m(\u001b[0m\u001b[0;34m*\u001b[0m\u001b[0margs\u001b[0m\u001b[0;34m,\u001b[0m \u001b[0;34m**\u001b[0m\u001b[0mkwargs\u001b[0m\u001b[0;34m)\u001b[0m\u001b[0;34m\u001b[0m\u001b[0;34m\u001b[0m\u001b[0m\n\u001b[0m\u001b[1;32m   1528\u001b[0m \u001b[0;34m\u001b[0m\u001b[0m\n\u001b[1;32m   1529\u001b[0m         \u001b[0;32mtry\u001b[0m\u001b[0;34m:\u001b[0m\u001b[0;34m\u001b[0m\u001b[0;34m\u001b[0m\u001b[0m\n",
            "\u001b[0;32m<ipython-input-31-b9bd2d6b58a1>\u001b[0m in \u001b[0;36mforward\u001b[0;34m(self, ecgs, diagnoses)\u001b[0m\n\u001b[1;32m     13\u001b[0m         \u001b[0;31m# Compute loss based on whether the pair of embeddings is a positive or negative instance\u001b[0m\u001b[0;34m\u001b[0m\u001b[0;34m\u001b[0m\u001b[0m\n\u001b[1;32m     14\u001b[0m         \u001b[0mloss\u001b[0m \u001b[0;34m=\u001b[0m \u001b[0msum\u001b[0m\u001b[0;34m(\u001b[0m\u001b[0mF\u001b[0m\u001b[0;34m.\u001b[0m\u001b[0mcosine_similarity\u001b[0m\u001b[0;34m(\u001b[0m\u001b[0mecgs_embeddings\u001b[0m\u001b[0;34m[\u001b[0m\u001b[0mi\u001b[0m\u001b[0;34m]\u001b[0m\u001b[0;34m,\u001b[0m \u001b[0mdiagnoses_embeddings\u001b[0m\u001b[0;34m[\u001b[0m\u001b[0mi\u001b[0m\u001b[0;34m]\u001b[0m\u001b[0;34m)\u001b[0m \u001b[0;32mfor\u001b[0m \u001b[0mi\u001b[0m \u001b[0;32min\u001b[0m \u001b[0mrange\u001b[0m\u001b[0;34m(\u001b[0m\u001b[0mlen\u001b[0m\u001b[0;34m(\u001b[0m\u001b[0mecgs\u001b[0m\u001b[0;34m)\u001b[0m\u001b[0;34m)\u001b[0m \u001b[0;32mif\u001b[0m \u001b[0;34m(\u001b[0m\u001b[0mecgs_embeddings\u001b[0m\u001b[0;34m[\u001b[0m\u001b[0mi\u001b[0m\u001b[0;34m]\u001b[0m\u001b[0;34m,\u001b[0m \u001b[0mdiagnoses_embeddings\u001b[0m\u001b[0;34m[\u001b[0m\u001b[0mi\u001b[0m\u001b[0;34m]\u001b[0m\u001b[0;34m)\u001b[0m \u001b[0;32min\u001b[0m \u001b[0mpositive_instances\u001b[0m\u001b[0;34m)\u001b[0m\u001b[0;31m \u001b[0m\u001b[0;31m\\\u001b[0m\u001b[0;34m\u001b[0m\u001b[0;34m\u001b[0m\u001b[0m\n\u001b[0;32m---> 15\u001b[0;31m              \u001b[0;34m-\u001b[0m \u001b[0msum\u001b[0m\u001b[0;34m(\u001b[0m\u001b[0mF\u001b[0m\u001b[0;34m.\u001b[0m\u001b[0mcosine_similarity\u001b[0m\u001b[0;34m(\u001b[0m\u001b[0mecgs_embeddings\u001b[0m\u001b[0;34m[\u001b[0m\u001b[0mi\u001b[0m\u001b[0;34m]\u001b[0m\u001b[0;34m,\u001b[0m \u001b[0mdiagnoses_embeddings\u001b[0m\u001b[0;34m[\u001b[0m\u001b[0mi\u001b[0m\u001b[0;34m]\u001b[0m\u001b[0;34m)\u001b[0m \u001b[0;32mfor\u001b[0m \u001b[0mi\u001b[0m \u001b[0;32min\u001b[0m \u001b[0mrange\u001b[0m\u001b[0;34m(\u001b[0m\u001b[0mlen\u001b[0m\u001b[0;34m(\u001b[0m\u001b[0mecgs\u001b[0m\u001b[0;34m)\u001b[0m\u001b[0;34m)\u001b[0m \u001b[0;32mif\u001b[0m \u001b[0;34m(\u001b[0m\u001b[0mecgs_embeddings\u001b[0m\u001b[0;34m[\u001b[0m\u001b[0mi\u001b[0m\u001b[0;34m]\u001b[0m\u001b[0;34m,\u001b[0m \u001b[0mdiagnoses_embeddings\u001b[0m\u001b[0;34m[\u001b[0m\u001b[0mi\u001b[0m\u001b[0;34m]\u001b[0m\u001b[0;34m)\u001b[0m \u001b[0;32min\u001b[0m \u001b[0mnegative_instances\u001b[0m\u001b[0;34m)\u001b[0m\u001b[0;34m\u001b[0m\u001b[0;34m\u001b[0m\u001b[0m\n\u001b[0m\u001b[1;32m     16\u001b[0m         \u001b[0;32mreturn\u001b[0m \u001b[0mloss\u001b[0m\u001b[0;34m\u001b[0m\u001b[0;34m\u001b[0m\u001b[0m\n",
            "\u001b[0;32m<ipython-input-31-b9bd2d6b58a1>\u001b[0m in \u001b[0;36m<genexpr>\u001b[0;34m(.0)\u001b[0m\n\u001b[1;32m     13\u001b[0m         \u001b[0;31m# Compute loss based on whether the pair of embeddings is a positive or negative instance\u001b[0m\u001b[0;34m\u001b[0m\u001b[0;34m\u001b[0m\u001b[0m\n\u001b[1;32m     14\u001b[0m         \u001b[0mloss\u001b[0m \u001b[0;34m=\u001b[0m \u001b[0msum\u001b[0m\u001b[0;34m(\u001b[0m\u001b[0mF\u001b[0m\u001b[0;34m.\u001b[0m\u001b[0mcosine_similarity\u001b[0m\u001b[0;34m(\u001b[0m\u001b[0mecgs_embeddings\u001b[0m\u001b[0;34m[\u001b[0m\u001b[0mi\u001b[0m\u001b[0;34m]\u001b[0m\u001b[0;34m,\u001b[0m \u001b[0mdiagnoses_embeddings\u001b[0m\u001b[0;34m[\u001b[0m\u001b[0mi\u001b[0m\u001b[0;34m]\u001b[0m\u001b[0;34m)\u001b[0m \u001b[0;32mfor\u001b[0m \u001b[0mi\u001b[0m \u001b[0;32min\u001b[0m \u001b[0mrange\u001b[0m\u001b[0;34m(\u001b[0m\u001b[0mlen\u001b[0m\u001b[0;34m(\u001b[0m\u001b[0mecgs\u001b[0m\u001b[0;34m)\u001b[0m\u001b[0;34m)\u001b[0m \u001b[0;32mif\u001b[0m \u001b[0;34m(\u001b[0m\u001b[0mecgs_embeddings\u001b[0m\u001b[0;34m[\u001b[0m\u001b[0mi\u001b[0m\u001b[0;34m]\u001b[0m\u001b[0;34m,\u001b[0m \u001b[0mdiagnoses_embeddings\u001b[0m\u001b[0;34m[\u001b[0m\u001b[0mi\u001b[0m\u001b[0;34m]\u001b[0m\u001b[0;34m)\u001b[0m \u001b[0;32min\u001b[0m \u001b[0mpositive_instances\u001b[0m\u001b[0;34m)\u001b[0m\u001b[0;31m \u001b[0m\u001b[0;31m\\\u001b[0m\u001b[0;34m\u001b[0m\u001b[0;34m\u001b[0m\u001b[0m\n\u001b[0;32m---> 15\u001b[0;31m              \u001b[0;34m-\u001b[0m \u001b[0msum\u001b[0m\u001b[0;34m(\u001b[0m\u001b[0mF\u001b[0m\u001b[0;34m.\u001b[0m\u001b[0mcosine_similarity\u001b[0m\u001b[0;34m(\u001b[0m\u001b[0mecgs_embeddings\u001b[0m\u001b[0;34m[\u001b[0m\u001b[0mi\u001b[0m\u001b[0;34m]\u001b[0m\u001b[0;34m,\u001b[0m \u001b[0mdiagnoses_embeddings\u001b[0m\u001b[0;34m[\u001b[0m\u001b[0mi\u001b[0m\u001b[0;34m]\u001b[0m\u001b[0;34m)\u001b[0m \u001b[0;32mfor\u001b[0m \u001b[0mi\u001b[0m \u001b[0;32min\u001b[0m \u001b[0mrange\u001b[0m\u001b[0;34m(\u001b[0m\u001b[0mlen\u001b[0m\u001b[0;34m(\u001b[0m\u001b[0mecgs\u001b[0m\u001b[0;34m)\u001b[0m\u001b[0;34m)\u001b[0m \u001b[0;32mif\u001b[0m \u001b[0;34m(\u001b[0m\u001b[0mecgs_embeddings\u001b[0m\u001b[0;34m[\u001b[0m\u001b[0mi\u001b[0m\u001b[0;34m]\u001b[0m\u001b[0;34m,\u001b[0m \u001b[0mdiagnoses_embeddings\u001b[0m\u001b[0;34m[\u001b[0m\u001b[0mi\u001b[0m\u001b[0;34m]\u001b[0m\u001b[0;34m)\u001b[0m \u001b[0;32min\u001b[0m \u001b[0mnegative_instances\u001b[0m\u001b[0;34m)\u001b[0m\u001b[0;34m\u001b[0m\u001b[0;34m\u001b[0m\u001b[0m\n\u001b[0m\u001b[1;32m     16\u001b[0m         \u001b[0;32mreturn\u001b[0m \u001b[0mloss\u001b[0m\u001b[0;34m\u001b[0m\u001b[0;34m\u001b[0m\u001b[0m\n",
            "\u001b[0;31mRuntimeError\u001b[0m: The size of tensor a (768) must match the size of tensor b (126) at non-singleton dimension 1"
          ]
        }
      ],
      "source": [
        "# Initialize a list to store the loss at each step\n",
        "losses = []\n",
        "\n",
        "# Training loop\n",
        "for epoch in range(num_epochs):\n",
        "    # Add a progress bar for the inner loop\n",
        "    for i in tqdm(range(len(sample_train_set_100)), desc=f\"Training epoch {epoch+1}/{2}\"):\n",
        "        # Get ECGs and diagnoses from training set\n",
        "        ecgs = sample_train_set_100[i][1]['val']\n",
        "        diagnoses = sample_processed_train_df_100['dx_modality'][i]\n",
        "\n",
        "        # Convert ECGs to tensor and add a dimension for batch size\n",
        "        ecgs = torch.from_numpy(ecgs).float().unsqueeze(0)\n",
        "\n",
        "        # Forward pass\n",
        "        loss = model(ecgs, diagnoses)\n",
        "\n",
        "        # Backward pass and optimize\n",
        "        optimizer.zero_grad()\n",
        "        loss.backward()\n",
        "        optimizer.step()\n",
        "\n",
        "        # Save the loss to a variable\n",
        "        losses.append(loss.item())\n",
        "\n",
        "    print ('Epoch [{}/{}], Loss: {:.4f}'.format(epoch+1, num_epochs, loss.item()))\n",
        "\n",
        "# Save the model checkpoint after training\n",
        "torch.save(model.state_dict(), 'model.ckpt')"
      ]
    },
    {
      "cell_type": "markdown",
      "metadata": {
        "id": "AzMqb_KSHwBC"
      },
      "source": [
        "```\n",
        "class CLIPModel(nn.Module):\n",
        "def\n",
        "def __init__(self, ):\n",
        "Konstantin Egorov8:28 AM\n",
        "class CLIPModule(nn.Module):\n",
        "\tdef __init__(self, ):\n",
        "\t\tself.ecg_encoder = ECGEncoder()\n",
        "\t\tself.text_encoder = TextEncoder()\n",
        "\t\tself.triplet_loss = TripletLoss()\n",
        "\n",
        "\tdef forward(self, ecgs, diagnoses):\n",
        "\t\tecgs_embeddings = self.ecg_encoder(ecgs)\n",
        "\t\tdiagnoses_embeddings = self.text_encoder(diagnoses)\n",
        "\t\tloss – self.triplet_loss(ecgs_embeddings, diagnoses_embeddings)\n",
        "```"
      ]
    }
  ],
  "metadata": {
    "colab": {
      "provenance": []
    },
    "kernelspec": {
      "display_name": "Python 3",
      "name": "python3"
    },
    "language_info": {
      "name": "python"
    },
    "widgets": {
      "application/vnd.jupyter.widget-state+json": {
        "1e6fde47e1004d0fa2d1f4b89abdafaf": {
          "model_module": "@jupyter-widgets/base",
          "model_module_version": "1.2.0",
          "model_name": "LayoutModel",
          "state": {
            "_model_module": "@jupyter-widgets/base",
            "_model_module_version": "1.2.0",
            "_model_name": "LayoutModel",
            "_view_count": null,
            "_view_module": "@jupyter-widgets/base",
            "_view_module_version": "1.2.0",
            "_view_name": "LayoutView",
            "align_content": null,
            "align_items": null,
            "align_self": null,
            "border": null,
            "bottom": null,
            "display": null,
            "flex": null,
            "flex_flow": null,
            "grid_area": null,
            "grid_auto_columns": null,
            "grid_auto_flow": null,
            "grid_auto_rows": null,
            "grid_column": null,
            "grid_gap": null,
            "grid_row": null,
            "grid_template_areas": null,
            "grid_template_columns": null,
            "grid_template_rows": null,
            "height": null,
            "justify_content": null,
            "justify_items": null,
            "left": null,
            "margin": null,
            "max_height": null,
            "max_width": null,
            "min_height": null,
            "min_width": null,
            "object_fit": null,
            "object_position": null,
            "order": null,
            "overflow": null,
            "overflow_x": null,
            "overflow_y": null,
            "padding": null,
            "right": null,
            "top": null,
            "visibility": null,
            "width": null
          }
        },
        "2762429932a041db82b4e99b45993162": {
          "model_module": "@jupyter-widgets/controls",
          "model_module_version": "1.5.0",
          "model_name": "DescriptionStyleModel",
          "state": {
            "_model_module": "@jupyter-widgets/controls",
            "_model_module_version": "1.5.0",
            "_model_name": "DescriptionStyleModel",
            "_view_count": null,
            "_view_module": "@jupyter-widgets/base",
            "_view_module_version": "1.2.0",
            "_view_name": "StyleView",
            "description_width": ""
          }
        },
        "2953d43b07b94afab2f88189359f756b": {
          "model_module": "@jupyter-widgets/controls",
          "model_module_version": "1.5.0",
          "model_name": "HBoxModel",
          "state": {
            "_dom_classes": [],
            "_model_module": "@jupyter-widgets/controls",
            "_model_module_version": "1.5.0",
            "_model_name": "HBoxModel",
            "_view_count": null,
            "_view_module": "@jupyter-widgets/controls",
            "_view_module_version": "1.5.0",
            "_view_name": "HBoxView",
            "box_style": "",
            "children": [
              "IPY_MODEL_d728c4b6a3a74c2589a055e12a3195e6",
              "IPY_MODEL_5d1733e7d9cb4fb9affd7338af287d92",
              "IPY_MODEL_7ada2bb23d0f4f26ae588a5ca4640824"
            ],
            "layout": "IPY_MODEL_da997aaa1f91465692c8d6e2a589e12d"
          }
        },
        "2b908dbb865146f683be6290e6e2a09a": {
          "model_module": "@jupyter-widgets/controls",
          "model_module_version": "1.5.0",
          "model_name": "FloatProgressModel",
          "state": {
            "_dom_classes": [],
            "_model_module": "@jupyter-widgets/controls",
            "_model_module_version": "1.5.0",
            "_model_name": "FloatProgressModel",
            "_view_count": null,
            "_view_module": "@jupyter-widgets/controls",
            "_view_module_version": "1.5.0",
            "_view_name": "ProgressView",
            "bar_style": "success",
            "description": "",
            "description_tooltip": null,
            "layout": "IPY_MODEL_e1e6163d3da0451ba33c8fa5a1c9de09",
            "max": 435778770,
            "min": 0,
            "orientation": "horizontal",
            "style": "IPY_MODEL_a02c3d59c249457881078c9301547e87",
            "value": 435778770
          }
        },
        "38da870be8bd4a3587fd8b624b55f648": {
          "model_module": "@jupyter-widgets/controls",
          "model_module_version": "1.5.0",
          "model_name": "ProgressStyleModel",
          "state": {
            "_model_module": "@jupyter-widgets/controls",
            "_model_module_version": "1.5.0",
            "_model_name": "ProgressStyleModel",
            "_view_count": null,
            "_view_module": "@jupyter-widgets/base",
            "_view_module_version": "1.2.0",
            "_view_name": "StyleView",
            "bar_color": null,
            "description_width": ""
          }
        },
        "3c8c970dc6b0439886e036c92ffc7017": {
          "model_module": "@jupyter-widgets/controls",
          "model_module_version": "1.5.0",
          "model_name": "DescriptionStyleModel",
          "state": {
            "_model_module": "@jupyter-widgets/controls",
            "_model_module_version": "1.5.0",
            "_model_name": "DescriptionStyleModel",
            "_view_count": null,
            "_view_module": "@jupyter-widgets/base",
            "_view_module_version": "1.2.0",
            "_view_name": "StyleView",
            "description_width": ""
          }
        },
        "3ccfe50aed4d4cb2905da68a99beec24": {
          "model_module": "@jupyter-widgets/base",
          "model_module_version": "1.2.0",
          "model_name": "LayoutModel",
          "state": {
            "_model_module": "@jupyter-widgets/base",
            "_model_module_version": "1.2.0",
            "_model_name": "LayoutModel",
            "_view_count": null,
            "_view_module": "@jupyter-widgets/base",
            "_view_module_version": "1.2.0",
            "_view_name": "LayoutView",
            "align_content": null,
            "align_items": null,
            "align_self": null,
            "border": null,
            "bottom": null,
            "display": null,
            "flex": null,
            "flex_flow": null,
            "grid_area": null,
            "grid_auto_columns": null,
            "grid_auto_flow": null,
            "grid_auto_rows": null,
            "grid_column": null,
            "grid_gap": null,
            "grid_row": null,
            "grid_template_areas": null,
            "grid_template_columns": null,
            "grid_template_rows": null,
            "height": null,
            "justify_content": null,
            "justify_items": null,
            "left": null,
            "margin": null,
            "max_height": null,
            "max_width": null,
            "min_height": null,
            "min_width": null,
            "object_fit": null,
            "object_position": null,
            "order": null,
            "overflow": null,
            "overflow_x": null,
            "overflow_y": null,
            "padding": null,
            "right": null,
            "top": null,
            "visibility": null,
            "width": null
          }
        },
        "3fd9b53a8ad34ffab86d9865d556b502": {
          "model_module": "@jupyter-widgets/base",
          "model_module_version": "1.2.0",
          "model_name": "LayoutModel",
          "state": {
            "_model_module": "@jupyter-widgets/base",
            "_model_module_version": "1.2.0",
            "_model_name": "LayoutModel",
            "_view_count": null,
            "_view_module": "@jupyter-widgets/base",
            "_view_module_version": "1.2.0",
            "_view_name": "LayoutView",
            "align_content": null,
            "align_items": null,
            "align_self": null,
            "border": null,
            "bottom": null,
            "display": null,
            "flex": null,
            "flex_flow": null,
            "grid_area": null,
            "grid_auto_columns": null,
            "grid_auto_flow": null,
            "grid_auto_rows": null,
            "grid_column": null,
            "grid_gap": null,
            "grid_row": null,
            "grid_template_areas": null,
            "grid_template_columns": null,
            "grid_template_rows": null,
            "height": null,
            "justify_content": null,
            "justify_items": null,
            "left": null,
            "margin": null,
            "max_height": null,
            "max_width": null,
            "min_height": null,
            "min_width": null,
            "object_fit": null,
            "object_position": null,
            "order": null,
            "overflow": null,
            "overflow_x": null,
            "overflow_y": null,
            "padding": null,
            "right": null,
            "top": null,
            "visibility": null,
            "width": null
          }
        },
        "44024481528443bc81cc2c5b2b985a91": {
          "model_module": "@jupyter-widgets/controls",
          "model_module_version": "1.5.0",
          "model_name": "DescriptionStyleModel",
          "state": {
            "_model_module": "@jupyter-widgets/controls",
            "_model_module_version": "1.5.0",
            "_model_name": "DescriptionStyleModel",
            "_view_count": null,
            "_view_module": "@jupyter-widgets/base",
            "_view_module_version": "1.2.0",
            "_view_name": "StyleView",
            "description_width": ""
          }
        },
        "49b0a369d958483d9160b9670b557d5e": {
          "model_module": "@jupyter-widgets/base",
          "model_module_version": "1.2.0",
          "model_name": "LayoutModel",
          "state": {
            "_model_module": "@jupyter-widgets/base",
            "_model_module_version": "1.2.0",
            "_model_name": "LayoutModel",
            "_view_count": null,
            "_view_module": "@jupyter-widgets/base",
            "_view_module_version": "1.2.0",
            "_view_name": "LayoutView",
            "align_content": null,
            "align_items": null,
            "align_self": null,
            "border": null,
            "bottom": null,
            "display": null,
            "flex": null,
            "flex_flow": null,
            "grid_area": null,
            "grid_auto_columns": null,
            "grid_auto_flow": null,
            "grid_auto_rows": null,
            "grid_column": null,
            "grid_gap": null,
            "grid_row": null,
            "grid_template_areas": null,
            "grid_template_columns": null,
            "grid_template_rows": null,
            "height": null,
            "justify_content": null,
            "justify_items": null,
            "left": null,
            "margin": null,
            "max_height": null,
            "max_width": null,
            "min_height": null,
            "min_width": null,
            "object_fit": null,
            "object_position": null,
            "order": null,
            "overflow": null,
            "overflow_x": null,
            "overflow_y": null,
            "padding": null,
            "right": null,
            "top": null,
            "visibility": null,
            "width": null
          }
        },
        "4f46c000455c4be6a37d8d552e1d5fba": {
          "model_module": "@jupyter-widgets/controls",
          "model_module_version": "1.5.0",
          "model_name": "HBoxModel",
          "state": {
            "_dom_classes": [],
            "_model_module": "@jupyter-widgets/controls",
            "_model_module_version": "1.5.0",
            "_model_name": "HBoxModel",
            "_view_count": null,
            "_view_module": "@jupyter-widgets/controls",
            "_view_module_version": "1.5.0",
            "_view_name": "HBoxView",
            "box_style": "",
            "children": [
              "IPY_MODEL_92a30b3524494ab9ac9d476a6a80345b",
              "IPY_MODEL_2b908dbb865146f683be6290e6e2a09a",
              "IPY_MODEL_d88b7289ab1c44fea542ff0e47ee5848"
            ],
            "layout": "IPY_MODEL_942b9996bb6046cb9ee143c393551583"
          }
        },
        "5d1733e7d9cb4fb9affd7338af287d92": {
          "model_module": "@jupyter-widgets/controls",
          "model_module_version": "1.5.0",
          "model_name": "FloatProgressModel",
          "state": {
            "_dom_classes": [],
            "_model_module": "@jupyter-widgets/controls",
            "_model_module_version": "1.5.0",
            "_model_name": "FloatProgressModel",
            "_view_count": null,
            "_view_module": "@jupyter-widgets/controls",
            "_view_module_version": "1.5.0",
            "_view_name": "ProgressView",
            "bar_style": "success",
            "description": "",
            "description_tooltip": null,
            "layout": "IPY_MODEL_61279ed166624a5f9d0411620144bebd",
            "max": 213450,
            "min": 0,
            "orientation": "horizontal",
            "style": "IPY_MODEL_38da870be8bd4a3587fd8b624b55f648",
            "value": 213450
          }
        },
        "61279ed166624a5f9d0411620144bebd": {
          "model_module": "@jupyter-widgets/base",
          "model_module_version": "1.2.0",
          "model_name": "LayoutModel",
          "state": {
            "_model_module": "@jupyter-widgets/base",
            "_model_module_version": "1.2.0",
            "_model_name": "LayoutModel",
            "_view_count": null,
            "_view_module": "@jupyter-widgets/base",
            "_view_module_version": "1.2.0",
            "_view_name": "LayoutView",
            "align_content": null,
            "align_items": null,
            "align_self": null,
            "border": null,
            "bottom": null,
            "display": null,
            "flex": null,
            "flex_flow": null,
            "grid_area": null,
            "grid_auto_columns": null,
            "grid_auto_flow": null,
            "grid_auto_rows": null,
            "grid_column": null,
            "grid_gap": null,
            "grid_row": null,
            "grid_template_areas": null,
            "grid_template_columns": null,
            "grid_template_rows": null,
            "height": null,
            "justify_content": null,
            "justify_items": null,
            "left": null,
            "margin": null,
            "max_height": null,
            "max_width": null,
            "min_height": null,
            "min_width": null,
            "object_fit": null,
            "object_position": null,
            "order": null,
            "overflow": null,
            "overflow_x": null,
            "overflow_y": null,
            "padding": null,
            "right": null,
            "top": null,
            "visibility": null,
            "width": null
          }
        },
        "61d2441820f54e7d9e728129b8fd78bc": {
          "model_module": "@jupyter-widgets/base",
          "model_module_version": "1.2.0",
          "model_name": "LayoutModel",
          "state": {
            "_model_module": "@jupyter-widgets/base",
            "_model_module_version": "1.2.0",
            "_model_name": "LayoutModel",
            "_view_count": null,
            "_view_module": "@jupyter-widgets/base",
            "_view_module_version": "1.2.0",
            "_view_name": "LayoutView",
            "align_content": null,
            "align_items": null,
            "align_self": null,
            "border": null,
            "bottom": null,
            "display": null,
            "flex": null,
            "flex_flow": null,
            "grid_area": null,
            "grid_auto_columns": null,
            "grid_auto_flow": null,
            "grid_auto_rows": null,
            "grid_column": null,
            "grid_gap": null,
            "grid_row": null,
            "grid_template_areas": null,
            "grid_template_columns": null,
            "grid_template_rows": null,
            "height": null,
            "justify_content": null,
            "justify_items": null,
            "left": null,
            "margin": null,
            "max_height": null,
            "max_width": null,
            "min_height": null,
            "min_width": null,
            "object_fit": null,
            "object_position": null,
            "order": null,
            "overflow": null,
            "overflow_x": null,
            "overflow_y": null,
            "padding": null,
            "right": null,
            "top": null,
            "visibility": null,
            "width": null
          }
        },
        "7ada2bb23d0f4f26ae588a5ca4640824": {
          "model_module": "@jupyter-widgets/controls",
          "model_module_version": "1.5.0",
          "model_name": "HTMLModel",
          "state": {
            "_dom_classes": [],
            "_model_module": "@jupyter-widgets/controls",
            "_model_module_version": "1.5.0",
            "_model_name": "HTMLModel",
            "_view_count": null,
            "_view_module": "@jupyter-widgets/controls",
            "_view_module_version": "1.5.0",
            "_view_name": "HTMLView",
            "description": "",
            "description_tooltip": null,
            "layout": "IPY_MODEL_dbfd00685dad4ddc90935c501535ccd3",
            "placeholder": "​",
            "style": "IPY_MODEL_ecbc45915be242c19ebbf7d72530006f",
            "value": " 213k/213k [00:00&lt;00:00, 1.78MB/s]"
          }
        },
        "8ae37084fcbc4d719872e712bb47626e": {
          "model_module": "@jupyter-widgets/controls",
          "model_module_version": "1.5.0",
          "model_name": "ProgressStyleModel",
          "state": {
            "_model_module": "@jupyter-widgets/controls",
            "_model_module_version": "1.5.0",
            "_model_name": "ProgressStyleModel",
            "_view_count": null,
            "_view_module": "@jupyter-widgets/base",
            "_view_module_version": "1.2.0",
            "_view_name": "StyleView",
            "bar_color": null,
            "description_width": ""
          }
        },
        "92a30b3524494ab9ac9d476a6a80345b": {
          "model_module": "@jupyter-widgets/controls",
          "model_module_version": "1.5.0",
          "model_name": "HTMLModel",
          "state": {
            "_dom_classes": [],
            "_model_module": "@jupyter-widgets/controls",
            "_model_module_version": "1.5.0",
            "_model_name": "HTMLModel",
            "_view_count": null,
            "_view_module": "@jupyter-widgets/controls",
            "_view_module_version": "1.5.0",
            "_view_name": "HTMLView",
            "description": "",
            "description_tooltip": null,
            "layout": "IPY_MODEL_3ccfe50aed4d4cb2905da68a99beec24",
            "placeholder": "​",
            "style": "IPY_MODEL_2762429932a041db82b4e99b45993162",
            "value": "pytorch_model.bin: 100%"
          }
        },
        "942b9996bb6046cb9ee143c393551583": {
          "model_module": "@jupyter-widgets/base",
          "model_module_version": "1.2.0",
          "model_name": "LayoutModel",
          "state": {
            "_model_module": "@jupyter-widgets/base",
            "_model_module_version": "1.2.0",
            "_model_name": "LayoutModel",
            "_view_count": null,
            "_view_module": "@jupyter-widgets/base",
            "_view_module_version": "1.2.0",
            "_view_name": "LayoutView",
            "align_content": null,
            "align_items": null,
            "align_self": null,
            "border": null,
            "bottom": null,
            "display": null,
            "flex": null,
            "flex_flow": null,
            "grid_area": null,
            "grid_auto_columns": null,
            "grid_auto_flow": null,
            "grid_auto_rows": null,
            "grid_column": null,
            "grid_gap": null,
            "grid_row": null,
            "grid_template_areas": null,
            "grid_template_columns": null,
            "grid_template_rows": null,
            "height": null,
            "justify_content": null,
            "justify_items": null,
            "left": null,
            "margin": null,
            "max_height": null,
            "max_width": null,
            "min_height": null,
            "min_width": null,
            "object_fit": null,
            "object_position": null,
            "order": null,
            "overflow": null,
            "overflow_x": null,
            "overflow_y": null,
            "padding": null,
            "right": null,
            "top": null,
            "visibility": null,
            "width": null
          }
        },
        "97e8d0998cb0435e847d35f383ae247e": {
          "model_module": "@jupyter-widgets/controls",
          "model_module_version": "1.5.0",
          "model_name": "DescriptionStyleModel",
          "state": {
            "_model_module": "@jupyter-widgets/controls",
            "_model_module_version": "1.5.0",
            "_model_name": "DescriptionStyleModel",
            "_view_count": null,
            "_view_module": "@jupyter-widgets/base",
            "_view_module_version": "1.2.0",
            "_view_name": "StyleView",
            "description_width": ""
          }
        },
        "a02c3d59c249457881078c9301547e87": {
          "model_module": "@jupyter-widgets/controls",
          "model_module_version": "1.5.0",
          "model_name": "ProgressStyleModel",
          "state": {
            "_model_module": "@jupyter-widgets/controls",
            "_model_module_version": "1.5.0",
            "_model_name": "ProgressStyleModel",
            "_view_count": null,
            "_view_module": "@jupyter-widgets/base",
            "_view_module_version": "1.2.0",
            "_view_name": "StyleView",
            "bar_color": null,
            "description_width": ""
          }
        },
        "a8846804be3f46d5b41acfc75cddbbcc": {
          "model_module": "@jupyter-widgets/controls",
          "model_module_version": "1.5.0",
          "model_name": "FloatProgressModel",
          "state": {
            "_dom_classes": [],
            "_model_module": "@jupyter-widgets/controls",
            "_model_module_version": "1.5.0",
            "_model_name": "FloatProgressModel",
            "_view_count": null,
            "_view_module": "@jupyter-widgets/controls",
            "_view_module_version": "1.5.0",
            "_view_name": "ProgressView",
            "bar_style": "success",
            "description": "",
            "description_tooltip": null,
            "layout": "IPY_MODEL_49b0a369d958483d9160b9670b557d5e",
            "max": 385,
            "min": 0,
            "orientation": "horizontal",
            "style": "IPY_MODEL_8ae37084fcbc4d719872e712bb47626e",
            "value": 385
          }
        },
        "a9a69a11c3874732bbae21af0f1ddb38": {
          "model_module": "@jupyter-widgets/base",
          "model_module_version": "1.2.0",
          "model_name": "LayoutModel",
          "state": {
            "_model_module": "@jupyter-widgets/base",
            "_model_module_version": "1.2.0",
            "_model_name": "LayoutModel",
            "_view_count": null,
            "_view_module": "@jupyter-widgets/base",
            "_view_module_version": "1.2.0",
            "_view_name": "LayoutView",
            "align_content": null,
            "align_items": null,
            "align_self": null,
            "border": null,
            "bottom": null,
            "display": null,
            "flex": null,
            "flex_flow": null,
            "grid_area": null,
            "grid_auto_columns": null,
            "grid_auto_flow": null,
            "grid_auto_rows": null,
            "grid_column": null,
            "grid_gap": null,
            "grid_row": null,
            "grid_template_areas": null,
            "grid_template_columns": null,
            "grid_template_rows": null,
            "height": null,
            "justify_content": null,
            "justify_items": null,
            "left": null,
            "margin": null,
            "max_height": null,
            "max_width": null,
            "min_height": null,
            "min_width": null,
            "object_fit": null,
            "object_position": null,
            "order": null,
            "overflow": null,
            "overflow_x": null,
            "overflow_y": null,
            "padding": null,
            "right": null,
            "top": null,
            "visibility": null,
            "width": null
          }
        },
        "aeab1b979e6e426dab9efb2886ecf6b3": {
          "model_module": "@jupyter-widgets/controls",
          "model_module_version": "1.5.0",
          "model_name": "DescriptionStyleModel",
          "state": {
            "_model_module": "@jupyter-widgets/controls",
            "_model_module_version": "1.5.0",
            "_model_name": "DescriptionStyleModel",
            "_view_count": null,
            "_view_module": "@jupyter-widgets/base",
            "_view_module_version": "1.2.0",
            "_view_name": "StyleView",
            "description_width": ""
          }
        },
        "c93c71f75ac644489557cfcee82850e0": {
          "model_module": "@jupyter-widgets/controls",
          "model_module_version": "1.5.0",
          "model_name": "HBoxModel",
          "state": {
            "_dom_classes": [],
            "_model_module": "@jupyter-widgets/controls",
            "_model_module_version": "1.5.0",
            "_model_name": "HBoxModel",
            "_view_count": null,
            "_view_module": "@jupyter-widgets/controls",
            "_view_module_version": "1.5.0",
            "_view_name": "HBoxView",
            "box_style": "",
            "children": [
              "IPY_MODEL_eb005fc35df1468da6e4b0ebe5caf4d7",
              "IPY_MODEL_a8846804be3f46d5b41acfc75cddbbcc",
              "IPY_MODEL_d23507c50e2d4deaad780453e8c325bc"
            ],
            "layout": "IPY_MODEL_a9a69a11c3874732bbae21af0f1ddb38"
          }
        },
        "d23507c50e2d4deaad780453e8c325bc": {
          "model_module": "@jupyter-widgets/controls",
          "model_module_version": "1.5.0",
          "model_name": "HTMLModel",
          "state": {
            "_dom_classes": [],
            "_model_module": "@jupyter-widgets/controls",
            "_model_module_version": "1.5.0",
            "_model_name": "HTMLModel",
            "_view_count": null,
            "_view_module": "@jupyter-widgets/controls",
            "_view_module_version": "1.5.0",
            "_view_name": "HTMLView",
            "description": "",
            "description_tooltip": null,
            "layout": "IPY_MODEL_3fd9b53a8ad34ffab86d9865d556b502",
            "placeholder": "​",
            "style": "IPY_MODEL_44024481528443bc81cc2c5b2b985a91",
            "value": " 385/385 [00:00&lt;00:00, 6.00kB/s]"
          }
        },
        "d728c4b6a3a74c2589a055e12a3195e6": {
          "model_module": "@jupyter-widgets/controls",
          "model_module_version": "1.5.0",
          "model_name": "HTMLModel",
          "state": {
            "_dom_classes": [],
            "_model_module": "@jupyter-widgets/controls",
            "_model_module_version": "1.5.0",
            "_model_name": "HTMLModel",
            "_view_count": null,
            "_view_module": "@jupyter-widgets/controls",
            "_view_module_version": "1.5.0",
            "_view_name": "HTMLView",
            "description": "",
            "description_tooltip": null,
            "layout": "IPY_MODEL_1e6fde47e1004d0fa2d1f4b89abdafaf",
            "placeholder": "​",
            "style": "IPY_MODEL_97e8d0998cb0435e847d35f383ae247e",
            "value": "vocab.txt: 100%"
          }
        },
        "d88b7289ab1c44fea542ff0e47ee5848": {
          "model_module": "@jupyter-widgets/controls",
          "model_module_version": "1.5.0",
          "model_name": "HTMLModel",
          "state": {
            "_dom_classes": [],
            "_model_module": "@jupyter-widgets/controls",
            "_model_module_version": "1.5.0",
            "_model_name": "HTMLModel",
            "_view_count": null,
            "_view_module": "@jupyter-widgets/controls",
            "_view_module_version": "1.5.0",
            "_view_name": "HTMLView",
            "description": "",
            "description_tooltip": null,
            "layout": "IPY_MODEL_f5ab5d98cda7404fa63a6e12671fa7c8",
            "placeholder": "​",
            "style": "IPY_MODEL_aeab1b979e6e426dab9efb2886ecf6b3",
            "value": " 436M/436M [00:03&lt;00:00, 101MB/s]"
          }
        },
        "da997aaa1f91465692c8d6e2a589e12d": {
          "model_module": "@jupyter-widgets/base",
          "model_module_version": "1.2.0",
          "model_name": "LayoutModel",
          "state": {
            "_model_module": "@jupyter-widgets/base",
            "_model_module_version": "1.2.0",
            "_model_name": "LayoutModel",
            "_view_count": null,
            "_view_module": "@jupyter-widgets/base",
            "_view_module_version": "1.2.0",
            "_view_name": "LayoutView",
            "align_content": null,
            "align_items": null,
            "align_self": null,
            "border": null,
            "bottom": null,
            "display": null,
            "flex": null,
            "flex_flow": null,
            "grid_area": null,
            "grid_auto_columns": null,
            "grid_auto_flow": null,
            "grid_auto_rows": null,
            "grid_column": null,
            "grid_gap": null,
            "grid_row": null,
            "grid_template_areas": null,
            "grid_template_columns": null,
            "grid_template_rows": null,
            "height": null,
            "justify_content": null,
            "justify_items": null,
            "left": null,
            "margin": null,
            "max_height": null,
            "max_width": null,
            "min_height": null,
            "min_width": null,
            "object_fit": null,
            "object_position": null,
            "order": null,
            "overflow": null,
            "overflow_x": null,
            "overflow_y": null,
            "padding": null,
            "right": null,
            "top": null,
            "visibility": null,
            "width": null
          }
        },
        "dbfd00685dad4ddc90935c501535ccd3": {
          "model_module": "@jupyter-widgets/base",
          "model_module_version": "1.2.0",
          "model_name": "LayoutModel",
          "state": {
            "_model_module": "@jupyter-widgets/base",
            "_model_module_version": "1.2.0",
            "_model_name": "LayoutModel",
            "_view_count": null,
            "_view_module": "@jupyter-widgets/base",
            "_view_module_version": "1.2.0",
            "_view_name": "LayoutView",
            "align_content": null,
            "align_items": null,
            "align_self": null,
            "border": null,
            "bottom": null,
            "display": null,
            "flex": null,
            "flex_flow": null,
            "grid_area": null,
            "grid_auto_columns": null,
            "grid_auto_flow": null,
            "grid_auto_rows": null,
            "grid_column": null,
            "grid_gap": null,
            "grid_row": null,
            "grid_template_areas": null,
            "grid_template_columns": null,
            "grid_template_rows": null,
            "height": null,
            "justify_content": null,
            "justify_items": null,
            "left": null,
            "margin": null,
            "max_height": null,
            "max_width": null,
            "min_height": null,
            "min_width": null,
            "object_fit": null,
            "object_position": null,
            "order": null,
            "overflow": null,
            "overflow_x": null,
            "overflow_y": null,
            "padding": null,
            "right": null,
            "top": null,
            "visibility": null,
            "width": null
          }
        },
        "e1e6163d3da0451ba33c8fa5a1c9de09": {
          "model_module": "@jupyter-widgets/base",
          "model_module_version": "1.2.0",
          "model_name": "LayoutModel",
          "state": {
            "_model_module": "@jupyter-widgets/base",
            "_model_module_version": "1.2.0",
            "_model_name": "LayoutModel",
            "_view_count": null,
            "_view_module": "@jupyter-widgets/base",
            "_view_module_version": "1.2.0",
            "_view_name": "LayoutView",
            "align_content": null,
            "align_items": null,
            "align_self": null,
            "border": null,
            "bottom": null,
            "display": null,
            "flex": null,
            "flex_flow": null,
            "grid_area": null,
            "grid_auto_columns": null,
            "grid_auto_flow": null,
            "grid_auto_rows": null,
            "grid_column": null,
            "grid_gap": null,
            "grid_row": null,
            "grid_template_areas": null,
            "grid_template_columns": null,
            "grid_template_rows": null,
            "height": null,
            "justify_content": null,
            "justify_items": null,
            "left": null,
            "margin": null,
            "max_height": null,
            "max_width": null,
            "min_height": null,
            "min_width": null,
            "object_fit": null,
            "object_position": null,
            "order": null,
            "overflow": null,
            "overflow_x": null,
            "overflow_y": null,
            "padding": null,
            "right": null,
            "top": null,
            "visibility": null,
            "width": null
          }
        },
        "eb005fc35df1468da6e4b0ebe5caf4d7": {
          "model_module": "@jupyter-widgets/controls",
          "model_module_version": "1.5.0",
          "model_name": "HTMLModel",
          "state": {
            "_dom_classes": [],
            "_model_module": "@jupyter-widgets/controls",
            "_model_module_version": "1.5.0",
            "_model_name": "HTMLModel",
            "_view_count": null,
            "_view_module": "@jupyter-widgets/controls",
            "_view_module_version": "1.5.0",
            "_view_name": "HTMLView",
            "description": "",
            "description_tooltip": null,
            "layout": "IPY_MODEL_61d2441820f54e7d9e728129b8fd78bc",
            "placeholder": "​",
            "style": "IPY_MODEL_3c8c970dc6b0439886e036c92ffc7017",
            "value": "config.json: 100%"
          }
        },
        "ecbc45915be242c19ebbf7d72530006f": {
          "model_module": "@jupyter-widgets/controls",
          "model_module_version": "1.5.0",
          "model_name": "DescriptionStyleModel",
          "state": {
            "_model_module": "@jupyter-widgets/controls",
            "_model_module_version": "1.5.0",
            "_model_name": "DescriptionStyleModel",
            "_view_count": null,
            "_view_module": "@jupyter-widgets/base",
            "_view_module_version": "1.2.0",
            "_view_name": "StyleView",
            "description_width": ""
          }
        },
        "f5ab5d98cda7404fa63a6e12671fa7c8": {
          "model_module": "@jupyter-widgets/base",
          "model_module_version": "1.2.0",
          "model_name": "LayoutModel",
          "state": {
            "_model_module": "@jupyter-widgets/base",
            "_model_module_version": "1.2.0",
            "_model_name": "LayoutModel",
            "_view_count": null,
            "_view_module": "@jupyter-widgets/base",
            "_view_module_version": "1.2.0",
            "_view_name": "LayoutView",
            "align_content": null,
            "align_items": null,
            "align_self": null,
            "border": null,
            "bottom": null,
            "display": null,
            "flex": null,
            "flex_flow": null,
            "grid_area": null,
            "grid_auto_columns": null,
            "grid_auto_flow": null,
            "grid_auto_rows": null,
            "grid_column": null,
            "grid_gap": null,
            "grid_row": null,
            "grid_template_areas": null,
            "grid_template_columns": null,
            "grid_template_rows": null,
            "height": null,
            "justify_content": null,
            "justify_items": null,
            "left": null,
            "margin": null,
            "max_height": null,
            "max_width": null,
            "min_height": null,
            "min_width": null,
            "object_fit": null,
            "object_position": null,
            "order": null,
            "overflow": null,
            "overflow_x": null,
            "overflow_y": null,
            "padding": null,
            "right": null,
            "top": null,
            "visibility": null,
            "width": null
          }
        }
      }
    }
  },
  "nbformat": 4,
  "nbformat_minor": 0
}
