{
 "cells": [
  {
   "cell_type": "markdown",
   "metadata": {},
   "source": [
    "# PhysioNet 2021 Challenge\n",
    "\n",
    "The training data contains twelve-lead ECGs. The validation and test data contains twelve-lead, six-lead, four-lead, three-lead, and two-lead ECGs:\n",
    "\n",
    "1. Twelve leads: I, II, III, aVR, aVL, aVF, V1, V2, V3, V4, V5, V6\n",
    "2. Six leads: I, II, III, aVR, aVL, aVF\n",
    "3. Four leads: I, II, III, V2\n",
    "4. Three leads: I, II, V2\n",
    "5. Two leads: I, II\n",
    "\n",
    "Each ECG recording has one or more labels that describe cardiac abnormalities (and/or a normal sinus rhythm).\n",
    "\n",
    "The Challenge data include annotated twelve-lead ECG recordings from six sources in four countries across three continents. These databases include over 100,000 twelve-lead ECG recordings with over 88,000 ECGs shared publicly as training data."
   ]
  },
  {
   "cell_type": "markdown",
   "metadata": {},
   "source": [
    "For example, a header file A0001.hea may have the following contents:\n",
    "\n",
    "```\n",
    "    A0001 12 500 7500\n",
    "    A0001.mat 16+24 1000/mV 16 0 28 -1716 0 I\n",
    "    A0001.mat 16+24 1000/mV 16 0 7 2029 0 II\n",
    "    A0001.mat 16+24 1000/mV 16 0 -21 3745 0 III\n",
    "    A0001.mat 16+24 1000/mV 16 0 -17 3680 0 aVR\n",
    "    A0001.mat 16+24 1000/mV 16 0 24 -2664 0 aVL\n",
    "    A0001.mat 16+24 1000/mV 16 0 -7 -1499 0 aVF\n",
    "    A0001.mat 16+24 1000/mV 16 0 -290 390 0 V1\n",
    "    A0001.mat 16+24 1000/mV 16 0 -204 157 0 V2\n",
    "    A0001.mat 16+24 1000/mV 16 0 -96 -2555 0 V3\n",
    "    A0001.mat 16+24 1000/mV 16 0 -112 49 0 V4\n",
    "    A0001.mat 16+24 1000/mV 16 0 -596 -321 0 V5\n",
    "    A0001.mat 16+24 1000/mV 16 0 -16 -3112 0 V6\n",
    "    #Age: 74\n",
    "    #Sex: Male\n",
    "    #Dx: 426783006\n",
    "    #Rx: Unknown\n",
    "    #Hx: Unknown\n",
    "    #Sx: Unknown\n",
    "```\n",
    "\n",
    "From the first line of the file:\n",
    "- We see that the recording number is A0001, and the recording file is A0001.mat. \n",
    "- The recording has 12 leads, each recorded at a 500 Hz sampling frequency, and contains 7500 samples. \n",
    "- From the next 12 lines of the file (one for each lead), we see that each signal:\n",
    "    - Was written at 16 bits with an offset of 24 bits\n",
    "    - The floating point number (analog-to-digital converter (ADC) units per physical unit) is 1000/mV \n",
    "    - The resolution of the analog-to-digital converter (ADC) used to digitize the signal is 16 bits, and the baseline value corresponding to 0 physical units is 0. \n",
    "    - The first value of the signal (-1716, etc.), the checksum (0, etc.), and the lead name (I, etc.) are the last three entries of each of these lines. \n",
    "- From the final 6 lines, we see that the patient is:\n",
    "    - A 74-year-old male \n",
    "    - With a diagnosis (Dx) of 426783006, which is the **SNOMED-CT code** for sinus rhythm. \n",
    "    - The medical prescription (Rx), history (Hx), and symptom or surgery (Sx) are unknown. \n",
    "\n",
    "- Please visit WFDB header format for more information on the header file and variables."
   ]
  },
  {
   "cell_type": "code",
   "execution_count": 1,
   "metadata": {},
   "outputs": [
    {
     "name": "stderr",
     "output_type": "stream",
     "text": [
      "c:\\Users\\navme\\AppData\\Local\\Programs\\Python\\Python38\\lib\\site-packages\\numpy\\_distributor_init.py:30: UserWarning: loaded more than 1 DLL from .libs:\n",
      "c:\\Users\\navme\\AppData\\Local\\Programs\\Python\\Python38\\lib\\site-packages\\numpy\\.libs\\libopenblas.FB5AE2TYXYH2IJRDKGDGQ3XBKLKTF43H.gfortran-win_amd64.dll\n",
      "c:\\Users\\navme\\AppData\\Local\\Programs\\Python\\Python38\\lib\\site-packages\\numpy\\.libs\\libopenblas64__v0.3.21-gcc_10_3_0.dll\n",
      "  warnings.warn(\"loaded more than 1 DLL from .libs:\"\n"
     ]
    }
   ],
   "source": [
    "# General imports\n",
    "import os\n",
    "import numpy as np\n",
    "import pandas as pd\n",
    "import matplotlib.pyplot as plt\n",
    "import torch\n",
    "import sys\n",
    "from tqdm import tqdm\n",
    "import ast\n",
    "from scipy.signal import resample\n",
    "\n",
    "# Matlab/WFDB files\n",
    "import scipy.io as sio"
   ]
  },
  {
   "cell_type": "code",
   "execution_count": 2,
   "metadata": {},
   "outputs": [],
   "source": [
    "sys.path.append('C:/Users/navme/Desktop/ECG_Project/PyFiles')"
   ]
  },
  {
   "cell_type": "code",
   "execution_count": 3,
   "metadata": {},
   "outputs": [],
   "source": [
    "from helper_functions import *"
   ]
  },
  {
   "cell_type": "code",
   "execution_count": 4,
   "metadata": {},
   "outputs": [],
   "source": [
    "from dataset import PhysioNetDataset"
   ]
  },
  {
   "cell_type": "code",
   "execution_count": 5,
   "metadata": {},
   "outputs": [
    {
     "data": {
      "text/plain": [
       "'C:/Users/navme/Desktop/ECG_Thesis_Local/PhysioNet-2021-Challenge/physionet.org/files/challenge-2021/1.0.3/training'"
      ]
     },
     "execution_count": 5,
     "metadata": {},
     "output_type": "execute_result"
    }
   ],
   "source": [
    "PhysioNet_PATH = f'C:/Users/navme/Desktop/ECG_Thesis_Local/PhysioNet-2021-Challenge/physionet.org/files/challenge-2021/1.0.3/training'\n",
    "PhysioNet_PATH"
   ]
  },
  {
   "cell_type": "markdown",
   "metadata": {},
   "source": [
    "## Train/Val/Test PhysioNet Datasets "
   ]
  },
  {
   "cell_type": "code",
   "execution_count": 6,
   "metadata": {},
   "outputs": [],
   "source": [
    "# Train\n",
    "train_set = PhysioNetDataset(PhysioNet_PATH, train=True)\n",
    "\n",
    "# Val\n",
    "val_set = PhysioNetDataset(PhysioNet_PATH, train=False)"
   ]
  },
  {
   "cell_type": "code",
   "execution_count": null,
   "metadata": {},
   "outputs": [],
   "source": [
    "# Example of ECG header data\n",
    "train_set[0][0]"
   ]
  },
  {
   "cell_type": "code",
   "execution_count": 11,
   "metadata": {},
   "outputs": [
    {
     "data": {
      "text/plain": [
       "{'val': array([[408.24601882, 408.24601882, 408.24601882, ..., -83.34581329,\n",
       "         -74.965045  , -63.10339951],\n",
       "        [-92.07603073, -92.07603073, -92.07603073, ...,  57.20010276,\n",
       "          54.51591647,  58.88514819],\n",
       "        [225.08001192, 225.08001192, 225.08001192, ...,  93.39571052,\n",
       "          97.44912853, 117.96825132]])}"
      ]
     },
     "execution_count": 11,
     "metadata": {},
     "output_type": "execute_result"
    }
   ],
   "source": [
    "# Example of ECG signal\n",
    "train_set[0][1]"
   ]
  },
  {
   "cell_type": "markdown",
   "metadata": {},
   "source": [
    "## Loading Processed Patient Data"
   ]
  },
  {
   "cell_type": "code",
   "execution_count": 18,
   "metadata": {},
   "outputs": [],
   "source": [
    "processed_train_df_path = r'C:\\Users\\navme\\Desktop\\ECG_Project\\Data\\processed_train_set_records.csv'\n",
    "processed_val_df_path = r'C:\\Users\\navme\\Desktop\\ECG_Project\\Data\\processed_val_set_records.csv'\n",
    "\n",
    "# Fix URL formatting\n",
    "processed_train_df_path = convert_to_forward_slashes(processed_train_df_path)\n",
    "processed_val_df_path = convert_to_forward_slashes(processed_val_df_path)"
   ]
  },
  {
   "cell_type": "code",
   "execution_count": 21,
   "metadata": {},
   "outputs": [],
   "source": [
    "processed_train_df = pd.read_csv(processed_train_df_path)\n",
    "processed_val_df = pd.read_csv(processed_val_df_path)"
   ]
  },
  {
   "cell_type": "code",
   "execution_count": 22,
   "metadata": {},
   "outputs": [
    {
     "data": {
      "text/html": [
       "<div>\n",
       "<style scoped>\n",
       "    .dataframe tbody tr th:only-of-type {\n",
       "        vertical-align: middle;\n",
       "    }\n",
       "\n",
       "    .dataframe tbody tr th {\n",
       "        vertical-align: top;\n",
       "    }\n",
       "\n",
       "    .dataframe thead th {\n",
       "        text-align: right;\n",
       "    }\n",
       "</style>\n",
       "<table border=\"1\" class=\"dataframe\">\n",
       "  <thead>\n",
       "    <tr style=\"text-align: right;\">\n",
       "      <th></th>\n",
       "      <th>recording_number</th>\n",
       "      <th>recording_file</th>\n",
       "      <th>num_leads</th>\n",
       "      <th>sampling_frequency</th>\n",
       "      <th>num_samples</th>\n",
       "      <th>age</th>\n",
       "      <th>sex</th>\n",
       "      <th>dx</th>\n",
       "      <th>rx</th>\n",
       "      <th>hx</th>\n",
       "      <th>...</th>\n",
       "      <th>lead_10_lead_name</th>\n",
       "      <th>lead_11_file</th>\n",
       "      <th>lead_11_adc_gain</th>\n",
       "      <th>lead_11_units</th>\n",
       "      <th>lead_11_adc_resolution</th>\n",
       "      <th>lead_11_adc_zero</th>\n",
       "      <th>lead_11_initial_value</th>\n",
       "      <th>lead_11_checksum</th>\n",
       "      <th>lead_11_lead_name</th>\n",
       "      <th>dx_modality</th>\n",
       "    </tr>\n",
       "  </thead>\n",
       "  <tbody>\n",
       "    <tr>\n",
       "      <th>0</th>\n",
       "      <td>JS00001</td>\n",
       "      <td>JS00001.mat</td>\n",
       "      <td>12</td>\n",
       "      <td>500</td>\n",
       "      <td>5000</td>\n",
       "      <td>85.0</td>\n",
       "      <td>Male</td>\n",
       "      <td>['164889003', '59118001', '164934002']</td>\n",
       "      <td>Unknown</td>\n",
       "      <td>Unknown</td>\n",
       "      <td>...</td>\n",
       "      <td>0</td>\n",
       "      <td>JS00001.mat</td>\n",
       "      <td>1000.0</td>\n",
       "      <td>mV</td>\n",
       "      <td>16</td>\n",
       "      <td>0</td>\n",
       "      <td>527</td>\n",
       "      <td>32579</td>\n",
       "      <td>0</td>\n",
       "      <td>['atrial fibrillation', 'right bundle branch b...</td>\n",
       "    </tr>\n",
       "    <tr>\n",
       "      <th>1</th>\n",
       "      <td>JS00002</td>\n",
       "      <td>JS00002.mat</td>\n",
       "      <td>12</td>\n",
       "      <td>500</td>\n",
       "      <td>5000</td>\n",
       "      <td>59.0</td>\n",
       "      <td>Female</td>\n",
       "      <td>['426177001', '164934002']</td>\n",
       "      <td>Unknown</td>\n",
       "      <td>Unknown</td>\n",
       "      <td>...</td>\n",
       "      <td>0</td>\n",
       "      <td>JS00002.mat</td>\n",
       "      <td>1000.0</td>\n",
       "      <td>mV</td>\n",
       "      <td>16</td>\n",
       "      <td>0</td>\n",
       "      <td>0</td>\n",
       "      <td>31542</td>\n",
       "      <td>0</td>\n",
       "      <td>['sinus bradycardia', 't wave abnormal']</td>\n",
       "    </tr>\n",
       "    <tr>\n",
       "      <th>2</th>\n",
       "      <td>JS00004</td>\n",
       "      <td>JS00004.mat</td>\n",
       "      <td>12</td>\n",
       "      <td>500</td>\n",
       "      <td>5000</td>\n",
       "      <td>66.0</td>\n",
       "      <td>Male</td>\n",
       "      <td>['426177001']</td>\n",
       "      <td>Unknown</td>\n",
       "      <td>Unknown</td>\n",
       "      <td>...</td>\n",
       "      <td>0</td>\n",
       "      <td>JS00004.mat</td>\n",
       "      <td>1000.0</td>\n",
       "      <td>mV</td>\n",
       "      <td>16</td>\n",
       "      <td>0</td>\n",
       "      <td>342</td>\n",
       "      <td>24967</td>\n",
       "      <td>0</td>\n",
       "      <td>['sinus bradycardia']</td>\n",
       "    </tr>\n",
       "  </tbody>\n",
       "</table>\n",
       "<p>3 rows × 108 columns</p>\n",
       "</div>"
      ],
      "text/plain": [
       "  recording_number recording_file  num_leads  sampling_frequency  num_samples  \\\n",
       "0          JS00001    JS00001.mat         12                 500         5000   \n",
       "1          JS00002    JS00002.mat         12                 500         5000   \n",
       "2          JS00004    JS00004.mat         12                 500         5000   \n",
       "\n",
       "    age     sex                                      dx       rx       hx  \\\n",
       "0  85.0    Male  ['164889003', '59118001', '164934002']  Unknown  Unknown   \n",
       "1  59.0  Female              ['426177001', '164934002']  Unknown  Unknown   \n",
       "2  66.0    Male                           ['426177001']  Unknown  Unknown   \n",
       "\n",
       "   ... lead_10_lead_name lead_11_file  lead_11_adc_gain lead_11_units  \\\n",
       "0  ...                 0  JS00001.mat            1000.0            mV   \n",
       "1  ...                 0  JS00002.mat            1000.0            mV   \n",
       "2  ...                 0  JS00004.mat            1000.0            mV   \n",
       "\n",
       "   lead_11_adc_resolution  lead_11_adc_zero  lead_11_initial_value  \\\n",
       "0                      16                 0                    527   \n",
       "1                      16                 0                      0   \n",
       "2                      16                 0                    342   \n",
       "\n",
       "   lead_11_checksum  lead_11_lead_name  \\\n",
       "0             32579                  0   \n",
       "1             31542                  0   \n",
       "2             24967                  0   \n",
       "\n",
       "                                         dx_modality  \n",
       "0  ['atrial fibrillation', 'right bundle branch b...  \n",
       "1           ['sinus bradycardia', 't wave abnormal']  \n",
       "2                              ['sinus bradycardia']  \n",
       "\n",
       "[3 rows x 108 columns]"
      ]
     },
     "execution_count": 22,
     "metadata": {},
     "output_type": "execute_result"
    }
   ],
   "source": [
    "processed_train_df.head(3)"
   ]
  },
  {
   "cell_type": "markdown",
   "metadata": {},
   "source": [
    "## TextEncoder()\n",
    "\n",
    "Create a class, ```TextEncoder()``` that is used to convert the description of the (dx_modality) diagnosis class into embeddings using the ClinicalBERT model.\n",
    "\n",
    "- Input should be a concatenated using comma or blank space string of diagnoses/dx_modality per ECG signal.\n",
    "- Use processed CSV files (dx_modality vs dx_modality, age, etc together)\n",
    "- Frozen weights (since it's already pretrained)"
   ]
  },
  {
   "cell_type": "code",
   "execution_count": null,
   "metadata": {},
   "outputs": [],
   "source": []
  },
  {
   "cell_type": "markdown",
   "metadata": {},
   "source": [
    "### Case 1: dx_modality only"
   ]
  },
  {
   "cell_type": "code",
   "execution_count": null,
   "metadata": {},
   "outputs": [],
   "source": []
  },
  {
   "cell_type": "markdown",
   "metadata": {},
   "source": [
    "### Case 2: dx_modality plus age, sex, the medical prescription (Rx), history (Hx), and symptom or surgery (Sx)"
   ]
  },
  {
   "cell_type": "code",
   "execution_count": null,
   "metadata": {},
   "outputs": [],
   "source": []
  }
 ],
 "metadata": {
  "kernelspec": {
   "display_name": "Python 3",
   "language": "python",
   "name": "python3"
  },
  "language_info": {
   "codemirror_mode": {
    "name": "ipython",
    "version": 3
   },
   "file_extension": ".py",
   "mimetype": "text/x-python",
   "name": "python",
   "nbconvert_exporter": "python",
   "pygments_lexer": "ipython3",
   "version": "3.8.1"
  }
 },
 "nbformat": 4,
 "nbformat_minor": 2
}
