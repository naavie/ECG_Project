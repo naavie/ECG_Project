{
 "cells": [
  {
   "cell_type": "markdown",
   "metadata": {},
   "source": [
    "# PhysioNet 2021 Challenge\n",
    "\n",
    "The training data contains twelve-lead ECGs. The validation and test data contains twelve-lead, six-lead, four-lead, three-lead, and two-lead ECGs:\n",
    "\n",
    "1. Twelve leads: I, II, III, aVR, aVL, aVF, V1, V2, V3, V4, V5, V6\n",
    "2. Six leads: I, II, III, aVR, aVL, aVF\n",
    "3. Four leads: I, II, III, V2\n",
    "4. Three leads: I, II, V2\n",
    "5. Two leads: I, II\n",
    "\n",
    "Each ECG recording has one or more labels that describe cardiac abnormalities (and/or a normal sinus rhythm).\n",
    "\n",
    "The Challenge data include annotated twelve-lead ECG recordings from six sources in four countries across three continents. These databases include over 100,000 twelve-lead ECG recordings with over 88,000 ECGs shared publicly as training data."
   ]
  },
  {
   "cell_type": "markdown",
   "metadata": {},
   "source": [
    "For example, a header file A0001.hea may have the following contents:\n",
    "\n",
    "```\n",
    "    A0001 12 500 7500\n",
    "    A0001.mat 16+24 1000/mV 16 0 28 -1716 0 I\n",
    "    A0001.mat 16+24 1000/mV 16 0 7 2029 0 II\n",
    "    A0001.mat 16+24 1000/mV 16 0 -21 3745 0 III\n",
    "    A0001.mat 16+24 1000/mV 16 0 -17 3680 0 aVR\n",
    "    A0001.mat 16+24 1000/mV 16 0 24 -2664 0 aVL\n",
    "    A0001.mat 16+24 1000/mV 16 0 -7 -1499 0 aVF\n",
    "    A0001.mat 16+24 1000/mV 16 0 -290 390 0 V1\n",
    "    A0001.mat 16+24 1000/mV 16 0 -204 157 0 V2\n",
    "    A0001.mat 16+24 1000/mV 16 0 -96 -2555 0 V3\n",
    "    A0001.mat 16+24 1000/mV 16 0 -112 49 0 V4\n",
    "    A0001.mat 16+24 1000/mV 16 0 -596 -321 0 V5\n",
    "    A0001.mat 16+24 1000/mV 16 0 -16 -3112 0 V6\n",
    "    #Age: 74\n",
    "    #Sex: Male\n",
    "    #Dx: 426783006\n",
    "    #Rx: Unknown\n",
    "    #Hx: Unknown\n",
    "    #Sx: Unknown\n",
    "```\n",
    "\n",
    "From the first line of the file:\n",
    "- We see that the recording number is A0001, and the recording file is A0001.mat. \n",
    "- The recording has 12 leads, each recorded at a 500 Hz sampling frequency, and contains 7500 samples. \n",
    "- From the next 12 lines of the file (one for each lead), we see that each signal:\n",
    "    - Was written at 16 bits with an offset of 24 bits\n",
    "    - The floating point number (analog-to-digital converter (ADC) units per physical unit) is 1000/mV \n",
    "    - The resolution of the analog-to-digital converter (ADC) used to digitize the signal is 16 bits, and the baseline value corresponding to 0 physical units is 0. \n",
    "    - The first value of the signal (-1716, etc.), the checksum (0, etc.), and the lead name (I, etc.) are the last three entries of each of these lines. \n",
    "- From the final 6 lines, we see that the patient is:\n",
    "    - A 74-year-old male \n",
    "    - With a diagnosis (Dx) of 426783006, which is the **SNOMED-CT code** for sinus rhythm. \n",
    "    - The medical prescription (Rx), history (Hx), and symptom or surgery (Sx) are unknown. \n",
    "\n",
    "- Please visit WFDB header format for more information on the header file and variables."
   ]
  },
  {
   "cell_type": "code",
   "execution_count": 52,
   "metadata": {},
   "outputs": [],
   "source": [
    "import os\n",
    "import numpy as np\n",
    "import pandas as pd\n",
    "import matplotlib.pyplot as plt\n",
    "import sys\n",
    "from tqdm import tqdm\n",
    "from scipy.signal import resample\n",
    "import torch\n",
    "from transformers import AutoTokenizer, AutoModel\n",
    "import ast"
   ]
  },
  {
   "cell_type": "code",
   "execution_count": 2,
   "metadata": {},
   "outputs": [],
   "source": [
    "sys.path.append('C:/Users/navme/Desktop/ECG_Project/PyFiles')"
   ]
  },
  {
   "cell_type": "code",
   "execution_count": 3,
   "metadata": {},
   "outputs": [],
   "source": [
    "from helper_functions import *"
   ]
  },
  {
   "cell_type": "code",
   "execution_count": 4,
   "metadata": {},
   "outputs": [],
   "source": [
    "from dataset import PhysioNetDataset"
   ]
  },
  {
   "cell_type": "code",
   "execution_count": 5,
   "metadata": {},
   "outputs": [
    {
     "data": {
      "text/plain": [
       "'C:/Users/navme/Desktop/ECG_Thesis_Local/PhysioNet-2021-Challenge/physionet.org/files/challenge-2021/1.0.3/training'"
      ]
     },
     "execution_count": 5,
     "metadata": {},
     "output_type": "execute_result"
    }
   ],
   "source": [
    "PhysioNet_PATH = f'C:/Users/navme/Desktop/ECG_Thesis_Local/PhysioNet-2021-Challenge/physionet.org/files/challenge-2021/1.0.3/training'\n",
    "PhysioNet_PATH"
   ]
  },
  {
   "cell_type": "markdown",
   "metadata": {},
   "source": [
    "## Train/Val/Test PhysioNet Datasets "
   ]
  },
  {
   "cell_type": "code",
   "execution_count": 6,
   "metadata": {},
   "outputs": [],
   "source": [
    "# Train\n",
    "train_set = PhysioNetDataset(PhysioNet_PATH, train=True)\n",
    "\n",
    "# Val\n",
    "val_set = PhysioNetDataset(PhysioNet_PATH, train=False)"
   ]
  },
  {
   "cell_type": "code",
   "execution_count": null,
   "metadata": {},
   "outputs": [],
   "source": [
    "# Example of ECG header data\n",
    "train_set[0][0]"
   ]
  },
  {
   "cell_type": "code",
   "execution_count": 8,
   "metadata": {},
   "outputs": [
    {
     "data": {
      "text/plain": [
       "{'val': array([[408.24601882, 408.24601882, 408.24601882, ..., -83.34581329,\n",
       "         -74.965045  , -63.10339951],\n",
       "        [-92.07603073, -92.07603073, -92.07603073, ...,  57.20010276,\n",
       "          54.51591647,  58.88514819],\n",
       "        [225.08001192, 225.08001192, 225.08001192, ...,  93.39571052,\n",
       "          97.44912853, 117.96825132]])}"
      ]
     },
     "execution_count": 8,
     "metadata": {},
     "output_type": "execute_result"
    }
   ],
   "source": [
    "# Example of ECG signal\n",
    "train_set[0][1]"
   ]
  },
  {
   "cell_type": "markdown",
   "metadata": {},
   "source": [
    "## Loading Processed Patient Data"
   ]
  },
  {
   "cell_type": "markdown",
   "metadata": {},
   "source": [
    "### PhysioNet 2021"
   ]
  },
  {
   "cell_type": "code",
   "execution_count": 9,
   "metadata": {},
   "outputs": [],
   "source": [
    "processed_train_df_path = r'C:\\Users\\navme\\Desktop\\ECG_Project\\Data\\PhysioNet\\processed_train_set_records.csv'\n",
    "processed_val_df_path = r'C:\\Users\\navme\\Desktop\\ECG_Project\\Data\\PhysioNet\\processed_val_set_records.csv'\n",
    "\n",
    "# Fix URL formatting\n",
    "processed_train_df_path = convert_to_forward_slashes(processed_train_df_path)\n",
    "processed_val_df_path = convert_to_forward_slashes(processed_val_df_path)"
   ]
  },
  {
   "cell_type": "code",
   "execution_count": 10,
   "metadata": {},
   "outputs": [],
   "source": [
    "processed_train_df = pd.read_csv(processed_train_df_path)\n",
    "processed_val_df = pd.read_csv(processed_val_df_path)"
   ]
  },
  {
   "cell_type": "code",
   "execution_count": 59,
   "metadata": {},
   "outputs": [
    {
     "data": {
      "text/plain": [
       "\"['sinus bradycardia']\""
      ]
     },
     "execution_count": 59,
     "metadata": {},
     "output_type": "execute_result"
    }
   ],
   "source": [
    "processed_train_df['dx_modality'][4]"
   ]
  },
  {
   "cell_type": "markdown",
   "metadata": {},
   "source": [
    "### CODE-15"
   ]
  },
  {
   "cell_type": "code",
   "execution_count": 12,
   "metadata": {},
   "outputs": [],
   "source": [
    "CODE15_df_path = r'C:\\Users\\navme\\Desktop\\ECG_Project\\Data\\CODE-15\\exams.csv'\n",
    "\n",
    "# Fix URL formatting\n",
    "CODE15_df_path = convert_to_forward_slashes(CODE15_df_path)"
   ]
  },
  {
   "cell_type": "code",
   "execution_count": 14,
   "metadata": {},
   "outputs": [],
   "source": [
    "CODE15_df = pd.read_csv(CODE15_df_path)"
   ]
  },
  {
   "cell_type": "code",
   "execution_count": 17,
   "metadata": {},
   "outputs": [
    {
     "data": {
      "text/html": [
       "<div>\n",
       "<style scoped>\n",
       "    .dataframe tbody tr th:only-of-type {\n",
       "        vertical-align: middle;\n",
       "    }\n",
       "\n",
       "    .dataframe tbody tr th {\n",
       "        vertical-align: top;\n",
       "    }\n",
       "\n",
       "    .dataframe thead th {\n",
       "        text-align: right;\n",
       "    }\n",
       "</style>\n",
       "<table border=\"1\" class=\"dataframe\">\n",
       "  <thead>\n",
       "    <tr style=\"text-align: right;\">\n",
       "      <th></th>\n",
       "      <th>exam_id</th>\n",
       "      <th>age</th>\n",
       "      <th>is_male</th>\n",
       "      <th>nn_predicted_age</th>\n",
       "      <th>1dAVb</th>\n",
       "      <th>RBBB</th>\n",
       "      <th>LBBB</th>\n",
       "      <th>SB</th>\n",
       "      <th>ST</th>\n",
       "      <th>AF</th>\n",
       "      <th>patient_id</th>\n",
       "      <th>death</th>\n",
       "      <th>timey</th>\n",
       "      <th>normal_ecg</th>\n",
       "      <th>trace_file</th>\n",
       "    </tr>\n",
       "  </thead>\n",
       "  <tbody>\n",
       "    <tr>\n",
       "      <th>0</th>\n",
       "      <td>1169160</td>\n",
       "      <td>38</td>\n",
       "      <td>True</td>\n",
       "      <td>40.160484</td>\n",
       "      <td>False</td>\n",
       "      <td>False</td>\n",
       "      <td>False</td>\n",
       "      <td>False</td>\n",
       "      <td>False</td>\n",
       "      <td>False</td>\n",
       "      <td>523632</td>\n",
       "      <td>False</td>\n",
       "      <td>2.098628</td>\n",
       "      <td>True</td>\n",
       "      <td>exams_part13.hdf5</td>\n",
       "    </tr>\n",
       "    <tr>\n",
       "      <th>1</th>\n",
       "      <td>2873686</td>\n",
       "      <td>73</td>\n",
       "      <td>True</td>\n",
       "      <td>67.059440</td>\n",
       "      <td>False</td>\n",
       "      <td>False</td>\n",
       "      <td>False</td>\n",
       "      <td>False</td>\n",
       "      <td>False</td>\n",
       "      <td>False</td>\n",
       "      <td>1724173</td>\n",
       "      <td>False</td>\n",
       "      <td>6.657529</td>\n",
       "      <td>False</td>\n",
       "      <td>exams_part13.hdf5</td>\n",
       "    </tr>\n",
       "    <tr>\n",
       "      <th>2</th>\n",
       "      <td>168405</td>\n",
       "      <td>67</td>\n",
       "      <td>True</td>\n",
       "      <td>79.621740</td>\n",
       "      <td>False</td>\n",
       "      <td>False</td>\n",
       "      <td>False</td>\n",
       "      <td>False</td>\n",
       "      <td>False</td>\n",
       "      <td>True</td>\n",
       "      <td>51421</td>\n",
       "      <td>False</td>\n",
       "      <td>4.282188</td>\n",
       "      <td>False</td>\n",
       "      <td>exams_part13.hdf5</td>\n",
       "    </tr>\n",
       "    <tr>\n",
       "      <th>3</th>\n",
       "      <td>271011</td>\n",
       "      <td>41</td>\n",
       "      <td>True</td>\n",
       "      <td>69.750260</td>\n",
       "      <td>False</td>\n",
       "      <td>False</td>\n",
       "      <td>False</td>\n",
       "      <td>False</td>\n",
       "      <td>False</td>\n",
       "      <td>False</td>\n",
       "      <td>1737282</td>\n",
       "      <td>False</td>\n",
       "      <td>4.038353</td>\n",
       "      <td>True</td>\n",
       "      <td>exams_part13.hdf5</td>\n",
       "    </tr>\n",
       "    <tr>\n",
       "      <th>4</th>\n",
       "      <td>384368</td>\n",
       "      <td>73</td>\n",
       "      <td>True</td>\n",
       "      <td>78.873460</td>\n",
       "      <td>False</td>\n",
       "      <td>False</td>\n",
       "      <td>False</td>\n",
       "      <td>False</td>\n",
       "      <td>False</td>\n",
       "      <td>False</td>\n",
       "      <td>331652</td>\n",
       "      <td>False</td>\n",
       "      <td>3.786298</td>\n",
       "      <td>False</td>\n",
       "      <td>exams_part13.hdf5</td>\n",
       "    </tr>\n",
       "  </tbody>\n",
       "</table>\n",
       "</div>"
      ],
      "text/plain": [
       "   exam_id  age  is_male  nn_predicted_age  1dAVb   RBBB   LBBB     SB     ST  \\\n",
       "0  1169160   38     True         40.160484  False  False  False  False  False   \n",
       "1  2873686   73     True         67.059440  False  False  False  False  False   \n",
       "2   168405   67     True         79.621740  False  False  False  False  False   \n",
       "3   271011   41     True         69.750260  False  False  False  False  False   \n",
       "4   384368   73     True         78.873460  False  False  False  False  False   \n",
       "\n",
       "      AF  patient_id  death     timey  normal_ecg         trace_file  \n",
       "0  False      523632  False  2.098628        True  exams_part13.hdf5  \n",
       "1  False     1724173  False  6.657529       False  exams_part13.hdf5  \n",
       "2   True       51421  False  4.282188       False  exams_part13.hdf5  \n",
       "3  False     1737282  False  4.038353        True  exams_part13.hdf5  \n",
       "4  False      331652  False  3.786298       False  exams_part13.hdf5  "
      ]
     },
     "execution_count": 17,
     "metadata": {},
     "output_type": "execute_result"
    }
   ],
   "source": [
    "CODE15_df.head(5)"
   ]
  },
  {
   "cell_type": "markdown",
   "metadata": {},
   "source": [
    "## TextEncoder()\n",
    "\n",
    "Create a class, ```TextEncoder()``` that is used to convert the description of the (dx_modality) diagnosis class into embeddings using the ClinicalBERT model.\n",
    "\n",
    "- Input should be a concatenated using comma or blank space string of diagnoses/dx_modality per ECG signal.\n",
    "- Use processed CSV files (dx_modality vs dx_modality, age, etc together)\n",
    "- Frozen weights (since it's already pretrained)"
   ]
  },
  {
   "cell_type": "code",
   "execution_count": 64,
   "metadata": {},
   "outputs": [],
   "source": [
    "class TextEncoder:\n",
    "    def __init__(self):\n",
    "        self.tokenizer = AutoTokenizer.from_pretrained(\"emilyalsentzer/Bio_ClinicalBERT\")\n",
    "        self.model = AutoModel.from_pretrained(\"emilyalsentzer/Bio_ClinicalBERT\")\n",
    "\n",
    "    def encode(self, text_list):\n",
    "        # Check if text_list is a string representation of a list\n",
    "        if isinstance(text_list, str):\n",
    "            text_list = ast.literal_eval(text_list)\n",
    "        # Convert list of strings to a single string\n",
    "        text = ', '.join(text_list)\n",
    "        # Tokenize text\n",
    "        inputs = self.tokenizer(text, return_tensors=\"pt\", truncation=True, padding=True, max_length=512)\n",
    "        # Get embeddings from ClinicalBERT model\n",
    "        with torch.no_grad():\n",
    "            embeddings = self.model(**inputs).last_hidden_state\n",
    "        # Average the embeddings to get single vector per each input\n",
    "        embeddings = torch.mean(embeddings, dim=1)\n",
    "        return embeddings"
   ]
  },
  {
   "cell_type": "code",
   "execution_count": 65,
   "metadata": {},
   "outputs": [],
   "source": [
    "# Example of TextEncoder\n",
    "encoder = TextEncoder()\n",
    "embeddings = encoder.encode(processed_train_df['dx_modality'][0])"
   ]
  },
  {
   "cell_type": "code",
   "execution_count": 62,
   "metadata": {},
   "outputs": [
    {
     "data": {
      "text/plain": [
       "\"['sinus bradycardia']\""
      ]
     },
     "execution_count": 62,
     "metadata": {},
     "output_type": "execute_result"
    }
   ],
   "source": [
    "processed_train_df['dx_modality'][4]"
   ]
  },
  {
   "cell_type": "code",
   "execution_count": 63,
   "metadata": {},
   "outputs": [
    {
     "name": "stdout",
     "output_type": "stream",
     "text": [
      "yes\n"
     ]
    }
   ],
   "source": [
    "if isinstance(processed_train_df['dx_modality'][4], str):\n",
    "    print('yes')\n",
    "else:\n",
    "    print('no')"
   ]
  },
  {
   "cell_type": "markdown",
   "metadata": {},
   "source": [
    "## PhysioNet Data"
   ]
  },
  {
   "cell_type": "markdown",
   "metadata": {},
   "source": [
    "### Case 1: dx_modality only"
   ]
  },
  {
   "cell_type": "code",
   "execution_count": null,
   "metadata": {},
   "outputs": [],
   "source": []
  },
  {
   "cell_type": "markdown",
   "metadata": {},
   "source": [
    "### Case 2: dx_modality plus age, sex, etc"
   ]
  },
  {
   "cell_type": "code",
   "execution_count": null,
   "metadata": {},
   "outputs": [],
   "source": []
  },
  {
   "cell_type": "markdown",
   "metadata": {},
   "source": [
    "## CODE-15 Data"
   ]
  },
  {
   "cell_type": "code",
   "execution_count": null,
   "metadata": {},
   "outputs": [],
   "source": []
  }
 ],
 "metadata": {
  "kernelspec": {
   "display_name": "Python 3",
   "language": "python",
   "name": "python3"
  },
  "language_info": {
   "codemirror_mode": {
    "name": "ipython",
    "version": 3
   },
   "file_extension": ".py",
   "mimetype": "text/x-python",
   "name": "python",
   "nbconvert_exporter": "python",
   "pygments_lexer": "ipython3",
   "version": "3.8.1"
  }
 },
 "nbformat": 4,
 "nbformat_minor": 2
}
