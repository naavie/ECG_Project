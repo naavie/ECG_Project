{
 "cells": [
  {
   "cell_type": "markdown",
   "metadata": {},
   "source": [
    "# 1D CNN for 12-Lead ECG Classification"
   ]
  },
  {
   "cell_type": "markdown",
   "metadata": {},
   "source": [
    "**Main Thesis Topic:** “Zero-shot classification of ECG signals using CLIP-like model”. \n",
    "\n",
    "**For example:** Train on PBT-XL: \n",
    "\n",
    "- **Text Encoder:** ClinicalBERT\n",
    "- **Image Encoder:** 1D CNN\n",
    "\n",
    "**Experiment A):** Baseline: We can take only the name of the class. For example, take “Myocardial Infarction” as a text. We should exclude some classes from training and after training is completed, the CLIP-like model can be tested on these excluded classes. \n",
    "Next, we get embeddings of text from biobert and train ECG encoder with contrastive loss.\n",
    "\n",
    "**Experiment B):** Same as Experiment A but instead of testing on the same dataset/classes, we would test on other datasets containing different classes.\n",
    "\n",
    "**Evaluation metrics:** \n",
    "- Main: AUC-ROC, average_precison_score, \n",
    "- Optional: Specificity, Sensitivity, F1-score \n",
    "\n",
    "Outcome: \n",
    "\n",
    "It’s possible to train CLIP-like models with freezed (or unchanged/not fine tuned for downstream tasks) text encoder\n",
    "Training ECG encoders that are viable for representing different domains (within ECG modality) and previously unseen classes. \n",
    "Training a CLIP-like model on ECGs has little novelty.\n",
    "\n",
    "https://www.baeldung.com/cs/contrastive-learning\n",
    "\n",
    "https://scikit-learn.org/stable/modules/generated/sklearn.metrics.average_precision_score.html\n",
    "\n"
   ]
  },
  {
   "cell_type": "code",
   "execution_count": null,
   "metadata": {},
   "outputs": [],
   "source": [
    "import os\n",
    "import numpy as np\n",
    "import pandas as pd\n",
    "import matplotlib.pyplot as plt\n",
    "import torch\n",
    "import sys"
   ]
  },
  {
   "cell_type": "code",
   "execution_count": null,
   "metadata": {},
   "outputs": [],
   "source": [
    "sys.path.append('C:/Users/navme/Desktop/ECG_Project/PyFiles')"
   ]
  },
  {
   "cell_type": "code",
   "execution_count": null,
   "metadata": {},
   "outputs": [],
   "source": [
    "# Import helper functions\n",
    "import helper_functions as hf\n",
    "import helper_function_tests as hft\n",
    "from dataset import PhysioNetDataset"
   ]
  },
  {
   "cell_type": "code",
   "execution_count": null,
   "metadata": {},
   "outputs": [],
   "source": [
    "PhysioNet_PATH = f'C:/Users/navme/Desktop/ECG_Thesis_Local/PhysioNet-2021-Challenge/physionet.org/files/challenge-2021/1.0.3/training'\n",
    "PhysioNet_PATH"
   ]
  },
  {
   "cell_type": "code",
   "execution_count": null,
   "metadata": {},
   "outputs": [],
   "source": [
    "train_set = PhysioNetDataset(PhysioNet_PATH, train = True)\n",
    "test_set = PhysioNetDataset(PhysioNet_PATH, train = False)\n",
    "\n",
    "print(\"There are {0} datasets in the train_set and {1} datasets in test_set\".format(len(train_set), len(test_set)))"
   ]
  },
  {
   "cell_type": "markdown",
   "metadata": {},
   "source": [
    "## SNOWMED-CT Codes"
   ]
  },
  {
   "cell_type": "code",
   "execution_count": 5,
   "metadata": {},
   "outputs": [
    {
     "name": "stdout",
     "output_type": "stream",
     "text": [
      "HTTP error occurred: 423 Client Error:  for url: https://browser.ihtsdotools.org/snowstorm/snomed-ct/descriptions?term=asthma&activeFilter=true&conceptActive=true&semanticFilter=disorder&termActive=true&lang=english&skipTo=0&returnLimit=50\n"
     ]
    }
   ],
   "source": [
    "import requests\n",
    "\n",
    "# Set the base URL for the SNOMED International's REST API\n",
    "base_url = 'https://browser.ihtsdotools.org/snowstorm/snomed-ct'\n",
    "\n",
    "# Set the search term\n",
    "search_term = 'asthma'\n",
    "\n",
    "# Set the query parameters\n",
    "query_params = {\n",
    "    'term': search_term,\n",
    "    'activeFilter': 'true',\n",
    "    'conceptActive': 'true',\n",
    "    'semanticFilter': 'disorder',\n",
    "    'termActive': 'true',\n",
    "    'lang': 'english',\n",
    "    'skipTo': '0',\n",
    "    'returnLimit': '50'\n",
    "}\n",
    "\n",
    "try:\n",
    "    # Send the GET request to the SNOMED International's REST API\n",
    "    response = requests.get(f'{base_url}/descriptions', params=query_params)\n",
    "\n",
    "    # Raise an exception if the response status code is not 200\n",
    "    response.raise_for_status()\n",
    "\n",
    "    # Parse the response JSON\n",
    "    response_json = response.json()\n",
    "\n",
    "    # Extract the results\n",
    "    results = response_json['items']\n",
    "\n",
    "    # Print the results\n",
    "    for result in results:\n",
    "        print(result['concept']['conceptId'], result['term'])\n",
    "\n",
    "except requests.exceptions.HTTPError as err:\n",
    "    print(f'HTTP error occurred: {err}')\n",
    "except requests.exceptions.RequestException as err:\n",
    "    print(f'An error occurred: {err}')"
   ]
  },
  {
   "cell_type": "code",
   "execution_count": null,
   "metadata": {},
   "outputs": [],
   "source": []
  },
  {
   "cell_type": "markdown",
   "metadata": {},
   "source": [
    "## Model"
   ]
  }
 ],
 "metadata": {
  "kernelspec": {
   "display_name": "Python 3",
   "language": "python",
   "name": "python3"
  },
  "language_info": {
   "codemirror_mode": {
    "name": "ipython",
    "version": 3
   },
   "file_extension": ".py",
   "mimetype": "text/x-python",
   "name": "python",
   "nbconvert_exporter": "python",
   "pygments_lexer": "ipython3",
   "version": "3.8.1"
  }
 },
 "nbformat": 4,
 "nbformat_minor": 2
}
