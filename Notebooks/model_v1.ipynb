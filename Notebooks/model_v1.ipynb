{
 "cells": [
  {
   "cell_type": "markdown",
   "metadata": {},
   "source": [
    "# 1D CNN for 12-Lead ECG Classification"
   ]
  },
  {
   "cell_type": "markdown",
   "metadata": {},
   "source": [
    "**Main Thesis Topic:** “Zero-shot classification of ECG signals using CLIP-like model”. \n",
    "\n",
    "**For example:** Train on PBT-XL: \n",
    "\n",
    "- **Text Encoder:** ClinicalBERT\n",
    "- **Image Encoder:** 1D CNN\n",
    "\n",
    "**Experiment A):** Baseline: We can take only the name of the class. For example, take “Myocardial Infarction” as a text. We should exclude some classes from training and after training is completed, the CLIP-like model can be tested on these excluded classes. \n",
    "Next, we get embeddings of text from biobert and train ECG encoder with contrastive loss.\n",
    "\n",
    "**Experiment B):** Same as Experiment A but instead of testing on the same dataset/classes, we would test on other datasets containing different classes.\n",
    "\n",
    "**Evaluation metrics:** \n",
    "- Main: AUC-ROC, average_precison_score, \n",
    "- Optional: Specificity, Sensitivity, F1-score \n",
    "\n",
    "Outcome: \n",
    "\n",
    "It’s possible to train CLIP-like models with freezed (or unchanged/not fine tuned for downstream tasks) text encoder\n",
    "Training ECG encoders that are viable for representing different domains (within ECG modality) and previously unseen classes. \n",
    "Training a CLIP-like model on ECGs has little novelty.\n",
    "\n",
    "https://www.baeldung.com/cs/contrastive-learning\n",
    "\n",
    "https://scikit-learn.org/stable/modules/generated/sklearn.metrics.average_precision_score.html\n",
    "\n"
   ]
  },
  {
   "cell_type": "code",
   "execution_count": 1,
   "metadata": {},
   "outputs": [
    {
     "name": "stderr",
     "output_type": "stream",
     "text": [
      "c:\\Users\\navme\\AppData\\Local\\Programs\\Python\\Python38\\lib\\site-packages\\numpy\\_distributor_init.py:30: UserWarning: loaded more than 1 DLL from .libs:\n",
      "c:\\Users\\navme\\AppData\\Local\\Programs\\Python\\Python38\\lib\\site-packages\\numpy\\.libs\\libopenblas.FB5AE2TYXYH2IJRDKGDGQ3XBKLKTF43H.gfortran-win_amd64.dll\n",
      "c:\\Users\\navme\\AppData\\Local\\Programs\\Python\\Python38\\lib\\site-packages\\numpy\\.libs\\libopenblas64__v0.3.21-gcc_10_3_0.dll\n",
      "  warnings.warn(\"loaded more than 1 DLL from .libs:\"\n"
     ]
    }
   ],
   "source": [
    "import os\n",
    "import numpy as np\n",
    "import pandas as pd\n",
    "import matplotlib.pyplot as plt\n",
    "import torch\n",
    "import sys\n",
    "\n",
    "# Evaluation Metrics\n",
    "from sklearn.metrics import roc_auc_score, average_precision_score, f1_score\n",
    "from sklearn.metrics import confusion_matrix, classification_report"
   ]
  },
  {
   "cell_type": "code",
   "execution_count": 2,
   "metadata": {},
   "outputs": [],
   "source": [
    "sys.path.append('C:/Users/navme/Desktop/ECG_Project/PyFiles')"
   ]
  },
  {
   "cell_type": "code",
   "execution_count": 3,
   "metadata": {},
   "outputs": [],
   "source": [
    "# Import helper functions\n",
    "import helper_functions as hf\n",
    "import helper_function_tests as hft\n",
    "from dataset import PhysioNetDataset"
   ]
  },
  {
   "cell_type": "code",
   "execution_count": 4,
   "metadata": {},
   "outputs": [
    {
     "data": {
      "text/plain": [
       "'C:/Users/navme/Desktop/ECG_Thesis_Local/PhysioNet-2021-Challenge/physionet.org/files/challenge-2021/1.0.3/training'"
      ]
     },
     "execution_count": 4,
     "metadata": {},
     "output_type": "execute_result"
    }
   ],
   "source": [
    "PhysioNet_PATH = f'C:/Users/navme/Desktop/ECG_Thesis_Local/PhysioNet-2021-Challenge/physionet.org/files/challenge-2021/1.0.3/training'\n",
    "PhysioNet_PATH"
   ]
  },
  {
   "cell_type": "code",
   "execution_count": 6,
   "metadata": {},
   "outputs": [
    {
     "name": "stdout",
     "output_type": "stream",
     "text": [
      "There are 7 datasets in the train_set and 2 datasets in the test_set\n"
     ]
    }
   ],
   "source": [
    "train_set = PhysioNetDataset(PhysioNet_PATH, train = True)\n",
    "test_set = PhysioNetDataset(PhysioNet_PATH, train = False)\n",
    "\n",
    "print(\"There are {0} datasets in the train_set and {1} datasets in the test_set\".format(len(train_set), len(test_set)))"
   ]
  },
  {
   "cell_type": "markdown",
   "metadata": {},
   "source": [
    "## SNOWMED-CT Codes"
   ]
  },
  {
   "cell_type": "code",
   "execution_count": null,
   "metadata": {},
   "outputs": [],
   "source": []
  },
  {
   "cell_type": "markdown",
   "metadata": {},
   "source": [
    "## Contrastive Loss"
   ]
  },
  {
   "cell_type": "code",
   "execution_count": 63,
   "metadata": {},
   "outputs": [],
   "source": [
    "class TripletLoss(torch.nn.Module):\n",
    "    \"\"\"\n",
    "    Triplet loss function.\n",
    "    Based on: \n",
    "        - L = max(0, ||x - x+||^2 - ||x - x-||^2 + m) (text)\n",
    "        - L = max(0, \\left \\| x - x^+ \\right \\|^2 - \\left \\| x - x^- \\right \\|^2 + m) (LaTex)\n",
    "\n",
    "        Args:\n",
    "            - ||.|| denotes the Euclidean distance between two vectors\n",
    "            - x is the anchor point input\n",
    "            - x+ is the positive point input\n",
    "            - x- is the negative point input\n",
    "            - m is the margin (hyperparameter)\n",
    "\n",
    "    - The goal of the loss function is to encourage the distance between the anchor point and the positive point to be smaller \n",
    "      than the distance between the anchor point and the negative point by a margin m.\n",
    "\n",
    "    - When the distance between the anchor and positive points is not smaller than the distance between the anchor and negative points by \n",
    "      at least the margin m, the loss function is positive and encourages the model to adjust its parameters to decrease \n",
    "      the distance between the anchor and positive points and/or increase the distance between the anchor and negative points.\n",
    "    \"\"\"\n",
    "    def __init__(self, margin=1.0):\n",
    "        super(TripletLoss, self).__init__()\n",
    "        self.margin = margin\n",
    "\n",
    "    def forward(self, anchor, positive, negative):\n",
    "        positive_distance = F.pairwise_distance(anchor, positive, keepdim=True)\n",
    "        negative_distance = F.pairwise_distance(anchor, negative, keepdim=True)\n",
    "\n",
    "        triplet_loss = torch.mean(torch.clamp(positive_distance - negative_distance + self.margin, min=0.0))\n",
    "\n",
    "        return triplet_loss"
   ]
  },
  {
   "cell_type": "code",
   "execution_count": 78,
   "metadata": {},
   "outputs": [],
   "source": [
    "def test_triplet_loss():\n",
    "\n",
    "    # Create some random input tensors\n",
    "    anchor = torch.randn(4, 20)\n",
    "    positive = torch.randn(4, 20)\n",
    "    negative = torch.randn(4, 20)\n",
    "\n",
    "    # Create an instance of the TripletLoss class\n",
    "    triplet_loss = TripletLoss(margin=1.0)\n",
    "\n",
    "    # Compute the loss using the forward method of the TripletLoss class\n",
    "    loss = triplet_loss(anchor, positive, negative)\n",
    "    print(loss)\n",
    "\n",
    "    # Compute the expected loss using the formula for the Triplet Loss\n",
    "    expected_loss = torch.mean(torch.clamp(F.pairwise_distance(anchor, positive, keepdim=True) - F.pairwise_distance(anchor, negative, keepdim=True) + 1.0, min=0.0))\n",
    "    print(expected_loss)\n",
    "\n",
    "    # Check that the computed loss is equal to the expected loss\n",
    "    assert torch.allclose(loss, expected_loss)\n",
    "    print(torch.allclose(loss, expected_loss))"
   ]
  },
  {
   "cell_type": "code",
   "execution_count": 97,
   "metadata": {},
   "outputs": [
    {
     "name": "stdout",
     "output_type": "stream",
     "text": [
      "tensor(1.2849)\n",
      "tensor(1.2849)\n",
      "True\n"
     ]
    }
   ],
   "source": [
    "test_triplet_loss()"
   ]
  },
  {
   "cell_type": "markdown",
   "metadata": {},
   "source": [
    "## Model"
   ]
  },
  {
   "cell_type": "code",
   "execution_count": 7,
   "metadata": {},
   "outputs": [],
   "source": [
    "from tqdm import tqdm\n",
    "import torch\n",
    "import torch.nn as nn\n",
    "import torch.optim as optim\n",
    "import torch.nn.functional as F\n",
    "from torch.utils.data import Dataset, DataLoader"
   ]
  },
  {
   "cell_type": "code",
   "execution_count": 108,
   "metadata": {},
   "outputs": [],
   "source": [
    "class OneDimCNN(nn.Module):\n",
    "    def __init__(self, num_classes):\n",
    "        super(OneDimCNN, self).__init__()\n",
    "        \n",
    "        # Layer 1\n",
    "        self.conv1 = nn.Conv1d(in_channels=12, out_channels=32, kernel_size=3, stride=1, padding=1)\n",
    "        self.bn1 = nn.BatchNorm1d(64)\n",
    "        self.relu1 = nn.ReLU()\n",
    "        self.pool1 = nn.MaxPool1d(kernel_size=2, stride=2)\n",
    "\n",
    "        # Layer 2\n",
    "        self.conv2 = nn.Conv1d(in_channels=32, out_channels=64, kernel_size=3, stride=1, padding=1)\n",
    "        self.bn2 = nn.BatchNorm1d(64)\n",
    "        self.relu2 = nn.ReLU()\n",
    "        self.pool2 = nn.MaxPool1d(kernel_size=2, stride=2)\n",
    "\n",
    "        # Layer 3\n",
    "        self.conv3 = nn.Conv1d(in_channels=64, out_channels=128, kernel_size=3, stride=1, padding=1)\n",
    "        self.bn3 = nn.BatchNorm1d(64)\n",
    "        self.relu3 = nn.ReLU()\n",
    "        self.pool3 = nn.MaxPool1d(kernel_size=2, stride=2)\n",
    "\n",
    "        # Layer 4\n",
    "        self.conv4 = nn.Conv1d(in_channels=128, out_channels=256, kernel_size=3, stride=1, padding=1)\n",
    "        self.bn4 = nn.BatchNorm1d(64)\n",
    "        self.relu4 = nn.ReLU()\n",
    "        self.pool4 = nn.MaxPool1d(kernel_size=2, stride=2)\n",
    "\n",
    "        # Fully Connected Layer 1\n",
    "        self.fc1 = nn.Linear(64*3, num_classes)\n",
    "        self.relu5 = nn.ReLU()\n",
    "        self.dropout1 = nn.Dropout(0.5)\n",
    "\n",
    "        # Fully Connected Layer 2\n",
    "        self.fc2 = nn.Linear(num_classes, num_classes)\n",
    "        self.triplet_loss = TripletLoss(margin=1.0)\n",
    "        self.optimizer = torch.optim.Adam(self.parameters(), lr=0.001)\n",
    "\n",
    "    def forward(self, x1, x2=None, x3=None):\n",
    "        if x2 is None and x3 is None:\n",
    "            # Layer 1\n",
    "            x = self.conv1(x)\n",
    "            x = self.bn1(x)\n",
    "            x = self.relu1(x)\n",
    "            x = self.pool1(x)\n",
    "\n",
    "            # Layer 2\n",
    "            x = self.conv2(x)\n",
    "            x = self.bn2(x)\n",
    "            x = self.relu2(x)\n",
    "            x = self.pool2(x)\n",
    "\n",
    "            # Layer 3\n",
    "            x = self.conv3(x)\n",
    "            x = self.bn3(x)\n",
    "            x = self.relu3(x)\n",
    "            x = self.pool3(x)\n",
    "\n",
    "            # Layer 4\n",
    "            x = self.conv4(x)\n",
    "            x = self.bn4(x)\n",
    "            x = self.relu4(x)\n",
    "            x = self.pool4(x)\n",
    "\n",
    "            # Flatten\n",
    "            x = x.reshape(x.size(0), -1)\n",
    "\n",
    "            # Fully Connected Layer 1\n",
    "            x = self.fc1(x)\n",
    "            x = self.relu5(x)\n",
    "            x = self.dropout1(x)\n",
    "\n",
    "            # Fully Connected Layer 2\n",
    "            x = self.fc2(x)\n",
    "\n",
    "            return x\n",
    "\n",
    "        else:\n",
    "            output1 = self.forward(x1)\n",
    "            output2 = self.forward(x2)\n",
    "            output3 = self.forward(x3)\n",
    "            \n",
    "            loss = self.triplet_loss(output1, output2, output3)\n",
    "\n",
    "            return loss\n",
    "            "
   ]
  },
  {
   "cell_type": "code",
   "execution_count": 109,
   "metadata": {},
   "outputs": [
    {
     "name": "stdout",
     "output_type": "stream",
     "text": [
      "Number of parameters:  151343\n"
     ]
    }
   ],
   "source": [
    "model = OneDimCNN(num_classes=75)\n",
    "num_params = sum(p.numel() for p in model.parameters())\n",
    "print(\"Number of parameters: \", num_params)"
   ]
  },
  {
   "cell_type": "code",
   "execution_count": null,
   "metadata": {},
   "outputs": [],
   "source": []
  }
 ],
 "metadata": {
  "kernelspec": {
   "display_name": "Python 3",
   "language": "python",
   "name": "python3"
  },
  "language_info": {
   "codemirror_mode": {
    "name": "ipython",
    "version": 3
   },
   "file_extension": ".py",
   "mimetype": "text/x-python",
   "name": "python",
   "nbconvert_exporter": "python",
   "pygments_lexer": "ipython3",
   "version": "3.8.1"
  }
 },
 "nbformat": 4,
 "nbformat_minor": 2
}
