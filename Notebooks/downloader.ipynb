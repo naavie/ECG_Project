{
 "cells": [
  {
   "cell_type": "markdown",
   "metadata": {},
   "source": []
  },
  {
   "cell_type": "code",
   "execution_count": 1,
   "metadata": {},
   "outputs": [
    {
     "name": "stdout",
     "output_type": "stream",
     "text": [
      "^C\n"
     ]
    }
   ],
   "source": [
    "!wget -r -N -c -np --progress=bar:force https://physionet.org/files/challenge-2021/1.0.3/ -P \"C:\\\\Users\\\\navme\\\\Desktop\""
   ]
  },
  {
   "cell_type": "code",
   "execution_count": null,
   "metadata": {},
   "outputs": [],
   "source": [
    "wget -r -N -c -np --progress=bar:force https://physionet.org/files/challenge-2021/1.0.3/training -P \"C:\\Users\\navme\\Desktop\""
   ]
  },
  {
   "cell_type": "code",
   "execution_count": null,
   "metadata": {},
   "outputs": [],
   "source": [
    "wget -N -c https://physionet.org/files/challenge-2021/1.0.3/SHA256SUMS.txt -P \"C:\\Users\\navme\\Desktop\\Physionet\""
   ]
  },
  {
   "cell_type": "code",
   "execution_count": null,
   "metadata": {},
   "outputs": [],
   "source": [
    "wget -N -c https://physionet.org/files/challenge-2021/1.0.3/RECORDS -P \"C:\\Users\\navme\\Desktop\\Physionet\"\n"
   ]
  },
  {
   "cell_type": "code",
   "execution_count": null,
   "metadata": {},
   "outputs": [],
   "source": [
    "wget -N -c https://physionet.org/files/challenge-2021/1.0.3/LICENSE.txt  -P \"C:\\Users\\navme\\Desktop\\Physionet\"\n"
   ]
  },
  {
   "cell_type": "code",
   "execution_count": null,
   "metadata": {},
   "outputs": [],
   "source": [
    "wget -r -N -c -np https://physionet.org/files/challenge-2021/1.0.3/training/ -P \"C:\\Users\\navme\\Desktop\\Physionet\"\n"
   ]
  }
 ],
 "metadata": {
  "kernelspec": {
   "display_name": "Python 3",
   "language": "python",
   "name": "python3"
  },
  "language_info": {
   "codemirror_mode": {
    "name": "ipython",
    "version": 3
   },
   "file_extension": ".py",
   "mimetype": "text/x-python",
   "name": "python",
   "nbconvert_exporter": "python",
   "pygments_lexer": "ipython3",
   "version": "3.8.1"
  }
 },
 "nbformat": 4,
 "nbformat_minor": 2
}
