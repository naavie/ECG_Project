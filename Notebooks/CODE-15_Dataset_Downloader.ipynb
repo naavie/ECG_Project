{
 "cells": [
  {
   "cell_type": "markdown",
   "metadata": {},
   "source": [
    "# CODE-15 Dataset Download"
   ]
  },
  {
   "cell_type": "code",
   "execution_count": null,
   "metadata": {},
   "outputs": [],
   "source": [
    "url_list = ['https://zenodo.org/record/4916206/files/exams.csv?download=1',\n",
    "            'https://zenodo.org/record/4916206/files/exams_part0.zip?download=1',\n",
    "            'https://zenodo.org/record/4916206/files/exams_part10.zip?download=1',\n",
    "            'https://zenodo.org/record/4916206/files/exams_part11.zip?download=1',\n",
    "            'https://zenodo.org/record/4916206/files/exams_part12.zip?download=1',\n",
    "            'https://zenodo.org/record/4916206/files/exams_part13.zip?download=1',\n",
    "            'https://zenodo.org/record/4916206/files/exams_part14.zip?download=1',\n",
    "            'https://zenodo.org/record/4916206/files/exams_part15.zip?download=1',\n",
    "            'https://zenodo.org/record/4916206/files/exams_part16.zip?download=1',\n",
    "            'https://zenodo.org/record/4916206/files/exams_part17.zip?download=1',\n",
    "            'https://zenodo.org/record/4916206/files/exams_part1.zip?download=1',\n",
    "            'https://zenodo.org/record/4916206/files/exams_part2.zip?download=1',\n",
    "            'https://zenodo.org/record/4916206/files/exams_part3.zip?download=1',\n",
    "            'https://zenodo.org/record/4916206/files/exams_part4.zip?download=1',\n",
    "            'https://zenodo.org/record/4916206/files/exams_part5.zip?download=1',\n",
    "            'https://zenodo.org/record/4916206/files/exams_part6.zip?download=1',\n",
    "            'https://zenodo.org/record/4916206/files/exams_part7.zip?download=1',\n",
    "            'https://zenodo.org/record/4916206/files/exams_part8.zip?download=1',\n",
    "            'https://zenodo.org/record/4916206/files/exams_part9.zip?download=1']"
   ]
  },
  {
   "cell_type": "code",
   "execution_count": null,
   "metadata": {},
   "outputs": [],
   "source": [
    "# File integreity checksum: \n",
    "\n",
    "\"\"\"\n",
    "CertUtil -hashfile C:\\Users\\navme\\Desktop\\CODE-15\\Dataset\\exams.csv MD5\n",
    "CertUtil -hashfile C:\\Users\\navme\\Desktop\\CODE-15\\Dataset\\exams_part0.zip MD5\n",
    "CertUtil -hashfile C:\\Users\\navme\\Desktop\\CODE-15\\Dataset\\exams_part1.zip MD5\n",
    "CertUtil -hashfile C:\\Users\\navme\\Desktop\\CODE-15\\Dataset\\exams_part2.zip MD5\n",
    "CertUtil -hashfile C:\\Users\\navme\\Desktop\\CODE-15\\Dataset\\exams_part3.zip MD5\n",
    "CertUtil -hashfile C:\\Users\\navme\\Desktop\\CODE-15\\Dataset\\exams_part4.zip MD5\n",
    "CertUtil -hashfile C:\\Users\\navme\\Desktop\\CODE-15\\Dataset\\exams_part5.zip MD5\n",
    "CertUtil -hashfile C:\\Users\\navme\\Desktop\\CODE-15\\Dataset\\exams_part6.zip MD5\n",
    "CertUtil -hashfile C:\\Users\\navme\\Desktop\\CODE-15\\Dataset\\exams_part7.zip MD5\n",
    "CertUtil -hashfile C:\\Users\\navme\\Desktop\\CODE-15\\Dataset\\exams_part8.zip MD5\n",
    "CertUtil -hashfile C:\\Users\\navme\\Desktop\\CODE-15\\Dataset\\exams_part9.zip MD5\n",
    "CertUtil -hashfile C:\\Users\\navme\\Desktop\\CODE-15\\Dataset\\exams_part10.zip MD5\n",
    "CertUtil -hashfile C:\\Users\\navme\\Desktop\\CODE-15\\Dataset\\exams_part11.zip MD5\n",
    "CertUtil -hashfile C:\\Users\\navme\\Desktop\\CODE-15\\Dataset\\exams_part12.zip MD5\n",
    "CertUtil -hashfile C:\\Users\\navme\\Desktop\\CODE-15\\Dataset\\exams_part13.zip MD5\n",
    "CertUtil -hashfile C:\\Users\\navme\\Desktop\\CODE-15\\Dataset\\exams_part14.zip MD5\n",
    "CertUtil -hashfile C:\\Users\\navme\\Desktop\\CODE-15\\Dataset\\exams_part15.zip MD5\n",
    "CertUtil -hashfile C:\\Users\\navme\\Desktop\\CODE-15\\Dataset\\exams_part16.zip MD5\n",
    "CertUtil -hashfile C:\\Users\\navme\\Desktop\\CODE-15\\Dataset\\exams_part17.zip MD5\n",
    "\"\"\""
   ]
  },
  {
   "cell_type": "code",
   "execution_count": 22,
   "metadata": {},
   "outputs": [
    {
     "name": "stdout",
     "output_type": "stream",
     "text": [
      "           file_name                      md5_checksum\n",
      "0          exams.csv  0107516d3f63864498fb77d15799cc95\n",
      "1    exams_part0.zip  2bed0dc753d16beef8c2f7627e2b6ea4\n",
      "2    exams_part1.zip  b32446cdb93247d07550509a204a061d\n",
      "3    exams_part2.zip  6e9ac2e36197c4d301df91d7dc6877c0\n",
      "4    exams_part3.zip  e2862a75eeb6245b148c6c520245c0e0\n",
      "5    exams_part4.zip  623e073c1e1323cb69a219e5f9bedaf3\n",
      "6    exams_part5.zip  e5f958b7c31bd82a6bc76fcf6aed5713\n",
      "7    exams_part6.zip  2730cb080d03d61681ded6609c18c9d8\n",
      "8    exams_part7.zip  4cd7537330f0a62ffcc6cc40c63774eb\n",
      "9    exams_part8.zip  aec8d97e8dde9ac15f5c671c168fdfbe\n",
      "10   exams_part9.zip  96adb16ee032e4e41528c04fd7b582ee\n",
      "11  exams_part10.zip  26bf9e387289dabbb140c0453853872b\n",
      "12  exams_part11.zip  dd99137b6c199c9558bc2c2b6ae0e4dc\n",
      "13  exams_part12.zip  c25b38260fb46edff089fa56eb442ddb\n",
      "14  exams_part13.zip  5472ba3186e39bd03e888e486143bf7a\n",
      "15  exams_part14.zip  0a0458779f5e795df20cb07db6e50682\n",
      "16  exams_part15.zip  cf99b9c54cf7c15b9b683511cd5e6d5a\n",
      "17  exams_part16.zip  64c210e19cf1c0abac3e643f88708ebd\n",
      "18  exams_part17.zip  8d74d7032396298304b51e447b73d40f\n"
     ]
    }
   ],
   "source": [
    "import pandas as pd\n",
    "\n",
    "md5_checksum_data = {'file_name': ['exams.csv', 'exams_part0.zip', 'exams_part1.zip', 'exams_part2.zip', 'exams_part3.zip', 'exams_part4.zip', 'exams_part5.zip', 'exams_part6.zip', 'exams_part7.zip', 'exams_part8.zip', 'exams_part9.zip', 'exams_part10.zip', 'exams_part11.zip', 'exams_part12.zip', 'exams_part13.zip', 'exams_part14.zip', 'exams_part15.zip', 'exams_part16.zip', 'exams_part17.zip'],\n",
    "        'md5_checksum': ['0107516d3f63864498fb77d15799cc95', '2bed0dc753d16beef8c2f7627e2b6ea4', 'b32446cdb93247d07550509a204a061d', '6e9ac2e36197c4d301df91d7dc6877c0', 'e2862a75eeb6245b148c6c520245c0e0', '623e073c1e1323cb69a219e5f9bedaf3', 'e5f958b7c31bd82a6bc76fcf6aed5713', '2730cb080d03d61681ded6609c18c9d8', '4cd7537330f0a62ffcc6cc40c63774eb', 'aec8d97e8dde9ac15f5c671c168fdfbe', '96adb16ee032e4e41528c04fd7b582ee', '26bf9e387289dabbb140c0453853872b', 'dd99137b6c199c9558bc2c2b6ae0e4dc', 'c25b38260fb46edff089fa56eb442ddb', '5472ba3186e39bd03e888e486143bf7a', '0a0458779f5e795df20cb07db6e50682', 'cf99b9c54cf7c15b9b683511cd5e6d5a', '64c210e19cf1c0abac3e643f88708ebd', '8d74d7032396298304b51e447b73d40f']}\n",
    "\n",
    "md5_checksum_df = pd.DataFrame(md5_checksum_data)\n",
    "print(md5_checksum_df)"
   ]
  },
  {
   "cell_type": "code",
   "execution_count": 11,
   "metadata": {},
   "outputs": [
    {
     "name": "stdout",
     "output_type": "stream",
     "text": [
      "200\n",
      "['https://zenodo.org/api/files/bb28b955-e586-4ca5-8298-1e5e31d2922a/exams.csv', 'https://zenodo.org/api/files/bb28b955-e586-4ca5-8298-1e5e31d2922a/exams_part0.zip', 'https://zenodo.org/api/files/bb28b955-e586-4ca5-8298-1e5e31d2922a/exams_part10.zip', 'https://zenodo.org/api/files/bb28b955-e586-4ca5-8298-1e5e31d2922a/exams_part11.zip', 'https://zenodo.org/api/files/bb28b955-e586-4ca5-8298-1e5e31d2922a/exams_part12.zip', 'https://zenodo.org/api/files/bb28b955-e586-4ca5-8298-1e5e31d2922a/exams_part13.zip', 'https://zenodo.org/api/files/bb28b955-e586-4ca5-8298-1e5e31d2922a/exams_part14.zip', 'https://zenodo.org/api/files/bb28b955-e586-4ca5-8298-1e5e31d2922a/exams_part15.zip', 'https://zenodo.org/api/files/bb28b955-e586-4ca5-8298-1e5e31d2922a/exams_part16.zip', 'https://zenodo.org/api/files/bb28b955-e586-4ca5-8298-1e5e31d2922a/exams_part17.zip', 'https://zenodo.org/api/files/bb28b955-e586-4ca5-8298-1e5e31d2922a/exams_part1.zip', 'https://zenodo.org/api/files/bb28b955-e586-4ca5-8298-1e5e31d2922a/exams_part2.zip', 'https://zenodo.org/api/files/bb28b955-e586-4ca5-8298-1e5e31d2922a/exams_part3.zip', 'https://zenodo.org/api/files/bb28b955-e586-4ca5-8298-1e5e31d2922a/exams_part4.zip', 'https://zenodo.org/api/files/bb28b955-e586-4ca5-8298-1e5e31d2922a/exams_part5.zip', 'https://zenodo.org/api/files/bb28b955-e586-4ca5-8298-1e5e31d2922a/exams_part6.zip', 'https://zenodo.org/api/files/bb28b955-e586-4ca5-8298-1e5e31d2922a/exams_part7.zip', 'https://zenodo.org/api/files/bb28b955-e586-4ca5-8298-1e5e31d2922a/exams_part8.zip', 'https://zenodo.org/api/files/bb28b955-e586-4ca5-8298-1e5e31d2922a/exams_part9.zip']\n"
     ]
    }
   ],
   "source": [
    "import requests\n",
    "from tqdm import tqdm\n",
    "import time\n",
    "\n",
    "ACCESS_TOKEN = \"hdaTUBE4GqVlHPYMlOTZZauDBWTENtjm6lwIE9dLGl8kiqxfJ8VfEzxdgfdv\"\n",
    "record_id = \"4916206\"\n",
    "save_path = \"C:/Users/navme/Desktop/CODE-15/Dataset/\"\n",
    "\n",
    "r = requests.get(f\"https://zenodo.org/api/records/{record_id}\", params={'access_token': ACCESS_TOKEN})\n",
    "download_urls = [f['links']['self'] for f in r.json()['files']]\n",
    "filenames = [f['key'] for f in r.json()['files']]\n",
    "\n",
    "print(r.status_code)\n",
    "print(download_urls, end='\\n')"
   ]
  },
  {
   "cell_type": "code",
   "execution_count": 26,
   "metadata": {},
   "outputs": [
    {
     "name": "stdout",
     "output_type": "stream",
     "text": [
      "https://zenodo.org/api/files/bb28b955-e586-4ca5-8298-1e5e31d2922a/exams.csv\n",
      "https://zenodo.org/api/files/bb28b955-e586-4ca5-8298-1e5e31d2922a/exams_part0.zip\n",
      "https://zenodo.org/api/files/bb28b955-e586-4ca5-8298-1e5e31d2922a/exams_part10.zip\n",
      "https://zenodo.org/api/files/bb28b955-e586-4ca5-8298-1e5e31d2922a/exams_part11.zip\n",
      "https://zenodo.org/api/files/bb28b955-e586-4ca5-8298-1e5e31d2922a/exams_part12.zip\n",
      "https://zenodo.org/api/files/bb28b955-e586-4ca5-8298-1e5e31d2922a/exams_part13.zip\n",
      "https://zenodo.org/api/files/bb28b955-e586-4ca5-8298-1e5e31d2922a/exams_part14.zip\n",
      "https://zenodo.org/api/files/bb28b955-e586-4ca5-8298-1e5e31d2922a/exams_part15.zip\n",
      "https://zenodo.org/api/files/bb28b955-e586-4ca5-8298-1e5e31d2922a/exams_part16.zip\n",
      "https://zenodo.org/api/files/bb28b955-e586-4ca5-8298-1e5e31d2922a/exams_part17.zip\n",
      "https://zenodo.org/api/files/bb28b955-e586-4ca5-8298-1e5e31d2922a/exams_part1.zip\n",
      "https://zenodo.org/api/files/bb28b955-e586-4ca5-8298-1e5e31d2922a/exams_part2.zip\n",
      "https://zenodo.org/api/files/bb28b955-e586-4ca5-8298-1e5e31d2922a/exams_part3.zip\n",
      "https://zenodo.org/api/files/bb28b955-e586-4ca5-8298-1e5e31d2922a/exams_part4.zip\n",
      "https://zenodo.org/api/files/bb28b955-e586-4ca5-8298-1e5e31d2922a/exams_part5.zip\n",
      "https://zenodo.org/api/files/bb28b955-e586-4ca5-8298-1e5e31d2922a/exams_part6.zip\n",
      "https://zenodo.org/api/files/bb28b955-e586-4ca5-8298-1e5e31d2922a/exams_part7.zip\n",
      "https://zenodo.org/api/files/bb28b955-e586-4ca5-8298-1e5e31d2922a/exams_part8.zip\n",
      "https://zenodo.org/api/files/bb28b955-e586-4ca5-8298-1e5e31d2922a/exams_part9.zip\n"
     ]
    }
   ],
   "source": [
    "for url in download_urls:\n",
    "    print(url)"
   ]
  },
  {
   "cell_type": "code",
   "execution_count": 64,
   "metadata": {},
   "outputs": [
    {
     "name": "stdout",
     "output_type": "stream",
     "text": [
      "Downloading: exams_part9.zip\n"
     ]
    },
    {
     "name": "stderr",
     "output_type": "stream",
     "text": [
      "100%|██████████| 2.67G/2.67G [07:31<00:00, 5.91MiB/s] \n"
     ]
    },
    {
     "name": "stdout",
     "output_type": "stream",
     "text": [
      "Downloaded exams_part9.zip in 453.83 seconds at 5.61 MB/s\n",
      "Extracting: exams_part9.zip\n",
      "Extracted exams_part9.zip in 23.03 seconds\n"
     ]
    }
   ],
   "source": [
    "import zipfile\n",
    "\n",
    "index = 18  # Replace with the index of the file you want to download\n",
    "filename = filenames[index]\n",
    "url = download_urls[index]\n",
    "\n",
    "print(\"Downloading:\", filename)\n",
    "start_time = time.time()\n",
    "response = requests.get(url, stream=True, params={'access_token': ACCESS_TOKEN})\n",
    "total_size = int(response.headers.get('content-length', 0))\n",
    "block_size = 1024\n",
    "progress_bar = tqdm(total=total_size, unit='iB', unit_scale=True)\n",
    "with open(save_path + filename, 'wb') as f:\n",
    "    for data in response.iter_content(block_size):\n",
    "        progress_bar.update(len(data))\n",
    "        f.write(data)\n",
    "progress_bar.close()\n",
    "end_time = time.time()\n",
    "download_time = end_time - start_time\n",
    "download_speed = total_size / download_time / 1024 / 1024\n",
    "print(f\"Downloaded {filename} in {download_time:.2f} seconds at {download_speed:.2f} MB/s\")\n",
    "\n",
    "\n",
    "# Extract the contents of the ZIP file\n",
    "print(\"Extracting:\", filename)\n",
    "start_time = time.time()\n",
    "with zipfile.ZipFile(save_path + filename, 'r') as zip_ref:\n",
    "    zip_ref.extractall(save_path)\n",
    "end_time = time.time()\n",
    "extract_time = end_time - start_time\n",
    "print(f\"Extracted {filename} in {extract_time:.2f} seconds\")"
   ]
  },
  {
   "cell_type": "code",
   "execution_count": 63,
   "metadata": {},
   "outputs": [
    {
     "data": {
      "text/plain": [
       "['https://zenodo.org/api/files/bb28b955-e586-4ca5-8298-1e5e31d2922a/exams_part9.zip']"
      ]
     },
     "execution_count": 63,
     "metadata": {},
     "output_type": "execute_result"
    }
   ],
   "source": [
    "download_urls[18:]"
   ]
  },
  {
   "cell_type": "markdown",
   "metadata": {},
   "source": [
    "## Files downloaded: \n",
    "\n",
    "0. exams.csv\n",
    "1. exams_part0.zip\n",
    "2. exams_part10.zip\n",
    "3. exams_part11.zip\n",
    "4. exams_part12.zip\n",
    "5. exams_part13.zip\n",
    "6. exams_part14.zip\n",
    "7. exams_part15.zip\n",
    "8. exams_part16.zip\n",
    "9. exams_part17.zip\n",
    "10. exams_part1.zip\n",
    "11. exams_part2.zip\n",
    "12. exams_part3.zip\n",
    "13. exams_part4.zip\n",
    "14. exams_part5.zip\n",
    "15. exams_part6.zip\n",
    "16. exams_part7.zip\n",
    "17. exams_part8.zip\n",
    "18. exams_part9.zip"
   ]
  }
 ],
 "metadata": {
  "kernelspec": {
   "display_name": "Python 3",
   "language": "python",
   "name": "python3"
  },
  "language_info": {
   "codemirror_mode": {
    "name": "ipython",
    "version": 3
   },
   "file_extension": ".py",
   "mimetype": "text/x-python",
   "name": "python",
   "nbconvert_exporter": "python",
   "pygments_lexer": "ipython3",
   "version": "3.8.1"
  },
  "orig_nbformat": 4
 },
 "nbformat": 4,
 "nbformat_minor": 2
}
