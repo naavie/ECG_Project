{
 "cells": [
  {
   "cell_type": "code",
   "execution_count": 1,
   "id": "cf4a7031-37ff-4242-b792-fbfd7a0de2b0",
   "metadata": {},
   "outputs": [],
   "source": [
    "import pandas as pd\n",
    "\n",
    "import lib.utils\n",
    "import lib.experiments_v2"
   ]
  },
  {
   "cell_type": "code",
   "execution_count": 2,
   "id": "6e091cf2-0c84-47f2-b88b-17e2dad46e87",
   "metadata": {},
   "outputs": [],
   "source": [
    "config = lib.utils.CFG({})\n",
    "config.seed = 42\n",
    "config.cache_path = 'cache'\n",
    "config.logs_path = 'results'\n",
    "config.models_path = 'results'\n",
    "config.batch_size = 256\n",
    "config.num_workers = 0\n",
    "config.ecg_sr = 128\n",
    "config.window = 1280\n",
    "config.text_embedding_size = 768\n",
    "config.projection_dim = 256\n",
    "config.dropout = 0.15\n",
    "config.text_encoder_model = 'emilyalsentzer/Bio_ClinicalBERT'\n",
    "config.text_tokenizer = 'emilyalsentzer/Bio_ClinicalBERT'\n",
    "config.temperature = 10.0\n",
    "config.head_lr = 0.0001\n",
    "config.image_encoder_lr = 0.001\n",
    "config.device = 'cuda:0'\n",
    "config.epochs = 50\n",
    "config.max_length = 200\n",
    "config.ecg_encoder_model = 'CNN_model'\n",
    "config.ecg_embedding_size = 512\n",
    "config.ecg_channels = 12\n",
    "config.normal_class = 'normal ecg'\n",
    "config.test_datasets = ('sph', 'code15')\n",
    "config.train_classes = tuple(pd.read_csv('docs/TRAIN_CLASSES.txt', header=None)[0].to_list())\n",
    "config.noteval_classes = tuple(pd.read_csv('docs/NOTEVAL_CLASSES.txt', header=None)[0].to_list())\n",
    "config.zeroshot_classes = tuple(pd.read_csv('docs/ZEROSHOT_CLASSES.txt', header=None)[0].to_list())\n",
    "config.pretrained = False\n",
    "config.limit = 100000000"
   ]
  },
  {
   "cell_type": "code",
   "execution_count": 3,
   "id": "35b775fd-43c7-4a80-820d-9721d12ae96e",
   "metadata": {},
   "outputs": [],
   "source": [
    "datasets = [['ptb_xl'], ['ptb_xl', 'ningbo']]#, ['ptb_xl', 'ningbo', 'georgia']]\n",
    "num_folds = 5"
   ]
  },
  {
   "cell_type": "code",
   "execution_count": null,
   "id": "facc8e68-1839-4c82-9e71-bc982dc74364",
   "metadata": {
    "scrolled": true
   },
   "outputs": [
    {
     "name": "stdout",
     "output_type": "stream",
     "text": [
      "Train size: 13129. Number of patients: 13129\n",
      "Valid size: 4350. Number of patients: 4350\n",
      "Test size: 4358. Number of patients: 4358\n",
      "Preparing data:\n",
      "Loading ecg files: 100%|████████████████| 13129/13129 [00:01<00:00, 6739.42it/s]\n",
      "Loading ecg files: 100%|██████████████████| 4350/4350 [00:00<00:00, 8001.56it/s]\n"
     ]
    },
    {
     "name": "stderr",
     "output_type": "stream",
     "text": [
      "2024-11-25 06:43:12.559575: I tensorflow/core/platform/cpu_feature_guard.cc:210] This TensorFlow binary is optimized to use available CPU instructions in performance-critical operations.\n",
      "To enable the following instructions: AVX2 AVX512F FMA, in other operations, rebuild TensorFlow with the appropriate compiler flags.\n",
      "2024-11-25 06:43:13.973912: W tensorflow/compiler/tf2tensorrt/utils/py_utils.cc:38] TF-TRT Warning: Could not find TensorRT\n"
     ]
    },
    {
     "name": "stdout",
     "output_type": "stream",
     "text": [
      "Main trainig loop:\n",
      "Epoch: 1\n",
      "Train: 100%|████████████████████████████████████| 52/52 [01:00<00:00,  1.16s/it]\n",
      "Eval: 100%|█████████████████████████████████████| 52/52 [00:34<00:00,  1.51it/s]\n",
      "Eval on train set: 0.6173308632713647\n",
      "Eval: 100%|█████████████████████████████████████| 17/17 [00:11<00:00,  1.48it/s]\n",
      "Eval on valid set: 0.6191504707801542\n",
      "Epoch: 2\n",
      "Train: 100%|████████████████████████████████████| 52/52 [00:51<00:00,  1.01it/s]\n",
      "Eval: 100%|█████████████████████████████████████| 52/52 [00:35<00:00,  1.48it/s]\n",
      "Eval on train set: 0.6106119303084484\n",
      "Eval: 100%|█████████████████████████████████████| 17/17 [00:11<00:00,  1.46it/s]\n",
      "Eval on valid set: 0.611606801679472\n",
      "Epoch: 3\n",
      "Train: 100%|████████████████████████████████████| 52/52 [01:22<00:00,  1.58s/it]\n",
      "Eval: 100%|█████████████████████████████████████| 52/52 [00:59<00:00,  1.15s/it]\n",
      "Eval on train set: 0.6266305739863833\n",
      "Eval: 100%|█████████████████████████████████████| 17/17 [00:19<00:00,  1.13s/it]\n",
      "Eval on valid set: 0.6223804048332181\n",
      "Epoch: 4\n",
      "Train:  94%|█████████████████████████████████▉  | 49/52 [01:12<00:03,  1.01s/it]"
     ]
    }
   ],
   "source": [
    "for valid_fold in range(1, num_folds):\n",
    "    for dataset in datasets:\n",
    "        config.test_fold = 0\n",
    "        config.valid_fold = valid_fold\n",
    "        config.train_datasets = tuple(dataset)\n",
    "        if config.pretrained:\n",
    "            config.name = config.hash() + f'_fold{valid_fold}' + '_pretrain'\n",
    "            print(config.name)\n",
    "            lib.pretrain.run_pretrain(config)\n",
    "            config.name = config.hash() + f'_fold{valid_fold}'\n",
    "            print(config.name)\n",
    "            lib.experiments_v2.run_experiments(config)\n",
    "        else:\n",
    "            config.name = config.hash() + f'_fold{valid_fold}'\n",
    "            lib.experiments_v2.run_experiments(config)   "
   ]
  },
  {
   "cell_type": "code",
   "execution_count": null,
   "id": "98a69c01-8c0c-4761-80e8-e474c7743537",
   "metadata": {},
   "outputs": [],
   "source": [
    "exit()"
   ]
  },
  {
   "cell_type": "code",
   "execution_count": null,
   "id": "e0f793a5-1776-40b3-9f71-9b2cae65cc21",
   "metadata": {},
   "outputs": [],
   "source": []
  }
 ],
 "metadata": {
  "kernelspec": {
   "display_name": "Python 3 (ipykernel)",
   "language": "python",
   "name": "python3"
  },
  "language_info": {
   "codemirror_mode": {
    "name": "ipython",
    "version": 3
   },
   "file_extension": ".py",
   "mimetype": "text/x-python",
   "name": "python",
   "nbconvert_exporter": "python",
   "pygments_lexer": "ipython3",
   "version": "3.10.11"
  }
 },
 "nbformat": 4,
 "nbformat_minor": 5
}
